{
 "cells": [
  {
   "cell_type": "markdown",
   "id": "cb469a7f",
   "metadata": {},
   "source": [
    "# Clean Air Vehicles vs Air Pollution by State"
   ]
  },
  {
   "cell_type": "markdown",
   "id": "1d5cb2a3",
   "metadata": {},
   "source": [
    "### Imports"
   ]
  },
  {
   "cell_type": "code",
   "execution_count": 2,
   "id": "cceb4d4e",
   "metadata": {},
   "outputs": [],
   "source": [
    "##  Imports\n",
    "\n",
    "import pandas as pd\n",
    "import numpy as np\n",
    "import csv\n",
    "import plotly.graph_objects as go\n",
    "import plotly.express as px\n",
    "import os\n",
    "import logging\n",
    "from dash import Dash, dcc, html, Input, Output\n"
   ]
  },
  {
   "cell_type": "markdown",
   "id": "b1266814",
   "metadata": {},
   "source": [
    "## Define states  "
   ]
  },
  {
   "cell_type": "code",
   "execution_count": 1,
   "id": "fa12d37f",
   "metadata": {},
   "outputs": [],
   "source": [
    "states = [ 'AK', 'AL', 'AR', 'AZ', 'CA', 'CO', 'CT', 'DC', 'DE', 'FL', 'GA',\n",
    "           'HI', 'IA', 'ID', 'IL', 'IN', 'KS', 'KY', 'LA', 'MA', 'MD', 'ME',\n",
    "           'MI', 'MN', 'MO', 'MS', 'MT', 'NC', 'ND', 'NE', 'NH', 'NJ', 'NM',\n",
    "           'NV', 'NY', 'OH', 'OK', 'OR', 'PA', 'RI', 'SC', 'SD', 'TN', 'TX',\n",
    "           'UT', 'VA', 'VT', 'WA', 'WI', 'WV', 'WY']\n",
    "\n",
    "state_dfs = {}\n",
    "\n"
   ]
  },
  {
   "cell_type": "markdown",
   "id": "07b6e649",
   "metadata": {},
   "source": [
    "### Borrowed state to abreviation dictionary from github"
   ]
  },
  {
   "cell_type": "code",
   "execution_count": 4,
   "id": "d4d47d04",
   "metadata": {},
   "outputs": [],
   "source": [
    "# United States of America Python Dictionary to translate States,\n",
    "# Districts & Territories to Two-Letter codes and vice versa.\n",
    "#\n",
    "# Canonical URL: https://gist.github.com/rogerallen/1583593\n",
    "#\n",
    "# Dedicated to the public domain.  To the extent possible under law,\n",
    "# Roger Allen has waived all copyright and related or neighboring\n",
    "# rights to this code.  Data originally from Wikipedia at the url:\n",
    "# https://en.wikipedia.org/wiki/ISO_3166-2:US\n",
    "#\n",
    "# Automatically Generated 2021-09-11 18:04:36 via Jupyter Notebook from\n",
    "# https://gist.github.com/rogerallen/d75440e8e5ea4762374dfd5c1ddf84e0 \n",
    "\n",
    "us_state_to_abbrev = {\n",
    "    \"Alabama\": \"AL\",\n",
    "    \"Alaska\": \"AK\",\n",
    "    \"Arizona\": \"AZ\",\n",
    "    \"Arkansas\": \"AR\",\n",
    "    \"California\": \"CA\",\n",
    "    \"Colorado\": \"CO\",\n",
    "    \"Connecticut\": \"CT\",\n",
    "    \"Delaware\": \"DE\",\n",
    "    \"Florida\": \"FL\",\n",
    "    \"Georgia\": \"GA\",\n",
    "    \"Hawaii\": \"HI\",\n",
    "    \"Idaho\": \"ID\",\n",
    "    \"Illinois\": \"IL\",\n",
    "    \"Indiana\": \"IN\",\n",
    "    \"Iowa\": \"IA\",\n",
    "    \"Kansas\": \"KS\",\n",
    "    \"Kentucky\": \"KY\",\n",
    "    \"Louisiana\": \"LA\",\n",
    "    \"Maine\": \"ME\",\n",
    "    \"Maryland\": \"MD\",\n",
    "    \"Massachusetts\": \"MA\",\n",
    "    \"Michigan\": \"MI\",\n",
    "    \"Minnesota\": \"MN\",\n",
    "    \"Mississippi\": \"MS\",\n",
    "    \"Missouri\": \"MO\",\n",
    "    \"Montana\": \"MT\",\n",
    "    \"Nebraska\": \"NE\",\n",
    "    \"Nevada\": \"NV\",\n",
    "    \"New Hampshire\": \"NH\",\n",
    "    \"New Jersey\": \"NJ\",\n",
    "    \"New Mexico\": \"NM\",\n",
    "    \"New York\": \"NY\",\n",
    "    \"North Carolina\": \"NC\",\n",
    "    \"North Dakota\": \"ND\",\n",
    "    \"Ohio\": \"OH\",\n",
    "    \"Oklahoma\": \"OK\",\n",
    "    \"Oregon\": \"OR\",\n",
    "    \"Pennsylvania\": \"PA\",\n",
    "    \"Rhode Island\": \"RI\",\n",
    "    \"South Carolina\": \"SC\",\n",
    "    \"South Dakota\": \"SD\",\n",
    "    \"Tennessee\": \"TN\",\n",
    "    \"Texas\": \"TX\",\n",
    "    \"Utah\": \"UT\",\n",
    "    \"Vermont\": \"VT\",\n",
    "    \"Virginia\": \"VA\",\n",
    "    \"Washington\": \"WA\",\n",
    "    \"West Virginia\": \"WV\",\n",
    "    \"Wisconsin\": \"WI\",\n",
    "    \"Wyoming\": \"WY\",\n",
    "    \"District of Columbia\": \"DC\",\n",
    "    \"American Samoa\": \"AS\",\n",
    "    \"Guam\": \"GU\",\n",
    "    \"Northern Mariana Islands\": \"MP\",\n",
    "    \"Puerto Rico\": \"PR\",\n",
    "    \"United States Minor Outlying Islands\": \"UM\",\n",
    "    \"U.S. Virgin Islands\": \"VI\",\n",
    "}\n",
    "    \n",
    "# invert the dictionary\n",
    "abbrev_to_us_state = dict(map(reversed, us_state_to_abbrev.items()))"
   ]
  },
  {
   "cell_type": "markdown",
   "id": "1ddfbfea",
   "metadata": {},
   "source": [
    "## Paths for all files and column names for each year"
   ]
  },
  {
   "cell_type": "code",
   "execution_count": 5,
   "id": "75a4663d",
   "metadata": {},
   "outputs": [],
   "source": [
    "# Updated list for each report.  Could not run all at same time due to changing header names\n",
    "pollutants = []\n",
    "# years = [2020, 2017, 2014, 2011, 2008]\n",
    "onroad_paths = {2020: [\n",
    "    \"/Users/ScottMcL/Documents/Coding_Temple/Capstone_2/nie_data/2020_nei_onroad_123.csv\",\n",
    "    \"/Users/ScottMcL/Documents/Coding_Temple/Capstone_2/nie_data/2020_nei_onroad_4.csv\",\n",
    "    \"/Users/ScottMcL/Documents/Coding_Temple/Capstone_2/nie_data/2020_nei_onroad_5.csv\",\n",
    "    \"/Users/ScottMcL/Documents/Coding_Temple/Capstone_2/nie_data/2020_nei_onroad_67.csv\",\n",
    "    \"/Users/ScottMcL/Documents/Coding_Temple/Capstone_2/nie_data/2020_nei_onroad_8910.csv\"\n",
    "                ],\n",
    "                2017: [\n",
    "    \"/Users/ScottMcL/Documents/Coding_Temple/Capstone_2/nie_data/2017_nei_onroad_123.csv\",\n",
    "    \"/Users/ScottMcL/Documents/Coding_Temple/Capstone_2/nie_data/2017_nei_onroad_4.csv\",\n",
    "    \"/Users/ScottMcL/Documents/Coding_Temple/Capstone_2/nie_data/2017_nei_onroad_5.csv\",\n",
    "    \"/Users/ScottMcL/Documents/Coding_Temple/Capstone_2/nie_data/2017_nei_onroad_67.csv\",\n",
    "    \"/Users/ScottMcL/Documents/Coding_Temple/Capstone_2/nie_data/2017_nei_onroad_8910.csv\"\n",
    "                ],\n",
    "                2014: [\n",
    "    \"/Users/ScottMcL/Documents/Coding_Temple/Capstone_2/nie_data/2014_nei_onroad_123.csv\",\n",
    "    \"/Users/ScottMcL/Documents/Coding_Temple/Capstone_2/nie_data/2014_nei_onroad_4.csv\",\n",
    "    \"/Users/ScottMcL/Documents/Coding_Temple/Capstone_2/nie_data/2014_nei_onroad_5.csv\",\n",
    "    \"/Users/ScottMcL/Documents/Coding_Temple/Capstone_2/nie_data/2014_nei_onroad_67.csv\",\n",
    "    \"/Users/ScottMcL/Documents/Coding_Temple/Capstone_2/nie_data/2014_nei_onroad_8910.csv\"\n",
    "                ],\n",
    "                2011: [\n",
    "    \"/Users/ScottMcL/Documents/Coding_Temple/Capstone_2/nie_data/2011_nei_onroad_123.csv\",\n",
    "    \"/Users/ScottMcL/Documents/Coding_Temple/Capstone_2/nie_data/2011_nei_onroad_4.csv\",\n",
    "    \"/Users/ScottMcL/Documents/Coding_Temple/Capstone_2/nie_data/2011_nei_onroad_5.csv\",\n",
    "    \"/Users/ScottMcL/Documents/Coding_Temple/Capstone_2/nie_data/2011_nei_onroad_67.csv\",\n",
    "    \"/Users/ScottMcL/Documents/Coding_Temple/Capstone_2/nie_data/2011_nei_onroad_8910.csv\"               \n",
    "                ],\n",
    "                2008: [\n",
    "    \"/Users/ScottMcL/Documents/Coding_Temple/Capstone_2/nie_data/2008NEIv3_onroad123.csv\",\n",
    "    \"/Users/ScottMcL/Documents/Coding_Temple/Capstone_2/nie_data/2008NEIv3_onroad4.csv\",\n",
    "    \"/Users/ScottMcL/Documents/Coding_Temple/Capstone_2/nie_data/2008NEIv3_onroad5.csv\",\n",
    "    \"/Users/ScottMcL/Documents/Coding_Temple/Capstone_2/nie_data/2008NEIv3_onroad67.csv\",\n",
    "    \"/Users/ScottMcL/Documents/Coding_Temple/Capstone_2/nie_data/2008NEIv3_onroad8910.csv\"\n",
    "                ]}\n",
    "\n",
    "state_column = {\n",
    "    2008:\"st_usps_cd\",\n",
    "    2011:\"st_usps_cd\",\n",
    "    2014:\"st_usps_cd\",\n",
    "    2017:\"state\",\n",
    "    2020:\"state\"\n",
    "}\n",
    "\n",
    "\n",
    "pol_descr_column = {\n",
    "    2008: \"description\",\n",
    "    2011: \"description\",\n",
    "    2014: \"pollutant_desc\",\n",
    "    2017: \"pollutant desc\",\n",
    "    2020: \"pollutant desc\"\n",
    "}\n",
    "\n",
    "\n",
    "\n",
    "tot_em_column = {\n",
    "    2008:\"total_emissions\",\n",
    "    2011:\"total_emissions\",\n",
    "    2014:\"total_emissions\",\n",
    "    2017:\"total emissions\",\n",
    "    2020:\"total emissions\"\n",
    "}\n",
    "\n",
    "uom_column = {\n",
    "    2008:\"uom\",\n",
    "    2011:\"uom\",\n",
    "    2014:\"uom\",\n",
    "    2017:\"emissions uom\",\n",
    "    2020:\"emissions uom\"\n",
    "}\n",
    "\n"
   ]
  },
  {
   "cell_type": "code",
   "execution_count": 6,
   "id": "c649e66e",
   "metadata": {},
   "outputs": [],
   "source": [
    "# Pollutants of Concern\n",
    "poc = [\n",
    "    'Carbon Dioxide',\n",
    "    'Carbon Monoxide',\n",
    "    'Chromium (VI)',\n",
    "    'Manganese',\n",
    "    'Mercury',\n",
    "    'Methane',\n",
    "    'Nickel',\n",
    "    'Nitrogen Oxides',\n",
    "    'Nitrous Oxide',\n",
    "    'PM10 Primary (Filt + Cond)',\n",
    "    'PM2.5 Primary (Filt + Cond)',\n",
    "    'Sulfur Dioxide',\n",
    "    'Volatile Organic Compounds'\n",
    "] \n",
    "\n",
    "# Symbols\n",
    "poc_symbols = {\n",
    "    'Carbon Dioxide':\"CO2\",\n",
    "    'Carbon Monoxide':'CO',\n",
    "    'Chromium (VI)': \"Cr VI\",\n",
    "    'Manganese': 'Mn',\n",
    "    'Mercury': 'Hg',\n",
    "    'Methane': 'CH4',\n",
    "    'Nickel': 'Ni',\n",
    "    'Nitrogen Oxides': 'NOx',\n",
    "    'Nitrous Oxide': 'N2O',\n",
    "    'PM10 Primary (Filt + Cond)': 'PM10 Prime',\n",
    "    'PM2.5 Primary (Filt + Cond)': 'PM2.5 Prime',\n",
    "    'Sulfur Dioxide':'SO2',\n",
    "    'Volatile Organic Compounds':\"VOC\"\n",
    "}\n",
    "\n",
    "# Units of Measure\n",
    "poc_uom = {\n",
    "        \"Carbon Dioxide\": \"Tons\",\n",
    "        'Carbon Monoxide':'Tons',\n",
    "        'Chromium (VI)':\"Lb's\",\n",
    "        'Manganese':\"Lb's\",\n",
    "        'Mercury':\"Lb's\",\n",
    "        'Methane':'Tons',\n",
    "        'Nickel':\"Lb's\",\n",
    "        'Nitrogen Oxides':'Tons',\n",
    "        'Nitrous Oxide':'Tons',\n",
    "        'PM10 Primary (Filt + Cond)':'Tons',\n",
    "        'PM2.5 Primary (Filt + Cond)':'Tons',\n",
    "        'Sulfur Dioxide':'Tons',\n",
    "        'Volatile Organic Compounds':'Tons'\n",
    "} \n",
    "\n",
    "# Health Pollutants\n",
    "poc_health = [\n",
    "    'Chromium (VI)',\n",
    "    'Manganese',\n",
    "    'Mercury',\n",
    "    'Nickel',\n",
    "    'Nitrogen Oxides',\n",
    "    'PM10 Primary (Filt + Cond)',\n",
    "    'PM2.5 Primary (Filt + Cond)',\n",
    "    'Sulfur Dioxide',\n",
    "    'Volatile Organic Compounds'\n",
    "] \n",
    "\n",
    "# Greenhouse Gasses\n",
    "poc_GHG = [\n",
    "    'Carbon Dioxide',\n",
    "    'Carbon Monoxide',\n",
    "    'Methane',\n",
    "    'Nitrous Oxide'\n",
    "] "
   ]
  },
  {
   "cell_type": "code",
   "execution_count": 7,
   "id": "97a69666",
   "metadata": {},
   "outputs": [],
   "source": [
    "# Top 11 and bottom 10 Clean Air Vehicle adoption states. Used 11 states for top because two were virtual ties\n",
    "top_10_CAV_states = ['CA','WA','OR','HI','VT','MA','MD','CO','NV','VA', 'AZ']\n",
    "bottom_10_CAV_states = ['MI', 'ND','LA','WY','AL','SD','WV','AR','OK','KY']\n",
    "\n",
    "top_and_bottom_CAV_states = [\n",
    "    'CA','WA','OR','HI','VT','MA','MD','CO','NV','VA', \n",
    "    'MI', 'ND','LA','WY','AL','SD','WV','AR','OK','KY'\n",
    "]\n",
    "\n",
    "years = [2008, 2011, 2014, 2017, 2020]\n",
    "\n"
   ]
  },
  {
   "cell_type": "code",
   "execution_count": 8,
   "id": "f89b1bf7",
   "metadata": {},
   "outputs": [],
   "source": [
    "# import population adata\n",
    "\n",
    "US_pop = pd.read_csv('/Users/ScottMcL/Documents/Coding_Temple/Capstone_2/US_pop_census - 2000_to_2020.csv',low_memory=False)\n"
   ]
  },
  {
   "cell_type": "code",
   "execution_count": 129,
   "id": "69646742",
   "metadata": {},
   "outputs": [
    {
     "name": "stdout",
     "output_type": "stream",
     "text": [
      "33987977\n",
      "<class 'numpy.int64'>\n"
     ]
    }
   ],
   "source": [
    "# US_pop.loc[US_pop[\"NAME\"] == abbrev_to_us_state[state]][f'POPESTIMATE{year}']\n",
    "\n",
    "# print(US_pop.loc[US_pop[\"NAME\"] == abbrev_to_us_state[\"WA\"]][f'POPESTIMATE{2008}'])\n",
    "\n",
    "# US_pop[abbrev_to_us_state[state]]\n",
    "\n",
    "pop = US_pop.loc[US_pop[\"NAME\"] == \"California\"][\"POPESTIMATE2000\"]\n",
    "print(pop.iloc[0])\n",
    "print(type(pop.iloc[0]))"
   ]
  },
  {
   "cell_type": "markdown",
   "id": "cfebebcc",
   "metadata": {},
   "source": [
    "## Main script for transforming NEI raw data to desired data frame"
   ]
  },
  {
   "cell_type": "code",
   "execution_count": 131,
   "id": "6e3e9575",
   "metadata": {},
   "outputs": [
    {
     "name": "stdout",
     "output_type": "stream",
     "text": [
      "\n",
      "Working on 2008\n",
      "\n",
      "Opening /Users/ScottMcL/Documents/Coding_Temple/Capstone_2/nie_data/2008NEIv3_onroad123.csv\n",
      "\n",
      "Opening /Users/ScottMcL/Documents/Coding_Temple/Capstone_2/nie_data/2008NEIv3_onroad4.csv\n",
      "\n",
      "Opening /Users/ScottMcL/Documents/Coding_Temple/Capstone_2/nie_data/2008NEIv3_onroad5.csv\n",
      "\n",
      "Opening /Users/ScottMcL/Documents/Coding_Temple/Capstone_2/nie_data/2008NEIv3_onroad67.csv\n",
      "\n",
      "Opening /Users/ScottMcL/Documents/Coding_Temple/Capstone_2/nie_data/2008NEIv3_onroad8910.csv\n",
      "\n",
      "Working on 2011\n",
      "\n",
      "Opening /Users/ScottMcL/Documents/Coding_Temple/Capstone_2/nie_data/2011_nei_onroad_123.csv\n",
      "\n",
      "Opening /Users/ScottMcL/Documents/Coding_Temple/Capstone_2/nie_data/2011_nei_onroad_4.csv\n",
      "\n",
      "Opening /Users/ScottMcL/Documents/Coding_Temple/Capstone_2/nie_data/2011_nei_onroad_5.csv\n",
      "\n",
      "Opening /Users/ScottMcL/Documents/Coding_Temple/Capstone_2/nie_data/2011_nei_onroad_67.csv\n",
      "\n",
      "Opening /Users/ScottMcL/Documents/Coding_Temple/Capstone_2/nie_data/2011_nei_onroad_8910.csv\n",
      "\n",
      "Working on 2014\n",
      "\n",
      "Opening /Users/ScottMcL/Documents/Coding_Temple/Capstone_2/nie_data/2014_nei_onroad_123.csv\n",
      "\n",
      "Opening /Users/ScottMcL/Documents/Coding_Temple/Capstone_2/nie_data/2014_nei_onroad_4.csv\n",
      "\n",
      "Opening /Users/ScottMcL/Documents/Coding_Temple/Capstone_2/nie_data/2014_nei_onroad_5.csv\n",
      "\n",
      "Opening /Users/ScottMcL/Documents/Coding_Temple/Capstone_2/nie_data/2014_nei_onroad_67.csv\n",
      "\n",
      "Opening /Users/ScottMcL/Documents/Coding_Temple/Capstone_2/nie_data/2014_nei_onroad_8910.csv\n",
      "\n",
      "Working on 2017\n",
      "\n",
      "Opening /Users/ScottMcL/Documents/Coding_Temple/Capstone_2/nie_data/2017_nei_onroad_123.csv\n",
      "\n",
      "Opening /Users/ScottMcL/Documents/Coding_Temple/Capstone_2/nie_data/2017_nei_onroad_4.csv\n",
      "\n",
      "Opening /Users/ScottMcL/Documents/Coding_Temple/Capstone_2/nie_data/2017_nei_onroad_5.csv\n",
      "\n",
      "Opening /Users/ScottMcL/Documents/Coding_Temple/Capstone_2/nie_data/2017_nei_onroad_67.csv\n",
      "\n",
      "Opening /Users/ScottMcL/Documents/Coding_Temple/Capstone_2/nie_data/2017_nei_onroad_8910.csv\n",
      "\n",
      "Working on 2020\n",
      "\n",
      "Opening /Users/ScottMcL/Documents/Coding_Temple/Capstone_2/nie_data/2020_nei_onroad_123.csv\n",
      "\n",
      "Opening /Users/ScottMcL/Documents/Coding_Temple/Capstone_2/nie_data/2020_nei_onroad_4.csv\n",
      "\n",
      "Opening /Users/ScottMcL/Documents/Coding_Temple/Capstone_2/nie_data/2020_nei_onroad_5.csv\n",
      "\n",
      "Opening /Users/ScottMcL/Documents/Coding_Temple/Capstone_2/nie_data/2020_nei_onroad_67.csv\n",
      "\n",
      "Opening /Users/ScottMcL/Documents/Coding_Temple/Capstone_2/nie_data/2020_nei_onroad_8910.csv\n",
      "\n",
      "Creating nei_by_pollutant.csv\n",
      "\n",
      "Creating top_CAV_nei_by_pollutant.csv\n",
      "\n",
      "Creating low_CAV_nei_by_pollutant.csv\n"
     ]
    }
   ],
   "source": [
    "# df for all 21 states studied\n",
    "nei_by_pollutant = pd.DataFrame({\n",
    "    \"Pollutant\":pd.Series(dtype='str'),\n",
    "    \"Symbol\": pd.Series(dtype='str'),\n",
    "    \"State\":pd.Series(dtype='str'),\n",
    "    \"State_name\":pd.Series(dtype='str'),\n",
    "    \"CAV_adoption\":pd.Series(dtype='str'),\n",
    "    \"Year\":pd.Series(dtype='int'),\n",
    "    \"Concern\":pd.Series(dtype='str'),\n",
    "    \"Total Emissions\":pd.Series(dtype='float'),\n",
    "    \"Emmisions_per_100k\":pd.Series(dtype='float'),\n",
    "    \"UOM\":pd.Series(dtype='str')\n",
    "}, index = [\"Pollutant\"])\n",
    "\n",
    "#df for states with high CAV use\n",
    "high_CAV_nei_by_pollutant = pd.DataFrame({\n",
    "    \"Pollutant\":pd.Series(dtype='str'),\n",
    "    \"Symbol\": pd.Series(dtype='str'),\n",
    "    \"State\":pd.Series(dtype='str'),\n",
    "    \"State_name\":pd.Series(dtype='str'),\n",
    "    \"CAV_adoption\":pd.Series(dtype='str'),\n",
    "    \"Year\":pd.Series(dtype='int'),\n",
    "    \"Concern\":pd.Series(dtype='str'),\n",
    "    \"Total Emissions\":pd.Series(dtype='float'),\n",
    "    \"Emmisions_per_100k\":pd.Series(dtype='float'),\n",
    "    \"UOM\":pd.Series(dtype='str')\n",
    "}, index = [\"Pollutant\"])\n",
    "\n",
    "#df for states with low CAV use\n",
    "low_CAV_nei_by_pollutant = pd.DataFrame({\n",
    "    \"Pollutant\":pd.Series(dtype='str'),\n",
    "    \"Symbol\": pd.Series(dtype='str'),\n",
    "    \"State\":pd.Series(dtype='str'),\n",
    "    \"State_name\":pd.Series(dtype='str'),\n",
    "    \"CAV_adoption\":pd.Series(dtype='str'),\n",
    "    \"Year\":pd.Series(dtype='int'),\n",
    "    \"Concern\":pd.Series(dtype='str'),\n",
    "    \"Total Emissions\":pd.Series(dtype='float'),\n",
    "    \"Emmisions_per_100k\":pd.Series(dtype='float'),\n",
    "    \"UOM\":pd.Series(dtype='str')\n",
    "}, index = [\"Pollutant\"])\n",
    "\n",
    "logging.basicConfig(filename='nei_by_pollutant.log')\n",
    "\n",
    "for year in years:\n",
    "    print(f'\\nWorking on {year}')\n",
    "    logging.info(f'\\nWorking on {year}')\n",
    "    for path in onroad_paths[year]:\n",
    "        print(f'\\nOpening {path}')\n",
    "        logging.info('\\nOpening {path}')\n",
    "        onroad = pd.read_csv(path,low_memory=False)\n",
    "\n",
    "        state_pollutants = onroad.groupby([state_column[year], pol_descr_column[year]], sort = False)[tot_em_column[year]].sum()\n",
    "\n",
    "#         for debugging:\n",
    "#         print(state_pollutants.head(n=5))\n",
    "        state_pollutants.to_csv(f'state_pollutants_{year}_{path[-8:-4]}.csv')\n",
    "        \n",
    "        for state in top_and_bottom_CAV_states:\n",
    "            \n",
    "            if state in onroad[state_column[year]].unique():\n",
    "                logging.info(f\"Found {abbrev_to_us_state[state]} in file.\")\n",
    "                state_in_file = True\n",
    "            else:\n",
    "                state_in_file = False\n",
    "                logging.info(f'{abbrev_to_us_state[state]} not in file.')\n",
    "            \n",
    "            if state_in_file:\n",
    "                for pollutant in poc:\n",
    "                                       \n",
    "                    if pollutant in poc_health:\n",
    "                        concern = \"Health\"\n",
    "                    elif pollutant in poc_GHG:\n",
    "                        concern = \"GHG\"\n",
    "                    else:\n",
    "                        concern = \"Error\"\n",
    "\n",
    "                    if state in top_10_CAV_states:\n",
    "                        adoption = \"HIGH\"\n",
    "                    else:\n",
    "                        adoption = \"LOW\"\n",
    "                    \n",
    "                    \n",
    "                    \n",
    "                    if (state, pollutant) in state_pollutants:\n",
    "                        \n",
    "                        pop = US_pop.loc[US_pop[\"NAME\"] == abbrev_to_us_state[state]][f\"POPESTIMATE{year}\"]\n",
    "                        emissions_per_100k = 100000 * state_pollutants[state, pollutant] / pop.iloc[0]\n",
    "                        \n",
    "#                         for debugging:\n",
    "#                         print(f'\\n{state} {pollutant} per 100k = {emissions_per_100k} {poc_uom[pollutant]}\\n')\n",
    "#                         print(f'dtype of emissions_per_100k: {type(emissions_per_100k)}')\n",
    "#                         print(f'\\nType of state_pollutants[state, pollutant]: {type(state_pollutants[state, pollutant])}')\n",
    "#                         print(f'Type of US_pop.loc[US_pop[\"NAME\"] == abbrev_to_us_state[state]]: {type(US_pop.loc[US_pop[\"NAME\"] == abbrev_to_us_state[state]])}')\n",
    "#                         print(f'Type of US_pop.loc[US_pop[\"NAME\"] == abbrev_to_us_state[state]][f\"POPESTIMATE{year}\"]: {type(US_pop.loc[US_pop[\"NAME\"] == abbrev_to_us_state[state]][f\"POPESTIMATE{year}\"])}')\n",
    "#                         print(f\"Type of US_pop.loc[US_pop[abbrev_to_us_state[state]][f'POPESTIMATE{year}']]: {type(US_pop.loc[US_pop[abbrev_to_us_state[state]][f'POPESTIMATE{year}']])}\")\n",
    "                        \n",
    "                        new_row = pd.DataFrame({\n",
    "                            \"Pollutant\": pollutant, \n",
    "                            \"Symbol\":poc_symbols[pollutant],\n",
    "                            \"Concern\": concern,\n",
    "                            \"State\": state,\n",
    "                            \"State_name\":abbrev_to_us_state[state],\n",
    "                            \"CAV_adoption\": adoption,\n",
    "                            \"Year\": int(year),\n",
    "                            \"Total_Emissions\": state_pollutants[state, pollutant],\n",
    "                            \"Emissions_per_100k\": emissions_per_100k,\n",
    "                            \"UOM\": poc_uom[pollutant]\n",
    "                        }, index = [\"Pollutant\"]) \n",
    "\n",
    "\n",
    "                        nei_by_pollutant = pd.concat([nei_by_pollutant,new_row], ignore_index = False)\n",
    "                        \n",
    "                        if state in top_10_CAV_states:\n",
    "                            high_CAV_nei_by_pollutant = pd.concat([high_CAV_nei_by_pollutant,new_row], ignore_index = False)\n",
    "                        elif state in bottom_10_CAV_states:\n",
    "                            low_CAV_nei_by_pollutant = pd.concat([low_CAV_nei_by_pollutant,new_row], ignore_index = False)\n",
    "                    else:\n",
    "                        logging.warning(f'({state}, {pollutant}) not found in state_pollutants.')\n",
    "            else:\n",
    "                continue\n",
    "\n",
    "print(\"\\nCreating nei_by_pollutant.csv\")\n",
    "logging.info(\"\\nCreating nei_by_pollutant.csv\")\n",
    "nei_by_pollutant.to_csv('nei_by_pollutant.csv')\n",
    "\n",
    "print(\"\\nCreating top_CAV_nei_by_pollutant.csv\")\n",
    "logging.info(\"\\nCreating top_CAV_nei_by_pollutant.csv\")\n",
    "high_CAV_nei_by_pollutant.to_csv('high_CAV_nei_by_pollutant.csv')\n",
    "\n",
    "print(\"\\nCreating low_CAV_nei_by_pollutant.csv\")\n",
    "logging.info(\"\\nCreating low_CAV_nei_by_pollutant.csv\")\n",
    "low_CAV_nei_by_pollutant.to_csv('low_CAV_nei_by_pollutant.csv')\n",
    "        "
   ]
  },
  {
   "cell_type": "code",
   "execution_count": 20,
   "id": "83fa2039",
   "metadata": {},
   "outputs": [
    {
     "data": {
      "text/html": [
       "<div>\n",
       "<style scoped>\n",
       "    .dataframe tbody tr th:only-of-type {\n",
       "        vertical-align: middle;\n",
       "    }\n",
       "\n",
       "    .dataframe tbody tr th {\n",
       "        vertical-align: top;\n",
       "    }\n",
       "\n",
       "    .dataframe thead th {\n",
       "        text-align: right;\n",
       "    }\n",
       "</style>\n",
       "<table border=\"1\" class=\"dataframe\">\n",
       "  <thead>\n",
       "    <tr style=\"text-align: right;\">\n",
       "      <th></th>\n",
       "      <th>Pollutant</th>\n",
       "      <th>Symbol</th>\n",
       "      <th>State</th>\n",
       "      <th>State_name</th>\n",
       "      <th>CAV_adoption</th>\n",
       "      <th>Year</th>\n",
       "      <th>Concern</th>\n",
       "      <th>Total Emissions</th>\n",
       "      <th>Emmisions_per_100k</th>\n",
       "      <th>UOM</th>\n",
       "    </tr>\n",
       "  </thead>\n",
       "  <tbody>\n",
       "    <tr>\n",
       "      <th>0</th>\n",
       "      <td>Carbon Dioxide</td>\n",
       "      <td>CO2</td>\n",
       "      <td>VT</td>\n",
       "      <td>Vermont</td>\n",
       "      <td>High CAV adoption</td>\n",
       "      <td>2008</td>\n",
       "      <td>GHG</td>\n",
       "      <td>3.631471e+06</td>\n",
       "      <td>581825.741700</td>\n",
       "      <td>Tons</td>\n",
       "    </tr>\n",
       "    <tr>\n",
       "      <th>1</th>\n",
       "      <td>Carbon Monoxide</td>\n",
       "      <td>CO</td>\n",
       "      <td>VT</td>\n",
       "      <td>Vermont</td>\n",
       "      <td>High CAV adoption</td>\n",
       "      <td>2008</td>\n",
       "      <td>GHG</td>\n",
       "      <td>6.671013e+04</td>\n",
       "      <td>10688.139530</td>\n",
       "      <td>Tons</td>\n",
       "    </tr>\n",
       "    <tr>\n",
       "      <th>2</th>\n",
       "      <td>Chromium (VI)</td>\n",
       "      <td>Cr VI</td>\n",
       "      <td>VT</td>\n",
       "      <td>Vermont</td>\n",
       "      <td>High CAV adoption</td>\n",
       "      <td>2008</td>\n",
       "      <td>Health</td>\n",
       "      <td>6.162756e+01</td>\n",
       "      <td>9.873823</td>\n",
       "      <td>Lb's</td>\n",
       "    </tr>\n",
       "    <tr>\n",
       "      <th>3</th>\n",
       "      <td>Manganese</td>\n",
       "      <td>Mn</td>\n",
       "      <td>VT</td>\n",
       "      <td>Vermont</td>\n",
       "      <td>High CAV adoption</td>\n",
       "      <td>2008</td>\n",
       "      <td>Health</td>\n",
       "      <td>3.047231e+01</td>\n",
       "      <td>4.882202</td>\n",
       "      <td>Lb's</td>\n",
       "    </tr>\n",
       "    <tr>\n",
       "      <th>4</th>\n",
       "      <td>Mercury</td>\n",
       "      <td>Hg</td>\n",
       "      <td>VT</td>\n",
       "      <td>Vermont</td>\n",
       "      <td>High CAV adoption</td>\n",
       "      <td>2008</td>\n",
       "      <td>Health</td>\n",
       "      <td>1.761573e+00</td>\n",
       "      <td>0.282235</td>\n",
       "      <td>Lb's</td>\n",
       "    </tr>\n",
       "  </tbody>\n",
       "</table>\n",
       "</div>"
      ],
      "text/plain": [
       "         Pollutant Symbol State State_name       CAV_adoption  Year Concern  \\\n",
       "0   Carbon Dioxide    CO2    VT    Vermont  High CAV adoption  2008     GHG   \n",
       "1  Carbon Monoxide     CO    VT    Vermont  High CAV adoption  2008     GHG   \n",
       "2    Chromium (VI)  Cr VI    VT    Vermont  High CAV adoption  2008  Health   \n",
       "3        Manganese     Mn    VT    Vermont  High CAV adoption  2008  Health   \n",
       "4          Mercury     Hg    VT    Vermont  High CAV adoption  2008  Health   \n",
       "\n",
       "   Total Emissions  Emmisions_per_100k   UOM  \n",
       "0     3.631471e+06       581825.741700  Tons  \n",
       "1     6.671013e+04        10688.139530  Tons  \n",
       "2     6.162756e+01            9.873823  Lb's  \n",
       "3     3.047231e+01            4.882202  Lb's  \n",
       "4     1.761573e+00            0.282235  Lb's  "
      ]
     },
     "execution_count": 20,
     "metadata": {},
     "output_type": "execute_result"
    }
   ],
   "source": [
    "nei_by_pollutant = pd.read_csv('nei_by_pollutant.csv')\n",
    "nei_by_pollutant.head()"
   ]
  },
  {
   "cell_type": "markdown",
   "id": "5772b897",
   "metadata": {},
   "source": [
    "## Health Pollutant Plots"
   ]
  },
  {
   "cell_type": "code",
   "execution_count": 30,
   "id": "b241cd79",
   "metadata": {},
   "outputs": [
    {
     "data": {
      "application/vnd.plotly.v1+json": {
       "config": {
        "plotlyServerURL": "https://plot.ly"
       },
       "data": [
        {
         "hovertemplate": "<b>%{hovertext}</b><br><br>State=VT<br>=%{x}<br>Lb's of annual emissions per 100k of population=%{y}<extra></extra>",
         "hovertext": [
          "High CAV adoption",
          "High CAV adoption",
          "High CAV adoption",
          "High CAV adoption",
          "High CAV adoption"
         ],
         "legendgroup": "VT",
         "line": {
          "color": "#636efa",
          "dash": "solid"
         },
         "marker": {
          "symbol": "circle"
         },
         "mode": "lines",
         "name": "VT",
         "orientation": "v",
         "showlegend": true,
         "type": "scatter",
         "x": [
          2008,
          2011,
          2014,
          2017,
          2020
         ],
         "xaxis": "x",
         "y": [
          9.873822527,
          0.03045940457,
          0.02981752189,
          0.03105018068,
          0.0244625919
         ],
         "yaxis": "y"
        },
        {
         "hovertemplate": "<b>%{hovertext}</b><br><br>State=MA<br>=%{x}<br>Lb's of annual emissions per 100k of population=%{y}<extra></extra>",
         "hovertext": [
          "High CAV adoption",
          "High CAV adoption",
          "High CAV adoption",
          "High CAV adoption",
          "High CAV adoption"
         ],
         "legendgroup": "MA",
         "line": {
          "color": "#EF553B",
          "dash": "solid"
         },
         "marker": {
          "symbol": "circle"
         },
         "mode": "lines",
         "name": "MA",
         "orientation": "v",
         "showlegend": true,
         "type": "scatter",
         "x": [
          2008,
          2011,
          2014,
          2017,
          2020
         ],
         "xaxis": "x",
         "y": [
          7.128383394,
          0.02176572353,
          0.02132152195,
          0.02371931692,
          0.01985274362
         ],
         "yaxis": "y"
        },
        {
         "hovertemplate": "<b>%{hovertext}</b><br><br>State=MD<br>=%{x}<br>Lb's of annual emissions per 100k of population=%{y}<extra></extra>",
         "hovertext": [
          "High CAV adoption",
          "High CAV adoption",
          "High CAV adoption",
          "High CAV adoption",
          "High CAV adoption"
         ],
         "legendgroup": "MD",
         "line": {
          "color": "#00cc96",
          "dash": "solid"
         },
         "marker": {
          "symbol": "circle"
         },
         "mode": "lines",
         "name": "MD",
         "orientation": "v",
         "showlegend": true,
         "type": "scatter",
         "x": [
          2008,
          2011,
          2014,
          2017,
          2020
         ],
         "xaxis": "x",
         "y": [
          8.383102278,
          0.02560293945,
          0.02492901007,
          0.02576621644,
          0.02098021963
         ],
         "yaxis": "y"
        },
        {
         "hovertemplate": "<b>%{hovertext}</b><br><br>State=VA<br>=%{x}<br>Lb's of annual emissions per 100k of population=%{y}<extra></extra>",
         "hovertext": [
          "High CAV adoption",
          "High CAV adoption",
          "High CAV adoption",
          "High CAV adoption",
          "High CAV adoption"
         ],
         "legendgroup": "VA",
         "line": {
          "color": "#ab63fa",
          "dash": "solid"
         },
         "marker": {
          "symbol": "circle"
         },
         "mode": "lines",
         "name": "VA",
         "orientation": "v",
         "showlegend": true,
         "type": "scatter",
         "x": [
          2008,
          2011,
          2014,
          2017,
          2020
         ],
         "xaxis": "x",
         "y": [
          8.860327682,
          0.02770916998,
          0.02676042352,
          0.02610761789,
          0.02251396725
         ],
         "yaxis": "y"
        },
        {
         "hovertemplate": "<b>%{hovertext}</b><br><br>State=WV<br>=%{x}<br>Lb's of annual emissions per 100k of population=%{y}<extra></extra>",
         "hovertext": [
          "Low CAV adoption",
          "Low CAV adoption",
          "Low CAV adoption",
          "Low CAV adoption",
          "Low CAV adoption"
         ],
         "legendgroup": "WV",
         "line": {
          "color": "#FFA15A",
          "dash": "solid"
         },
         "marker": {
          "symbol": "circle"
         },
         "mode": "lines",
         "name": "WV",
         "orientation": "v",
         "showlegend": true,
         "type": "scatter",
         "x": [
          2008,
          2011,
          2014,
          2017,
          2020
         ],
         "xaxis": "x",
         "y": [
          9.415859965,
          0.02587399259,
          0.02810979149,
          0.02801837775,
          0.02126073782
         ],
         "yaxis": "y"
        },
        {
         "hovertemplate": "<b>%{hovertext}</b><br><br>State=AL<br>=%{x}<br>Lb's of annual emissions per 100k of population=%{y}<extra></extra>",
         "hovertext": [
          "Low CAV adoption",
          "Low CAV adoption",
          "Low CAV adoption",
          "Low CAV adoption",
          "Low CAV adoption"
         ],
         "legendgroup": "AL",
         "line": {
          "color": "#19d3f3",
          "dash": "solid"
         },
         "marker": {
          "symbol": "circle"
         },
         "mode": "lines",
         "name": "AL",
         "orientation": "v",
         "showlegend": true,
         "type": "scatter",
         "x": [
          2008,
          2011,
          2014,
          2017,
          2020
         ],
         "xaxis": "x",
         "y": [
          10.52693982,
          0.03644191559,
          0.0359183781,
          0.03745126785,
          0.03441084461
         ],
         "yaxis": "y"
        },
        {
         "hovertemplate": "<b>%{hovertext}</b><br><br>State=KY<br>=%{x}<br>Lb's of annual emissions per 100k of population=%{y}<extra></extra>",
         "hovertext": [
          "Low CAV adoption",
          "Low CAV adoption",
          "Low CAV adoption",
          "Low CAV adoption",
          "Low CAV adoption"
         ],
         "legendgroup": "KY",
         "line": {
          "color": "#FF6692",
          "dash": "solid"
         },
         "marker": {
          "symbol": "circle"
         },
         "mode": "lines",
         "name": "KY",
         "orientation": "v",
         "showlegend": true,
         "type": "scatter",
         "x": [
          2008,
          2011,
          2014,
          2017,
          2020
         ],
         "xaxis": "x",
         "y": [
          9.168639065,
          0.0303524796,
          0.02885571948,
          0.02857332847,
          0.02597925641
         ],
         "yaxis": "y"
        },
        {
         "hovertemplate": "<b>%{hovertext}</b><br><br>State=MI<br>=%{x}<br>Lb's of annual emissions per 100k of population=%{y}<extra></extra>",
         "hovertext": [
          "Low CAV adoption",
          "Low CAV adoption",
          "Low CAV adoption",
          "Low CAV adoption",
          "Low CAV adoption"
         ],
         "legendgroup": "MI",
         "line": {
          "color": "#B6E880",
          "dash": "solid"
         },
         "marker": {
          "symbol": "circle"
         },
         "mode": "lines",
         "name": "MI",
         "orientation": "v",
         "showlegend": true,
         "type": "scatter",
         "x": [
          2008,
          2011,
          2014,
          2017,
          2020
         ],
         "xaxis": "x",
         "y": [
          8.319453593,
          0.02658871164,
          0.02548586041,
          0.02589447828,
          0.02199968474
         ],
         "yaxis": "y"
        },
        {
         "hovertemplate": "<b>%{hovertext}</b><br><br>State=LA<br>=%{x}<br>Lb's of annual emissions per 100k of population=%{y}<extra></extra>",
         "hovertext": [
          "Low CAV adoption",
          "Low CAV adoption",
          "Low CAV adoption",
          "Low CAV adoption",
          "Low CAV adoption"
         ],
         "legendgroup": "LA",
         "line": {
          "color": "#FF97FF",
          "dash": "solid"
         },
         "marker": {
          "symbol": "circle"
         },
         "mode": "lines",
         "name": "LA",
         "orientation": "v",
         "showlegend": true,
         "type": "scatter",
         "x": [
          2008,
          2011,
          2014,
          2017,
          2020
         ],
         "xaxis": "x",
         "y": [
          8.60859435,
          0.02726113804,
          0.02736139113,
          0.02672127373,
          0.02545240721
         ],
         "yaxis": "y"
        },
        {
         "hovertemplate": "<b>%{hovertext}</b><br><br>State=AR<br>=%{x}<br>Lb's of annual emissions per 100k of population=%{y}<extra></extra>",
         "hovertext": [
          "Low CAV adoption",
          "Low CAV adoption",
          "Low CAV adoption",
          "Low CAV adoption",
          "Low CAV adoption"
         ],
         "legendgroup": "AR",
         "line": {
          "color": "#FECB52",
          "dash": "solid"
         },
         "marker": {
          "symbol": "circle"
         },
         "mode": "lines",
         "name": "AR",
         "orientation": "v",
         "showlegend": true,
         "type": "scatter",
         "x": [
          2008,
          2011,
          2014,
          2017,
          2020
         ],
         "xaxis": "x",
         "y": [
          9.385102447,
          0.03036909237,
          0.03039416507,
          0.03090352969,
          0.02730123213
         ],
         "yaxis": "y"
        },
        {
         "hovertemplate": "<b>%{hovertext}</b><br><br>State=OK<br>=%{x}<br>Lb's of annual emissions per 100k of population=%{y}<extra></extra>",
         "hovertext": [
          "Low CAV adoption",
          "Low CAV adoption",
          "Low CAV adoption",
          "Low CAV adoption",
          "Low CAV adoption"
         ],
         "legendgroup": "OK",
         "line": {
          "color": "#636efa",
          "dash": "solid"
         },
         "marker": {
          "symbol": "circle"
         },
         "mode": "lines",
         "name": "OK",
         "orientation": "v",
         "showlegend": true,
         "type": "scatter",
         "x": [
          2008,
          2011,
          2014,
          2017,
          2020
         ],
         "xaxis": "x",
         "y": [
          11.00570209,
          0.03373261179,
          0.03233377067,
          0.03213209526,
          0.02464937045
         ],
         "yaxis": "y"
        },
        {
         "hovertemplate": "<b>%{hovertext}</b><br><br>State=WA<br>=%{x}<br>Lb's of annual emissions per 100k of population=%{y}<extra></extra>",
         "hovertext": [
          "High CAV adoption",
          "High CAV adoption",
          "High CAV adoption",
          "High CAV adoption",
          "High CAV adoption"
         ],
         "legendgroup": "WA",
         "line": {
          "color": "#EF553B",
          "dash": "solid"
         },
         "marker": {
          "symbol": "circle"
         },
         "mode": "lines",
         "name": "WA",
         "orientation": "v",
         "showlegend": true,
         "type": "scatter",
         "x": [
          2008,
          2011,
          2014,
          2017,
          2020
         ],
         "xaxis": "x",
         "y": [
          7.053827597,
          0.02256524588,
          0.02188871977,
          0.02137424612,
          0.01715621502
         ],
         "yaxis": "y"
        },
        {
         "hovertemplate": "<b>%{hovertext}</b><br><br>State=OR<br>=%{x}<br>Lb's of annual emissions per 100k of population=%{y}<extra></extra>",
         "hovertext": [
          "High CAV adoption",
          "High CAV adoption",
          "High CAV adoption",
          "High CAV adoption",
          "High CAV adoption"
         ],
         "legendgroup": "OR",
         "line": {
          "color": "#00cc96",
          "dash": "solid"
         },
         "marker": {
          "symbol": "circle"
         },
         "mode": "lines",
         "name": "OR",
         "orientation": "v",
         "showlegend": true,
         "type": "scatter",
         "x": [
          2008,
          2011,
          2014,
          2017,
          2020
         ],
         "xaxis": "x",
         "y": [
          7.470801505,
          0.02279855003,
          0.02224571913,
          0.02275800575,
          0.01830145999
         ],
         "yaxis": "y"
        },
        {
         "hovertemplate": "<b>%{hovertext}</b><br><br>State=HI<br>=%{x}<br>Lb's of annual emissions per 100k of population=%{y}<extra></extra>",
         "hovertext": [
          "High CAV adoption",
          "High CAV adoption",
          "High CAV adoption",
          "High CAV adoption",
          "High CAV adoption"
         ],
         "legendgroup": "HI",
         "line": {
          "color": "#ab63fa",
          "dash": "solid"
         },
         "marker": {
          "symbol": "circle"
         },
         "mode": "lines",
         "name": "HI",
         "orientation": "v",
         "showlegend": true,
         "type": "scatter",
         "x": [
          2008,
          2011,
          2014,
          2017,
          2020
         ],
         "xaxis": "x",
         "y": [
          1.515939254,
          0.01873912415,
          0.01824614807,
          0.01976797214,
          0.01576728444
         ],
         "yaxis": "y"
        },
        {
         "hovertemplate": "<b>%{hovertext}</b><br><br>State=CO<br>=%{x}<br>Lb's of annual emissions per 100k of population=%{y}<extra></extra>",
         "hovertext": [
          "High CAV adoption",
          "High CAV adoption",
          "High CAV adoption",
          "High CAV adoption",
          "High CAV adoption"
         ],
         "legendgroup": "CO",
         "line": {
          "color": "#FFA15A",
          "dash": "solid"
         },
         "marker": {
          "symbol": "circle"
         },
         "mode": "lines",
         "name": "CO",
         "orientation": "v",
         "showlegend": true,
         "type": "scatter",
         "x": [
          2008,
          2011,
          2014,
          2017,
          2020
         ],
         "xaxis": "x",
         "y": [
          8.315117126,
          0.02431348241,
          0.02431080372,
          0.02467973078,
          0.02093163995
         ],
         "yaxis": "y"
        },
        {
         "hovertemplate": "<b>%{hovertext}</b><br><br>State=NV<br>=%{x}<br>Lb's of annual emissions per 100k of population=%{y}<extra></extra>",
         "hovertext": [
          "High CAV adoption",
          "High CAV adoption",
          "High CAV adoption",
          "High CAV adoption",
          "High CAV adoption"
         ],
         "legendgroup": "NV",
         "line": {
          "color": "#19d3f3",
          "dash": "solid"
         },
         "marker": {
          "symbol": "circle"
         },
         "mode": "lines",
         "name": "NV",
         "orientation": "v",
         "showlegend": true,
         "type": "scatter",
         "x": [
          2008,
          2011,
          2014,
          2017,
          2020
         ],
         "xaxis": "x",
         "y": [
          6.676585488,
          0.0249591995,
          0.02378606953,
          0.02273768948,
          0.01953370441
         ],
         "yaxis": "y"
        },
        {
         "hovertemplate": "<b>%{hovertext}</b><br><br>State=ND<br>=%{x}<br>Lb's of annual emissions per 100k of population=%{y}<extra></extra>",
         "hovertext": [
          "Low CAV adoption",
          "Low CAV adoption",
          "Low CAV adoption",
          "Low CAV adoption",
          "Low CAV adoption"
         ],
         "legendgroup": "ND",
         "line": {
          "color": "#FF6692",
          "dash": "solid"
         },
         "marker": {
          "symbol": "circle"
         },
         "mode": "lines",
         "name": "ND",
         "orientation": "v",
         "showlegend": true,
         "type": "scatter",
         "x": [
          2008,
          2011,
          2014,
          2017,
          2020
         ],
         "xaxis": "x",
         "y": [
          9.785687279,
          0.03611424955,
          0.03812761191,
          0.03296146714,
          0.02734880051
         ],
         "yaxis": "y"
        },
        {
         "hovertemplate": "<b>%{hovertext}</b><br><br>State=WY<br>=%{x}<br>Lb's of annual emissions per 100k of population=%{y}<extra></extra>",
         "hovertext": [
          "Low CAV adoption",
          "Low CAV adoption",
          "Low CAV adoption",
          "Low CAV adoption",
          "Low CAV adoption"
         ],
         "legendgroup": "WY",
         "line": {
          "color": "#B6E880",
          "dash": "solid"
         },
         "marker": {
          "symbol": "circle"
         },
         "mode": "lines",
         "name": "WY",
         "orientation": "v",
         "showlegend": true,
         "type": "scatter",
         "x": [
          2008,
          2011,
          2014,
          2017,
          2020
         ],
         "xaxis": "x",
         "y": [
          14.13984239,
          0.04451861237,
          0.04374467375,
          0.04309200472,
          0.0396661686
         ],
         "yaxis": "y"
        },
        {
         "hovertemplate": "<b>%{hovertext}</b><br><br>State=SD<br>=%{x}<br>Lb's of annual emissions per 100k of population=%{y}<extra></extra>",
         "hovertext": [
          "Low CAV adoption",
          "Low CAV adoption",
          "Low CAV adoption",
          "Low CAV adoption",
          "Low CAV adoption"
         ],
         "legendgroup": "SD",
         "line": {
          "color": "#FF97FF",
          "dash": "solid"
         },
         "marker": {
          "symbol": "circle"
         },
         "mode": "lines",
         "name": "SD",
         "orientation": "v",
         "showlegend": true,
         "type": "scatter",
         "x": [
          2008,
          2011,
          2014,
          2017,
          2020
         ],
         "xaxis": "x",
         "y": [
          9.215068622,
          0.02951149175,
          0.02914894021,
          0.0285830184,
          0.02706463149
         ],
         "yaxis": "y"
        },
        {
         "hovertemplate": "<b>%{hovertext}</b><br><br>State=CA<br>=%{x}<br>Lb's of annual emissions per 100k of population=%{y}<extra></extra>",
         "hovertext": [
          "High CAV adoption",
          "High CAV adoption",
          "High CAV adoption",
          "High CAV adoption"
         ],
         "legendgroup": "CA",
         "line": {
          "color": "#FECB52",
          "dash": "solid"
         },
         "marker": {
          "symbol": "circle"
         },
         "mode": "lines",
         "name": "CA",
         "orientation": "v",
         "showlegend": true,
         "type": "scatter",
         "x": [
          2011,
          2014,
          2017,
          2020
         ],
         "xaxis": "x",
         "y": [
          0.9773780246,
          0.303084777,
          0.006165029477,
          0.1699160369
         ],
         "yaxis": "y"
        }
       ],
       "layout": {
        "font": {
         "color": "white"
        },
        "legend": {
         "title": {
          "text": "State"
         },
         "tracegroupgap": 0
        },
        "margin": {
         "t": 60
        },
        "paper_bgcolor": "black",
        "plot_bgcolor": "black",
        "template": {
         "data": {
          "bar": [
           {
            "error_x": {
             "color": "#2a3f5f"
            },
            "error_y": {
             "color": "#2a3f5f"
            },
            "marker": {
             "line": {
              "color": "#E5ECF6",
              "width": 0.5
             },
             "pattern": {
              "fillmode": "overlay",
              "size": 10,
              "solidity": 0.2
             }
            },
            "type": "bar"
           }
          ],
          "barpolar": [
           {
            "marker": {
             "line": {
              "color": "#E5ECF6",
              "width": 0.5
             },
             "pattern": {
              "fillmode": "overlay",
              "size": 10,
              "solidity": 0.2
             }
            },
            "type": "barpolar"
           }
          ],
          "carpet": [
           {
            "aaxis": {
             "endlinecolor": "#2a3f5f",
             "gridcolor": "white",
             "linecolor": "white",
             "minorgridcolor": "white",
             "startlinecolor": "#2a3f5f"
            },
            "baxis": {
             "endlinecolor": "#2a3f5f",
             "gridcolor": "white",
             "linecolor": "white",
             "minorgridcolor": "white",
             "startlinecolor": "#2a3f5f"
            },
            "type": "carpet"
           }
          ],
          "choropleth": [
           {
            "colorbar": {
             "outlinewidth": 0,
             "ticks": ""
            },
            "type": "choropleth"
           }
          ],
          "contour": [
           {
            "colorbar": {
             "outlinewidth": 0,
             "ticks": ""
            },
            "colorscale": [
             [
              0,
              "#0d0887"
             ],
             [
              0.1111111111111111,
              "#46039f"
             ],
             [
              0.2222222222222222,
              "#7201a8"
             ],
             [
              0.3333333333333333,
              "#9c179e"
             ],
             [
              0.4444444444444444,
              "#bd3786"
             ],
             [
              0.5555555555555556,
              "#d8576b"
             ],
             [
              0.6666666666666666,
              "#ed7953"
             ],
             [
              0.7777777777777778,
              "#fb9f3a"
             ],
             [
              0.8888888888888888,
              "#fdca26"
             ],
             [
              1,
              "#f0f921"
             ]
            ],
            "type": "contour"
           }
          ],
          "contourcarpet": [
           {
            "colorbar": {
             "outlinewidth": 0,
             "ticks": ""
            },
            "type": "contourcarpet"
           }
          ],
          "heatmap": [
           {
            "colorbar": {
             "outlinewidth": 0,
             "ticks": ""
            },
            "colorscale": [
             [
              0,
              "#0d0887"
             ],
             [
              0.1111111111111111,
              "#46039f"
             ],
             [
              0.2222222222222222,
              "#7201a8"
             ],
             [
              0.3333333333333333,
              "#9c179e"
             ],
             [
              0.4444444444444444,
              "#bd3786"
             ],
             [
              0.5555555555555556,
              "#d8576b"
             ],
             [
              0.6666666666666666,
              "#ed7953"
             ],
             [
              0.7777777777777778,
              "#fb9f3a"
             ],
             [
              0.8888888888888888,
              "#fdca26"
             ],
             [
              1,
              "#f0f921"
             ]
            ],
            "type": "heatmap"
           }
          ],
          "heatmapgl": [
           {
            "colorbar": {
             "outlinewidth": 0,
             "ticks": ""
            },
            "colorscale": [
             [
              0,
              "#0d0887"
             ],
             [
              0.1111111111111111,
              "#46039f"
             ],
             [
              0.2222222222222222,
              "#7201a8"
             ],
             [
              0.3333333333333333,
              "#9c179e"
             ],
             [
              0.4444444444444444,
              "#bd3786"
             ],
             [
              0.5555555555555556,
              "#d8576b"
             ],
             [
              0.6666666666666666,
              "#ed7953"
             ],
             [
              0.7777777777777778,
              "#fb9f3a"
             ],
             [
              0.8888888888888888,
              "#fdca26"
             ],
             [
              1,
              "#f0f921"
             ]
            ],
            "type": "heatmapgl"
           }
          ],
          "histogram": [
           {
            "marker": {
             "pattern": {
              "fillmode": "overlay",
              "size": 10,
              "solidity": 0.2
             }
            },
            "type": "histogram"
           }
          ],
          "histogram2d": [
           {
            "colorbar": {
             "outlinewidth": 0,
             "ticks": ""
            },
            "colorscale": [
             [
              0,
              "#0d0887"
             ],
             [
              0.1111111111111111,
              "#46039f"
             ],
             [
              0.2222222222222222,
              "#7201a8"
             ],
             [
              0.3333333333333333,
              "#9c179e"
             ],
             [
              0.4444444444444444,
              "#bd3786"
             ],
             [
              0.5555555555555556,
              "#d8576b"
             ],
             [
              0.6666666666666666,
              "#ed7953"
             ],
             [
              0.7777777777777778,
              "#fb9f3a"
             ],
             [
              0.8888888888888888,
              "#fdca26"
             ],
             [
              1,
              "#f0f921"
             ]
            ],
            "type": "histogram2d"
           }
          ],
          "histogram2dcontour": [
           {
            "colorbar": {
             "outlinewidth": 0,
             "ticks": ""
            },
            "colorscale": [
             [
              0,
              "#0d0887"
             ],
             [
              0.1111111111111111,
              "#46039f"
             ],
             [
              0.2222222222222222,
              "#7201a8"
             ],
             [
              0.3333333333333333,
              "#9c179e"
             ],
             [
              0.4444444444444444,
              "#bd3786"
             ],
             [
              0.5555555555555556,
              "#d8576b"
             ],
             [
              0.6666666666666666,
              "#ed7953"
             ],
             [
              0.7777777777777778,
              "#fb9f3a"
             ],
             [
              0.8888888888888888,
              "#fdca26"
             ],
             [
              1,
              "#f0f921"
             ]
            ],
            "type": "histogram2dcontour"
           }
          ],
          "mesh3d": [
           {
            "colorbar": {
             "outlinewidth": 0,
             "ticks": ""
            },
            "type": "mesh3d"
           }
          ],
          "parcoords": [
           {
            "line": {
             "colorbar": {
              "outlinewidth": 0,
              "ticks": ""
             }
            },
            "type": "parcoords"
           }
          ],
          "pie": [
           {
            "automargin": true,
            "type": "pie"
           }
          ],
          "scatter": [
           {
            "fillpattern": {
             "fillmode": "overlay",
             "size": 10,
             "solidity": 0.2
            },
            "type": "scatter"
           }
          ],
          "scatter3d": [
           {
            "line": {
             "colorbar": {
              "outlinewidth": 0,
              "ticks": ""
             }
            },
            "marker": {
             "colorbar": {
              "outlinewidth": 0,
              "ticks": ""
             }
            },
            "type": "scatter3d"
           }
          ],
          "scattercarpet": [
           {
            "marker": {
             "colorbar": {
              "outlinewidth": 0,
              "ticks": ""
             }
            },
            "type": "scattercarpet"
           }
          ],
          "scattergeo": [
           {
            "marker": {
             "colorbar": {
              "outlinewidth": 0,
              "ticks": ""
             }
            },
            "type": "scattergeo"
           }
          ],
          "scattergl": [
           {
            "marker": {
             "colorbar": {
              "outlinewidth": 0,
              "ticks": ""
             }
            },
            "type": "scattergl"
           }
          ],
          "scattermapbox": [
           {
            "marker": {
             "colorbar": {
              "outlinewidth": 0,
              "ticks": ""
             }
            },
            "type": "scattermapbox"
           }
          ],
          "scatterpolar": [
           {
            "marker": {
             "colorbar": {
              "outlinewidth": 0,
              "ticks": ""
             }
            },
            "type": "scatterpolar"
           }
          ],
          "scatterpolargl": [
           {
            "marker": {
             "colorbar": {
              "outlinewidth": 0,
              "ticks": ""
             }
            },
            "type": "scatterpolargl"
           }
          ],
          "scatterternary": [
           {
            "marker": {
             "colorbar": {
              "outlinewidth": 0,
              "ticks": ""
             }
            },
            "type": "scatterternary"
           }
          ],
          "surface": [
           {
            "colorbar": {
             "outlinewidth": 0,
             "ticks": ""
            },
            "colorscale": [
             [
              0,
              "#0d0887"
             ],
             [
              0.1111111111111111,
              "#46039f"
             ],
             [
              0.2222222222222222,
              "#7201a8"
             ],
             [
              0.3333333333333333,
              "#9c179e"
             ],
             [
              0.4444444444444444,
              "#bd3786"
             ],
             [
              0.5555555555555556,
              "#d8576b"
             ],
             [
              0.6666666666666666,
              "#ed7953"
             ],
             [
              0.7777777777777778,
              "#fb9f3a"
             ],
             [
              0.8888888888888888,
              "#fdca26"
             ],
             [
              1,
              "#f0f921"
             ]
            ],
            "type": "surface"
           }
          ],
          "table": [
           {
            "cells": {
             "fill": {
              "color": "#EBF0F8"
             },
             "line": {
              "color": "white"
             }
            },
            "header": {
             "fill": {
              "color": "#C8D4E3"
             },
             "line": {
              "color": "white"
             }
            },
            "type": "table"
           }
          ]
         },
         "layout": {
          "annotationdefaults": {
           "arrowcolor": "#2a3f5f",
           "arrowhead": 0,
           "arrowwidth": 1
          },
          "autotypenumbers": "strict",
          "coloraxis": {
           "colorbar": {
            "outlinewidth": 0,
            "ticks": ""
           }
          },
          "colorscale": {
           "diverging": [
            [
             0,
             "#8e0152"
            ],
            [
             0.1,
             "#c51b7d"
            ],
            [
             0.2,
             "#de77ae"
            ],
            [
             0.3,
             "#f1b6da"
            ],
            [
             0.4,
             "#fde0ef"
            ],
            [
             0.5,
             "#f7f7f7"
            ],
            [
             0.6,
             "#e6f5d0"
            ],
            [
             0.7,
             "#b8e186"
            ],
            [
             0.8,
             "#7fbc41"
            ],
            [
             0.9,
             "#4d9221"
            ],
            [
             1,
             "#276419"
            ]
           ],
           "sequential": [
            [
             0,
             "#0d0887"
            ],
            [
             0.1111111111111111,
             "#46039f"
            ],
            [
             0.2222222222222222,
             "#7201a8"
            ],
            [
             0.3333333333333333,
             "#9c179e"
            ],
            [
             0.4444444444444444,
             "#bd3786"
            ],
            [
             0.5555555555555556,
             "#d8576b"
            ],
            [
             0.6666666666666666,
             "#ed7953"
            ],
            [
             0.7777777777777778,
             "#fb9f3a"
            ],
            [
             0.8888888888888888,
             "#fdca26"
            ],
            [
             1,
             "#f0f921"
            ]
           ],
           "sequentialminus": [
            [
             0,
             "#0d0887"
            ],
            [
             0.1111111111111111,
             "#46039f"
            ],
            [
             0.2222222222222222,
             "#7201a8"
            ],
            [
             0.3333333333333333,
             "#9c179e"
            ],
            [
             0.4444444444444444,
             "#bd3786"
            ],
            [
             0.5555555555555556,
             "#d8576b"
            ],
            [
             0.6666666666666666,
             "#ed7953"
            ],
            [
             0.7777777777777778,
             "#fb9f3a"
            ],
            [
             0.8888888888888888,
             "#fdca26"
            ],
            [
             1,
             "#f0f921"
            ]
           ]
          },
          "colorway": [
           "#636efa",
           "#EF553B",
           "#00cc96",
           "#ab63fa",
           "#FFA15A",
           "#19d3f3",
           "#FF6692",
           "#B6E880",
           "#FF97FF",
           "#FECB52"
          ],
          "font": {
           "color": "#2a3f5f"
          },
          "geo": {
           "bgcolor": "white",
           "lakecolor": "white",
           "landcolor": "#E5ECF6",
           "showlakes": true,
           "showland": true,
           "subunitcolor": "white"
          },
          "hoverlabel": {
           "align": "left"
          },
          "hovermode": "closest",
          "mapbox": {
           "style": "light"
          },
          "paper_bgcolor": "white",
          "plot_bgcolor": "#E5ECF6",
          "polar": {
           "angularaxis": {
            "gridcolor": "white",
            "linecolor": "white",
            "ticks": ""
           },
           "bgcolor": "#E5ECF6",
           "radialaxis": {
            "gridcolor": "white",
            "linecolor": "white",
            "ticks": ""
           }
          },
          "scene": {
           "xaxis": {
            "backgroundcolor": "#E5ECF6",
            "gridcolor": "white",
            "gridwidth": 2,
            "linecolor": "white",
            "showbackground": true,
            "ticks": "",
            "zerolinecolor": "white"
           },
           "yaxis": {
            "backgroundcolor": "#E5ECF6",
            "gridcolor": "white",
            "gridwidth": 2,
            "linecolor": "white",
            "showbackground": true,
            "ticks": "",
            "zerolinecolor": "white"
           },
           "zaxis": {
            "backgroundcolor": "#E5ECF6",
            "gridcolor": "white",
            "gridwidth": 2,
            "linecolor": "white",
            "showbackground": true,
            "ticks": "",
            "zerolinecolor": "white"
           }
          },
          "shapedefaults": {
           "line": {
            "color": "#2a3f5f"
           }
          },
          "ternary": {
           "aaxis": {
            "gridcolor": "white",
            "linecolor": "white",
            "ticks": ""
           },
           "baxis": {
            "gridcolor": "white",
            "linecolor": "white",
            "ticks": ""
           },
           "bgcolor": "#E5ECF6",
           "caxis": {
            "gridcolor": "white",
            "linecolor": "white",
            "ticks": ""
           }
          },
          "title": {
           "x": 0.05
          },
          "xaxis": {
           "automargin": true,
           "gridcolor": "white",
           "linecolor": "white",
           "ticks": "",
           "title": {
            "standoff": 15
           },
           "zerolinecolor": "white",
           "zerolinewidth": 2
          },
          "yaxis": {
           "automargin": true,
           "gridcolor": "white",
           "linecolor": "white",
           "ticks": "",
           "title": {
            "standoff": 15
           },
           "zerolinecolor": "white",
           "zerolinewidth": 2
          }
         }
        },
        "title": {
         "text": "Chromium (VI) emissions per 100k of population"
        },
        "xaxis": {
         "anchor": "y",
         "domain": [
          0,
          1
         ],
         "title": {
          "text": ""
         }
        },
        "yaxis": {
         "anchor": "x",
         "domain": [
          0,
          1
         ],
         "range": [
          0,
          2
         ],
         "title": {
          "text": "Lb's of annual emissions per 100k of population"
         }
        }
       }
      },
      "text/html": [
       "<div>                            <div id=\"30694153-0685-4feb-8edd-066f4f0a1b7a\" class=\"plotly-graph-div\" style=\"height:525px; width:100%;\"></div>            <script type=\"text/javascript\">                require([\"plotly\"], function(Plotly) {                    window.PLOTLYENV=window.PLOTLYENV || {};                                    if (document.getElementById(\"30694153-0685-4feb-8edd-066f4f0a1b7a\")) {                    Plotly.newPlot(                        \"30694153-0685-4feb-8edd-066f4f0a1b7a\",                        [{\"hovertemplate\":\"<b>%{hovertext}</b><br><br>State=VT<br>=%{x}<br>Lb's of annual emissions per 100k of population=%{y}<extra></extra>\",\"hovertext\":[\"High CAV adoption\",\"High CAV adoption\",\"High CAV adoption\",\"High CAV adoption\",\"High CAV adoption\"],\"legendgroup\":\"VT\",\"line\":{\"color\":\"#636efa\",\"dash\":\"solid\"},\"marker\":{\"symbol\":\"circle\"},\"mode\":\"lines\",\"name\":\"VT\",\"orientation\":\"v\",\"showlegend\":true,\"x\":[2008,2011,2014,2017,2020],\"xaxis\":\"x\",\"y\":[9.873822527,0.03045940457,0.02981752189,0.03105018068,0.0244625919],\"yaxis\":\"y\",\"type\":\"scatter\"},{\"hovertemplate\":\"<b>%{hovertext}</b><br><br>State=MA<br>=%{x}<br>Lb's of annual emissions per 100k of population=%{y}<extra></extra>\",\"hovertext\":[\"High CAV adoption\",\"High CAV adoption\",\"High CAV adoption\",\"High CAV adoption\",\"High CAV adoption\"],\"legendgroup\":\"MA\",\"line\":{\"color\":\"#EF553B\",\"dash\":\"solid\"},\"marker\":{\"symbol\":\"circle\"},\"mode\":\"lines\",\"name\":\"MA\",\"orientation\":\"v\",\"showlegend\":true,\"x\":[2008,2011,2014,2017,2020],\"xaxis\":\"x\",\"y\":[7.128383394,0.02176572353,0.02132152195,0.02371931692,0.01985274362],\"yaxis\":\"y\",\"type\":\"scatter\"},{\"hovertemplate\":\"<b>%{hovertext}</b><br><br>State=MD<br>=%{x}<br>Lb's of annual emissions per 100k of population=%{y}<extra></extra>\",\"hovertext\":[\"High CAV adoption\",\"High CAV adoption\",\"High CAV adoption\",\"High CAV adoption\",\"High CAV adoption\"],\"legendgroup\":\"MD\",\"line\":{\"color\":\"#00cc96\",\"dash\":\"solid\"},\"marker\":{\"symbol\":\"circle\"},\"mode\":\"lines\",\"name\":\"MD\",\"orientation\":\"v\",\"showlegend\":true,\"x\":[2008,2011,2014,2017,2020],\"xaxis\":\"x\",\"y\":[8.383102278,0.02560293945,0.02492901007,0.02576621644,0.02098021963],\"yaxis\":\"y\",\"type\":\"scatter\"},{\"hovertemplate\":\"<b>%{hovertext}</b><br><br>State=VA<br>=%{x}<br>Lb's of annual emissions per 100k of population=%{y}<extra></extra>\",\"hovertext\":[\"High CAV adoption\",\"High CAV adoption\",\"High CAV adoption\",\"High CAV adoption\",\"High CAV adoption\"],\"legendgroup\":\"VA\",\"line\":{\"color\":\"#ab63fa\",\"dash\":\"solid\"},\"marker\":{\"symbol\":\"circle\"},\"mode\":\"lines\",\"name\":\"VA\",\"orientation\":\"v\",\"showlegend\":true,\"x\":[2008,2011,2014,2017,2020],\"xaxis\":\"x\",\"y\":[8.860327682,0.02770916998,0.02676042352,0.02610761789,0.02251396725],\"yaxis\":\"y\",\"type\":\"scatter\"},{\"hovertemplate\":\"<b>%{hovertext}</b><br><br>State=WV<br>=%{x}<br>Lb's of annual emissions per 100k of population=%{y}<extra></extra>\",\"hovertext\":[\"Low CAV adoption\",\"Low CAV adoption\",\"Low CAV adoption\",\"Low CAV adoption\",\"Low CAV adoption\"],\"legendgroup\":\"WV\",\"line\":{\"color\":\"#FFA15A\",\"dash\":\"solid\"},\"marker\":{\"symbol\":\"circle\"},\"mode\":\"lines\",\"name\":\"WV\",\"orientation\":\"v\",\"showlegend\":true,\"x\":[2008,2011,2014,2017,2020],\"xaxis\":\"x\",\"y\":[9.415859965,0.02587399259,0.02810979149,0.02801837775,0.02126073782],\"yaxis\":\"y\",\"type\":\"scatter\"},{\"hovertemplate\":\"<b>%{hovertext}</b><br><br>State=AL<br>=%{x}<br>Lb's of annual emissions per 100k of population=%{y}<extra></extra>\",\"hovertext\":[\"Low CAV adoption\",\"Low CAV adoption\",\"Low CAV adoption\",\"Low CAV adoption\",\"Low CAV adoption\"],\"legendgroup\":\"AL\",\"line\":{\"color\":\"#19d3f3\",\"dash\":\"solid\"},\"marker\":{\"symbol\":\"circle\"},\"mode\":\"lines\",\"name\":\"AL\",\"orientation\":\"v\",\"showlegend\":true,\"x\":[2008,2011,2014,2017,2020],\"xaxis\":\"x\",\"y\":[10.52693982,0.03644191559,0.0359183781,0.03745126785,0.03441084461],\"yaxis\":\"y\",\"type\":\"scatter\"},{\"hovertemplate\":\"<b>%{hovertext}</b><br><br>State=KY<br>=%{x}<br>Lb's of annual emissions per 100k of population=%{y}<extra></extra>\",\"hovertext\":[\"Low CAV adoption\",\"Low CAV adoption\",\"Low CAV adoption\",\"Low CAV adoption\",\"Low CAV adoption\"],\"legendgroup\":\"KY\",\"line\":{\"color\":\"#FF6692\",\"dash\":\"solid\"},\"marker\":{\"symbol\":\"circle\"},\"mode\":\"lines\",\"name\":\"KY\",\"orientation\":\"v\",\"showlegend\":true,\"x\":[2008,2011,2014,2017,2020],\"xaxis\":\"x\",\"y\":[9.168639065,0.0303524796,0.02885571948,0.02857332847,0.02597925641],\"yaxis\":\"y\",\"type\":\"scatter\"},{\"hovertemplate\":\"<b>%{hovertext}</b><br><br>State=MI<br>=%{x}<br>Lb's of annual emissions per 100k of population=%{y}<extra></extra>\",\"hovertext\":[\"Low CAV adoption\",\"Low CAV adoption\",\"Low CAV adoption\",\"Low CAV adoption\",\"Low CAV adoption\"],\"legendgroup\":\"MI\",\"line\":{\"color\":\"#B6E880\",\"dash\":\"solid\"},\"marker\":{\"symbol\":\"circle\"},\"mode\":\"lines\",\"name\":\"MI\",\"orientation\":\"v\",\"showlegend\":true,\"x\":[2008,2011,2014,2017,2020],\"xaxis\":\"x\",\"y\":[8.319453593,0.02658871164,0.02548586041,0.02589447828,0.02199968474],\"yaxis\":\"y\",\"type\":\"scatter\"},{\"hovertemplate\":\"<b>%{hovertext}</b><br><br>State=LA<br>=%{x}<br>Lb's of annual emissions per 100k of population=%{y}<extra></extra>\",\"hovertext\":[\"Low CAV adoption\",\"Low CAV adoption\",\"Low CAV adoption\",\"Low CAV adoption\",\"Low CAV adoption\"],\"legendgroup\":\"LA\",\"line\":{\"color\":\"#FF97FF\",\"dash\":\"solid\"},\"marker\":{\"symbol\":\"circle\"},\"mode\":\"lines\",\"name\":\"LA\",\"orientation\":\"v\",\"showlegend\":true,\"x\":[2008,2011,2014,2017,2020],\"xaxis\":\"x\",\"y\":[8.60859435,0.02726113804,0.02736139113,0.02672127373,0.02545240721],\"yaxis\":\"y\",\"type\":\"scatter\"},{\"hovertemplate\":\"<b>%{hovertext}</b><br><br>State=AR<br>=%{x}<br>Lb's of annual emissions per 100k of population=%{y}<extra></extra>\",\"hovertext\":[\"Low CAV adoption\",\"Low CAV adoption\",\"Low CAV adoption\",\"Low CAV adoption\",\"Low CAV adoption\"],\"legendgroup\":\"AR\",\"line\":{\"color\":\"#FECB52\",\"dash\":\"solid\"},\"marker\":{\"symbol\":\"circle\"},\"mode\":\"lines\",\"name\":\"AR\",\"orientation\":\"v\",\"showlegend\":true,\"x\":[2008,2011,2014,2017,2020],\"xaxis\":\"x\",\"y\":[9.385102447,0.03036909237,0.03039416507,0.03090352969,0.02730123213],\"yaxis\":\"y\",\"type\":\"scatter\"},{\"hovertemplate\":\"<b>%{hovertext}</b><br><br>State=OK<br>=%{x}<br>Lb's of annual emissions per 100k of population=%{y}<extra></extra>\",\"hovertext\":[\"Low CAV adoption\",\"Low CAV adoption\",\"Low CAV adoption\",\"Low CAV adoption\",\"Low CAV adoption\"],\"legendgroup\":\"OK\",\"line\":{\"color\":\"#636efa\",\"dash\":\"solid\"},\"marker\":{\"symbol\":\"circle\"},\"mode\":\"lines\",\"name\":\"OK\",\"orientation\":\"v\",\"showlegend\":true,\"x\":[2008,2011,2014,2017,2020],\"xaxis\":\"x\",\"y\":[11.00570209,0.03373261179,0.03233377067,0.03213209526,0.02464937045],\"yaxis\":\"y\",\"type\":\"scatter\"},{\"hovertemplate\":\"<b>%{hovertext}</b><br><br>State=WA<br>=%{x}<br>Lb's of annual emissions per 100k of population=%{y}<extra></extra>\",\"hovertext\":[\"High CAV adoption\",\"High CAV adoption\",\"High CAV adoption\",\"High CAV adoption\",\"High CAV adoption\"],\"legendgroup\":\"WA\",\"line\":{\"color\":\"#EF553B\",\"dash\":\"solid\"},\"marker\":{\"symbol\":\"circle\"},\"mode\":\"lines\",\"name\":\"WA\",\"orientation\":\"v\",\"showlegend\":true,\"x\":[2008,2011,2014,2017,2020],\"xaxis\":\"x\",\"y\":[7.053827597,0.02256524588,0.02188871977,0.02137424612,0.01715621502],\"yaxis\":\"y\",\"type\":\"scatter\"},{\"hovertemplate\":\"<b>%{hovertext}</b><br><br>State=OR<br>=%{x}<br>Lb's of annual emissions per 100k of population=%{y}<extra></extra>\",\"hovertext\":[\"High CAV adoption\",\"High CAV adoption\",\"High CAV adoption\",\"High CAV adoption\",\"High CAV adoption\"],\"legendgroup\":\"OR\",\"line\":{\"color\":\"#00cc96\",\"dash\":\"solid\"},\"marker\":{\"symbol\":\"circle\"},\"mode\":\"lines\",\"name\":\"OR\",\"orientation\":\"v\",\"showlegend\":true,\"x\":[2008,2011,2014,2017,2020],\"xaxis\":\"x\",\"y\":[7.470801505,0.02279855003,0.02224571913,0.02275800575,0.01830145999],\"yaxis\":\"y\",\"type\":\"scatter\"},{\"hovertemplate\":\"<b>%{hovertext}</b><br><br>State=HI<br>=%{x}<br>Lb's of annual emissions per 100k of population=%{y}<extra></extra>\",\"hovertext\":[\"High CAV adoption\",\"High CAV adoption\",\"High CAV adoption\",\"High CAV adoption\",\"High CAV adoption\"],\"legendgroup\":\"HI\",\"line\":{\"color\":\"#ab63fa\",\"dash\":\"solid\"},\"marker\":{\"symbol\":\"circle\"},\"mode\":\"lines\",\"name\":\"HI\",\"orientation\":\"v\",\"showlegend\":true,\"x\":[2008,2011,2014,2017,2020],\"xaxis\":\"x\",\"y\":[1.515939254,0.01873912415,0.01824614807,0.01976797214,0.01576728444],\"yaxis\":\"y\",\"type\":\"scatter\"},{\"hovertemplate\":\"<b>%{hovertext}</b><br><br>State=CO<br>=%{x}<br>Lb's of annual emissions per 100k of population=%{y}<extra></extra>\",\"hovertext\":[\"High CAV adoption\",\"High CAV adoption\",\"High CAV adoption\",\"High CAV adoption\",\"High CAV adoption\"],\"legendgroup\":\"CO\",\"line\":{\"color\":\"#FFA15A\",\"dash\":\"solid\"},\"marker\":{\"symbol\":\"circle\"},\"mode\":\"lines\",\"name\":\"CO\",\"orientation\":\"v\",\"showlegend\":true,\"x\":[2008,2011,2014,2017,2020],\"xaxis\":\"x\",\"y\":[8.315117126,0.02431348241,0.02431080372,0.02467973078,0.02093163995],\"yaxis\":\"y\",\"type\":\"scatter\"},{\"hovertemplate\":\"<b>%{hovertext}</b><br><br>State=NV<br>=%{x}<br>Lb's of annual emissions per 100k of population=%{y}<extra></extra>\",\"hovertext\":[\"High CAV adoption\",\"High CAV adoption\",\"High CAV adoption\",\"High CAV adoption\",\"High CAV adoption\"],\"legendgroup\":\"NV\",\"line\":{\"color\":\"#19d3f3\",\"dash\":\"solid\"},\"marker\":{\"symbol\":\"circle\"},\"mode\":\"lines\",\"name\":\"NV\",\"orientation\":\"v\",\"showlegend\":true,\"x\":[2008,2011,2014,2017,2020],\"xaxis\":\"x\",\"y\":[6.676585488,0.0249591995,0.02378606953,0.02273768948,0.01953370441],\"yaxis\":\"y\",\"type\":\"scatter\"},{\"hovertemplate\":\"<b>%{hovertext}</b><br><br>State=ND<br>=%{x}<br>Lb's of annual emissions per 100k of population=%{y}<extra></extra>\",\"hovertext\":[\"Low CAV adoption\",\"Low CAV adoption\",\"Low CAV adoption\",\"Low CAV adoption\",\"Low CAV adoption\"],\"legendgroup\":\"ND\",\"line\":{\"color\":\"#FF6692\",\"dash\":\"solid\"},\"marker\":{\"symbol\":\"circle\"},\"mode\":\"lines\",\"name\":\"ND\",\"orientation\":\"v\",\"showlegend\":true,\"x\":[2008,2011,2014,2017,2020],\"xaxis\":\"x\",\"y\":[9.785687279,0.03611424955,0.03812761191,0.03296146714,0.02734880051],\"yaxis\":\"y\",\"type\":\"scatter\"},{\"hovertemplate\":\"<b>%{hovertext}</b><br><br>State=WY<br>=%{x}<br>Lb's of annual emissions per 100k of population=%{y}<extra></extra>\",\"hovertext\":[\"Low CAV adoption\",\"Low CAV adoption\",\"Low CAV adoption\",\"Low CAV adoption\",\"Low CAV adoption\"],\"legendgroup\":\"WY\",\"line\":{\"color\":\"#B6E880\",\"dash\":\"solid\"},\"marker\":{\"symbol\":\"circle\"},\"mode\":\"lines\",\"name\":\"WY\",\"orientation\":\"v\",\"showlegend\":true,\"x\":[2008,2011,2014,2017,2020],\"xaxis\":\"x\",\"y\":[14.13984239,0.04451861237,0.04374467375,0.04309200472,0.0396661686],\"yaxis\":\"y\",\"type\":\"scatter\"},{\"hovertemplate\":\"<b>%{hovertext}</b><br><br>State=SD<br>=%{x}<br>Lb's of annual emissions per 100k of population=%{y}<extra></extra>\",\"hovertext\":[\"Low CAV adoption\",\"Low CAV adoption\",\"Low CAV adoption\",\"Low CAV adoption\",\"Low CAV adoption\"],\"legendgroup\":\"SD\",\"line\":{\"color\":\"#FF97FF\",\"dash\":\"solid\"},\"marker\":{\"symbol\":\"circle\"},\"mode\":\"lines\",\"name\":\"SD\",\"orientation\":\"v\",\"showlegend\":true,\"x\":[2008,2011,2014,2017,2020],\"xaxis\":\"x\",\"y\":[9.215068622,0.02951149175,0.02914894021,0.0285830184,0.02706463149],\"yaxis\":\"y\",\"type\":\"scatter\"},{\"hovertemplate\":\"<b>%{hovertext}</b><br><br>State=CA<br>=%{x}<br>Lb's of annual emissions per 100k of population=%{y}<extra></extra>\",\"hovertext\":[\"High CAV adoption\",\"High CAV adoption\",\"High CAV adoption\",\"High CAV adoption\"],\"legendgroup\":\"CA\",\"line\":{\"color\":\"#FECB52\",\"dash\":\"solid\"},\"marker\":{\"symbol\":\"circle\"},\"mode\":\"lines\",\"name\":\"CA\",\"orientation\":\"v\",\"showlegend\":true,\"x\":[2011,2014,2017,2020],\"xaxis\":\"x\",\"y\":[0.9773780246,0.303084777,0.006165029477,0.1699160369],\"yaxis\":\"y\",\"type\":\"scatter\"}],                        {\"template\":{\"data\":{\"histogram2dcontour\":[{\"type\":\"histogram2dcontour\",\"colorbar\":{\"outlinewidth\":0,\"ticks\":\"\"},\"colorscale\":[[0.0,\"#0d0887\"],[0.1111111111111111,\"#46039f\"],[0.2222222222222222,\"#7201a8\"],[0.3333333333333333,\"#9c179e\"],[0.4444444444444444,\"#bd3786\"],[0.5555555555555556,\"#d8576b\"],[0.6666666666666666,\"#ed7953\"],[0.7777777777777778,\"#fb9f3a\"],[0.8888888888888888,\"#fdca26\"],[1.0,\"#f0f921\"]]}],\"choropleth\":[{\"type\":\"choropleth\",\"colorbar\":{\"outlinewidth\":0,\"ticks\":\"\"}}],\"histogram2d\":[{\"type\":\"histogram2d\",\"colorbar\":{\"outlinewidth\":0,\"ticks\":\"\"},\"colorscale\":[[0.0,\"#0d0887\"],[0.1111111111111111,\"#46039f\"],[0.2222222222222222,\"#7201a8\"],[0.3333333333333333,\"#9c179e\"],[0.4444444444444444,\"#bd3786\"],[0.5555555555555556,\"#d8576b\"],[0.6666666666666666,\"#ed7953\"],[0.7777777777777778,\"#fb9f3a\"],[0.8888888888888888,\"#fdca26\"],[1.0,\"#f0f921\"]]}],\"heatmap\":[{\"type\":\"heatmap\",\"colorbar\":{\"outlinewidth\":0,\"ticks\":\"\"},\"colorscale\":[[0.0,\"#0d0887\"],[0.1111111111111111,\"#46039f\"],[0.2222222222222222,\"#7201a8\"],[0.3333333333333333,\"#9c179e\"],[0.4444444444444444,\"#bd3786\"],[0.5555555555555556,\"#d8576b\"],[0.6666666666666666,\"#ed7953\"],[0.7777777777777778,\"#fb9f3a\"],[0.8888888888888888,\"#fdca26\"],[1.0,\"#f0f921\"]]}],\"heatmapgl\":[{\"type\":\"heatmapgl\",\"colorbar\":{\"outlinewidth\":0,\"ticks\":\"\"},\"colorscale\":[[0.0,\"#0d0887\"],[0.1111111111111111,\"#46039f\"],[0.2222222222222222,\"#7201a8\"],[0.3333333333333333,\"#9c179e\"],[0.4444444444444444,\"#bd3786\"],[0.5555555555555556,\"#d8576b\"],[0.6666666666666666,\"#ed7953\"],[0.7777777777777778,\"#fb9f3a\"],[0.8888888888888888,\"#fdca26\"],[1.0,\"#f0f921\"]]}],\"contourcarpet\":[{\"type\":\"contourcarpet\",\"colorbar\":{\"outlinewidth\":0,\"ticks\":\"\"}}],\"contour\":[{\"type\":\"contour\",\"colorbar\":{\"outlinewidth\":0,\"ticks\":\"\"},\"colorscale\":[[0.0,\"#0d0887\"],[0.1111111111111111,\"#46039f\"],[0.2222222222222222,\"#7201a8\"],[0.3333333333333333,\"#9c179e\"],[0.4444444444444444,\"#bd3786\"],[0.5555555555555556,\"#d8576b\"],[0.6666666666666666,\"#ed7953\"],[0.7777777777777778,\"#fb9f3a\"],[0.8888888888888888,\"#fdca26\"],[1.0,\"#f0f921\"]]}],\"surface\":[{\"type\":\"surface\",\"colorbar\":{\"outlinewidth\":0,\"ticks\":\"\"},\"colorscale\":[[0.0,\"#0d0887\"],[0.1111111111111111,\"#46039f\"],[0.2222222222222222,\"#7201a8\"],[0.3333333333333333,\"#9c179e\"],[0.4444444444444444,\"#bd3786\"],[0.5555555555555556,\"#d8576b\"],[0.6666666666666666,\"#ed7953\"],[0.7777777777777778,\"#fb9f3a\"],[0.8888888888888888,\"#fdca26\"],[1.0,\"#f0f921\"]]}],\"mesh3d\":[{\"type\":\"mesh3d\",\"colorbar\":{\"outlinewidth\":0,\"ticks\":\"\"}}],\"scatter\":[{\"fillpattern\":{\"fillmode\":\"overlay\",\"size\":10,\"solidity\":0.2},\"type\":\"scatter\"}],\"parcoords\":[{\"type\":\"parcoords\",\"line\":{\"colorbar\":{\"outlinewidth\":0,\"ticks\":\"\"}}}],\"scatterpolargl\":[{\"type\":\"scatterpolargl\",\"marker\":{\"colorbar\":{\"outlinewidth\":0,\"ticks\":\"\"}}}],\"bar\":[{\"error_x\":{\"color\":\"#2a3f5f\"},\"error_y\":{\"color\":\"#2a3f5f\"},\"marker\":{\"line\":{\"color\":\"#E5ECF6\",\"width\":0.5},\"pattern\":{\"fillmode\":\"overlay\",\"size\":10,\"solidity\":0.2}},\"type\":\"bar\"}],\"scattergeo\":[{\"type\":\"scattergeo\",\"marker\":{\"colorbar\":{\"outlinewidth\":0,\"ticks\":\"\"}}}],\"scatterpolar\":[{\"type\":\"scatterpolar\",\"marker\":{\"colorbar\":{\"outlinewidth\":0,\"ticks\":\"\"}}}],\"histogram\":[{\"marker\":{\"pattern\":{\"fillmode\":\"overlay\",\"size\":10,\"solidity\":0.2}},\"type\":\"histogram\"}],\"scattergl\":[{\"type\":\"scattergl\",\"marker\":{\"colorbar\":{\"outlinewidth\":0,\"ticks\":\"\"}}}],\"scatter3d\":[{\"type\":\"scatter3d\",\"line\":{\"colorbar\":{\"outlinewidth\":0,\"ticks\":\"\"}},\"marker\":{\"colorbar\":{\"outlinewidth\":0,\"ticks\":\"\"}}}],\"scattermapbox\":[{\"type\":\"scattermapbox\",\"marker\":{\"colorbar\":{\"outlinewidth\":0,\"ticks\":\"\"}}}],\"scatterternary\":[{\"type\":\"scatterternary\",\"marker\":{\"colorbar\":{\"outlinewidth\":0,\"ticks\":\"\"}}}],\"scattercarpet\":[{\"type\":\"scattercarpet\",\"marker\":{\"colorbar\":{\"outlinewidth\":0,\"ticks\":\"\"}}}],\"carpet\":[{\"aaxis\":{\"endlinecolor\":\"#2a3f5f\",\"gridcolor\":\"white\",\"linecolor\":\"white\",\"minorgridcolor\":\"white\",\"startlinecolor\":\"#2a3f5f\"},\"baxis\":{\"endlinecolor\":\"#2a3f5f\",\"gridcolor\":\"white\",\"linecolor\":\"white\",\"minorgridcolor\":\"white\",\"startlinecolor\":\"#2a3f5f\"},\"type\":\"carpet\"}],\"table\":[{\"cells\":{\"fill\":{\"color\":\"#EBF0F8\"},\"line\":{\"color\":\"white\"}},\"header\":{\"fill\":{\"color\":\"#C8D4E3\"},\"line\":{\"color\":\"white\"}},\"type\":\"table\"}],\"barpolar\":[{\"marker\":{\"line\":{\"color\":\"#E5ECF6\",\"width\":0.5},\"pattern\":{\"fillmode\":\"overlay\",\"size\":10,\"solidity\":0.2}},\"type\":\"barpolar\"}],\"pie\":[{\"automargin\":true,\"type\":\"pie\"}]},\"layout\":{\"autotypenumbers\":\"strict\",\"colorway\":[\"#636efa\",\"#EF553B\",\"#00cc96\",\"#ab63fa\",\"#FFA15A\",\"#19d3f3\",\"#FF6692\",\"#B6E880\",\"#FF97FF\",\"#FECB52\"],\"font\":{\"color\":\"#2a3f5f\"},\"hovermode\":\"closest\",\"hoverlabel\":{\"align\":\"left\"},\"paper_bgcolor\":\"white\",\"plot_bgcolor\":\"#E5ECF6\",\"polar\":{\"bgcolor\":\"#E5ECF6\",\"angularaxis\":{\"gridcolor\":\"white\",\"linecolor\":\"white\",\"ticks\":\"\"},\"radialaxis\":{\"gridcolor\":\"white\",\"linecolor\":\"white\",\"ticks\":\"\"}},\"ternary\":{\"bgcolor\":\"#E5ECF6\",\"aaxis\":{\"gridcolor\":\"white\",\"linecolor\":\"white\",\"ticks\":\"\"},\"baxis\":{\"gridcolor\":\"white\",\"linecolor\":\"white\",\"ticks\":\"\"},\"caxis\":{\"gridcolor\":\"white\",\"linecolor\":\"white\",\"ticks\":\"\"}},\"coloraxis\":{\"colorbar\":{\"outlinewidth\":0,\"ticks\":\"\"}},\"colorscale\":{\"sequential\":[[0.0,\"#0d0887\"],[0.1111111111111111,\"#46039f\"],[0.2222222222222222,\"#7201a8\"],[0.3333333333333333,\"#9c179e\"],[0.4444444444444444,\"#bd3786\"],[0.5555555555555556,\"#d8576b\"],[0.6666666666666666,\"#ed7953\"],[0.7777777777777778,\"#fb9f3a\"],[0.8888888888888888,\"#fdca26\"],[1.0,\"#f0f921\"]],\"sequentialminus\":[[0.0,\"#0d0887\"],[0.1111111111111111,\"#46039f\"],[0.2222222222222222,\"#7201a8\"],[0.3333333333333333,\"#9c179e\"],[0.4444444444444444,\"#bd3786\"],[0.5555555555555556,\"#d8576b\"],[0.6666666666666666,\"#ed7953\"],[0.7777777777777778,\"#fb9f3a\"],[0.8888888888888888,\"#fdca26\"],[1.0,\"#f0f921\"]],\"diverging\":[[0,\"#8e0152\"],[0.1,\"#c51b7d\"],[0.2,\"#de77ae\"],[0.3,\"#f1b6da\"],[0.4,\"#fde0ef\"],[0.5,\"#f7f7f7\"],[0.6,\"#e6f5d0\"],[0.7,\"#b8e186\"],[0.8,\"#7fbc41\"],[0.9,\"#4d9221\"],[1,\"#276419\"]]},\"xaxis\":{\"gridcolor\":\"white\",\"linecolor\":\"white\",\"ticks\":\"\",\"title\":{\"standoff\":15},\"zerolinecolor\":\"white\",\"automargin\":true,\"zerolinewidth\":2},\"yaxis\":{\"gridcolor\":\"white\",\"linecolor\":\"white\",\"ticks\":\"\",\"title\":{\"standoff\":15},\"zerolinecolor\":\"white\",\"automargin\":true,\"zerolinewidth\":2},\"scene\":{\"xaxis\":{\"backgroundcolor\":\"#E5ECF6\",\"gridcolor\":\"white\",\"linecolor\":\"white\",\"showbackground\":true,\"ticks\":\"\",\"zerolinecolor\":\"white\",\"gridwidth\":2},\"yaxis\":{\"backgroundcolor\":\"#E5ECF6\",\"gridcolor\":\"white\",\"linecolor\":\"white\",\"showbackground\":true,\"ticks\":\"\",\"zerolinecolor\":\"white\",\"gridwidth\":2},\"zaxis\":{\"backgroundcolor\":\"#E5ECF6\",\"gridcolor\":\"white\",\"linecolor\":\"white\",\"showbackground\":true,\"ticks\":\"\",\"zerolinecolor\":\"white\",\"gridwidth\":2}},\"shapedefaults\":{\"line\":{\"color\":\"#2a3f5f\"}},\"annotationdefaults\":{\"arrowcolor\":\"#2a3f5f\",\"arrowhead\":0,\"arrowwidth\":1},\"geo\":{\"bgcolor\":\"white\",\"landcolor\":\"#E5ECF6\",\"subunitcolor\":\"white\",\"showland\":true,\"showlakes\":true,\"lakecolor\":\"white\"},\"title\":{\"x\":0.05},\"mapbox\":{\"style\":\"light\"}}},\"xaxis\":{\"anchor\":\"y\",\"domain\":[0.0,1.0],\"title\":{\"text\":\"\"}},\"yaxis\":{\"anchor\":\"x\",\"domain\":[0.0,1.0],\"title\":{\"text\":\"Lb's of annual emissions per 100k of population\"},\"range\":[0,2]},\"legend\":{\"title\":{\"text\":\"State\"},\"tracegroupgap\":0},\"margin\":{\"t\":60},\"font\":{\"color\":\"white\"},\"plot_bgcolor\":\"black\",\"paper_bgcolor\":\"black\",\"title\":{\"text\":\"Chromium (VI) emissions per 100k of population\"}},                        {\"responsive\": true}                    ).then(function(){\n",
       "                            \n",
       "var gd = document.getElementById('30694153-0685-4feb-8edd-066f4f0a1b7a');\n",
       "var x = new MutationObserver(function (mutations, observer) {{\n",
       "        var display = window.getComputedStyle(gd).display;\n",
       "        if (!display || display === 'none') {{\n",
       "            console.log([gd, 'removed!']);\n",
       "            Plotly.purge(gd);\n",
       "            observer.disconnect();\n",
       "        }}\n",
       "}});\n",
       "\n",
       "// Listen for the removal of the full notebook cells\n",
       "var notebookContainer = gd.closest('#notebook-container');\n",
       "if (notebookContainer) {{\n",
       "    x.observe(notebookContainer, {childList: true});\n",
       "}}\n",
       "\n",
       "// Listen for the clearing of the current output cell\n",
       "var outputEl = gd.closest('.output');\n",
       "if (outputEl) {{\n",
       "    x.observe(outputEl, {childList: true});\n",
       "}}\n",
       "\n",
       "                        })                };                });            </script>        </div>"
      ]
     },
     "metadata": {},
     "output_type": "display_data"
    }
   ],
   "source": [
    "\n",
    "chromium_VI = nei_by_pollutant.loc[(nei_by_pollutant[\"Pollutant\"] == 'Chromium (VI)')]\n",
    "\n",
    "chromium_VI_plot = px.line(\n",
    "    chromium_VI,\n",
    "    x = \"Year\",\n",
    "    y = \"Emmisions_per_100k\",\n",
    "    hover_name = \"CAV_adoption\",\n",
    "    color = \"State\",\n",
    "    labels = {\n",
    "        \"Year\":'',\n",
    "        \"Emmisions_per_100k\": \"Lb's of annual emissions per 100k of population\"\n",
    "    }\n",
    ")\n",
    "\n",
    "chromium_VI_plot.update_layout(\n",
    "    yaxis_range=[0,2],\n",
    "    font_color=\"white\",\n",
    "    legend=dict(\n",
    "    title=\"State\"\n",
    "))\n",
    "\n",
    "chromium_VI_plot.update_layout({\n",
    "    'plot_bgcolor':'black',\n",
    "    'paper_bgcolor':'black',\n",
    "    'title':'Chromium (VI) emissions per 100k of population'\n",
    "})\n",
    "\n",
    "chromium_VI_plot.show()\n",
    "\n"
   ]
  },
  {
   "cell_type": "code",
   "execution_count": 31,
   "id": "f49f4d0e",
   "metadata": {},
   "outputs": [
    {
     "data": {
      "application/vnd.plotly.v1+json": {
       "config": {
        "plotlyServerURL": "https://plot.ly"
       },
       "data": [
        {
         "hovertemplate": "<b>%{hovertext}</b><br><br>State=VT<br>=%{x}<br>Lb's of annual emissions per 100k of population=%{y}<extra></extra>",
         "hovertext": [
          "High CAV adoption",
          "High CAV adoption",
          "High CAV adoption",
          "High CAV adoption",
          "High CAV adoption"
         ],
         "legendgroup": "VT",
         "line": {
          "color": "#636efa",
          "dash": "solid"
         },
         "marker": {
          "symbol": "circle"
         },
         "mode": "lines",
         "name": "VT",
         "orientation": "v",
         "showlegend": true,
         "type": "scatter",
         "x": [
          2008,
          2011,
          2014,
          2017,
          2020
         ],
         "xaxis": "x",
         "y": [
          4.882202042,
          3.913178068,
          17.12508691,
          11.92214026,
          17.04332398
         ],
         "yaxis": "y"
        },
        {
         "hovertemplate": "<b>%{hovertext}</b><br><br>State=MA<br>=%{x}<br>Lb's of annual emissions per 100k of population=%{y}<extra></extra>",
         "hovertext": [
          "High CAV adoption",
          "High CAV adoption",
          "High CAV adoption",
          "High CAV adoption",
          "High CAV adoption"
         ],
         "legendgroup": "MA",
         "line": {
          "color": "#EF553B",
          "dash": "solid"
         },
         "marker": {
          "symbol": "circle"
         },
         "mode": "lines",
         "name": "MA",
         "orientation": "v",
         "showlegend": true,
         "type": "scatter",
         "x": [
          2008,
          2011,
          2014,
          2017,
          2020
         ],
         "xaxis": "x",
         "y": [
          3.703466717,
          2.709576294,
          11.22821226,
          12.49410034,
          19.40541489
         ],
         "yaxis": "y"
        },
        {
         "hovertemplate": "<b>%{hovertext}</b><br><br>State=MD<br>=%{x}<br>Lb's of annual emissions per 100k of population=%{y}<extra></extra>",
         "hovertext": [
          "High CAV adoption",
          "High CAV adoption",
          "High CAV adoption",
          "High CAV adoption",
          "High CAV adoption"
         ],
         "legendgroup": "MD",
         "line": {
          "color": "#00cc96",
          "dash": "solid"
         },
         "marker": {
          "symbol": "circle"
         },
         "mode": "lines",
         "name": "MD",
         "orientation": "v",
         "showlegend": true,
         "type": "scatter",
         "x": [
          2008,
          2011,
          2014,
          2017,
          2020
         ],
         "xaxis": "x",
         "y": [
          4.349638823,
          3.30861211,
          13.54898367,
          11.94084548,
          17.59562979
         ],
         "yaxis": "y"
        },
        {
         "hovertemplate": "<b>%{hovertext}</b><br><br>State=VA<br>=%{x}<br>Lb's of annual emissions per 100k of population=%{y}<extra></extra>",
         "hovertext": [
          "High CAV adoption",
          "High CAV adoption",
          "High CAV adoption",
          "High CAV adoption",
          "High CAV adoption"
         ],
         "legendgroup": "VA",
         "line": {
          "color": "#ab63fa",
          "dash": "solid"
         },
         "marker": {
          "symbol": "circle"
         },
         "mode": "lines",
         "name": "VA",
         "orientation": "v",
         "showlegend": true,
         "type": "scatter",
         "x": [
          2008,
          2011,
          2014,
          2017,
          2020
         ],
         "xaxis": "x",
         "y": [
          4.640828841,
          3.650424532,
          13.00494464,
          10.02182173,
          16.99242569
         ],
         "yaxis": "y"
        },
        {
         "hovertemplate": "<b>%{hovertext}</b><br><br>State=WV<br>=%{x}<br>Lb's of annual emissions per 100k of population=%{y}<extra></extra>",
         "hovertext": [
          "Low CAV adoption",
          "Low CAV adoption",
          "Low CAV adoption",
          "Low CAV adoption",
          "Low CAV adoption"
         ],
         "legendgroup": "WV",
         "line": {
          "color": "#FFA15A",
          "dash": "solid"
         },
         "marker": {
          "symbol": "circle"
         },
         "mode": "lines",
         "name": "WV",
         "orientation": "v",
         "showlegend": true,
         "type": "scatter",
         "x": [
          2008,
          2011,
          2014,
          2017,
          2020
         ],
         "xaxis": "x",
         "y": [
          5.183372829,
          3.563588111,
          12.16678246,
          12.48121915,
          18.43108357
         ],
         "yaxis": "y"
        },
        {
         "hovertemplate": "<b>%{hovertext}</b><br><br>State=AL<br>=%{x}<br>Lb's of annual emissions per 100k of population=%{y}<extra></extra>",
         "hovertext": [
          "Low CAV adoption",
          "Low CAV adoption",
          "Low CAV adoption",
          "Low CAV adoption",
          "Low CAV adoption"
         ],
         "legendgroup": "AL",
         "line": {
          "color": "#19d3f3",
          "dash": "solid"
         },
         "marker": {
          "symbol": "circle"
         },
         "mode": "lines",
         "name": "AL",
         "orientation": "v",
         "showlegend": true,
         "type": "scatter",
         "x": [
          2008,
          2011,
          2014,
          2017,
          2020
         ],
         "xaxis": "x",
         "y": [
          5.690632196,
          5.0675279,
          19.28095553,
          17.49615971,
          25.48507609
         ],
         "yaxis": "y"
        },
        {
         "hovertemplate": "<b>%{hovertext}</b><br><br>State=KY<br>=%{x}<br>Lb's of annual emissions per 100k of population=%{y}<extra></extra>",
         "hovertext": [
          "Low CAV adoption",
          "Low CAV adoption",
          "Low CAV adoption",
          "Low CAV adoption",
          "Low CAV adoption"
         ],
         "legendgroup": "KY",
         "line": {
          "color": "#FF6692",
          "dash": "solid"
         },
         "marker": {
          "symbol": "circle"
         },
         "mode": "lines",
         "name": "KY",
         "orientation": "v",
         "showlegend": true,
         "type": "scatter",
         "x": [
          2008,
          2011,
          2014,
          2017,
          2020
         ],
         "xaxis": "x",
         "y": [
          5.19869577,
          4.201869525,
          14.19581792,
          12.66907005,
          18.86493044
         ],
         "yaxis": "y"
        },
        {
         "hovertemplate": "<b>%{hovertext}</b><br><br>State=MI<br>=%{x}<br>Lb's of annual emissions per 100k of population=%{y}<extra></extra>",
         "hovertext": [
          "Low CAV adoption",
          "Low CAV adoption",
          "Low CAV adoption",
          "Low CAV adoption",
          "Low CAV adoption"
         ],
         "legendgroup": "MI",
         "line": {
          "color": "#B6E880",
          "dash": "solid"
         },
         "marker": {
          "symbol": "circle"
         },
         "mode": "lines",
         "name": "MI",
         "orientation": "v",
         "showlegend": true,
         "type": "scatter",
         "x": [
          2008,
          2011,
          2014,
          2017,
          2020
         ],
         "xaxis": "x",
         "y": [
          4.590031028,
          3.47413572,
          11.68927617,
          11.27440173,
          16.49012168
         ],
         "yaxis": "y"
        },
        {
         "hovertemplate": "<b>%{hovertext}</b><br><br>State=LA<br>=%{x}<br>Lb's of annual emissions per 100k of population=%{y}<extra></extra>",
         "hovertext": [
          "Low CAV adoption",
          "Low CAV adoption",
          "Low CAV adoption",
          "Low CAV adoption",
          "Low CAV adoption"
         ],
         "legendgroup": "LA",
         "line": {
          "color": "#FF97FF",
          "dash": "solid"
         },
         "marker": {
          "symbol": "circle"
         },
         "mode": "lines",
         "name": "LA",
         "orientation": "v",
         "showlegend": true,
         "type": "scatter",
         "x": [
          2008,
          2011,
          2014,
          2017,
          2020
         ],
         "xaxis": "x",
         "y": [
          4.692967163,
          3.699915298,
          15.99304056,
          14.03561165,
          21.09722227
         ],
         "yaxis": "y"
        },
        {
         "hovertemplate": "<b>%{hovertext}</b><br><br>State=AR<br>=%{x}<br>Lb's of annual emissions per 100k of population=%{y}<extra></extra>",
         "hovertext": [
          "Low CAV adoption",
          "Low CAV adoption",
          "Low CAV adoption",
          "Low CAV adoption",
          "Low CAV adoption"
         ],
         "legendgroup": "AR",
         "line": {
          "color": "#FECB52",
          "dash": "solid"
         },
         "marker": {
          "symbol": "circle"
         },
         "mode": "lines",
         "name": "AR",
         "orientation": "v",
         "showlegend": true,
         "type": "scatter",
         "x": [
          2008,
          2011,
          2014,
          2017,
          2020
         ],
         "xaxis": "x",
         "y": [
          5.120323876,
          4.490392161,
          15.02824138,
          13.75695516,
          21.13509739
         ],
         "yaxis": "y"
        },
        {
         "hovertemplate": "<b>%{hovertext}</b><br><br>State=OK<br>=%{x}<br>Lb's of annual emissions per 100k of population=%{y}<extra></extra>",
         "hovertext": [
          "Low CAV adoption",
          "Low CAV adoption",
          "Low CAV adoption",
          "Low CAV adoption",
          "Low CAV adoption"
         ],
         "legendgroup": "OK",
         "line": {
          "color": "#636efa",
          "dash": "solid"
         },
         "marker": {
          "symbol": "circle"
         },
         "mode": "lines",
         "name": "OK",
         "orientation": "v",
         "showlegend": true,
         "type": "scatter",
         "x": [
          2008,
          2011,
          2014,
          2017,
          2020
         ],
         "xaxis": "x",
         "y": [
          6.093163109,
          4.714105918,
          16.13780607,
          14.24822436,
          21.16321839
         ],
         "yaxis": "y"
        },
        {
         "hovertemplate": "<b>%{hovertext}</b><br><br>State=CA<br>=%{x}<br>Lb's of annual emissions per 100k of population=%{y}<extra></extra>",
         "hovertext": [
          "High CAV adoption",
          "High CAV adoption",
          "High CAV adoption",
          "High CAV adoption",
          "High CAV adoption"
         ],
         "legendgroup": "CA",
         "line": {
          "color": "#EF553B",
          "dash": "solid"
         },
         "marker": {
          "symbol": "circle"
         },
         "mode": "lines",
         "name": "CA",
         "orientation": "v",
         "showlegend": true,
         "type": "scatter",
         "x": [
          2008,
          2011,
          2014,
          2017,
          2020
         ],
         "xaxis": "x",
         "y": [
          19.02877718,
          1.484069171,
          137.766927,
          0.8275712856,
          38.96924093
         ],
         "yaxis": "y"
        },
        {
         "hovertemplate": "<b>%{hovertext}</b><br><br>State=WA<br>=%{x}<br>Lb's of annual emissions per 100k of population=%{y}<extra></extra>",
         "hovertext": [
          "High CAV adoption",
          "High CAV adoption",
          "High CAV adoption",
          "High CAV adoption",
          "High CAV adoption"
         ],
         "legendgroup": "WA",
         "line": {
          "color": "#00cc96",
          "dash": "solid"
         },
         "marker": {
          "symbol": "circle"
         },
         "mode": "lines",
         "name": "WA",
         "orientation": "v",
         "showlegend": true,
         "type": "scatter",
         "x": [
          2008,
          2011,
          2014,
          2017,
          2020
         ],
         "xaxis": "x",
         "y": [
          3.896510103,
          3.161219885,
          12.50504935,
          10.50013974,
          17.29902903
         ],
         "yaxis": "y"
        },
        {
         "hovertemplate": "<b>%{hovertext}</b><br><br>State=OR<br>=%{x}<br>Lb's of annual emissions per 100k of population=%{y}<extra></extra>",
         "hovertext": [
          "High CAV adoption",
          "High CAV adoption",
          "High CAV adoption",
          "High CAV adoption",
          "High CAV adoption"
         ],
         "legendgroup": "OR",
         "line": {
          "color": "#ab63fa",
          "dash": "solid"
         },
         "marker": {
          "symbol": "circle"
         },
         "mode": "lines",
         "name": "OR",
         "orientation": "v",
         "showlegend": true,
         "type": "scatter",
         "x": [
          2008,
          2011,
          2014,
          2017,
          2020
         ],
         "xaxis": "x",
         "y": [
          3.975039701,
          3.024036865,
          12.07194328,
          13.53611318,
          19.32724884
         ],
         "yaxis": "y"
        },
        {
         "hovertemplate": "<b>%{hovertext}</b><br><br>State=HI<br>=%{x}<br>Lb's of annual emissions per 100k of population=%{y}<extra></extra>",
         "hovertext": [
          "High CAV adoption",
          "High CAV adoption",
          "High CAV adoption",
          "High CAV adoption",
          "High CAV adoption"
         ],
         "legendgroup": "HI",
         "line": {
          "color": "#FFA15A",
          "dash": "solid"
         },
         "marker": {
          "symbol": "circle"
         },
         "mode": "lines",
         "name": "HI",
         "orientation": "v",
         "showlegend": true,
         "type": "scatter",
         "x": [
          2008,
          2011,
          2014,
          2017,
          2020
         ],
         "xaxis": "x",
         "y": [
          3.144471117,
          2.312236017,
          9.999631309,
          11.24420469,
          15.01717569
         ],
         "yaxis": "y"
        },
        {
         "hovertemplate": "<b>%{hovertext}</b><br><br>State=CO<br>=%{x}<br>Lb's of annual emissions per 100k of population=%{y}<extra></extra>",
         "hovertext": [
          "High CAV adoption",
          "High CAV adoption",
          "High CAV adoption",
          "High CAV adoption",
          "High CAV adoption"
         ],
         "legendgroup": "CO",
         "line": {
          "color": "#19d3f3",
          "dash": "solid"
         },
         "marker": {
          "symbol": "circle"
         },
         "mode": "lines",
         "name": "CO",
         "orientation": "v",
         "showlegend": true,
         "type": "scatter",
         "x": [
          2008,
          2011,
          2014,
          2017,
          2020
         ],
         "xaxis": "x",
         "y": [
          4.248979346,
          3.174407141,
          12.68101619,
          11.2925633,
          17.28928209
         ],
         "yaxis": "y"
        },
        {
         "hovertemplate": "<b>%{hovertext}</b><br><br>State=NV<br>=%{x}<br>Lb's of annual emissions per 100k of population=%{y}<extra></extra>",
         "hovertext": [
          "High CAV adoption",
          "High CAV adoption",
          "High CAV adoption",
          "High CAV adoption",
          "High CAV adoption"
         ],
         "legendgroup": "NV",
         "line": {
          "color": "#FF6692",
          "dash": "solid"
         },
         "marker": {
          "symbol": "circle"
         },
         "mode": "lines",
         "name": "NV",
         "orientation": "v",
         "showlegend": true,
         "type": "scatter",
         "x": [
          2008,
          2011,
          2014,
          2017,
          2020
         ],
         "xaxis": "x",
         "y": [
          3.177444068,
          3.280440316,
          13.07758298,
          10.07808922,
          18.15760998
         ],
         "yaxis": "y"
        },
        {
         "hovertemplate": "<b>%{hovertext}</b><br><br>State=ND<br>=%{x}<br>Lb's of annual emissions per 100k of population=%{y}<extra></extra>",
         "hovertext": [
          "Low CAV adoption",
          "Low CAV adoption",
          "Low CAV adoption",
          "Low CAV adoption",
          "Low CAV adoption"
         ],
         "legendgroup": "ND",
         "line": {
          "color": "#B6E880",
          "dash": "solid"
         },
         "marker": {
          "symbol": "circle"
         },
         "mode": "lines",
         "name": "ND",
         "orientation": "v",
         "showlegend": true,
         "type": "scatter",
         "x": [
          2008,
          2011,
          2014,
          2017,
          2020
         ],
         "xaxis": "x",
         "y": [
          5.666708142,
          5.279873836,
          23.65658831,
          15.27634767,
          21.88731577
         ],
         "yaxis": "y"
        },
        {
         "hovertemplate": "<b>%{hovertext}</b><br><br>State=WY<br>=%{x}<br>Lb's of annual emissions per 100k of population=%{y}<extra></extra>",
         "hovertext": [
          "Low CAV adoption",
          "Low CAV adoption",
          "Low CAV adoption",
          "Low CAV adoption",
          "Low CAV adoption"
         ],
         "legendgroup": "WY",
         "line": {
          "color": "#FF97FF",
          "dash": "solid"
         },
         "marker": {
          "symbol": "circle"
         },
         "mode": "lines",
         "name": "WY",
         "orientation": "v",
         "showlegend": true,
         "type": "scatter",
         "x": [
          2008,
          2011,
          2014,
          2017,
          2020
         ],
         "xaxis": "x",
         "y": [
          8.398466702,
          6.922490328,
          21.21479347,
          18.48636609,
          31.08232011
         ],
         "yaxis": "y"
        },
        {
         "hovertemplate": "<b>%{hovertext}</b><br><br>State=SD<br>=%{x}<br>Lb's of annual emissions per 100k of population=%{y}<extra></extra>",
         "hovertext": [
          "Low CAV adoption",
          "Low CAV adoption",
          "Low CAV adoption",
          "Low CAV adoption",
          "Low CAV adoption"
         ],
         "legendgroup": "SD",
         "line": {
          "color": "#FECB52",
          "dash": "solid"
         },
         "marker": {
          "symbol": "circle"
         },
         "mode": "lines",
         "name": "SD",
         "orientation": "v",
         "showlegend": true,
         "type": "scatter",
         "x": [
          2008,
          2011,
          2014,
          2017,
          2020
         ],
         "xaxis": "x",
         "y": [
          5.419062527,
          4.127103727,
          14.08989515,
          11.30001248,
          17.58075813
         ],
         "yaxis": "y"
        }
       ],
       "layout": {
        "font": {
         "color": "white"
        },
        "legend": {
         "title": {
          "text": "State"
         },
         "tracegroupgap": 0
        },
        "margin": {
         "t": 60
        },
        "paper_bgcolor": "black",
        "plot_bgcolor": "black",
        "template": {
         "data": {
          "bar": [
           {
            "error_x": {
             "color": "#2a3f5f"
            },
            "error_y": {
             "color": "#2a3f5f"
            },
            "marker": {
             "line": {
              "color": "#E5ECF6",
              "width": 0.5
             },
             "pattern": {
              "fillmode": "overlay",
              "size": 10,
              "solidity": 0.2
             }
            },
            "type": "bar"
           }
          ],
          "barpolar": [
           {
            "marker": {
             "line": {
              "color": "#E5ECF6",
              "width": 0.5
             },
             "pattern": {
              "fillmode": "overlay",
              "size": 10,
              "solidity": 0.2
             }
            },
            "type": "barpolar"
           }
          ],
          "carpet": [
           {
            "aaxis": {
             "endlinecolor": "#2a3f5f",
             "gridcolor": "white",
             "linecolor": "white",
             "minorgridcolor": "white",
             "startlinecolor": "#2a3f5f"
            },
            "baxis": {
             "endlinecolor": "#2a3f5f",
             "gridcolor": "white",
             "linecolor": "white",
             "minorgridcolor": "white",
             "startlinecolor": "#2a3f5f"
            },
            "type": "carpet"
           }
          ],
          "choropleth": [
           {
            "colorbar": {
             "outlinewidth": 0,
             "ticks": ""
            },
            "type": "choropleth"
           }
          ],
          "contour": [
           {
            "colorbar": {
             "outlinewidth": 0,
             "ticks": ""
            },
            "colorscale": [
             [
              0,
              "#0d0887"
             ],
             [
              0.1111111111111111,
              "#46039f"
             ],
             [
              0.2222222222222222,
              "#7201a8"
             ],
             [
              0.3333333333333333,
              "#9c179e"
             ],
             [
              0.4444444444444444,
              "#bd3786"
             ],
             [
              0.5555555555555556,
              "#d8576b"
             ],
             [
              0.6666666666666666,
              "#ed7953"
             ],
             [
              0.7777777777777778,
              "#fb9f3a"
             ],
             [
              0.8888888888888888,
              "#fdca26"
             ],
             [
              1,
              "#f0f921"
             ]
            ],
            "type": "contour"
           }
          ],
          "contourcarpet": [
           {
            "colorbar": {
             "outlinewidth": 0,
             "ticks": ""
            },
            "type": "contourcarpet"
           }
          ],
          "heatmap": [
           {
            "colorbar": {
             "outlinewidth": 0,
             "ticks": ""
            },
            "colorscale": [
             [
              0,
              "#0d0887"
             ],
             [
              0.1111111111111111,
              "#46039f"
             ],
             [
              0.2222222222222222,
              "#7201a8"
             ],
             [
              0.3333333333333333,
              "#9c179e"
             ],
             [
              0.4444444444444444,
              "#bd3786"
             ],
             [
              0.5555555555555556,
              "#d8576b"
             ],
             [
              0.6666666666666666,
              "#ed7953"
             ],
             [
              0.7777777777777778,
              "#fb9f3a"
             ],
             [
              0.8888888888888888,
              "#fdca26"
             ],
             [
              1,
              "#f0f921"
             ]
            ],
            "type": "heatmap"
           }
          ],
          "heatmapgl": [
           {
            "colorbar": {
             "outlinewidth": 0,
             "ticks": ""
            },
            "colorscale": [
             [
              0,
              "#0d0887"
             ],
             [
              0.1111111111111111,
              "#46039f"
             ],
             [
              0.2222222222222222,
              "#7201a8"
             ],
             [
              0.3333333333333333,
              "#9c179e"
             ],
             [
              0.4444444444444444,
              "#bd3786"
             ],
             [
              0.5555555555555556,
              "#d8576b"
             ],
             [
              0.6666666666666666,
              "#ed7953"
             ],
             [
              0.7777777777777778,
              "#fb9f3a"
             ],
             [
              0.8888888888888888,
              "#fdca26"
             ],
             [
              1,
              "#f0f921"
             ]
            ],
            "type": "heatmapgl"
           }
          ],
          "histogram": [
           {
            "marker": {
             "pattern": {
              "fillmode": "overlay",
              "size": 10,
              "solidity": 0.2
             }
            },
            "type": "histogram"
           }
          ],
          "histogram2d": [
           {
            "colorbar": {
             "outlinewidth": 0,
             "ticks": ""
            },
            "colorscale": [
             [
              0,
              "#0d0887"
             ],
             [
              0.1111111111111111,
              "#46039f"
             ],
             [
              0.2222222222222222,
              "#7201a8"
             ],
             [
              0.3333333333333333,
              "#9c179e"
             ],
             [
              0.4444444444444444,
              "#bd3786"
             ],
             [
              0.5555555555555556,
              "#d8576b"
             ],
             [
              0.6666666666666666,
              "#ed7953"
             ],
             [
              0.7777777777777778,
              "#fb9f3a"
             ],
             [
              0.8888888888888888,
              "#fdca26"
             ],
             [
              1,
              "#f0f921"
             ]
            ],
            "type": "histogram2d"
           }
          ],
          "histogram2dcontour": [
           {
            "colorbar": {
             "outlinewidth": 0,
             "ticks": ""
            },
            "colorscale": [
             [
              0,
              "#0d0887"
             ],
             [
              0.1111111111111111,
              "#46039f"
             ],
             [
              0.2222222222222222,
              "#7201a8"
             ],
             [
              0.3333333333333333,
              "#9c179e"
             ],
             [
              0.4444444444444444,
              "#bd3786"
             ],
             [
              0.5555555555555556,
              "#d8576b"
             ],
             [
              0.6666666666666666,
              "#ed7953"
             ],
             [
              0.7777777777777778,
              "#fb9f3a"
             ],
             [
              0.8888888888888888,
              "#fdca26"
             ],
             [
              1,
              "#f0f921"
             ]
            ],
            "type": "histogram2dcontour"
           }
          ],
          "mesh3d": [
           {
            "colorbar": {
             "outlinewidth": 0,
             "ticks": ""
            },
            "type": "mesh3d"
           }
          ],
          "parcoords": [
           {
            "line": {
             "colorbar": {
              "outlinewidth": 0,
              "ticks": ""
             }
            },
            "type": "parcoords"
           }
          ],
          "pie": [
           {
            "automargin": true,
            "type": "pie"
           }
          ],
          "scatter": [
           {
            "fillpattern": {
             "fillmode": "overlay",
             "size": 10,
             "solidity": 0.2
            },
            "type": "scatter"
           }
          ],
          "scatter3d": [
           {
            "line": {
             "colorbar": {
              "outlinewidth": 0,
              "ticks": ""
             }
            },
            "marker": {
             "colorbar": {
              "outlinewidth": 0,
              "ticks": ""
             }
            },
            "type": "scatter3d"
           }
          ],
          "scattercarpet": [
           {
            "marker": {
             "colorbar": {
              "outlinewidth": 0,
              "ticks": ""
             }
            },
            "type": "scattercarpet"
           }
          ],
          "scattergeo": [
           {
            "marker": {
             "colorbar": {
              "outlinewidth": 0,
              "ticks": ""
             }
            },
            "type": "scattergeo"
           }
          ],
          "scattergl": [
           {
            "marker": {
             "colorbar": {
              "outlinewidth": 0,
              "ticks": ""
             }
            },
            "type": "scattergl"
           }
          ],
          "scattermapbox": [
           {
            "marker": {
             "colorbar": {
              "outlinewidth": 0,
              "ticks": ""
             }
            },
            "type": "scattermapbox"
           }
          ],
          "scatterpolar": [
           {
            "marker": {
             "colorbar": {
              "outlinewidth": 0,
              "ticks": ""
             }
            },
            "type": "scatterpolar"
           }
          ],
          "scatterpolargl": [
           {
            "marker": {
             "colorbar": {
              "outlinewidth": 0,
              "ticks": ""
             }
            },
            "type": "scatterpolargl"
           }
          ],
          "scatterternary": [
           {
            "marker": {
             "colorbar": {
              "outlinewidth": 0,
              "ticks": ""
             }
            },
            "type": "scatterternary"
           }
          ],
          "surface": [
           {
            "colorbar": {
             "outlinewidth": 0,
             "ticks": ""
            },
            "colorscale": [
             [
              0,
              "#0d0887"
             ],
             [
              0.1111111111111111,
              "#46039f"
             ],
             [
              0.2222222222222222,
              "#7201a8"
             ],
             [
              0.3333333333333333,
              "#9c179e"
             ],
             [
              0.4444444444444444,
              "#bd3786"
             ],
             [
              0.5555555555555556,
              "#d8576b"
             ],
             [
              0.6666666666666666,
              "#ed7953"
             ],
             [
              0.7777777777777778,
              "#fb9f3a"
             ],
             [
              0.8888888888888888,
              "#fdca26"
             ],
             [
              1,
              "#f0f921"
             ]
            ],
            "type": "surface"
           }
          ],
          "table": [
           {
            "cells": {
             "fill": {
              "color": "#EBF0F8"
             },
             "line": {
              "color": "white"
             }
            },
            "header": {
             "fill": {
              "color": "#C8D4E3"
             },
             "line": {
              "color": "white"
             }
            },
            "type": "table"
           }
          ]
         },
         "layout": {
          "annotationdefaults": {
           "arrowcolor": "#2a3f5f",
           "arrowhead": 0,
           "arrowwidth": 1
          },
          "autotypenumbers": "strict",
          "coloraxis": {
           "colorbar": {
            "outlinewidth": 0,
            "ticks": ""
           }
          },
          "colorscale": {
           "diverging": [
            [
             0,
             "#8e0152"
            ],
            [
             0.1,
             "#c51b7d"
            ],
            [
             0.2,
             "#de77ae"
            ],
            [
             0.3,
             "#f1b6da"
            ],
            [
             0.4,
             "#fde0ef"
            ],
            [
             0.5,
             "#f7f7f7"
            ],
            [
             0.6,
             "#e6f5d0"
            ],
            [
             0.7,
             "#b8e186"
            ],
            [
             0.8,
             "#7fbc41"
            ],
            [
             0.9,
             "#4d9221"
            ],
            [
             1,
             "#276419"
            ]
           ],
           "sequential": [
            [
             0,
             "#0d0887"
            ],
            [
             0.1111111111111111,
             "#46039f"
            ],
            [
             0.2222222222222222,
             "#7201a8"
            ],
            [
             0.3333333333333333,
             "#9c179e"
            ],
            [
             0.4444444444444444,
             "#bd3786"
            ],
            [
             0.5555555555555556,
             "#d8576b"
            ],
            [
             0.6666666666666666,
             "#ed7953"
            ],
            [
             0.7777777777777778,
             "#fb9f3a"
            ],
            [
             0.8888888888888888,
             "#fdca26"
            ],
            [
             1,
             "#f0f921"
            ]
           ],
           "sequentialminus": [
            [
             0,
             "#0d0887"
            ],
            [
             0.1111111111111111,
             "#46039f"
            ],
            [
             0.2222222222222222,
             "#7201a8"
            ],
            [
             0.3333333333333333,
             "#9c179e"
            ],
            [
             0.4444444444444444,
             "#bd3786"
            ],
            [
             0.5555555555555556,
             "#d8576b"
            ],
            [
             0.6666666666666666,
             "#ed7953"
            ],
            [
             0.7777777777777778,
             "#fb9f3a"
            ],
            [
             0.8888888888888888,
             "#fdca26"
            ],
            [
             1,
             "#f0f921"
            ]
           ]
          },
          "colorway": [
           "#636efa",
           "#EF553B",
           "#00cc96",
           "#ab63fa",
           "#FFA15A",
           "#19d3f3",
           "#FF6692",
           "#B6E880",
           "#FF97FF",
           "#FECB52"
          ],
          "font": {
           "color": "#2a3f5f"
          },
          "geo": {
           "bgcolor": "white",
           "lakecolor": "white",
           "landcolor": "#E5ECF6",
           "showlakes": true,
           "showland": true,
           "subunitcolor": "white"
          },
          "hoverlabel": {
           "align": "left"
          },
          "hovermode": "closest",
          "mapbox": {
           "style": "light"
          },
          "paper_bgcolor": "white",
          "plot_bgcolor": "#E5ECF6",
          "polar": {
           "angularaxis": {
            "gridcolor": "white",
            "linecolor": "white",
            "ticks": ""
           },
           "bgcolor": "#E5ECF6",
           "radialaxis": {
            "gridcolor": "white",
            "linecolor": "white",
            "ticks": ""
           }
          },
          "scene": {
           "xaxis": {
            "backgroundcolor": "#E5ECF6",
            "gridcolor": "white",
            "gridwidth": 2,
            "linecolor": "white",
            "showbackground": true,
            "ticks": "",
            "zerolinecolor": "white"
           },
           "yaxis": {
            "backgroundcolor": "#E5ECF6",
            "gridcolor": "white",
            "gridwidth": 2,
            "linecolor": "white",
            "showbackground": true,
            "ticks": "",
            "zerolinecolor": "white"
           },
           "zaxis": {
            "backgroundcolor": "#E5ECF6",
            "gridcolor": "white",
            "gridwidth": 2,
            "linecolor": "white",
            "showbackground": true,
            "ticks": "",
            "zerolinecolor": "white"
           }
          },
          "shapedefaults": {
           "line": {
            "color": "#2a3f5f"
           }
          },
          "ternary": {
           "aaxis": {
            "gridcolor": "white",
            "linecolor": "white",
            "ticks": ""
           },
           "baxis": {
            "gridcolor": "white",
            "linecolor": "white",
            "ticks": ""
           },
           "bgcolor": "#E5ECF6",
           "caxis": {
            "gridcolor": "white",
            "linecolor": "white",
            "ticks": ""
           }
          },
          "title": {
           "x": 0.05
          },
          "xaxis": {
           "automargin": true,
           "gridcolor": "white",
           "linecolor": "white",
           "ticks": "",
           "title": {
            "standoff": 15
           },
           "zerolinecolor": "white",
           "zerolinewidth": 2
          },
          "yaxis": {
           "automargin": true,
           "gridcolor": "white",
           "linecolor": "white",
           "ticks": "",
           "title": {
            "standoff": 15
           },
           "zerolinecolor": "white",
           "zerolinewidth": 2
          }
         }
        },
        "title": {
         "text": "Manganese emissions per 100k of population"
        },
        "xaxis": {
         "anchor": "y",
         "domain": [
          0,
          1
         ],
         "title": {
          "text": ""
         }
        },
        "yaxis": {
         "anchor": "x",
         "domain": [
          0,
          1
         ],
         "range": [
          0,
          200
         ],
         "title": {
          "text": "Lb's of annual emissions per 100k of population"
         }
        }
       }
      },
      "text/html": [
       "<div>                            <div id=\"c4f0d133-4fc3-47f6-97ab-f150c7c8dd5d\" class=\"plotly-graph-div\" style=\"height:525px; width:100%;\"></div>            <script type=\"text/javascript\">                require([\"plotly\"], function(Plotly) {                    window.PLOTLYENV=window.PLOTLYENV || {};                                    if (document.getElementById(\"c4f0d133-4fc3-47f6-97ab-f150c7c8dd5d\")) {                    Plotly.newPlot(                        \"c4f0d133-4fc3-47f6-97ab-f150c7c8dd5d\",                        [{\"hovertemplate\":\"<b>%{hovertext}</b><br><br>State=VT<br>=%{x}<br>Lb's of annual emissions per 100k of population=%{y}<extra></extra>\",\"hovertext\":[\"High CAV adoption\",\"High CAV adoption\",\"High CAV adoption\",\"High CAV adoption\",\"High CAV adoption\"],\"legendgroup\":\"VT\",\"line\":{\"color\":\"#636efa\",\"dash\":\"solid\"},\"marker\":{\"symbol\":\"circle\"},\"mode\":\"lines\",\"name\":\"VT\",\"orientation\":\"v\",\"showlegend\":true,\"x\":[2008,2011,2014,2017,2020],\"xaxis\":\"x\",\"y\":[4.882202042,3.913178068,17.12508691,11.92214026,17.04332398],\"yaxis\":\"y\",\"type\":\"scatter\"},{\"hovertemplate\":\"<b>%{hovertext}</b><br><br>State=MA<br>=%{x}<br>Lb's of annual emissions per 100k of population=%{y}<extra></extra>\",\"hovertext\":[\"High CAV adoption\",\"High CAV adoption\",\"High CAV adoption\",\"High CAV adoption\",\"High CAV adoption\"],\"legendgroup\":\"MA\",\"line\":{\"color\":\"#EF553B\",\"dash\":\"solid\"},\"marker\":{\"symbol\":\"circle\"},\"mode\":\"lines\",\"name\":\"MA\",\"orientation\":\"v\",\"showlegend\":true,\"x\":[2008,2011,2014,2017,2020],\"xaxis\":\"x\",\"y\":[3.703466717,2.709576294,11.22821226,12.49410034,19.40541489],\"yaxis\":\"y\",\"type\":\"scatter\"},{\"hovertemplate\":\"<b>%{hovertext}</b><br><br>State=MD<br>=%{x}<br>Lb's of annual emissions per 100k of population=%{y}<extra></extra>\",\"hovertext\":[\"High CAV adoption\",\"High CAV adoption\",\"High CAV adoption\",\"High CAV adoption\",\"High CAV adoption\"],\"legendgroup\":\"MD\",\"line\":{\"color\":\"#00cc96\",\"dash\":\"solid\"},\"marker\":{\"symbol\":\"circle\"},\"mode\":\"lines\",\"name\":\"MD\",\"orientation\":\"v\",\"showlegend\":true,\"x\":[2008,2011,2014,2017,2020],\"xaxis\":\"x\",\"y\":[4.349638823,3.30861211,13.54898367,11.94084548,17.59562979],\"yaxis\":\"y\",\"type\":\"scatter\"},{\"hovertemplate\":\"<b>%{hovertext}</b><br><br>State=VA<br>=%{x}<br>Lb's of annual emissions per 100k of population=%{y}<extra></extra>\",\"hovertext\":[\"High CAV adoption\",\"High CAV adoption\",\"High CAV adoption\",\"High CAV adoption\",\"High CAV adoption\"],\"legendgroup\":\"VA\",\"line\":{\"color\":\"#ab63fa\",\"dash\":\"solid\"},\"marker\":{\"symbol\":\"circle\"},\"mode\":\"lines\",\"name\":\"VA\",\"orientation\":\"v\",\"showlegend\":true,\"x\":[2008,2011,2014,2017,2020],\"xaxis\":\"x\",\"y\":[4.640828841,3.650424532,13.00494464,10.02182173,16.99242569],\"yaxis\":\"y\",\"type\":\"scatter\"},{\"hovertemplate\":\"<b>%{hovertext}</b><br><br>State=WV<br>=%{x}<br>Lb's of annual emissions per 100k of population=%{y}<extra></extra>\",\"hovertext\":[\"Low CAV adoption\",\"Low CAV adoption\",\"Low CAV adoption\",\"Low CAV adoption\",\"Low CAV adoption\"],\"legendgroup\":\"WV\",\"line\":{\"color\":\"#FFA15A\",\"dash\":\"solid\"},\"marker\":{\"symbol\":\"circle\"},\"mode\":\"lines\",\"name\":\"WV\",\"orientation\":\"v\",\"showlegend\":true,\"x\":[2008,2011,2014,2017,2020],\"xaxis\":\"x\",\"y\":[5.183372829,3.563588111,12.16678246,12.48121915,18.43108357],\"yaxis\":\"y\",\"type\":\"scatter\"},{\"hovertemplate\":\"<b>%{hovertext}</b><br><br>State=AL<br>=%{x}<br>Lb's of annual emissions per 100k of population=%{y}<extra></extra>\",\"hovertext\":[\"Low CAV adoption\",\"Low CAV adoption\",\"Low CAV adoption\",\"Low CAV adoption\",\"Low CAV adoption\"],\"legendgroup\":\"AL\",\"line\":{\"color\":\"#19d3f3\",\"dash\":\"solid\"},\"marker\":{\"symbol\":\"circle\"},\"mode\":\"lines\",\"name\":\"AL\",\"orientation\":\"v\",\"showlegend\":true,\"x\":[2008,2011,2014,2017,2020],\"xaxis\":\"x\",\"y\":[5.690632196,5.0675279,19.28095553,17.49615971,25.48507609],\"yaxis\":\"y\",\"type\":\"scatter\"},{\"hovertemplate\":\"<b>%{hovertext}</b><br><br>State=KY<br>=%{x}<br>Lb's of annual emissions per 100k of population=%{y}<extra></extra>\",\"hovertext\":[\"Low CAV adoption\",\"Low CAV adoption\",\"Low CAV adoption\",\"Low CAV adoption\",\"Low CAV adoption\"],\"legendgroup\":\"KY\",\"line\":{\"color\":\"#FF6692\",\"dash\":\"solid\"},\"marker\":{\"symbol\":\"circle\"},\"mode\":\"lines\",\"name\":\"KY\",\"orientation\":\"v\",\"showlegend\":true,\"x\":[2008,2011,2014,2017,2020],\"xaxis\":\"x\",\"y\":[5.19869577,4.201869525,14.19581792,12.66907005,18.86493044],\"yaxis\":\"y\",\"type\":\"scatter\"},{\"hovertemplate\":\"<b>%{hovertext}</b><br><br>State=MI<br>=%{x}<br>Lb's of annual emissions per 100k of population=%{y}<extra></extra>\",\"hovertext\":[\"Low CAV adoption\",\"Low CAV adoption\",\"Low CAV adoption\",\"Low CAV adoption\",\"Low CAV adoption\"],\"legendgroup\":\"MI\",\"line\":{\"color\":\"#B6E880\",\"dash\":\"solid\"},\"marker\":{\"symbol\":\"circle\"},\"mode\":\"lines\",\"name\":\"MI\",\"orientation\":\"v\",\"showlegend\":true,\"x\":[2008,2011,2014,2017,2020],\"xaxis\":\"x\",\"y\":[4.590031028,3.47413572,11.68927617,11.27440173,16.49012168],\"yaxis\":\"y\",\"type\":\"scatter\"},{\"hovertemplate\":\"<b>%{hovertext}</b><br><br>State=LA<br>=%{x}<br>Lb's of annual emissions per 100k of population=%{y}<extra></extra>\",\"hovertext\":[\"Low CAV adoption\",\"Low CAV adoption\",\"Low CAV adoption\",\"Low CAV adoption\",\"Low CAV adoption\"],\"legendgroup\":\"LA\",\"line\":{\"color\":\"#FF97FF\",\"dash\":\"solid\"},\"marker\":{\"symbol\":\"circle\"},\"mode\":\"lines\",\"name\":\"LA\",\"orientation\":\"v\",\"showlegend\":true,\"x\":[2008,2011,2014,2017,2020],\"xaxis\":\"x\",\"y\":[4.692967163,3.699915298,15.99304056,14.03561165,21.09722227],\"yaxis\":\"y\",\"type\":\"scatter\"},{\"hovertemplate\":\"<b>%{hovertext}</b><br><br>State=AR<br>=%{x}<br>Lb's of annual emissions per 100k of population=%{y}<extra></extra>\",\"hovertext\":[\"Low CAV adoption\",\"Low CAV adoption\",\"Low CAV adoption\",\"Low CAV adoption\",\"Low CAV adoption\"],\"legendgroup\":\"AR\",\"line\":{\"color\":\"#FECB52\",\"dash\":\"solid\"},\"marker\":{\"symbol\":\"circle\"},\"mode\":\"lines\",\"name\":\"AR\",\"orientation\":\"v\",\"showlegend\":true,\"x\":[2008,2011,2014,2017,2020],\"xaxis\":\"x\",\"y\":[5.120323876,4.490392161,15.02824138,13.75695516,21.13509739],\"yaxis\":\"y\",\"type\":\"scatter\"},{\"hovertemplate\":\"<b>%{hovertext}</b><br><br>State=OK<br>=%{x}<br>Lb's of annual emissions per 100k of population=%{y}<extra></extra>\",\"hovertext\":[\"Low CAV adoption\",\"Low CAV adoption\",\"Low CAV adoption\",\"Low CAV adoption\",\"Low CAV adoption\"],\"legendgroup\":\"OK\",\"line\":{\"color\":\"#636efa\",\"dash\":\"solid\"},\"marker\":{\"symbol\":\"circle\"},\"mode\":\"lines\",\"name\":\"OK\",\"orientation\":\"v\",\"showlegend\":true,\"x\":[2008,2011,2014,2017,2020],\"xaxis\":\"x\",\"y\":[6.093163109,4.714105918,16.13780607,14.24822436,21.16321839],\"yaxis\":\"y\",\"type\":\"scatter\"},{\"hovertemplate\":\"<b>%{hovertext}</b><br><br>State=CA<br>=%{x}<br>Lb's of annual emissions per 100k of population=%{y}<extra></extra>\",\"hovertext\":[\"High CAV adoption\",\"High CAV adoption\",\"High CAV adoption\",\"High CAV adoption\",\"High CAV adoption\"],\"legendgroup\":\"CA\",\"line\":{\"color\":\"#EF553B\",\"dash\":\"solid\"},\"marker\":{\"symbol\":\"circle\"},\"mode\":\"lines\",\"name\":\"CA\",\"orientation\":\"v\",\"showlegend\":true,\"x\":[2008,2011,2014,2017,2020],\"xaxis\":\"x\",\"y\":[19.02877718,1.484069171,137.766927,0.8275712856,38.96924093],\"yaxis\":\"y\",\"type\":\"scatter\"},{\"hovertemplate\":\"<b>%{hovertext}</b><br><br>State=WA<br>=%{x}<br>Lb's of annual emissions per 100k of population=%{y}<extra></extra>\",\"hovertext\":[\"High CAV adoption\",\"High CAV adoption\",\"High CAV adoption\",\"High CAV adoption\",\"High CAV adoption\"],\"legendgroup\":\"WA\",\"line\":{\"color\":\"#00cc96\",\"dash\":\"solid\"},\"marker\":{\"symbol\":\"circle\"},\"mode\":\"lines\",\"name\":\"WA\",\"orientation\":\"v\",\"showlegend\":true,\"x\":[2008,2011,2014,2017,2020],\"xaxis\":\"x\",\"y\":[3.896510103,3.161219885,12.50504935,10.50013974,17.29902903],\"yaxis\":\"y\",\"type\":\"scatter\"},{\"hovertemplate\":\"<b>%{hovertext}</b><br><br>State=OR<br>=%{x}<br>Lb's of annual emissions per 100k of population=%{y}<extra></extra>\",\"hovertext\":[\"High CAV adoption\",\"High CAV adoption\",\"High CAV adoption\",\"High CAV adoption\",\"High CAV adoption\"],\"legendgroup\":\"OR\",\"line\":{\"color\":\"#ab63fa\",\"dash\":\"solid\"},\"marker\":{\"symbol\":\"circle\"},\"mode\":\"lines\",\"name\":\"OR\",\"orientation\":\"v\",\"showlegend\":true,\"x\":[2008,2011,2014,2017,2020],\"xaxis\":\"x\",\"y\":[3.975039701,3.024036865,12.07194328,13.53611318,19.32724884],\"yaxis\":\"y\",\"type\":\"scatter\"},{\"hovertemplate\":\"<b>%{hovertext}</b><br><br>State=HI<br>=%{x}<br>Lb's of annual emissions per 100k of population=%{y}<extra></extra>\",\"hovertext\":[\"High CAV adoption\",\"High CAV adoption\",\"High CAV adoption\",\"High CAV adoption\",\"High CAV adoption\"],\"legendgroup\":\"HI\",\"line\":{\"color\":\"#FFA15A\",\"dash\":\"solid\"},\"marker\":{\"symbol\":\"circle\"},\"mode\":\"lines\",\"name\":\"HI\",\"orientation\":\"v\",\"showlegend\":true,\"x\":[2008,2011,2014,2017,2020],\"xaxis\":\"x\",\"y\":[3.144471117,2.312236017,9.999631309,11.24420469,15.01717569],\"yaxis\":\"y\",\"type\":\"scatter\"},{\"hovertemplate\":\"<b>%{hovertext}</b><br><br>State=CO<br>=%{x}<br>Lb's of annual emissions per 100k of population=%{y}<extra></extra>\",\"hovertext\":[\"High CAV adoption\",\"High CAV adoption\",\"High CAV adoption\",\"High CAV adoption\",\"High CAV adoption\"],\"legendgroup\":\"CO\",\"line\":{\"color\":\"#19d3f3\",\"dash\":\"solid\"},\"marker\":{\"symbol\":\"circle\"},\"mode\":\"lines\",\"name\":\"CO\",\"orientation\":\"v\",\"showlegend\":true,\"x\":[2008,2011,2014,2017,2020],\"xaxis\":\"x\",\"y\":[4.248979346,3.174407141,12.68101619,11.2925633,17.28928209],\"yaxis\":\"y\",\"type\":\"scatter\"},{\"hovertemplate\":\"<b>%{hovertext}</b><br><br>State=NV<br>=%{x}<br>Lb's of annual emissions per 100k of population=%{y}<extra></extra>\",\"hovertext\":[\"High CAV adoption\",\"High CAV adoption\",\"High CAV adoption\",\"High CAV adoption\",\"High CAV adoption\"],\"legendgroup\":\"NV\",\"line\":{\"color\":\"#FF6692\",\"dash\":\"solid\"},\"marker\":{\"symbol\":\"circle\"},\"mode\":\"lines\",\"name\":\"NV\",\"orientation\":\"v\",\"showlegend\":true,\"x\":[2008,2011,2014,2017,2020],\"xaxis\":\"x\",\"y\":[3.177444068,3.280440316,13.07758298,10.07808922,18.15760998],\"yaxis\":\"y\",\"type\":\"scatter\"},{\"hovertemplate\":\"<b>%{hovertext}</b><br><br>State=ND<br>=%{x}<br>Lb's of annual emissions per 100k of population=%{y}<extra></extra>\",\"hovertext\":[\"Low CAV adoption\",\"Low CAV adoption\",\"Low CAV adoption\",\"Low CAV adoption\",\"Low CAV adoption\"],\"legendgroup\":\"ND\",\"line\":{\"color\":\"#B6E880\",\"dash\":\"solid\"},\"marker\":{\"symbol\":\"circle\"},\"mode\":\"lines\",\"name\":\"ND\",\"orientation\":\"v\",\"showlegend\":true,\"x\":[2008,2011,2014,2017,2020],\"xaxis\":\"x\",\"y\":[5.666708142,5.279873836,23.65658831,15.27634767,21.88731577],\"yaxis\":\"y\",\"type\":\"scatter\"},{\"hovertemplate\":\"<b>%{hovertext}</b><br><br>State=WY<br>=%{x}<br>Lb's of annual emissions per 100k of population=%{y}<extra></extra>\",\"hovertext\":[\"Low CAV adoption\",\"Low CAV adoption\",\"Low CAV adoption\",\"Low CAV adoption\",\"Low CAV adoption\"],\"legendgroup\":\"WY\",\"line\":{\"color\":\"#FF97FF\",\"dash\":\"solid\"},\"marker\":{\"symbol\":\"circle\"},\"mode\":\"lines\",\"name\":\"WY\",\"orientation\":\"v\",\"showlegend\":true,\"x\":[2008,2011,2014,2017,2020],\"xaxis\":\"x\",\"y\":[8.398466702,6.922490328,21.21479347,18.48636609,31.08232011],\"yaxis\":\"y\",\"type\":\"scatter\"},{\"hovertemplate\":\"<b>%{hovertext}</b><br><br>State=SD<br>=%{x}<br>Lb's of annual emissions per 100k of population=%{y}<extra></extra>\",\"hovertext\":[\"Low CAV adoption\",\"Low CAV adoption\",\"Low CAV adoption\",\"Low CAV adoption\",\"Low CAV adoption\"],\"legendgroup\":\"SD\",\"line\":{\"color\":\"#FECB52\",\"dash\":\"solid\"},\"marker\":{\"symbol\":\"circle\"},\"mode\":\"lines\",\"name\":\"SD\",\"orientation\":\"v\",\"showlegend\":true,\"x\":[2008,2011,2014,2017,2020],\"xaxis\":\"x\",\"y\":[5.419062527,4.127103727,14.08989515,11.30001248,17.58075813],\"yaxis\":\"y\",\"type\":\"scatter\"}],                        {\"template\":{\"data\":{\"histogram2dcontour\":[{\"type\":\"histogram2dcontour\",\"colorbar\":{\"outlinewidth\":0,\"ticks\":\"\"},\"colorscale\":[[0.0,\"#0d0887\"],[0.1111111111111111,\"#46039f\"],[0.2222222222222222,\"#7201a8\"],[0.3333333333333333,\"#9c179e\"],[0.4444444444444444,\"#bd3786\"],[0.5555555555555556,\"#d8576b\"],[0.6666666666666666,\"#ed7953\"],[0.7777777777777778,\"#fb9f3a\"],[0.8888888888888888,\"#fdca26\"],[1.0,\"#f0f921\"]]}],\"choropleth\":[{\"type\":\"choropleth\",\"colorbar\":{\"outlinewidth\":0,\"ticks\":\"\"}}],\"histogram2d\":[{\"type\":\"histogram2d\",\"colorbar\":{\"outlinewidth\":0,\"ticks\":\"\"},\"colorscale\":[[0.0,\"#0d0887\"],[0.1111111111111111,\"#46039f\"],[0.2222222222222222,\"#7201a8\"],[0.3333333333333333,\"#9c179e\"],[0.4444444444444444,\"#bd3786\"],[0.5555555555555556,\"#d8576b\"],[0.6666666666666666,\"#ed7953\"],[0.7777777777777778,\"#fb9f3a\"],[0.8888888888888888,\"#fdca26\"],[1.0,\"#f0f921\"]]}],\"heatmap\":[{\"type\":\"heatmap\",\"colorbar\":{\"outlinewidth\":0,\"ticks\":\"\"},\"colorscale\":[[0.0,\"#0d0887\"],[0.1111111111111111,\"#46039f\"],[0.2222222222222222,\"#7201a8\"],[0.3333333333333333,\"#9c179e\"],[0.4444444444444444,\"#bd3786\"],[0.5555555555555556,\"#d8576b\"],[0.6666666666666666,\"#ed7953\"],[0.7777777777777778,\"#fb9f3a\"],[0.8888888888888888,\"#fdca26\"],[1.0,\"#f0f921\"]]}],\"heatmapgl\":[{\"type\":\"heatmapgl\",\"colorbar\":{\"outlinewidth\":0,\"ticks\":\"\"},\"colorscale\":[[0.0,\"#0d0887\"],[0.1111111111111111,\"#46039f\"],[0.2222222222222222,\"#7201a8\"],[0.3333333333333333,\"#9c179e\"],[0.4444444444444444,\"#bd3786\"],[0.5555555555555556,\"#d8576b\"],[0.6666666666666666,\"#ed7953\"],[0.7777777777777778,\"#fb9f3a\"],[0.8888888888888888,\"#fdca26\"],[1.0,\"#f0f921\"]]}],\"contourcarpet\":[{\"type\":\"contourcarpet\",\"colorbar\":{\"outlinewidth\":0,\"ticks\":\"\"}}],\"contour\":[{\"type\":\"contour\",\"colorbar\":{\"outlinewidth\":0,\"ticks\":\"\"},\"colorscale\":[[0.0,\"#0d0887\"],[0.1111111111111111,\"#46039f\"],[0.2222222222222222,\"#7201a8\"],[0.3333333333333333,\"#9c179e\"],[0.4444444444444444,\"#bd3786\"],[0.5555555555555556,\"#d8576b\"],[0.6666666666666666,\"#ed7953\"],[0.7777777777777778,\"#fb9f3a\"],[0.8888888888888888,\"#fdca26\"],[1.0,\"#f0f921\"]]}],\"surface\":[{\"type\":\"surface\",\"colorbar\":{\"outlinewidth\":0,\"ticks\":\"\"},\"colorscale\":[[0.0,\"#0d0887\"],[0.1111111111111111,\"#46039f\"],[0.2222222222222222,\"#7201a8\"],[0.3333333333333333,\"#9c179e\"],[0.4444444444444444,\"#bd3786\"],[0.5555555555555556,\"#d8576b\"],[0.6666666666666666,\"#ed7953\"],[0.7777777777777778,\"#fb9f3a\"],[0.8888888888888888,\"#fdca26\"],[1.0,\"#f0f921\"]]}],\"mesh3d\":[{\"type\":\"mesh3d\",\"colorbar\":{\"outlinewidth\":0,\"ticks\":\"\"}}],\"scatter\":[{\"fillpattern\":{\"fillmode\":\"overlay\",\"size\":10,\"solidity\":0.2},\"type\":\"scatter\"}],\"parcoords\":[{\"type\":\"parcoords\",\"line\":{\"colorbar\":{\"outlinewidth\":0,\"ticks\":\"\"}}}],\"scatterpolargl\":[{\"type\":\"scatterpolargl\",\"marker\":{\"colorbar\":{\"outlinewidth\":0,\"ticks\":\"\"}}}],\"bar\":[{\"error_x\":{\"color\":\"#2a3f5f\"},\"error_y\":{\"color\":\"#2a3f5f\"},\"marker\":{\"line\":{\"color\":\"#E5ECF6\",\"width\":0.5},\"pattern\":{\"fillmode\":\"overlay\",\"size\":10,\"solidity\":0.2}},\"type\":\"bar\"}],\"scattergeo\":[{\"type\":\"scattergeo\",\"marker\":{\"colorbar\":{\"outlinewidth\":0,\"ticks\":\"\"}}}],\"scatterpolar\":[{\"type\":\"scatterpolar\",\"marker\":{\"colorbar\":{\"outlinewidth\":0,\"ticks\":\"\"}}}],\"histogram\":[{\"marker\":{\"pattern\":{\"fillmode\":\"overlay\",\"size\":10,\"solidity\":0.2}},\"type\":\"histogram\"}],\"scattergl\":[{\"type\":\"scattergl\",\"marker\":{\"colorbar\":{\"outlinewidth\":0,\"ticks\":\"\"}}}],\"scatter3d\":[{\"type\":\"scatter3d\",\"line\":{\"colorbar\":{\"outlinewidth\":0,\"ticks\":\"\"}},\"marker\":{\"colorbar\":{\"outlinewidth\":0,\"ticks\":\"\"}}}],\"scattermapbox\":[{\"type\":\"scattermapbox\",\"marker\":{\"colorbar\":{\"outlinewidth\":0,\"ticks\":\"\"}}}],\"scatterternary\":[{\"type\":\"scatterternary\",\"marker\":{\"colorbar\":{\"outlinewidth\":0,\"ticks\":\"\"}}}],\"scattercarpet\":[{\"type\":\"scattercarpet\",\"marker\":{\"colorbar\":{\"outlinewidth\":0,\"ticks\":\"\"}}}],\"carpet\":[{\"aaxis\":{\"endlinecolor\":\"#2a3f5f\",\"gridcolor\":\"white\",\"linecolor\":\"white\",\"minorgridcolor\":\"white\",\"startlinecolor\":\"#2a3f5f\"},\"baxis\":{\"endlinecolor\":\"#2a3f5f\",\"gridcolor\":\"white\",\"linecolor\":\"white\",\"minorgridcolor\":\"white\",\"startlinecolor\":\"#2a3f5f\"},\"type\":\"carpet\"}],\"table\":[{\"cells\":{\"fill\":{\"color\":\"#EBF0F8\"},\"line\":{\"color\":\"white\"}},\"header\":{\"fill\":{\"color\":\"#C8D4E3\"},\"line\":{\"color\":\"white\"}},\"type\":\"table\"}],\"barpolar\":[{\"marker\":{\"line\":{\"color\":\"#E5ECF6\",\"width\":0.5},\"pattern\":{\"fillmode\":\"overlay\",\"size\":10,\"solidity\":0.2}},\"type\":\"barpolar\"}],\"pie\":[{\"automargin\":true,\"type\":\"pie\"}]},\"layout\":{\"autotypenumbers\":\"strict\",\"colorway\":[\"#636efa\",\"#EF553B\",\"#00cc96\",\"#ab63fa\",\"#FFA15A\",\"#19d3f3\",\"#FF6692\",\"#B6E880\",\"#FF97FF\",\"#FECB52\"],\"font\":{\"color\":\"#2a3f5f\"},\"hovermode\":\"closest\",\"hoverlabel\":{\"align\":\"left\"},\"paper_bgcolor\":\"white\",\"plot_bgcolor\":\"#E5ECF6\",\"polar\":{\"bgcolor\":\"#E5ECF6\",\"angularaxis\":{\"gridcolor\":\"white\",\"linecolor\":\"white\",\"ticks\":\"\"},\"radialaxis\":{\"gridcolor\":\"white\",\"linecolor\":\"white\",\"ticks\":\"\"}},\"ternary\":{\"bgcolor\":\"#E5ECF6\",\"aaxis\":{\"gridcolor\":\"white\",\"linecolor\":\"white\",\"ticks\":\"\"},\"baxis\":{\"gridcolor\":\"white\",\"linecolor\":\"white\",\"ticks\":\"\"},\"caxis\":{\"gridcolor\":\"white\",\"linecolor\":\"white\",\"ticks\":\"\"}},\"coloraxis\":{\"colorbar\":{\"outlinewidth\":0,\"ticks\":\"\"}},\"colorscale\":{\"sequential\":[[0.0,\"#0d0887\"],[0.1111111111111111,\"#46039f\"],[0.2222222222222222,\"#7201a8\"],[0.3333333333333333,\"#9c179e\"],[0.4444444444444444,\"#bd3786\"],[0.5555555555555556,\"#d8576b\"],[0.6666666666666666,\"#ed7953\"],[0.7777777777777778,\"#fb9f3a\"],[0.8888888888888888,\"#fdca26\"],[1.0,\"#f0f921\"]],\"sequentialminus\":[[0.0,\"#0d0887\"],[0.1111111111111111,\"#46039f\"],[0.2222222222222222,\"#7201a8\"],[0.3333333333333333,\"#9c179e\"],[0.4444444444444444,\"#bd3786\"],[0.5555555555555556,\"#d8576b\"],[0.6666666666666666,\"#ed7953\"],[0.7777777777777778,\"#fb9f3a\"],[0.8888888888888888,\"#fdca26\"],[1.0,\"#f0f921\"]],\"diverging\":[[0,\"#8e0152\"],[0.1,\"#c51b7d\"],[0.2,\"#de77ae\"],[0.3,\"#f1b6da\"],[0.4,\"#fde0ef\"],[0.5,\"#f7f7f7\"],[0.6,\"#e6f5d0\"],[0.7,\"#b8e186\"],[0.8,\"#7fbc41\"],[0.9,\"#4d9221\"],[1,\"#276419\"]]},\"xaxis\":{\"gridcolor\":\"white\",\"linecolor\":\"white\",\"ticks\":\"\",\"title\":{\"standoff\":15},\"zerolinecolor\":\"white\",\"automargin\":true,\"zerolinewidth\":2},\"yaxis\":{\"gridcolor\":\"white\",\"linecolor\":\"white\",\"ticks\":\"\",\"title\":{\"standoff\":15},\"zerolinecolor\":\"white\",\"automargin\":true,\"zerolinewidth\":2},\"scene\":{\"xaxis\":{\"backgroundcolor\":\"#E5ECF6\",\"gridcolor\":\"white\",\"linecolor\":\"white\",\"showbackground\":true,\"ticks\":\"\",\"zerolinecolor\":\"white\",\"gridwidth\":2},\"yaxis\":{\"backgroundcolor\":\"#E5ECF6\",\"gridcolor\":\"white\",\"linecolor\":\"white\",\"showbackground\":true,\"ticks\":\"\",\"zerolinecolor\":\"white\",\"gridwidth\":2},\"zaxis\":{\"backgroundcolor\":\"#E5ECF6\",\"gridcolor\":\"white\",\"linecolor\":\"white\",\"showbackground\":true,\"ticks\":\"\",\"zerolinecolor\":\"white\",\"gridwidth\":2}},\"shapedefaults\":{\"line\":{\"color\":\"#2a3f5f\"}},\"annotationdefaults\":{\"arrowcolor\":\"#2a3f5f\",\"arrowhead\":0,\"arrowwidth\":1},\"geo\":{\"bgcolor\":\"white\",\"landcolor\":\"#E5ECF6\",\"subunitcolor\":\"white\",\"showland\":true,\"showlakes\":true,\"lakecolor\":\"white\"},\"title\":{\"x\":0.05},\"mapbox\":{\"style\":\"light\"}}},\"xaxis\":{\"anchor\":\"y\",\"domain\":[0.0,1.0],\"title\":{\"text\":\"\"}},\"yaxis\":{\"anchor\":\"x\",\"domain\":[0.0,1.0],\"title\":{\"text\":\"Lb's of annual emissions per 100k of population\"},\"range\":[0,200]},\"legend\":{\"title\":{\"text\":\"State\"},\"tracegroupgap\":0},\"margin\":{\"t\":60},\"font\":{\"color\":\"white\"},\"plot_bgcolor\":\"black\",\"paper_bgcolor\":\"black\",\"title\":{\"text\":\"Manganese emissions per 100k of population\"}},                        {\"responsive\": true}                    ).then(function(){\n",
       "                            \n",
       "var gd = document.getElementById('c4f0d133-4fc3-47f6-97ab-f150c7c8dd5d');\n",
       "var x = new MutationObserver(function (mutations, observer) {{\n",
       "        var display = window.getComputedStyle(gd).display;\n",
       "        if (!display || display === 'none') {{\n",
       "            console.log([gd, 'removed!']);\n",
       "            Plotly.purge(gd);\n",
       "            observer.disconnect();\n",
       "        }}\n",
       "}});\n",
       "\n",
       "// Listen for the removal of the full notebook cells\n",
       "var notebookContainer = gd.closest('#notebook-container');\n",
       "if (notebookContainer) {{\n",
       "    x.observe(notebookContainer, {childList: true});\n",
       "}}\n",
       "\n",
       "// Listen for the clearing of the current output cell\n",
       "var outputEl = gd.closest('.output');\n",
       "if (outputEl) {{\n",
       "    x.observe(outputEl, {childList: true});\n",
       "}}\n",
       "\n",
       "                        })                };                });            </script>        </div>"
      ]
     },
     "metadata": {},
     "output_type": "display_data"
    }
   ],
   "source": [
    "# Manganese\n",
    "Manganese = nei_by_pollutant.loc[(nei_by_pollutant[\"Pollutant\"] == 'Manganese')]\n",
    "\n",
    "Manganese_plot = px.line(\n",
    "    Manganese,\n",
    "    x = \"Year\",\n",
    "    y = \"Emmisions_per_100k\",\n",
    "    hover_name = \"CAV_adoption\",\n",
    "    color = \"State\",\n",
    "    labels = {\n",
    "        \"Year\":'',\n",
    "        \"Emmisions_per_100k\": \"Lb's of annual emissions per 100k of population\"\n",
    "   }\n",
    ")\n",
    "\n",
    "Manganese_plot.update_layout(\n",
    "    yaxis_range=[0,200],\n",
    "    font_color=\"white\",\n",
    "    legend=dict(\n",
    "    title=\"State\"\n",
    "))\n",
    "\n",
    "Manganese_plot.update_layout({\n",
    "    'plot_bgcolor':'black',\n",
    "    'paper_bgcolor':'black',\n",
    "    'title':'Manganese emissions per 100k of population'\n",
    "})\n",
    "\n",
    "Manganese_plot.show()"
   ]
  },
  {
   "cell_type": "code",
   "execution_count": 29,
   "id": "91b39061",
   "metadata": {},
   "outputs": [
    {
     "data": {
      "application/vnd.plotly.v1+json": {
       "config": {
        "plotlyServerURL": "https://plot.ly"
       },
       "data": [
        {
         "hovertemplate": "<b>%{hovertext}</b><br><br>State=VT<br>=%{x}<br>Lb's of annual emissions per 100k of population=%{y}<extra></extra>",
         "hovertext": [
          "High CAV adoption",
          "High CAV adoption",
          "High CAV adoption",
          "High CAV adoption",
          "High CAV adoption"
         ],
         "legendgroup": "VT",
         "line": {
          "color": "#636efa",
          "dash": "solid"
         },
         "marker": {
          "symbol": "circle"
         },
         "mode": "lines",
         "name": "VT",
         "orientation": "v",
         "showlegend": true,
         "type": "scatter",
         "x": [
          2008,
          2011,
          2014,
          2017,
          2020
         ],
         "xaxis": "x",
         "y": [
          0.2822351339,
          0.2853252946,
          0.2812102697,
          0.2983824322,
          0.241200459
         ],
         "yaxis": "y"
        },
        {
         "hovertemplate": "<b>%{hovertext}</b><br><br>State=MA<br>=%{x}<br>Lb's of annual emissions per 100k of population=%{y}<extra></extra>",
         "hovertext": [
          "High CAV adoption",
          "High CAV adoption",
          "High CAV adoption",
          "High CAV adoption",
          "High CAV adoption"
         ],
         "legendgroup": "MA",
         "line": {
          "color": "#EF553B",
          "dash": "solid"
         },
         "marker": {
          "symbol": "circle"
         },
         "mode": "lines",
         "name": "MA",
         "orientation": "v",
         "showlegend": true,
         "type": "scatter",
         "x": [
          2008,
          2011,
          2014,
          2017,
          2020
         ],
         "xaxis": "x",
         "y": [
          0.2018097074,
          0.2075220807,
          0.206613424,
          0.2280160549,
          0.1947814937
         ],
         "yaxis": "y"
        },
        {
         "hovertemplate": "<b>%{hovertext}</b><br><br>State=MD<br>=%{x}<br>Lb's of annual emissions per 100k of population=%{y}<extra></extra>",
         "hovertext": [
          "High CAV adoption",
          "High CAV adoption",
          "High CAV adoption",
          "High CAV adoption",
          "High CAV adoption"
         ],
         "legendgroup": "MD",
         "line": {
          "color": "#00cc96",
          "dash": "solid"
         },
         "marker": {
          "symbol": "circle"
         },
         "mode": "lines",
         "name": "MD",
         "orientation": "v",
         "showlegend": true,
         "type": "scatter",
         "x": [
          2008,
          2011,
          2014,
          2017,
          2020
         ],
         "xaxis": "x",
         "y": [
          0.2375729997,
          0.2389242453,
          0.2305658966,
          0.2442945454,
          0.2031940113
         ],
         "yaxis": "y"
        },
        {
         "hovertemplate": "<b>%{hovertext}</b><br><br>State=VA<br>=%{x}<br>Lb's of annual emissions per 100k of population=%{y}<extra></extra>",
         "hovertext": [
          "High CAV adoption",
          "High CAV adoption",
          "High CAV adoption",
          "High CAV adoption",
          "High CAV adoption"
         ],
         "legendgroup": "VA",
         "line": {
          "color": "#ab63fa",
          "dash": "solid"
         },
         "marker": {
          "symbol": "circle"
         },
         "mode": "lines",
         "name": "VA",
         "orientation": "v",
         "showlegend": true,
         "type": "scatter",
         "x": [
          2008,
          2011,
          2014,
          2017,
          2020
         ],
         "xaxis": "x",
         "y": [
          0.2512469456,
          0.2568607565,
          0.2470087289,
          0.2463833777,
          0.2163973704
         ],
         "yaxis": "y"
        },
        {
         "hovertemplate": "<b>%{hovertext}</b><br><br>State=WV<br>=%{x}<br>Lb's of annual emissions per 100k of population=%{y}<extra></extra>",
         "hovertext": [
          "Low CAV adoption",
          "Low CAV adoption",
          "Low CAV adoption",
          "Low CAV adoption",
          "Low CAV adoption"
         ],
         "legendgroup": "WV",
         "line": {
          "color": "#FFA15A",
          "dash": "solid"
         },
         "marker": {
          "symbol": "circle"
         },
         "mode": "lines",
         "name": "WV",
         "orientation": "v",
         "showlegend": true,
         "type": "scatter",
         "x": [
          2008,
          2011,
          2014,
          2017,
          2020
         ],
         "xaxis": "x",
         "y": [
          0.2673938187,
          0.233162119,
          0.2446622592,
          0.2611336963,
          0.2001804333
         ],
         "yaxis": "y"
        },
        {
         "hovertemplate": "<b>%{hovertext}</b><br><br>State=AL<br>=%{x}<br>Lb's of annual emissions per 100k of population=%{y}<extra></extra>",
         "hovertext": [
          "Low CAV adoption",
          "Low CAV adoption",
          "Low CAV adoption",
          "Low CAV adoption",
          "Low CAV adoption"
         ],
         "legendgroup": "AL",
         "line": {
          "color": "#19d3f3",
          "dash": "solid"
         },
         "marker": {
          "symbol": "circle"
         },
         "mode": "lines",
         "name": "AL",
         "orientation": "v",
         "showlegend": true,
         "type": "scatter",
         "x": [
          2008,
          2011,
          2014,
          2017,
          2020
         ],
         "xaxis": "x",
         "y": [
          0.2985561015,
          0.3266993287,
          0.3214854761,
          0.3439046364,
          0.3312681619
         ],
         "yaxis": "y"
        },
        {
         "hovertemplate": "<b>%{hovertext}</b><br><br>State=KY<br>=%{x}<br>Lb's of annual emissions per 100k of population=%{y}<extra></extra>",
         "hovertext": [
          "Low CAV adoption",
          "Low CAV adoption",
          "Low CAV adoption",
          "Low CAV adoption",
          "Low CAV adoption"
         ],
         "legendgroup": "KY",
         "line": {
          "color": "#FF6692",
          "dash": "solid"
         },
         "marker": {
          "symbol": "circle"
         },
         "mode": "lines",
         "name": "KY",
         "orientation": "v",
         "showlegend": true,
         "type": "scatter",
         "x": [
          2008,
          2011,
          2014,
          2017,
          2020
         ],
         "xaxis": "x",
         "y": [
          0.2594560704,
          0.2728112258,
          0.2531500974,
          0.2559307164,
          0.2460262757
         ],
         "yaxis": "y"
        },
        {
         "hovertemplate": "<b>%{hovertext}</b><br><br>State=MI<br>=%{x}<br>Lb's of annual emissions per 100k of population=%{y}<extra></extra>",
         "hovertext": [
          "Low CAV adoption",
          "Low CAV adoption",
          "Low CAV adoption",
          "Low CAV adoption",
          "Low CAV adoption"
         ],
         "legendgroup": "MI",
         "line": {
          "color": "#B6E880",
          "dash": "solid"
         },
         "marker": {
          "symbol": "circle"
         },
         "mode": "lines",
         "name": "MI",
         "orientation": "v",
         "showlegend": true,
         "type": "scatter",
         "x": [
          2008,
          2011,
          2014,
          2017,
          2020
         ],
         "xaxis": "x",
         "y": [
          0.2350686999,
          0.2474335622,
          0.239828808,
          0.2422520488,
          0.2134435844
         ],
         "yaxis": "y"
        },
        {
         "hovertemplate": "<b>%{hovertext}</b><br><br>State=LA<br>=%{x}<br>Lb's of annual emissions per 100k of population=%{y}<extra></extra>",
         "hovertext": [
          "Low CAV adoption",
          "Low CAV adoption",
          "Low CAV adoption",
          "Low CAV adoption",
          "Low CAV adoption"
         ],
         "legendgroup": "LA",
         "line": {
          "color": "#FF97FF",
          "dash": "solid"
         },
         "marker": {
          "symbol": "circle"
         },
         "mode": "lines",
         "name": "LA",
         "orientation": "v",
         "showlegend": true,
         "type": "scatter",
         "x": [
          2008,
          2011,
          2014,
          2017,
          2020
         ],
         "xaxis": "x",
         "y": [
          0.2437715076,
          0.2475005307,
          0.2333909036,
          0.2334913579,
          0.2435303072
         ],
         "yaxis": "y"
        },
        {
         "hovertemplate": "<b>%{hovertext}</b><br><br>State=AR<br>=%{x}<br>Lb's of annual emissions per 100k of population=%{y}<extra></extra>",
         "hovertext": [
          "Low CAV adoption",
          "Low CAV adoption",
          "Low CAV adoption",
          "Low CAV adoption",
          "Low CAV adoption"
         ],
         "legendgroup": "AR",
         "line": {
          "color": "#FECB52",
          "dash": "solid"
         },
         "marker": {
          "symbol": "circle"
         },
         "mode": "lines",
         "name": "AR",
         "orientation": "v",
         "showlegend": true,
         "type": "scatter",
         "x": [
          2008,
          2011,
          2014,
          2017,
          2020
         ],
         "xaxis": "x",
         "y": [
          0.266252065,
          0.2622147229,
          0.2598509353,
          0.2725173383,
          0.2580616286
         ],
         "yaxis": "y"
        },
        {
         "hovertemplate": "<b>%{hovertext}</b><br><br>State=OK<br>=%{x}<br>Lb's of annual emissions per 100k of population=%{y}<extra></extra>",
         "hovertext": [
          "Low CAV adoption",
          "Low CAV adoption",
          "Low CAV adoption",
          "Low CAV adoption",
          "Low CAV adoption"
         ],
         "legendgroup": "OK",
         "line": {
          "color": "#636efa",
          "dash": "solid"
         },
         "marker": {
          "symbol": "circle"
         },
         "mode": "lines",
         "name": "OK",
         "orientation": "v",
         "showlegend": true,
         "type": "scatter",
         "x": [
          2008,
          2011,
          2014,
          2017,
          2020
         ],
         "xaxis": "x",
         "y": [
          0.311546185,
          0.301321393,
          0.27900933,
          0.2834267499,
          0.2293658199
         ],
         "yaxis": "y"
        },
        {
         "hovertemplate": "<b>%{hovertext}</b><br><br>State=CA<br>=%{x}<br>Lb's of annual emissions per 100k of population=%{y}<extra></extra>",
         "hovertext": [
          "High CAV adoption",
          "High CAV adoption",
          "High CAV adoption",
          "High CAV adoption",
          "High CAV adoption"
         ],
         "legendgroup": "CA",
         "line": {
          "color": "#EF553B",
          "dash": "solid"
         },
         "marker": {
          "symbol": "circle"
         },
         "mode": "lines",
         "name": "CA",
         "orientation": "v",
         "showlegend": true,
         "type": "scatter",
         "x": [
          2008,
          2011,
          2014,
          2017,
          2020
         ],
         "xaxis": "x",
         "y": [
          1.942388379,
          0.4060602623,
          0.2011046591,
          0.05328021845,
          0.1058922851
         ],
         "yaxis": "y"
        },
        {
         "hovertemplate": "<b>%{hovertext}</b><br><br>State=WA<br>=%{x}<br>Lb's of annual emissions per 100k of population=%{y}<extra></extra>",
         "hovertext": [
          "High CAV adoption",
          "High CAV adoption",
          "High CAV adoption",
          "High CAV adoption",
          "High CAV adoption"
         ],
         "legendgroup": "WA",
         "line": {
          "color": "#00cc96",
          "dash": "solid"
         },
         "marker": {
          "symbol": "circle"
         },
         "mode": "lines",
         "name": "WA",
         "orientation": "v",
         "showlegend": true,
         "type": "scatter",
         "x": [
          2008,
          2011,
          2014,
          2017,
          2020
         ],
         "xaxis": "x",
         "y": [
          0.1993545631,
          0.2020331655,
          0.1953249487,
          0.1965762547,
          0.1621676763
         ],
         "yaxis": "y"
        },
        {
         "hovertemplate": "<b>%{hovertext}</b><br><br>State=OR<br>=%{x}<br>Lb's of annual emissions per 100k of population=%{y}<extra></extra>",
         "hovertext": [
          "High CAV adoption",
          "High CAV adoption",
          "High CAV adoption",
          "High CAV adoption",
          "High CAV adoption"
         ],
         "legendgroup": "OR",
         "line": {
          "color": "#ab63fa",
          "dash": "solid"
         },
         "marker": {
          "symbol": "circle"
         },
         "mode": "lines",
         "name": "OR",
         "orientation": "v",
         "showlegend": true,
         "type": "scatter",
         "x": [
          2008,
          2011,
          2014,
          2017,
          2020
         ],
         "xaxis": "x",
         "y": [
          0.2120645365,
          0.2100476205,
          0.1977456082,
          0.1958778256,
          0.1669933688
         ],
         "yaxis": "y"
        },
        {
         "hovertemplate": "<b>%{hovertext}</b><br><br>State=HI<br>=%{x}<br>Lb's of annual emissions per 100k of population=%{y}<extra></extra>",
         "hovertext": [
          "High CAV adoption",
          "High CAV adoption",
          "High CAV adoption",
          "High CAV adoption",
          "High CAV adoption"
         ],
         "legendgroup": "HI",
         "line": {
          "color": "#FFA15A",
          "dash": "solid"
         },
         "marker": {
          "symbol": "circle"
         },
         "mode": "lines",
         "name": "HI",
         "orientation": "v",
         "showlegend": true,
         "type": "scatter",
         "x": [
          2008,
          2011,
          2014,
          2017,
          2020
         ],
         "xaxis": "x",
         "y": [
          0.1900788466,
          0.1790407703,
          0.1742307457,
          0.1897884784,
          0.1527693712
         ],
         "yaxis": "y"
        },
        {
         "hovertemplate": "<b>%{hovertext}</b><br><br>State=CO<br>=%{x}<br>Lb's of annual emissions per 100k of population=%{y}<extra></extra>",
         "hovertext": [
          "High CAV adoption",
          "High CAV adoption",
          "High CAV adoption",
          "High CAV adoption",
          "High CAV adoption"
         ],
         "legendgroup": "CO",
         "line": {
          "color": "#19d3f3",
          "dash": "solid"
         },
         "marker": {
          "symbol": "circle"
         },
         "mode": "lines",
         "name": "CO",
         "orientation": "v",
         "showlegend": true,
         "type": "scatter",
         "x": [
          2008,
          2011,
          2014,
          2017,
          2020
         ],
         "xaxis": "x",
         "y": [
          0.2360346965,
          0.2257447578,
          0.2202916737,
          0.2287252102,
          0.199262518
         ],
         "yaxis": "y"
        },
        {
         "hovertemplate": "<b>%{hovertext}</b><br><br>State=NV<br>=%{x}<br>Lb's of annual emissions per 100k of population=%{y}<extra></extra>",
         "hovertext": [
          "High CAV adoption",
          "High CAV adoption",
          "High CAV adoption",
          "High CAV adoption",
          "High CAV adoption"
         ],
         "legendgroup": "NV",
         "line": {
          "color": "#FF6692",
          "dash": "solid"
         },
         "marker": {
          "symbol": "circle"
         },
         "mode": "lines",
         "name": "NV",
         "orientation": "v",
         "showlegend": true,
         "type": "scatter",
         "x": [
          2008,
          2011,
          2014,
          2017,
          2020
         ],
         "xaxis": "x",
         "y": [
          0.1901926955,
          0.2309038806,
          0.2178066893,
          0.2132787756,
          0.186424527
         ],
         "yaxis": "y"
        },
        {
         "hovertemplate": "<b>%{hovertext}</b><br><br>State=ND<br>=%{x}<br>Lb's of annual emissions per 100k of population=%{y}<extra></extra>",
         "hovertext": [
          "Low CAV adoption",
          "Low CAV adoption",
          "Low CAV adoption",
          "Low CAV adoption",
          "Low CAV adoption"
         ],
         "legendgroup": "ND",
         "line": {
          "color": "#B6E880",
          "dash": "solid"
         },
         "marker": {
          "symbol": "circle"
         },
         "mode": "lines",
         "name": "ND",
         "orientation": "v",
         "showlegend": true,
         "type": "scatter",
         "x": [
          2008,
          2011,
          2014,
          2017,
          2020
         ],
         "xaxis": "x",
         "y": [
          0.2770149363,
          0.3140959468,
          0.276616669,
          0.2796218045,
          0.2477652733
         ],
         "yaxis": "y"
        },
        {
         "hovertemplate": "<b>%{hovertext}</b><br><br>State=WY<br>=%{x}<br>Lb's of annual emissions per 100k of population=%{y}<extra></extra>",
         "hovertext": [
          "Low CAV adoption",
          "Low CAV adoption",
          "Low CAV adoption",
          "Low CAV adoption",
          "Low CAV adoption"
         ],
         "legendgroup": "WY",
         "line": {
          "color": "#FF97FF",
          "dash": "solid"
         },
         "marker": {
          "symbol": "circle"
         },
         "mode": "lines",
         "name": "WY",
         "orientation": "v",
         "showlegend": true,
         "type": "scatter",
         "x": [
          2008,
          2011,
          2014,
          2017,
          2020
         ],
         "xaxis": "x",
         "y": [
          0.3996244056,
          0.3720408222,
          0.3361988318,
          0.3512053719,
          0.3486922807
         ],
         "yaxis": "y"
        },
        {
         "hovertemplate": "<b>%{hovertext}</b><br><br>State=SD<br>=%{x}<br>Lb's of annual emissions per 100k of population=%{y}<extra></extra>",
         "hovertext": [
          "Low CAV adoption",
          "Low CAV adoption",
          "Low CAV adoption",
          "Low CAV adoption",
          "Low CAV adoption"
         ],
         "legendgroup": "SD",
         "line": {
          "color": "#FECB52",
          "dash": "solid"
         },
         "marker": {
          "symbol": "circle"
         },
         "mode": "lines",
         "name": "SD",
         "orientation": "v",
         "showlegend": true,
         "type": "scatter",
         "x": [
          2008,
          2011,
          2014,
          2017,
          2020
         ],
         "xaxis": "x",
         "y": [
          0.260578412,
          0.2639055275,
          0.2362930905,
          0.2489774744,
          0.2505152433
         ],
         "yaxis": "y"
        }
       ],
       "layout": {
        "font": {
         "color": "white"
        },
        "legend": {
         "title": {
          "text": "State"
         },
         "tracegroupgap": 0
        },
        "margin": {
         "t": 60
        },
        "paper_bgcolor": "black",
        "plot_bgcolor": "black",
        "template": {
         "data": {
          "bar": [
           {
            "error_x": {
             "color": "#2a3f5f"
            },
            "error_y": {
             "color": "#2a3f5f"
            },
            "marker": {
             "line": {
              "color": "#E5ECF6",
              "width": 0.5
             },
             "pattern": {
              "fillmode": "overlay",
              "size": 10,
              "solidity": 0.2
             }
            },
            "type": "bar"
           }
          ],
          "barpolar": [
           {
            "marker": {
             "line": {
              "color": "#E5ECF6",
              "width": 0.5
             },
             "pattern": {
              "fillmode": "overlay",
              "size": 10,
              "solidity": 0.2
             }
            },
            "type": "barpolar"
           }
          ],
          "carpet": [
           {
            "aaxis": {
             "endlinecolor": "#2a3f5f",
             "gridcolor": "white",
             "linecolor": "white",
             "minorgridcolor": "white",
             "startlinecolor": "#2a3f5f"
            },
            "baxis": {
             "endlinecolor": "#2a3f5f",
             "gridcolor": "white",
             "linecolor": "white",
             "minorgridcolor": "white",
             "startlinecolor": "#2a3f5f"
            },
            "type": "carpet"
           }
          ],
          "choropleth": [
           {
            "colorbar": {
             "outlinewidth": 0,
             "ticks": ""
            },
            "type": "choropleth"
           }
          ],
          "contour": [
           {
            "colorbar": {
             "outlinewidth": 0,
             "ticks": ""
            },
            "colorscale": [
             [
              0,
              "#0d0887"
             ],
             [
              0.1111111111111111,
              "#46039f"
             ],
             [
              0.2222222222222222,
              "#7201a8"
             ],
             [
              0.3333333333333333,
              "#9c179e"
             ],
             [
              0.4444444444444444,
              "#bd3786"
             ],
             [
              0.5555555555555556,
              "#d8576b"
             ],
             [
              0.6666666666666666,
              "#ed7953"
             ],
             [
              0.7777777777777778,
              "#fb9f3a"
             ],
             [
              0.8888888888888888,
              "#fdca26"
             ],
             [
              1,
              "#f0f921"
             ]
            ],
            "type": "contour"
           }
          ],
          "contourcarpet": [
           {
            "colorbar": {
             "outlinewidth": 0,
             "ticks": ""
            },
            "type": "contourcarpet"
           }
          ],
          "heatmap": [
           {
            "colorbar": {
             "outlinewidth": 0,
             "ticks": ""
            },
            "colorscale": [
             [
              0,
              "#0d0887"
             ],
             [
              0.1111111111111111,
              "#46039f"
             ],
             [
              0.2222222222222222,
              "#7201a8"
             ],
             [
              0.3333333333333333,
              "#9c179e"
             ],
             [
              0.4444444444444444,
              "#bd3786"
             ],
             [
              0.5555555555555556,
              "#d8576b"
             ],
             [
              0.6666666666666666,
              "#ed7953"
             ],
             [
              0.7777777777777778,
              "#fb9f3a"
             ],
             [
              0.8888888888888888,
              "#fdca26"
             ],
             [
              1,
              "#f0f921"
             ]
            ],
            "type": "heatmap"
           }
          ],
          "heatmapgl": [
           {
            "colorbar": {
             "outlinewidth": 0,
             "ticks": ""
            },
            "colorscale": [
             [
              0,
              "#0d0887"
             ],
             [
              0.1111111111111111,
              "#46039f"
             ],
             [
              0.2222222222222222,
              "#7201a8"
             ],
             [
              0.3333333333333333,
              "#9c179e"
             ],
             [
              0.4444444444444444,
              "#bd3786"
             ],
             [
              0.5555555555555556,
              "#d8576b"
             ],
             [
              0.6666666666666666,
              "#ed7953"
             ],
             [
              0.7777777777777778,
              "#fb9f3a"
             ],
             [
              0.8888888888888888,
              "#fdca26"
             ],
             [
              1,
              "#f0f921"
             ]
            ],
            "type": "heatmapgl"
           }
          ],
          "histogram": [
           {
            "marker": {
             "pattern": {
              "fillmode": "overlay",
              "size": 10,
              "solidity": 0.2
             }
            },
            "type": "histogram"
           }
          ],
          "histogram2d": [
           {
            "colorbar": {
             "outlinewidth": 0,
             "ticks": ""
            },
            "colorscale": [
             [
              0,
              "#0d0887"
             ],
             [
              0.1111111111111111,
              "#46039f"
             ],
             [
              0.2222222222222222,
              "#7201a8"
             ],
             [
              0.3333333333333333,
              "#9c179e"
             ],
             [
              0.4444444444444444,
              "#bd3786"
             ],
             [
              0.5555555555555556,
              "#d8576b"
             ],
             [
              0.6666666666666666,
              "#ed7953"
             ],
             [
              0.7777777777777778,
              "#fb9f3a"
             ],
             [
              0.8888888888888888,
              "#fdca26"
             ],
             [
              1,
              "#f0f921"
             ]
            ],
            "type": "histogram2d"
           }
          ],
          "histogram2dcontour": [
           {
            "colorbar": {
             "outlinewidth": 0,
             "ticks": ""
            },
            "colorscale": [
             [
              0,
              "#0d0887"
             ],
             [
              0.1111111111111111,
              "#46039f"
             ],
             [
              0.2222222222222222,
              "#7201a8"
             ],
             [
              0.3333333333333333,
              "#9c179e"
             ],
             [
              0.4444444444444444,
              "#bd3786"
             ],
             [
              0.5555555555555556,
              "#d8576b"
             ],
             [
              0.6666666666666666,
              "#ed7953"
             ],
             [
              0.7777777777777778,
              "#fb9f3a"
             ],
             [
              0.8888888888888888,
              "#fdca26"
             ],
             [
              1,
              "#f0f921"
             ]
            ],
            "type": "histogram2dcontour"
           }
          ],
          "mesh3d": [
           {
            "colorbar": {
             "outlinewidth": 0,
             "ticks": ""
            },
            "type": "mesh3d"
           }
          ],
          "parcoords": [
           {
            "line": {
             "colorbar": {
              "outlinewidth": 0,
              "ticks": ""
             }
            },
            "type": "parcoords"
           }
          ],
          "pie": [
           {
            "automargin": true,
            "type": "pie"
           }
          ],
          "scatter": [
           {
            "fillpattern": {
             "fillmode": "overlay",
             "size": 10,
             "solidity": 0.2
            },
            "type": "scatter"
           }
          ],
          "scatter3d": [
           {
            "line": {
             "colorbar": {
              "outlinewidth": 0,
              "ticks": ""
             }
            },
            "marker": {
             "colorbar": {
              "outlinewidth": 0,
              "ticks": ""
             }
            },
            "type": "scatter3d"
           }
          ],
          "scattercarpet": [
           {
            "marker": {
             "colorbar": {
              "outlinewidth": 0,
              "ticks": ""
             }
            },
            "type": "scattercarpet"
           }
          ],
          "scattergeo": [
           {
            "marker": {
             "colorbar": {
              "outlinewidth": 0,
              "ticks": ""
             }
            },
            "type": "scattergeo"
           }
          ],
          "scattergl": [
           {
            "marker": {
             "colorbar": {
              "outlinewidth": 0,
              "ticks": ""
             }
            },
            "type": "scattergl"
           }
          ],
          "scattermapbox": [
           {
            "marker": {
             "colorbar": {
              "outlinewidth": 0,
              "ticks": ""
             }
            },
            "type": "scattermapbox"
           }
          ],
          "scatterpolar": [
           {
            "marker": {
             "colorbar": {
              "outlinewidth": 0,
              "ticks": ""
             }
            },
            "type": "scatterpolar"
           }
          ],
          "scatterpolargl": [
           {
            "marker": {
             "colorbar": {
              "outlinewidth": 0,
              "ticks": ""
             }
            },
            "type": "scatterpolargl"
           }
          ],
          "scatterternary": [
           {
            "marker": {
             "colorbar": {
              "outlinewidth": 0,
              "ticks": ""
             }
            },
            "type": "scatterternary"
           }
          ],
          "surface": [
           {
            "colorbar": {
             "outlinewidth": 0,
             "ticks": ""
            },
            "colorscale": [
             [
              0,
              "#0d0887"
             ],
             [
              0.1111111111111111,
              "#46039f"
             ],
             [
              0.2222222222222222,
              "#7201a8"
             ],
             [
              0.3333333333333333,
              "#9c179e"
             ],
             [
              0.4444444444444444,
              "#bd3786"
             ],
             [
              0.5555555555555556,
              "#d8576b"
             ],
             [
              0.6666666666666666,
              "#ed7953"
             ],
             [
              0.7777777777777778,
              "#fb9f3a"
             ],
             [
              0.8888888888888888,
              "#fdca26"
             ],
             [
              1,
              "#f0f921"
             ]
            ],
            "type": "surface"
           }
          ],
          "table": [
           {
            "cells": {
             "fill": {
              "color": "#EBF0F8"
             },
             "line": {
              "color": "white"
             }
            },
            "header": {
             "fill": {
              "color": "#C8D4E3"
             },
             "line": {
              "color": "white"
             }
            },
            "type": "table"
           }
          ]
         },
         "layout": {
          "annotationdefaults": {
           "arrowcolor": "#2a3f5f",
           "arrowhead": 0,
           "arrowwidth": 1
          },
          "autotypenumbers": "strict",
          "coloraxis": {
           "colorbar": {
            "outlinewidth": 0,
            "ticks": ""
           }
          },
          "colorscale": {
           "diverging": [
            [
             0,
             "#8e0152"
            ],
            [
             0.1,
             "#c51b7d"
            ],
            [
             0.2,
             "#de77ae"
            ],
            [
             0.3,
             "#f1b6da"
            ],
            [
             0.4,
             "#fde0ef"
            ],
            [
             0.5,
             "#f7f7f7"
            ],
            [
             0.6,
             "#e6f5d0"
            ],
            [
             0.7,
             "#b8e186"
            ],
            [
             0.8,
             "#7fbc41"
            ],
            [
             0.9,
             "#4d9221"
            ],
            [
             1,
             "#276419"
            ]
           ],
           "sequential": [
            [
             0,
             "#0d0887"
            ],
            [
             0.1111111111111111,
             "#46039f"
            ],
            [
             0.2222222222222222,
             "#7201a8"
            ],
            [
             0.3333333333333333,
             "#9c179e"
            ],
            [
             0.4444444444444444,
             "#bd3786"
            ],
            [
             0.5555555555555556,
             "#d8576b"
            ],
            [
             0.6666666666666666,
             "#ed7953"
            ],
            [
             0.7777777777777778,
             "#fb9f3a"
            ],
            [
             0.8888888888888888,
             "#fdca26"
            ],
            [
             1,
             "#f0f921"
            ]
           ],
           "sequentialminus": [
            [
             0,
             "#0d0887"
            ],
            [
             0.1111111111111111,
             "#46039f"
            ],
            [
             0.2222222222222222,
             "#7201a8"
            ],
            [
             0.3333333333333333,
             "#9c179e"
            ],
            [
             0.4444444444444444,
             "#bd3786"
            ],
            [
             0.5555555555555556,
             "#d8576b"
            ],
            [
             0.6666666666666666,
             "#ed7953"
            ],
            [
             0.7777777777777778,
             "#fb9f3a"
            ],
            [
             0.8888888888888888,
             "#fdca26"
            ],
            [
             1,
             "#f0f921"
            ]
           ]
          },
          "colorway": [
           "#636efa",
           "#EF553B",
           "#00cc96",
           "#ab63fa",
           "#FFA15A",
           "#19d3f3",
           "#FF6692",
           "#B6E880",
           "#FF97FF",
           "#FECB52"
          ],
          "font": {
           "color": "#2a3f5f"
          },
          "geo": {
           "bgcolor": "white",
           "lakecolor": "white",
           "landcolor": "#E5ECF6",
           "showlakes": true,
           "showland": true,
           "subunitcolor": "white"
          },
          "hoverlabel": {
           "align": "left"
          },
          "hovermode": "closest",
          "mapbox": {
           "style": "light"
          },
          "paper_bgcolor": "white",
          "plot_bgcolor": "#E5ECF6",
          "polar": {
           "angularaxis": {
            "gridcolor": "white",
            "linecolor": "white",
            "ticks": ""
           },
           "bgcolor": "#E5ECF6",
           "radialaxis": {
            "gridcolor": "white",
            "linecolor": "white",
            "ticks": ""
           }
          },
          "scene": {
           "xaxis": {
            "backgroundcolor": "#E5ECF6",
            "gridcolor": "white",
            "gridwidth": 2,
            "linecolor": "white",
            "showbackground": true,
            "ticks": "",
            "zerolinecolor": "white"
           },
           "yaxis": {
            "backgroundcolor": "#E5ECF6",
            "gridcolor": "white",
            "gridwidth": 2,
            "linecolor": "white",
            "showbackground": true,
            "ticks": "",
            "zerolinecolor": "white"
           },
           "zaxis": {
            "backgroundcolor": "#E5ECF6",
            "gridcolor": "white",
            "gridwidth": 2,
            "linecolor": "white",
            "showbackground": true,
            "ticks": "",
            "zerolinecolor": "white"
           }
          },
          "shapedefaults": {
           "line": {
            "color": "#2a3f5f"
           }
          },
          "ternary": {
           "aaxis": {
            "gridcolor": "white",
            "linecolor": "white",
            "ticks": ""
           },
           "baxis": {
            "gridcolor": "white",
            "linecolor": "white",
            "ticks": ""
           },
           "bgcolor": "#E5ECF6",
           "caxis": {
            "gridcolor": "white",
            "linecolor": "white",
            "ticks": ""
           }
          },
          "title": {
           "x": 0.05
          },
          "xaxis": {
           "automargin": true,
           "gridcolor": "white",
           "linecolor": "white",
           "ticks": "",
           "title": {
            "standoff": 15
           },
           "zerolinecolor": "white",
           "zerolinewidth": 2
          },
          "yaxis": {
           "automargin": true,
           "gridcolor": "white",
           "linecolor": "white",
           "ticks": "",
           "title": {
            "standoff": 15
           },
           "zerolinecolor": "white",
           "zerolinewidth": 2
          }
         }
        },
        "title": {
         "text": "Mercury emisions per 100k of population"
        },
        "xaxis": {
         "anchor": "y",
         "domain": [
          0,
          1
         ],
         "title": {
          "text": ""
         }
        },
        "yaxis": {
         "anchor": "x",
         "domain": [
          0,
          1
         ],
         "range": [
          0,
          2
         ],
         "title": {
          "text": "Lb's of annual emissions per 100k of population"
         }
        }
       }
      },
      "text/html": [
       "<div>                            <div id=\"7ceb05b8-d6d1-4282-8920-3b0171fcf846\" class=\"plotly-graph-div\" style=\"height:525px; width:100%;\"></div>            <script type=\"text/javascript\">                require([\"plotly\"], function(Plotly) {                    window.PLOTLYENV=window.PLOTLYENV || {};                                    if (document.getElementById(\"7ceb05b8-d6d1-4282-8920-3b0171fcf846\")) {                    Plotly.newPlot(                        \"7ceb05b8-d6d1-4282-8920-3b0171fcf846\",                        [{\"hovertemplate\":\"<b>%{hovertext}</b><br><br>State=VT<br>=%{x}<br>Lb's of annual emissions per 100k of population=%{y}<extra></extra>\",\"hovertext\":[\"High CAV adoption\",\"High CAV adoption\",\"High CAV adoption\",\"High CAV adoption\",\"High CAV adoption\"],\"legendgroup\":\"VT\",\"line\":{\"color\":\"#636efa\",\"dash\":\"solid\"},\"marker\":{\"symbol\":\"circle\"},\"mode\":\"lines\",\"name\":\"VT\",\"orientation\":\"v\",\"showlegend\":true,\"x\":[2008,2011,2014,2017,2020],\"xaxis\":\"x\",\"y\":[0.2822351339,0.2853252946,0.2812102697,0.2983824322,0.241200459],\"yaxis\":\"y\",\"type\":\"scatter\"},{\"hovertemplate\":\"<b>%{hovertext}</b><br><br>State=MA<br>=%{x}<br>Lb's of annual emissions per 100k of population=%{y}<extra></extra>\",\"hovertext\":[\"High CAV adoption\",\"High CAV adoption\",\"High CAV adoption\",\"High CAV adoption\",\"High CAV adoption\"],\"legendgroup\":\"MA\",\"line\":{\"color\":\"#EF553B\",\"dash\":\"solid\"},\"marker\":{\"symbol\":\"circle\"},\"mode\":\"lines\",\"name\":\"MA\",\"orientation\":\"v\",\"showlegend\":true,\"x\":[2008,2011,2014,2017,2020],\"xaxis\":\"x\",\"y\":[0.2018097074,0.2075220807,0.206613424,0.2280160549,0.1947814937],\"yaxis\":\"y\",\"type\":\"scatter\"},{\"hovertemplate\":\"<b>%{hovertext}</b><br><br>State=MD<br>=%{x}<br>Lb's of annual emissions per 100k of population=%{y}<extra></extra>\",\"hovertext\":[\"High CAV adoption\",\"High CAV adoption\",\"High CAV adoption\",\"High CAV adoption\",\"High CAV adoption\"],\"legendgroup\":\"MD\",\"line\":{\"color\":\"#00cc96\",\"dash\":\"solid\"},\"marker\":{\"symbol\":\"circle\"},\"mode\":\"lines\",\"name\":\"MD\",\"orientation\":\"v\",\"showlegend\":true,\"x\":[2008,2011,2014,2017,2020],\"xaxis\":\"x\",\"y\":[0.2375729997,0.2389242453,0.2305658966,0.2442945454,0.2031940113],\"yaxis\":\"y\",\"type\":\"scatter\"},{\"hovertemplate\":\"<b>%{hovertext}</b><br><br>State=VA<br>=%{x}<br>Lb's of annual emissions per 100k of population=%{y}<extra></extra>\",\"hovertext\":[\"High CAV adoption\",\"High CAV adoption\",\"High CAV adoption\",\"High CAV adoption\",\"High CAV adoption\"],\"legendgroup\":\"VA\",\"line\":{\"color\":\"#ab63fa\",\"dash\":\"solid\"},\"marker\":{\"symbol\":\"circle\"},\"mode\":\"lines\",\"name\":\"VA\",\"orientation\":\"v\",\"showlegend\":true,\"x\":[2008,2011,2014,2017,2020],\"xaxis\":\"x\",\"y\":[0.2512469456,0.2568607565,0.2470087289,0.2463833777,0.2163973704],\"yaxis\":\"y\",\"type\":\"scatter\"},{\"hovertemplate\":\"<b>%{hovertext}</b><br><br>State=WV<br>=%{x}<br>Lb's of annual emissions per 100k of population=%{y}<extra></extra>\",\"hovertext\":[\"Low CAV adoption\",\"Low CAV adoption\",\"Low CAV adoption\",\"Low CAV adoption\",\"Low CAV adoption\"],\"legendgroup\":\"WV\",\"line\":{\"color\":\"#FFA15A\",\"dash\":\"solid\"},\"marker\":{\"symbol\":\"circle\"},\"mode\":\"lines\",\"name\":\"WV\",\"orientation\":\"v\",\"showlegend\":true,\"x\":[2008,2011,2014,2017,2020],\"xaxis\":\"x\",\"y\":[0.2673938187,0.233162119,0.2446622592,0.2611336963,0.2001804333],\"yaxis\":\"y\",\"type\":\"scatter\"},{\"hovertemplate\":\"<b>%{hovertext}</b><br><br>State=AL<br>=%{x}<br>Lb's of annual emissions per 100k of population=%{y}<extra></extra>\",\"hovertext\":[\"Low CAV adoption\",\"Low CAV adoption\",\"Low CAV adoption\",\"Low CAV adoption\",\"Low CAV adoption\"],\"legendgroup\":\"AL\",\"line\":{\"color\":\"#19d3f3\",\"dash\":\"solid\"},\"marker\":{\"symbol\":\"circle\"},\"mode\":\"lines\",\"name\":\"AL\",\"orientation\":\"v\",\"showlegend\":true,\"x\":[2008,2011,2014,2017,2020],\"xaxis\":\"x\",\"y\":[0.2985561015,0.3266993287,0.3214854761,0.3439046364,0.3312681619],\"yaxis\":\"y\",\"type\":\"scatter\"},{\"hovertemplate\":\"<b>%{hovertext}</b><br><br>State=KY<br>=%{x}<br>Lb's of annual emissions per 100k of population=%{y}<extra></extra>\",\"hovertext\":[\"Low CAV adoption\",\"Low CAV adoption\",\"Low CAV adoption\",\"Low CAV adoption\",\"Low CAV adoption\"],\"legendgroup\":\"KY\",\"line\":{\"color\":\"#FF6692\",\"dash\":\"solid\"},\"marker\":{\"symbol\":\"circle\"},\"mode\":\"lines\",\"name\":\"KY\",\"orientation\":\"v\",\"showlegend\":true,\"x\":[2008,2011,2014,2017,2020],\"xaxis\":\"x\",\"y\":[0.2594560704,0.2728112258,0.2531500974,0.2559307164,0.2460262757],\"yaxis\":\"y\",\"type\":\"scatter\"},{\"hovertemplate\":\"<b>%{hovertext}</b><br><br>State=MI<br>=%{x}<br>Lb's of annual emissions per 100k of population=%{y}<extra></extra>\",\"hovertext\":[\"Low CAV adoption\",\"Low CAV adoption\",\"Low CAV adoption\",\"Low CAV adoption\",\"Low CAV adoption\"],\"legendgroup\":\"MI\",\"line\":{\"color\":\"#B6E880\",\"dash\":\"solid\"},\"marker\":{\"symbol\":\"circle\"},\"mode\":\"lines\",\"name\":\"MI\",\"orientation\":\"v\",\"showlegend\":true,\"x\":[2008,2011,2014,2017,2020],\"xaxis\":\"x\",\"y\":[0.2350686999,0.2474335622,0.239828808,0.2422520488,0.2134435844],\"yaxis\":\"y\",\"type\":\"scatter\"},{\"hovertemplate\":\"<b>%{hovertext}</b><br><br>State=LA<br>=%{x}<br>Lb's of annual emissions per 100k of population=%{y}<extra></extra>\",\"hovertext\":[\"Low CAV adoption\",\"Low CAV adoption\",\"Low CAV adoption\",\"Low CAV adoption\",\"Low CAV adoption\"],\"legendgroup\":\"LA\",\"line\":{\"color\":\"#FF97FF\",\"dash\":\"solid\"},\"marker\":{\"symbol\":\"circle\"},\"mode\":\"lines\",\"name\":\"LA\",\"orientation\":\"v\",\"showlegend\":true,\"x\":[2008,2011,2014,2017,2020],\"xaxis\":\"x\",\"y\":[0.2437715076,0.2475005307,0.2333909036,0.2334913579,0.2435303072],\"yaxis\":\"y\",\"type\":\"scatter\"},{\"hovertemplate\":\"<b>%{hovertext}</b><br><br>State=AR<br>=%{x}<br>Lb's of annual emissions per 100k of population=%{y}<extra></extra>\",\"hovertext\":[\"Low CAV adoption\",\"Low CAV adoption\",\"Low CAV adoption\",\"Low CAV adoption\",\"Low CAV adoption\"],\"legendgroup\":\"AR\",\"line\":{\"color\":\"#FECB52\",\"dash\":\"solid\"},\"marker\":{\"symbol\":\"circle\"},\"mode\":\"lines\",\"name\":\"AR\",\"orientation\":\"v\",\"showlegend\":true,\"x\":[2008,2011,2014,2017,2020],\"xaxis\":\"x\",\"y\":[0.266252065,0.2622147229,0.2598509353,0.2725173383,0.2580616286],\"yaxis\":\"y\",\"type\":\"scatter\"},{\"hovertemplate\":\"<b>%{hovertext}</b><br><br>State=OK<br>=%{x}<br>Lb's of annual emissions per 100k of population=%{y}<extra></extra>\",\"hovertext\":[\"Low CAV adoption\",\"Low CAV adoption\",\"Low CAV adoption\",\"Low CAV adoption\",\"Low CAV adoption\"],\"legendgroup\":\"OK\",\"line\":{\"color\":\"#636efa\",\"dash\":\"solid\"},\"marker\":{\"symbol\":\"circle\"},\"mode\":\"lines\",\"name\":\"OK\",\"orientation\":\"v\",\"showlegend\":true,\"x\":[2008,2011,2014,2017,2020],\"xaxis\":\"x\",\"y\":[0.311546185,0.301321393,0.27900933,0.2834267499,0.2293658199],\"yaxis\":\"y\",\"type\":\"scatter\"},{\"hovertemplate\":\"<b>%{hovertext}</b><br><br>State=CA<br>=%{x}<br>Lb's of annual emissions per 100k of population=%{y}<extra></extra>\",\"hovertext\":[\"High CAV adoption\",\"High CAV adoption\",\"High CAV adoption\",\"High CAV adoption\",\"High CAV adoption\"],\"legendgroup\":\"CA\",\"line\":{\"color\":\"#EF553B\",\"dash\":\"solid\"},\"marker\":{\"symbol\":\"circle\"},\"mode\":\"lines\",\"name\":\"CA\",\"orientation\":\"v\",\"showlegend\":true,\"x\":[2008,2011,2014,2017,2020],\"xaxis\":\"x\",\"y\":[1.942388379,0.4060602623,0.2011046591,0.05328021845,0.1058922851],\"yaxis\":\"y\",\"type\":\"scatter\"},{\"hovertemplate\":\"<b>%{hovertext}</b><br><br>State=WA<br>=%{x}<br>Lb's of annual emissions per 100k of population=%{y}<extra></extra>\",\"hovertext\":[\"High CAV adoption\",\"High CAV adoption\",\"High CAV adoption\",\"High CAV adoption\",\"High CAV adoption\"],\"legendgroup\":\"WA\",\"line\":{\"color\":\"#00cc96\",\"dash\":\"solid\"},\"marker\":{\"symbol\":\"circle\"},\"mode\":\"lines\",\"name\":\"WA\",\"orientation\":\"v\",\"showlegend\":true,\"x\":[2008,2011,2014,2017,2020],\"xaxis\":\"x\",\"y\":[0.1993545631,0.2020331655,0.1953249487,0.1965762547,0.1621676763],\"yaxis\":\"y\",\"type\":\"scatter\"},{\"hovertemplate\":\"<b>%{hovertext}</b><br><br>State=OR<br>=%{x}<br>Lb's of annual emissions per 100k of population=%{y}<extra></extra>\",\"hovertext\":[\"High CAV adoption\",\"High CAV adoption\",\"High CAV adoption\",\"High CAV adoption\",\"High CAV adoption\"],\"legendgroup\":\"OR\",\"line\":{\"color\":\"#ab63fa\",\"dash\":\"solid\"},\"marker\":{\"symbol\":\"circle\"},\"mode\":\"lines\",\"name\":\"OR\",\"orientation\":\"v\",\"showlegend\":true,\"x\":[2008,2011,2014,2017,2020],\"xaxis\":\"x\",\"y\":[0.2120645365,0.2100476205,0.1977456082,0.1958778256,0.1669933688],\"yaxis\":\"y\",\"type\":\"scatter\"},{\"hovertemplate\":\"<b>%{hovertext}</b><br><br>State=HI<br>=%{x}<br>Lb's of annual emissions per 100k of population=%{y}<extra></extra>\",\"hovertext\":[\"High CAV adoption\",\"High CAV adoption\",\"High CAV adoption\",\"High CAV adoption\",\"High CAV adoption\"],\"legendgroup\":\"HI\",\"line\":{\"color\":\"#FFA15A\",\"dash\":\"solid\"},\"marker\":{\"symbol\":\"circle\"},\"mode\":\"lines\",\"name\":\"HI\",\"orientation\":\"v\",\"showlegend\":true,\"x\":[2008,2011,2014,2017,2020],\"xaxis\":\"x\",\"y\":[0.1900788466,0.1790407703,0.1742307457,0.1897884784,0.1527693712],\"yaxis\":\"y\",\"type\":\"scatter\"},{\"hovertemplate\":\"<b>%{hovertext}</b><br><br>State=CO<br>=%{x}<br>Lb's of annual emissions per 100k of population=%{y}<extra></extra>\",\"hovertext\":[\"High CAV adoption\",\"High CAV adoption\",\"High CAV adoption\",\"High CAV adoption\",\"High CAV adoption\"],\"legendgroup\":\"CO\",\"line\":{\"color\":\"#19d3f3\",\"dash\":\"solid\"},\"marker\":{\"symbol\":\"circle\"},\"mode\":\"lines\",\"name\":\"CO\",\"orientation\":\"v\",\"showlegend\":true,\"x\":[2008,2011,2014,2017,2020],\"xaxis\":\"x\",\"y\":[0.2360346965,0.2257447578,0.2202916737,0.2287252102,0.199262518],\"yaxis\":\"y\",\"type\":\"scatter\"},{\"hovertemplate\":\"<b>%{hovertext}</b><br><br>State=NV<br>=%{x}<br>Lb's of annual emissions per 100k of population=%{y}<extra></extra>\",\"hovertext\":[\"High CAV adoption\",\"High CAV adoption\",\"High CAV adoption\",\"High CAV adoption\",\"High CAV adoption\"],\"legendgroup\":\"NV\",\"line\":{\"color\":\"#FF6692\",\"dash\":\"solid\"},\"marker\":{\"symbol\":\"circle\"},\"mode\":\"lines\",\"name\":\"NV\",\"orientation\":\"v\",\"showlegend\":true,\"x\":[2008,2011,2014,2017,2020],\"xaxis\":\"x\",\"y\":[0.1901926955,0.2309038806,0.2178066893,0.2132787756,0.186424527],\"yaxis\":\"y\",\"type\":\"scatter\"},{\"hovertemplate\":\"<b>%{hovertext}</b><br><br>State=ND<br>=%{x}<br>Lb's of annual emissions per 100k of population=%{y}<extra></extra>\",\"hovertext\":[\"Low CAV adoption\",\"Low CAV adoption\",\"Low CAV adoption\",\"Low CAV adoption\",\"Low CAV adoption\"],\"legendgroup\":\"ND\",\"line\":{\"color\":\"#B6E880\",\"dash\":\"solid\"},\"marker\":{\"symbol\":\"circle\"},\"mode\":\"lines\",\"name\":\"ND\",\"orientation\":\"v\",\"showlegend\":true,\"x\":[2008,2011,2014,2017,2020],\"xaxis\":\"x\",\"y\":[0.2770149363,0.3140959468,0.276616669,0.2796218045,0.2477652733],\"yaxis\":\"y\",\"type\":\"scatter\"},{\"hovertemplate\":\"<b>%{hovertext}</b><br><br>State=WY<br>=%{x}<br>Lb's of annual emissions per 100k of population=%{y}<extra></extra>\",\"hovertext\":[\"Low CAV adoption\",\"Low CAV adoption\",\"Low CAV adoption\",\"Low CAV adoption\",\"Low CAV adoption\"],\"legendgroup\":\"WY\",\"line\":{\"color\":\"#FF97FF\",\"dash\":\"solid\"},\"marker\":{\"symbol\":\"circle\"},\"mode\":\"lines\",\"name\":\"WY\",\"orientation\":\"v\",\"showlegend\":true,\"x\":[2008,2011,2014,2017,2020],\"xaxis\":\"x\",\"y\":[0.3996244056,0.3720408222,0.3361988318,0.3512053719,0.3486922807],\"yaxis\":\"y\",\"type\":\"scatter\"},{\"hovertemplate\":\"<b>%{hovertext}</b><br><br>State=SD<br>=%{x}<br>Lb's of annual emissions per 100k of population=%{y}<extra></extra>\",\"hovertext\":[\"Low CAV adoption\",\"Low CAV adoption\",\"Low CAV adoption\",\"Low CAV adoption\",\"Low CAV adoption\"],\"legendgroup\":\"SD\",\"line\":{\"color\":\"#FECB52\",\"dash\":\"solid\"},\"marker\":{\"symbol\":\"circle\"},\"mode\":\"lines\",\"name\":\"SD\",\"orientation\":\"v\",\"showlegend\":true,\"x\":[2008,2011,2014,2017,2020],\"xaxis\":\"x\",\"y\":[0.260578412,0.2639055275,0.2362930905,0.2489774744,0.2505152433],\"yaxis\":\"y\",\"type\":\"scatter\"}],                        {\"template\":{\"data\":{\"histogram2dcontour\":[{\"type\":\"histogram2dcontour\",\"colorbar\":{\"outlinewidth\":0,\"ticks\":\"\"},\"colorscale\":[[0.0,\"#0d0887\"],[0.1111111111111111,\"#46039f\"],[0.2222222222222222,\"#7201a8\"],[0.3333333333333333,\"#9c179e\"],[0.4444444444444444,\"#bd3786\"],[0.5555555555555556,\"#d8576b\"],[0.6666666666666666,\"#ed7953\"],[0.7777777777777778,\"#fb9f3a\"],[0.8888888888888888,\"#fdca26\"],[1.0,\"#f0f921\"]]}],\"choropleth\":[{\"type\":\"choropleth\",\"colorbar\":{\"outlinewidth\":0,\"ticks\":\"\"}}],\"histogram2d\":[{\"type\":\"histogram2d\",\"colorbar\":{\"outlinewidth\":0,\"ticks\":\"\"},\"colorscale\":[[0.0,\"#0d0887\"],[0.1111111111111111,\"#46039f\"],[0.2222222222222222,\"#7201a8\"],[0.3333333333333333,\"#9c179e\"],[0.4444444444444444,\"#bd3786\"],[0.5555555555555556,\"#d8576b\"],[0.6666666666666666,\"#ed7953\"],[0.7777777777777778,\"#fb9f3a\"],[0.8888888888888888,\"#fdca26\"],[1.0,\"#f0f921\"]]}],\"heatmap\":[{\"type\":\"heatmap\",\"colorbar\":{\"outlinewidth\":0,\"ticks\":\"\"},\"colorscale\":[[0.0,\"#0d0887\"],[0.1111111111111111,\"#46039f\"],[0.2222222222222222,\"#7201a8\"],[0.3333333333333333,\"#9c179e\"],[0.4444444444444444,\"#bd3786\"],[0.5555555555555556,\"#d8576b\"],[0.6666666666666666,\"#ed7953\"],[0.7777777777777778,\"#fb9f3a\"],[0.8888888888888888,\"#fdca26\"],[1.0,\"#f0f921\"]]}],\"heatmapgl\":[{\"type\":\"heatmapgl\",\"colorbar\":{\"outlinewidth\":0,\"ticks\":\"\"},\"colorscale\":[[0.0,\"#0d0887\"],[0.1111111111111111,\"#46039f\"],[0.2222222222222222,\"#7201a8\"],[0.3333333333333333,\"#9c179e\"],[0.4444444444444444,\"#bd3786\"],[0.5555555555555556,\"#d8576b\"],[0.6666666666666666,\"#ed7953\"],[0.7777777777777778,\"#fb9f3a\"],[0.8888888888888888,\"#fdca26\"],[1.0,\"#f0f921\"]]}],\"contourcarpet\":[{\"type\":\"contourcarpet\",\"colorbar\":{\"outlinewidth\":0,\"ticks\":\"\"}}],\"contour\":[{\"type\":\"contour\",\"colorbar\":{\"outlinewidth\":0,\"ticks\":\"\"},\"colorscale\":[[0.0,\"#0d0887\"],[0.1111111111111111,\"#46039f\"],[0.2222222222222222,\"#7201a8\"],[0.3333333333333333,\"#9c179e\"],[0.4444444444444444,\"#bd3786\"],[0.5555555555555556,\"#d8576b\"],[0.6666666666666666,\"#ed7953\"],[0.7777777777777778,\"#fb9f3a\"],[0.8888888888888888,\"#fdca26\"],[1.0,\"#f0f921\"]]}],\"surface\":[{\"type\":\"surface\",\"colorbar\":{\"outlinewidth\":0,\"ticks\":\"\"},\"colorscale\":[[0.0,\"#0d0887\"],[0.1111111111111111,\"#46039f\"],[0.2222222222222222,\"#7201a8\"],[0.3333333333333333,\"#9c179e\"],[0.4444444444444444,\"#bd3786\"],[0.5555555555555556,\"#d8576b\"],[0.6666666666666666,\"#ed7953\"],[0.7777777777777778,\"#fb9f3a\"],[0.8888888888888888,\"#fdca26\"],[1.0,\"#f0f921\"]]}],\"mesh3d\":[{\"type\":\"mesh3d\",\"colorbar\":{\"outlinewidth\":0,\"ticks\":\"\"}}],\"scatter\":[{\"fillpattern\":{\"fillmode\":\"overlay\",\"size\":10,\"solidity\":0.2},\"type\":\"scatter\"}],\"parcoords\":[{\"type\":\"parcoords\",\"line\":{\"colorbar\":{\"outlinewidth\":0,\"ticks\":\"\"}}}],\"scatterpolargl\":[{\"type\":\"scatterpolargl\",\"marker\":{\"colorbar\":{\"outlinewidth\":0,\"ticks\":\"\"}}}],\"bar\":[{\"error_x\":{\"color\":\"#2a3f5f\"},\"error_y\":{\"color\":\"#2a3f5f\"},\"marker\":{\"line\":{\"color\":\"#E5ECF6\",\"width\":0.5},\"pattern\":{\"fillmode\":\"overlay\",\"size\":10,\"solidity\":0.2}},\"type\":\"bar\"}],\"scattergeo\":[{\"type\":\"scattergeo\",\"marker\":{\"colorbar\":{\"outlinewidth\":0,\"ticks\":\"\"}}}],\"scatterpolar\":[{\"type\":\"scatterpolar\",\"marker\":{\"colorbar\":{\"outlinewidth\":0,\"ticks\":\"\"}}}],\"histogram\":[{\"marker\":{\"pattern\":{\"fillmode\":\"overlay\",\"size\":10,\"solidity\":0.2}},\"type\":\"histogram\"}],\"scattergl\":[{\"type\":\"scattergl\",\"marker\":{\"colorbar\":{\"outlinewidth\":0,\"ticks\":\"\"}}}],\"scatter3d\":[{\"type\":\"scatter3d\",\"line\":{\"colorbar\":{\"outlinewidth\":0,\"ticks\":\"\"}},\"marker\":{\"colorbar\":{\"outlinewidth\":0,\"ticks\":\"\"}}}],\"scattermapbox\":[{\"type\":\"scattermapbox\",\"marker\":{\"colorbar\":{\"outlinewidth\":0,\"ticks\":\"\"}}}],\"scatterternary\":[{\"type\":\"scatterternary\",\"marker\":{\"colorbar\":{\"outlinewidth\":0,\"ticks\":\"\"}}}],\"scattercarpet\":[{\"type\":\"scattercarpet\",\"marker\":{\"colorbar\":{\"outlinewidth\":0,\"ticks\":\"\"}}}],\"carpet\":[{\"aaxis\":{\"endlinecolor\":\"#2a3f5f\",\"gridcolor\":\"white\",\"linecolor\":\"white\",\"minorgridcolor\":\"white\",\"startlinecolor\":\"#2a3f5f\"},\"baxis\":{\"endlinecolor\":\"#2a3f5f\",\"gridcolor\":\"white\",\"linecolor\":\"white\",\"minorgridcolor\":\"white\",\"startlinecolor\":\"#2a3f5f\"},\"type\":\"carpet\"}],\"table\":[{\"cells\":{\"fill\":{\"color\":\"#EBF0F8\"},\"line\":{\"color\":\"white\"}},\"header\":{\"fill\":{\"color\":\"#C8D4E3\"},\"line\":{\"color\":\"white\"}},\"type\":\"table\"}],\"barpolar\":[{\"marker\":{\"line\":{\"color\":\"#E5ECF6\",\"width\":0.5},\"pattern\":{\"fillmode\":\"overlay\",\"size\":10,\"solidity\":0.2}},\"type\":\"barpolar\"}],\"pie\":[{\"automargin\":true,\"type\":\"pie\"}]},\"layout\":{\"autotypenumbers\":\"strict\",\"colorway\":[\"#636efa\",\"#EF553B\",\"#00cc96\",\"#ab63fa\",\"#FFA15A\",\"#19d3f3\",\"#FF6692\",\"#B6E880\",\"#FF97FF\",\"#FECB52\"],\"font\":{\"color\":\"#2a3f5f\"},\"hovermode\":\"closest\",\"hoverlabel\":{\"align\":\"left\"},\"paper_bgcolor\":\"white\",\"plot_bgcolor\":\"#E5ECF6\",\"polar\":{\"bgcolor\":\"#E5ECF6\",\"angularaxis\":{\"gridcolor\":\"white\",\"linecolor\":\"white\",\"ticks\":\"\"},\"radialaxis\":{\"gridcolor\":\"white\",\"linecolor\":\"white\",\"ticks\":\"\"}},\"ternary\":{\"bgcolor\":\"#E5ECF6\",\"aaxis\":{\"gridcolor\":\"white\",\"linecolor\":\"white\",\"ticks\":\"\"},\"baxis\":{\"gridcolor\":\"white\",\"linecolor\":\"white\",\"ticks\":\"\"},\"caxis\":{\"gridcolor\":\"white\",\"linecolor\":\"white\",\"ticks\":\"\"}},\"coloraxis\":{\"colorbar\":{\"outlinewidth\":0,\"ticks\":\"\"}},\"colorscale\":{\"sequential\":[[0.0,\"#0d0887\"],[0.1111111111111111,\"#46039f\"],[0.2222222222222222,\"#7201a8\"],[0.3333333333333333,\"#9c179e\"],[0.4444444444444444,\"#bd3786\"],[0.5555555555555556,\"#d8576b\"],[0.6666666666666666,\"#ed7953\"],[0.7777777777777778,\"#fb9f3a\"],[0.8888888888888888,\"#fdca26\"],[1.0,\"#f0f921\"]],\"sequentialminus\":[[0.0,\"#0d0887\"],[0.1111111111111111,\"#46039f\"],[0.2222222222222222,\"#7201a8\"],[0.3333333333333333,\"#9c179e\"],[0.4444444444444444,\"#bd3786\"],[0.5555555555555556,\"#d8576b\"],[0.6666666666666666,\"#ed7953\"],[0.7777777777777778,\"#fb9f3a\"],[0.8888888888888888,\"#fdca26\"],[1.0,\"#f0f921\"]],\"diverging\":[[0,\"#8e0152\"],[0.1,\"#c51b7d\"],[0.2,\"#de77ae\"],[0.3,\"#f1b6da\"],[0.4,\"#fde0ef\"],[0.5,\"#f7f7f7\"],[0.6,\"#e6f5d0\"],[0.7,\"#b8e186\"],[0.8,\"#7fbc41\"],[0.9,\"#4d9221\"],[1,\"#276419\"]]},\"xaxis\":{\"gridcolor\":\"white\",\"linecolor\":\"white\",\"ticks\":\"\",\"title\":{\"standoff\":15},\"zerolinecolor\":\"white\",\"automargin\":true,\"zerolinewidth\":2},\"yaxis\":{\"gridcolor\":\"white\",\"linecolor\":\"white\",\"ticks\":\"\",\"title\":{\"standoff\":15},\"zerolinecolor\":\"white\",\"automargin\":true,\"zerolinewidth\":2},\"scene\":{\"xaxis\":{\"backgroundcolor\":\"#E5ECF6\",\"gridcolor\":\"white\",\"linecolor\":\"white\",\"showbackground\":true,\"ticks\":\"\",\"zerolinecolor\":\"white\",\"gridwidth\":2},\"yaxis\":{\"backgroundcolor\":\"#E5ECF6\",\"gridcolor\":\"white\",\"linecolor\":\"white\",\"showbackground\":true,\"ticks\":\"\",\"zerolinecolor\":\"white\",\"gridwidth\":2},\"zaxis\":{\"backgroundcolor\":\"#E5ECF6\",\"gridcolor\":\"white\",\"linecolor\":\"white\",\"showbackground\":true,\"ticks\":\"\",\"zerolinecolor\":\"white\",\"gridwidth\":2}},\"shapedefaults\":{\"line\":{\"color\":\"#2a3f5f\"}},\"annotationdefaults\":{\"arrowcolor\":\"#2a3f5f\",\"arrowhead\":0,\"arrowwidth\":1},\"geo\":{\"bgcolor\":\"white\",\"landcolor\":\"#E5ECF6\",\"subunitcolor\":\"white\",\"showland\":true,\"showlakes\":true,\"lakecolor\":\"white\"},\"title\":{\"x\":0.05},\"mapbox\":{\"style\":\"light\"}}},\"xaxis\":{\"anchor\":\"y\",\"domain\":[0.0,1.0],\"title\":{\"text\":\"\"}},\"yaxis\":{\"anchor\":\"x\",\"domain\":[0.0,1.0],\"title\":{\"text\":\"Lb's of annual emissions per 100k of population\"},\"range\":[0,2]},\"legend\":{\"title\":{\"text\":\"State\"},\"tracegroupgap\":0},\"margin\":{\"t\":60},\"font\":{\"color\":\"white\"},\"plot_bgcolor\":\"black\",\"paper_bgcolor\":\"black\",\"title\":{\"text\":\"Mercury emisions per 100k of population\"}},                        {\"responsive\": true}                    ).then(function(){\n",
       "                            \n",
       "var gd = document.getElementById('7ceb05b8-d6d1-4282-8920-3b0171fcf846');\n",
       "var x = new MutationObserver(function (mutations, observer) {{\n",
       "        var display = window.getComputedStyle(gd).display;\n",
       "        if (!display || display === 'none') {{\n",
       "            console.log([gd, 'removed!']);\n",
       "            Plotly.purge(gd);\n",
       "            observer.disconnect();\n",
       "        }}\n",
       "}});\n",
       "\n",
       "// Listen for the removal of the full notebook cells\n",
       "var notebookContainer = gd.closest('#notebook-container');\n",
       "if (notebookContainer) {{\n",
       "    x.observe(notebookContainer, {childList: true});\n",
       "}}\n",
       "\n",
       "// Listen for the clearing of the current output cell\n",
       "var outputEl = gd.closest('.output');\n",
       "if (outputEl) {{\n",
       "    x.observe(outputEl, {childList: true});\n",
       "}}\n",
       "\n",
       "                        })                };                });            </script>        </div>"
      ]
     },
     "metadata": {},
     "output_type": "display_data"
    }
   ],
   "source": [
    "#     'Mercury',\n",
    "Mercury = nei_by_pollutant.loc[(nei_by_pollutant[\"Pollutant\"] == 'Mercury')]\n",
    "\n",
    "Mercury_plot = px.line(\n",
    "    Mercury,\n",
    "    x = \"Year\",\n",
    "    y = \"Emmisions_per_100k\",\n",
    "    hover_name = \"CAV_adoption\",\n",
    "    color = \"State\",\n",
    "    labels = {\n",
    "        \"Year\":'',\n",
    "        \"Emmisions_per_100k\": \"Lb's of annual emissions per 100k of population\"\n",
    "    }\n",
    ")\n",
    "\n",
    "Mercury_plot.update_layout(\n",
    "    yaxis_range=[0,2],\n",
    "    font_color=\"white\",\n",
    "    legend=dict(\n",
    "    title=\"State\"\n",
    "))\n",
    "\n",
    "Mercury_plot.update_layout({\n",
    "    'plot_bgcolor':'black',\n",
    "    'paper_bgcolor':'black',\n",
    "    'title':'Mercury emisions per 100k of population'\n",
    "})\n",
    "\n",
    "Mercury_plot.show()"
   ]
  },
  {
   "cell_type": "code",
   "execution_count": 34,
   "id": "d179a389",
   "metadata": {},
   "outputs": [
    {
     "data": {
      "application/vnd.plotly.v1+json": {
       "config": {
        "plotlyServerURL": "https://plot.ly"
       },
       "data": [
        {
         "hovertemplate": "<b>%{hovertext}</b><br><br>State=VT<br>=%{x}<br>Lb's of annual emissions per 100k of population=%{y}<extra></extra>",
         "hovertext": [
          "High CAV adoption",
          "High CAV adoption",
          "High CAV adoption",
          "High CAV adoption",
          "High CAV adoption"
         ],
         "legendgroup": "VT",
         "line": {
          "color": "#636efa",
          "dash": "solid"
         },
         "marker": {
          "symbol": "circle"
         },
         "mode": "lines",
         "name": "VT",
         "orientation": "v",
         "showlegend": true,
         "type": "scatter",
         "x": [
          2008,
          2011,
          2014,
          2017,
          2020
         ],
         "xaxis": "x",
         "y": [
          10.25054193,
          4.878788568,
          4.559289236,
          4.343308344,
          3.230245929
         ],
         "yaxis": "y"
        },
        {
         "hovertemplate": "<b>%{hovertext}</b><br><br>State=MA<br>=%{x}<br>Lb's of annual emissions per 100k of population=%{y}<extra></extra>",
         "hovertext": [
          "High CAV adoption",
          "High CAV adoption",
          "High CAV adoption",
          "High CAV adoption",
          "High CAV adoption"
         ],
         "legendgroup": "MA",
         "line": {
          "color": "#EF553B",
          "dash": "solid"
         },
         "marker": {
          "symbol": "circle"
         },
         "mode": "lines",
         "name": "MA",
         "orientation": "v",
         "showlegend": true,
         "type": "scatter",
         "x": [
          2008,
          2011,
          2014,
          2017,
          2020
         ],
         "xaxis": "x",
         "y": [
          7.716269353,
          3.313540247,
          3.000061404,
          3.325261381,
          2.666675436
         ],
         "yaxis": "y"
        },
        {
         "hovertemplate": "<b>%{hovertext}</b><br><br>State=MD<br>=%{x}<br>Lb's of annual emissions per 100k of population=%{y}<extra></extra>",
         "hovertext": [
          "High CAV adoption",
          "High CAV adoption",
          "High CAV adoption",
          "High CAV adoption",
          "High CAV adoption"
         ],
         "legendgroup": "MD",
         "line": {
          "color": "#00cc96",
          "dash": "solid"
         },
         "marker": {
          "symbol": "circle"
         },
         "mode": "lines",
         "name": "MD",
         "orientation": "v",
         "showlegend": true,
         "type": "scatter",
         "x": [
          2008,
          2011,
          2014,
          2017,
          2020
         ],
         "xaxis": "x",
         "y": [
          9.064665691,
          4.141332205,
          4.023658576,
          3.701140816,
          2.945190211
         ],
         "yaxis": "y"
        },
        {
         "hovertemplate": "<b>%{hovertext}</b><br><br>State=VA<br>=%{x}<br>Lb's of annual emissions per 100k of population=%{y}<extra></extra>",
         "hovertext": [
          "High CAV adoption",
          "High CAV adoption",
          "High CAV adoption",
          "High CAV adoption",
          "High CAV adoption"
         ],
         "legendgroup": "VA",
         "line": {
          "color": "#ab63fa",
          "dash": "solid"
         },
         "marker": {
          "symbol": "circle"
         },
         "mode": "lines",
         "name": "VA",
         "orientation": "v",
         "showlegend": true,
         "type": "scatter",
         "x": [
          2008,
          2011,
          2014,
          2017,
          2020
         ],
         "xaxis": "x",
         "y": [
          9.657850571,
          4.619364234,
          4.398157883,
          3.856573548,
          3.269177946
         ],
         "yaxis": "y"
        },
        {
         "hovertemplate": "<b>%{hovertext}</b><br><br>State=WV<br>=%{x}<br>Lb's of annual emissions per 100k of population=%{y}<extra></extra>",
         "hovertext": [
          "Low CAV adoption",
          "Low CAV adoption",
          "Low CAV adoption",
          "Low CAV adoption",
          "Low CAV adoption"
         ],
         "legendgroup": "WV",
         "line": {
          "color": "#FFA15A",
          "dash": "solid"
         },
         "marker": {
          "symbol": "circle"
         },
         "mode": "lines",
         "name": "WV",
         "orientation": "v",
         "showlegend": true,
         "type": "scatter",
         "x": [
          2008,
          2011,
          2014,
          2017,
          2020
         ],
         "xaxis": "x",
         "y": [
          10.70823778,
          4.625154039,
          5.303178571,
          4.283379534,
          3.2480618
         ],
         "yaxis": "y"
        },
        {
         "hovertemplate": "<b>%{hovertext}</b><br><br>State=AL<br>=%{x}<br>Lb's of annual emissions per 100k of population=%{y}<extra></extra>",
         "hovertext": [
          "Low CAV adoption",
          "Low CAV adoption",
          "Low CAV adoption",
          "Low CAV adoption",
          "Low CAV adoption"
         ],
         "legendgroup": "AL",
         "line": {
          "color": "#19d3f3",
          "dash": "solid"
         },
         "marker": {
          "symbol": "circle"
         },
         "mode": "lines",
         "name": "AL",
         "orientation": "v",
         "showlegend": true,
         "type": "scatter",
         "x": [
          2008,
          2011,
          2014,
          2017,
          2020
         ],
         "xaxis": "x",
         "y": [
          11.78658439,
          6.6107115,
          6.343491456,
          5.868469231,
          4.914566359
         ],
         "yaxis": "y"
        },
        {
         "hovertemplate": "<b>%{hovertext}</b><br><br>State=KY<br>=%{x}<br>Lb's of annual emissions per 100k of population=%{y}<extra></extra>",
         "hovertext": [
          "Low CAV adoption",
          "Low CAV adoption",
          "Low CAV adoption",
          "Low CAV adoption",
          "Low CAV adoption"
         ],
         "legendgroup": "KY",
         "line": {
          "color": "#FF6692",
          "dash": "solid"
         },
         "marker": {
          "symbol": "circle"
         },
         "mode": "lines",
         "name": "KY",
         "orientation": "v",
         "showlegend": true,
         "type": "scatter",
         "x": [
          2008,
          2011,
          2014,
          2017,
          2020
         ],
         "xaxis": "x",
         "y": [
          10.69439389,
          5.468306439,
          5.385791017,
          4.763686479,
          3.913289159
         ],
         "yaxis": "y"
        },
        {
         "hovertemplate": "<b>%{hovertext}</b><br><br>State=MI<br>=%{x}<br>Lb's of annual emissions per 100k of population=%{y}<extra></extra>",
         "hovertext": [
          "Low CAV adoption",
          "Low CAV adoption",
          "Low CAV adoption",
          "Low CAV adoption",
          "Low CAV adoption"
         ],
         "legendgroup": "MI",
         "line": {
          "color": "#B6E880",
          "dash": "solid"
         },
         "marker": {
          "symbol": "circle"
         },
         "mode": "lines",
         "name": "MI",
         "orientation": "v",
         "showlegend": true,
         "type": "scatter",
         "x": [
          2008,
          2011,
          2014,
          2017,
          2020
         ],
         "xaxis": "x",
         "y": [
          9.479107717,
          4.374566647,
          3.967686936,
          3.859492784,
          3.076394576
         ],
         "yaxis": "y"
        },
        {
         "hovertemplate": "<b>%{hovertext}</b><br><br>State=LA<br>=%{x}<br>Lb's of annual emissions per 100k of population=%{y}<extra></extra>",
         "hovertext": [
          "Low CAV adoption",
          "Low CAV adoption",
          "Low CAV adoption",
          "Low CAV adoption",
          "Low CAV adoption"
         ],
         "legendgroup": "LA",
         "line": {
          "color": "#FF97FF",
          "dash": "solid"
         },
         "marker": {
          "symbol": "circle"
         },
         "mode": "lines",
         "name": "LA",
         "orientation": "v",
         "showlegend": true,
         "type": "scatter",
         "x": [
          2008,
          2011,
          2014,
          2017,
          2020
         ],
         "xaxis": "x",
         "y": [
          9.708471198,
          4.764083287,
          5.315464341,
          4.559762159,
          3.676930365
         ],
         "yaxis": "y"
        },
        {
         "hovertemplate": "<b>%{hovertext}</b><br><br>State=AR<br>=%{x}<br>Lb's of annual emissions per 100k of population=%{y}<extra></extra>",
         "hovertext": [
          "Low CAV adoption",
          "Low CAV adoption",
          "Low CAV adoption",
          "Low CAV adoption",
          "Low CAV adoption"
         ],
         "legendgroup": "AR",
         "line": {
          "color": "#FECB52",
          "dash": "solid"
         },
         "marker": {
          "symbol": "circle"
         },
         "mode": "lines",
         "name": "AR",
         "orientation": "v",
         "showlegend": true,
         "type": "scatter",
         "x": [
          2008,
          2011,
          2014,
          2017,
          2020
         ],
         "xaxis": "x",
         "y": [
          10.59158034,
          6.043519694,
          5.927287607,
          5.193233307,
          4.116388626
         ],
         "yaxis": "y"
        },
        {
         "hovertemplate": "<b>%{hovertext}</b><br><br>State=OK<br>=%{x}<br>Lb's of annual emissions per 100k of population=%{y}<extra></extra>",
         "hovertext": [
          "Low CAV adoption",
          "Low CAV adoption",
          "Low CAV adoption",
          "Low CAV adoption",
          "Low CAV adoption"
         ],
         "legendgroup": "OK",
         "line": {
          "color": "#636efa",
          "dash": "solid"
         },
         "marker": {
          "symbol": "circle"
         },
         "mode": "lines",
         "name": "OK",
         "orientation": "v",
         "showlegend": true,
         "type": "scatter",
         "x": [
          2008,
          2011,
          2014,
          2017,
          2020
         ],
         "xaxis": "x",
         "y": [
          12.57692158,
          6.16631806,
          6.100698575,
          5.449483975,
          3.840847844
         ],
         "yaxis": "y"
        },
        {
         "hovertemplate": "<b>%{hovertext}</b><br><br>State=CA<br>=%{x}<br>Lb's of annual emissions per 100k of population=%{y}<extra></extra>",
         "hovertext": [
          "High CAV adoption",
          "High CAV adoption",
          "High CAV adoption",
          "High CAV adoption",
          "High CAV adoption"
         ],
         "legendgroup": "CA",
         "line": {
          "color": "#EF553B",
          "dash": "solid"
         },
         "marker": {
          "symbol": "circle"
         },
         "mode": "lines",
         "name": "CA",
         "orientation": "v",
         "showlegend": true,
         "type": "scatter",
         "x": [
          2008,
          2011,
          2014,
          2017,
          2020
         ],
         "xaxis": "x",
         "y": [
          18.50582686,
          2.834585049,
          54.75215294,
          1.049061745,
          53.58935791
         ],
         "yaxis": "y"
        },
        {
         "hovertemplate": "<b>%{hovertext}</b><br><br>State=WA<br>=%{x}<br>Lb's of annual emissions per 100k of population=%{y}<extra></extra>",
         "hovertext": [
          "High CAV adoption",
          "High CAV adoption",
          "High CAV adoption",
          "High CAV adoption",
          "High CAV adoption"
         ],
         "legendgroup": "WA",
         "line": {
          "color": "#00cc96",
          "dash": "solid"
         },
         "marker": {
          "symbol": "circle"
         },
         "mode": "lines",
         "name": "WA",
         "orientation": "v",
         "showlegend": true,
         "type": "scatter",
         "x": [
          2008,
          2011,
          2014,
          2017,
          2020
         ],
         "xaxis": "x",
         "y": [
          8.045475619,
          4.138935861,
          3.932905172,
          3.366534973,
          2.612849939
         ],
         "yaxis": "y"
        },
        {
         "hovertemplate": "<b>%{hovertext}</b><br><br>State=OR<br>=%{x}<br>Lb's of annual emissions per 100k of population=%{y}<extra></extra>",
         "hovertext": [
          "High CAV adoption",
          "High CAV adoption",
          "High CAV adoption",
          "High CAV adoption",
          "High CAV adoption"
         ],
         "legendgroup": "OR",
         "line": {
          "color": "#ab63fa",
          "dash": "solid"
         },
         "marker": {
          "symbol": "circle"
         },
         "mode": "lines",
         "name": "OR",
         "orientation": "v",
         "showlegend": true,
         "type": "scatter",
         "x": [
          2008,
          2011,
          2014,
          2017,
          2020
         ],
         "xaxis": "x",
         "y": [
          8.252772838,
          3.843110482,
          4.072922274,
          4.132890261,
          3.085315094
         ],
         "yaxis": "y"
        },
        {
         "hovertemplate": "<b>%{hovertext}</b><br><br>State=HI<br>=%{x}<br>Lb's of annual emissions per 100k of population=%{y}<extra></extra>",
         "hovertext": [
          "High CAV adoption",
          "High CAV adoption",
          "High CAV adoption",
          "High CAV adoption",
          "High CAV adoption"
         ],
         "legendgroup": "HI",
         "line": {
          "color": "#FFA15A",
          "dash": "solid"
         },
         "marker": {
          "symbol": "circle"
         },
         "mode": "lines",
         "name": "HI",
         "orientation": "v",
         "showlegend": true,
         "type": "scatter",
         "x": [
          2008,
          2011,
          2014,
          2017,
          2020
         ],
         "xaxis": "x",
         "y": [
          6.649449368,
          2.812611094,
          2.670454077,
          2.841114815,
          2.215918968
         ],
         "yaxis": "y"
        },
        {
         "hovertemplate": "<b>%{hovertext}</b><br><br>State=CO<br>=%{x}<br>Lb's of annual emissions per 100k of population=%{y}<extra></extra>",
         "hovertext": [
          "High CAV adoption",
          "High CAV adoption",
          "High CAV adoption",
          "High CAV adoption",
          "High CAV adoption"
         ],
         "legendgroup": "CO",
         "line": {
          "color": "#19d3f3",
          "dash": "solid"
         },
         "marker": {
          "symbol": "circle"
         },
         "mode": "lines",
         "name": "CO",
         "orientation": "v",
         "showlegend": true,
         "type": "scatter",
         "x": [
          2008,
          2011,
          2014,
          2017,
          2020
         ],
         "xaxis": "x",
         "y": [
          8.875332303,
          3.99774845,
          4.203733687,
          3.839388218,
          3.122086488
         ],
         "yaxis": "y"
        },
        {
         "hovertemplate": "<b>%{hovertext}</b><br><br>State=NV<br>=%{x}<br>Lb's of annual emissions per 100k of population=%{y}<extra></extra>",
         "hovertext": [
          "High CAV adoption",
          "High CAV adoption",
          "High CAV adoption",
          "High CAV adoption",
          "High CAV adoption"
         ],
         "legendgroup": "NV",
         "line": {
          "color": "#FF6692",
          "dash": "solid"
         },
         "marker": {
          "symbol": "circle"
         },
         "mode": "lines",
         "name": "NV",
         "orientation": "v",
         "showlegend": true,
         "type": "scatter",
         "x": [
          2008,
          2011,
          2014,
          2017,
          2020
         ],
         "xaxis": "x",
         "y": [
          6.712120966,
          4.146987006,
          4.010857612,
          3.416529256,
          2.881779039
         ],
         "yaxis": "y"
        },
        {
         "hovertemplate": "<b>%{hovertext}</b><br><br>State=ND<br>=%{x}<br>Lb's of annual emissions per 100k of population=%{y}<extra></extra>",
         "hovertext": [
          "Low CAV adoption",
          "Low CAV adoption",
          "Low CAV adoption",
          "Low CAV adoption",
          "Low CAV adoption"
         ],
         "legendgroup": "ND",
         "line": {
          "color": "#B6E880",
          "dash": "solid"
         },
         "marker": {
          "symbol": "circle"
         },
         "mode": "lines",
         "name": "ND",
         "orientation": "v",
         "showlegend": true,
         "type": "scatter",
         "x": [
          2008,
          2011,
          2014,
          2017,
          2020
         ],
         "xaxis": "x",
         "y": [
          11.6230192,
          7.066815066,
          9.857695062,
          6.133327862,
          4.65252832
         ],
         "yaxis": "y"
        },
        {
         "hovertemplate": "<b>%{hovertext}</b><br><br>State=WY<br>=%{x}<br>Lb's of annual emissions per 100k of population=%{y}<extra></extra>",
         "hovertext": [
          "Low CAV adoption",
          "Low CAV adoption",
          "Low CAV adoption",
          "Low CAV adoption",
          "Low CAV adoption"
         ],
         "legendgroup": "WY",
         "line": {
          "color": "#FF97FF",
          "dash": "solid"
         },
         "marker": {
          "symbol": "circle"
         },
         "mode": "lines",
         "name": "WY",
         "orientation": "v",
         "showlegend": true,
         "type": "scatter",
         "x": [
          2008,
          2011,
          2014,
          2017,
          2020
         ],
         "xaxis": "x",
         "y": [
          17.16682036,
          9.538084957,
          10.46074816,
          8.536415195,
          7.262383127
         ],
         "yaxis": "y"
        },
        {
         "hovertemplate": "<b>%{hovertext}</b><br><br>State=SD<br>=%{x}<br>Lb's of annual emissions per 100k of population=%{y}<extra></extra>",
         "hovertext": [
          "Low CAV adoption",
          "Low CAV adoption",
          "Low CAV adoption",
          "Low CAV adoption",
          "Low CAV adoption"
         ],
         "legendgroup": "SD",
         "line": {
          "color": "#FECB52",
          "dash": "solid"
         },
         "marker": {
          "symbol": "circle"
         },
         "mode": "lines",
         "name": "SD",
         "orientation": "v",
         "showlegend": true,
         "type": "scatter",
         "x": [
          2008,
          2011,
          2014,
          2017,
          2020
         ],
         "xaxis": "x",
         "y": [
          11.09170465,
          5.399755542,
          6.397259582,
          5.106160379,
          4.396727677
         ],
         "yaxis": "y"
        }
       ],
       "layout": {
        "font": {
         "color": "white"
        },
        "legend": {
         "title": {
          "text": "State"
         },
         "tracegroupgap": 0
        },
        "margin": {
         "t": 60
        },
        "paper_bgcolor": "black",
        "plot_bgcolor": "black",
        "template": {
         "data": {
          "bar": [
           {
            "error_x": {
             "color": "#2a3f5f"
            },
            "error_y": {
             "color": "#2a3f5f"
            },
            "marker": {
             "line": {
              "color": "#E5ECF6",
              "width": 0.5
             },
             "pattern": {
              "fillmode": "overlay",
              "size": 10,
              "solidity": 0.2
             }
            },
            "type": "bar"
           }
          ],
          "barpolar": [
           {
            "marker": {
             "line": {
              "color": "#E5ECF6",
              "width": 0.5
             },
             "pattern": {
              "fillmode": "overlay",
              "size": 10,
              "solidity": 0.2
             }
            },
            "type": "barpolar"
           }
          ],
          "carpet": [
           {
            "aaxis": {
             "endlinecolor": "#2a3f5f",
             "gridcolor": "white",
             "linecolor": "white",
             "minorgridcolor": "white",
             "startlinecolor": "#2a3f5f"
            },
            "baxis": {
             "endlinecolor": "#2a3f5f",
             "gridcolor": "white",
             "linecolor": "white",
             "minorgridcolor": "white",
             "startlinecolor": "#2a3f5f"
            },
            "type": "carpet"
           }
          ],
          "choropleth": [
           {
            "colorbar": {
             "outlinewidth": 0,
             "ticks": ""
            },
            "type": "choropleth"
           }
          ],
          "contour": [
           {
            "colorbar": {
             "outlinewidth": 0,
             "ticks": ""
            },
            "colorscale": [
             [
              0,
              "#0d0887"
             ],
             [
              0.1111111111111111,
              "#46039f"
             ],
             [
              0.2222222222222222,
              "#7201a8"
             ],
             [
              0.3333333333333333,
              "#9c179e"
             ],
             [
              0.4444444444444444,
              "#bd3786"
             ],
             [
              0.5555555555555556,
              "#d8576b"
             ],
             [
              0.6666666666666666,
              "#ed7953"
             ],
             [
              0.7777777777777778,
              "#fb9f3a"
             ],
             [
              0.8888888888888888,
              "#fdca26"
             ],
             [
              1,
              "#f0f921"
             ]
            ],
            "type": "contour"
           }
          ],
          "contourcarpet": [
           {
            "colorbar": {
             "outlinewidth": 0,
             "ticks": ""
            },
            "type": "contourcarpet"
           }
          ],
          "heatmap": [
           {
            "colorbar": {
             "outlinewidth": 0,
             "ticks": ""
            },
            "colorscale": [
             [
              0,
              "#0d0887"
             ],
             [
              0.1111111111111111,
              "#46039f"
             ],
             [
              0.2222222222222222,
              "#7201a8"
             ],
             [
              0.3333333333333333,
              "#9c179e"
             ],
             [
              0.4444444444444444,
              "#bd3786"
             ],
             [
              0.5555555555555556,
              "#d8576b"
             ],
             [
              0.6666666666666666,
              "#ed7953"
             ],
             [
              0.7777777777777778,
              "#fb9f3a"
             ],
             [
              0.8888888888888888,
              "#fdca26"
             ],
             [
              1,
              "#f0f921"
             ]
            ],
            "type": "heatmap"
           }
          ],
          "heatmapgl": [
           {
            "colorbar": {
             "outlinewidth": 0,
             "ticks": ""
            },
            "colorscale": [
             [
              0,
              "#0d0887"
             ],
             [
              0.1111111111111111,
              "#46039f"
             ],
             [
              0.2222222222222222,
              "#7201a8"
             ],
             [
              0.3333333333333333,
              "#9c179e"
             ],
             [
              0.4444444444444444,
              "#bd3786"
             ],
             [
              0.5555555555555556,
              "#d8576b"
             ],
             [
              0.6666666666666666,
              "#ed7953"
             ],
             [
              0.7777777777777778,
              "#fb9f3a"
             ],
             [
              0.8888888888888888,
              "#fdca26"
             ],
             [
              1,
              "#f0f921"
             ]
            ],
            "type": "heatmapgl"
           }
          ],
          "histogram": [
           {
            "marker": {
             "pattern": {
              "fillmode": "overlay",
              "size": 10,
              "solidity": 0.2
             }
            },
            "type": "histogram"
           }
          ],
          "histogram2d": [
           {
            "colorbar": {
             "outlinewidth": 0,
             "ticks": ""
            },
            "colorscale": [
             [
              0,
              "#0d0887"
             ],
             [
              0.1111111111111111,
              "#46039f"
             ],
             [
              0.2222222222222222,
              "#7201a8"
             ],
             [
              0.3333333333333333,
              "#9c179e"
             ],
             [
              0.4444444444444444,
              "#bd3786"
             ],
             [
              0.5555555555555556,
              "#d8576b"
             ],
             [
              0.6666666666666666,
              "#ed7953"
             ],
             [
              0.7777777777777778,
              "#fb9f3a"
             ],
             [
              0.8888888888888888,
              "#fdca26"
             ],
             [
              1,
              "#f0f921"
             ]
            ],
            "type": "histogram2d"
           }
          ],
          "histogram2dcontour": [
           {
            "colorbar": {
             "outlinewidth": 0,
             "ticks": ""
            },
            "colorscale": [
             [
              0,
              "#0d0887"
             ],
             [
              0.1111111111111111,
              "#46039f"
             ],
             [
              0.2222222222222222,
              "#7201a8"
             ],
             [
              0.3333333333333333,
              "#9c179e"
             ],
             [
              0.4444444444444444,
              "#bd3786"
             ],
             [
              0.5555555555555556,
              "#d8576b"
             ],
             [
              0.6666666666666666,
              "#ed7953"
             ],
             [
              0.7777777777777778,
              "#fb9f3a"
             ],
             [
              0.8888888888888888,
              "#fdca26"
             ],
             [
              1,
              "#f0f921"
             ]
            ],
            "type": "histogram2dcontour"
           }
          ],
          "mesh3d": [
           {
            "colorbar": {
             "outlinewidth": 0,
             "ticks": ""
            },
            "type": "mesh3d"
           }
          ],
          "parcoords": [
           {
            "line": {
             "colorbar": {
              "outlinewidth": 0,
              "ticks": ""
             }
            },
            "type": "parcoords"
           }
          ],
          "pie": [
           {
            "automargin": true,
            "type": "pie"
           }
          ],
          "scatter": [
           {
            "fillpattern": {
             "fillmode": "overlay",
             "size": 10,
             "solidity": 0.2
            },
            "type": "scatter"
           }
          ],
          "scatter3d": [
           {
            "line": {
             "colorbar": {
              "outlinewidth": 0,
              "ticks": ""
             }
            },
            "marker": {
             "colorbar": {
              "outlinewidth": 0,
              "ticks": ""
             }
            },
            "type": "scatter3d"
           }
          ],
          "scattercarpet": [
           {
            "marker": {
             "colorbar": {
              "outlinewidth": 0,
              "ticks": ""
             }
            },
            "type": "scattercarpet"
           }
          ],
          "scattergeo": [
           {
            "marker": {
             "colorbar": {
              "outlinewidth": 0,
              "ticks": ""
             }
            },
            "type": "scattergeo"
           }
          ],
          "scattergl": [
           {
            "marker": {
             "colorbar": {
              "outlinewidth": 0,
              "ticks": ""
             }
            },
            "type": "scattergl"
           }
          ],
          "scattermapbox": [
           {
            "marker": {
             "colorbar": {
              "outlinewidth": 0,
              "ticks": ""
             }
            },
            "type": "scattermapbox"
           }
          ],
          "scatterpolar": [
           {
            "marker": {
             "colorbar": {
              "outlinewidth": 0,
              "ticks": ""
             }
            },
            "type": "scatterpolar"
           }
          ],
          "scatterpolargl": [
           {
            "marker": {
             "colorbar": {
              "outlinewidth": 0,
              "ticks": ""
             }
            },
            "type": "scatterpolargl"
           }
          ],
          "scatterternary": [
           {
            "marker": {
             "colorbar": {
              "outlinewidth": 0,
              "ticks": ""
             }
            },
            "type": "scatterternary"
           }
          ],
          "surface": [
           {
            "colorbar": {
             "outlinewidth": 0,
             "ticks": ""
            },
            "colorscale": [
             [
              0,
              "#0d0887"
             ],
             [
              0.1111111111111111,
              "#46039f"
             ],
             [
              0.2222222222222222,
              "#7201a8"
             ],
             [
              0.3333333333333333,
              "#9c179e"
             ],
             [
              0.4444444444444444,
              "#bd3786"
             ],
             [
              0.5555555555555556,
              "#d8576b"
             ],
             [
              0.6666666666666666,
              "#ed7953"
             ],
             [
              0.7777777777777778,
              "#fb9f3a"
             ],
             [
              0.8888888888888888,
              "#fdca26"
             ],
             [
              1,
              "#f0f921"
             ]
            ],
            "type": "surface"
           }
          ],
          "table": [
           {
            "cells": {
             "fill": {
              "color": "#EBF0F8"
             },
             "line": {
              "color": "white"
             }
            },
            "header": {
             "fill": {
              "color": "#C8D4E3"
             },
             "line": {
              "color": "white"
             }
            },
            "type": "table"
           }
          ]
         },
         "layout": {
          "annotationdefaults": {
           "arrowcolor": "#2a3f5f",
           "arrowhead": 0,
           "arrowwidth": 1
          },
          "autotypenumbers": "strict",
          "coloraxis": {
           "colorbar": {
            "outlinewidth": 0,
            "ticks": ""
           }
          },
          "colorscale": {
           "diverging": [
            [
             0,
             "#8e0152"
            ],
            [
             0.1,
             "#c51b7d"
            ],
            [
             0.2,
             "#de77ae"
            ],
            [
             0.3,
             "#f1b6da"
            ],
            [
             0.4,
             "#fde0ef"
            ],
            [
             0.5,
             "#f7f7f7"
            ],
            [
             0.6,
             "#e6f5d0"
            ],
            [
             0.7,
             "#b8e186"
            ],
            [
             0.8,
             "#7fbc41"
            ],
            [
             0.9,
             "#4d9221"
            ],
            [
             1,
             "#276419"
            ]
           ],
           "sequential": [
            [
             0,
             "#0d0887"
            ],
            [
             0.1111111111111111,
             "#46039f"
            ],
            [
             0.2222222222222222,
             "#7201a8"
            ],
            [
             0.3333333333333333,
             "#9c179e"
            ],
            [
             0.4444444444444444,
             "#bd3786"
            ],
            [
             0.5555555555555556,
             "#d8576b"
            ],
            [
             0.6666666666666666,
             "#ed7953"
            ],
            [
             0.7777777777777778,
             "#fb9f3a"
            ],
            [
             0.8888888888888888,
             "#fdca26"
            ],
            [
             1,
             "#f0f921"
            ]
           ],
           "sequentialminus": [
            [
             0,
             "#0d0887"
            ],
            [
             0.1111111111111111,
             "#46039f"
            ],
            [
             0.2222222222222222,
             "#7201a8"
            ],
            [
             0.3333333333333333,
             "#9c179e"
            ],
            [
             0.4444444444444444,
             "#bd3786"
            ],
            [
             0.5555555555555556,
             "#d8576b"
            ],
            [
             0.6666666666666666,
             "#ed7953"
            ],
            [
             0.7777777777777778,
             "#fb9f3a"
            ],
            [
             0.8888888888888888,
             "#fdca26"
            ],
            [
             1,
             "#f0f921"
            ]
           ]
          },
          "colorway": [
           "#636efa",
           "#EF553B",
           "#00cc96",
           "#ab63fa",
           "#FFA15A",
           "#19d3f3",
           "#FF6692",
           "#B6E880",
           "#FF97FF",
           "#FECB52"
          ],
          "font": {
           "color": "#2a3f5f"
          },
          "geo": {
           "bgcolor": "white",
           "lakecolor": "white",
           "landcolor": "#E5ECF6",
           "showlakes": true,
           "showland": true,
           "subunitcolor": "white"
          },
          "hoverlabel": {
           "align": "left"
          },
          "hovermode": "closest",
          "mapbox": {
           "style": "light"
          },
          "paper_bgcolor": "white",
          "plot_bgcolor": "#E5ECF6",
          "polar": {
           "angularaxis": {
            "gridcolor": "white",
            "linecolor": "white",
            "ticks": ""
           },
           "bgcolor": "#E5ECF6",
           "radialaxis": {
            "gridcolor": "white",
            "linecolor": "white",
            "ticks": ""
           }
          },
          "scene": {
           "xaxis": {
            "backgroundcolor": "#E5ECF6",
            "gridcolor": "white",
            "gridwidth": 2,
            "linecolor": "white",
            "showbackground": true,
            "ticks": "",
            "zerolinecolor": "white"
           },
           "yaxis": {
            "backgroundcolor": "#E5ECF6",
            "gridcolor": "white",
            "gridwidth": 2,
            "linecolor": "white",
            "showbackground": true,
            "ticks": "",
            "zerolinecolor": "white"
           },
           "zaxis": {
            "backgroundcolor": "#E5ECF6",
            "gridcolor": "white",
            "gridwidth": 2,
            "linecolor": "white",
            "showbackground": true,
            "ticks": "",
            "zerolinecolor": "white"
           }
          },
          "shapedefaults": {
           "line": {
            "color": "#2a3f5f"
           }
          },
          "ternary": {
           "aaxis": {
            "gridcolor": "white",
            "linecolor": "white",
            "ticks": ""
           },
           "baxis": {
            "gridcolor": "white",
            "linecolor": "white",
            "ticks": ""
           },
           "bgcolor": "#E5ECF6",
           "caxis": {
            "gridcolor": "white",
            "linecolor": "white",
            "ticks": ""
           }
          },
          "title": {
           "x": 0.05
          },
          "xaxis": {
           "automargin": true,
           "gridcolor": "white",
           "linecolor": "white",
           "ticks": "",
           "title": {
            "standoff": 15
           },
           "zerolinecolor": "white",
           "zerolinewidth": 2
          },
          "yaxis": {
           "automargin": true,
           "gridcolor": "white",
           "linecolor": "white",
           "ticks": "",
           "title": {
            "standoff": 15
           },
           "zerolinecolor": "white",
           "zerolinewidth": 2
          }
         }
        },
        "title": {
         "text": "Nickel emisions per 100k of population"
        },
        "xaxis": {
         "anchor": "y",
         "domain": [
          0,
          1
         ],
         "title": {
          "text": ""
         }
        },
        "yaxis": {
         "anchor": "x",
         "domain": [
          0,
          1
         ],
         "title": {
          "text": "Lb's of annual emissions per 100k of population"
         }
        }
       }
      },
      "text/html": [
       "<div>                            <div id=\"c2fc5b76-6f5f-4896-9e69-55f09ba3b757\" class=\"plotly-graph-div\" style=\"height:525px; width:100%;\"></div>            <script type=\"text/javascript\">                require([\"plotly\"], function(Plotly) {                    window.PLOTLYENV=window.PLOTLYENV || {};                                    if (document.getElementById(\"c2fc5b76-6f5f-4896-9e69-55f09ba3b757\")) {                    Plotly.newPlot(                        \"c2fc5b76-6f5f-4896-9e69-55f09ba3b757\",                        [{\"hovertemplate\":\"<b>%{hovertext}</b><br><br>State=VT<br>=%{x}<br>Lb's of annual emissions per 100k of population=%{y}<extra></extra>\",\"hovertext\":[\"High CAV adoption\",\"High CAV adoption\",\"High CAV adoption\",\"High CAV adoption\",\"High CAV adoption\"],\"legendgroup\":\"VT\",\"line\":{\"color\":\"#636efa\",\"dash\":\"solid\"},\"marker\":{\"symbol\":\"circle\"},\"mode\":\"lines\",\"name\":\"VT\",\"orientation\":\"v\",\"showlegend\":true,\"x\":[2008,2011,2014,2017,2020],\"xaxis\":\"x\",\"y\":[10.25054193,4.878788568,4.559289236,4.343308344,3.230245929],\"yaxis\":\"y\",\"type\":\"scatter\"},{\"hovertemplate\":\"<b>%{hovertext}</b><br><br>State=MA<br>=%{x}<br>Lb's of annual emissions per 100k of population=%{y}<extra></extra>\",\"hovertext\":[\"High CAV adoption\",\"High CAV adoption\",\"High CAV adoption\",\"High CAV adoption\",\"High CAV adoption\"],\"legendgroup\":\"MA\",\"line\":{\"color\":\"#EF553B\",\"dash\":\"solid\"},\"marker\":{\"symbol\":\"circle\"},\"mode\":\"lines\",\"name\":\"MA\",\"orientation\":\"v\",\"showlegend\":true,\"x\":[2008,2011,2014,2017,2020],\"xaxis\":\"x\",\"y\":[7.716269353,3.313540247,3.000061404,3.325261381,2.666675436],\"yaxis\":\"y\",\"type\":\"scatter\"},{\"hovertemplate\":\"<b>%{hovertext}</b><br><br>State=MD<br>=%{x}<br>Lb's of annual emissions per 100k of population=%{y}<extra></extra>\",\"hovertext\":[\"High CAV adoption\",\"High CAV adoption\",\"High CAV adoption\",\"High CAV adoption\",\"High CAV adoption\"],\"legendgroup\":\"MD\",\"line\":{\"color\":\"#00cc96\",\"dash\":\"solid\"},\"marker\":{\"symbol\":\"circle\"},\"mode\":\"lines\",\"name\":\"MD\",\"orientation\":\"v\",\"showlegend\":true,\"x\":[2008,2011,2014,2017,2020],\"xaxis\":\"x\",\"y\":[9.064665691,4.141332205,4.023658576,3.701140816,2.945190211],\"yaxis\":\"y\",\"type\":\"scatter\"},{\"hovertemplate\":\"<b>%{hovertext}</b><br><br>State=VA<br>=%{x}<br>Lb's of annual emissions per 100k of population=%{y}<extra></extra>\",\"hovertext\":[\"High CAV adoption\",\"High CAV adoption\",\"High CAV adoption\",\"High CAV adoption\",\"High CAV adoption\"],\"legendgroup\":\"VA\",\"line\":{\"color\":\"#ab63fa\",\"dash\":\"solid\"},\"marker\":{\"symbol\":\"circle\"},\"mode\":\"lines\",\"name\":\"VA\",\"orientation\":\"v\",\"showlegend\":true,\"x\":[2008,2011,2014,2017,2020],\"xaxis\":\"x\",\"y\":[9.657850571,4.619364234,4.398157883,3.856573548,3.269177946],\"yaxis\":\"y\",\"type\":\"scatter\"},{\"hovertemplate\":\"<b>%{hovertext}</b><br><br>State=WV<br>=%{x}<br>Lb's of annual emissions per 100k of population=%{y}<extra></extra>\",\"hovertext\":[\"Low CAV adoption\",\"Low CAV adoption\",\"Low CAV adoption\",\"Low CAV adoption\",\"Low CAV adoption\"],\"legendgroup\":\"WV\",\"line\":{\"color\":\"#FFA15A\",\"dash\":\"solid\"},\"marker\":{\"symbol\":\"circle\"},\"mode\":\"lines\",\"name\":\"WV\",\"orientation\":\"v\",\"showlegend\":true,\"x\":[2008,2011,2014,2017,2020],\"xaxis\":\"x\",\"y\":[10.70823778,4.625154039,5.303178571,4.283379534,3.2480618],\"yaxis\":\"y\",\"type\":\"scatter\"},{\"hovertemplate\":\"<b>%{hovertext}</b><br><br>State=AL<br>=%{x}<br>Lb's of annual emissions per 100k of population=%{y}<extra></extra>\",\"hovertext\":[\"Low CAV adoption\",\"Low CAV adoption\",\"Low CAV adoption\",\"Low CAV adoption\",\"Low CAV adoption\"],\"legendgroup\":\"AL\",\"line\":{\"color\":\"#19d3f3\",\"dash\":\"solid\"},\"marker\":{\"symbol\":\"circle\"},\"mode\":\"lines\",\"name\":\"AL\",\"orientation\":\"v\",\"showlegend\":true,\"x\":[2008,2011,2014,2017,2020],\"xaxis\":\"x\",\"y\":[11.78658439,6.6107115,6.343491456,5.868469231,4.914566359],\"yaxis\":\"y\",\"type\":\"scatter\"},{\"hovertemplate\":\"<b>%{hovertext}</b><br><br>State=KY<br>=%{x}<br>Lb's of annual emissions per 100k of population=%{y}<extra></extra>\",\"hovertext\":[\"Low CAV adoption\",\"Low CAV adoption\",\"Low CAV adoption\",\"Low CAV adoption\",\"Low CAV adoption\"],\"legendgroup\":\"KY\",\"line\":{\"color\":\"#FF6692\",\"dash\":\"solid\"},\"marker\":{\"symbol\":\"circle\"},\"mode\":\"lines\",\"name\":\"KY\",\"orientation\":\"v\",\"showlegend\":true,\"x\":[2008,2011,2014,2017,2020],\"xaxis\":\"x\",\"y\":[10.69439389,5.468306439,5.385791017,4.763686479,3.913289159],\"yaxis\":\"y\",\"type\":\"scatter\"},{\"hovertemplate\":\"<b>%{hovertext}</b><br><br>State=MI<br>=%{x}<br>Lb's of annual emissions per 100k of population=%{y}<extra></extra>\",\"hovertext\":[\"Low CAV adoption\",\"Low CAV adoption\",\"Low CAV adoption\",\"Low CAV adoption\",\"Low CAV adoption\"],\"legendgroup\":\"MI\",\"line\":{\"color\":\"#B6E880\",\"dash\":\"solid\"},\"marker\":{\"symbol\":\"circle\"},\"mode\":\"lines\",\"name\":\"MI\",\"orientation\":\"v\",\"showlegend\":true,\"x\":[2008,2011,2014,2017,2020],\"xaxis\":\"x\",\"y\":[9.479107717,4.374566647,3.967686936,3.859492784,3.076394576],\"yaxis\":\"y\",\"type\":\"scatter\"},{\"hovertemplate\":\"<b>%{hovertext}</b><br><br>State=LA<br>=%{x}<br>Lb's of annual emissions per 100k of population=%{y}<extra></extra>\",\"hovertext\":[\"Low CAV adoption\",\"Low CAV adoption\",\"Low CAV adoption\",\"Low CAV adoption\",\"Low CAV adoption\"],\"legendgroup\":\"LA\",\"line\":{\"color\":\"#FF97FF\",\"dash\":\"solid\"},\"marker\":{\"symbol\":\"circle\"},\"mode\":\"lines\",\"name\":\"LA\",\"orientation\":\"v\",\"showlegend\":true,\"x\":[2008,2011,2014,2017,2020],\"xaxis\":\"x\",\"y\":[9.708471198,4.764083287,5.315464341,4.559762159,3.676930365],\"yaxis\":\"y\",\"type\":\"scatter\"},{\"hovertemplate\":\"<b>%{hovertext}</b><br><br>State=AR<br>=%{x}<br>Lb's of annual emissions per 100k of population=%{y}<extra></extra>\",\"hovertext\":[\"Low CAV adoption\",\"Low CAV adoption\",\"Low CAV adoption\",\"Low CAV adoption\",\"Low CAV adoption\"],\"legendgroup\":\"AR\",\"line\":{\"color\":\"#FECB52\",\"dash\":\"solid\"},\"marker\":{\"symbol\":\"circle\"},\"mode\":\"lines\",\"name\":\"AR\",\"orientation\":\"v\",\"showlegend\":true,\"x\":[2008,2011,2014,2017,2020],\"xaxis\":\"x\",\"y\":[10.59158034,6.043519694,5.927287607,5.193233307,4.116388626],\"yaxis\":\"y\",\"type\":\"scatter\"},{\"hovertemplate\":\"<b>%{hovertext}</b><br><br>State=OK<br>=%{x}<br>Lb's of annual emissions per 100k of population=%{y}<extra></extra>\",\"hovertext\":[\"Low CAV adoption\",\"Low CAV adoption\",\"Low CAV adoption\",\"Low CAV adoption\",\"Low CAV adoption\"],\"legendgroup\":\"OK\",\"line\":{\"color\":\"#636efa\",\"dash\":\"solid\"},\"marker\":{\"symbol\":\"circle\"},\"mode\":\"lines\",\"name\":\"OK\",\"orientation\":\"v\",\"showlegend\":true,\"x\":[2008,2011,2014,2017,2020],\"xaxis\":\"x\",\"y\":[12.57692158,6.16631806,6.100698575,5.449483975,3.840847844],\"yaxis\":\"y\",\"type\":\"scatter\"},{\"hovertemplate\":\"<b>%{hovertext}</b><br><br>State=CA<br>=%{x}<br>Lb's of annual emissions per 100k of population=%{y}<extra></extra>\",\"hovertext\":[\"High CAV adoption\",\"High CAV adoption\",\"High CAV adoption\",\"High CAV adoption\",\"High CAV adoption\"],\"legendgroup\":\"CA\",\"line\":{\"color\":\"#EF553B\",\"dash\":\"solid\"},\"marker\":{\"symbol\":\"circle\"},\"mode\":\"lines\",\"name\":\"CA\",\"orientation\":\"v\",\"showlegend\":true,\"x\":[2008,2011,2014,2017,2020],\"xaxis\":\"x\",\"y\":[18.50582686,2.834585049,54.75215294,1.049061745,53.58935791],\"yaxis\":\"y\",\"type\":\"scatter\"},{\"hovertemplate\":\"<b>%{hovertext}</b><br><br>State=WA<br>=%{x}<br>Lb's of annual emissions per 100k of population=%{y}<extra></extra>\",\"hovertext\":[\"High CAV adoption\",\"High CAV adoption\",\"High CAV adoption\",\"High CAV adoption\",\"High CAV adoption\"],\"legendgroup\":\"WA\",\"line\":{\"color\":\"#00cc96\",\"dash\":\"solid\"},\"marker\":{\"symbol\":\"circle\"},\"mode\":\"lines\",\"name\":\"WA\",\"orientation\":\"v\",\"showlegend\":true,\"x\":[2008,2011,2014,2017,2020],\"xaxis\":\"x\",\"y\":[8.045475619,4.138935861,3.932905172,3.366534973,2.612849939],\"yaxis\":\"y\",\"type\":\"scatter\"},{\"hovertemplate\":\"<b>%{hovertext}</b><br><br>State=OR<br>=%{x}<br>Lb's of annual emissions per 100k of population=%{y}<extra></extra>\",\"hovertext\":[\"High CAV adoption\",\"High CAV adoption\",\"High CAV adoption\",\"High CAV adoption\",\"High CAV adoption\"],\"legendgroup\":\"OR\",\"line\":{\"color\":\"#ab63fa\",\"dash\":\"solid\"},\"marker\":{\"symbol\":\"circle\"},\"mode\":\"lines\",\"name\":\"OR\",\"orientation\":\"v\",\"showlegend\":true,\"x\":[2008,2011,2014,2017,2020],\"xaxis\":\"x\",\"y\":[8.252772838,3.843110482,4.072922274,4.132890261,3.085315094],\"yaxis\":\"y\",\"type\":\"scatter\"},{\"hovertemplate\":\"<b>%{hovertext}</b><br><br>State=HI<br>=%{x}<br>Lb's of annual emissions per 100k of population=%{y}<extra></extra>\",\"hovertext\":[\"High CAV adoption\",\"High CAV adoption\",\"High CAV adoption\",\"High CAV adoption\",\"High CAV adoption\"],\"legendgroup\":\"HI\",\"line\":{\"color\":\"#FFA15A\",\"dash\":\"solid\"},\"marker\":{\"symbol\":\"circle\"},\"mode\":\"lines\",\"name\":\"HI\",\"orientation\":\"v\",\"showlegend\":true,\"x\":[2008,2011,2014,2017,2020],\"xaxis\":\"x\",\"y\":[6.649449368,2.812611094,2.670454077,2.841114815,2.215918968],\"yaxis\":\"y\",\"type\":\"scatter\"},{\"hovertemplate\":\"<b>%{hovertext}</b><br><br>State=CO<br>=%{x}<br>Lb's of annual emissions per 100k of population=%{y}<extra></extra>\",\"hovertext\":[\"High CAV adoption\",\"High CAV adoption\",\"High CAV adoption\",\"High CAV adoption\",\"High CAV adoption\"],\"legendgroup\":\"CO\",\"line\":{\"color\":\"#19d3f3\",\"dash\":\"solid\"},\"marker\":{\"symbol\":\"circle\"},\"mode\":\"lines\",\"name\":\"CO\",\"orientation\":\"v\",\"showlegend\":true,\"x\":[2008,2011,2014,2017,2020],\"xaxis\":\"x\",\"y\":[8.875332303,3.99774845,4.203733687,3.839388218,3.122086488],\"yaxis\":\"y\",\"type\":\"scatter\"},{\"hovertemplate\":\"<b>%{hovertext}</b><br><br>State=NV<br>=%{x}<br>Lb's of annual emissions per 100k of population=%{y}<extra></extra>\",\"hovertext\":[\"High CAV adoption\",\"High CAV adoption\",\"High CAV adoption\",\"High CAV adoption\",\"High CAV adoption\"],\"legendgroup\":\"NV\",\"line\":{\"color\":\"#FF6692\",\"dash\":\"solid\"},\"marker\":{\"symbol\":\"circle\"},\"mode\":\"lines\",\"name\":\"NV\",\"orientation\":\"v\",\"showlegend\":true,\"x\":[2008,2011,2014,2017,2020],\"xaxis\":\"x\",\"y\":[6.712120966,4.146987006,4.010857612,3.416529256,2.881779039],\"yaxis\":\"y\",\"type\":\"scatter\"},{\"hovertemplate\":\"<b>%{hovertext}</b><br><br>State=ND<br>=%{x}<br>Lb's of annual emissions per 100k of population=%{y}<extra></extra>\",\"hovertext\":[\"Low CAV adoption\",\"Low CAV adoption\",\"Low CAV adoption\",\"Low CAV adoption\",\"Low CAV adoption\"],\"legendgroup\":\"ND\",\"line\":{\"color\":\"#B6E880\",\"dash\":\"solid\"},\"marker\":{\"symbol\":\"circle\"},\"mode\":\"lines\",\"name\":\"ND\",\"orientation\":\"v\",\"showlegend\":true,\"x\":[2008,2011,2014,2017,2020],\"xaxis\":\"x\",\"y\":[11.6230192,7.066815066,9.857695062,6.133327862,4.65252832],\"yaxis\":\"y\",\"type\":\"scatter\"},{\"hovertemplate\":\"<b>%{hovertext}</b><br><br>State=WY<br>=%{x}<br>Lb's of annual emissions per 100k of population=%{y}<extra></extra>\",\"hovertext\":[\"Low CAV adoption\",\"Low CAV adoption\",\"Low CAV adoption\",\"Low CAV adoption\",\"Low CAV adoption\"],\"legendgroup\":\"WY\",\"line\":{\"color\":\"#FF97FF\",\"dash\":\"solid\"},\"marker\":{\"symbol\":\"circle\"},\"mode\":\"lines\",\"name\":\"WY\",\"orientation\":\"v\",\"showlegend\":true,\"x\":[2008,2011,2014,2017,2020],\"xaxis\":\"x\",\"y\":[17.16682036,9.538084957,10.46074816,8.536415195,7.262383127],\"yaxis\":\"y\",\"type\":\"scatter\"},{\"hovertemplate\":\"<b>%{hovertext}</b><br><br>State=SD<br>=%{x}<br>Lb's of annual emissions per 100k of population=%{y}<extra></extra>\",\"hovertext\":[\"Low CAV adoption\",\"Low CAV adoption\",\"Low CAV adoption\",\"Low CAV adoption\",\"Low CAV adoption\"],\"legendgroup\":\"SD\",\"line\":{\"color\":\"#FECB52\",\"dash\":\"solid\"},\"marker\":{\"symbol\":\"circle\"},\"mode\":\"lines\",\"name\":\"SD\",\"orientation\":\"v\",\"showlegend\":true,\"x\":[2008,2011,2014,2017,2020],\"xaxis\":\"x\",\"y\":[11.09170465,5.399755542,6.397259582,5.106160379,4.396727677],\"yaxis\":\"y\",\"type\":\"scatter\"}],                        {\"template\":{\"data\":{\"histogram2dcontour\":[{\"type\":\"histogram2dcontour\",\"colorbar\":{\"outlinewidth\":0,\"ticks\":\"\"},\"colorscale\":[[0.0,\"#0d0887\"],[0.1111111111111111,\"#46039f\"],[0.2222222222222222,\"#7201a8\"],[0.3333333333333333,\"#9c179e\"],[0.4444444444444444,\"#bd3786\"],[0.5555555555555556,\"#d8576b\"],[0.6666666666666666,\"#ed7953\"],[0.7777777777777778,\"#fb9f3a\"],[0.8888888888888888,\"#fdca26\"],[1.0,\"#f0f921\"]]}],\"choropleth\":[{\"type\":\"choropleth\",\"colorbar\":{\"outlinewidth\":0,\"ticks\":\"\"}}],\"histogram2d\":[{\"type\":\"histogram2d\",\"colorbar\":{\"outlinewidth\":0,\"ticks\":\"\"},\"colorscale\":[[0.0,\"#0d0887\"],[0.1111111111111111,\"#46039f\"],[0.2222222222222222,\"#7201a8\"],[0.3333333333333333,\"#9c179e\"],[0.4444444444444444,\"#bd3786\"],[0.5555555555555556,\"#d8576b\"],[0.6666666666666666,\"#ed7953\"],[0.7777777777777778,\"#fb9f3a\"],[0.8888888888888888,\"#fdca26\"],[1.0,\"#f0f921\"]]}],\"heatmap\":[{\"type\":\"heatmap\",\"colorbar\":{\"outlinewidth\":0,\"ticks\":\"\"},\"colorscale\":[[0.0,\"#0d0887\"],[0.1111111111111111,\"#46039f\"],[0.2222222222222222,\"#7201a8\"],[0.3333333333333333,\"#9c179e\"],[0.4444444444444444,\"#bd3786\"],[0.5555555555555556,\"#d8576b\"],[0.6666666666666666,\"#ed7953\"],[0.7777777777777778,\"#fb9f3a\"],[0.8888888888888888,\"#fdca26\"],[1.0,\"#f0f921\"]]}],\"heatmapgl\":[{\"type\":\"heatmapgl\",\"colorbar\":{\"outlinewidth\":0,\"ticks\":\"\"},\"colorscale\":[[0.0,\"#0d0887\"],[0.1111111111111111,\"#46039f\"],[0.2222222222222222,\"#7201a8\"],[0.3333333333333333,\"#9c179e\"],[0.4444444444444444,\"#bd3786\"],[0.5555555555555556,\"#d8576b\"],[0.6666666666666666,\"#ed7953\"],[0.7777777777777778,\"#fb9f3a\"],[0.8888888888888888,\"#fdca26\"],[1.0,\"#f0f921\"]]}],\"contourcarpet\":[{\"type\":\"contourcarpet\",\"colorbar\":{\"outlinewidth\":0,\"ticks\":\"\"}}],\"contour\":[{\"type\":\"contour\",\"colorbar\":{\"outlinewidth\":0,\"ticks\":\"\"},\"colorscale\":[[0.0,\"#0d0887\"],[0.1111111111111111,\"#46039f\"],[0.2222222222222222,\"#7201a8\"],[0.3333333333333333,\"#9c179e\"],[0.4444444444444444,\"#bd3786\"],[0.5555555555555556,\"#d8576b\"],[0.6666666666666666,\"#ed7953\"],[0.7777777777777778,\"#fb9f3a\"],[0.8888888888888888,\"#fdca26\"],[1.0,\"#f0f921\"]]}],\"surface\":[{\"type\":\"surface\",\"colorbar\":{\"outlinewidth\":0,\"ticks\":\"\"},\"colorscale\":[[0.0,\"#0d0887\"],[0.1111111111111111,\"#46039f\"],[0.2222222222222222,\"#7201a8\"],[0.3333333333333333,\"#9c179e\"],[0.4444444444444444,\"#bd3786\"],[0.5555555555555556,\"#d8576b\"],[0.6666666666666666,\"#ed7953\"],[0.7777777777777778,\"#fb9f3a\"],[0.8888888888888888,\"#fdca26\"],[1.0,\"#f0f921\"]]}],\"mesh3d\":[{\"type\":\"mesh3d\",\"colorbar\":{\"outlinewidth\":0,\"ticks\":\"\"}}],\"scatter\":[{\"fillpattern\":{\"fillmode\":\"overlay\",\"size\":10,\"solidity\":0.2},\"type\":\"scatter\"}],\"parcoords\":[{\"type\":\"parcoords\",\"line\":{\"colorbar\":{\"outlinewidth\":0,\"ticks\":\"\"}}}],\"scatterpolargl\":[{\"type\":\"scatterpolargl\",\"marker\":{\"colorbar\":{\"outlinewidth\":0,\"ticks\":\"\"}}}],\"bar\":[{\"error_x\":{\"color\":\"#2a3f5f\"},\"error_y\":{\"color\":\"#2a3f5f\"},\"marker\":{\"line\":{\"color\":\"#E5ECF6\",\"width\":0.5},\"pattern\":{\"fillmode\":\"overlay\",\"size\":10,\"solidity\":0.2}},\"type\":\"bar\"}],\"scattergeo\":[{\"type\":\"scattergeo\",\"marker\":{\"colorbar\":{\"outlinewidth\":0,\"ticks\":\"\"}}}],\"scatterpolar\":[{\"type\":\"scatterpolar\",\"marker\":{\"colorbar\":{\"outlinewidth\":0,\"ticks\":\"\"}}}],\"histogram\":[{\"marker\":{\"pattern\":{\"fillmode\":\"overlay\",\"size\":10,\"solidity\":0.2}},\"type\":\"histogram\"}],\"scattergl\":[{\"type\":\"scattergl\",\"marker\":{\"colorbar\":{\"outlinewidth\":0,\"ticks\":\"\"}}}],\"scatter3d\":[{\"type\":\"scatter3d\",\"line\":{\"colorbar\":{\"outlinewidth\":0,\"ticks\":\"\"}},\"marker\":{\"colorbar\":{\"outlinewidth\":0,\"ticks\":\"\"}}}],\"scattermapbox\":[{\"type\":\"scattermapbox\",\"marker\":{\"colorbar\":{\"outlinewidth\":0,\"ticks\":\"\"}}}],\"scatterternary\":[{\"type\":\"scatterternary\",\"marker\":{\"colorbar\":{\"outlinewidth\":0,\"ticks\":\"\"}}}],\"scattercarpet\":[{\"type\":\"scattercarpet\",\"marker\":{\"colorbar\":{\"outlinewidth\":0,\"ticks\":\"\"}}}],\"carpet\":[{\"aaxis\":{\"endlinecolor\":\"#2a3f5f\",\"gridcolor\":\"white\",\"linecolor\":\"white\",\"minorgridcolor\":\"white\",\"startlinecolor\":\"#2a3f5f\"},\"baxis\":{\"endlinecolor\":\"#2a3f5f\",\"gridcolor\":\"white\",\"linecolor\":\"white\",\"minorgridcolor\":\"white\",\"startlinecolor\":\"#2a3f5f\"},\"type\":\"carpet\"}],\"table\":[{\"cells\":{\"fill\":{\"color\":\"#EBF0F8\"},\"line\":{\"color\":\"white\"}},\"header\":{\"fill\":{\"color\":\"#C8D4E3\"},\"line\":{\"color\":\"white\"}},\"type\":\"table\"}],\"barpolar\":[{\"marker\":{\"line\":{\"color\":\"#E5ECF6\",\"width\":0.5},\"pattern\":{\"fillmode\":\"overlay\",\"size\":10,\"solidity\":0.2}},\"type\":\"barpolar\"}],\"pie\":[{\"automargin\":true,\"type\":\"pie\"}]},\"layout\":{\"autotypenumbers\":\"strict\",\"colorway\":[\"#636efa\",\"#EF553B\",\"#00cc96\",\"#ab63fa\",\"#FFA15A\",\"#19d3f3\",\"#FF6692\",\"#B6E880\",\"#FF97FF\",\"#FECB52\"],\"font\":{\"color\":\"#2a3f5f\"},\"hovermode\":\"closest\",\"hoverlabel\":{\"align\":\"left\"},\"paper_bgcolor\":\"white\",\"plot_bgcolor\":\"#E5ECF6\",\"polar\":{\"bgcolor\":\"#E5ECF6\",\"angularaxis\":{\"gridcolor\":\"white\",\"linecolor\":\"white\",\"ticks\":\"\"},\"radialaxis\":{\"gridcolor\":\"white\",\"linecolor\":\"white\",\"ticks\":\"\"}},\"ternary\":{\"bgcolor\":\"#E5ECF6\",\"aaxis\":{\"gridcolor\":\"white\",\"linecolor\":\"white\",\"ticks\":\"\"},\"baxis\":{\"gridcolor\":\"white\",\"linecolor\":\"white\",\"ticks\":\"\"},\"caxis\":{\"gridcolor\":\"white\",\"linecolor\":\"white\",\"ticks\":\"\"}},\"coloraxis\":{\"colorbar\":{\"outlinewidth\":0,\"ticks\":\"\"}},\"colorscale\":{\"sequential\":[[0.0,\"#0d0887\"],[0.1111111111111111,\"#46039f\"],[0.2222222222222222,\"#7201a8\"],[0.3333333333333333,\"#9c179e\"],[0.4444444444444444,\"#bd3786\"],[0.5555555555555556,\"#d8576b\"],[0.6666666666666666,\"#ed7953\"],[0.7777777777777778,\"#fb9f3a\"],[0.8888888888888888,\"#fdca26\"],[1.0,\"#f0f921\"]],\"sequentialminus\":[[0.0,\"#0d0887\"],[0.1111111111111111,\"#46039f\"],[0.2222222222222222,\"#7201a8\"],[0.3333333333333333,\"#9c179e\"],[0.4444444444444444,\"#bd3786\"],[0.5555555555555556,\"#d8576b\"],[0.6666666666666666,\"#ed7953\"],[0.7777777777777778,\"#fb9f3a\"],[0.8888888888888888,\"#fdca26\"],[1.0,\"#f0f921\"]],\"diverging\":[[0,\"#8e0152\"],[0.1,\"#c51b7d\"],[0.2,\"#de77ae\"],[0.3,\"#f1b6da\"],[0.4,\"#fde0ef\"],[0.5,\"#f7f7f7\"],[0.6,\"#e6f5d0\"],[0.7,\"#b8e186\"],[0.8,\"#7fbc41\"],[0.9,\"#4d9221\"],[1,\"#276419\"]]},\"xaxis\":{\"gridcolor\":\"white\",\"linecolor\":\"white\",\"ticks\":\"\",\"title\":{\"standoff\":15},\"zerolinecolor\":\"white\",\"automargin\":true,\"zerolinewidth\":2},\"yaxis\":{\"gridcolor\":\"white\",\"linecolor\":\"white\",\"ticks\":\"\",\"title\":{\"standoff\":15},\"zerolinecolor\":\"white\",\"automargin\":true,\"zerolinewidth\":2},\"scene\":{\"xaxis\":{\"backgroundcolor\":\"#E5ECF6\",\"gridcolor\":\"white\",\"linecolor\":\"white\",\"showbackground\":true,\"ticks\":\"\",\"zerolinecolor\":\"white\",\"gridwidth\":2},\"yaxis\":{\"backgroundcolor\":\"#E5ECF6\",\"gridcolor\":\"white\",\"linecolor\":\"white\",\"showbackground\":true,\"ticks\":\"\",\"zerolinecolor\":\"white\",\"gridwidth\":2},\"zaxis\":{\"backgroundcolor\":\"#E5ECF6\",\"gridcolor\":\"white\",\"linecolor\":\"white\",\"showbackground\":true,\"ticks\":\"\",\"zerolinecolor\":\"white\",\"gridwidth\":2}},\"shapedefaults\":{\"line\":{\"color\":\"#2a3f5f\"}},\"annotationdefaults\":{\"arrowcolor\":\"#2a3f5f\",\"arrowhead\":0,\"arrowwidth\":1},\"geo\":{\"bgcolor\":\"white\",\"landcolor\":\"#E5ECF6\",\"subunitcolor\":\"white\",\"showland\":true,\"showlakes\":true,\"lakecolor\":\"white\"},\"title\":{\"x\":0.05},\"mapbox\":{\"style\":\"light\"}}},\"xaxis\":{\"anchor\":\"y\",\"domain\":[0.0,1.0],\"title\":{\"text\":\"\"}},\"yaxis\":{\"anchor\":\"x\",\"domain\":[0.0,1.0],\"title\":{\"text\":\"Lb's of annual emissions per 100k of population\"}},\"legend\":{\"title\":{\"text\":\"State\"},\"tracegroupgap\":0},\"margin\":{\"t\":60},\"font\":{\"color\":\"white\"},\"plot_bgcolor\":\"black\",\"paper_bgcolor\":\"black\",\"title\":{\"text\":\"Nickel emisions per 100k of population\"}},                        {\"responsive\": true}                    ).then(function(){\n",
       "                            \n",
       "var gd = document.getElementById('c2fc5b76-6f5f-4896-9e69-55f09ba3b757');\n",
       "var x = new MutationObserver(function (mutations, observer) {{\n",
       "        var display = window.getComputedStyle(gd).display;\n",
       "        if (!display || display === 'none') {{\n",
       "            console.log([gd, 'removed!']);\n",
       "            Plotly.purge(gd);\n",
       "            observer.disconnect();\n",
       "        }}\n",
       "}});\n",
       "\n",
       "// Listen for the removal of the full notebook cells\n",
       "var notebookContainer = gd.closest('#notebook-container');\n",
       "if (notebookContainer) {{\n",
       "    x.observe(notebookContainer, {childList: true});\n",
       "}}\n",
       "\n",
       "// Listen for the clearing of the current output cell\n",
       "var outputEl = gd.closest('.output');\n",
       "if (outputEl) {{\n",
       "    x.observe(outputEl, {childList: true});\n",
       "}}\n",
       "\n",
       "                        })                };                });            </script>        </div>"
      ]
     },
     "metadata": {},
     "output_type": "display_data"
    }
   ],
   "source": [
    "#     'Nickel',\n",
    "Nickel = nei_by_pollutant.loc[(nei_by_pollutant[\"Pollutant\"] == 'Nickel')]\n",
    "\n",
    "Nickel_plot = px.line(\n",
    "    Nickel,\n",
    "    x = \"Year\",\n",
    "    y = \"Emmisions_per_100k\",\n",
    "    hover_name = \"CAV_adoption\",\n",
    "    color = \"State\",\n",
    "    labels = {\n",
    "        \"Year\":'',\n",
    "        \"Emmisions_per_100k\": \"Lb's of annual emissions per 100k of population\"\n",
    "    }\n",
    ")\n",
    "\n",
    "Nickel_plot.update_layout(\n",
    "#     yaxis_range=[0,30],\n",
    "    font_color=\"white\",\n",
    "    legend=dict(\n",
    "    title=\"State\"\n",
    "))\n",
    "\n",
    "Nickel_plot.update_layout({\n",
    "    'plot_bgcolor':'black',\n",
    "    'paper_bgcolor':'black',\n",
    "    'title':'Nickel emisions per 100k of population'\n",
    "})\n",
    "\n",
    "Nickel_plot.show()"
   ]
  },
  {
   "cell_type": "code",
   "execution_count": 35,
   "id": "5a65d0f8",
   "metadata": {},
   "outputs": [
    {
     "data": {
      "application/vnd.plotly.v1+json": {
       "config": {
        "plotlyServerURL": "https://plot.ly"
       },
       "data": [
        {
         "hovertemplate": "<b>%{hovertext}</b><br><br>State=VT<br>=%{x}<br>Tons of annual emissions per 100k of population=%{y}<extra></extra>",
         "hovertext": [
          "High CAV adoption",
          "High CAV adoption",
          "High CAV adoption",
          "High CAV adoption",
          "High CAV adoption"
         ],
         "legendgroup": "VT",
         "line": {
          "color": "#636efa",
          "dash": "solid"
         },
         "marker": {
          "symbol": "circle"
         },
         "mode": "lines",
         "name": "VT",
         "orientation": "v",
         "showlegend": true,
         "type": "scatter",
         "x": [
          2008,
          2011,
          2014,
          2017,
          2020
         ],
         "xaxis": "x",
         "y": [
          1956.618413,
          1723.148982,
          1217.687232,
          819.2150075,
          381.0591227
         ],
         "yaxis": "y"
        },
        {
         "hovertemplate": "<b>%{hovertext}</b><br><br>State=MA<br>=%{x}<br>Tons of annual emissions per 100k of population=%{y}<extra></extra>",
         "hovertext": [
          "High CAV adoption",
          "High CAV adoption",
          "High CAV adoption",
          "High CAV adoption",
          "High CAV adoption"
         ],
         "legendgroup": "MA",
         "line": {
          "color": "#EF553B",
          "dash": "solid"
         },
         "marker": {
          "symbol": "circle"
         },
         "mode": "lines",
         "name": "MA",
         "orientation": "v",
         "showlegend": true,
         "type": "scatter",
         "x": [
          2008,
          2011,
          2014,
          2017,
          2020
         ],
         "xaxis": "x",
         "y": [
          1310.072254,
          919.5170696,
          661.1951562,
          609.9317961,
          313.4355566
         ],
         "yaxis": "y"
        },
        {
         "hovertemplate": "<b>%{hovertext}</b><br><br>State=MD<br>=%{x}<br>Tons of annual emissions per 100k of population=%{y}<extra></extra>",
         "hovertext": [
          "High CAV adoption",
          "High CAV adoption",
          "High CAV adoption",
          "High CAV adoption",
          "High CAV adoption"
         ],
         "legendgroup": "MD",
         "line": {
          "color": "#00cc96",
          "dash": "solid"
         },
         "marker": {
          "symbol": "circle"
         },
         "mode": "lines",
         "name": "MD",
         "orientation": "v",
         "showlegend": true,
         "type": "scatter",
         "x": [
          2008,
          2011,
          2014,
          2017,
          2020
         ],
         "xaxis": "x",
         "y": [
          1684.874573,
          1396.721028,
          1228.706558,
          773.2970072,
          510.5732727
         ],
         "yaxis": "y"
        },
        {
         "hovertemplate": "<b>%{hovertext}</b><br><br>State=VA<br>=%{x}<br>Tons of annual emissions per 100k of population=%{y}<extra></extra>",
         "hovertext": [
          "High CAV adoption",
          "High CAV adoption",
          "High CAV adoption",
          "High CAV adoption",
          "High CAV adoption"
         ],
         "legendgroup": "VA",
         "line": {
          "color": "#ab63fa",
          "dash": "solid"
         },
         "marker": {
          "symbol": "circle"
         },
         "mode": "lines",
         "name": "VA",
         "orientation": "v",
         "showlegend": true,
         "type": "scatter",
         "x": [
          2008,
          2011,
          2014,
          2017,
          2020
         ],
         "xaxis": "x",
         "y": [
          2300.119433,
          1798.987091,
          1596.579051,
          1139.449865,
          703.0317611
         ],
         "yaxis": "y"
        },
        {
         "hovertemplate": "<b>%{hovertext}</b><br><br>State=WV<br>=%{x}<br>Tons of annual emissions per 100k of population=%{y}<extra></extra>",
         "hovertext": [
          "Low CAV adoption",
          "Low CAV adoption",
          "Low CAV adoption",
          "Low CAV adoption",
          "Low CAV adoption"
         ],
         "legendgroup": "WV",
         "line": {
          "color": "#FFA15A",
          "dash": "solid"
         },
         "marker": {
          "symbol": "circle"
         },
         "mode": "lines",
         "name": "WV",
         "orientation": "v",
         "showlegend": true,
         "type": "scatter",
         "x": [
          2008,
          2011,
          2014,
          2017,
          2020
         ],
         "xaxis": "x",
         "y": [
          2817.234041,
          2255.696236,
          2209.035793,
          1338.114191,
          889.5753091
         ],
         "yaxis": "y"
        },
        {
         "hovertemplate": "<b>%{hovertext}</b><br><br>State=AL<br>=%{x}<br>Tons of annual emissions per 100k of population=%{y}<extra></extra>",
         "hovertext": [
          "Low CAV adoption",
          "Low CAV adoption",
          "Low CAV adoption",
          "Low CAV adoption",
          "Low CAV adoption"
         ],
         "legendgroup": "AL",
         "line": {
          "color": "#19d3f3",
          "dash": "solid"
         },
         "marker": {
          "symbol": "circle"
         },
         "mode": "lines",
         "name": "AL",
         "orientation": "v",
         "showlegend": true,
         "type": "scatter",
         "x": [
          2008,
          2011,
          2014,
          2017,
          2020
         ],
         "xaxis": "x",
         "y": [
          2836.411174,
          3182.434957,
          2672.429665,
          1944.507231,
          1121.302823
         ],
         "yaxis": "y"
        },
        {
         "hovertemplate": "<b>%{hovertext}</b><br><br>State=KY<br>=%{x}<br>Tons of annual emissions per 100k of population=%{y}<extra></extra>",
         "hovertext": [
          "Low CAV adoption",
          "Low CAV adoption",
          "Low CAV adoption",
          "Low CAV adoption",
          "Low CAV adoption"
         ],
         "legendgroup": "KY",
         "line": {
          "color": "#FF6692",
          "dash": "solid"
         },
         "marker": {
          "symbol": "circle"
         },
         "mode": "lines",
         "name": "KY",
         "orientation": "v",
         "showlegend": true,
         "type": "scatter",
         "x": [
          2008,
          2011,
          2014,
          2017,
          2020
         ],
         "xaxis": "x",
         "y": [
          2849.218633,
          2645.749016,
          2365.180583,
          1621.509064,
          1007.817044
         ],
         "yaxis": "y"
        },
        {
         "hovertemplate": "<b>%{hovertext}</b><br><br>State=MI<br>=%{x}<br>Tons of annual emissions per 100k of population=%{y}<extra></extra>",
         "hovertext": [
          "Low CAV adoption",
          "Low CAV adoption",
          "Low CAV adoption",
          "Low CAV adoption",
          "Low CAV adoption"
         ],
         "legendgroup": "MI",
         "line": {
          "color": "#B6E880",
          "dash": "solid"
         },
         "marker": {
          "symbol": "circle"
         },
         "mode": "lines",
         "name": "MI",
         "orientation": "v",
         "showlegend": true,
         "type": "scatter",
         "x": [
          2008,
          2011,
          2014,
          2017,
          2020
         ],
         "xaxis": "x",
         "y": [
          2672.443668,
          1970.346472,
          1352.423606,
          1058.757577,
          533.9215099
         ],
         "yaxis": "y"
        },
        {
         "hovertemplate": "<b>%{hovertext}</b><br><br>State=LA<br>=%{x}<br>Tons of annual emissions per 100k of population=%{y}<extra></extra>",
         "hovertext": [
          "Low CAV adoption",
          "Low CAV adoption",
          "Low CAV adoption",
          "Low CAV adoption",
          "Low CAV adoption"
         ],
         "legendgroup": "LA",
         "line": {
          "color": "#FF97FF",
          "dash": "solid"
         },
         "marker": {
          "symbol": "circle"
         },
         "mode": "lines",
         "name": "LA",
         "orientation": "v",
         "showlegend": true,
         "type": "scatter",
         "x": [
          2008,
          2011,
          2014,
          2017,
          2020
         ],
         "xaxis": "x",
         "y": [
          2449.427059,
          2055.798744,
          2086.922255,
          1459.507103,
          821.7818034
         ],
         "yaxis": "y"
        },
        {
         "hovertemplate": "<b>%{hovertext}</b><br><br>State=AR<br>=%{x}<br>Tons of annual emissions per 100k of population=%{y}<extra></extra>",
         "hovertext": [
          "Low CAV adoption",
          "Low CAV adoption",
          "Low CAV adoption",
          "Low CAV adoption",
          "Low CAV adoption"
         ],
         "legendgroup": "AR",
         "line": {
          "color": "#FECB52",
          "dash": "solid"
         },
         "marker": {
          "symbol": "circle"
         },
         "mode": "lines",
         "name": "AR",
         "orientation": "v",
         "showlegend": true,
         "type": "scatter",
         "x": [
          2008,
          2011,
          2014,
          2017,
          2020
         ],
         "xaxis": "x",
         "y": [
          3075.815896,
          3101.467472,
          2675.472917,
          1806.938024,
          1072.246664
         ],
         "yaxis": "y"
        },
        {
         "hovertemplate": "<b>%{hovertext}</b><br><br>State=OK<br>=%{x}<br>Tons of annual emissions per 100k of population=%{y}<extra></extra>",
         "hovertext": [
          "Low CAV adoption",
          "Low CAV adoption",
          "Low CAV adoption",
          "Low CAV adoption",
          "Low CAV adoption"
         ],
         "legendgroup": "OK",
         "line": {
          "color": "#636efa",
          "dash": "solid"
         },
         "marker": {
          "symbol": "circle"
         },
         "mode": "lines",
         "name": "OK",
         "orientation": "v",
         "showlegend": true,
         "type": "scatter",
         "x": [
          2008,
          2011,
          2014,
          2017,
          2020
         ],
         "xaxis": "x",
         "y": [
          3688.699715,
          3038.026739,
          2373.467839,
          1839.977694,
          1276.961331
         ],
         "yaxis": "y"
        },
        {
         "hovertemplate": "<b>%{hovertext}</b><br><br>State=CA<br>=%{x}<br>Tons of annual emissions per 100k of population=%{y}<extra></extra>",
         "hovertext": [
          "High CAV adoption",
          "High CAV adoption",
          "High CAV adoption",
          "High CAV adoption",
          "High CAV adoption"
         ],
         "legendgroup": "CA",
         "line": {
          "color": "#EF553B",
          "dash": "solid"
         },
         "marker": {
          "symbol": "circle"
         },
         "mode": "lines",
         "name": "CA",
         "orientation": "v",
         "showlegend": true,
         "type": "scatter",
         "x": [
          2008,
          2011,
          2014,
          2017,
          2020
         ],
         "xaxis": "x",
         "y": [
          1579.802845,
          1098.519501,
          711.0464327,
          511.5712347,
          374.1974022
         ],
         "yaxis": "y"
        },
        {
         "hovertemplate": "<b>%{hovertext}</b><br><br>State=WA<br>=%{x}<br>Tons of annual emissions per 100k of population=%{y}<extra></extra>",
         "hovertext": [
          "High CAV adoption",
          "High CAV adoption",
          "High CAV adoption",
          "High CAV adoption",
          "High CAV adoption"
         ],
         "legendgroup": "WA",
         "line": {
          "color": "#00cc96",
          "dash": "solid"
         },
         "marker": {
          "symbol": "circle"
         },
         "mode": "lines",
         "name": "WA",
         "orientation": "v",
         "showlegend": true,
         "type": "scatter",
         "x": [
          2008,
          2011,
          2014,
          2017,
          2020
         ],
         "xaxis": "x",
         "y": [
          2530.091922,
          2400.560368,
          1831.621275,
          1202.46846,
          780.6863336
         ],
         "yaxis": "y"
        },
        {
         "hovertemplate": "<b>%{hovertext}</b><br><br>State=OR<br>=%{x}<br>Tons of annual emissions per 100k of population=%{y}<extra></extra>",
         "hovertext": [
          "High CAV adoption",
          "High CAV adoption",
          "High CAV adoption",
          "High CAV adoption",
          "High CAV adoption"
         ],
         "legendgroup": "OR",
         "line": {
          "color": "#ab63fa",
          "dash": "solid"
         },
         "marker": {
          "symbol": "circle"
         },
         "mode": "lines",
         "name": "OR",
         "orientation": "v",
         "showlegend": true,
         "type": "scatter",
         "x": [
          2008,
          2011,
          2014,
          2017,
          2020
         ],
         "xaxis": "x",
         "y": [
          2398.10948,
          2091.094219,
          1793.856661,
          1572.006182,
          1238.961346
         ],
         "yaxis": "y"
        },
        {
         "hovertemplate": "<b>%{hovertext}</b><br><br>State=HI<br>=%{x}<br>Tons of annual emissions per 100k of population=%{y}<extra></extra>",
         "hovertext": [
          "High CAV adoption",
          "High CAV adoption",
          "High CAV adoption",
          "High CAV adoption",
          "High CAV adoption"
         ],
         "legendgroup": "HI",
         "line": {
          "color": "#FFA15A",
          "dash": "solid"
         },
         "marker": {
          "symbol": "circle"
         },
         "mode": "lines",
         "name": "HI",
         "orientation": "v",
         "showlegend": true,
         "type": "scatter",
         "x": [
          2008,
          2011,
          2014,
          2017,
          2020
         ],
         "xaxis": "x",
         "y": [
          1493.002415,
          1123.789159,
          853.261264,
          654.1833425,
          415.1318586
         ],
         "yaxis": "y"
        },
        {
         "hovertemplate": "<b>%{hovertext}</b><br><br>State=CO<br>=%{x}<br>Tons of annual emissions per 100k of population=%{y}<extra></extra>",
         "hovertext": [
          "High CAV adoption",
          "High CAV adoption",
          "High CAV adoption",
          "High CAV adoption",
          "High CAV adoption"
         ],
         "legendgroup": "CO",
         "line": {
          "color": "#19d3f3",
          "dash": "solid"
         },
         "marker": {
          "symbol": "circle"
         },
         "mode": "lines",
         "name": "CO",
         "orientation": "v",
         "showlegend": true,
         "type": "scatter",
         "x": [
          2008,
          2011,
          2014,
          2017,
          2020
         ],
         "xaxis": "x",
         "y": [
          2052.01546,
          2065.450672,
          1677.572528,
          1140.985191,
          764.1689521
         ],
         "yaxis": "y"
        },
        {
         "hovertemplate": "<b>%{hovertext}</b><br><br>State=NV<br>=%{x}<br>Tons of annual emissions per 100k of population=%{y}<extra></extra>",
         "hovertext": [
          "High CAV adoption",
          "High CAV adoption",
          "High CAV adoption",
          "High CAV adoption",
          "High CAV adoption"
         ],
         "legendgroup": "NV",
         "line": {
          "color": "#FF6692",
          "dash": "solid"
         },
         "marker": {
          "symbol": "circle"
         },
         "mode": "lines",
         "name": "NV",
         "orientation": "v",
         "showlegend": true,
         "type": "scatter",
         "x": [
          2008,
          2011,
          2014,
          2017,
          2020
         ],
         "xaxis": "x",
         "y": [
          1531.590523,
          2064.862573,
          1571.990487,
          959.1463993,
          715.2942367
         ],
         "yaxis": "y"
        },
        {
         "hovertemplate": "<b>%{hovertext}</b><br><br>State=ND<br>=%{x}<br>Tons of annual emissions per 100k of population=%{y}<extra></extra>",
         "hovertext": [
          "Low CAV adoption",
          "Low CAV adoption",
          "Low CAV adoption",
          "Low CAV adoption",
          "Low CAV adoption"
         ],
         "legendgroup": "ND",
         "line": {
          "color": "#B6E880",
          "dash": "solid"
         },
         "marker": {
          "symbol": "circle"
         },
         "mode": "lines",
         "name": "ND",
         "orientation": "v",
         "showlegend": true,
         "type": "scatter",
         "x": [
          2008,
          2011,
          2014,
          2017,
          2020
         ],
         "xaxis": "x",
         "y": [
          3373.683238,
          3853.990553,
          4883.034483,
          2191.360686,
          1642.175971
         ],
         "yaxis": "y"
        },
        {
         "hovertemplate": "<b>%{hovertext}</b><br><br>State=WY<br>=%{x}<br>Tons of annual emissions per 100k of population=%{y}<extra></extra>",
         "hovertext": [
          "Low CAV adoption",
          "Low CAV adoption",
          "Low CAV adoption",
          "Low CAV adoption",
          "Low CAV adoption"
         ],
         "legendgroup": "WY",
         "line": {
          "color": "#FF97FF",
          "dash": "solid"
         },
         "marker": {
          "symbol": "circle"
         },
         "mode": "lines",
         "name": "WY",
         "orientation": "v",
         "showlegend": true,
         "type": "scatter",
         "x": [
          2008,
          2011,
          2014,
          2017,
          2020
         ],
         "xaxis": "x",
         "y": [
          5731.39262,
          6185.654794,
          5495.00394,
          3494.117787,
          2980.04944
         ],
         "yaxis": "y"
        },
        {
         "hovertemplate": "<b>%{hovertext}</b><br><br>State=SD<br>=%{x}<br>Tons of annual emissions per 100k of population=%{y}<extra></extra>",
         "hovertext": [
          "Low CAV adoption",
          "Low CAV adoption",
          "Low CAV adoption",
          "Low CAV adoption",
          "Low CAV adoption"
         ],
         "legendgroup": "SD",
         "line": {
          "color": "#FECB52",
          "dash": "solid"
         },
         "marker": {
          "symbol": "circle"
         },
         "mode": "lines",
         "name": "SD",
         "orientation": "v",
         "showlegend": true,
         "type": "scatter",
         "x": [
          2008,
          2011,
          2014,
          2017,
          2020
         ],
         "xaxis": "x",
         "y": [
          3255.88131,
          3220.07853,
          3264.059656,
          1989.475307,
          1372.066513
         ],
         "yaxis": "y"
        }
       ],
       "layout": {
        "font": {
         "color": "white"
        },
        "legend": {
         "title": {
          "text": "State"
         },
         "tracegroupgap": 0
        },
        "margin": {
         "t": 60
        },
        "paper_bgcolor": "black",
        "plot_bgcolor": "black",
        "template": {
         "data": {
          "bar": [
           {
            "error_x": {
             "color": "#2a3f5f"
            },
            "error_y": {
             "color": "#2a3f5f"
            },
            "marker": {
             "line": {
              "color": "#E5ECF6",
              "width": 0.5
             },
             "pattern": {
              "fillmode": "overlay",
              "size": 10,
              "solidity": 0.2
             }
            },
            "type": "bar"
           }
          ],
          "barpolar": [
           {
            "marker": {
             "line": {
              "color": "#E5ECF6",
              "width": 0.5
             },
             "pattern": {
              "fillmode": "overlay",
              "size": 10,
              "solidity": 0.2
             }
            },
            "type": "barpolar"
           }
          ],
          "carpet": [
           {
            "aaxis": {
             "endlinecolor": "#2a3f5f",
             "gridcolor": "white",
             "linecolor": "white",
             "minorgridcolor": "white",
             "startlinecolor": "#2a3f5f"
            },
            "baxis": {
             "endlinecolor": "#2a3f5f",
             "gridcolor": "white",
             "linecolor": "white",
             "minorgridcolor": "white",
             "startlinecolor": "#2a3f5f"
            },
            "type": "carpet"
           }
          ],
          "choropleth": [
           {
            "colorbar": {
             "outlinewidth": 0,
             "ticks": ""
            },
            "type": "choropleth"
           }
          ],
          "contour": [
           {
            "colorbar": {
             "outlinewidth": 0,
             "ticks": ""
            },
            "colorscale": [
             [
              0,
              "#0d0887"
             ],
             [
              0.1111111111111111,
              "#46039f"
             ],
             [
              0.2222222222222222,
              "#7201a8"
             ],
             [
              0.3333333333333333,
              "#9c179e"
             ],
             [
              0.4444444444444444,
              "#bd3786"
             ],
             [
              0.5555555555555556,
              "#d8576b"
             ],
             [
              0.6666666666666666,
              "#ed7953"
             ],
             [
              0.7777777777777778,
              "#fb9f3a"
             ],
             [
              0.8888888888888888,
              "#fdca26"
             ],
             [
              1,
              "#f0f921"
             ]
            ],
            "type": "contour"
           }
          ],
          "contourcarpet": [
           {
            "colorbar": {
             "outlinewidth": 0,
             "ticks": ""
            },
            "type": "contourcarpet"
           }
          ],
          "heatmap": [
           {
            "colorbar": {
             "outlinewidth": 0,
             "ticks": ""
            },
            "colorscale": [
             [
              0,
              "#0d0887"
             ],
             [
              0.1111111111111111,
              "#46039f"
             ],
             [
              0.2222222222222222,
              "#7201a8"
             ],
             [
              0.3333333333333333,
              "#9c179e"
             ],
             [
              0.4444444444444444,
              "#bd3786"
             ],
             [
              0.5555555555555556,
              "#d8576b"
             ],
             [
              0.6666666666666666,
              "#ed7953"
             ],
             [
              0.7777777777777778,
              "#fb9f3a"
             ],
             [
              0.8888888888888888,
              "#fdca26"
             ],
             [
              1,
              "#f0f921"
             ]
            ],
            "type": "heatmap"
           }
          ],
          "heatmapgl": [
           {
            "colorbar": {
             "outlinewidth": 0,
             "ticks": ""
            },
            "colorscale": [
             [
              0,
              "#0d0887"
             ],
             [
              0.1111111111111111,
              "#46039f"
             ],
             [
              0.2222222222222222,
              "#7201a8"
             ],
             [
              0.3333333333333333,
              "#9c179e"
             ],
             [
              0.4444444444444444,
              "#bd3786"
             ],
             [
              0.5555555555555556,
              "#d8576b"
             ],
             [
              0.6666666666666666,
              "#ed7953"
             ],
             [
              0.7777777777777778,
              "#fb9f3a"
             ],
             [
              0.8888888888888888,
              "#fdca26"
             ],
             [
              1,
              "#f0f921"
             ]
            ],
            "type": "heatmapgl"
           }
          ],
          "histogram": [
           {
            "marker": {
             "pattern": {
              "fillmode": "overlay",
              "size": 10,
              "solidity": 0.2
             }
            },
            "type": "histogram"
           }
          ],
          "histogram2d": [
           {
            "colorbar": {
             "outlinewidth": 0,
             "ticks": ""
            },
            "colorscale": [
             [
              0,
              "#0d0887"
             ],
             [
              0.1111111111111111,
              "#46039f"
             ],
             [
              0.2222222222222222,
              "#7201a8"
             ],
             [
              0.3333333333333333,
              "#9c179e"
             ],
             [
              0.4444444444444444,
              "#bd3786"
             ],
             [
              0.5555555555555556,
              "#d8576b"
             ],
             [
              0.6666666666666666,
              "#ed7953"
             ],
             [
              0.7777777777777778,
              "#fb9f3a"
             ],
             [
              0.8888888888888888,
              "#fdca26"
             ],
             [
              1,
              "#f0f921"
             ]
            ],
            "type": "histogram2d"
           }
          ],
          "histogram2dcontour": [
           {
            "colorbar": {
             "outlinewidth": 0,
             "ticks": ""
            },
            "colorscale": [
             [
              0,
              "#0d0887"
             ],
             [
              0.1111111111111111,
              "#46039f"
             ],
             [
              0.2222222222222222,
              "#7201a8"
             ],
             [
              0.3333333333333333,
              "#9c179e"
             ],
             [
              0.4444444444444444,
              "#bd3786"
             ],
             [
              0.5555555555555556,
              "#d8576b"
             ],
             [
              0.6666666666666666,
              "#ed7953"
             ],
             [
              0.7777777777777778,
              "#fb9f3a"
             ],
             [
              0.8888888888888888,
              "#fdca26"
             ],
             [
              1,
              "#f0f921"
             ]
            ],
            "type": "histogram2dcontour"
           }
          ],
          "mesh3d": [
           {
            "colorbar": {
             "outlinewidth": 0,
             "ticks": ""
            },
            "type": "mesh3d"
           }
          ],
          "parcoords": [
           {
            "line": {
             "colorbar": {
              "outlinewidth": 0,
              "ticks": ""
             }
            },
            "type": "parcoords"
           }
          ],
          "pie": [
           {
            "automargin": true,
            "type": "pie"
           }
          ],
          "scatter": [
           {
            "fillpattern": {
             "fillmode": "overlay",
             "size": 10,
             "solidity": 0.2
            },
            "type": "scatter"
           }
          ],
          "scatter3d": [
           {
            "line": {
             "colorbar": {
              "outlinewidth": 0,
              "ticks": ""
             }
            },
            "marker": {
             "colorbar": {
              "outlinewidth": 0,
              "ticks": ""
             }
            },
            "type": "scatter3d"
           }
          ],
          "scattercarpet": [
           {
            "marker": {
             "colorbar": {
              "outlinewidth": 0,
              "ticks": ""
             }
            },
            "type": "scattercarpet"
           }
          ],
          "scattergeo": [
           {
            "marker": {
             "colorbar": {
              "outlinewidth": 0,
              "ticks": ""
             }
            },
            "type": "scattergeo"
           }
          ],
          "scattergl": [
           {
            "marker": {
             "colorbar": {
              "outlinewidth": 0,
              "ticks": ""
             }
            },
            "type": "scattergl"
           }
          ],
          "scattermapbox": [
           {
            "marker": {
             "colorbar": {
              "outlinewidth": 0,
              "ticks": ""
             }
            },
            "type": "scattermapbox"
           }
          ],
          "scatterpolar": [
           {
            "marker": {
             "colorbar": {
              "outlinewidth": 0,
              "ticks": ""
             }
            },
            "type": "scatterpolar"
           }
          ],
          "scatterpolargl": [
           {
            "marker": {
             "colorbar": {
              "outlinewidth": 0,
              "ticks": ""
             }
            },
            "type": "scatterpolargl"
           }
          ],
          "scatterternary": [
           {
            "marker": {
             "colorbar": {
              "outlinewidth": 0,
              "ticks": ""
             }
            },
            "type": "scatterternary"
           }
          ],
          "surface": [
           {
            "colorbar": {
             "outlinewidth": 0,
             "ticks": ""
            },
            "colorscale": [
             [
              0,
              "#0d0887"
             ],
             [
              0.1111111111111111,
              "#46039f"
             ],
             [
              0.2222222222222222,
              "#7201a8"
             ],
             [
              0.3333333333333333,
              "#9c179e"
             ],
             [
              0.4444444444444444,
              "#bd3786"
             ],
             [
              0.5555555555555556,
              "#d8576b"
             ],
             [
              0.6666666666666666,
              "#ed7953"
             ],
             [
              0.7777777777777778,
              "#fb9f3a"
             ],
             [
              0.8888888888888888,
              "#fdca26"
             ],
             [
              1,
              "#f0f921"
             ]
            ],
            "type": "surface"
           }
          ],
          "table": [
           {
            "cells": {
             "fill": {
              "color": "#EBF0F8"
             },
             "line": {
              "color": "white"
             }
            },
            "header": {
             "fill": {
              "color": "#C8D4E3"
             },
             "line": {
              "color": "white"
             }
            },
            "type": "table"
           }
          ]
         },
         "layout": {
          "annotationdefaults": {
           "arrowcolor": "#2a3f5f",
           "arrowhead": 0,
           "arrowwidth": 1
          },
          "autotypenumbers": "strict",
          "coloraxis": {
           "colorbar": {
            "outlinewidth": 0,
            "ticks": ""
           }
          },
          "colorscale": {
           "diverging": [
            [
             0,
             "#8e0152"
            ],
            [
             0.1,
             "#c51b7d"
            ],
            [
             0.2,
             "#de77ae"
            ],
            [
             0.3,
             "#f1b6da"
            ],
            [
             0.4,
             "#fde0ef"
            ],
            [
             0.5,
             "#f7f7f7"
            ],
            [
             0.6,
             "#e6f5d0"
            ],
            [
             0.7,
             "#b8e186"
            ],
            [
             0.8,
             "#7fbc41"
            ],
            [
             0.9,
             "#4d9221"
            ],
            [
             1,
             "#276419"
            ]
           ],
           "sequential": [
            [
             0,
             "#0d0887"
            ],
            [
             0.1111111111111111,
             "#46039f"
            ],
            [
             0.2222222222222222,
             "#7201a8"
            ],
            [
             0.3333333333333333,
             "#9c179e"
            ],
            [
             0.4444444444444444,
             "#bd3786"
            ],
            [
             0.5555555555555556,
             "#d8576b"
            ],
            [
             0.6666666666666666,
             "#ed7953"
            ],
            [
             0.7777777777777778,
             "#fb9f3a"
            ],
            [
             0.8888888888888888,
             "#fdca26"
            ],
            [
             1,
             "#f0f921"
            ]
           ],
           "sequentialminus": [
            [
             0,
             "#0d0887"
            ],
            [
             0.1111111111111111,
             "#46039f"
            ],
            [
             0.2222222222222222,
             "#7201a8"
            ],
            [
             0.3333333333333333,
             "#9c179e"
            ],
            [
             0.4444444444444444,
             "#bd3786"
            ],
            [
             0.5555555555555556,
             "#d8576b"
            ],
            [
             0.6666666666666666,
             "#ed7953"
            ],
            [
             0.7777777777777778,
             "#fb9f3a"
            ],
            [
             0.8888888888888888,
             "#fdca26"
            ],
            [
             1,
             "#f0f921"
            ]
           ]
          },
          "colorway": [
           "#636efa",
           "#EF553B",
           "#00cc96",
           "#ab63fa",
           "#FFA15A",
           "#19d3f3",
           "#FF6692",
           "#B6E880",
           "#FF97FF",
           "#FECB52"
          ],
          "font": {
           "color": "#2a3f5f"
          },
          "geo": {
           "bgcolor": "white",
           "lakecolor": "white",
           "landcolor": "#E5ECF6",
           "showlakes": true,
           "showland": true,
           "subunitcolor": "white"
          },
          "hoverlabel": {
           "align": "left"
          },
          "hovermode": "closest",
          "mapbox": {
           "style": "light"
          },
          "paper_bgcolor": "white",
          "plot_bgcolor": "#E5ECF6",
          "polar": {
           "angularaxis": {
            "gridcolor": "white",
            "linecolor": "white",
            "ticks": ""
           },
           "bgcolor": "#E5ECF6",
           "radialaxis": {
            "gridcolor": "white",
            "linecolor": "white",
            "ticks": ""
           }
          },
          "scene": {
           "xaxis": {
            "backgroundcolor": "#E5ECF6",
            "gridcolor": "white",
            "gridwidth": 2,
            "linecolor": "white",
            "showbackground": true,
            "ticks": "",
            "zerolinecolor": "white"
           },
           "yaxis": {
            "backgroundcolor": "#E5ECF6",
            "gridcolor": "white",
            "gridwidth": 2,
            "linecolor": "white",
            "showbackground": true,
            "ticks": "",
            "zerolinecolor": "white"
           },
           "zaxis": {
            "backgroundcolor": "#E5ECF6",
            "gridcolor": "white",
            "gridwidth": 2,
            "linecolor": "white",
            "showbackground": true,
            "ticks": "",
            "zerolinecolor": "white"
           }
          },
          "shapedefaults": {
           "line": {
            "color": "#2a3f5f"
           }
          },
          "ternary": {
           "aaxis": {
            "gridcolor": "white",
            "linecolor": "white",
            "ticks": ""
           },
           "baxis": {
            "gridcolor": "white",
            "linecolor": "white",
            "ticks": ""
           },
           "bgcolor": "#E5ECF6",
           "caxis": {
            "gridcolor": "white",
            "linecolor": "white",
            "ticks": ""
           }
          },
          "title": {
           "x": 0.05
          },
          "xaxis": {
           "automargin": true,
           "gridcolor": "white",
           "linecolor": "white",
           "ticks": "",
           "title": {
            "standoff": 15
           },
           "zerolinecolor": "white",
           "zerolinewidth": 2
          },
          "yaxis": {
           "automargin": true,
           "gridcolor": "white",
           "linecolor": "white",
           "ticks": "",
           "title": {
            "standoff": 15
           },
           "zerolinecolor": "white",
           "zerolinewidth": 2
          }
         }
        },
        "title": {
         "text": "Nitrogen Oxides emisions per 100k of population"
        },
        "xaxis": {
         "anchor": "y",
         "domain": [
          0,
          1
         ],
         "title": {
          "text": ""
         }
        },
        "yaxis": {
         "anchor": "x",
         "domain": [
          0,
          1
         ],
         "title": {
          "text": "Tons of annual emissions per 100k of population"
         }
        }
       }
      },
      "text/html": [
       "<div>                            <div id=\"08828a1d-227b-4443-9500-6af8fb68bb78\" class=\"plotly-graph-div\" style=\"height:525px; width:100%;\"></div>            <script type=\"text/javascript\">                require([\"plotly\"], function(Plotly) {                    window.PLOTLYENV=window.PLOTLYENV || {};                                    if (document.getElementById(\"08828a1d-227b-4443-9500-6af8fb68bb78\")) {                    Plotly.newPlot(                        \"08828a1d-227b-4443-9500-6af8fb68bb78\",                        [{\"hovertemplate\":\"<b>%{hovertext}</b><br><br>State=VT<br>=%{x}<br>Tons of annual emissions per 100k of population=%{y}<extra></extra>\",\"hovertext\":[\"High CAV adoption\",\"High CAV adoption\",\"High CAV adoption\",\"High CAV adoption\",\"High CAV adoption\"],\"legendgroup\":\"VT\",\"line\":{\"color\":\"#636efa\",\"dash\":\"solid\"},\"marker\":{\"symbol\":\"circle\"},\"mode\":\"lines\",\"name\":\"VT\",\"orientation\":\"v\",\"showlegend\":true,\"x\":[2008,2011,2014,2017,2020],\"xaxis\":\"x\",\"y\":[1956.618413,1723.148982,1217.687232,819.2150075,381.0591227],\"yaxis\":\"y\",\"type\":\"scatter\"},{\"hovertemplate\":\"<b>%{hovertext}</b><br><br>State=MA<br>=%{x}<br>Tons of annual emissions per 100k of population=%{y}<extra></extra>\",\"hovertext\":[\"High CAV adoption\",\"High CAV adoption\",\"High CAV adoption\",\"High CAV adoption\",\"High CAV adoption\"],\"legendgroup\":\"MA\",\"line\":{\"color\":\"#EF553B\",\"dash\":\"solid\"},\"marker\":{\"symbol\":\"circle\"},\"mode\":\"lines\",\"name\":\"MA\",\"orientation\":\"v\",\"showlegend\":true,\"x\":[2008,2011,2014,2017,2020],\"xaxis\":\"x\",\"y\":[1310.072254,919.5170696,661.1951562,609.9317961,313.4355566],\"yaxis\":\"y\",\"type\":\"scatter\"},{\"hovertemplate\":\"<b>%{hovertext}</b><br><br>State=MD<br>=%{x}<br>Tons of annual emissions per 100k of population=%{y}<extra></extra>\",\"hovertext\":[\"High CAV adoption\",\"High CAV adoption\",\"High CAV adoption\",\"High CAV adoption\",\"High CAV adoption\"],\"legendgroup\":\"MD\",\"line\":{\"color\":\"#00cc96\",\"dash\":\"solid\"},\"marker\":{\"symbol\":\"circle\"},\"mode\":\"lines\",\"name\":\"MD\",\"orientation\":\"v\",\"showlegend\":true,\"x\":[2008,2011,2014,2017,2020],\"xaxis\":\"x\",\"y\":[1684.874573,1396.721028,1228.706558,773.2970072,510.5732727],\"yaxis\":\"y\",\"type\":\"scatter\"},{\"hovertemplate\":\"<b>%{hovertext}</b><br><br>State=VA<br>=%{x}<br>Tons of annual emissions per 100k of population=%{y}<extra></extra>\",\"hovertext\":[\"High CAV adoption\",\"High CAV adoption\",\"High CAV adoption\",\"High CAV adoption\",\"High CAV adoption\"],\"legendgroup\":\"VA\",\"line\":{\"color\":\"#ab63fa\",\"dash\":\"solid\"},\"marker\":{\"symbol\":\"circle\"},\"mode\":\"lines\",\"name\":\"VA\",\"orientation\":\"v\",\"showlegend\":true,\"x\":[2008,2011,2014,2017,2020],\"xaxis\":\"x\",\"y\":[2300.119433,1798.987091,1596.579051,1139.449865,703.0317611],\"yaxis\":\"y\",\"type\":\"scatter\"},{\"hovertemplate\":\"<b>%{hovertext}</b><br><br>State=WV<br>=%{x}<br>Tons of annual emissions per 100k of population=%{y}<extra></extra>\",\"hovertext\":[\"Low CAV adoption\",\"Low CAV adoption\",\"Low CAV adoption\",\"Low CAV adoption\",\"Low CAV adoption\"],\"legendgroup\":\"WV\",\"line\":{\"color\":\"#FFA15A\",\"dash\":\"solid\"},\"marker\":{\"symbol\":\"circle\"},\"mode\":\"lines\",\"name\":\"WV\",\"orientation\":\"v\",\"showlegend\":true,\"x\":[2008,2011,2014,2017,2020],\"xaxis\":\"x\",\"y\":[2817.234041,2255.696236,2209.035793,1338.114191,889.5753091],\"yaxis\":\"y\",\"type\":\"scatter\"},{\"hovertemplate\":\"<b>%{hovertext}</b><br><br>State=AL<br>=%{x}<br>Tons of annual emissions per 100k of population=%{y}<extra></extra>\",\"hovertext\":[\"Low CAV adoption\",\"Low CAV adoption\",\"Low CAV adoption\",\"Low CAV adoption\",\"Low CAV adoption\"],\"legendgroup\":\"AL\",\"line\":{\"color\":\"#19d3f3\",\"dash\":\"solid\"},\"marker\":{\"symbol\":\"circle\"},\"mode\":\"lines\",\"name\":\"AL\",\"orientation\":\"v\",\"showlegend\":true,\"x\":[2008,2011,2014,2017,2020],\"xaxis\":\"x\",\"y\":[2836.411174,3182.434957,2672.429665,1944.507231,1121.302823],\"yaxis\":\"y\",\"type\":\"scatter\"},{\"hovertemplate\":\"<b>%{hovertext}</b><br><br>State=KY<br>=%{x}<br>Tons of annual emissions per 100k of population=%{y}<extra></extra>\",\"hovertext\":[\"Low CAV adoption\",\"Low CAV adoption\",\"Low CAV adoption\",\"Low CAV adoption\",\"Low CAV adoption\"],\"legendgroup\":\"KY\",\"line\":{\"color\":\"#FF6692\",\"dash\":\"solid\"},\"marker\":{\"symbol\":\"circle\"},\"mode\":\"lines\",\"name\":\"KY\",\"orientation\":\"v\",\"showlegend\":true,\"x\":[2008,2011,2014,2017,2020],\"xaxis\":\"x\",\"y\":[2849.218633,2645.749016,2365.180583,1621.509064,1007.817044],\"yaxis\":\"y\",\"type\":\"scatter\"},{\"hovertemplate\":\"<b>%{hovertext}</b><br><br>State=MI<br>=%{x}<br>Tons of annual emissions per 100k of population=%{y}<extra></extra>\",\"hovertext\":[\"Low CAV adoption\",\"Low CAV adoption\",\"Low CAV adoption\",\"Low CAV adoption\",\"Low CAV adoption\"],\"legendgroup\":\"MI\",\"line\":{\"color\":\"#B6E880\",\"dash\":\"solid\"},\"marker\":{\"symbol\":\"circle\"},\"mode\":\"lines\",\"name\":\"MI\",\"orientation\":\"v\",\"showlegend\":true,\"x\":[2008,2011,2014,2017,2020],\"xaxis\":\"x\",\"y\":[2672.443668,1970.346472,1352.423606,1058.757577,533.9215099],\"yaxis\":\"y\",\"type\":\"scatter\"},{\"hovertemplate\":\"<b>%{hovertext}</b><br><br>State=LA<br>=%{x}<br>Tons of annual emissions per 100k of population=%{y}<extra></extra>\",\"hovertext\":[\"Low CAV adoption\",\"Low CAV adoption\",\"Low CAV adoption\",\"Low CAV adoption\",\"Low CAV adoption\"],\"legendgroup\":\"LA\",\"line\":{\"color\":\"#FF97FF\",\"dash\":\"solid\"},\"marker\":{\"symbol\":\"circle\"},\"mode\":\"lines\",\"name\":\"LA\",\"orientation\":\"v\",\"showlegend\":true,\"x\":[2008,2011,2014,2017,2020],\"xaxis\":\"x\",\"y\":[2449.427059,2055.798744,2086.922255,1459.507103,821.7818034],\"yaxis\":\"y\",\"type\":\"scatter\"},{\"hovertemplate\":\"<b>%{hovertext}</b><br><br>State=AR<br>=%{x}<br>Tons of annual emissions per 100k of population=%{y}<extra></extra>\",\"hovertext\":[\"Low CAV adoption\",\"Low CAV adoption\",\"Low CAV adoption\",\"Low CAV adoption\",\"Low CAV adoption\"],\"legendgroup\":\"AR\",\"line\":{\"color\":\"#FECB52\",\"dash\":\"solid\"},\"marker\":{\"symbol\":\"circle\"},\"mode\":\"lines\",\"name\":\"AR\",\"orientation\":\"v\",\"showlegend\":true,\"x\":[2008,2011,2014,2017,2020],\"xaxis\":\"x\",\"y\":[3075.815896,3101.467472,2675.472917,1806.938024,1072.246664],\"yaxis\":\"y\",\"type\":\"scatter\"},{\"hovertemplate\":\"<b>%{hovertext}</b><br><br>State=OK<br>=%{x}<br>Tons of annual emissions per 100k of population=%{y}<extra></extra>\",\"hovertext\":[\"Low CAV adoption\",\"Low CAV adoption\",\"Low CAV adoption\",\"Low CAV adoption\",\"Low CAV adoption\"],\"legendgroup\":\"OK\",\"line\":{\"color\":\"#636efa\",\"dash\":\"solid\"},\"marker\":{\"symbol\":\"circle\"},\"mode\":\"lines\",\"name\":\"OK\",\"orientation\":\"v\",\"showlegend\":true,\"x\":[2008,2011,2014,2017,2020],\"xaxis\":\"x\",\"y\":[3688.699715,3038.026739,2373.467839,1839.977694,1276.961331],\"yaxis\":\"y\",\"type\":\"scatter\"},{\"hovertemplate\":\"<b>%{hovertext}</b><br><br>State=CA<br>=%{x}<br>Tons of annual emissions per 100k of population=%{y}<extra></extra>\",\"hovertext\":[\"High CAV adoption\",\"High CAV adoption\",\"High CAV adoption\",\"High CAV adoption\",\"High CAV adoption\"],\"legendgroup\":\"CA\",\"line\":{\"color\":\"#EF553B\",\"dash\":\"solid\"},\"marker\":{\"symbol\":\"circle\"},\"mode\":\"lines\",\"name\":\"CA\",\"orientation\":\"v\",\"showlegend\":true,\"x\":[2008,2011,2014,2017,2020],\"xaxis\":\"x\",\"y\":[1579.802845,1098.519501,711.0464327,511.5712347,374.1974022],\"yaxis\":\"y\",\"type\":\"scatter\"},{\"hovertemplate\":\"<b>%{hovertext}</b><br><br>State=WA<br>=%{x}<br>Tons of annual emissions per 100k of population=%{y}<extra></extra>\",\"hovertext\":[\"High CAV adoption\",\"High CAV adoption\",\"High CAV adoption\",\"High CAV adoption\",\"High CAV adoption\"],\"legendgroup\":\"WA\",\"line\":{\"color\":\"#00cc96\",\"dash\":\"solid\"},\"marker\":{\"symbol\":\"circle\"},\"mode\":\"lines\",\"name\":\"WA\",\"orientation\":\"v\",\"showlegend\":true,\"x\":[2008,2011,2014,2017,2020],\"xaxis\":\"x\",\"y\":[2530.091922,2400.560368,1831.621275,1202.46846,780.6863336],\"yaxis\":\"y\",\"type\":\"scatter\"},{\"hovertemplate\":\"<b>%{hovertext}</b><br><br>State=OR<br>=%{x}<br>Tons of annual emissions per 100k of population=%{y}<extra></extra>\",\"hovertext\":[\"High CAV adoption\",\"High CAV adoption\",\"High CAV adoption\",\"High CAV adoption\",\"High CAV adoption\"],\"legendgroup\":\"OR\",\"line\":{\"color\":\"#ab63fa\",\"dash\":\"solid\"},\"marker\":{\"symbol\":\"circle\"},\"mode\":\"lines\",\"name\":\"OR\",\"orientation\":\"v\",\"showlegend\":true,\"x\":[2008,2011,2014,2017,2020],\"xaxis\":\"x\",\"y\":[2398.10948,2091.094219,1793.856661,1572.006182,1238.961346],\"yaxis\":\"y\",\"type\":\"scatter\"},{\"hovertemplate\":\"<b>%{hovertext}</b><br><br>State=HI<br>=%{x}<br>Tons of annual emissions per 100k of population=%{y}<extra></extra>\",\"hovertext\":[\"High CAV adoption\",\"High CAV adoption\",\"High CAV adoption\",\"High CAV adoption\",\"High CAV adoption\"],\"legendgroup\":\"HI\",\"line\":{\"color\":\"#FFA15A\",\"dash\":\"solid\"},\"marker\":{\"symbol\":\"circle\"},\"mode\":\"lines\",\"name\":\"HI\",\"orientation\":\"v\",\"showlegend\":true,\"x\":[2008,2011,2014,2017,2020],\"xaxis\":\"x\",\"y\":[1493.002415,1123.789159,853.261264,654.1833425,415.1318586],\"yaxis\":\"y\",\"type\":\"scatter\"},{\"hovertemplate\":\"<b>%{hovertext}</b><br><br>State=CO<br>=%{x}<br>Tons of annual emissions per 100k of population=%{y}<extra></extra>\",\"hovertext\":[\"High CAV adoption\",\"High CAV adoption\",\"High CAV adoption\",\"High CAV adoption\",\"High CAV adoption\"],\"legendgroup\":\"CO\",\"line\":{\"color\":\"#19d3f3\",\"dash\":\"solid\"},\"marker\":{\"symbol\":\"circle\"},\"mode\":\"lines\",\"name\":\"CO\",\"orientation\":\"v\",\"showlegend\":true,\"x\":[2008,2011,2014,2017,2020],\"xaxis\":\"x\",\"y\":[2052.01546,2065.450672,1677.572528,1140.985191,764.1689521],\"yaxis\":\"y\",\"type\":\"scatter\"},{\"hovertemplate\":\"<b>%{hovertext}</b><br><br>State=NV<br>=%{x}<br>Tons of annual emissions per 100k of population=%{y}<extra></extra>\",\"hovertext\":[\"High CAV adoption\",\"High CAV adoption\",\"High CAV adoption\",\"High CAV adoption\",\"High CAV adoption\"],\"legendgroup\":\"NV\",\"line\":{\"color\":\"#FF6692\",\"dash\":\"solid\"},\"marker\":{\"symbol\":\"circle\"},\"mode\":\"lines\",\"name\":\"NV\",\"orientation\":\"v\",\"showlegend\":true,\"x\":[2008,2011,2014,2017,2020],\"xaxis\":\"x\",\"y\":[1531.590523,2064.862573,1571.990487,959.1463993,715.2942367],\"yaxis\":\"y\",\"type\":\"scatter\"},{\"hovertemplate\":\"<b>%{hovertext}</b><br><br>State=ND<br>=%{x}<br>Tons of annual emissions per 100k of population=%{y}<extra></extra>\",\"hovertext\":[\"Low CAV adoption\",\"Low CAV adoption\",\"Low CAV adoption\",\"Low CAV adoption\",\"Low CAV adoption\"],\"legendgroup\":\"ND\",\"line\":{\"color\":\"#B6E880\",\"dash\":\"solid\"},\"marker\":{\"symbol\":\"circle\"},\"mode\":\"lines\",\"name\":\"ND\",\"orientation\":\"v\",\"showlegend\":true,\"x\":[2008,2011,2014,2017,2020],\"xaxis\":\"x\",\"y\":[3373.683238,3853.990553,4883.034483,2191.360686,1642.175971],\"yaxis\":\"y\",\"type\":\"scatter\"},{\"hovertemplate\":\"<b>%{hovertext}</b><br><br>State=WY<br>=%{x}<br>Tons of annual emissions per 100k of population=%{y}<extra></extra>\",\"hovertext\":[\"Low CAV adoption\",\"Low CAV adoption\",\"Low CAV adoption\",\"Low CAV adoption\",\"Low CAV adoption\"],\"legendgroup\":\"WY\",\"line\":{\"color\":\"#FF97FF\",\"dash\":\"solid\"},\"marker\":{\"symbol\":\"circle\"},\"mode\":\"lines\",\"name\":\"WY\",\"orientation\":\"v\",\"showlegend\":true,\"x\":[2008,2011,2014,2017,2020],\"xaxis\":\"x\",\"y\":[5731.39262,6185.654794,5495.00394,3494.117787,2980.04944],\"yaxis\":\"y\",\"type\":\"scatter\"},{\"hovertemplate\":\"<b>%{hovertext}</b><br><br>State=SD<br>=%{x}<br>Tons of annual emissions per 100k of population=%{y}<extra></extra>\",\"hovertext\":[\"Low CAV adoption\",\"Low CAV adoption\",\"Low CAV adoption\",\"Low CAV adoption\",\"Low CAV adoption\"],\"legendgroup\":\"SD\",\"line\":{\"color\":\"#FECB52\",\"dash\":\"solid\"},\"marker\":{\"symbol\":\"circle\"},\"mode\":\"lines\",\"name\":\"SD\",\"orientation\":\"v\",\"showlegend\":true,\"x\":[2008,2011,2014,2017,2020],\"xaxis\":\"x\",\"y\":[3255.88131,3220.07853,3264.059656,1989.475307,1372.066513],\"yaxis\":\"y\",\"type\":\"scatter\"}],                        {\"template\":{\"data\":{\"histogram2dcontour\":[{\"type\":\"histogram2dcontour\",\"colorbar\":{\"outlinewidth\":0,\"ticks\":\"\"},\"colorscale\":[[0.0,\"#0d0887\"],[0.1111111111111111,\"#46039f\"],[0.2222222222222222,\"#7201a8\"],[0.3333333333333333,\"#9c179e\"],[0.4444444444444444,\"#bd3786\"],[0.5555555555555556,\"#d8576b\"],[0.6666666666666666,\"#ed7953\"],[0.7777777777777778,\"#fb9f3a\"],[0.8888888888888888,\"#fdca26\"],[1.0,\"#f0f921\"]]}],\"choropleth\":[{\"type\":\"choropleth\",\"colorbar\":{\"outlinewidth\":0,\"ticks\":\"\"}}],\"histogram2d\":[{\"type\":\"histogram2d\",\"colorbar\":{\"outlinewidth\":0,\"ticks\":\"\"},\"colorscale\":[[0.0,\"#0d0887\"],[0.1111111111111111,\"#46039f\"],[0.2222222222222222,\"#7201a8\"],[0.3333333333333333,\"#9c179e\"],[0.4444444444444444,\"#bd3786\"],[0.5555555555555556,\"#d8576b\"],[0.6666666666666666,\"#ed7953\"],[0.7777777777777778,\"#fb9f3a\"],[0.8888888888888888,\"#fdca26\"],[1.0,\"#f0f921\"]]}],\"heatmap\":[{\"type\":\"heatmap\",\"colorbar\":{\"outlinewidth\":0,\"ticks\":\"\"},\"colorscale\":[[0.0,\"#0d0887\"],[0.1111111111111111,\"#46039f\"],[0.2222222222222222,\"#7201a8\"],[0.3333333333333333,\"#9c179e\"],[0.4444444444444444,\"#bd3786\"],[0.5555555555555556,\"#d8576b\"],[0.6666666666666666,\"#ed7953\"],[0.7777777777777778,\"#fb9f3a\"],[0.8888888888888888,\"#fdca26\"],[1.0,\"#f0f921\"]]}],\"heatmapgl\":[{\"type\":\"heatmapgl\",\"colorbar\":{\"outlinewidth\":0,\"ticks\":\"\"},\"colorscale\":[[0.0,\"#0d0887\"],[0.1111111111111111,\"#46039f\"],[0.2222222222222222,\"#7201a8\"],[0.3333333333333333,\"#9c179e\"],[0.4444444444444444,\"#bd3786\"],[0.5555555555555556,\"#d8576b\"],[0.6666666666666666,\"#ed7953\"],[0.7777777777777778,\"#fb9f3a\"],[0.8888888888888888,\"#fdca26\"],[1.0,\"#f0f921\"]]}],\"contourcarpet\":[{\"type\":\"contourcarpet\",\"colorbar\":{\"outlinewidth\":0,\"ticks\":\"\"}}],\"contour\":[{\"type\":\"contour\",\"colorbar\":{\"outlinewidth\":0,\"ticks\":\"\"},\"colorscale\":[[0.0,\"#0d0887\"],[0.1111111111111111,\"#46039f\"],[0.2222222222222222,\"#7201a8\"],[0.3333333333333333,\"#9c179e\"],[0.4444444444444444,\"#bd3786\"],[0.5555555555555556,\"#d8576b\"],[0.6666666666666666,\"#ed7953\"],[0.7777777777777778,\"#fb9f3a\"],[0.8888888888888888,\"#fdca26\"],[1.0,\"#f0f921\"]]}],\"surface\":[{\"type\":\"surface\",\"colorbar\":{\"outlinewidth\":0,\"ticks\":\"\"},\"colorscale\":[[0.0,\"#0d0887\"],[0.1111111111111111,\"#46039f\"],[0.2222222222222222,\"#7201a8\"],[0.3333333333333333,\"#9c179e\"],[0.4444444444444444,\"#bd3786\"],[0.5555555555555556,\"#d8576b\"],[0.6666666666666666,\"#ed7953\"],[0.7777777777777778,\"#fb9f3a\"],[0.8888888888888888,\"#fdca26\"],[1.0,\"#f0f921\"]]}],\"mesh3d\":[{\"type\":\"mesh3d\",\"colorbar\":{\"outlinewidth\":0,\"ticks\":\"\"}}],\"scatter\":[{\"fillpattern\":{\"fillmode\":\"overlay\",\"size\":10,\"solidity\":0.2},\"type\":\"scatter\"}],\"parcoords\":[{\"type\":\"parcoords\",\"line\":{\"colorbar\":{\"outlinewidth\":0,\"ticks\":\"\"}}}],\"scatterpolargl\":[{\"type\":\"scatterpolargl\",\"marker\":{\"colorbar\":{\"outlinewidth\":0,\"ticks\":\"\"}}}],\"bar\":[{\"error_x\":{\"color\":\"#2a3f5f\"},\"error_y\":{\"color\":\"#2a3f5f\"},\"marker\":{\"line\":{\"color\":\"#E5ECF6\",\"width\":0.5},\"pattern\":{\"fillmode\":\"overlay\",\"size\":10,\"solidity\":0.2}},\"type\":\"bar\"}],\"scattergeo\":[{\"type\":\"scattergeo\",\"marker\":{\"colorbar\":{\"outlinewidth\":0,\"ticks\":\"\"}}}],\"scatterpolar\":[{\"type\":\"scatterpolar\",\"marker\":{\"colorbar\":{\"outlinewidth\":0,\"ticks\":\"\"}}}],\"histogram\":[{\"marker\":{\"pattern\":{\"fillmode\":\"overlay\",\"size\":10,\"solidity\":0.2}},\"type\":\"histogram\"}],\"scattergl\":[{\"type\":\"scattergl\",\"marker\":{\"colorbar\":{\"outlinewidth\":0,\"ticks\":\"\"}}}],\"scatter3d\":[{\"type\":\"scatter3d\",\"line\":{\"colorbar\":{\"outlinewidth\":0,\"ticks\":\"\"}},\"marker\":{\"colorbar\":{\"outlinewidth\":0,\"ticks\":\"\"}}}],\"scattermapbox\":[{\"type\":\"scattermapbox\",\"marker\":{\"colorbar\":{\"outlinewidth\":0,\"ticks\":\"\"}}}],\"scatterternary\":[{\"type\":\"scatterternary\",\"marker\":{\"colorbar\":{\"outlinewidth\":0,\"ticks\":\"\"}}}],\"scattercarpet\":[{\"type\":\"scattercarpet\",\"marker\":{\"colorbar\":{\"outlinewidth\":0,\"ticks\":\"\"}}}],\"carpet\":[{\"aaxis\":{\"endlinecolor\":\"#2a3f5f\",\"gridcolor\":\"white\",\"linecolor\":\"white\",\"minorgridcolor\":\"white\",\"startlinecolor\":\"#2a3f5f\"},\"baxis\":{\"endlinecolor\":\"#2a3f5f\",\"gridcolor\":\"white\",\"linecolor\":\"white\",\"minorgridcolor\":\"white\",\"startlinecolor\":\"#2a3f5f\"},\"type\":\"carpet\"}],\"table\":[{\"cells\":{\"fill\":{\"color\":\"#EBF0F8\"},\"line\":{\"color\":\"white\"}},\"header\":{\"fill\":{\"color\":\"#C8D4E3\"},\"line\":{\"color\":\"white\"}},\"type\":\"table\"}],\"barpolar\":[{\"marker\":{\"line\":{\"color\":\"#E5ECF6\",\"width\":0.5},\"pattern\":{\"fillmode\":\"overlay\",\"size\":10,\"solidity\":0.2}},\"type\":\"barpolar\"}],\"pie\":[{\"automargin\":true,\"type\":\"pie\"}]},\"layout\":{\"autotypenumbers\":\"strict\",\"colorway\":[\"#636efa\",\"#EF553B\",\"#00cc96\",\"#ab63fa\",\"#FFA15A\",\"#19d3f3\",\"#FF6692\",\"#B6E880\",\"#FF97FF\",\"#FECB52\"],\"font\":{\"color\":\"#2a3f5f\"},\"hovermode\":\"closest\",\"hoverlabel\":{\"align\":\"left\"},\"paper_bgcolor\":\"white\",\"plot_bgcolor\":\"#E5ECF6\",\"polar\":{\"bgcolor\":\"#E5ECF6\",\"angularaxis\":{\"gridcolor\":\"white\",\"linecolor\":\"white\",\"ticks\":\"\"},\"radialaxis\":{\"gridcolor\":\"white\",\"linecolor\":\"white\",\"ticks\":\"\"}},\"ternary\":{\"bgcolor\":\"#E5ECF6\",\"aaxis\":{\"gridcolor\":\"white\",\"linecolor\":\"white\",\"ticks\":\"\"},\"baxis\":{\"gridcolor\":\"white\",\"linecolor\":\"white\",\"ticks\":\"\"},\"caxis\":{\"gridcolor\":\"white\",\"linecolor\":\"white\",\"ticks\":\"\"}},\"coloraxis\":{\"colorbar\":{\"outlinewidth\":0,\"ticks\":\"\"}},\"colorscale\":{\"sequential\":[[0.0,\"#0d0887\"],[0.1111111111111111,\"#46039f\"],[0.2222222222222222,\"#7201a8\"],[0.3333333333333333,\"#9c179e\"],[0.4444444444444444,\"#bd3786\"],[0.5555555555555556,\"#d8576b\"],[0.6666666666666666,\"#ed7953\"],[0.7777777777777778,\"#fb9f3a\"],[0.8888888888888888,\"#fdca26\"],[1.0,\"#f0f921\"]],\"sequentialminus\":[[0.0,\"#0d0887\"],[0.1111111111111111,\"#46039f\"],[0.2222222222222222,\"#7201a8\"],[0.3333333333333333,\"#9c179e\"],[0.4444444444444444,\"#bd3786\"],[0.5555555555555556,\"#d8576b\"],[0.6666666666666666,\"#ed7953\"],[0.7777777777777778,\"#fb9f3a\"],[0.8888888888888888,\"#fdca26\"],[1.0,\"#f0f921\"]],\"diverging\":[[0,\"#8e0152\"],[0.1,\"#c51b7d\"],[0.2,\"#de77ae\"],[0.3,\"#f1b6da\"],[0.4,\"#fde0ef\"],[0.5,\"#f7f7f7\"],[0.6,\"#e6f5d0\"],[0.7,\"#b8e186\"],[0.8,\"#7fbc41\"],[0.9,\"#4d9221\"],[1,\"#276419\"]]},\"xaxis\":{\"gridcolor\":\"white\",\"linecolor\":\"white\",\"ticks\":\"\",\"title\":{\"standoff\":15},\"zerolinecolor\":\"white\",\"automargin\":true,\"zerolinewidth\":2},\"yaxis\":{\"gridcolor\":\"white\",\"linecolor\":\"white\",\"ticks\":\"\",\"title\":{\"standoff\":15},\"zerolinecolor\":\"white\",\"automargin\":true,\"zerolinewidth\":2},\"scene\":{\"xaxis\":{\"backgroundcolor\":\"#E5ECF6\",\"gridcolor\":\"white\",\"linecolor\":\"white\",\"showbackground\":true,\"ticks\":\"\",\"zerolinecolor\":\"white\",\"gridwidth\":2},\"yaxis\":{\"backgroundcolor\":\"#E5ECF6\",\"gridcolor\":\"white\",\"linecolor\":\"white\",\"showbackground\":true,\"ticks\":\"\",\"zerolinecolor\":\"white\",\"gridwidth\":2},\"zaxis\":{\"backgroundcolor\":\"#E5ECF6\",\"gridcolor\":\"white\",\"linecolor\":\"white\",\"showbackground\":true,\"ticks\":\"\",\"zerolinecolor\":\"white\",\"gridwidth\":2}},\"shapedefaults\":{\"line\":{\"color\":\"#2a3f5f\"}},\"annotationdefaults\":{\"arrowcolor\":\"#2a3f5f\",\"arrowhead\":0,\"arrowwidth\":1},\"geo\":{\"bgcolor\":\"white\",\"landcolor\":\"#E5ECF6\",\"subunitcolor\":\"white\",\"showland\":true,\"showlakes\":true,\"lakecolor\":\"white\"},\"title\":{\"x\":0.05},\"mapbox\":{\"style\":\"light\"}}},\"xaxis\":{\"anchor\":\"y\",\"domain\":[0.0,1.0],\"title\":{\"text\":\"\"}},\"yaxis\":{\"anchor\":\"x\",\"domain\":[0.0,1.0],\"title\":{\"text\":\"Tons of annual emissions per 100k of population\"}},\"legend\":{\"title\":{\"text\":\"State\"},\"tracegroupgap\":0},\"margin\":{\"t\":60},\"font\":{\"color\":\"white\"},\"plot_bgcolor\":\"black\",\"paper_bgcolor\":\"black\",\"title\":{\"text\":\"Nitrogen Oxides emisions per 100k of population\"}},                        {\"responsive\": true}                    ).then(function(){\n",
       "                            \n",
       "var gd = document.getElementById('08828a1d-227b-4443-9500-6af8fb68bb78');\n",
       "var x = new MutationObserver(function (mutations, observer) {{\n",
       "        var display = window.getComputedStyle(gd).display;\n",
       "        if (!display || display === 'none') {{\n",
       "            console.log([gd, 'removed!']);\n",
       "            Plotly.purge(gd);\n",
       "            observer.disconnect();\n",
       "        }}\n",
       "}});\n",
       "\n",
       "// Listen for the removal of the full notebook cells\n",
       "var notebookContainer = gd.closest('#notebook-container');\n",
       "if (notebookContainer) {{\n",
       "    x.observe(notebookContainer, {childList: true});\n",
       "}}\n",
       "\n",
       "// Listen for the clearing of the current output cell\n",
       "var outputEl = gd.closest('.output');\n",
       "if (outputEl) {{\n",
       "    x.observe(outputEl, {childList: true});\n",
       "}}\n",
       "\n",
       "                        })                };                });            </script>        </div>"
      ]
     },
     "metadata": {},
     "output_type": "display_data"
    }
   ],
   "source": [
    "Nitrogen_Oxides = nei_by_pollutant.loc[(nei_by_pollutant[\"Pollutant\"] == 'Nitrogen Oxides')]\n",
    "\n",
    "Nitrogen_Oxides_plot = px.line(\n",
    "    Nitrogen_Oxides,\n",
    "    x = \"Year\",\n",
    "    y = \"Emmisions_per_100k\",\n",
    "    hover_name = \"CAV_adoption\",\n",
    "    color = \"State\",\n",
    "    labels = {\n",
    "        \"Year\":'',\n",
    "        \"Emmisions_per_100k\": \"Tons of annual emissions per 100k of population\"\n",
    "    }\n",
    ")\n",
    "\n",
    "Nitrogen_Oxides_plot.update_layout(\n",
    "#     yaxis_range=[0,30],\n",
    "    font_color=\"white\",\n",
    "    legend=dict(\n",
    "    title=\"State\"\n",
    "))\n",
    "\n",
    "Nitrogen_Oxides_plot.update_layout({\n",
    "    'plot_bgcolor':'black',\n",
    "    'paper_bgcolor':'black',\n",
    "    'title':'Nitrogen Oxides emisions per 100k of population'\n",
    "})\n",
    "\n",
    "Nitrogen_Oxides_plot.show()"
   ]
  },
  {
   "cell_type": "code",
   "execution_count": 36,
   "id": "5be5b0a8",
   "metadata": {},
   "outputs": [
    {
     "data": {
      "application/vnd.plotly.v1+json": {
       "config": {
        "plotlyServerURL": "https://plot.ly"
       },
       "data": [
        {
         "hovertemplate": "<b>%{hovertext}</b><br><br>State=VT<br>=%{x}<br>Tons of annual emissions per 100k of population=%{y}<extra></extra>",
         "hovertext": [
          "High CAV adoption",
          "High CAV adoption",
          "High CAV adoption",
          "High CAV adoption",
          "High CAV adoption"
         ],
         "legendgroup": "VT",
         "line": {
          "color": "#636efa",
          "dash": "solid"
         },
         "marker": {
          "symbol": "circle"
         },
         "mode": "lines",
         "name": "VT",
         "orientation": "v",
         "showlegend": true,
         "type": "scatter",
         "x": [
          2008,
          2011,
          2014,
          2017,
          2020
         ],
         "xaxis": "x",
         "y": [
          98.70000837,
          112.465715,
          109.2051572,
          68.21305527,
          46.39622171
         ],
         "yaxis": "y"
        },
        {
         "hovertemplate": "<b>%{hovertext}</b><br><br>State=MA<br>=%{x}<br>Tons of annual emissions per 100k of population=%{y}<extra></extra>",
         "hovertext": [
          "High CAV adoption",
          "High CAV adoption",
          "High CAV adoption",
          "High CAV adoption",
          "High CAV adoption"
         ],
         "legendgroup": "MA",
         "line": {
          "color": "#EF553B",
          "dash": "solid"
         },
         "marker": {
          "symbol": "circle"
         },
         "mode": "lines",
         "name": "MA",
         "orientation": "v",
         "showlegend": true,
         "type": "scatter",
         "x": [
          2008,
          2011,
          2014,
          2017,
          2020
         ],
         "xaxis": "x",
         "y": [
          85.91759142,
          88.61792015,
          63.3011138,
          67.4408281,
          49.13675516
         ],
         "yaxis": "y"
        },
        {
         "hovertemplate": "<b>%{hovertext}</b><br><br>State=MD<br>=%{x}<br>Tons of annual emissions per 100k of population=%{y}<extra></extra>",
         "hovertext": [
          "High CAV adoption",
          "High CAV adoption",
          "High CAV adoption",
          "High CAV adoption",
          "High CAV adoption"
         ],
         "legendgroup": "MD",
         "line": {
          "color": "#00cc96",
          "dash": "solid"
         },
         "marker": {
          "symbol": "circle"
         },
         "mode": "lines",
         "name": "MD",
         "orientation": "v",
         "showlegend": true,
         "type": "scatter",
         "x": [
          2008,
          2011,
          2014,
          2017,
          2020
         ],
         "xaxis": "x",
         "y": [
          83.19698737,
          94.75432808,
          92.46539048,
          65.91257922,
          49.64657729
         ],
         "yaxis": "y"
        },
        {
         "hovertemplate": "<b>%{hovertext}</b><br><br>State=VA<br>=%{x}<br>Tons of annual emissions per 100k of population=%{y}<extra></extra>",
         "hovertext": [
          "High CAV adoption",
          "High CAV adoption",
          "High CAV adoption",
          "High CAV adoption",
          "High CAV adoption"
         ],
         "legendgroup": "VA",
         "line": {
          "color": "#ab63fa",
          "dash": "solid"
         },
         "marker": {
          "symbol": "circle"
         },
         "mode": "lines",
         "name": "VA",
         "orientation": "v",
         "showlegend": true,
         "type": "scatter",
         "x": [
          2008,
          2011,
          2014,
          2017,
          2020
         ],
         "xaxis": "x",
         "y": [
          93.65613132,
          89.04476233,
          92.637336,
          63.6734075,
          53.13118483
         ],
         "yaxis": "y"
        },
        {
         "hovertemplate": "<b>%{hovertext}</b><br><br>State=WV<br>=%{x}<br>Tons of annual emissions per 100k of population=%{y}<extra></extra>",
         "hovertext": [
          "Low CAV adoption",
          "Low CAV adoption",
          "Low CAV adoption",
          "Low CAV adoption",
          "Low CAV adoption"
         ],
         "legendgroup": "WV",
         "line": {
          "color": "#FFA15A",
          "dash": "solid"
         },
         "marker": {
          "symbol": "circle"
         },
         "mode": "lines",
         "name": "WV",
         "orientation": "v",
         "showlegend": true,
         "type": "scatter",
         "x": [
          2008,
          2011,
          2014,
          2017,
          2020
         ],
         "xaxis": "x",
         "y": [
          108.6875609,
          118.5942563,
          114.6750392,
          80.16450441,
          63.12196466
         ],
         "yaxis": "y"
        },
        {
         "hovertemplate": "<b>%{hovertext}</b><br><br>State=AL<br>=%{x}<br>Tons of annual emissions per 100k of population=%{y}<extra></extra>",
         "hovertext": [
          "Low CAV adoption",
          "Low CAV adoption",
          "Low CAV adoption",
          "Low CAV adoption",
          "Low CAV adoption"
         ],
         "legendgroup": "AL",
         "line": {
          "color": "#19d3f3",
          "dash": "solid"
         },
         "marker": {
          "symbol": "circle"
         },
         "mode": "lines",
         "name": "AL",
         "orientation": "v",
         "showlegend": true,
         "type": "scatter",
         "x": [
          2008,
          2011,
          2014,
          2017,
          2020
         ],
         "xaxis": "x",
         "y": [
          113.8272618,
          177.335935,
          147.6019834,
          113.0096771,
          77.30524735
         ],
         "yaxis": "y"
        },
        {
         "hovertemplate": "<b>%{hovertext}</b><br><br>State=KY<br>=%{x}<br>Tons of annual emissions per 100k of population=%{y}<extra></extra>",
         "hovertext": [
          "Low CAV adoption",
          "Low CAV adoption",
          "Low CAV adoption",
          "Low CAV adoption",
          "Low CAV adoption"
         ],
         "legendgroup": "KY",
         "line": {
          "color": "#FF6692",
          "dash": "solid"
         },
         "marker": {
          "symbol": "circle"
         },
         "mode": "lines",
         "name": "KY",
         "orientation": "v",
         "showlegend": true,
         "type": "scatter",
         "x": [
          2008,
          2011,
          2014,
          2017,
          2020
         ],
         "xaxis": "x",
         "y": [
          126.9338358,
          132.3839809,
          124.7630831,
          93.53551977,
          64.94768282
         ],
         "yaxis": "y"
        },
        {
         "hovertemplate": "<b>%{hovertext}</b><br><br>State=MI<br>=%{x}<br>Tons of annual emissions per 100k of population=%{y}<extra></extra>",
         "hovertext": [
          "Low CAV adoption",
          "Low CAV adoption",
          "Low CAV adoption",
          "Low CAV adoption",
          "Low CAV adoption"
         ],
         "legendgroup": "MI",
         "line": {
          "color": "#B6E880",
          "dash": "solid"
         },
         "marker": {
          "symbol": "circle"
         },
         "mode": "lines",
         "name": "MI",
         "orientation": "v",
         "showlegend": true,
         "type": "scatter",
         "x": [
          2008,
          2011,
          2014,
          2017,
          2020
         ],
         "xaxis": "x",
         "y": [
          142.3673143,
          111.0207296,
          84.98184687,
          73.17399959,
          48.37215228
         ],
         "yaxis": "y"
        },
        {
         "hovertemplate": "<b>%{hovertext}</b><br><br>State=LA<br>=%{x}<br>Tons of annual emissions per 100k of population=%{y}<extra></extra>",
         "hovertext": [
          "Low CAV adoption",
          "Low CAV adoption",
          "Low CAV adoption",
          "Low CAV adoption",
          "Low CAV adoption"
         ],
         "legendgroup": "LA",
         "line": {
          "color": "#FF97FF",
          "dash": "solid"
         },
         "marker": {
          "symbol": "circle"
         },
         "mode": "lines",
         "name": "LA",
         "orientation": "v",
         "showlegend": true,
         "type": "scatter",
         "x": [
          2008,
          2011,
          2014,
          2017,
          2020
         ],
         "xaxis": "x",
         "y": [
          103.7961498,
          129.0707668,
          126.5539508,
          96.72278661,
          63.96348679
         ],
         "yaxis": "y"
        },
        {
         "hovertemplate": "<b>%{hovertext}</b><br><br>State=AR<br>=%{x}<br>Tons of annual emissions per 100k of population=%{y}<extra></extra>",
         "hovertext": [
          "Low CAV adoption",
          "Low CAV adoption",
          "Low CAV adoption",
          "Low CAV adoption",
          "Low CAV adoption"
         ],
         "legendgroup": "AR",
         "line": {
          "color": "#FECB52",
          "dash": "solid"
         },
         "marker": {
          "symbol": "circle"
         },
         "mode": "lines",
         "name": "AR",
         "orientation": "v",
         "showlegend": true,
         "type": "scatter",
         "x": [
          2008,
          2011,
          2014,
          2017,
          2020
         ],
         "xaxis": "x",
         "y": [
          126.8687636,
          169.0262633,
          134.7744934,
          100.1052176,
          71.57302436
         ],
         "yaxis": "y"
        },
        {
         "hovertemplate": "<b>%{hovertext}</b><br><br>State=OK<br>=%{x}<br>Tons of annual emissions per 100k of population=%{y}<extra></extra>",
         "hovertext": [
          "Low CAV adoption",
          "Low CAV adoption",
          "Low CAV adoption",
          "Low CAV adoption",
          "Low CAV adoption"
         ],
         "legendgroup": "OK",
         "line": {
          "color": "#636efa",
          "dash": "solid"
         },
         "marker": {
          "symbol": "circle"
         },
         "mode": "lines",
         "name": "OK",
         "orientation": "v",
         "showlegend": true,
         "type": "scatter",
         "x": [
          2008,
          2011,
          2014,
          2017,
          2020
         ],
         "xaxis": "x",
         "y": [
          153.9229467,
          173.3008131,
          128.5378373,
          103.6395892,
          76.07795414
         ],
         "yaxis": "y"
        },
        {
         "hovertemplate": "<b>%{hovertext}</b><br><br>State=CA<br>=%{x}<br>Tons of annual emissions per 100k of population=%{y}<extra></extra>",
         "hovertext": [
          "High CAV adoption",
          "High CAV adoption",
          "High CAV adoption",
          "High CAV adoption",
          "High CAV adoption"
         ],
         "legendgroup": "CA",
         "line": {
          "color": "#EF553B",
          "dash": "solid"
         },
         "marker": {
          "symbol": "circle"
         },
         "mode": "lines",
         "name": "CA",
         "orientation": "v",
         "showlegend": true,
         "type": "scatter",
         "x": [
          2008,
          2011,
          2014,
          2017,
          2020
         ],
         "xaxis": "x",
         "y": [
          76.97744669,
          77.57261611,
          57.75038007,
          56.3579599,
          52.65865541
         ],
         "yaxis": "y"
        },
        {
         "hovertemplate": "<b>%{hovertext}</b><br><br>State=WA<br>=%{x}<br>Tons of annual emissions per 100k of population=%{y}<extra></extra>",
         "hovertext": [
          "High CAV adoption",
          "High CAV adoption",
          "High CAV adoption",
          "High CAV adoption",
          "High CAV adoption"
         ],
         "legendgroup": "WA",
         "line": {
          "color": "#00cc96",
          "dash": "solid"
         },
         "marker": {
          "symbol": "circle"
         },
         "mode": "lines",
         "name": "WA",
         "orientation": "v",
         "showlegend": true,
         "type": "scatter",
         "x": [
          2008,
          2011,
          2014,
          2017,
          2020
         ],
         "xaxis": "x",
         "y": [
          134.535374,
          137.778781,
          97.16385812,
          70.26612071,
          54.85290947
         ],
         "yaxis": "y"
        },
        {
         "hovertemplate": "<b>%{hovertext}</b><br><br>State=OR<br>=%{x}<br>Tons of annual emissions per 100k of population=%{y}<extra></extra>",
         "hovertext": [
          "High CAV adoption",
          "High CAV adoption",
          "High CAV adoption",
          "High CAV adoption",
          "High CAV adoption"
         ],
         "legendgroup": "OR",
         "line": {
          "color": "#ab63fa",
          "dash": "solid"
         },
         "marker": {
          "symbol": "circle"
         },
         "mode": "lines",
         "name": "OR",
         "orientation": "v",
         "showlegend": true,
         "type": "scatter",
         "x": [
          2008,
          2011,
          2014,
          2017,
          2020
         ],
         "xaxis": "x",
         "y": [
          116.6751979,
          113.9110152,
          91.9691231,
          99.19463086,
          71.35527015
         ],
         "yaxis": "y"
        },
        {
         "hovertemplate": "<b>%{hovertext}</b><br><br>State=HI<br>=%{x}<br>Tons of annual emissions per 100k of population=%{y}<extra></extra>",
         "hovertext": [
          "High CAV adoption",
          "High CAV adoption",
          "High CAV adoption",
          "High CAV adoption",
          "High CAV adoption"
         ],
         "legendgroup": "HI",
         "line": {
          "color": "#FFA15A",
          "dash": "solid"
         },
         "marker": {
          "symbol": "circle"
         },
         "mode": "lines",
         "name": "HI",
         "orientation": "v",
         "showlegend": true,
         "type": "scatter",
         "x": [
          2008,
          2011,
          2014,
          2017,
          2020
         ],
         "xaxis": "x",
         "y": [
          81.14896632,
          22.12453426,
          54.41495101,
          58.98709847,
          42.17366193
         ],
         "yaxis": "y"
        },
        {
         "hovertemplate": "<b>%{hovertext}</b><br><br>State=CO<br>=%{x}<br>Tons of annual emissions per 100k of population=%{y}<extra></extra>",
         "hovertext": [
          "High CAV adoption",
          "High CAV adoption",
          "High CAV adoption",
          "High CAV adoption",
          "High CAV adoption"
         ],
         "legendgroup": "CO",
         "line": {
          "color": "#19d3f3",
          "dash": "solid"
         },
         "marker": {
          "symbol": "circle"
         },
         "mode": "lines",
         "name": "CO",
         "orientation": "v",
         "showlegend": true,
         "type": "scatter",
         "x": [
          2008,
          2011,
          2014,
          2017,
          2020
         ],
         "xaxis": "x",
         "y": [
          102.4391128,
          120.8236926,
          97.58757232,
          72.35251615,
          55.03730214
         ],
         "yaxis": "y"
        },
        {
         "hovertemplate": "<b>%{hovertext}</b><br><br>State=NV<br>=%{x}<br>Tons of annual emissions per 100k of population=%{y}<extra></extra>",
         "hovertext": [
          "High CAV adoption",
          "High CAV adoption",
          "High CAV adoption",
          "High CAV adoption",
          "High CAV adoption"
         ],
         "legendgroup": "NV",
         "line": {
          "color": "#FF6692",
          "dash": "solid"
         },
         "marker": {
          "symbol": "circle"
         },
         "mode": "lines",
         "name": "NV",
         "orientation": "v",
         "showlegend": true,
         "type": "scatter",
         "x": [
          2008,
          2011,
          2014,
          2017,
          2020
         ],
         "xaxis": "x",
         "y": [
          66.00297759,
          126.1088266,
          88.0194071,
          60.91797853,
          54.80476512
         ],
         "yaxis": "y"
        },
        {
         "hovertemplate": "<b>%{hovertext}</b><br><br>State=ND<br>=%{x}<br>Tons of annual emissions per 100k of population=%{y}<extra></extra>",
         "hovertext": [
          "Low CAV adoption",
          "Low CAV adoption",
          "Low CAV adoption",
          "Low CAV adoption",
          "Low CAV adoption"
         ],
         "legendgroup": "ND",
         "line": {
          "color": "#B6E880",
          "dash": "solid"
         },
         "marker": {
          "symbol": "circle"
         },
         "mode": "lines",
         "name": "ND",
         "orientation": "v",
         "showlegend": true,
         "type": "scatter",
         "x": [
          2008,
          2011,
          2014,
          2017,
          2020
         ],
         "xaxis": "x",
         "y": [
          164.8226803,
          211.620883,
          285.818111,
          134.5383177,
          92.25087439
         ],
         "yaxis": "y"
        },
        {
         "hovertemplate": "<b>%{hovertext}</b><br><br>State=WY<br>=%{x}<br>Tons of annual emissions per 100k of population=%{y}<extra></extra>",
         "hovertext": [
          "Low CAV adoption",
          "Low CAV adoption",
          "Low CAV adoption",
          "Low CAV adoption",
          "Low CAV adoption"
         ],
         "legendgroup": "WY",
         "line": {
          "color": "#FF97FF",
          "dash": "solid"
         },
         "marker": {
          "symbol": "circle"
         },
         "mode": "lines",
         "name": "WY",
         "orientation": "v",
         "showlegend": true,
         "type": "scatter",
         "x": [
          2008,
          2011,
          2014,
          2017,
          2020
         ],
         "xaxis": "x",
         "y": [
          242.06654,
          289.7782871,
          244.8076946,
          167.8979289,
          140.2461191
         ],
         "yaxis": "y"
        },
        {
         "hovertemplate": "<b>%{hovertext}</b><br><br>State=SD<br>=%{x}<br>Tons of annual emissions per 100k of population=%{y}<extra></extra>",
         "hovertext": [
          "Low CAV adoption",
          "Low CAV adoption",
          "Low CAV adoption",
          "Low CAV adoption",
          "Low CAV adoption"
         ],
         "legendgroup": "SD",
         "line": {
          "color": "#FECB52",
          "dash": "solid"
         },
         "marker": {
          "symbol": "circle"
         },
         "mode": "lines",
         "name": "SD",
         "orientation": "v",
         "showlegend": true,
         "type": "scatter",
         "x": [
          2008,
          2011,
          2014,
          2017,
          2020
         ],
         "xaxis": "x",
         "y": [
          147.1165856,
          155.5582378,
          165.4275818,
          100.4650219,
          71.92306796
         ],
         "yaxis": "y"
        }
       ],
       "layout": {
        "font": {
         "color": "white"
        },
        "legend": {
         "title": {
          "text": "State"
         },
         "tracegroupgap": 0
        },
        "margin": {
         "t": 60
        },
        "paper_bgcolor": "black",
        "plot_bgcolor": "black",
        "template": {
         "data": {
          "bar": [
           {
            "error_x": {
             "color": "#2a3f5f"
            },
            "error_y": {
             "color": "#2a3f5f"
            },
            "marker": {
             "line": {
              "color": "#E5ECF6",
              "width": 0.5
             },
             "pattern": {
              "fillmode": "overlay",
              "size": 10,
              "solidity": 0.2
             }
            },
            "type": "bar"
           }
          ],
          "barpolar": [
           {
            "marker": {
             "line": {
              "color": "#E5ECF6",
              "width": 0.5
             },
             "pattern": {
              "fillmode": "overlay",
              "size": 10,
              "solidity": 0.2
             }
            },
            "type": "barpolar"
           }
          ],
          "carpet": [
           {
            "aaxis": {
             "endlinecolor": "#2a3f5f",
             "gridcolor": "white",
             "linecolor": "white",
             "minorgridcolor": "white",
             "startlinecolor": "#2a3f5f"
            },
            "baxis": {
             "endlinecolor": "#2a3f5f",
             "gridcolor": "white",
             "linecolor": "white",
             "minorgridcolor": "white",
             "startlinecolor": "#2a3f5f"
            },
            "type": "carpet"
           }
          ],
          "choropleth": [
           {
            "colorbar": {
             "outlinewidth": 0,
             "ticks": ""
            },
            "type": "choropleth"
           }
          ],
          "contour": [
           {
            "colorbar": {
             "outlinewidth": 0,
             "ticks": ""
            },
            "colorscale": [
             [
              0,
              "#0d0887"
             ],
             [
              0.1111111111111111,
              "#46039f"
             ],
             [
              0.2222222222222222,
              "#7201a8"
             ],
             [
              0.3333333333333333,
              "#9c179e"
             ],
             [
              0.4444444444444444,
              "#bd3786"
             ],
             [
              0.5555555555555556,
              "#d8576b"
             ],
             [
              0.6666666666666666,
              "#ed7953"
             ],
             [
              0.7777777777777778,
              "#fb9f3a"
             ],
             [
              0.8888888888888888,
              "#fdca26"
             ],
             [
              1,
              "#f0f921"
             ]
            ],
            "type": "contour"
           }
          ],
          "contourcarpet": [
           {
            "colorbar": {
             "outlinewidth": 0,
             "ticks": ""
            },
            "type": "contourcarpet"
           }
          ],
          "heatmap": [
           {
            "colorbar": {
             "outlinewidth": 0,
             "ticks": ""
            },
            "colorscale": [
             [
              0,
              "#0d0887"
             ],
             [
              0.1111111111111111,
              "#46039f"
             ],
             [
              0.2222222222222222,
              "#7201a8"
             ],
             [
              0.3333333333333333,
              "#9c179e"
             ],
             [
              0.4444444444444444,
              "#bd3786"
             ],
             [
              0.5555555555555556,
              "#d8576b"
             ],
             [
              0.6666666666666666,
              "#ed7953"
             ],
             [
              0.7777777777777778,
              "#fb9f3a"
             ],
             [
              0.8888888888888888,
              "#fdca26"
             ],
             [
              1,
              "#f0f921"
             ]
            ],
            "type": "heatmap"
           }
          ],
          "heatmapgl": [
           {
            "colorbar": {
             "outlinewidth": 0,
             "ticks": ""
            },
            "colorscale": [
             [
              0,
              "#0d0887"
             ],
             [
              0.1111111111111111,
              "#46039f"
             ],
             [
              0.2222222222222222,
              "#7201a8"
             ],
             [
              0.3333333333333333,
              "#9c179e"
             ],
             [
              0.4444444444444444,
              "#bd3786"
             ],
             [
              0.5555555555555556,
              "#d8576b"
             ],
             [
              0.6666666666666666,
              "#ed7953"
             ],
             [
              0.7777777777777778,
              "#fb9f3a"
             ],
             [
              0.8888888888888888,
              "#fdca26"
             ],
             [
              1,
              "#f0f921"
             ]
            ],
            "type": "heatmapgl"
           }
          ],
          "histogram": [
           {
            "marker": {
             "pattern": {
              "fillmode": "overlay",
              "size": 10,
              "solidity": 0.2
             }
            },
            "type": "histogram"
           }
          ],
          "histogram2d": [
           {
            "colorbar": {
             "outlinewidth": 0,
             "ticks": ""
            },
            "colorscale": [
             [
              0,
              "#0d0887"
             ],
             [
              0.1111111111111111,
              "#46039f"
             ],
             [
              0.2222222222222222,
              "#7201a8"
             ],
             [
              0.3333333333333333,
              "#9c179e"
             ],
             [
              0.4444444444444444,
              "#bd3786"
             ],
             [
              0.5555555555555556,
              "#d8576b"
             ],
             [
              0.6666666666666666,
              "#ed7953"
             ],
             [
              0.7777777777777778,
              "#fb9f3a"
             ],
             [
              0.8888888888888888,
              "#fdca26"
             ],
             [
              1,
              "#f0f921"
             ]
            ],
            "type": "histogram2d"
           }
          ],
          "histogram2dcontour": [
           {
            "colorbar": {
             "outlinewidth": 0,
             "ticks": ""
            },
            "colorscale": [
             [
              0,
              "#0d0887"
             ],
             [
              0.1111111111111111,
              "#46039f"
             ],
             [
              0.2222222222222222,
              "#7201a8"
             ],
             [
              0.3333333333333333,
              "#9c179e"
             ],
             [
              0.4444444444444444,
              "#bd3786"
             ],
             [
              0.5555555555555556,
              "#d8576b"
             ],
             [
              0.6666666666666666,
              "#ed7953"
             ],
             [
              0.7777777777777778,
              "#fb9f3a"
             ],
             [
              0.8888888888888888,
              "#fdca26"
             ],
             [
              1,
              "#f0f921"
             ]
            ],
            "type": "histogram2dcontour"
           }
          ],
          "mesh3d": [
           {
            "colorbar": {
             "outlinewidth": 0,
             "ticks": ""
            },
            "type": "mesh3d"
           }
          ],
          "parcoords": [
           {
            "line": {
             "colorbar": {
              "outlinewidth": 0,
              "ticks": ""
             }
            },
            "type": "parcoords"
           }
          ],
          "pie": [
           {
            "automargin": true,
            "type": "pie"
           }
          ],
          "scatter": [
           {
            "fillpattern": {
             "fillmode": "overlay",
             "size": 10,
             "solidity": 0.2
            },
            "type": "scatter"
           }
          ],
          "scatter3d": [
           {
            "line": {
             "colorbar": {
              "outlinewidth": 0,
              "ticks": ""
             }
            },
            "marker": {
             "colorbar": {
              "outlinewidth": 0,
              "ticks": ""
             }
            },
            "type": "scatter3d"
           }
          ],
          "scattercarpet": [
           {
            "marker": {
             "colorbar": {
              "outlinewidth": 0,
              "ticks": ""
             }
            },
            "type": "scattercarpet"
           }
          ],
          "scattergeo": [
           {
            "marker": {
             "colorbar": {
              "outlinewidth": 0,
              "ticks": ""
             }
            },
            "type": "scattergeo"
           }
          ],
          "scattergl": [
           {
            "marker": {
             "colorbar": {
              "outlinewidth": 0,
              "ticks": ""
             }
            },
            "type": "scattergl"
           }
          ],
          "scattermapbox": [
           {
            "marker": {
             "colorbar": {
              "outlinewidth": 0,
              "ticks": ""
             }
            },
            "type": "scattermapbox"
           }
          ],
          "scatterpolar": [
           {
            "marker": {
             "colorbar": {
              "outlinewidth": 0,
              "ticks": ""
             }
            },
            "type": "scatterpolar"
           }
          ],
          "scatterpolargl": [
           {
            "marker": {
             "colorbar": {
              "outlinewidth": 0,
              "ticks": ""
             }
            },
            "type": "scatterpolargl"
           }
          ],
          "scatterternary": [
           {
            "marker": {
             "colorbar": {
              "outlinewidth": 0,
              "ticks": ""
             }
            },
            "type": "scatterternary"
           }
          ],
          "surface": [
           {
            "colorbar": {
             "outlinewidth": 0,
             "ticks": ""
            },
            "colorscale": [
             [
              0,
              "#0d0887"
             ],
             [
              0.1111111111111111,
              "#46039f"
             ],
             [
              0.2222222222222222,
              "#7201a8"
             ],
             [
              0.3333333333333333,
              "#9c179e"
             ],
             [
              0.4444444444444444,
              "#bd3786"
             ],
             [
              0.5555555555555556,
              "#d8576b"
             ],
             [
              0.6666666666666666,
              "#ed7953"
             ],
             [
              0.7777777777777778,
              "#fb9f3a"
             ],
             [
              0.8888888888888888,
              "#fdca26"
             ],
             [
              1,
              "#f0f921"
             ]
            ],
            "type": "surface"
           }
          ],
          "table": [
           {
            "cells": {
             "fill": {
              "color": "#EBF0F8"
             },
             "line": {
              "color": "white"
             }
            },
            "header": {
             "fill": {
              "color": "#C8D4E3"
             },
             "line": {
              "color": "white"
             }
            },
            "type": "table"
           }
          ]
         },
         "layout": {
          "annotationdefaults": {
           "arrowcolor": "#2a3f5f",
           "arrowhead": 0,
           "arrowwidth": 1
          },
          "autotypenumbers": "strict",
          "coloraxis": {
           "colorbar": {
            "outlinewidth": 0,
            "ticks": ""
           }
          },
          "colorscale": {
           "diverging": [
            [
             0,
             "#8e0152"
            ],
            [
             0.1,
             "#c51b7d"
            ],
            [
             0.2,
             "#de77ae"
            ],
            [
             0.3,
             "#f1b6da"
            ],
            [
             0.4,
             "#fde0ef"
            ],
            [
             0.5,
             "#f7f7f7"
            ],
            [
             0.6,
             "#e6f5d0"
            ],
            [
             0.7,
             "#b8e186"
            ],
            [
             0.8,
             "#7fbc41"
            ],
            [
             0.9,
             "#4d9221"
            ],
            [
             1,
             "#276419"
            ]
           ],
           "sequential": [
            [
             0,
             "#0d0887"
            ],
            [
             0.1111111111111111,
             "#46039f"
            ],
            [
             0.2222222222222222,
             "#7201a8"
            ],
            [
             0.3333333333333333,
             "#9c179e"
            ],
            [
             0.4444444444444444,
             "#bd3786"
            ],
            [
             0.5555555555555556,
             "#d8576b"
            ],
            [
             0.6666666666666666,
             "#ed7953"
            ],
            [
             0.7777777777777778,
             "#fb9f3a"
            ],
            [
             0.8888888888888888,
             "#fdca26"
            ],
            [
             1,
             "#f0f921"
            ]
           ],
           "sequentialminus": [
            [
             0,
             "#0d0887"
            ],
            [
             0.1111111111111111,
             "#46039f"
            ],
            [
             0.2222222222222222,
             "#7201a8"
            ],
            [
             0.3333333333333333,
             "#9c179e"
            ],
            [
             0.4444444444444444,
             "#bd3786"
            ],
            [
             0.5555555555555556,
             "#d8576b"
            ],
            [
             0.6666666666666666,
             "#ed7953"
            ],
            [
             0.7777777777777778,
             "#fb9f3a"
            ],
            [
             0.8888888888888888,
             "#fdca26"
            ],
            [
             1,
             "#f0f921"
            ]
           ]
          },
          "colorway": [
           "#636efa",
           "#EF553B",
           "#00cc96",
           "#ab63fa",
           "#FFA15A",
           "#19d3f3",
           "#FF6692",
           "#B6E880",
           "#FF97FF",
           "#FECB52"
          ],
          "font": {
           "color": "#2a3f5f"
          },
          "geo": {
           "bgcolor": "white",
           "lakecolor": "white",
           "landcolor": "#E5ECF6",
           "showlakes": true,
           "showland": true,
           "subunitcolor": "white"
          },
          "hoverlabel": {
           "align": "left"
          },
          "hovermode": "closest",
          "mapbox": {
           "style": "light"
          },
          "paper_bgcolor": "white",
          "plot_bgcolor": "#E5ECF6",
          "polar": {
           "angularaxis": {
            "gridcolor": "white",
            "linecolor": "white",
            "ticks": ""
           },
           "bgcolor": "#E5ECF6",
           "radialaxis": {
            "gridcolor": "white",
            "linecolor": "white",
            "ticks": ""
           }
          },
          "scene": {
           "xaxis": {
            "backgroundcolor": "#E5ECF6",
            "gridcolor": "white",
            "gridwidth": 2,
            "linecolor": "white",
            "showbackground": true,
            "ticks": "",
            "zerolinecolor": "white"
           },
           "yaxis": {
            "backgroundcolor": "#E5ECF6",
            "gridcolor": "white",
            "gridwidth": 2,
            "linecolor": "white",
            "showbackground": true,
            "ticks": "",
            "zerolinecolor": "white"
           },
           "zaxis": {
            "backgroundcolor": "#E5ECF6",
            "gridcolor": "white",
            "gridwidth": 2,
            "linecolor": "white",
            "showbackground": true,
            "ticks": "",
            "zerolinecolor": "white"
           }
          },
          "shapedefaults": {
           "line": {
            "color": "#2a3f5f"
           }
          },
          "ternary": {
           "aaxis": {
            "gridcolor": "white",
            "linecolor": "white",
            "ticks": ""
           },
           "baxis": {
            "gridcolor": "white",
            "linecolor": "white",
            "ticks": ""
           },
           "bgcolor": "#E5ECF6",
           "caxis": {
            "gridcolor": "white",
            "linecolor": "white",
            "ticks": ""
           }
          },
          "title": {
           "x": 0.05
          },
          "xaxis": {
           "automargin": true,
           "gridcolor": "white",
           "linecolor": "white",
           "ticks": "",
           "title": {
            "standoff": 15
           },
           "zerolinecolor": "white",
           "zerolinewidth": 2
          },
          "yaxis": {
           "automargin": true,
           "gridcolor": "white",
           "linecolor": "white",
           "ticks": "",
           "title": {
            "standoff": 15
           },
           "zerolinecolor": "white",
           "zerolinewidth": 2
          }
         }
        },
        "title": {
         "text": "Large Particulate Matter (< 10um) emisions per 100k of population"
        },
        "xaxis": {
         "anchor": "y",
         "domain": [
          0,
          1
         ],
         "title": {
          "text": ""
         }
        },
        "yaxis": {
         "anchor": "x",
         "domain": [
          0,
          1
         ],
         "title": {
          "text": "Tons of annual emissions per 100k of population"
         }
        }
       }
      },
      "text/html": [
       "<div>                            <div id=\"44f37cd0-c837-4bf4-94fd-50527ba7b617\" class=\"plotly-graph-div\" style=\"height:525px; width:100%;\"></div>            <script type=\"text/javascript\">                require([\"plotly\"], function(Plotly) {                    window.PLOTLYENV=window.PLOTLYENV || {};                                    if (document.getElementById(\"44f37cd0-c837-4bf4-94fd-50527ba7b617\")) {                    Plotly.newPlot(                        \"44f37cd0-c837-4bf4-94fd-50527ba7b617\",                        [{\"hovertemplate\":\"<b>%{hovertext}</b><br><br>State=VT<br>=%{x}<br>Tons of annual emissions per 100k of population=%{y}<extra></extra>\",\"hovertext\":[\"High CAV adoption\",\"High CAV adoption\",\"High CAV adoption\",\"High CAV adoption\",\"High CAV adoption\"],\"legendgroup\":\"VT\",\"line\":{\"color\":\"#636efa\",\"dash\":\"solid\"},\"marker\":{\"symbol\":\"circle\"},\"mode\":\"lines\",\"name\":\"VT\",\"orientation\":\"v\",\"showlegend\":true,\"x\":[2008,2011,2014,2017,2020],\"xaxis\":\"x\",\"y\":[98.70000837,112.465715,109.2051572,68.21305527,46.39622171],\"yaxis\":\"y\",\"type\":\"scatter\"},{\"hovertemplate\":\"<b>%{hovertext}</b><br><br>State=MA<br>=%{x}<br>Tons of annual emissions per 100k of population=%{y}<extra></extra>\",\"hovertext\":[\"High CAV adoption\",\"High CAV adoption\",\"High CAV adoption\",\"High CAV adoption\",\"High CAV adoption\"],\"legendgroup\":\"MA\",\"line\":{\"color\":\"#EF553B\",\"dash\":\"solid\"},\"marker\":{\"symbol\":\"circle\"},\"mode\":\"lines\",\"name\":\"MA\",\"orientation\":\"v\",\"showlegend\":true,\"x\":[2008,2011,2014,2017,2020],\"xaxis\":\"x\",\"y\":[85.91759142,88.61792015,63.3011138,67.4408281,49.13675516],\"yaxis\":\"y\",\"type\":\"scatter\"},{\"hovertemplate\":\"<b>%{hovertext}</b><br><br>State=MD<br>=%{x}<br>Tons of annual emissions per 100k of population=%{y}<extra></extra>\",\"hovertext\":[\"High CAV adoption\",\"High CAV adoption\",\"High CAV adoption\",\"High CAV adoption\",\"High CAV adoption\"],\"legendgroup\":\"MD\",\"line\":{\"color\":\"#00cc96\",\"dash\":\"solid\"},\"marker\":{\"symbol\":\"circle\"},\"mode\":\"lines\",\"name\":\"MD\",\"orientation\":\"v\",\"showlegend\":true,\"x\":[2008,2011,2014,2017,2020],\"xaxis\":\"x\",\"y\":[83.19698737,94.75432808,92.46539048,65.91257922,49.64657729],\"yaxis\":\"y\",\"type\":\"scatter\"},{\"hovertemplate\":\"<b>%{hovertext}</b><br><br>State=VA<br>=%{x}<br>Tons of annual emissions per 100k of population=%{y}<extra></extra>\",\"hovertext\":[\"High CAV adoption\",\"High CAV adoption\",\"High CAV adoption\",\"High CAV adoption\",\"High CAV adoption\"],\"legendgroup\":\"VA\",\"line\":{\"color\":\"#ab63fa\",\"dash\":\"solid\"},\"marker\":{\"symbol\":\"circle\"},\"mode\":\"lines\",\"name\":\"VA\",\"orientation\":\"v\",\"showlegend\":true,\"x\":[2008,2011,2014,2017,2020],\"xaxis\":\"x\",\"y\":[93.65613132,89.04476233,92.637336,63.6734075,53.13118483],\"yaxis\":\"y\",\"type\":\"scatter\"},{\"hovertemplate\":\"<b>%{hovertext}</b><br><br>State=WV<br>=%{x}<br>Tons of annual emissions per 100k of population=%{y}<extra></extra>\",\"hovertext\":[\"Low CAV adoption\",\"Low CAV adoption\",\"Low CAV adoption\",\"Low CAV adoption\",\"Low CAV adoption\"],\"legendgroup\":\"WV\",\"line\":{\"color\":\"#FFA15A\",\"dash\":\"solid\"},\"marker\":{\"symbol\":\"circle\"},\"mode\":\"lines\",\"name\":\"WV\",\"orientation\":\"v\",\"showlegend\":true,\"x\":[2008,2011,2014,2017,2020],\"xaxis\":\"x\",\"y\":[108.6875609,118.5942563,114.6750392,80.16450441,63.12196466],\"yaxis\":\"y\",\"type\":\"scatter\"},{\"hovertemplate\":\"<b>%{hovertext}</b><br><br>State=AL<br>=%{x}<br>Tons of annual emissions per 100k of population=%{y}<extra></extra>\",\"hovertext\":[\"Low CAV adoption\",\"Low CAV adoption\",\"Low CAV adoption\",\"Low CAV adoption\",\"Low CAV adoption\"],\"legendgroup\":\"AL\",\"line\":{\"color\":\"#19d3f3\",\"dash\":\"solid\"},\"marker\":{\"symbol\":\"circle\"},\"mode\":\"lines\",\"name\":\"AL\",\"orientation\":\"v\",\"showlegend\":true,\"x\":[2008,2011,2014,2017,2020],\"xaxis\":\"x\",\"y\":[113.8272618,177.335935,147.6019834,113.0096771,77.30524735],\"yaxis\":\"y\",\"type\":\"scatter\"},{\"hovertemplate\":\"<b>%{hovertext}</b><br><br>State=KY<br>=%{x}<br>Tons of annual emissions per 100k of population=%{y}<extra></extra>\",\"hovertext\":[\"Low CAV adoption\",\"Low CAV adoption\",\"Low CAV adoption\",\"Low CAV adoption\",\"Low CAV adoption\"],\"legendgroup\":\"KY\",\"line\":{\"color\":\"#FF6692\",\"dash\":\"solid\"},\"marker\":{\"symbol\":\"circle\"},\"mode\":\"lines\",\"name\":\"KY\",\"orientation\":\"v\",\"showlegend\":true,\"x\":[2008,2011,2014,2017,2020],\"xaxis\":\"x\",\"y\":[126.9338358,132.3839809,124.7630831,93.53551977,64.94768282],\"yaxis\":\"y\",\"type\":\"scatter\"},{\"hovertemplate\":\"<b>%{hovertext}</b><br><br>State=MI<br>=%{x}<br>Tons of annual emissions per 100k of population=%{y}<extra></extra>\",\"hovertext\":[\"Low CAV adoption\",\"Low CAV adoption\",\"Low CAV adoption\",\"Low CAV adoption\",\"Low CAV adoption\"],\"legendgroup\":\"MI\",\"line\":{\"color\":\"#B6E880\",\"dash\":\"solid\"},\"marker\":{\"symbol\":\"circle\"},\"mode\":\"lines\",\"name\":\"MI\",\"orientation\":\"v\",\"showlegend\":true,\"x\":[2008,2011,2014,2017,2020],\"xaxis\":\"x\",\"y\":[142.3673143,111.0207296,84.98184687,73.17399959,48.37215228],\"yaxis\":\"y\",\"type\":\"scatter\"},{\"hovertemplate\":\"<b>%{hovertext}</b><br><br>State=LA<br>=%{x}<br>Tons of annual emissions per 100k of population=%{y}<extra></extra>\",\"hovertext\":[\"Low CAV adoption\",\"Low CAV adoption\",\"Low CAV adoption\",\"Low CAV adoption\",\"Low CAV adoption\"],\"legendgroup\":\"LA\",\"line\":{\"color\":\"#FF97FF\",\"dash\":\"solid\"},\"marker\":{\"symbol\":\"circle\"},\"mode\":\"lines\",\"name\":\"LA\",\"orientation\":\"v\",\"showlegend\":true,\"x\":[2008,2011,2014,2017,2020],\"xaxis\":\"x\",\"y\":[103.7961498,129.0707668,126.5539508,96.72278661,63.96348679],\"yaxis\":\"y\",\"type\":\"scatter\"},{\"hovertemplate\":\"<b>%{hovertext}</b><br><br>State=AR<br>=%{x}<br>Tons of annual emissions per 100k of population=%{y}<extra></extra>\",\"hovertext\":[\"Low CAV adoption\",\"Low CAV adoption\",\"Low CAV adoption\",\"Low CAV adoption\",\"Low CAV adoption\"],\"legendgroup\":\"AR\",\"line\":{\"color\":\"#FECB52\",\"dash\":\"solid\"},\"marker\":{\"symbol\":\"circle\"},\"mode\":\"lines\",\"name\":\"AR\",\"orientation\":\"v\",\"showlegend\":true,\"x\":[2008,2011,2014,2017,2020],\"xaxis\":\"x\",\"y\":[126.8687636,169.0262633,134.7744934,100.1052176,71.57302436],\"yaxis\":\"y\",\"type\":\"scatter\"},{\"hovertemplate\":\"<b>%{hovertext}</b><br><br>State=OK<br>=%{x}<br>Tons of annual emissions per 100k of population=%{y}<extra></extra>\",\"hovertext\":[\"Low CAV adoption\",\"Low CAV adoption\",\"Low CAV adoption\",\"Low CAV adoption\",\"Low CAV adoption\"],\"legendgroup\":\"OK\",\"line\":{\"color\":\"#636efa\",\"dash\":\"solid\"},\"marker\":{\"symbol\":\"circle\"},\"mode\":\"lines\",\"name\":\"OK\",\"orientation\":\"v\",\"showlegend\":true,\"x\":[2008,2011,2014,2017,2020],\"xaxis\":\"x\",\"y\":[153.9229467,173.3008131,128.5378373,103.6395892,76.07795414],\"yaxis\":\"y\",\"type\":\"scatter\"},{\"hovertemplate\":\"<b>%{hovertext}</b><br><br>State=CA<br>=%{x}<br>Tons of annual emissions per 100k of population=%{y}<extra></extra>\",\"hovertext\":[\"High CAV adoption\",\"High CAV adoption\",\"High CAV adoption\",\"High CAV adoption\",\"High CAV adoption\"],\"legendgroup\":\"CA\",\"line\":{\"color\":\"#EF553B\",\"dash\":\"solid\"},\"marker\":{\"symbol\":\"circle\"},\"mode\":\"lines\",\"name\":\"CA\",\"orientation\":\"v\",\"showlegend\":true,\"x\":[2008,2011,2014,2017,2020],\"xaxis\":\"x\",\"y\":[76.97744669,77.57261611,57.75038007,56.3579599,52.65865541],\"yaxis\":\"y\",\"type\":\"scatter\"},{\"hovertemplate\":\"<b>%{hovertext}</b><br><br>State=WA<br>=%{x}<br>Tons of annual emissions per 100k of population=%{y}<extra></extra>\",\"hovertext\":[\"High CAV adoption\",\"High CAV adoption\",\"High CAV adoption\",\"High CAV adoption\",\"High CAV adoption\"],\"legendgroup\":\"WA\",\"line\":{\"color\":\"#00cc96\",\"dash\":\"solid\"},\"marker\":{\"symbol\":\"circle\"},\"mode\":\"lines\",\"name\":\"WA\",\"orientation\":\"v\",\"showlegend\":true,\"x\":[2008,2011,2014,2017,2020],\"xaxis\":\"x\",\"y\":[134.535374,137.778781,97.16385812,70.26612071,54.85290947],\"yaxis\":\"y\",\"type\":\"scatter\"},{\"hovertemplate\":\"<b>%{hovertext}</b><br><br>State=OR<br>=%{x}<br>Tons of annual emissions per 100k of population=%{y}<extra></extra>\",\"hovertext\":[\"High CAV adoption\",\"High CAV adoption\",\"High CAV adoption\",\"High CAV adoption\",\"High CAV adoption\"],\"legendgroup\":\"OR\",\"line\":{\"color\":\"#ab63fa\",\"dash\":\"solid\"},\"marker\":{\"symbol\":\"circle\"},\"mode\":\"lines\",\"name\":\"OR\",\"orientation\":\"v\",\"showlegend\":true,\"x\":[2008,2011,2014,2017,2020],\"xaxis\":\"x\",\"y\":[116.6751979,113.9110152,91.9691231,99.19463086,71.35527015],\"yaxis\":\"y\",\"type\":\"scatter\"},{\"hovertemplate\":\"<b>%{hovertext}</b><br><br>State=HI<br>=%{x}<br>Tons of annual emissions per 100k of population=%{y}<extra></extra>\",\"hovertext\":[\"High CAV adoption\",\"High CAV adoption\",\"High CAV adoption\",\"High CAV adoption\",\"High CAV adoption\"],\"legendgroup\":\"HI\",\"line\":{\"color\":\"#FFA15A\",\"dash\":\"solid\"},\"marker\":{\"symbol\":\"circle\"},\"mode\":\"lines\",\"name\":\"HI\",\"orientation\":\"v\",\"showlegend\":true,\"x\":[2008,2011,2014,2017,2020],\"xaxis\":\"x\",\"y\":[81.14896632,22.12453426,54.41495101,58.98709847,42.17366193],\"yaxis\":\"y\",\"type\":\"scatter\"},{\"hovertemplate\":\"<b>%{hovertext}</b><br><br>State=CO<br>=%{x}<br>Tons of annual emissions per 100k of population=%{y}<extra></extra>\",\"hovertext\":[\"High CAV adoption\",\"High CAV adoption\",\"High CAV adoption\",\"High CAV adoption\",\"High CAV adoption\"],\"legendgroup\":\"CO\",\"line\":{\"color\":\"#19d3f3\",\"dash\":\"solid\"},\"marker\":{\"symbol\":\"circle\"},\"mode\":\"lines\",\"name\":\"CO\",\"orientation\":\"v\",\"showlegend\":true,\"x\":[2008,2011,2014,2017,2020],\"xaxis\":\"x\",\"y\":[102.4391128,120.8236926,97.58757232,72.35251615,55.03730214],\"yaxis\":\"y\",\"type\":\"scatter\"},{\"hovertemplate\":\"<b>%{hovertext}</b><br><br>State=NV<br>=%{x}<br>Tons of annual emissions per 100k of population=%{y}<extra></extra>\",\"hovertext\":[\"High CAV adoption\",\"High CAV adoption\",\"High CAV adoption\",\"High CAV adoption\",\"High CAV adoption\"],\"legendgroup\":\"NV\",\"line\":{\"color\":\"#FF6692\",\"dash\":\"solid\"},\"marker\":{\"symbol\":\"circle\"},\"mode\":\"lines\",\"name\":\"NV\",\"orientation\":\"v\",\"showlegend\":true,\"x\":[2008,2011,2014,2017,2020],\"xaxis\":\"x\",\"y\":[66.00297759,126.1088266,88.0194071,60.91797853,54.80476512],\"yaxis\":\"y\",\"type\":\"scatter\"},{\"hovertemplate\":\"<b>%{hovertext}</b><br><br>State=ND<br>=%{x}<br>Tons of annual emissions per 100k of population=%{y}<extra></extra>\",\"hovertext\":[\"Low CAV adoption\",\"Low CAV adoption\",\"Low CAV adoption\",\"Low CAV adoption\",\"Low CAV adoption\"],\"legendgroup\":\"ND\",\"line\":{\"color\":\"#B6E880\",\"dash\":\"solid\"},\"marker\":{\"symbol\":\"circle\"},\"mode\":\"lines\",\"name\":\"ND\",\"orientation\":\"v\",\"showlegend\":true,\"x\":[2008,2011,2014,2017,2020],\"xaxis\":\"x\",\"y\":[164.8226803,211.620883,285.818111,134.5383177,92.25087439],\"yaxis\":\"y\",\"type\":\"scatter\"},{\"hovertemplate\":\"<b>%{hovertext}</b><br><br>State=WY<br>=%{x}<br>Tons of annual emissions per 100k of population=%{y}<extra></extra>\",\"hovertext\":[\"Low CAV adoption\",\"Low CAV adoption\",\"Low CAV adoption\",\"Low CAV adoption\",\"Low CAV adoption\"],\"legendgroup\":\"WY\",\"line\":{\"color\":\"#FF97FF\",\"dash\":\"solid\"},\"marker\":{\"symbol\":\"circle\"},\"mode\":\"lines\",\"name\":\"WY\",\"orientation\":\"v\",\"showlegend\":true,\"x\":[2008,2011,2014,2017,2020],\"xaxis\":\"x\",\"y\":[242.06654,289.7782871,244.8076946,167.8979289,140.2461191],\"yaxis\":\"y\",\"type\":\"scatter\"},{\"hovertemplate\":\"<b>%{hovertext}</b><br><br>State=SD<br>=%{x}<br>Tons of annual emissions per 100k of population=%{y}<extra></extra>\",\"hovertext\":[\"Low CAV adoption\",\"Low CAV adoption\",\"Low CAV adoption\",\"Low CAV adoption\",\"Low CAV adoption\"],\"legendgroup\":\"SD\",\"line\":{\"color\":\"#FECB52\",\"dash\":\"solid\"},\"marker\":{\"symbol\":\"circle\"},\"mode\":\"lines\",\"name\":\"SD\",\"orientation\":\"v\",\"showlegend\":true,\"x\":[2008,2011,2014,2017,2020],\"xaxis\":\"x\",\"y\":[147.1165856,155.5582378,165.4275818,100.4650219,71.92306796],\"yaxis\":\"y\",\"type\":\"scatter\"}],                        {\"template\":{\"data\":{\"histogram2dcontour\":[{\"type\":\"histogram2dcontour\",\"colorbar\":{\"outlinewidth\":0,\"ticks\":\"\"},\"colorscale\":[[0.0,\"#0d0887\"],[0.1111111111111111,\"#46039f\"],[0.2222222222222222,\"#7201a8\"],[0.3333333333333333,\"#9c179e\"],[0.4444444444444444,\"#bd3786\"],[0.5555555555555556,\"#d8576b\"],[0.6666666666666666,\"#ed7953\"],[0.7777777777777778,\"#fb9f3a\"],[0.8888888888888888,\"#fdca26\"],[1.0,\"#f0f921\"]]}],\"choropleth\":[{\"type\":\"choropleth\",\"colorbar\":{\"outlinewidth\":0,\"ticks\":\"\"}}],\"histogram2d\":[{\"type\":\"histogram2d\",\"colorbar\":{\"outlinewidth\":0,\"ticks\":\"\"},\"colorscale\":[[0.0,\"#0d0887\"],[0.1111111111111111,\"#46039f\"],[0.2222222222222222,\"#7201a8\"],[0.3333333333333333,\"#9c179e\"],[0.4444444444444444,\"#bd3786\"],[0.5555555555555556,\"#d8576b\"],[0.6666666666666666,\"#ed7953\"],[0.7777777777777778,\"#fb9f3a\"],[0.8888888888888888,\"#fdca26\"],[1.0,\"#f0f921\"]]}],\"heatmap\":[{\"type\":\"heatmap\",\"colorbar\":{\"outlinewidth\":0,\"ticks\":\"\"},\"colorscale\":[[0.0,\"#0d0887\"],[0.1111111111111111,\"#46039f\"],[0.2222222222222222,\"#7201a8\"],[0.3333333333333333,\"#9c179e\"],[0.4444444444444444,\"#bd3786\"],[0.5555555555555556,\"#d8576b\"],[0.6666666666666666,\"#ed7953\"],[0.7777777777777778,\"#fb9f3a\"],[0.8888888888888888,\"#fdca26\"],[1.0,\"#f0f921\"]]}],\"heatmapgl\":[{\"type\":\"heatmapgl\",\"colorbar\":{\"outlinewidth\":0,\"ticks\":\"\"},\"colorscale\":[[0.0,\"#0d0887\"],[0.1111111111111111,\"#46039f\"],[0.2222222222222222,\"#7201a8\"],[0.3333333333333333,\"#9c179e\"],[0.4444444444444444,\"#bd3786\"],[0.5555555555555556,\"#d8576b\"],[0.6666666666666666,\"#ed7953\"],[0.7777777777777778,\"#fb9f3a\"],[0.8888888888888888,\"#fdca26\"],[1.0,\"#f0f921\"]]}],\"contourcarpet\":[{\"type\":\"contourcarpet\",\"colorbar\":{\"outlinewidth\":0,\"ticks\":\"\"}}],\"contour\":[{\"type\":\"contour\",\"colorbar\":{\"outlinewidth\":0,\"ticks\":\"\"},\"colorscale\":[[0.0,\"#0d0887\"],[0.1111111111111111,\"#46039f\"],[0.2222222222222222,\"#7201a8\"],[0.3333333333333333,\"#9c179e\"],[0.4444444444444444,\"#bd3786\"],[0.5555555555555556,\"#d8576b\"],[0.6666666666666666,\"#ed7953\"],[0.7777777777777778,\"#fb9f3a\"],[0.8888888888888888,\"#fdca26\"],[1.0,\"#f0f921\"]]}],\"surface\":[{\"type\":\"surface\",\"colorbar\":{\"outlinewidth\":0,\"ticks\":\"\"},\"colorscale\":[[0.0,\"#0d0887\"],[0.1111111111111111,\"#46039f\"],[0.2222222222222222,\"#7201a8\"],[0.3333333333333333,\"#9c179e\"],[0.4444444444444444,\"#bd3786\"],[0.5555555555555556,\"#d8576b\"],[0.6666666666666666,\"#ed7953\"],[0.7777777777777778,\"#fb9f3a\"],[0.8888888888888888,\"#fdca26\"],[1.0,\"#f0f921\"]]}],\"mesh3d\":[{\"type\":\"mesh3d\",\"colorbar\":{\"outlinewidth\":0,\"ticks\":\"\"}}],\"scatter\":[{\"fillpattern\":{\"fillmode\":\"overlay\",\"size\":10,\"solidity\":0.2},\"type\":\"scatter\"}],\"parcoords\":[{\"type\":\"parcoords\",\"line\":{\"colorbar\":{\"outlinewidth\":0,\"ticks\":\"\"}}}],\"scatterpolargl\":[{\"type\":\"scatterpolargl\",\"marker\":{\"colorbar\":{\"outlinewidth\":0,\"ticks\":\"\"}}}],\"bar\":[{\"error_x\":{\"color\":\"#2a3f5f\"},\"error_y\":{\"color\":\"#2a3f5f\"},\"marker\":{\"line\":{\"color\":\"#E5ECF6\",\"width\":0.5},\"pattern\":{\"fillmode\":\"overlay\",\"size\":10,\"solidity\":0.2}},\"type\":\"bar\"}],\"scattergeo\":[{\"type\":\"scattergeo\",\"marker\":{\"colorbar\":{\"outlinewidth\":0,\"ticks\":\"\"}}}],\"scatterpolar\":[{\"type\":\"scatterpolar\",\"marker\":{\"colorbar\":{\"outlinewidth\":0,\"ticks\":\"\"}}}],\"histogram\":[{\"marker\":{\"pattern\":{\"fillmode\":\"overlay\",\"size\":10,\"solidity\":0.2}},\"type\":\"histogram\"}],\"scattergl\":[{\"type\":\"scattergl\",\"marker\":{\"colorbar\":{\"outlinewidth\":0,\"ticks\":\"\"}}}],\"scatter3d\":[{\"type\":\"scatter3d\",\"line\":{\"colorbar\":{\"outlinewidth\":0,\"ticks\":\"\"}},\"marker\":{\"colorbar\":{\"outlinewidth\":0,\"ticks\":\"\"}}}],\"scattermapbox\":[{\"type\":\"scattermapbox\",\"marker\":{\"colorbar\":{\"outlinewidth\":0,\"ticks\":\"\"}}}],\"scatterternary\":[{\"type\":\"scatterternary\",\"marker\":{\"colorbar\":{\"outlinewidth\":0,\"ticks\":\"\"}}}],\"scattercarpet\":[{\"type\":\"scattercarpet\",\"marker\":{\"colorbar\":{\"outlinewidth\":0,\"ticks\":\"\"}}}],\"carpet\":[{\"aaxis\":{\"endlinecolor\":\"#2a3f5f\",\"gridcolor\":\"white\",\"linecolor\":\"white\",\"minorgridcolor\":\"white\",\"startlinecolor\":\"#2a3f5f\"},\"baxis\":{\"endlinecolor\":\"#2a3f5f\",\"gridcolor\":\"white\",\"linecolor\":\"white\",\"minorgridcolor\":\"white\",\"startlinecolor\":\"#2a3f5f\"},\"type\":\"carpet\"}],\"table\":[{\"cells\":{\"fill\":{\"color\":\"#EBF0F8\"},\"line\":{\"color\":\"white\"}},\"header\":{\"fill\":{\"color\":\"#C8D4E3\"},\"line\":{\"color\":\"white\"}},\"type\":\"table\"}],\"barpolar\":[{\"marker\":{\"line\":{\"color\":\"#E5ECF6\",\"width\":0.5},\"pattern\":{\"fillmode\":\"overlay\",\"size\":10,\"solidity\":0.2}},\"type\":\"barpolar\"}],\"pie\":[{\"automargin\":true,\"type\":\"pie\"}]},\"layout\":{\"autotypenumbers\":\"strict\",\"colorway\":[\"#636efa\",\"#EF553B\",\"#00cc96\",\"#ab63fa\",\"#FFA15A\",\"#19d3f3\",\"#FF6692\",\"#B6E880\",\"#FF97FF\",\"#FECB52\"],\"font\":{\"color\":\"#2a3f5f\"},\"hovermode\":\"closest\",\"hoverlabel\":{\"align\":\"left\"},\"paper_bgcolor\":\"white\",\"plot_bgcolor\":\"#E5ECF6\",\"polar\":{\"bgcolor\":\"#E5ECF6\",\"angularaxis\":{\"gridcolor\":\"white\",\"linecolor\":\"white\",\"ticks\":\"\"},\"radialaxis\":{\"gridcolor\":\"white\",\"linecolor\":\"white\",\"ticks\":\"\"}},\"ternary\":{\"bgcolor\":\"#E5ECF6\",\"aaxis\":{\"gridcolor\":\"white\",\"linecolor\":\"white\",\"ticks\":\"\"},\"baxis\":{\"gridcolor\":\"white\",\"linecolor\":\"white\",\"ticks\":\"\"},\"caxis\":{\"gridcolor\":\"white\",\"linecolor\":\"white\",\"ticks\":\"\"}},\"coloraxis\":{\"colorbar\":{\"outlinewidth\":0,\"ticks\":\"\"}},\"colorscale\":{\"sequential\":[[0.0,\"#0d0887\"],[0.1111111111111111,\"#46039f\"],[0.2222222222222222,\"#7201a8\"],[0.3333333333333333,\"#9c179e\"],[0.4444444444444444,\"#bd3786\"],[0.5555555555555556,\"#d8576b\"],[0.6666666666666666,\"#ed7953\"],[0.7777777777777778,\"#fb9f3a\"],[0.8888888888888888,\"#fdca26\"],[1.0,\"#f0f921\"]],\"sequentialminus\":[[0.0,\"#0d0887\"],[0.1111111111111111,\"#46039f\"],[0.2222222222222222,\"#7201a8\"],[0.3333333333333333,\"#9c179e\"],[0.4444444444444444,\"#bd3786\"],[0.5555555555555556,\"#d8576b\"],[0.6666666666666666,\"#ed7953\"],[0.7777777777777778,\"#fb9f3a\"],[0.8888888888888888,\"#fdca26\"],[1.0,\"#f0f921\"]],\"diverging\":[[0,\"#8e0152\"],[0.1,\"#c51b7d\"],[0.2,\"#de77ae\"],[0.3,\"#f1b6da\"],[0.4,\"#fde0ef\"],[0.5,\"#f7f7f7\"],[0.6,\"#e6f5d0\"],[0.7,\"#b8e186\"],[0.8,\"#7fbc41\"],[0.9,\"#4d9221\"],[1,\"#276419\"]]},\"xaxis\":{\"gridcolor\":\"white\",\"linecolor\":\"white\",\"ticks\":\"\",\"title\":{\"standoff\":15},\"zerolinecolor\":\"white\",\"automargin\":true,\"zerolinewidth\":2},\"yaxis\":{\"gridcolor\":\"white\",\"linecolor\":\"white\",\"ticks\":\"\",\"title\":{\"standoff\":15},\"zerolinecolor\":\"white\",\"automargin\":true,\"zerolinewidth\":2},\"scene\":{\"xaxis\":{\"backgroundcolor\":\"#E5ECF6\",\"gridcolor\":\"white\",\"linecolor\":\"white\",\"showbackground\":true,\"ticks\":\"\",\"zerolinecolor\":\"white\",\"gridwidth\":2},\"yaxis\":{\"backgroundcolor\":\"#E5ECF6\",\"gridcolor\":\"white\",\"linecolor\":\"white\",\"showbackground\":true,\"ticks\":\"\",\"zerolinecolor\":\"white\",\"gridwidth\":2},\"zaxis\":{\"backgroundcolor\":\"#E5ECF6\",\"gridcolor\":\"white\",\"linecolor\":\"white\",\"showbackground\":true,\"ticks\":\"\",\"zerolinecolor\":\"white\",\"gridwidth\":2}},\"shapedefaults\":{\"line\":{\"color\":\"#2a3f5f\"}},\"annotationdefaults\":{\"arrowcolor\":\"#2a3f5f\",\"arrowhead\":0,\"arrowwidth\":1},\"geo\":{\"bgcolor\":\"white\",\"landcolor\":\"#E5ECF6\",\"subunitcolor\":\"white\",\"showland\":true,\"showlakes\":true,\"lakecolor\":\"white\"},\"title\":{\"x\":0.05},\"mapbox\":{\"style\":\"light\"}}},\"xaxis\":{\"anchor\":\"y\",\"domain\":[0.0,1.0],\"title\":{\"text\":\"\"}},\"yaxis\":{\"anchor\":\"x\",\"domain\":[0.0,1.0],\"title\":{\"text\":\"Tons of annual emissions per 100k of population\"}},\"legend\":{\"title\":{\"text\":\"State\"},\"tracegroupgap\":0},\"margin\":{\"t\":60},\"font\":{\"color\":\"white\"},\"plot_bgcolor\":\"black\",\"paper_bgcolor\":\"black\",\"title\":{\"text\":\"Large Particulate Matter (< 10um) emisions per 100k of population\"}},                        {\"responsive\": true}                    ).then(function(){\n",
       "                            \n",
       "var gd = document.getElementById('44f37cd0-c837-4bf4-94fd-50527ba7b617');\n",
       "var x = new MutationObserver(function (mutations, observer) {{\n",
       "        var display = window.getComputedStyle(gd).display;\n",
       "        if (!display || display === 'none') {{\n",
       "            console.log([gd, 'removed!']);\n",
       "            Plotly.purge(gd);\n",
       "            observer.disconnect();\n",
       "        }}\n",
       "}});\n",
       "\n",
       "// Listen for the removal of the full notebook cells\n",
       "var notebookContainer = gd.closest('#notebook-container');\n",
       "if (notebookContainer) {{\n",
       "    x.observe(notebookContainer, {childList: true});\n",
       "}}\n",
       "\n",
       "// Listen for the clearing of the current output cell\n",
       "var outputEl = gd.closest('.output');\n",
       "if (outputEl) {{\n",
       "    x.observe(outputEl, {childList: true});\n",
       "}}\n",
       "\n",
       "                        })                };                });            </script>        </div>"
      ]
     },
     "metadata": {},
     "output_type": "display_data"
    }
   ],
   "source": [
    "PM10 = nei_by_pollutant.loc[(nei_by_pollutant[\"Pollutant\"] == 'PM10 Primary (Filt + Cond)')]\n",
    "\n",
    "PM10_plot = px.line(\n",
    "    PM10,\n",
    "    x = \"Year\",\n",
    "    y = \"Emmisions_per_100k\",\n",
    "    hover_name = \"CAV_adoption\",\n",
    "    color = \"State\",\n",
    "    labels = {\n",
    "        \"Year\":'',\n",
    "        \"Emmisions_per_100k\": \"Tons of annual emissions per 100k of population\"\n",
    "    }\n",
    ")\n",
    "\n",
    "PM10_plot.update_layout(\n",
    "#     yaxis_range=[0,30],\n",
    "    font_color=\"white\",\n",
    "    legend=dict(\n",
    "    title=\"State\"\n",
    "))\n",
    "\n",
    "PM10_plot.update_layout({\n",
    "    'plot_bgcolor':'black',\n",
    "    'paper_bgcolor':'black',\n",
    "    'title':'Large Particulate Matter (< 10um) emisions per 100k of population'\n",
    "})\n",
    "\n",
    "PM10_plot.show()"
   ]
  },
  {
   "cell_type": "code",
   "execution_count": 37,
   "id": "89e50f48",
   "metadata": {},
   "outputs": [
    {
     "data": {
      "application/vnd.plotly.v1+json": {
       "config": {
        "plotlyServerURL": "https://plot.ly"
       },
       "data": [
        {
         "hovertemplate": "<b>%{hovertext}</b><br><br>State=VT<br>=%{x}<br>Tons of annual emissions per 100k of population=%{y}<extra></extra>",
         "hovertext": [
          "High CAV adoption",
          "High CAV adoption",
          "High CAV adoption",
          "High CAV adoption",
          "High CAV adoption"
         ],
         "legendgroup": "VT",
         "line": {
          "color": "#636efa",
          "dash": "solid"
         },
         "marker": {
          "symbol": "circle"
         },
         "mode": "lines",
         "name": "VT",
         "orientation": "v",
         "showlegend": true,
         "type": "scatter",
         "x": [
          2008,
          2011,
          2014,
          2017,
          2020
         ],
         "xaxis": "x",
         "y": [
          76.43855713,
          64.5460886,
          50.45260245,
          29.47777821,
          16.36451679
         ],
         "yaxis": "y"
        },
        {
         "hovertemplate": "<b>%{hovertext}</b><br><br>State=MA<br>=%{x}<br>Tons of annual emissions per 100k of population=%{y}<extra></extra>",
         "hovertext": [
          "High CAV adoption",
          "High CAV adoption",
          "High CAV adoption",
          "High CAV adoption",
          "High CAV adoption"
         ],
         "legendgroup": "MA",
         "line": {
          "color": "#EF553B",
          "dash": "solid"
         },
         "marker": {
          "symbol": "circle"
         },
         "mode": "lines",
         "name": "MA",
         "orientation": "v",
         "showlegend": true,
         "type": "scatter",
         "x": [
          2008,
          2011,
          2014,
          2017,
          2020
         ],
         "xaxis": "x",
         "y": [
          60.92187406,
          39.54750571,
          25.51762763,
          26.0171162,
          15.01400433
         ],
         "yaxis": "y"
        },
        {
         "hovertemplate": "<b>%{hovertext}</b><br><br>State=MD<br>=%{x}<br>Tons of annual emissions per 100k of population=%{y}<extra></extra>",
         "hovertext": [
          "High CAV adoption",
          "High CAV adoption",
          "High CAV adoption",
          "High CAV adoption",
          "High CAV adoption"
         ],
         "legendgroup": "MD",
         "line": {
          "color": "#00cc96",
          "dash": "solid"
         },
         "marker": {
          "symbol": "circle"
         },
         "mode": "lines",
         "name": "MD",
         "orientation": "v",
         "showlegend": true,
         "type": "scatter",
         "x": [
          2008,
          2011,
          2014,
          2017,
          2020
         ],
         "xaxis": "x",
         "y": [
          63.65577687,
          48.12776566,
          46.03465178,
          26.659563,
          18.27408563
         ],
         "yaxis": "y"
        },
        {
         "hovertemplate": "<b>%{hovertext}</b><br><br>State=VA<br>=%{x}<br>Tons of annual emissions per 100k of population=%{y}<extra></extra>",
         "hovertext": [
          "High CAV adoption",
          "High CAV adoption",
          "High CAV adoption",
          "High CAV adoption",
          "High CAV adoption"
         ],
         "legendgroup": "VA",
         "line": {
          "color": "#ab63fa",
          "dash": "solid"
         },
         "marker": {
          "symbol": "circle"
         },
         "mode": "lines",
         "name": "VA",
         "orientation": "v",
         "showlegend": true,
         "type": "scatter",
         "x": [
          2008,
          2011,
          2014,
          2017,
          2020
         ],
         "xaxis": "x",
         "y": [
          70.88636474,
          54.24357574,
          48.36211035,
          30.82309009,
          22.57516831
         ],
         "yaxis": "y"
        },
        {
         "hovertemplate": "<b>%{hovertext}</b><br><br>State=WV<br>=%{x}<br>Tons of annual emissions per 100k of population=%{y}<extra></extra>",
         "hovertext": [
          "Low CAV adoption",
          "Low CAV adoption",
          "Low CAV adoption",
          "Low CAV adoption",
          "Low CAV adoption"
         ],
         "legendgroup": "WV",
         "line": {
          "color": "#FFA15A",
          "dash": "solid"
         },
         "marker": {
          "symbol": "circle"
         },
         "mode": "lines",
         "name": "WV",
         "orientation": "v",
         "showlegend": true,
         "type": "scatter",
         "x": [
          2008,
          2011,
          2014,
          2017,
          2020
         ],
         "xaxis": "x",
         "y": [
          85.05653713,
          69.33454802,
          72.23434678,
          38.68306047,
          29.13391738
         ],
         "yaxis": "y"
        },
        {
         "hovertemplate": "<b>%{hovertext}</b><br><br>State=AL<br>=%{x}<br>Tons of annual emissions per 100k of population=%{y}<extra></extra>",
         "hovertext": [
          "Low CAV adoption",
          "Low CAV adoption",
          "Low CAV adoption",
          "Low CAV adoption",
          "Low CAV adoption"
         ],
         "legendgroup": "AL",
         "line": {
          "color": "#19d3f3",
          "dash": "solid"
         },
         "marker": {
          "symbol": "circle"
         },
         "mode": "lines",
         "name": "AL",
         "orientation": "v",
         "showlegend": true,
         "type": "scatter",
         "x": [
          2008,
          2011,
          2014,
          2017,
          2020
         ],
         "xaxis": "x",
         "y": [
          82.25739704,
          97.61272799,
          80.90321758,
          54.37538676,
          31.41262307
         ],
         "yaxis": "y"
        },
        {
         "hovertemplate": "<b>%{hovertext}</b><br><br>State=KY<br>=%{x}<br>Tons of annual emissions per 100k of population=%{y}<extra></extra>",
         "hovertext": [
          "Low CAV adoption",
          "Low CAV adoption",
          "Low CAV adoption",
          "Low CAV adoption",
          "Low CAV adoption"
         ],
         "legendgroup": "KY",
         "line": {
          "color": "#FF6692",
          "dash": "solid"
         },
         "marker": {
          "symbol": "circle"
         },
         "mode": "lines",
         "name": "KY",
         "orientation": "v",
         "showlegend": true,
         "type": "scatter",
         "x": [
          2008,
          2011,
          2014,
          2017,
          2020
         ],
         "xaxis": "x",
         "y": [
          99.79998805,
          77.5673664,
          75.20782397,
          50.73647883,
          30.38763702
         ],
         "yaxis": "y"
        },
        {
         "hovertemplate": "<b>%{hovertext}</b><br><br>State=MI<br>=%{x}<br>Tons of annual emissions per 100k of population=%{y}<extra></extra>",
         "hovertext": [
          "Low CAV adoption",
          "Low CAV adoption",
          "Low CAV adoption",
          "Low CAV adoption",
          "Low CAV adoption"
         ],
         "legendgroup": "MI",
         "line": {
          "color": "#B6E880",
          "dash": "solid"
         },
         "marker": {
          "symbol": "circle"
         },
         "mode": "lines",
         "name": "MI",
         "orientation": "v",
         "showlegend": true,
         "type": "scatter",
         "x": [
          2008,
          2011,
          2014,
          2017,
          2020
         ],
         "xaxis": "x",
         "y": [
          109.5522313,
          63.67715846,
          44.93383591,
          35.41653238,
          18.99588821
         ],
         "yaxis": "y"
        },
        {
         "hovertemplate": "<b>%{hovertext}</b><br><br>State=LA<br>=%{x}<br>Tons of annual emissions per 100k of population=%{y}<extra></extra>",
         "hovertext": [
          "Low CAV adoption",
          "Low CAV adoption",
          "Low CAV adoption",
          "Low CAV adoption",
          "Low CAV adoption"
         ],
         "legendgroup": "LA",
         "line": {
          "color": "#FF97FF",
          "dash": "solid"
         },
         "marker": {
          "symbol": "circle"
         },
         "mode": "lines",
         "name": "LA",
         "orientation": "v",
         "showlegend": true,
         "type": "scatter",
         "x": [
          2008,
          2011,
          2014,
          2017,
          2020
         ],
         "xaxis": "x",
         "y": [
          77.14973981,
          65.20062458,
          71.1810959,
          48.95290485,
          25.77550715
         ],
         "yaxis": "y"
        },
        {
         "hovertemplate": "<b>%{hovertext}</b><br><br>State=AR<br>=%{x}<br>Tons of annual emissions per 100k of population=%{y}<extra></extra>",
         "hovertext": [
          "Low CAV adoption",
          "Low CAV adoption",
          "Low CAV adoption",
          "Low CAV adoption",
          "Low CAV adoption"
         ],
         "legendgroup": "AR",
         "line": {
          "color": "#FECB52",
          "dash": "solid"
         },
         "marker": {
          "symbol": "circle"
         },
         "mode": "lines",
         "name": "AR",
         "orientation": "v",
         "showlegend": true,
         "type": "scatter",
         "x": [
          2008,
          2011,
          2014,
          2017,
          2020
         ],
         "xaxis": "x",
         "y": [
          98.0229725,
          101.3621222,
          82.06782601,
          53.25042156,
          32.49911393
         ],
         "yaxis": "y"
        },
        {
         "hovertemplate": "<b>%{hovertext}</b><br><br>State=OK<br>=%{x}<br>Tons of annual emissions per 100k of population=%{y}<extra></extra>",
         "hovertext": [
          "Low CAV adoption",
          "Low CAV adoption",
          "Low CAV adoption",
          "Low CAV adoption",
          "Low CAV adoption"
         ],
         "legendgroup": "OK",
         "line": {
          "color": "#636efa",
          "dash": "solid"
         },
         "marker": {
          "symbol": "circle"
         },
         "mode": "lines",
         "name": "OK",
         "orientation": "v",
         "showlegend": true,
         "type": "scatter",
         "x": [
          2008,
          2011,
          2014,
          2017,
          2020
         ],
         "xaxis": "x",
         "y": [
          118.6353091,
          93.82897534,
          73.06764,
          55.55208033,
          35.96135785
         ],
         "yaxis": "y"
        },
        {
         "hovertemplate": "<b>%{hovertext}</b><br><br>State=CA<br>=%{x}<br>Tons of annual emissions per 100k of population=%{y}<extra></extra>",
         "hovertext": [
          "High CAV adoption",
          "High CAV adoption",
          "High CAV adoption",
          "High CAV adoption",
          "High CAV adoption"
         ],
         "legendgroup": "CA",
         "line": {
          "color": "#EF553B",
          "dash": "solid"
         },
         "marker": {
          "symbol": "circle"
         },
         "mode": "lines",
         "name": "CA",
         "orientation": "v",
         "showlegend": true,
         "type": "scatter",
         "x": [
          2008,
          2011,
          2014,
          2017,
          2020
         ],
         "xaxis": "x",
         "y": [
          57.87109599,
          44.0234543,
          28.69673055,
          27.17600992,
          24.10870356
         ],
         "yaxis": "y"
        },
        {
         "hovertemplate": "<b>%{hovertext}</b><br><br>State=WA<br>=%{x}<br>Tons of annual emissions per 100k of population=%{y}<extra></extra>",
         "hovertext": [
          "High CAV adoption",
          "High CAV adoption",
          "High CAV adoption",
          "High CAV adoption",
          "High CAV adoption"
         ],
         "legendgroup": "WA",
         "line": {
          "color": "#00cc96",
          "dash": "solid"
         },
         "marker": {
          "symbol": "circle"
         },
         "mode": "lines",
         "name": "WA",
         "orientation": "v",
         "showlegend": true,
         "type": "scatter",
         "x": [
          2008,
          2011,
          2014,
          2017,
          2020
         ],
         "xaxis": "x",
         "y": [
          107.4604301,
          78.94127594,
          53.52562305,
          34.63565348,
          23.38684726
         ],
         "yaxis": "y"
        },
        {
         "hovertemplate": "<b>%{hovertext}</b><br><br>State=OR<br>=%{x}<br>Tons of annual emissions per 100k of population=%{y}<extra></extra>",
         "hovertext": [
          "High CAV adoption",
          "High CAV adoption",
          "High CAV adoption",
          "High CAV adoption",
          "High CAV adoption"
         ],
         "legendgroup": "OR",
         "line": {
          "color": "#ab63fa",
          "dash": "solid"
         },
         "marker": {
          "symbol": "circle"
         },
         "mode": "lines",
         "name": "OR",
         "orientation": "v",
         "showlegend": true,
         "type": "scatter",
         "x": [
          2008,
          2011,
          2014,
          2017,
          2020
         ],
         "xaxis": "x",
         "y": [
          91.98219799,
          63.01735147,
          50.44613147,
          52.34653661,
          35.09889921
         ],
         "yaxis": "y"
        },
        {
         "hovertemplate": "<b>%{hovertext}</b><br><br>State=HI<br>=%{x}<br>Tons of annual emissions per 100k of population=%{y}<extra></extra>",
         "hovertext": [
          "High CAV adoption",
          "High CAV adoption",
          "High CAV adoption",
          "High CAV adoption",
          "High CAV adoption"
         ],
         "legendgroup": "HI",
         "line": {
          "color": "#FFA15A",
          "dash": "solid"
         },
         "marker": {
          "symbol": "circle"
         },
         "mode": "lines",
         "name": "HI",
         "orientation": "v",
         "showlegend": true,
         "type": "scatter",
         "x": [
          2008,
          2011,
          2014,
          2017,
          2020
         ],
         "xaxis": "x",
         "y": [
          61.63416792,
          20.04935471,
          21.21827951,
          21.6023287,
          15.454249
         ],
         "yaxis": "y"
        },
        {
         "hovertemplate": "<b>%{hovertext}</b><br><br>State=CO<br>=%{x}<br>Tons of annual emissions per 100k of population=%{y}<extra></extra>",
         "hovertext": [
          "High CAV adoption",
          "High CAV adoption",
          "High CAV adoption",
          "High CAV adoption",
          "High CAV adoption"
         ],
         "legendgroup": "CO",
         "line": {
          "color": "#19d3f3",
          "dash": "solid"
         },
         "marker": {
          "symbol": "circle"
         },
         "mode": "lines",
         "name": "CO",
         "orientation": "v",
         "showlegend": true,
         "type": "scatter",
         "x": [
          2008,
          2011,
          2014,
          2017,
          2020
         ],
         "xaxis": "x",
         "y": [
          75.87826305,
          61.94898644,
          53.58517573,
          34.72572857,
          23.80112865
         ],
         "yaxis": "y"
        },
        {
         "hovertemplate": "<b>%{hovertext}</b><br><br>State=NV<br>=%{x}<br>Tons of annual emissions per 100k of population=%{y}<extra></extra>",
         "hovertext": [
          "High CAV adoption",
          "High CAV adoption",
          "High CAV adoption",
          "High CAV adoption",
          "High CAV adoption"
         ],
         "legendgroup": "NV",
         "line": {
          "color": "#FF6692",
          "dash": "solid"
         },
         "marker": {
          "symbol": "circle"
         },
         "mode": "lines",
         "name": "NV",
         "orientation": "v",
         "showlegend": true,
         "type": "scatter",
         "x": [
          2008,
          2011,
          2014,
          2017,
          2020
         ],
         "xaxis": "x",
         "y": [
          46.04071368,
          59.91055755,
          43.62185233,
          27.69891435,
          22.12802475
         ],
         "yaxis": "y"
        },
        {
         "hovertemplate": "<b>%{hovertext}</b><br><br>State=ND<br>=%{x}<br>Tons of annual emissions per 100k of population=%{y}<extra></extra>",
         "hovertext": [
          "Low CAV adoption",
          "Low CAV adoption",
          "Low CAV adoption",
          "Low CAV adoption",
          "Low CAV adoption"
         ],
         "legendgroup": "ND",
         "line": {
          "color": "#B6E880",
          "dash": "solid"
         },
         "marker": {
          "symbol": "circle"
         },
         "mode": "lines",
         "name": "ND",
         "orientation": "v",
         "showlegend": true,
         "type": "scatter",
         "x": [
          2008,
          2011,
          2014,
          2017,
          2020
         ],
         "xaxis": "x",
         "y": [
          135.3390896,
          137.3386158,
          197.0391624,
          81.02205362,
          50.26191298
         ],
         "yaxis": "y"
        },
        {
         "hovertemplate": "<b>%{hovertext}</b><br><br>State=WY<br>=%{x}<br>Tons of annual emissions per 100k of population=%{y}<extra></extra>",
         "hovertext": [
          "Low CAV adoption",
          "Low CAV adoption",
          "Low CAV adoption",
          "Low CAV adoption",
          "Low CAV adoption"
         ],
         "legendgroup": "WY",
         "line": {
          "color": "#FF97FF",
          "dash": "solid"
         },
         "marker": {
          "symbol": "circle"
         },
         "mode": "lines",
         "name": "WY",
         "orientation": "v",
         "showlegend": true,
         "type": "scatter",
         "x": [
          2008,
          2011,
          2014,
          2017,
          2020
         ],
         "xaxis": "x",
         "y": [
          201.5357646,
          195.1537254,
          167.9741782,
          103.3388584,
          79.91933499
         ],
         "yaxis": "y"
        },
        {
         "hovertemplate": "<b>%{hovertext}</b><br><br>State=SD<br>=%{x}<br>Tons of annual emissions per 100k of population=%{y}<extra></extra>",
         "hovertext": [
          "Low CAV adoption",
          "Low CAV adoption",
          "Low CAV adoption",
          "Low CAV adoption",
          "Low CAV adoption"
         ],
         "legendgroup": "SD",
         "line": {
          "color": "#FECB52",
          "dash": "solid"
         },
         "marker": {
          "symbol": "circle"
         },
         "mode": "lines",
         "name": "SD",
         "orientation": "v",
         "showlegend": true,
         "type": "scatter",
         "x": [
          2008,
          2011,
          2014,
          2017,
          2020
         ],
         "xaxis": "x",
         "y": [
          120.6613479,
          99.4179639,
          113.3460069,
          61.44205291,
          39.20050802
         ],
         "yaxis": "y"
        }
       ],
       "layout": {
        "font": {
         "color": "white"
        },
        "legend": {
         "title": {
          "text": "State"
         },
         "tracegroupgap": 0
        },
        "margin": {
         "t": 60
        },
        "paper_bgcolor": "black",
        "plot_bgcolor": "black",
        "template": {
         "data": {
          "bar": [
           {
            "error_x": {
             "color": "#2a3f5f"
            },
            "error_y": {
             "color": "#2a3f5f"
            },
            "marker": {
             "line": {
              "color": "#E5ECF6",
              "width": 0.5
             },
             "pattern": {
              "fillmode": "overlay",
              "size": 10,
              "solidity": 0.2
             }
            },
            "type": "bar"
           }
          ],
          "barpolar": [
           {
            "marker": {
             "line": {
              "color": "#E5ECF6",
              "width": 0.5
             },
             "pattern": {
              "fillmode": "overlay",
              "size": 10,
              "solidity": 0.2
             }
            },
            "type": "barpolar"
           }
          ],
          "carpet": [
           {
            "aaxis": {
             "endlinecolor": "#2a3f5f",
             "gridcolor": "white",
             "linecolor": "white",
             "minorgridcolor": "white",
             "startlinecolor": "#2a3f5f"
            },
            "baxis": {
             "endlinecolor": "#2a3f5f",
             "gridcolor": "white",
             "linecolor": "white",
             "minorgridcolor": "white",
             "startlinecolor": "#2a3f5f"
            },
            "type": "carpet"
           }
          ],
          "choropleth": [
           {
            "colorbar": {
             "outlinewidth": 0,
             "ticks": ""
            },
            "type": "choropleth"
           }
          ],
          "contour": [
           {
            "colorbar": {
             "outlinewidth": 0,
             "ticks": ""
            },
            "colorscale": [
             [
              0,
              "#0d0887"
             ],
             [
              0.1111111111111111,
              "#46039f"
             ],
             [
              0.2222222222222222,
              "#7201a8"
             ],
             [
              0.3333333333333333,
              "#9c179e"
             ],
             [
              0.4444444444444444,
              "#bd3786"
             ],
             [
              0.5555555555555556,
              "#d8576b"
             ],
             [
              0.6666666666666666,
              "#ed7953"
             ],
             [
              0.7777777777777778,
              "#fb9f3a"
             ],
             [
              0.8888888888888888,
              "#fdca26"
             ],
             [
              1,
              "#f0f921"
             ]
            ],
            "type": "contour"
           }
          ],
          "contourcarpet": [
           {
            "colorbar": {
             "outlinewidth": 0,
             "ticks": ""
            },
            "type": "contourcarpet"
           }
          ],
          "heatmap": [
           {
            "colorbar": {
             "outlinewidth": 0,
             "ticks": ""
            },
            "colorscale": [
             [
              0,
              "#0d0887"
             ],
             [
              0.1111111111111111,
              "#46039f"
             ],
             [
              0.2222222222222222,
              "#7201a8"
             ],
             [
              0.3333333333333333,
              "#9c179e"
             ],
             [
              0.4444444444444444,
              "#bd3786"
             ],
             [
              0.5555555555555556,
              "#d8576b"
             ],
             [
              0.6666666666666666,
              "#ed7953"
             ],
             [
              0.7777777777777778,
              "#fb9f3a"
             ],
             [
              0.8888888888888888,
              "#fdca26"
             ],
             [
              1,
              "#f0f921"
             ]
            ],
            "type": "heatmap"
           }
          ],
          "heatmapgl": [
           {
            "colorbar": {
             "outlinewidth": 0,
             "ticks": ""
            },
            "colorscale": [
             [
              0,
              "#0d0887"
             ],
             [
              0.1111111111111111,
              "#46039f"
             ],
             [
              0.2222222222222222,
              "#7201a8"
             ],
             [
              0.3333333333333333,
              "#9c179e"
             ],
             [
              0.4444444444444444,
              "#bd3786"
             ],
             [
              0.5555555555555556,
              "#d8576b"
             ],
             [
              0.6666666666666666,
              "#ed7953"
             ],
             [
              0.7777777777777778,
              "#fb9f3a"
             ],
             [
              0.8888888888888888,
              "#fdca26"
             ],
             [
              1,
              "#f0f921"
             ]
            ],
            "type": "heatmapgl"
           }
          ],
          "histogram": [
           {
            "marker": {
             "pattern": {
              "fillmode": "overlay",
              "size": 10,
              "solidity": 0.2
             }
            },
            "type": "histogram"
           }
          ],
          "histogram2d": [
           {
            "colorbar": {
             "outlinewidth": 0,
             "ticks": ""
            },
            "colorscale": [
             [
              0,
              "#0d0887"
             ],
             [
              0.1111111111111111,
              "#46039f"
             ],
             [
              0.2222222222222222,
              "#7201a8"
             ],
             [
              0.3333333333333333,
              "#9c179e"
             ],
             [
              0.4444444444444444,
              "#bd3786"
             ],
             [
              0.5555555555555556,
              "#d8576b"
             ],
             [
              0.6666666666666666,
              "#ed7953"
             ],
             [
              0.7777777777777778,
              "#fb9f3a"
             ],
             [
              0.8888888888888888,
              "#fdca26"
             ],
             [
              1,
              "#f0f921"
             ]
            ],
            "type": "histogram2d"
           }
          ],
          "histogram2dcontour": [
           {
            "colorbar": {
             "outlinewidth": 0,
             "ticks": ""
            },
            "colorscale": [
             [
              0,
              "#0d0887"
             ],
             [
              0.1111111111111111,
              "#46039f"
             ],
             [
              0.2222222222222222,
              "#7201a8"
             ],
             [
              0.3333333333333333,
              "#9c179e"
             ],
             [
              0.4444444444444444,
              "#bd3786"
             ],
             [
              0.5555555555555556,
              "#d8576b"
             ],
             [
              0.6666666666666666,
              "#ed7953"
             ],
             [
              0.7777777777777778,
              "#fb9f3a"
             ],
             [
              0.8888888888888888,
              "#fdca26"
             ],
             [
              1,
              "#f0f921"
             ]
            ],
            "type": "histogram2dcontour"
           }
          ],
          "mesh3d": [
           {
            "colorbar": {
             "outlinewidth": 0,
             "ticks": ""
            },
            "type": "mesh3d"
           }
          ],
          "parcoords": [
           {
            "line": {
             "colorbar": {
              "outlinewidth": 0,
              "ticks": ""
             }
            },
            "type": "parcoords"
           }
          ],
          "pie": [
           {
            "automargin": true,
            "type": "pie"
           }
          ],
          "scatter": [
           {
            "fillpattern": {
             "fillmode": "overlay",
             "size": 10,
             "solidity": 0.2
            },
            "type": "scatter"
           }
          ],
          "scatter3d": [
           {
            "line": {
             "colorbar": {
              "outlinewidth": 0,
              "ticks": ""
             }
            },
            "marker": {
             "colorbar": {
              "outlinewidth": 0,
              "ticks": ""
             }
            },
            "type": "scatter3d"
           }
          ],
          "scattercarpet": [
           {
            "marker": {
             "colorbar": {
              "outlinewidth": 0,
              "ticks": ""
             }
            },
            "type": "scattercarpet"
           }
          ],
          "scattergeo": [
           {
            "marker": {
             "colorbar": {
              "outlinewidth": 0,
              "ticks": ""
             }
            },
            "type": "scattergeo"
           }
          ],
          "scattergl": [
           {
            "marker": {
             "colorbar": {
              "outlinewidth": 0,
              "ticks": ""
             }
            },
            "type": "scattergl"
           }
          ],
          "scattermapbox": [
           {
            "marker": {
             "colorbar": {
              "outlinewidth": 0,
              "ticks": ""
             }
            },
            "type": "scattermapbox"
           }
          ],
          "scatterpolar": [
           {
            "marker": {
             "colorbar": {
              "outlinewidth": 0,
              "ticks": ""
             }
            },
            "type": "scatterpolar"
           }
          ],
          "scatterpolargl": [
           {
            "marker": {
             "colorbar": {
              "outlinewidth": 0,
              "ticks": ""
             }
            },
            "type": "scatterpolargl"
           }
          ],
          "scatterternary": [
           {
            "marker": {
             "colorbar": {
              "outlinewidth": 0,
              "ticks": ""
             }
            },
            "type": "scatterternary"
           }
          ],
          "surface": [
           {
            "colorbar": {
             "outlinewidth": 0,
             "ticks": ""
            },
            "colorscale": [
             [
              0,
              "#0d0887"
             ],
             [
              0.1111111111111111,
              "#46039f"
             ],
             [
              0.2222222222222222,
              "#7201a8"
             ],
             [
              0.3333333333333333,
              "#9c179e"
             ],
             [
              0.4444444444444444,
              "#bd3786"
             ],
             [
              0.5555555555555556,
              "#d8576b"
             ],
             [
              0.6666666666666666,
              "#ed7953"
             ],
             [
              0.7777777777777778,
              "#fb9f3a"
             ],
             [
              0.8888888888888888,
              "#fdca26"
             ],
             [
              1,
              "#f0f921"
             ]
            ],
            "type": "surface"
           }
          ],
          "table": [
           {
            "cells": {
             "fill": {
              "color": "#EBF0F8"
             },
             "line": {
              "color": "white"
             }
            },
            "header": {
             "fill": {
              "color": "#C8D4E3"
             },
             "line": {
              "color": "white"
             }
            },
            "type": "table"
           }
          ]
         },
         "layout": {
          "annotationdefaults": {
           "arrowcolor": "#2a3f5f",
           "arrowhead": 0,
           "arrowwidth": 1
          },
          "autotypenumbers": "strict",
          "coloraxis": {
           "colorbar": {
            "outlinewidth": 0,
            "ticks": ""
           }
          },
          "colorscale": {
           "diverging": [
            [
             0,
             "#8e0152"
            ],
            [
             0.1,
             "#c51b7d"
            ],
            [
             0.2,
             "#de77ae"
            ],
            [
             0.3,
             "#f1b6da"
            ],
            [
             0.4,
             "#fde0ef"
            ],
            [
             0.5,
             "#f7f7f7"
            ],
            [
             0.6,
             "#e6f5d0"
            ],
            [
             0.7,
             "#b8e186"
            ],
            [
             0.8,
             "#7fbc41"
            ],
            [
             0.9,
             "#4d9221"
            ],
            [
             1,
             "#276419"
            ]
           ],
           "sequential": [
            [
             0,
             "#0d0887"
            ],
            [
             0.1111111111111111,
             "#46039f"
            ],
            [
             0.2222222222222222,
             "#7201a8"
            ],
            [
             0.3333333333333333,
             "#9c179e"
            ],
            [
             0.4444444444444444,
             "#bd3786"
            ],
            [
             0.5555555555555556,
             "#d8576b"
            ],
            [
             0.6666666666666666,
             "#ed7953"
            ],
            [
             0.7777777777777778,
             "#fb9f3a"
            ],
            [
             0.8888888888888888,
             "#fdca26"
            ],
            [
             1,
             "#f0f921"
            ]
           ],
           "sequentialminus": [
            [
             0,
             "#0d0887"
            ],
            [
             0.1111111111111111,
             "#46039f"
            ],
            [
             0.2222222222222222,
             "#7201a8"
            ],
            [
             0.3333333333333333,
             "#9c179e"
            ],
            [
             0.4444444444444444,
             "#bd3786"
            ],
            [
             0.5555555555555556,
             "#d8576b"
            ],
            [
             0.6666666666666666,
             "#ed7953"
            ],
            [
             0.7777777777777778,
             "#fb9f3a"
            ],
            [
             0.8888888888888888,
             "#fdca26"
            ],
            [
             1,
             "#f0f921"
            ]
           ]
          },
          "colorway": [
           "#636efa",
           "#EF553B",
           "#00cc96",
           "#ab63fa",
           "#FFA15A",
           "#19d3f3",
           "#FF6692",
           "#B6E880",
           "#FF97FF",
           "#FECB52"
          ],
          "font": {
           "color": "#2a3f5f"
          },
          "geo": {
           "bgcolor": "white",
           "lakecolor": "white",
           "landcolor": "#E5ECF6",
           "showlakes": true,
           "showland": true,
           "subunitcolor": "white"
          },
          "hoverlabel": {
           "align": "left"
          },
          "hovermode": "closest",
          "mapbox": {
           "style": "light"
          },
          "paper_bgcolor": "white",
          "plot_bgcolor": "#E5ECF6",
          "polar": {
           "angularaxis": {
            "gridcolor": "white",
            "linecolor": "white",
            "ticks": ""
           },
           "bgcolor": "#E5ECF6",
           "radialaxis": {
            "gridcolor": "white",
            "linecolor": "white",
            "ticks": ""
           }
          },
          "scene": {
           "xaxis": {
            "backgroundcolor": "#E5ECF6",
            "gridcolor": "white",
            "gridwidth": 2,
            "linecolor": "white",
            "showbackground": true,
            "ticks": "",
            "zerolinecolor": "white"
           },
           "yaxis": {
            "backgroundcolor": "#E5ECF6",
            "gridcolor": "white",
            "gridwidth": 2,
            "linecolor": "white",
            "showbackground": true,
            "ticks": "",
            "zerolinecolor": "white"
           },
           "zaxis": {
            "backgroundcolor": "#E5ECF6",
            "gridcolor": "white",
            "gridwidth": 2,
            "linecolor": "white",
            "showbackground": true,
            "ticks": "",
            "zerolinecolor": "white"
           }
          },
          "shapedefaults": {
           "line": {
            "color": "#2a3f5f"
           }
          },
          "ternary": {
           "aaxis": {
            "gridcolor": "white",
            "linecolor": "white",
            "ticks": ""
           },
           "baxis": {
            "gridcolor": "white",
            "linecolor": "white",
            "ticks": ""
           },
           "bgcolor": "#E5ECF6",
           "caxis": {
            "gridcolor": "white",
            "linecolor": "white",
            "ticks": ""
           }
          },
          "title": {
           "x": 0.05
          },
          "xaxis": {
           "automargin": true,
           "gridcolor": "white",
           "linecolor": "white",
           "ticks": "",
           "title": {
            "standoff": 15
           },
           "zerolinecolor": "white",
           "zerolinewidth": 2
          },
          "yaxis": {
           "automargin": true,
           "gridcolor": "white",
           "linecolor": "white",
           "ticks": "",
           "title": {
            "standoff": 15
           },
           "zerolinecolor": "white",
           "zerolinewidth": 2
          }
         }
        },
        "title": {
         "text": "Fine Particulate Matter (< 2.5um) emisions per 100k of population"
        },
        "xaxis": {
         "anchor": "y",
         "domain": [
          0,
          1
         ],
         "title": {
          "text": ""
         }
        },
        "yaxis": {
         "anchor": "x",
         "domain": [
          0,
          1
         ],
         "title": {
          "text": "Tons of annual emissions per 100k of population"
         }
        }
       }
      },
      "text/html": [
       "<div>                            <div id=\"8ad23c92-8c68-4f2a-a38f-a67c3cd824fe\" class=\"plotly-graph-div\" style=\"height:525px; width:100%;\"></div>            <script type=\"text/javascript\">                require([\"plotly\"], function(Plotly) {                    window.PLOTLYENV=window.PLOTLYENV || {};                                    if (document.getElementById(\"8ad23c92-8c68-4f2a-a38f-a67c3cd824fe\")) {                    Plotly.newPlot(                        \"8ad23c92-8c68-4f2a-a38f-a67c3cd824fe\",                        [{\"hovertemplate\":\"<b>%{hovertext}</b><br><br>State=VT<br>=%{x}<br>Tons of annual emissions per 100k of population=%{y}<extra></extra>\",\"hovertext\":[\"High CAV adoption\",\"High CAV adoption\",\"High CAV adoption\",\"High CAV adoption\",\"High CAV adoption\"],\"legendgroup\":\"VT\",\"line\":{\"color\":\"#636efa\",\"dash\":\"solid\"},\"marker\":{\"symbol\":\"circle\"},\"mode\":\"lines\",\"name\":\"VT\",\"orientation\":\"v\",\"showlegend\":true,\"x\":[2008,2011,2014,2017,2020],\"xaxis\":\"x\",\"y\":[76.43855713,64.5460886,50.45260245,29.47777821,16.36451679],\"yaxis\":\"y\",\"type\":\"scatter\"},{\"hovertemplate\":\"<b>%{hovertext}</b><br><br>State=MA<br>=%{x}<br>Tons of annual emissions per 100k of population=%{y}<extra></extra>\",\"hovertext\":[\"High CAV adoption\",\"High CAV adoption\",\"High CAV adoption\",\"High CAV adoption\",\"High CAV adoption\"],\"legendgroup\":\"MA\",\"line\":{\"color\":\"#EF553B\",\"dash\":\"solid\"},\"marker\":{\"symbol\":\"circle\"},\"mode\":\"lines\",\"name\":\"MA\",\"orientation\":\"v\",\"showlegend\":true,\"x\":[2008,2011,2014,2017,2020],\"xaxis\":\"x\",\"y\":[60.92187406,39.54750571,25.51762763,26.0171162,15.01400433],\"yaxis\":\"y\",\"type\":\"scatter\"},{\"hovertemplate\":\"<b>%{hovertext}</b><br><br>State=MD<br>=%{x}<br>Tons of annual emissions per 100k of population=%{y}<extra></extra>\",\"hovertext\":[\"High CAV adoption\",\"High CAV adoption\",\"High CAV adoption\",\"High CAV adoption\",\"High CAV adoption\"],\"legendgroup\":\"MD\",\"line\":{\"color\":\"#00cc96\",\"dash\":\"solid\"},\"marker\":{\"symbol\":\"circle\"},\"mode\":\"lines\",\"name\":\"MD\",\"orientation\":\"v\",\"showlegend\":true,\"x\":[2008,2011,2014,2017,2020],\"xaxis\":\"x\",\"y\":[63.65577687,48.12776566,46.03465178,26.659563,18.27408563],\"yaxis\":\"y\",\"type\":\"scatter\"},{\"hovertemplate\":\"<b>%{hovertext}</b><br><br>State=VA<br>=%{x}<br>Tons of annual emissions per 100k of population=%{y}<extra></extra>\",\"hovertext\":[\"High CAV adoption\",\"High CAV adoption\",\"High CAV adoption\",\"High CAV adoption\",\"High CAV adoption\"],\"legendgroup\":\"VA\",\"line\":{\"color\":\"#ab63fa\",\"dash\":\"solid\"},\"marker\":{\"symbol\":\"circle\"},\"mode\":\"lines\",\"name\":\"VA\",\"orientation\":\"v\",\"showlegend\":true,\"x\":[2008,2011,2014,2017,2020],\"xaxis\":\"x\",\"y\":[70.88636474,54.24357574,48.36211035,30.82309009,22.57516831],\"yaxis\":\"y\",\"type\":\"scatter\"},{\"hovertemplate\":\"<b>%{hovertext}</b><br><br>State=WV<br>=%{x}<br>Tons of annual emissions per 100k of population=%{y}<extra></extra>\",\"hovertext\":[\"Low CAV adoption\",\"Low CAV adoption\",\"Low CAV adoption\",\"Low CAV adoption\",\"Low CAV adoption\"],\"legendgroup\":\"WV\",\"line\":{\"color\":\"#FFA15A\",\"dash\":\"solid\"},\"marker\":{\"symbol\":\"circle\"},\"mode\":\"lines\",\"name\":\"WV\",\"orientation\":\"v\",\"showlegend\":true,\"x\":[2008,2011,2014,2017,2020],\"xaxis\":\"x\",\"y\":[85.05653713,69.33454802,72.23434678,38.68306047,29.13391738],\"yaxis\":\"y\",\"type\":\"scatter\"},{\"hovertemplate\":\"<b>%{hovertext}</b><br><br>State=AL<br>=%{x}<br>Tons of annual emissions per 100k of population=%{y}<extra></extra>\",\"hovertext\":[\"Low CAV adoption\",\"Low CAV adoption\",\"Low CAV adoption\",\"Low CAV adoption\",\"Low CAV adoption\"],\"legendgroup\":\"AL\",\"line\":{\"color\":\"#19d3f3\",\"dash\":\"solid\"},\"marker\":{\"symbol\":\"circle\"},\"mode\":\"lines\",\"name\":\"AL\",\"orientation\":\"v\",\"showlegend\":true,\"x\":[2008,2011,2014,2017,2020],\"xaxis\":\"x\",\"y\":[82.25739704,97.61272799,80.90321758,54.37538676,31.41262307],\"yaxis\":\"y\",\"type\":\"scatter\"},{\"hovertemplate\":\"<b>%{hovertext}</b><br><br>State=KY<br>=%{x}<br>Tons of annual emissions per 100k of population=%{y}<extra></extra>\",\"hovertext\":[\"Low CAV adoption\",\"Low CAV adoption\",\"Low CAV adoption\",\"Low CAV adoption\",\"Low CAV adoption\"],\"legendgroup\":\"KY\",\"line\":{\"color\":\"#FF6692\",\"dash\":\"solid\"},\"marker\":{\"symbol\":\"circle\"},\"mode\":\"lines\",\"name\":\"KY\",\"orientation\":\"v\",\"showlegend\":true,\"x\":[2008,2011,2014,2017,2020],\"xaxis\":\"x\",\"y\":[99.79998805,77.5673664,75.20782397,50.73647883,30.38763702],\"yaxis\":\"y\",\"type\":\"scatter\"},{\"hovertemplate\":\"<b>%{hovertext}</b><br><br>State=MI<br>=%{x}<br>Tons of annual emissions per 100k of population=%{y}<extra></extra>\",\"hovertext\":[\"Low CAV adoption\",\"Low CAV adoption\",\"Low CAV adoption\",\"Low CAV adoption\",\"Low CAV adoption\"],\"legendgroup\":\"MI\",\"line\":{\"color\":\"#B6E880\",\"dash\":\"solid\"},\"marker\":{\"symbol\":\"circle\"},\"mode\":\"lines\",\"name\":\"MI\",\"orientation\":\"v\",\"showlegend\":true,\"x\":[2008,2011,2014,2017,2020],\"xaxis\":\"x\",\"y\":[109.5522313,63.67715846,44.93383591,35.41653238,18.99588821],\"yaxis\":\"y\",\"type\":\"scatter\"},{\"hovertemplate\":\"<b>%{hovertext}</b><br><br>State=LA<br>=%{x}<br>Tons of annual emissions per 100k of population=%{y}<extra></extra>\",\"hovertext\":[\"Low CAV adoption\",\"Low CAV adoption\",\"Low CAV adoption\",\"Low CAV adoption\",\"Low CAV adoption\"],\"legendgroup\":\"LA\",\"line\":{\"color\":\"#FF97FF\",\"dash\":\"solid\"},\"marker\":{\"symbol\":\"circle\"},\"mode\":\"lines\",\"name\":\"LA\",\"orientation\":\"v\",\"showlegend\":true,\"x\":[2008,2011,2014,2017,2020],\"xaxis\":\"x\",\"y\":[77.14973981,65.20062458,71.1810959,48.95290485,25.77550715],\"yaxis\":\"y\",\"type\":\"scatter\"},{\"hovertemplate\":\"<b>%{hovertext}</b><br><br>State=AR<br>=%{x}<br>Tons of annual emissions per 100k of population=%{y}<extra></extra>\",\"hovertext\":[\"Low CAV adoption\",\"Low CAV adoption\",\"Low CAV adoption\",\"Low CAV adoption\",\"Low CAV adoption\"],\"legendgroup\":\"AR\",\"line\":{\"color\":\"#FECB52\",\"dash\":\"solid\"},\"marker\":{\"symbol\":\"circle\"},\"mode\":\"lines\",\"name\":\"AR\",\"orientation\":\"v\",\"showlegend\":true,\"x\":[2008,2011,2014,2017,2020],\"xaxis\":\"x\",\"y\":[98.0229725,101.3621222,82.06782601,53.25042156,32.49911393],\"yaxis\":\"y\",\"type\":\"scatter\"},{\"hovertemplate\":\"<b>%{hovertext}</b><br><br>State=OK<br>=%{x}<br>Tons of annual emissions per 100k of population=%{y}<extra></extra>\",\"hovertext\":[\"Low CAV adoption\",\"Low CAV adoption\",\"Low CAV adoption\",\"Low CAV adoption\",\"Low CAV adoption\"],\"legendgroup\":\"OK\",\"line\":{\"color\":\"#636efa\",\"dash\":\"solid\"},\"marker\":{\"symbol\":\"circle\"},\"mode\":\"lines\",\"name\":\"OK\",\"orientation\":\"v\",\"showlegend\":true,\"x\":[2008,2011,2014,2017,2020],\"xaxis\":\"x\",\"y\":[118.6353091,93.82897534,73.06764,55.55208033,35.96135785],\"yaxis\":\"y\",\"type\":\"scatter\"},{\"hovertemplate\":\"<b>%{hovertext}</b><br><br>State=CA<br>=%{x}<br>Tons of annual emissions per 100k of population=%{y}<extra></extra>\",\"hovertext\":[\"High CAV adoption\",\"High CAV adoption\",\"High CAV adoption\",\"High CAV adoption\",\"High CAV adoption\"],\"legendgroup\":\"CA\",\"line\":{\"color\":\"#EF553B\",\"dash\":\"solid\"},\"marker\":{\"symbol\":\"circle\"},\"mode\":\"lines\",\"name\":\"CA\",\"orientation\":\"v\",\"showlegend\":true,\"x\":[2008,2011,2014,2017,2020],\"xaxis\":\"x\",\"y\":[57.87109599,44.0234543,28.69673055,27.17600992,24.10870356],\"yaxis\":\"y\",\"type\":\"scatter\"},{\"hovertemplate\":\"<b>%{hovertext}</b><br><br>State=WA<br>=%{x}<br>Tons of annual emissions per 100k of population=%{y}<extra></extra>\",\"hovertext\":[\"High CAV adoption\",\"High CAV adoption\",\"High CAV adoption\",\"High CAV adoption\",\"High CAV adoption\"],\"legendgroup\":\"WA\",\"line\":{\"color\":\"#00cc96\",\"dash\":\"solid\"},\"marker\":{\"symbol\":\"circle\"},\"mode\":\"lines\",\"name\":\"WA\",\"orientation\":\"v\",\"showlegend\":true,\"x\":[2008,2011,2014,2017,2020],\"xaxis\":\"x\",\"y\":[107.4604301,78.94127594,53.52562305,34.63565348,23.38684726],\"yaxis\":\"y\",\"type\":\"scatter\"},{\"hovertemplate\":\"<b>%{hovertext}</b><br><br>State=OR<br>=%{x}<br>Tons of annual emissions per 100k of population=%{y}<extra></extra>\",\"hovertext\":[\"High CAV adoption\",\"High CAV adoption\",\"High CAV adoption\",\"High CAV adoption\",\"High CAV adoption\"],\"legendgroup\":\"OR\",\"line\":{\"color\":\"#ab63fa\",\"dash\":\"solid\"},\"marker\":{\"symbol\":\"circle\"},\"mode\":\"lines\",\"name\":\"OR\",\"orientation\":\"v\",\"showlegend\":true,\"x\":[2008,2011,2014,2017,2020],\"xaxis\":\"x\",\"y\":[91.98219799,63.01735147,50.44613147,52.34653661,35.09889921],\"yaxis\":\"y\",\"type\":\"scatter\"},{\"hovertemplate\":\"<b>%{hovertext}</b><br><br>State=HI<br>=%{x}<br>Tons of annual emissions per 100k of population=%{y}<extra></extra>\",\"hovertext\":[\"High CAV adoption\",\"High CAV adoption\",\"High CAV adoption\",\"High CAV adoption\",\"High CAV adoption\"],\"legendgroup\":\"HI\",\"line\":{\"color\":\"#FFA15A\",\"dash\":\"solid\"},\"marker\":{\"symbol\":\"circle\"},\"mode\":\"lines\",\"name\":\"HI\",\"orientation\":\"v\",\"showlegend\":true,\"x\":[2008,2011,2014,2017,2020],\"xaxis\":\"x\",\"y\":[61.63416792,20.04935471,21.21827951,21.6023287,15.454249],\"yaxis\":\"y\",\"type\":\"scatter\"},{\"hovertemplate\":\"<b>%{hovertext}</b><br><br>State=CO<br>=%{x}<br>Tons of annual emissions per 100k of population=%{y}<extra></extra>\",\"hovertext\":[\"High CAV adoption\",\"High CAV adoption\",\"High CAV adoption\",\"High CAV adoption\",\"High CAV adoption\"],\"legendgroup\":\"CO\",\"line\":{\"color\":\"#19d3f3\",\"dash\":\"solid\"},\"marker\":{\"symbol\":\"circle\"},\"mode\":\"lines\",\"name\":\"CO\",\"orientation\":\"v\",\"showlegend\":true,\"x\":[2008,2011,2014,2017,2020],\"xaxis\":\"x\",\"y\":[75.87826305,61.94898644,53.58517573,34.72572857,23.80112865],\"yaxis\":\"y\",\"type\":\"scatter\"},{\"hovertemplate\":\"<b>%{hovertext}</b><br><br>State=NV<br>=%{x}<br>Tons of annual emissions per 100k of population=%{y}<extra></extra>\",\"hovertext\":[\"High CAV adoption\",\"High CAV adoption\",\"High CAV adoption\",\"High CAV adoption\",\"High CAV adoption\"],\"legendgroup\":\"NV\",\"line\":{\"color\":\"#FF6692\",\"dash\":\"solid\"},\"marker\":{\"symbol\":\"circle\"},\"mode\":\"lines\",\"name\":\"NV\",\"orientation\":\"v\",\"showlegend\":true,\"x\":[2008,2011,2014,2017,2020],\"xaxis\":\"x\",\"y\":[46.04071368,59.91055755,43.62185233,27.69891435,22.12802475],\"yaxis\":\"y\",\"type\":\"scatter\"},{\"hovertemplate\":\"<b>%{hovertext}</b><br><br>State=ND<br>=%{x}<br>Tons of annual emissions per 100k of population=%{y}<extra></extra>\",\"hovertext\":[\"Low CAV adoption\",\"Low CAV adoption\",\"Low CAV adoption\",\"Low CAV adoption\",\"Low CAV adoption\"],\"legendgroup\":\"ND\",\"line\":{\"color\":\"#B6E880\",\"dash\":\"solid\"},\"marker\":{\"symbol\":\"circle\"},\"mode\":\"lines\",\"name\":\"ND\",\"orientation\":\"v\",\"showlegend\":true,\"x\":[2008,2011,2014,2017,2020],\"xaxis\":\"x\",\"y\":[135.3390896,137.3386158,197.0391624,81.02205362,50.26191298],\"yaxis\":\"y\",\"type\":\"scatter\"},{\"hovertemplate\":\"<b>%{hovertext}</b><br><br>State=WY<br>=%{x}<br>Tons of annual emissions per 100k of population=%{y}<extra></extra>\",\"hovertext\":[\"Low CAV adoption\",\"Low CAV adoption\",\"Low CAV adoption\",\"Low CAV adoption\",\"Low CAV adoption\"],\"legendgroup\":\"WY\",\"line\":{\"color\":\"#FF97FF\",\"dash\":\"solid\"},\"marker\":{\"symbol\":\"circle\"},\"mode\":\"lines\",\"name\":\"WY\",\"orientation\":\"v\",\"showlegend\":true,\"x\":[2008,2011,2014,2017,2020],\"xaxis\":\"x\",\"y\":[201.5357646,195.1537254,167.9741782,103.3388584,79.91933499],\"yaxis\":\"y\",\"type\":\"scatter\"},{\"hovertemplate\":\"<b>%{hovertext}</b><br><br>State=SD<br>=%{x}<br>Tons of annual emissions per 100k of population=%{y}<extra></extra>\",\"hovertext\":[\"Low CAV adoption\",\"Low CAV adoption\",\"Low CAV adoption\",\"Low CAV adoption\",\"Low CAV adoption\"],\"legendgroup\":\"SD\",\"line\":{\"color\":\"#FECB52\",\"dash\":\"solid\"},\"marker\":{\"symbol\":\"circle\"},\"mode\":\"lines\",\"name\":\"SD\",\"orientation\":\"v\",\"showlegend\":true,\"x\":[2008,2011,2014,2017,2020],\"xaxis\":\"x\",\"y\":[120.6613479,99.4179639,113.3460069,61.44205291,39.20050802],\"yaxis\":\"y\",\"type\":\"scatter\"}],                        {\"template\":{\"data\":{\"histogram2dcontour\":[{\"type\":\"histogram2dcontour\",\"colorbar\":{\"outlinewidth\":0,\"ticks\":\"\"},\"colorscale\":[[0.0,\"#0d0887\"],[0.1111111111111111,\"#46039f\"],[0.2222222222222222,\"#7201a8\"],[0.3333333333333333,\"#9c179e\"],[0.4444444444444444,\"#bd3786\"],[0.5555555555555556,\"#d8576b\"],[0.6666666666666666,\"#ed7953\"],[0.7777777777777778,\"#fb9f3a\"],[0.8888888888888888,\"#fdca26\"],[1.0,\"#f0f921\"]]}],\"choropleth\":[{\"type\":\"choropleth\",\"colorbar\":{\"outlinewidth\":0,\"ticks\":\"\"}}],\"histogram2d\":[{\"type\":\"histogram2d\",\"colorbar\":{\"outlinewidth\":0,\"ticks\":\"\"},\"colorscale\":[[0.0,\"#0d0887\"],[0.1111111111111111,\"#46039f\"],[0.2222222222222222,\"#7201a8\"],[0.3333333333333333,\"#9c179e\"],[0.4444444444444444,\"#bd3786\"],[0.5555555555555556,\"#d8576b\"],[0.6666666666666666,\"#ed7953\"],[0.7777777777777778,\"#fb9f3a\"],[0.8888888888888888,\"#fdca26\"],[1.0,\"#f0f921\"]]}],\"heatmap\":[{\"type\":\"heatmap\",\"colorbar\":{\"outlinewidth\":0,\"ticks\":\"\"},\"colorscale\":[[0.0,\"#0d0887\"],[0.1111111111111111,\"#46039f\"],[0.2222222222222222,\"#7201a8\"],[0.3333333333333333,\"#9c179e\"],[0.4444444444444444,\"#bd3786\"],[0.5555555555555556,\"#d8576b\"],[0.6666666666666666,\"#ed7953\"],[0.7777777777777778,\"#fb9f3a\"],[0.8888888888888888,\"#fdca26\"],[1.0,\"#f0f921\"]]}],\"heatmapgl\":[{\"type\":\"heatmapgl\",\"colorbar\":{\"outlinewidth\":0,\"ticks\":\"\"},\"colorscale\":[[0.0,\"#0d0887\"],[0.1111111111111111,\"#46039f\"],[0.2222222222222222,\"#7201a8\"],[0.3333333333333333,\"#9c179e\"],[0.4444444444444444,\"#bd3786\"],[0.5555555555555556,\"#d8576b\"],[0.6666666666666666,\"#ed7953\"],[0.7777777777777778,\"#fb9f3a\"],[0.8888888888888888,\"#fdca26\"],[1.0,\"#f0f921\"]]}],\"contourcarpet\":[{\"type\":\"contourcarpet\",\"colorbar\":{\"outlinewidth\":0,\"ticks\":\"\"}}],\"contour\":[{\"type\":\"contour\",\"colorbar\":{\"outlinewidth\":0,\"ticks\":\"\"},\"colorscale\":[[0.0,\"#0d0887\"],[0.1111111111111111,\"#46039f\"],[0.2222222222222222,\"#7201a8\"],[0.3333333333333333,\"#9c179e\"],[0.4444444444444444,\"#bd3786\"],[0.5555555555555556,\"#d8576b\"],[0.6666666666666666,\"#ed7953\"],[0.7777777777777778,\"#fb9f3a\"],[0.8888888888888888,\"#fdca26\"],[1.0,\"#f0f921\"]]}],\"surface\":[{\"type\":\"surface\",\"colorbar\":{\"outlinewidth\":0,\"ticks\":\"\"},\"colorscale\":[[0.0,\"#0d0887\"],[0.1111111111111111,\"#46039f\"],[0.2222222222222222,\"#7201a8\"],[0.3333333333333333,\"#9c179e\"],[0.4444444444444444,\"#bd3786\"],[0.5555555555555556,\"#d8576b\"],[0.6666666666666666,\"#ed7953\"],[0.7777777777777778,\"#fb9f3a\"],[0.8888888888888888,\"#fdca26\"],[1.0,\"#f0f921\"]]}],\"mesh3d\":[{\"type\":\"mesh3d\",\"colorbar\":{\"outlinewidth\":0,\"ticks\":\"\"}}],\"scatter\":[{\"fillpattern\":{\"fillmode\":\"overlay\",\"size\":10,\"solidity\":0.2},\"type\":\"scatter\"}],\"parcoords\":[{\"type\":\"parcoords\",\"line\":{\"colorbar\":{\"outlinewidth\":0,\"ticks\":\"\"}}}],\"scatterpolargl\":[{\"type\":\"scatterpolargl\",\"marker\":{\"colorbar\":{\"outlinewidth\":0,\"ticks\":\"\"}}}],\"bar\":[{\"error_x\":{\"color\":\"#2a3f5f\"},\"error_y\":{\"color\":\"#2a3f5f\"},\"marker\":{\"line\":{\"color\":\"#E5ECF6\",\"width\":0.5},\"pattern\":{\"fillmode\":\"overlay\",\"size\":10,\"solidity\":0.2}},\"type\":\"bar\"}],\"scattergeo\":[{\"type\":\"scattergeo\",\"marker\":{\"colorbar\":{\"outlinewidth\":0,\"ticks\":\"\"}}}],\"scatterpolar\":[{\"type\":\"scatterpolar\",\"marker\":{\"colorbar\":{\"outlinewidth\":0,\"ticks\":\"\"}}}],\"histogram\":[{\"marker\":{\"pattern\":{\"fillmode\":\"overlay\",\"size\":10,\"solidity\":0.2}},\"type\":\"histogram\"}],\"scattergl\":[{\"type\":\"scattergl\",\"marker\":{\"colorbar\":{\"outlinewidth\":0,\"ticks\":\"\"}}}],\"scatter3d\":[{\"type\":\"scatter3d\",\"line\":{\"colorbar\":{\"outlinewidth\":0,\"ticks\":\"\"}},\"marker\":{\"colorbar\":{\"outlinewidth\":0,\"ticks\":\"\"}}}],\"scattermapbox\":[{\"type\":\"scattermapbox\",\"marker\":{\"colorbar\":{\"outlinewidth\":0,\"ticks\":\"\"}}}],\"scatterternary\":[{\"type\":\"scatterternary\",\"marker\":{\"colorbar\":{\"outlinewidth\":0,\"ticks\":\"\"}}}],\"scattercarpet\":[{\"type\":\"scattercarpet\",\"marker\":{\"colorbar\":{\"outlinewidth\":0,\"ticks\":\"\"}}}],\"carpet\":[{\"aaxis\":{\"endlinecolor\":\"#2a3f5f\",\"gridcolor\":\"white\",\"linecolor\":\"white\",\"minorgridcolor\":\"white\",\"startlinecolor\":\"#2a3f5f\"},\"baxis\":{\"endlinecolor\":\"#2a3f5f\",\"gridcolor\":\"white\",\"linecolor\":\"white\",\"minorgridcolor\":\"white\",\"startlinecolor\":\"#2a3f5f\"},\"type\":\"carpet\"}],\"table\":[{\"cells\":{\"fill\":{\"color\":\"#EBF0F8\"},\"line\":{\"color\":\"white\"}},\"header\":{\"fill\":{\"color\":\"#C8D4E3\"},\"line\":{\"color\":\"white\"}},\"type\":\"table\"}],\"barpolar\":[{\"marker\":{\"line\":{\"color\":\"#E5ECF6\",\"width\":0.5},\"pattern\":{\"fillmode\":\"overlay\",\"size\":10,\"solidity\":0.2}},\"type\":\"barpolar\"}],\"pie\":[{\"automargin\":true,\"type\":\"pie\"}]},\"layout\":{\"autotypenumbers\":\"strict\",\"colorway\":[\"#636efa\",\"#EF553B\",\"#00cc96\",\"#ab63fa\",\"#FFA15A\",\"#19d3f3\",\"#FF6692\",\"#B6E880\",\"#FF97FF\",\"#FECB52\"],\"font\":{\"color\":\"#2a3f5f\"},\"hovermode\":\"closest\",\"hoverlabel\":{\"align\":\"left\"},\"paper_bgcolor\":\"white\",\"plot_bgcolor\":\"#E5ECF6\",\"polar\":{\"bgcolor\":\"#E5ECF6\",\"angularaxis\":{\"gridcolor\":\"white\",\"linecolor\":\"white\",\"ticks\":\"\"},\"radialaxis\":{\"gridcolor\":\"white\",\"linecolor\":\"white\",\"ticks\":\"\"}},\"ternary\":{\"bgcolor\":\"#E5ECF6\",\"aaxis\":{\"gridcolor\":\"white\",\"linecolor\":\"white\",\"ticks\":\"\"},\"baxis\":{\"gridcolor\":\"white\",\"linecolor\":\"white\",\"ticks\":\"\"},\"caxis\":{\"gridcolor\":\"white\",\"linecolor\":\"white\",\"ticks\":\"\"}},\"coloraxis\":{\"colorbar\":{\"outlinewidth\":0,\"ticks\":\"\"}},\"colorscale\":{\"sequential\":[[0.0,\"#0d0887\"],[0.1111111111111111,\"#46039f\"],[0.2222222222222222,\"#7201a8\"],[0.3333333333333333,\"#9c179e\"],[0.4444444444444444,\"#bd3786\"],[0.5555555555555556,\"#d8576b\"],[0.6666666666666666,\"#ed7953\"],[0.7777777777777778,\"#fb9f3a\"],[0.8888888888888888,\"#fdca26\"],[1.0,\"#f0f921\"]],\"sequentialminus\":[[0.0,\"#0d0887\"],[0.1111111111111111,\"#46039f\"],[0.2222222222222222,\"#7201a8\"],[0.3333333333333333,\"#9c179e\"],[0.4444444444444444,\"#bd3786\"],[0.5555555555555556,\"#d8576b\"],[0.6666666666666666,\"#ed7953\"],[0.7777777777777778,\"#fb9f3a\"],[0.8888888888888888,\"#fdca26\"],[1.0,\"#f0f921\"]],\"diverging\":[[0,\"#8e0152\"],[0.1,\"#c51b7d\"],[0.2,\"#de77ae\"],[0.3,\"#f1b6da\"],[0.4,\"#fde0ef\"],[0.5,\"#f7f7f7\"],[0.6,\"#e6f5d0\"],[0.7,\"#b8e186\"],[0.8,\"#7fbc41\"],[0.9,\"#4d9221\"],[1,\"#276419\"]]},\"xaxis\":{\"gridcolor\":\"white\",\"linecolor\":\"white\",\"ticks\":\"\",\"title\":{\"standoff\":15},\"zerolinecolor\":\"white\",\"automargin\":true,\"zerolinewidth\":2},\"yaxis\":{\"gridcolor\":\"white\",\"linecolor\":\"white\",\"ticks\":\"\",\"title\":{\"standoff\":15},\"zerolinecolor\":\"white\",\"automargin\":true,\"zerolinewidth\":2},\"scene\":{\"xaxis\":{\"backgroundcolor\":\"#E5ECF6\",\"gridcolor\":\"white\",\"linecolor\":\"white\",\"showbackground\":true,\"ticks\":\"\",\"zerolinecolor\":\"white\",\"gridwidth\":2},\"yaxis\":{\"backgroundcolor\":\"#E5ECF6\",\"gridcolor\":\"white\",\"linecolor\":\"white\",\"showbackground\":true,\"ticks\":\"\",\"zerolinecolor\":\"white\",\"gridwidth\":2},\"zaxis\":{\"backgroundcolor\":\"#E5ECF6\",\"gridcolor\":\"white\",\"linecolor\":\"white\",\"showbackground\":true,\"ticks\":\"\",\"zerolinecolor\":\"white\",\"gridwidth\":2}},\"shapedefaults\":{\"line\":{\"color\":\"#2a3f5f\"}},\"annotationdefaults\":{\"arrowcolor\":\"#2a3f5f\",\"arrowhead\":0,\"arrowwidth\":1},\"geo\":{\"bgcolor\":\"white\",\"landcolor\":\"#E5ECF6\",\"subunitcolor\":\"white\",\"showland\":true,\"showlakes\":true,\"lakecolor\":\"white\"},\"title\":{\"x\":0.05},\"mapbox\":{\"style\":\"light\"}}},\"xaxis\":{\"anchor\":\"y\",\"domain\":[0.0,1.0],\"title\":{\"text\":\"\"}},\"yaxis\":{\"anchor\":\"x\",\"domain\":[0.0,1.0],\"title\":{\"text\":\"Tons of annual emissions per 100k of population\"}},\"legend\":{\"title\":{\"text\":\"State\"},\"tracegroupgap\":0},\"margin\":{\"t\":60},\"font\":{\"color\":\"white\"},\"plot_bgcolor\":\"black\",\"paper_bgcolor\":\"black\",\"title\":{\"text\":\"Fine Particulate Matter (< 2.5um) emisions per 100k of population\"}},                        {\"responsive\": true}                    ).then(function(){\n",
       "                            \n",
       "var gd = document.getElementById('8ad23c92-8c68-4f2a-a38f-a67c3cd824fe');\n",
       "var x = new MutationObserver(function (mutations, observer) {{\n",
       "        var display = window.getComputedStyle(gd).display;\n",
       "        if (!display || display === 'none') {{\n",
       "            console.log([gd, 'removed!']);\n",
       "            Plotly.purge(gd);\n",
       "            observer.disconnect();\n",
       "        }}\n",
       "}});\n",
       "\n",
       "// Listen for the removal of the full notebook cells\n",
       "var notebookContainer = gd.closest('#notebook-container');\n",
       "if (notebookContainer) {{\n",
       "    x.observe(notebookContainer, {childList: true});\n",
       "}}\n",
       "\n",
       "// Listen for the clearing of the current output cell\n",
       "var outputEl = gd.closest('.output');\n",
       "if (outputEl) {{\n",
       "    x.observe(outputEl, {childList: true});\n",
       "}}\n",
       "\n",
       "                        })                };                });            </script>        </div>"
      ]
     },
     "metadata": {},
     "output_type": "display_data"
    }
   ],
   "source": [
    "PM25 = nei_by_pollutant.loc[(nei_by_pollutant[\"Pollutant\"] == 'PM2.5 Primary (Filt + Cond)')]\n",
    "\n",
    "PM25_plot = px.line(\n",
    "    PM25,\n",
    "    x = \"Year\",\n",
    "    y = \"Emmisions_per_100k\",\n",
    "    hover_name = \"CAV_adoption\",\n",
    "    color = \"State\",\n",
    "    labels = {\n",
    "        \"Year\":'',\n",
    "        \"Emmisions_per_100k\": \"Tons of annual emissions per 100k of population\"\n",
    "    }\n",
    ")\n",
    "\n",
    "PM25_plot.update_layout(\n",
    "#     yaxis_range=[0,30],\n",
    "    font_color=\"white\",\n",
    "    legend=dict(\n",
    "    title=\"State\"\n",
    "))\n",
    "\n",
    "PM25_plot.update_layout({\n",
    "    'plot_bgcolor':'black',\n",
    "    'paper_bgcolor':'black',\n",
    "    'title':'Fine Particulate Matter (< 2.5um) emisions per 100k of population'\n",
    "})\n",
    "\n",
    "PM25_plot.show()"
   ]
  },
  {
   "cell_type": "code",
   "execution_count": 41,
   "id": "871e7fd5",
   "metadata": {},
   "outputs": [
    {
     "data": {
      "application/vnd.plotly.v1+json": {
       "config": {
        "plotlyServerURL": "https://plot.ly"
       },
       "data": [
        {
         "hovertemplate": "<b>%{hovertext}</b><br><br>State=VT<br>=%{x}<br>Tons of annual emissions per 100k of population=%{y}<extra></extra>",
         "hovertext": [
          "High CAV adoption",
          "High CAV adoption",
          "High CAV adoption",
          "High CAV adoption",
          "High CAV adoption"
         ],
         "legendgroup": "VT",
         "line": {
          "color": "#636efa",
          "dash": "solid"
         },
         "marker": {
          "symbol": "circle"
         },
         "mode": "lines",
         "name": "VT",
         "orientation": "v",
         "showlegend": true,
         "type": "scatter",
         "x": [
          2008,
          2011,
          2014,
          2017,
          2020
         ],
         "xaxis": "x",
         "y": [
          11.73713788,
          10.43445289,
          12.93588548,
          11.10808949,
          2.831159542
         ],
         "yaxis": "y"
        },
        {
         "hovertemplate": "<b>%{hovertext}</b><br><br>State=MA<br>=%{x}<br>Tons of annual emissions per 100k of population=%{y}<extra></extra>",
         "hovertext": [
          "High CAV adoption",
          "High CAV adoption",
          "High CAV adoption",
          "High CAV adoption",
          "High CAV adoption"
         ],
         "legendgroup": "MA",
         "line": {
          "color": "#EF553B",
          "dash": "solid"
         },
         "marker": {
          "symbol": "circle"
         },
         "mode": "lines",
         "name": "MA",
         "orientation": "v",
         "showlegend": true,
         "type": "scatter",
         "x": [
          2008,
          2011,
          2014,
          2017,
          2020
         ],
         "xaxis": "x",
         "y": [
          9.655003057,
          7.929130896,
          8.203817738,
          9.0723644,
          2.416363102
         ],
         "yaxis": "y"
        },
        {
         "hovertemplate": "<b>%{hovertext}</b><br><br>State=MD<br>=%{x}<br>Tons of annual emissions per 100k of population=%{y}<extra></extra>",
         "hovertext": [
          "High CAV adoption",
          "High CAV adoption",
          "High CAV adoption",
          "High CAV adoption",
          "High CAV adoption"
         ],
         "legendgroup": "MD",
         "line": {
          "color": "#00cc96",
          "dash": "solid"
         },
         "marker": {
          "symbol": "circle"
         },
         "mode": "lines",
         "name": "MD",
         "orientation": "v",
         "showlegend": true,
         "type": "scatter",
         "x": [
          2008,
          2011,
          2014,
          2017,
          2020
         ],
         "xaxis": "x",
         "y": [
          11.09875023,
          9.340163023,
          9.004263417,
          9.484210121,
          2.628556982
         ],
         "yaxis": "y"
        },
        {
         "hovertemplate": "<b>%{hovertext}</b><br><br>State=VA<br>=%{x}<br>Tons of annual emissions per 100k of population=%{y}<extra></extra>",
         "hovertext": [
          "High CAV adoption",
          "High CAV adoption",
          "High CAV adoption",
          "High CAV adoption",
          "High CAV adoption"
         ],
         "legendgroup": "VA",
         "line": {
          "color": "#ab63fa",
          "dash": "solid"
         },
         "marker": {
          "symbol": "circle"
         },
         "mode": "lines",
         "name": "VA",
         "orientation": "v",
         "showlegend": true,
         "type": "scatter",
         "x": [
          2008,
          2011,
          2014,
          2017,
          2020
         ],
         "xaxis": "x",
         "y": [
          11.94023577,
          8.796679847,
          10.22096003,
          9.798435455,
          2.775766292
         ],
         "yaxis": "y"
        },
        {
         "hovertemplate": "<b>%{hovertext}</b><br><br>State=WV<br>=%{x}<br>Tons of annual emissions per 100k of population=%{y}<extra></extra>",
         "hovertext": [
          "Low CAV adoption",
          "Low CAV adoption",
          "Low CAV adoption",
          "Low CAV adoption",
          "Low CAV adoption"
         ],
         "legendgroup": "WV",
         "line": {
          "color": "#FFA15A",
          "dash": "solid"
         },
         "marker": {
          "symbol": "circle"
         },
         "mode": "lines",
         "name": "WV",
         "orientation": "v",
         "showlegend": true,
         "type": "scatter",
         "x": [
          2008,
          2011,
          2014,
          2017,
          2020
         ],
         "xaxis": "x",
         "y": [
          13.09263512,
          9.669942859,
          9.493333159,
          8.42032743,
          2.876764097
         ],
         "yaxis": "y"
        },
        {
         "hovertemplate": "<b>%{hovertext}</b><br><br>State=AL<br>=%{x}<br>Tons of annual emissions per 100k of population=%{y}<extra></extra>",
         "hovertext": [
          "Low CAV adoption",
          "Low CAV adoption",
          "Low CAV adoption",
          "Low CAV adoption",
          "Low CAV adoption"
         ],
         "legendgroup": "AL",
         "line": {
          "color": "#19d3f3",
          "dash": "solid"
         },
         "marker": {
          "symbol": "circle"
         },
         "mode": "lines",
         "name": "AL",
         "orientation": "v",
         "showlegend": true,
         "type": "scatter",
         "x": [
          2008,
          2011,
          2014,
          2017,
          2020
         ],
         "xaxis": "x",
         "y": [
          14.42575819,
          14.23164398,
          14.942733,
          14.86423928,
          4.385038686
         ],
         "yaxis": "y"
        },
        {
         "hovertemplate": "<b>%{hovertext}</b><br><br>State=KY<br>=%{x}<br>Tons of annual emissions per 100k of population=%{y}<extra></extra>",
         "hovertext": [
          "Low CAV adoption",
          "Low CAV adoption",
          "Low CAV adoption",
          "Low CAV adoption",
          "Low CAV adoption"
         ],
         "legendgroup": "KY",
         "line": {
          "color": "#FF6692",
          "dash": "solid"
         },
         "marker": {
          "symbol": "circle"
         },
         "mode": "lines",
         "name": "KY",
         "orientation": "v",
         "showlegend": true,
         "type": "scatter",
         "x": [
          2008,
          2011,
          2014,
          2017,
          2020
         ],
         "xaxis": "x",
         "y": [
          12.91072174,
          11.51172725,
          9.319946655,
          7.13869968,
          3.414199909
         ],
         "yaxis": "y"
        },
        {
         "hovertemplate": "<b>%{hovertext}</b><br><br>State=MI<br>=%{x}<br>Tons of annual emissions per 100k of population=%{y}<extra></extra>",
         "hovertext": [
          "Low CAV adoption",
          "Low CAV adoption",
          "Low CAV adoption",
          "Low CAV adoption",
          "Low CAV adoption"
         ],
         "legendgroup": "MI",
         "line": {
          "color": "#B6E880",
          "dash": "solid"
         },
         "marker": {
          "symbol": "circle"
         },
         "mode": "lines",
         "name": "MI",
         "orientation": "v",
         "showlegend": true,
         "type": "scatter",
         "x": [
          2008,
          2011,
          2014,
          2017,
          2020
         ],
         "xaxis": "x",
         "y": [
          12.6434951,
          9.664660274,
          7.505630272,
          6.407525477,
          2.698063422
         ],
         "yaxis": "y"
        },
        {
         "hovertemplate": "<b>%{hovertext}</b><br><br>State=LA<br>=%{x}<br>Tons of annual emissions per 100k of population=%{y}<extra></extra>",
         "hovertext": [
          "Low CAV adoption",
          "Low CAV adoption",
          "Low CAV adoption",
          "Low CAV adoption",
          "Low CAV adoption"
         ],
         "legendgroup": "LA",
         "line": {
          "color": "#FF97FF",
          "dash": "solid"
         },
         "marker": {
          "symbol": "circle"
         },
         "mode": "lines",
         "name": "LA",
         "orientation": "v",
         "showlegend": true,
         "type": "scatter",
         "x": [
          2008,
          2011,
          2014,
          2017,
          2020
         ],
         "xaxis": "x",
         "y": [
          12.10483249,
          11.04905525,
          12.23234677,
          11.22011513,
          3.404185551
         ],
         "yaxis": "y"
        },
        {
         "hovertemplate": "<b>%{hovertext}</b><br><br>State=AR<br>=%{x}<br>Tons of annual emissions per 100k of population=%{y}<extra></extra>",
         "hovertext": [
          "Low CAV adoption",
          "Low CAV adoption",
          "Low CAV adoption",
          "Low CAV adoption",
          "Low CAV adoption"
         ],
         "legendgroup": "AR",
         "line": {
          "color": "#FECB52",
          "dash": "solid"
         },
         "marker": {
          "symbol": "circle"
         },
         "mode": "lines",
         "name": "AR",
         "orientation": "v",
         "showlegend": true,
         "type": "scatter",
         "x": [
          2008,
          2011,
          2014,
          2017,
          2020
         ],
         "xaxis": "x",
         "y": [
          28.48963725,
          12.2448529,
          11.22505428,
          10.37909821,
          3.731890096
         ],
         "yaxis": "y"
        },
        {
         "hovertemplate": "<b>%{hovertext}</b><br><br>State=OK<br>=%{x}<br>Tons of annual emissions per 100k of population=%{y}<extra></extra>",
         "hovertext": [
          "Low CAV adoption",
          "Low CAV adoption",
          "Low CAV adoption",
          "Low CAV adoption",
          "Low CAV adoption"
         ],
         "legendgroup": "OK",
         "line": {
          "color": "#636efa",
          "dash": "solid"
         },
         "marker": {
          "symbol": "circle"
         },
         "mode": "lines",
         "name": "OK",
         "orientation": "v",
         "showlegend": true,
         "type": "scatter",
         "x": [
          2008,
          2011,
          2014,
          2017,
          2020
         ],
         "xaxis": "x",
         "y": [
          32.90506151,
          13.60625606,
          11.6070637,
          10.38954218,
          3.737518071
         ],
         "yaxis": "y"
        },
        {
         "hovertemplate": "<b>%{hovertext}</b><br><br>State=CA<br>=%{x}<br>Tons of annual emissions per 100k of population=%{y}<extra></extra>",
         "hovertext": [
          "High CAV adoption",
          "High CAV adoption",
          "High CAV adoption",
          "High CAV adoption",
          "High CAV adoption"
         ],
         "legendgroup": "CA",
         "line": {
          "color": "#EF553B",
          "dash": "solid"
         },
         "marker": {
          "symbol": "circle"
         },
         "mode": "lines",
         "name": "CA",
         "orientation": "v",
         "showlegend": true,
         "type": "scatter",
         "x": [
          2008,
          2011,
          2014,
          2017,
          2020
         ],
         "xaxis": "x",
         "y": [
          5.394478255,
          5.252666005,
          4.463810908,
          4.001972791,
          3.653263549
         ],
         "yaxis": "y"
        },
        {
         "hovertemplate": "<b>%{hovertext}</b><br><br>State=WA<br>=%{x}<br>Tons of annual emissions per 100k of population=%{y}<extra></extra>",
         "hovertext": [
          "High CAV adoption",
          "High CAV adoption",
          "High CAV adoption",
          "High CAV adoption",
          "High CAV adoption"
         ],
         "legendgroup": "WA",
         "line": {
          "color": "#00cc96",
          "dash": "solid"
         },
         "marker": {
          "symbol": "circle"
         },
         "mode": "lines",
         "name": "WA",
         "orientation": "v",
         "showlegend": true,
         "type": "scatter",
         "x": [
          2008,
          2011,
          2014,
          2017,
          2020
         ],
         "xaxis": "x",
         "y": [
          13.79268002,
          9.057706763,
          7.759751509,
          5.519587865,
          2.281469557
         ],
         "yaxis": "y"
        },
        {
         "hovertemplate": "<b>%{hovertext}</b><br><br>State=OR<br>=%{x}<br>Tons of annual emissions per 100k of population=%{y}<extra></extra>",
         "hovertext": [
          "High CAV adoption",
          "High CAV adoption",
          "High CAV adoption",
          "High CAV adoption",
          "High CAV adoption"
         ],
         "legendgroup": "OR",
         "line": {
          "color": "#ab63fa",
          "dash": "solid"
         },
         "marker": {
          "symbol": "circle"
         },
         "mode": "lines",
         "name": "OR",
         "orientation": "v",
         "showlegend": true,
         "type": "scatter",
         "x": [
          2008,
          2011,
          2014,
          2017,
          2020
         ],
         "xaxis": "x",
         "y": [
          14.11808758,
          8.600096054,
          7.731033656,
          6.405439223,
          2.645484073
         ],
         "yaxis": "y"
        },
        {
         "hovertemplate": "<b>%{hovertext}</b><br><br>State=HI<br>=%{x}<br>Tons of annual emissions per 100k of population=%{y}<extra></extra>",
         "hovertext": [
          "High CAV adoption",
          "High CAV adoption",
          "High CAV adoption",
          "High CAV adoption",
          "High CAV adoption"
         ],
         "legendgroup": "HI",
         "line": {
          "color": "#FFA15A",
          "dash": "solid"
         },
         "marker": {
          "symbol": "circle"
         },
         "mode": "lines",
         "name": "HI",
         "orientation": "v",
         "showlegend": true,
         "type": "scatter",
         "x": [
          2008,
          2011,
          2014,
          2017,
          2020
         ],
         "xaxis": "x",
         "y": [
          18.95943971,
          7.429076874,
          7.32117438,
          3.657185787,
          2.022095079
         ],
         "yaxis": "y"
        },
        {
         "hovertemplate": "<b>%{hovertext}</b><br><br>State=CO<br>=%{x}<br>Tons of annual emissions per 100k of population=%{y}<extra></extra>",
         "hovertext": [
          "High CAV adoption",
          "High CAV adoption",
          "High CAV adoption",
          "High CAV adoption",
          "High CAV adoption"
         ],
         "legendgroup": "CO",
         "line": {
          "color": "#19d3f3",
          "dash": "solid"
         },
         "marker": {
          "symbol": "circle"
         },
         "mode": "lines",
         "name": "CO",
         "orientation": "v",
         "showlegend": true,
         "type": "scatter",
         "x": [
          2008,
          2011,
          2014,
          2017,
          2020
         ],
         "xaxis": "x",
         "y": [
          15.23835625,
          9.695572467,
          8.542411814,
          6.282997615,
          2.712134167
         ],
         "yaxis": "y"
        },
        {
         "hovertemplate": "<b>%{hovertext}</b><br><br>State=NV<br>=%{x}<br>Tons of annual emissions per 100k of population=%{y}<extra></extra>",
         "hovertext": [
          "High CAV adoption",
          "High CAV adoption",
          "High CAV adoption",
          "High CAV adoption",
          "High CAV adoption"
         ],
         "legendgroup": "NV",
         "line": {
          "color": "#FF6692",
          "dash": "solid"
         },
         "marker": {
          "symbol": "circle"
         },
         "mode": "lines",
         "name": "NV",
         "orientation": "v",
         "showlegend": true,
         "type": "scatter",
         "x": [
          2008,
          2011,
          2014,
          2017,
          2020
         ],
         "xaxis": "x",
         "y": [
          19.24798969,
          10.03255372,
          6.947807635,
          4.347604467,
          2.579312835
         ],
         "yaxis": "y"
        },
        {
         "hovertemplate": "<b>%{hovertext}</b><br><br>State=ND<br>=%{x}<br>Tons of annual emissions per 100k of population=%{y}<extra></extra>",
         "hovertext": [
          "Low CAV adoption",
          "Low CAV adoption",
          "Low CAV adoption",
          "Low CAV adoption",
          "Low CAV adoption"
         ],
         "legendgroup": "ND",
         "line": {
          "color": "#B6E880",
          "dash": "solid"
         },
         "marker": {
          "symbol": "circle"
         },
         "mode": "lines",
         "name": "ND",
         "orientation": "v",
         "showlegend": true,
         "type": "scatter",
         "x": [
          2008,
          2011,
          2014,
          2017,
          2020
         ],
         "xaxis": "x",
         "y": [
          13.1928842,
          14.11699082,
          13.46208098,
          8.682697814,
          4.047988202
         ],
         "yaxis": "y"
        },
        {
         "hovertemplate": "<b>%{hovertext}</b><br><br>State=WY<br>=%{x}<br>Tons of annual emissions per 100k of population=%{y}<extra></extra>",
         "hovertext": [
          "Low CAV adoption",
          "Low CAV adoption",
          "Low CAV adoption",
          "Low CAV adoption",
          "Low CAV adoption"
         ],
         "legendgroup": "WY",
         "line": {
          "color": "#FF97FF",
          "dash": "solid"
         },
         "marker": {
          "symbol": "circle"
         },
         "mode": "lines",
         "name": "WY",
         "orientation": "v",
         "showlegend": true,
         "type": "scatter",
         "x": [
          2008,
          2011,
          2014,
          2017,
          2020
         ],
         "xaxis": "x",
         "y": [
          28.30507984,
          18.11178428,
          16.04791578,
          12.832064,
          5.990834392
         ],
         "yaxis": "y"
        },
        {
         "hovertemplate": "<b>%{hovertext}</b><br><br>State=SD<br>=%{x}<br>Tons of annual emissions per 100k of population=%{y}<extra></extra>",
         "hovertext": [
          "Low CAV adoption",
          "Low CAV adoption",
          "Low CAV adoption",
          "Low CAV adoption",
          "Low CAV adoption"
         ],
         "legendgroup": "SD",
         "line": {
          "color": "#FECB52",
          "dash": "solid"
         },
         "marker": {
          "symbol": "circle"
         },
         "mode": "lines",
         "name": "SD",
         "orientation": "v",
         "showlegend": true,
         "type": "scatter",
         "x": [
          2008,
          2011,
          2014,
          2017,
          2020
         ],
         "xaxis": "x",
         "y": [
          12.51911097,
          11.58124857,
          9.781988266,
          7.421949747,
          3.643745387
         ],
         "yaxis": "y"
        }
       ],
       "layout": {
        "font": {
         "color": "white"
        },
        "legend": {
         "title": {
          "text": "State"
         },
         "tracegroupgap": 0
        },
        "margin": {
         "t": 60
        },
        "paper_bgcolor": "black",
        "plot_bgcolor": "black",
        "template": {
         "data": {
          "bar": [
           {
            "error_x": {
             "color": "#2a3f5f"
            },
            "error_y": {
             "color": "#2a3f5f"
            },
            "marker": {
             "line": {
              "color": "#E5ECF6",
              "width": 0.5
             },
             "pattern": {
              "fillmode": "overlay",
              "size": 10,
              "solidity": 0.2
             }
            },
            "type": "bar"
           }
          ],
          "barpolar": [
           {
            "marker": {
             "line": {
              "color": "#E5ECF6",
              "width": 0.5
             },
             "pattern": {
              "fillmode": "overlay",
              "size": 10,
              "solidity": 0.2
             }
            },
            "type": "barpolar"
           }
          ],
          "carpet": [
           {
            "aaxis": {
             "endlinecolor": "#2a3f5f",
             "gridcolor": "white",
             "linecolor": "white",
             "minorgridcolor": "white",
             "startlinecolor": "#2a3f5f"
            },
            "baxis": {
             "endlinecolor": "#2a3f5f",
             "gridcolor": "white",
             "linecolor": "white",
             "minorgridcolor": "white",
             "startlinecolor": "#2a3f5f"
            },
            "type": "carpet"
           }
          ],
          "choropleth": [
           {
            "colorbar": {
             "outlinewidth": 0,
             "ticks": ""
            },
            "type": "choropleth"
           }
          ],
          "contour": [
           {
            "colorbar": {
             "outlinewidth": 0,
             "ticks": ""
            },
            "colorscale": [
             [
              0,
              "#0d0887"
             ],
             [
              0.1111111111111111,
              "#46039f"
             ],
             [
              0.2222222222222222,
              "#7201a8"
             ],
             [
              0.3333333333333333,
              "#9c179e"
             ],
             [
              0.4444444444444444,
              "#bd3786"
             ],
             [
              0.5555555555555556,
              "#d8576b"
             ],
             [
              0.6666666666666666,
              "#ed7953"
             ],
             [
              0.7777777777777778,
              "#fb9f3a"
             ],
             [
              0.8888888888888888,
              "#fdca26"
             ],
             [
              1,
              "#f0f921"
             ]
            ],
            "type": "contour"
           }
          ],
          "contourcarpet": [
           {
            "colorbar": {
             "outlinewidth": 0,
             "ticks": ""
            },
            "type": "contourcarpet"
           }
          ],
          "heatmap": [
           {
            "colorbar": {
             "outlinewidth": 0,
             "ticks": ""
            },
            "colorscale": [
             [
              0,
              "#0d0887"
             ],
             [
              0.1111111111111111,
              "#46039f"
             ],
             [
              0.2222222222222222,
              "#7201a8"
             ],
             [
              0.3333333333333333,
              "#9c179e"
             ],
             [
              0.4444444444444444,
              "#bd3786"
             ],
             [
              0.5555555555555556,
              "#d8576b"
             ],
             [
              0.6666666666666666,
              "#ed7953"
             ],
             [
              0.7777777777777778,
              "#fb9f3a"
             ],
             [
              0.8888888888888888,
              "#fdca26"
             ],
             [
              1,
              "#f0f921"
             ]
            ],
            "type": "heatmap"
           }
          ],
          "heatmapgl": [
           {
            "colorbar": {
             "outlinewidth": 0,
             "ticks": ""
            },
            "colorscale": [
             [
              0,
              "#0d0887"
             ],
             [
              0.1111111111111111,
              "#46039f"
             ],
             [
              0.2222222222222222,
              "#7201a8"
             ],
             [
              0.3333333333333333,
              "#9c179e"
             ],
             [
              0.4444444444444444,
              "#bd3786"
             ],
             [
              0.5555555555555556,
              "#d8576b"
             ],
             [
              0.6666666666666666,
              "#ed7953"
             ],
             [
              0.7777777777777778,
              "#fb9f3a"
             ],
             [
              0.8888888888888888,
              "#fdca26"
             ],
             [
              1,
              "#f0f921"
             ]
            ],
            "type": "heatmapgl"
           }
          ],
          "histogram": [
           {
            "marker": {
             "pattern": {
              "fillmode": "overlay",
              "size": 10,
              "solidity": 0.2
             }
            },
            "type": "histogram"
           }
          ],
          "histogram2d": [
           {
            "colorbar": {
             "outlinewidth": 0,
             "ticks": ""
            },
            "colorscale": [
             [
              0,
              "#0d0887"
             ],
             [
              0.1111111111111111,
              "#46039f"
             ],
             [
              0.2222222222222222,
              "#7201a8"
             ],
             [
              0.3333333333333333,
              "#9c179e"
             ],
             [
              0.4444444444444444,
              "#bd3786"
             ],
             [
              0.5555555555555556,
              "#d8576b"
             ],
             [
              0.6666666666666666,
              "#ed7953"
             ],
             [
              0.7777777777777778,
              "#fb9f3a"
             ],
             [
              0.8888888888888888,
              "#fdca26"
             ],
             [
              1,
              "#f0f921"
             ]
            ],
            "type": "histogram2d"
           }
          ],
          "histogram2dcontour": [
           {
            "colorbar": {
             "outlinewidth": 0,
             "ticks": ""
            },
            "colorscale": [
             [
              0,
              "#0d0887"
             ],
             [
              0.1111111111111111,
              "#46039f"
             ],
             [
              0.2222222222222222,
              "#7201a8"
             ],
             [
              0.3333333333333333,
              "#9c179e"
             ],
             [
              0.4444444444444444,
              "#bd3786"
             ],
             [
              0.5555555555555556,
              "#d8576b"
             ],
             [
              0.6666666666666666,
              "#ed7953"
             ],
             [
              0.7777777777777778,
              "#fb9f3a"
             ],
             [
              0.8888888888888888,
              "#fdca26"
             ],
             [
              1,
              "#f0f921"
             ]
            ],
            "type": "histogram2dcontour"
           }
          ],
          "mesh3d": [
           {
            "colorbar": {
             "outlinewidth": 0,
             "ticks": ""
            },
            "type": "mesh3d"
           }
          ],
          "parcoords": [
           {
            "line": {
             "colorbar": {
              "outlinewidth": 0,
              "ticks": ""
             }
            },
            "type": "parcoords"
           }
          ],
          "pie": [
           {
            "automargin": true,
            "type": "pie"
           }
          ],
          "scatter": [
           {
            "fillpattern": {
             "fillmode": "overlay",
             "size": 10,
             "solidity": 0.2
            },
            "type": "scatter"
           }
          ],
          "scatter3d": [
           {
            "line": {
             "colorbar": {
              "outlinewidth": 0,
              "ticks": ""
             }
            },
            "marker": {
             "colorbar": {
              "outlinewidth": 0,
              "ticks": ""
             }
            },
            "type": "scatter3d"
           }
          ],
          "scattercarpet": [
           {
            "marker": {
             "colorbar": {
              "outlinewidth": 0,
              "ticks": ""
             }
            },
            "type": "scattercarpet"
           }
          ],
          "scattergeo": [
           {
            "marker": {
             "colorbar": {
              "outlinewidth": 0,
              "ticks": ""
             }
            },
            "type": "scattergeo"
           }
          ],
          "scattergl": [
           {
            "marker": {
             "colorbar": {
              "outlinewidth": 0,
              "ticks": ""
             }
            },
            "type": "scattergl"
           }
          ],
          "scattermapbox": [
           {
            "marker": {
             "colorbar": {
              "outlinewidth": 0,
              "ticks": ""
             }
            },
            "type": "scattermapbox"
           }
          ],
          "scatterpolar": [
           {
            "marker": {
             "colorbar": {
              "outlinewidth": 0,
              "ticks": ""
             }
            },
            "type": "scatterpolar"
           }
          ],
          "scatterpolargl": [
           {
            "marker": {
             "colorbar": {
              "outlinewidth": 0,
              "ticks": ""
             }
            },
            "type": "scatterpolargl"
           }
          ],
          "scatterternary": [
           {
            "marker": {
             "colorbar": {
              "outlinewidth": 0,
              "ticks": ""
             }
            },
            "type": "scatterternary"
           }
          ],
          "surface": [
           {
            "colorbar": {
             "outlinewidth": 0,
             "ticks": ""
            },
            "colorscale": [
             [
              0,
              "#0d0887"
             ],
             [
              0.1111111111111111,
              "#46039f"
             ],
             [
              0.2222222222222222,
              "#7201a8"
             ],
             [
              0.3333333333333333,
              "#9c179e"
             ],
             [
              0.4444444444444444,
              "#bd3786"
             ],
             [
              0.5555555555555556,
              "#d8576b"
             ],
             [
              0.6666666666666666,
              "#ed7953"
             ],
             [
              0.7777777777777778,
              "#fb9f3a"
             ],
             [
              0.8888888888888888,
              "#fdca26"
             ],
             [
              1,
              "#f0f921"
             ]
            ],
            "type": "surface"
           }
          ],
          "table": [
           {
            "cells": {
             "fill": {
              "color": "#EBF0F8"
             },
             "line": {
              "color": "white"
             }
            },
            "header": {
             "fill": {
              "color": "#C8D4E3"
             },
             "line": {
              "color": "white"
             }
            },
            "type": "table"
           }
          ]
         },
         "layout": {
          "annotationdefaults": {
           "arrowcolor": "#2a3f5f",
           "arrowhead": 0,
           "arrowwidth": 1
          },
          "autotypenumbers": "strict",
          "coloraxis": {
           "colorbar": {
            "outlinewidth": 0,
            "ticks": ""
           }
          },
          "colorscale": {
           "diverging": [
            [
             0,
             "#8e0152"
            ],
            [
             0.1,
             "#c51b7d"
            ],
            [
             0.2,
             "#de77ae"
            ],
            [
             0.3,
             "#f1b6da"
            ],
            [
             0.4,
             "#fde0ef"
            ],
            [
             0.5,
             "#f7f7f7"
            ],
            [
             0.6,
             "#e6f5d0"
            ],
            [
             0.7,
             "#b8e186"
            ],
            [
             0.8,
             "#7fbc41"
            ],
            [
             0.9,
             "#4d9221"
            ],
            [
             1,
             "#276419"
            ]
           ],
           "sequential": [
            [
             0,
             "#0d0887"
            ],
            [
             0.1111111111111111,
             "#46039f"
            ],
            [
             0.2222222222222222,
             "#7201a8"
            ],
            [
             0.3333333333333333,
             "#9c179e"
            ],
            [
             0.4444444444444444,
             "#bd3786"
            ],
            [
             0.5555555555555556,
             "#d8576b"
            ],
            [
             0.6666666666666666,
             "#ed7953"
            ],
            [
             0.7777777777777778,
             "#fb9f3a"
            ],
            [
             0.8888888888888888,
             "#fdca26"
            ],
            [
             1,
             "#f0f921"
            ]
           ],
           "sequentialminus": [
            [
             0,
             "#0d0887"
            ],
            [
             0.1111111111111111,
             "#46039f"
            ],
            [
             0.2222222222222222,
             "#7201a8"
            ],
            [
             0.3333333333333333,
             "#9c179e"
            ],
            [
             0.4444444444444444,
             "#bd3786"
            ],
            [
             0.5555555555555556,
             "#d8576b"
            ],
            [
             0.6666666666666666,
             "#ed7953"
            ],
            [
             0.7777777777777778,
             "#fb9f3a"
            ],
            [
             0.8888888888888888,
             "#fdca26"
            ],
            [
             1,
             "#f0f921"
            ]
           ]
          },
          "colorway": [
           "#636efa",
           "#EF553B",
           "#00cc96",
           "#ab63fa",
           "#FFA15A",
           "#19d3f3",
           "#FF6692",
           "#B6E880",
           "#FF97FF",
           "#FECB52"
          ],
          "font": {
           "color": "#2a3f5f"
          },
          "geo": {
           "bgcolor": "white",
           "lakecolor": "white",
           "landcolor": "#E5ECF6",
           "showlakes": true,
           "showland": true,
           "subunitcolor": "white"
          },
          "hoverlabel": {
           "align": "left"
          },
          "hovermode": "closest",
          "mapbox": {
           "style": "light"
          },
          "paper_bgcolor": "white",
          "plot_bgcolor": "#E5ECF6",
          "polar": {
           "angularaxis": {
            "gridcolor": "white",
            "linecolor": "white",
            "ticks": ""
           },
           "bgcolor": "#E5ECF6",
           "radialaxis": {
            "gridcolor": "white",
            "linecolor": "white",
            "ticks": ""
           }
          },
          "scene": {
           "xaxis": {
            "backgroundcolor": "#E5ECF6",
            "gridcolor": "white",
            "gridwidth": 2,
            "linecolor": "white",
            "showbackground": true,
            "ticks": "",
            "zerolinecolor": "white"
           },
           "yaxis": {
            "backgroundcolor": "#E5ECF6",
            "gridcolor": "white",
            "gridwidth": 2,
            "linecolor": "white",
            "showbackground": true,
            "ticks": "",
            "zerolinecolor": "white"
           },
           "zaxis": {
            "backgroundcolor": "#E5ECF6",
            "gridcolor": "white",
            "gridwidth": 2,
            "linecolor": "white",
            "showbackground": true,
            "ticks": "",
            "zerolinecolor": "white"
           }
          },
          "shapedefaults": {
           "line": {
            "color": "#2a3f5f"
           }
          },
          "ternary": {
           "aaxis": {
            "gridcolor": "white",
            "linecolor": "white",
            "ticks": ""
           },
           "baxis": {
            "gridcolor": "white",
            "linecolor": "white",
            "ticks": ""
           },
           "bgcolor": "#E5ECF6",
           "caxis": {
            "gridcolor": "white",
            "linecolor": "white",
            "ticks": ""
           }
          },
          "title": {
           "x": 0.05
          },
          "xaxis": {
           "automargin": true,
           "gridcolor": "white",
           "linecolor": "white",
           "ticks": "",
           "title": {
            "standoff": 15
           },
           "zerolinecolor": "white",
           "zerolinewidth": 2
          },
          "yaxis": {
           "automargin": true,
           "gridcolor": "white",
           "linecolor": "white",
           "ticks": "",
           "title": {
            "standoff": 15
           },
           "zerolinecolor": "white",
           "zerolinewidth": 2
          }
         }
        },
        "title": {
         "text": "Sulfur Dioxide emisions per 100k of population"
        },
        "xaxis": {
         "anchor": "y",
         "domain": [
          0,
          1
         ],
         "title": {
          "text": ""
         }
        },
        "yaxis": {
         "anchor": "x",
         "domain": [
          0,
          1
         ],
         "title": {
          "text": "Tons of annual emissions per 100k of population"
         }
        }
       }
      },
      "text/html": [
       "<div>                            <div id=\"e315b901-66f6-40a8-b93d-6913e3dffa20\" class=\"plotly-graph-div\" style=\"height:525px; width:100%;\"></div>            <script type=\"text/javascript\">                require([\"plotly\"], function(Plotly) {                    window.PLOTLYENV=window.PLOTLYENV || {};                                    if (document.getElementById(\"e315b901-66f6-40a8-b93d-6913e3dffa20\")) {                    Plotly.newPlot(                        \"e315b901-66f6-40a8-b93d-6913e3dffa20\",                        [{\"hovertemplate\":\"<b>%{hovertext}</b><br><br>State=VT<br>=%{x}<br>Tons of annual emissions per 100k of population=%{y}<extra></extra>\",\"hovertext\":[\"High CAV adoption\",\"High CAV adoption\",\"High CAV adoption\",\"High CAV adoption\",\"High CAV adoption\"],\"legendgroup\":\"VT\",\"line\":{\"color\":\"#636efa\",\"dash\":\"solid\"},\"marker\":{\"symbol\":\"circle\"},\"mode\":\"lines\",\"name\":\"VT\",\"orientation\":\"v\",\"showlegend\":true,\"x\":[2008,2011,2014,2017,2020],\"xaxis\":\"x\",\"y\":[11.73713788,10.43445289,12.93588548,11.10808949,2.831159542],\"yaxis\":\"y\",\"type\":\"scatter\"},{\"hovertemplate\":\"<b>%{hovertext}</b><br><br>State=MA<br>=%{x}<br>Tons of annual emissions per 100k of population=%{y}<extra></extra>\",\"hovertext\":[\"High CAV adoption\",\"High CAV adoption\",\"High CAV adoption\",\"High CAV adoption\",\"High CAV adoption\"],\"legendgroup\":\"MA\",\"line\":{\"color\":\"#EF553B\",\"dash\":\"solid\"},\"marker\":{\"symbol\":\"circle\"},\"mode\":\"lines\",\"name\":\"MA\",\"orientation\":\"v\",\"showlegend\":true,\"x\":[2008,2011,2014,2017,2020],\"xaxis\":\"x\",\"y\":[9.655003057,7.929130896,8.203817738,9.0723644,2.416363102],\"yaxis\":\"y\",\"type\":\"scatter\"},{\"hovertemplate\":\"<b>%{hovertext}</b><br><br>State=MD<br>=%{x}<br>Tons of annual emissions per 100k of population=%{y}<extra></extra>\",\"hovertext\":[\"High CAV adoption\",\"High CAV adoption\",\"High CAV adoption\",\"High CAV adoption\",\"High CAV adoption\"],\"legendgroup\":\"MD\",\"line\":{\"color\":\"#00cc96\",\"dash\":\"solid\"},\"marker\":{\"symbol\":\"circle\"},\"mode\":\"lines\",\"name\":\"MD\",\"orientation\":\"v\",\"showlegend\":true,\"x\":[2008,2011,2014,2017,2020],\"xaxis\":\"x\",\"y\":[11.09875023,9.340163023,9.004263417,9.484210121,2.628556982],\"yaxis\":\"y\",\"type\":\"scatter\"},{\"hovertemplate\":\"<b>%{hovertext}</b><br><br>State=VA<br>=%{x}<br>Tons of annual emissions per 100k of population=%{y}<extra></extra>\",\"hovertext\":[\"High CAV adoption\",\"High CAV adoption\",\"High CAV adoption\",\"High CAV adoption\",\"High CAV adoption\"],\"legendgroup\":\"VA\",\"line\":{\"color\":\"#ab63fa\",\"dash\":\"solid\"},\"marker\":{\"symbol\":\"circle\"},\"mode\":\"lines\",\"name\":\"VA\",\"orientation\":\"v\",\"showlegend\":true,\"x\":[2008,2011,2014,2017,2020],\"xaxis\":\"x\",\"y\":[11.94023577,8.796679847,10.22096003,9.798435455,2.775766292],\"yaxis\":\"y\",\"type\":\"scatter\"},{\"hovertemplate\":\"<b>%{hovertext}</b><br><br>State=WV<br>=%{x}<br>Tons of annual emissions per 100k of population=%{y}<extra></extra>\",\"hovertext\":[\"Low CAV adoption\",\"Low CAV adoption\",\"Low CAV adoption\",\"Low CAV adoption\",\"Low CAV adoption\"],\"legendgroup\":\"WV\",\"line\":{\"color\":\"#FFA15A\",\"dash\":\"solid\"},\"marker\":{\"symbol\":\"circle\"},\"mode\":\"lines\",\"name\":\"WV\",\"orientation\":\"v\",\"showlegend\":true,\"x\":[2008,2011,2014,2017,2020],\"xaxis\":\"x\",\"y\":[13.09263512,9.669942859,9.493333159,8.42032743,2.876764097],\"yaxis\":\"y\",\"type\":\"scatter\"},{\"hovertemplate\":\"<b>%{hovertext}</b><br><br>State=AL<br>=%{x}<br>Tons of annual emissions per 100k of population=%{y}<extra></extra>\",\"hovertext\":[\"Low CAV adoption\",\"Low CAV adoption\",\"Low CAV adoption\",\"Low CAV adoption\",\"Low CAV adoption\"],\"legendgroup\":\"AL\",\"line\":{\"color\":\"#19d3f3\",\"dash\":\"solid\"},\"marker\":{\"symbol\":\"circle\"},\"mode\":\"lines\",\"name\":\"AL\",\"orientation\":\"v\",\"showlegend\":true,\"x\":[2008,2011,2014,2017,2020],\"xaxis\":\"x\",\"y\":[14.42575819,14.23164398,14.942733,14.86423928,4.385038686],\"yaxis\":\"y\",\"type\":\"scatter\"},{\"hovertemplate\":\"<b>%{hovertext}</b><br><br>State=KY<br>=%{x}<br>Tons of annual emissions per 100k of population=%{y}<extra></extra>\",\"hovertext\":[\"Low CAV adoption\",\"Low CAV adoption\",\"Low CAV adoption\",\"Low CAV adoption\",\"Low CAV adoption\"],\"legendgroup\":\"KY\",\"line\":{\"color\":\"#FF6692\",\"dash\":\"solid\"},\"marker\":{\"symbol\":\"circle\"},\"mode\":\"lines\",\"name\":\"KY\",\"orientation\":\"v\",\"showlegend\":true,\"x\":[2008,2011,2014,2017,2020],\"xaxis\":\"x\",\"y\":[12.91072174,11.51172725,9.319946655,7.13869968,3.414199909],\"yaxis\":\"y\",\"type\":\"scatter\"},{\"hovertemplate\":\"<b>%{hovertext}</b><br><br>State=MI<br>=%{x}<br>Tons of annual emissions per 100k of population=%{y}<extra></extra>\",\"hovertext\":[\"Low CAV adoption\",\"Low CAV adoption\",\"Low CAV adoption\",\"Low CAV adoption\",\"Low CAV adoption\"],\"legendgroup\":\"MI\",\"line\":{\"color\":\"#B6E880\",\"dash\":\"solid\"},\"marker\":{\"symbol\":\"circle\"},\"mode\":\"lines\",\"name\":\"MI\",\"orientation\":\"v\",\"showlegend\":true,\"x\":[2008,2011,2014,2017,2020],\"xaxis\":\"x\",\"y\":[12.6434951,9.664660274,7.505630272,6.407525477,2.698063422],\"yaxis\":\"y\",\"type\":\"scatter\"},{\"hovertemplate\":\"<b>%{hovertext}</b><br><br>State=LA<br>=%{x}<br>Tons of annual emissions per 100k of population=%{y}<extra></extra>\",\"hovertext\":[\"Low CAV adoption\",\"Low CAV adoption\",\"Low CAV adoption\",\"Low CAV adoption\",\"Low CAV adoption\"],\"legendgroup\":\"LA\",\"line\":{\"color\":\"#FF97FF\",\"dash\":\"solid\"},\"marker\":{\"symbol\":\"circle\"},\"mode\":\"lines\",\"name\":\"LA\",\"orientation\":\"v\",\"showlegend\":true,\"x\":[2008,2011,2014,2017,2020],\"xaxis\":\"x\",\"y\":[12.10483249,11.04905525,12.23234677,11.22011513,3.404185551],\"yaxis\":\"y\",\"type\":\"scatter\"},{\"hovertemplate\":\"<b>%{hovertext}</b><br><br>State=AR<br>=%{x}<br>Tons of annual emissions per 100k of population=%{y}<extra></extra>\",\"hovertext\":[\"Low CAV adoption\",\"Low CAV adoption\",\"Low CAV adoption\",\"Low CAV adoption\",\"Low CAV adoption\"],\"legendgroup\":\"AR\",\"line\":{\"color\":\"#FECB52\",\"dash\":\"solid\"},\"marker\":{\"symbol\":\"circle\"},\"mode\":\"lines\",\"name\":\"AR\",\"orientation\":\"v\",\"showlegend\":true,\"x\":[2008,2011,2014,2017,2020],\"xaxis\":\"x\",\"y\":[28.48963725,12.2448529,11.22505428,10.37909821,3.731890096],\"yaxis\":\"y\",\"type\":\"scatter\"},{\"hovertemplate\":\"<b>%{hovertext}</b><br><br>State=OK<br>=%{x}<br>Tons of annual emissions per 100k of population=%{y}<extra></extra>\",\"hovertext\":[\"Low CAV adoption\",\"Low CAV adoption\",\"Low CAV adoption\",\"Low CAV adoption\",\"Low CAV adoption\"],\"legendgroup\":\"OK\",\"line\":{\"color\":\"#636efa\",\"dash\":\"solid\"},\"marker\":{\"symbol\":\"circle\"},\"mode\":\"lines\",\"name\":\"OK\",\"orientation\":\"v\",\"showlegend\":true,\"x\":[2008,2011,2014,2017,2020],\"xaxis\":\"x\",\"y\":[32.90506151,13.60625606,11.6070637,10.38954218,3.737518071],\"yaxis\":\"y\",\"type\":\"scatter\"},{\"hovertemplate\":\"<b>%{hovertext}</b><br><br>State=CA<br>=%{x}<br>Tons of annual emissions per 100k of population=%{y}<extra></extra>\",\"hovertext\":[\"High CAV adoption\",\"High CAV adoption\",\"High CAV adoption\",\"High CAV adoption\",\"High CAV adoption\"],\"legendgroup\":\"CA\",\"line\":{\"color\":\"#EF553B\",\"dash\":\"solid\"},\"marker\":{\"symbol\":\"circle\"},\"mode\":\"lines\",\"name\":\"CA\",\"orientation\":\"v\",\"showlegend\":true,\"x\":[2008,2011,2014,2017,2020],\"xaxis\":\"x\",\"y\":[5.394478255,5.252666005,4.463810908,4.001972791,3.653263549],\"yaxis\":\"y\",\"type\":\"scatter\"},{\"hovertemplate\":\"<b>%{hovertext}</b><br><br>State=WA<br>=%{x}<br>Tons of annual emissions per 100k of population=%{y}<extra></extra>\",\"hovertext\":[\"High CAV adoption\",\"High CAV adoption\",\"High CAV adoption\",\"High CAV adoption\",\"High CAV adoption\"],\"legendgroup\":\"WA\",\"line\":{\"color\":\"#00cc96\",\"dash\":\"solid\"},\"marker\":{\"symbol\":\"circle\"},\"mode\":\"lines\",\"name\":\"WA\",\"orientation\":\"v\",\"showlegend\":true,\"x\":[2008,2011,2014,2017,2020],\"xaxis\":\"x\",\"y\":[13.79268002,9.057706763,7.759751509,5.519587865,2.281469557],\"yaxis\":\"y\",\"type\":\"scatter\"},{\"hovertemplate\":\"<b>%{hovertext}</b><br><br>State=OR<br>=%{x}<br>Tons of annual emissions per 100k of population=%{y}<extra></extra>\",\"hovertext\":[\"High CAV adoption\",\"High CAV adoption\",\"High CAV adoption\",\"High CAV adoption\",\"High CAV adoption\"],\"legendgroup\":\"OR\",\"line\":{\"color\":\"#ab63fa\",\"dash\":\"solid\"},\"marker\":{\"symbol\":\"circle\"},\"mode\":\"lines\",\"name\":\"OR\",\"orientation\":\"v\",\"showlegend\":true,\"x\":[2008,2011,2014,2017,2020],\"xaxis\":\"x\",\"y\":[14.11808758,8.600096054,7.731033656,6.405439223,2.645484073],\"yaxis\":\"y\",\"type\":\"scatter\"},{\"hovertemplate\":\"<b>%{hovertext}</b><br><br>State=HI<br>=%{x}<br>Tons of annual emissions per 100k of population=%{y}<extra></extra>\",\"hovertext\":[\"High CAV adoption\",\"High CAV adoption\",\"High CAV adoption\",\"High CAV adoption\",\"High CAV adoption\"],\"legendgroup\":\"HI\",\"line\":{\"color\":\"#FFA15A\",\"dash\":\"solid\"},\"marker\":{\"symbol\":\"circle\"},\"mode\":\"lines\",\"name\":\"HI\",\"orientation\":\"v\",\"showlegend\":true,\"x\":[2008,2011,2014,2017,2020],\"xaxis\":\"x\",\"y\":[18.95943971,7.429076874,7.32117438,3.657185787,2.022095079],\"yaxis\":\"y\",\"type\":\"scatter\"},{\"hovertemplate\":\"<b>%{hovertext}</b><br><br>State=CO<br>=%{x}<br>Tons of annual emissions per 100k of population=%{y}<extra></extra>\",\"hovertext\":[\"High CAV adoption\",\"High CAV adoption\",\"High CAV adoption\",\"High CAV adoption\",\"High CAV adoption\"],\"legendgroup\":\"CO\",\"line\":{\"color\":\"#19d3f3\",\"dash\":\"solid\"},\"marker\":{\"symbol\":\"circle\"},\"mode\":\"lines\",\"name\":\"CO\",\"orientation\":\"v\",\"showlegend\":true,\"x\":[2008,2011,2014,2017,2020],\"xaxis\":\"x\",\"y\":[15.23835625,9.695572467,8.542411814,6.282997615,2.712134167],\"yaxis\":\"y\",\"type\":\"scatter\"},{\"hovertemplate\":\"<b>%{hovertext}</b><br><br>State=NV<br>=%{x}<br>Tons of annual emissions per 100k of population=%{y}<extra></extra>\",\"hovertext\":[\"High CAV adoption\",\"High CAV adoption\",\"High CAV adoption\",\"High CAV adoption\",\"High CAV adoption\"],\"legendgroup\":\"NV\",\"line\":{\"color\":\"#FF6692\",\"dash\":\"solid\"},\"marker\":{\"symbol\":\"circle\"},\"mode\":\"lines\",\"name\":\"NV\",\"orientation\":\"v\",\"showlegend\":true,\"x\":[2008,2011,2014,2017,2020],\"xaxis\":\"x\",\"y\":[19.24798969,10.03255372,6.947807635,4.347604467,2.579312835],\"yaxis\":\"y\",\"type\":\"scatter\"},{\"hovertemplate\":\"<b>%{hovertext}</b><br><br>State=ND<br>=%{x}<br>Tons of annual emissions per 100k of population=%{y}<extra></extra>\",\"hovertext\":[\"Low CAV adoption\",\"Low CAV adoption\",\"Low CAV adoption\",\"Low CAV adoption\",\"Low CAV adoption\"],\"legendgroup\":\"ND\",\"line\":{\"color\":\"#B6E880\",\"dash\":\"solid\"},\"marker\":{\"symbol\":\"circle\"},\"mode\":\"lines\",\"name\":\"ND\",\"orientation\":\"v\",\"showlegend\":true,\"x\":[2008,2011,2014,2017,2020],\"xaxis\":\"x\",\"y\":[13.1928842,14.11699082,13.46208098,8.682697814,4.047988202],\"yaxis\":\"y\",\"type\":\"scatter\"},{\"hovertemplate\":\"<b>%{hovertext}</b><br><br>State=WY<br>=%{x}<br>Tons of annual emissions per 100k of population=%{y}<extra></extra>\",\"hovertext\":[\"Low CAV adoption\",\"Low CAV adoption\",\"Low CAV adoption\",\"Low CAV adoption\",\"Low CAV adoption\"],\"legendgroup\":\"WY\",\"line\":{\"color\":\"#FF97FF\",\"dash\":\"solid\"},\"marker\":{\"symbol\":\"circle\"},\"mode\":\"lines\",\"name\":\"WY\",\"orientation\":\"v\",\"showlegend\":true,\"x\":[2008,2011,2014,2017,2020],\"xaxis\":\"x\",\"y\":[28.30507984,18.11178428,16.04791578,12.832064,5.990834392],\"yaxis\":\"y\",\"type\":\"scatter\"},{\"hovertemplate\":\"<b>%{hovertext}</b><br><br>State=SD<br>=%{x}<br>Tons of annual emissions per 100k of population=%{y}<extra></extra>\",\"hovertext\":[\"Low CAV adoption\",\"Low CAV adoption\",\"Low CAV adoption\",\"Low CAV adoption\",\"Low CAV adoption\"],\"legendgroup\":\"SD\",\"line\":{\"color\":\"#FECB52\",\"dash\":\"solid\"},\"marker\":{\"symbol\":\"circle\"},\"mode\":\"lines\",\"name\":\"SD\",\"orientation\":\"v\",\"showlegend\":true,\"x\":[2008,2011,2014,2017,2020],\"xaxis\":\"x\",\"y\":[12.51911097,11.58124857,9.781988266,7.421949747,3.643745387],\"yaxis\":\"y\",\"type\":\"scatter\"}],                        {\"template\":{\"data\":{\"histogram2dcontour\":[{\"type\":\"histogram2dcontour\",\"colorbar\":{\"outlinewidth\":0,\"ticks\":\"\"},\"colorscale\":[[0.0,\"#0d0887\"],[0.1111111111111111,\"#46039f\"],[0.2222222222222222,\"#7201a8\"],[0.3333333333333333,\"#9c179e\"],[0.4444444444444444,\"#bd3786\"],[0.5555555555555556,\"#d8576b\"],[0.6666666666666666,\"#ed7953\"],[0.7777777777777778,\"#fb9f3a\"],[0.8888888888888888,\"#fdca26\"],[1.0,\"#f0f921\"]]}],\"choropleth\":[{\"type\":\"choropleth\",\"colorbar\":{\"outlinewidth\":0,\"ticks\":\"\"}}],\"histogram2d\":[{\"type\":\"histogram2d\",\"colorbar\":{\"outlinewidth\":0,\"ticks\":\"\"},\"colorscale\":[[0.0,\"#0d0887\"],[0.1111111111111111,\"#46039f\"],[0.2222222222222222,\"#7201a8\"],[0.3333333333333333,\"#9c179e\"],[0.4444444444444444,\"#bd3786\"],[0.5555555555555556,\"#d8576b\"],[0.6666666666666666,\"#ed7953\"],[0.7777777777777778,\"#fb9f3a\"],[0.8888888888888888,\"#fdca26\"],[1.0,\"#f0f921\"]]}],\"heatmap\":[{\"type\":\"heatmap\",\"colorbar\":{\"outlinewidth\":0,\"ticks\":\"\"},\"colorscale\":[[0.0,\"#0d0887\"],[0.1111111111111111,\"#46039f\"],[0.2222222222222222,\"#7201a8\"],[0.3333333333333333,\"#9c179e\"],[0.4444444444444444,\"#bd3786\"],[0.5555555555555556,\"#d8576b\"],[0.6666666666666666,\"#ed7953\"],[0.7777777777777778,\"#fb9f3a\"],[0.8888888888888888,\"#fdca26\"],[1.0,\"#f0f921\"]]}],\"heatmapgl\":[{\"type\":\"heatmapgl\",\"colorbar\":{\"outlinewidth\":0,\"ticks\":\"\"},\"colorscale\":[[0.0,\"#0d0887\"],[0.1111111111111111,\"#46039f\"],[0.2222222222222222,\"#7201a8\"],[0.3333333333333333,\"#9c179e\"],[0.4444444444444444,\"#bd3786\"],[0.5555555555555556,\"#d8576b\"],[0.6666666666666666,\"#ed7953\"],[0.7777777777777778,\"#fb9f3a\"],[0.8888888888888888,\"#fdca26\"],[1.0,\"#f0f921\"]]}],\"contourcarpet\":[{\"type\":\"contourcarpet\",\"colorbar\":{\"outlinewidth\":0,\"ticks\":\"\"}}],\"contour\":[{\"type\":\"contour\",\"colorbar\":{\"outlinewidth\":0,\"ticks\":\"\"},\"colorscale\":[[0.0,\"#0d0887\"],[0.1111111111111111,\"#46039f\"],[0.2222222222222222,\"#7201a8\"],[0.3333333333333333,\"#9c179e\"],[0.4444444444444444,\"#bd3786\"],[0.5555555555555556,\"#d8576b\"],[0.6666666666666666,\"#ed7953\"],[0.7777777777777778,\"#fb9f3a\"],[0.8888888888888888,\"#fdca26\"],[1.0,\"#f0f921\"]]}],\"surface\":[{\"type\":\"surface\",\"colorbar\":{\"outlinewidth\":0,\"ticks\":\"\"},\"colorscale\":[[0.0,\"#0d0887\"],[0.1111111111111111,\"#46039f\"],[0.2222222222222222,\"#7201a8\"],[0.3333333333333333,\"#9c179e\"],[0.4444444444444444,\"#bd3786\"],[0.5555555555555556,\"#d8576b\"],[0.6666666666666666,\"#ed7953\"],[0.7777777777777778,\"#fb9f3a\"],[0.8888888888888888,\"#fdca26\"],[1.0,\"#f0f921\"]]}],\"mesh3d\":[{\"type\":\"mesh3d\",\"colorbar\":{\"outlinewidth\":0,\"ticks\":\"\"}}],\"scatter\":[{\"fillpattern\":{\"fillmode\":\"overlay\",\"size\":10,\"solidity\":0.2},\"type\":\"scatter\"}],\"parcoords\":[{\"type\":\"parcoords\",\"line\":{\"colorbar\":{\"outlinewidth\":0,\"ticks\":\"\"}}}],\"scatterpolargl\":[{\"type\":\"scatterpolargl\",\"marker\":{\"colorbar\":{\"outlinewidth\":0,\"ticks\":\"\"}}}],\"bar\":[{\"error_x\":{\"color\":\"#2a3f5f\"},\"error_y\":{\"color\":\"#2a3f5f\"},\"marker\":{\"line\":{\"color\":\"#E5ECF6\",\"width\":0.5},\"pattern\":{\"fillmode\":\"overlay\",\"size\":10,\"solidity\":0.2}},\"type\":\"bar\"}],\"scattergeo\":[{\"type\":\"scattergeo\",\"marker\":{\"colorbar\":{\"outlinewidth\":0,\"ticks\":\"\"}}}],\"scatterpolar\":[{\"type\":\"scatterpolar\",\"marker\":{\"colorbar\":{\"outlinewidth\":0,\"ticks\":\"\"}}}],\"histogram\":[{\"marker\":{\"pattern\":{\"fillmode\":\"overlay\",\"size\":10,\"solidity\":0.2}},\"type\":\"histogram\"}],\"scattergl\":[{\"type\":\"scattergl\",\"marker\":{\"colorbar\":{\"outlinewidth\":0,\"ticks\":\"\"}}}],\"scatter3d\":[{\"type\":\"scatter3d\",\"line\":{\"colorbar\":{\"outlinewidth\":0,\"ticks\":\"\"}},\"marker\":{\"colorbar\":{\"outlinewidth\":0,\"ticks\":\"\"}}}],\"scattermapbox\":[{\"type\":\"scattermapbox\",\"marker\":{\"colorbar\":{\"outlinewidth\":0,\"ticks\":\"\"}}}],\"scatterternary\":[{\"type\":\"scatterternary\",\"marker\":{\"colorbar\":{\"outlinewidth\":0,\"ticks\":\"\"}}}],\"scattercarpet\":[{\"type\":\"scattercarpet\",\"marker\":{\"colorbar\":{\"outlinewidth\":0,\"ticks\":\"\"}}}],\"carpet\":[{\"aaxis\":{\"endlinecolor\":\"#2a3f5f\",\"gridcolor\":\"white\",\"linecolor\":\"white\",\"minorgridcolor\":\"white\",\"startlinecolor\":\"#2a3f5f\"},\"baxis\":{\"endlinecolor\":\"#2a3f5f\",\"gridcolor\":\"white\",\"linecolor\":\"white\",\"minorgridcolor\":\"white\",\"startlinecolor\":\"#2a3f5f\"},\"type\":\"carpet\"}],\"table\":[{\"cells\":{\"fill\":{\"color\":\"#EBF0F8\"},\"line\":{\"color\":\"white\"}},\"header\":{\"fill\":{\"color\":\"#C8D4E3\"},\"line\":{\"color\":\"white\"}},\"type\":\"table\"}],\"barpolar\":[{\"marker\":{\"line\":{\"color\":\"#E5ECF6\",\"width\":0.5},\"pattern\":{\"fillmode\":\"overlay\",\"size\":10,\"solidity\":0.2}},\"type\":\"barpolar\"}],\"pie\":[{\"automargin\":true,\"type\":\"pie\"}]},\"layout\":{\"autotypenumbers\":\"strict\",\"colorway\":[\"#636efa\",\"#EF553B\",\"#00cc96\",\"#ab63fa\",\"#FFA15A\",\"#19d3f3\",\"#FF6692\",\"#B6E880\",\"#FF97FF\",\"#FECB52\"],\"font\":{\"color\":\"#2a3f5f\"},\"hovermode\":\"closest\",\"hoverlabel\":{\"align\":\"left\"},\"paper_bgcolor\":\"white\",\"plot_bgcolor\":\"#E5ECF6\",\"polar\":{\"bgcolor\":\"#E5ECF6\",\"angularaxis\":{\"gridcolor\":\"white\",\"linecolor\":\"white\",\"ticks\":\"\"},\"radialaxis\":{\"gridcolor\":\"white\",\"linecolor\":\"white\",\"ticks\":\"\"}},\"ternary\":{\"bgcolor\":\"#E5ECF6\",\"aaxis\":{\"gridcolor\":\"white\",\"linecolor\":\"white\",\"ticks\":\"\"},\"baxis\":{\"gridcolor\":\"white\",\"linecolor\":\"white\",\"ticks\":\"\"},\"caxis\":{\"gridcolor\":\"white\",\"linecolor\":\"white\",\"ticks\":\"\"}},\"coloraxis\":{\"colorbar\":{\"outlinewidth\":0,\"ticks\":\"\"}},\"colorscale\":{\"sequential\":[[0.0,\"#0d0887\"],[0.1111111111111111,\"#46039f\"],[0.2222222222222222,\"#7201a8\"],[0.3333333333333333,\"#9c179e\"],[0.4444444444444444,\"#bd3786\"],[0.5555555555555556,\"#d8576b\"],[0.6666666666666666,\"#ed7953\"],[0.7777777777777778,\"#fb9f3a\"],[0.8888888888888888,\"#fdca26\"],[1.0,\"#f0f921\"]],\"sequentialminus\":[[0.0,\"#0d0887\"],[0.1111111111111111,\"#46039f\"],[0.2222222222222222,\"#7201a8\"],[0.3333333333333333,\"#9c179e\"],[0.4444444444444444,\"#bd3786\"],[0.5555555555555556,\"#d8576b\"],[0.6666666666666666,\"#ed7953\"],[0.7777777777777778,\"#fb9f3a\"],[0.8888888888888888,\"#fdca26\"],[1.0,\"#f0f921\"]],\"diverging\":[[0,\"#8e0152\"],[0.1,\"#c51b7d\"],[0.2,\"#de77ae\"],[0.3,\"#f1b6da\"],[0.4,\"#fde0ef\"],[0.5,\"#f7f7f7\"],[0.6,\"#e6f5d0\"],[0.7,\"#b8e186\"],[0.8,\"#7fbc41\"],[0.9,\"#4d9221\"],[1,\"#276419\"]]},\"xaxis\":{\"gridcolor\":\"white\",\"linecolor\":\"white\",\"ticks\":\"\",\"title\":{\"standoff\":15},\"zerolinecolor\":\"white\",\"automargin\":true,\"zerolinewidth\":2},\"yaxis\":{\"gridcolor\":\"white\",\"linecolor\":\"white\",\"ticks\":\"\",\"title\":{\"standoff\":15},\"zerolinecolor\":\"white\",\"automargin\":true,\"zerolinewidth\":2},\"scene\":{\"xaxis\":{\"backgroundcolor\":\"#E5ECF6\",\"gridcolor\":\"white\",\"linecolor\":\"white\",\"showbackground\":true,\"ticks\":\"\",\"zerolinecolor\":\"white\",\"gridwidth\":2},\"yaxis\":{\"backgroundcolor\":\"#E5ECF6\",\"gridcolor\":\"white\",\"linecolor\":\"white\",\"showbackground\":true,\"ticks\":\"\",\"zerolinecolor\":\"white\",\"gridwidth\":2},\"zaxis\":{\"backgroundcolor\":\"#E5ECF6\",\"gridcolor\":\"white\",\"linecolor\":\"white\",\"showbackground\":true,\"ticks\":\"\",\"zerolinecolor\":\"white\",\"gridwidth\":2}},\"shapedefaults\":{\"line\":{\"color\":\"#2a3f5f\"}},\"annotationdefaults\":{\"arrowcolor\":\"#2a3f5f\",\"arrowhead\":0,\"arrowwidth\":1},\"geo\":{\"bgcolor\":\"white\",\"landcolor\":\"#E5ECF6\",\"subunitcolor\":\"white\",\"showland\":true,\"showlakes\":true,\"lakecolor\":\"white\"},\"title\":{\"x\":0.05},\"mapbox\":{\"style\":\"light\"}}},\"xaxis\":{\"anchor\":\"y\",\"domain\":[0.0,1.0],\"title\":{\"text\":\"\"}},\"yaxis\":{\"anchor\":\"x\",\"domain\":[0.0,1.0],\"title\":{\"text\":\"Tons of annual emissions per 100k of population\"}},\"legend\":{\"title\":{\"text\":\"State\"},\"tracegroupgap\":0},\"margin\":{\"t\":60},\"font\":{\"color\":\"white\"},\"plot_bgcolor\":\"black\",\"paper_bgcolor\":\"black\",\"title\":{\"text\":\"Sulfur Dioxide emisions per 100k of population\"}},                        {\"responsive\": true}                    ).then(function(){\n",
       "                            \n",
       "var gd = document.getElementById('e315b901-66f6-40a8-b93d-6913e3dffa20');\n",
       "var x = new MutationObserver(function (mutations, observer) {{\n",
       "        var display = window.getComputedStyle(gd).display;\n",
       "        if (!display || display === 'none') {{\n",
       "            console.log([gd, 'removed!']);\n",
       "            Plotly.purge(gd);\n",
       "            observer.disconnect();\n",
       "        }}\n",
       "}});\n",
       "\n",
       "// Listen for the removal of the full notebook cells\n",
       "var notebookContainer = gd.closest('#notebook-container');\n",
       "if (notebookContainer) {{\n",
       "    x.observe(notebookContainer, {childList: true});\n",
       "}}\n",
       "\n",
       "// Listen for the clearing of the current output cell\n",
       "var outputEl = gd.closest('.output');\n",
       "if (outputEl) {{\n",
       "    x.observe(outputEl, {childList: true});\n",
       "}}\n",
       "\n",
       "                        })                };                });            </script>        </div>"
      ]
     },
     "metadata": {},
     "output_type": "display_data"
    }
   ],
   "source": [
    "Sulfur_Dioxide = nei_by_pollutant.loc[(nei_by_pollutant[\"Pollutant\"] == 'Sulfur Dioxide')]\n",
    "\n",
    "Sulfur_Dioxide_plot = px.line(\n",
    "    Sulfur_Dioxide,\n",
    "    x = \"Year\",\n",
    "    y = \"Emmisions_per_100k\",\n",
    "    hover_name = \"CAV_adoption\",\n",
    "    color = \"State\",\n",
    "    labels = {\n",
    "        \"Year\":'',\n",
    "        \"Emmisions_per_100k\": \"Tons of annual emissions per 100k of population\"\n",
    "    }\n",
    ")\n",
    "\n",
    "Sulfur_Dioxide_plot.update_layout(\n",
    "#     yaxis_range=[0,6],\n",
    "    font_color=\"white\",\n",
    "    legend=dict(\n",
    "    title=\"State\"\n",
    "))\n",
    "\n",
    "Sulfur_Dioxide_plot.update_layout({\n",
    "    'plot_bgcolor':'black',\n",
    "    'paper_bgcolor':'black',\n",
    "    'title':'Sulfur Dioxide emisions per 100k of population'\n",
    "})\n",
    "\n",
    "Sulfur_Dioxide_plot.show()"
   ]
  },
  {
   "cell_type": "code",
   "execution_count": 42,
   "id": "10c3fc76",
   "metadata": {},
   "outputs": [
    {
     "data": {
      "application/vnd.plotly.v1+json": {
       "config": {
        "plotlyServerURL": "https://plot.ly"
       },
       "data": [
        {
         "hovertemplate": "<b>%{hovertext}</b><br><br>State=VT<br>=%{x}<br>Tons of annual emissions per 100k of population=%{y}<extra></extra>",
         "hovertext": [
          "High CAV adoption",
          "High CAV adoption",
          "High CAV adoption",
          "High CAV adoption",
          "High CAV adoption"
         ],
         "legendgroup": "VT",
         "line": {
          "color": "#636efa",
          "dash": "solid"
         },
         "marker": {
          "symbol": "circle"
         },
         "mode": "lines",
         "name": "VT",
         "orientation": "v",
         "showlegend": true,
         "type": "scatter",
         "x": [
          2008,
          2011,
          2014,
          2017,
          2020
         ],
         "xaxis": "x",
         "y": [
          1005.141613,
          845.7631794,
          722.9225852,
          495.4157215,
          269.2291376
         ],
         "yaxis": "y"
        },
        {
         "hovertemplate": "<b>%{hovertext}</b><br><br>State=MA<br>=%{x}<br>Tons of annual emissions per 100k of population=%{y}<extra></extra>",
         "hovertext": [
          "High CAV adoption",
          "High CAV adoption",
          "High CAV adoption",
          "High CAV adoption",
          "High CAV adoption"
         ],
         "legendgroup": "MA",
         "line": {
          "color": "#EF553B",
          "dash": "solid"
         },
         "marker": {
          "symbol": "circle"
         },
         "mode": "lines",
         "name": "MA",
         "orientation": "v",
         "showlegend": true,
         "type": "scatter",
         "x": [
          2008,
          2011,
          2014,
          2017,
          2020
         ],
         "xaxis": "x",
         "y": [
          533.0281587,
          518.7521243,
          434.0875051,
          360.4872934,
          193.8142133
         ],
         "yaxis": "y"
        },
        {
         "hovertemplate": "<b>%{hovertext}</b><br><br>State=MD<br>=%{x}<br>Tons of annual emissions per 100k of population=%{y}<extra></extra>",
         "hovertext": [
          "High CAV adoption",
          "High CAV adoption",
          "High CAV adoption",
          "High CAV adoption",
          "High CAV adoption"
         ],
         "legendgroup": "MD",
         "line": {
          "color": "#00cc96",
          "dash": "solid"
         },
         "marker": {
          "symbol": "circle"
         },
         "mode": "lines",
         "name": "MD",
         "orientation": "v",
         "showlegend": true,
         "type": "scatter",
         "x": [
          2008,
          2011,
          2014,
          2017,
          2020
         ],
         "xaxis": "x",
         "y": [
          718.0570717,
          628.7231094,
          567.2437443,
          399.5822072,
          250.4103411
         ],
         "yaxis": "y"
        },
        {
         "hovertemplate": "<b>%{hovertext}</b><br><br>State=VA<br>=%{x}<br>Tons of annual emissions per 100k of population=%{y}<extra></extra>",
         "hovertext": [
          "High CAV adoption",
          "High CAV adoption",
          "High CAV adoption",
          "High CAV adoption",
          "High CAV adoption"
         ],
         "legendgroup": "VA",
         "line": {
          "color": "#ab63fa",
          "dash": "solid"
         },
         "marker": {
          "symbol": "circle"
         },
         "mode": "lines",
         "name": "VA",
         "orientation": "v",
         "showlegend": true,
         "type": "scatter",
         "x": [
          2008,
          2011,
          2014,
          2017,
          2020
         ],
         "xaxis": "x",
         "y": [
          1054.545809,
          788.0355304,
          783.3606632,
          648.5376196,
          320.7302834
         ],
         "yaxis": "y"
        },
        {
         "hovertemplate": "<b>%{hovertext}</b><br><br>State=WV<br>=%{x}<br>Tons of annual emissions per 100k of population=%{y}<extra></extra>",
         "hovertext": [
          "Low CAV adoption",
          "Low CAV adoption",
          "Low CAV adoption",
          "Low CAV adoption",
          "Low CAV adoption"
         ],
         "legendgroup": "WV",
         "line": {
          "color": "#FFA15A",
          "dash": "solid"
         },
         "marker": {
          "symbol": "circle"
         },
         "mode": "lines",
         "name": "WV",
         "orientation": "v",
         "showlegend": true,
         "type": "scatter",
         "x": [
          2008,
          2011,
          2014,
          2017,
          2020
         ],
         "xaxis": "x",
         "y": [
          1205.925821,
          1118.117347,
          937.6939784,
          766.0588711,
          339.236062
         ],
         "yaxis": "y"
        },
        {
         "hovertemplate": "<b>%{hovertext}</b><br><br>State=AL<br>=%{x}<br>Tons of annual emissions per 100k of population=%{y}<extra></extra>",
         "hovertext": [
          "Low CAV adoption",
          "Low CAV adoption",
          "Low CAV adoption",
          "Low CAV adoption",
          "Low CAV adoption"
         ],
         "legendgroup": "AL",
         "line": {
          "color": "#19d3f3",
          "dash": "solid"
         },
         "marker": {
          "symbol": "circle"
         },
         "mode": "lines",
         "name": "AL",
         "orientation": "v",
         "showlegend": true,
         "type": "scatter",
         "x": [
          2008,
          2011,
          2014,
          2017,
          2020
         ],
         "xaxis": "x",
         "y": [
          1253.254238,
          1591.542792,
          1388.975594,
          1044.555877,
          565.8597253
         ],
         "yaxis": "y"
        },
        {
         "hovertemplate": "<b>%{hovertext}</b><br><br>State=KY<br>=%{x}<br>Tons of annual emissions per 100k of population=%{y}<extra></extra>",
         "hovertext": [
          "Low CAV adoption",
          "Low CAV adoption",
          "Low CAV adoption",
          "Low CAV adoption",
          "Low CAV adoption"
         ],
         "legendgroup": "KY",
         "line": {
          "color": "#FF6692",
          "dash": "solid"
         },
         "marker": {
          "symbol": "circle"
         },
         "mode": "lines",
         "name": "KY",
         "orientation": "v",
         "showlegend": true,
         "type": "scatter",
         "x": [
          2008,
          2011,
          2014,
          2017,
          2020
         ],
         "xaxis": "x",
         "y": [
          1090.899377,
          1165.322704,
          1073.591242,
          769.7197143,
          402.9923191
         ],
         "yaxis": "y"
        },
        {
         "hovertemplate": "<b>%{hovertext}</b><br><br>State=MI<br>=%{x}<br>Tons of annual emissions per 100k of population=%{y}<extra></extra>",
         "hovertext": [
          "Low CAV adoption",
          "Low CAV adoption",
          "Low CAV adoption",
          "Low CAV adoption",
          "Low CAV adoption"
         ],
         "legendgroup": "MI",
         "line": {
          "color": "#B6E880",
          "dash": "solid"
         },
         "marker": {
          "symbol": "circle"
         },
         "mode": "lines",
         "name": "MI",
         "orientation": "v",
         "showlegend": true,
         "type": "scatter",
         "x": [
          2008,
          2011,
          2014,
          2017,
          2020
         ],
         "xaxis": "x",
         "y": [
          1219.411815,
          1082.423412,
          853.5743038,
          619.3370458,
          294.4303681
         ],
         "yaxis": "y"
        },
        {
         "hovertemplate": "<b>%{hovertext}</b><br><br>State=LA<br>=%{x}<br>Tons of annual emissions per 100k of population=%{y}<extra></extra>",
         "hovertext": [
          "Low CAV adoption",
          "Low CAV adoption",
          "Low CAV adoption",
          "Low CAV adoption",
          "Low CAV adoption"
         ],
         "legendgroup": "LA",
         "line": {
          "color": "#FF97FF",
          "dash": "solid"
         },
         "marker": {
          "symbol": "circle"
         },
         "mode": "lines",
         "name": "LA",
         "orientation": "v",
         "showlegend": true,
         "type": "scatter",
         "x": [
          2008,
          2011,
          2014,
          2017,
          2020
         ],
         "xaxis": "x",
         "y": [
          1037.37876,
          1063.221833,
          863.1765794,
          644.9276112,
          348.3948693
         ],
         "yaxis": "y"
        },
        {
         "hovertemplate": "<b>%{hovertext}</b><br><br>State=AR<br>=%{x}<br>Tons of annual emissions per 100k of population=%{y}<extra></extra>",
         "hovertext": [
          "Low CAV adoption",
          "Low CAV adoption",
          "Low CAV adoption",
          "Low CAV adoption",
          "Low CAV adoption"
         ],
         "legendgroup": "AR",
         "line": {
          "color": "#FECB52",
          "dash": "solid"
         },
         "marker": {
          "symbol": "circle"
         },
         "mode": "lines",
         "name": "AR",
         "orientation": "v",
         "showlegend": true,
         "type": "scatter",
         "x": [
          2008,
          2011,
          2014,
          2017,
          2020
         ],
         "xaxis": "x",
         "y": [
          1424.653955,
          1203.878229,
          1117.351699,
          751.9613527,
          386.8239528
         ],
         "yaxis": "y"
        },
        {
         "hovertemplate": "<b>%{hovertext}</b><br><br>State=OK<br>=%{x}<br>Tons of annual emissions per 100k of population=%{y}<extra></extra>",
         "hovertext": [
          "Low CAV adoption",
          "Low CAV adoption",
          "Low CAV adoption",
          "Low CAV adoption",
          "Low CAV adoption"
         ],
         "legendgroup": "OK",
         "line": {
          "color": "#636efa",
          "dash": "solid"
         },
         "marker": {
          "symbol": "circle"
         },
         "mode": "lines",
         "name": "OK",
         "orientation": "v",
         "showlegend": true,
         "type": "scatter",
         "x": [
          2008,
          2011,
          2014,
          2017,
          2020
         ],
         "xaxis": "x",
         "y": [
          1552.46933,
          1450.984257,
          1101.654132,
          939.2749051,
          490.3188594
         ],
         "yaxis": "y"
        },
        {
         "hovertemplate": "<b>%{hovertext}</b><br><br>State=CA<br>=%{x}<br>Tons of annual emissions per 100k of population=%{y}<extra></extra>",
         "hovertext": [
          "High CAV adoption",
          "High CAV adoption",
          "High CAV adoption",
          "High CAV adoption",
          "High CAV adoption"
         ],
         "legendgroup": "CA",
         "line": {
          "color": "#EF553B",
          "dash": "solid"
         },
         "marker": {
          "symbol": "circle"
         },
         "mode": "lines",
         "name": "CA",
         "orientation": "v",
         "showlegend": true,
         "type": "scatter",
         "x": [
          2008,
          2011,
          2014,
          2017,
          2020
         ],
         "xaxis": "x",
         "y": [
          675.7874292,
          457.0806804,
          323.4388646,
          226.5243785,
          175.8982759
         ],
         "yaxis": "y"
        },
        {
         "hovertemplate": "<b>%{hovertext}</b><br><br>State=WA<br>=%{x}<br>Tons of annual emissions per 100k of population=%{y}<extra></extra>",
         "hovertext": [
          "High CAV adoption",
          "High CAV adoption",
          "High CAV adoption",
          "High CAV adoption",
          "High CAV adoption"
         ],
         "legendgroup": "WA",
         "line": {
          "color": "#00cc96",
          "dash": "solid"
         },
         "marker": {
          "symbol": "circle"
         },
         "mode": "lines",
         "name": "WA",
         "orientation": "v",
         "showlegend": true,
         "type": "scatter",
         "x": [
          2008,
          2011,
          2014,
          2017,
          2020
         ],
         "xaxis": "x",
         "y": [
          1163.644508,
          1140.387857,
          999.8825504,
          796.4304341,
          372.1879379
         ],
         "yaxis": "y"
        },
        {
         "hovertemplate": "<b>%{hovertext}</b><br><br>State=OR<br>=%{x}<br>Tons of annual emissions per 100k of population=%{y}<extra></extra>",
         "hovertext": [
          "High CAV adoption",
          "High CAV adoption",
          "High CAV adoption",
          "High CAV adoption",
          "High CAV adoption"
         ],
         "legendgroup": "OR",
         "line": {
          "color": "#ab63fa",
          "dash": "solid"
         },
         "marker": {
          "symbol": "circle"
         },
         "mode": "lines",
         "name": "OR",
         "orientation": "v",
         "showlegend": true,
         "type": "scatter",
         "x": [
          2008,
          2011,
          2014,
          2017,
          2020
         ],
         "xaxis": "x",
         "y": [
          1136.158816,
          1167.322774,
          1016.041936,
          817.3021661,
          592.6671258
         ],
         "yaxis": "y"
        },
        {
         "hovertemplate": "<b>%{hovertext}</b><br><br>State=HI<br>=%{x}<br>Tons of annual emissions per 100k of population=%{y}<extra></extra>",
         "hovertext": [
          "High CAV adoption",
          "High CAV adoption",
          "High CAV adoption",
          "High CAV adoption",
          "High CAV adoption"
         ],
         "legendgroup": "HI",
         "line": {
          "color": "#FFA15A",
          "dash": "solid"
         },
         "marker": {
          "symbol": "circle"
         },
         "mode": "lines",
         "name": "HI",
         "orientation": "v",
         "showlegend": true,
         "type": "scatter",
         "x": [
          2008,
          2011,
          2014,
          2017,
          2020
         ],
         "xaxis": "x",
         "y": [
          851.9395812,
          810.4193893,
          733.6128793,
          568.7538452,
          332.9389281
         ],
         "yaxis": "y"
        },
        {
         "hovertemplate": "<b>%{hovertext}</b><br><br>State=CO<br>=%{x}<br>Tons of annual emissions per 100k of population=%{y}<extra></extra>",
         "hovertext": [
          "High CAV adoption",
          "High CAV adoption",
          "High CAV adoption",
          "High CAV adoption",
          "High CAV adoption"
         ],
         "legendgroup": "CO",
         "line": {
          "color": "#19d3f3",
          "dash": "solid"
         },
         "marker": {
          "symbol": "circle"
         },
         "mode": "lines",
         "name": "CO",
         "orientation": "v",
         "showlegend": true,
         "type": "scatter",
         "x": [
          2008,
          2011,
          2014,
          2017,
          2020
         ],
         "xaxis": "x",
         "y": [
          972.5871423,
          1116.752896,
          885.8665527,
          666.0295953,
          383.0651927
         ],
         "yaxis": "y"
        },
        {
         "hovertemplate": "<b>%{hovertext}</b><br><br>State=NV<br>=%{x}<br>Tons of annual emissions per 100k of population=%{y}<extra></extra>",
         "hovertext": [
          "High CAV adoption",
          "High CAV adoption",
          "High CAV adoption",
          "High CAV adoption",
          "High CAV adoption"
         ],
         "legendgroup": "NV",
         "line": {
          "color": "#FF6692",
          "dash": "solid"
         },
         "marker": {
          "symbol": "circle"
         },
         "mode": "lines",
         "name": "NV",
         "orientation": "v",
         "showlegend": true,
         "type": "scatter",
         "x": [
          2008,
          2011,
          2014,
          2017,
          2020
         ],
         "xaxis": "x",
         "y": [
          1020.638194,
          892.3139638,
          709.6848692,
          541.7409151,
          339.8911649
         ],
         "yaxis": "y"
        },
        {
         "hovertemplate": "<b>%{hovertext}</b><br><br>State=ND<br>=%{x}<br>Tons of annual emissions per 100k of population=%{y}<extra></extra>",
         "hovertext": [
          "Low CAV adoption",
          "Low CAV adoption",
          "Low CAV adoption",
          "Low CAV adoption",
          "Low CAV adoption"
         ],
         "legendgroup": "ND",
         "line": {
          "color": "#B6E880",
          "dash": "solid"
         },
         "marker": {
          "symbol": "circle"
         },
         "mode": "lines",
         "name": "ND",
         "orientation": "v",
         "showlegend": true,
         "type": "scatter",
         "x": [
          2008,
          2011,
          2014,
          2017,
          2020
         ],
         "xaxis": "x",
         "y": [
          1442.686276,
          1709.525187,
          1556.117274,
          1008.431174,
          529.8950442
         ],
         "yaxis": "y"
        },
        {
         "hovertemplate": "<b>%{hovertext}</b><br><br>State=WY<br>=%{x}<br>Tons of annual emissions per 100k of population=%{y}<extra></extra>",
         "hovertext": [
          "Low CAV adoption",
          "Low CAV adoption",
          "Low CAV adoption",
          "Low CAV adoption",
          "Low CAV adoption"
         ],
         "legendgroup": "WY",
         "line": {
          "color": "#FF97FF",
          "dash": "solid"
         },
         "marker": {
          "symbol": "circle"
         },
         "mode": "lines",
         "name": "WY",
         "orientation": "v",
         "showlegend": true,
         "type": "scatter",
         "x": [
          2008,
          2011,
          2014,
          2017,
          2020
         ],
         "xaxis": "x",
         "y": [
          1920.354744,
          2069.180632,
          1781.954775,
          1272.491697,
          747.766999
         ],
         "yaxis": "y"
        },
        {
         "hovertemplate": "<b>%{hovertext}</b><br><br>State=SD<br>=%{x}<br>Tons of annual emissions per 100k of population=%{y}<extra></extra>",
         "hovertext": [
          "Low CAV adoption",
          "Low CAV adoption",
          "Low CAV adoption",
          "Low CAV adoption",
          "Low CAV adoption"
         ],
         "legendgroup": "SD",
         "line": {
          "color": "#FECB52",
          "dash": "solid"
         },
         "marker": {
          "symbol": "circle"
         },
         "mode": "lines",
         "name": "SD",
         "orientation": "v",
         "showlegend": true,
         "type": "scatter",
         "x": [
          2008,
          2011,
          2014,
          2017,
          2020
         ],
         "xaxis": "x",
         "y": [
          1288.879327,
          1689.900447,
          1473.094781,
          1040.745273,
          557.5976442
         ],
         "yaxis": "y"
        }
       ],
       "layout": {
        "font": {
         "color": "white"
        },
        "legend": {
         "title": {
          "text": "State"
         },
         "tracegroupgap": 0
        },
        "margin": {
         "t": 60
        },
        "paper_bgcolor": "black",
        "plot_bgcolor": "black",
        "template": {
         "data": {
          "bar": [
           {
            "error_x": {
             "color": "#2a3f5f"
            },
            "error_y": {
             "color": "#2a3f5f"
            },
            "marker": {
             "line": {
              "color": "#E5ECF6",
              "width": 0.5
             },
             "pattern": {
              "fillmode": "overlay",
              "size": 10,
              "solidity": 0.2
             }
            },
            "type": "bar"
           }
          ],
          "barpolar": [
           {
            "marker": {
             "line": {
              "color": "#E5ECF6",
              "width": 0.5
             },
             "pattern": {
              "fillmode": "overlay",
              "size": 10,
              "solidity": 0.2
             }
            },
            "type": "barpolar"
           }
          ],
          "carpet": [
           {
            "aaxis": {
             "endlinecolor": "#2a3f5f",
             "gridcolor": "white",
             "linecolor": "white",
             "minorgridcolor": "white",
             "startlinecolor": "#2a3f5f"
            },
            "baxis": {
             "endlinecolor": "#2a3f5f",
             "gridcolor": "white",
             "linecolor": "white",
             "minorgridcolor": "white",
             "startlinecolor": "#2a3f5f"
            },
            "type": "carpet"
           }
          ],
          "choropleth": [
           {
            "colorbar": {
             "outlinewidth": 0,
             "ticks": ""
            },
            "type": "choropleth"
           }
          ],
          "contour": [
           {
            "colorbar": {
             "outlinewidth": 0,
             "ticks": ""
            },
            "colorscale": [
             [
              0,
              "#0d0887"
             ],
             [
              0.1111111111111111,
              "#46039f"
             ],
             [
              0.2222222222222222,
              "#7201a8"
             ],
             [
              0.3333333333333333,
              "#9c179e"
             ],
             [
              0.4444444444444444,
              "#bd3786"
             ],
             [
              0.5555555555555556,
              "#d8576b"
             ],
             [
              0.6666666666666666,
              "#ed7953"
             ],
             [
              0.7777777777777778,
              "#fb9f3a"
             ],
             [
              0.8888888888888888,
              "#fdca26"
             ],
             [
              1,
              "#f0f921"
             ]
            ],
            "type": "contour"
           }
          ],
          "contourcarpet": [
           {
            "colorbar": {
             "outlinewidth": 0,
             "ticks": ""
            },
            "type": "contourcarpet"
           }
          ],
          "heatmap": [
           {
            "colorbar": {
             "outlinewidth": 0,
             "ticks": ""
            },
            "colorscale": [
             [
              0,
              "#0d0887"
             ],
             [
              0.1111111111111111,
              "#46039f"
             ],
             [
              0.2222222222222222,
              "#7201a8"
             ],
             [
              0.3333333333333333,
              "#9c179e"
             ],
             [
              0.4444444444444444,
              "#bd3786"
             ],
             [
              0.5555555555555556,
              "#d8576b"
             ],
             [
              0.6666666666666666,
              "#ed7953"
             ],
             [
              0.7777777777777778,
              "#fb9f3a"
             ],
             [
              0.8888888888888888,
              "#fdca26"
             ],
             [
              1,
              "#f0f921"
             ]
            ],
            "type": "heatmap"
           }
          ],
          "heatmapgl": [
           {
            "colorbar": {
             "outlinewidth": 0,
             "ticks": ""
            },
            "colorscale": [
             [
              0,
              "#0d0887"
             ],
             [
              0.1111111111111111,
              "#46039f"
             ],
             [
              0.2222222222222222,
              "#7201a8"
             ],
             [
              0.3333333333333333,
              "#9c179e"
             ],
             [
              0.4444444444444444,
              "#bd3786"
             ],
             [
              0.5555555555555556,
              "#d8576b"
             ],
             [
              0.6666666666666666,
              "#ed7953"
             ],
             [
              0.7777777777777778,
              "#fb9f3a"
             ],
             [
              0.8888888888888888,
              "#fdca26"
             ],
             [
              1,
              "#f0f921"
             ]
            ],
            "type": "heatmapgl"
           }
          ],
          "histogram": [
           {
            "marker": {
             "pattern": {
              "fillmode": "overlay",
              "size": 10,
              "solidity": 0.2
             }
            },
            "type": "histogram"
           }
          ],
          "histogram2d": [
           {
            "colorbar": {
             "outlinewidth": 0,
             "ticks": ""
            },
            "colorscale": [
             [
              0,
              "#0d0887"
             ],
             [
              0.1111111111111111,
              "#46039f"
             ],
             [
              0.2222222222222222,
              "#7201a8"
             ],
             [
              0.3333333333333333,
              "#9c179e"
             ],
             [
              0.4444444444444444,
              "#bd3786"
             ],
             [
              0.5555555555555556,
              "#d8576b"
             ],
             [
              0.6666666666666666,
              "#ed7953"
             ],
             [
              0.7777777777777778,
              "#fb9f3a"
             ],
             [
              0.8888888888888888,
              "#fdca26"
             ],
             [
              1,
              "#f0f921"
             ]
            ],
            "type": "histogram2d"
           }
          ],
          "histogram2dcontour": [
           {
            "colorbar": {
             "outlinewidth": 0,
             "ticks": ""
            },
            "colorscale": [
             [
              0,
              "#0d0887"
             ],
             [
              0.1111111111111111,
              "#46039f"
             ],
             [
              0.2222222222222222,
              "#7201a8"
             ],
             [
              0.3333333333333333,
              "#9c179e"
             ],
             [
              0.4444444444444444,
              "#bd3786"
             ],
             [
              0.5555555555555556,
              "#d8576b"
             ],
             [
              0.6666666666666666,
              "#ed7953"
             ],
             [
              0.7777777777777778,
              "#fb9f3a"
             ],
             [
              0.8888888888888888,
              "#fdca26"
             ],
             [
              1,
              "#f0f921"
             ]
            ],
            "type": "histogram2dcontour"
           }
          ],
          "mesh3d": [
           {
            "colorbar": {
             "outlinewidth": 0,
             "ticks": ""
            },
            "type": "mesh3d"
           }
          ],
          "parcoords": [
           {
            "line": {
             "colorbar": {
              "outlinewidth": 0,
              "ticks": ""
             }
            },
            "type": "parcoords"
           }
          ],
          "pie": [
           {
            "automargin": true,
            "type": "pie"
           }
          ],
          "scatter": [
           {
            "fillpattern": {
             "fillmode": "overlay",
             "size": 10,
             "solidity": 0.2
            },
            "type": "scatter"
           }
          ],
          "scatter3d": [
           {
            "line": {
             "colorbar": {
              "outlinewidth": 0,
              "ticks": ""
             }
            },
            "marker": {
             "colorbar": {
              "outlinewidth": 0,
              "ticks": ""
             }
            },
            "type": "scatter3d"
           }
          ],
          "scattercarpet": [
           {
            "marker": {
             "colorbar": {
              "outlinewidth": 0,
              "ticks": ""
             }
            },
            "type": "scattercarpet"
           }
          ],
          "scattergeo": [
           {
            "marker": {
             "colorbar": {
              "outlinewidth": 0,
              "ticks": ""
             }
            },
            "type": "scattergeo"
           }
          ],
          "scattergl": [
           {
            "marker": {
             "colorbar": {
              "outlinewidth": 0,
              "ticks": ""
             }
            },
            "type": "scattergl"
           }
          ],
          "scattermapbox": [
           {
            "marker": {
             "colorbar": {
              "outlinewidth": 0,
              "ticks": ""
             }
            },
            "type": "scattermapbox"
           }
          ],
          "scatterpolar": [
           {
            "marker": {
             "colorbar": {
              "outlinewidth": 0,
              "ticks": ""
             }
            },
            "type": "scatterpolar"
           }
          ],
          "scatterpolargl": [
           {
            "marker": {
             "colorbar": {
              "outlinewidth": 0,
              "ticks": ""
             }
            },
            "type": "scatterpolargl"
           }
          ],
          "scatterternary": [
           {
            "marker": {
             "colorbar": {
              "outlinewidth": 0,
              "ticks": ""
             }
            },
            "type": "scatterternary"
           }
          ],
          "surface": [
           {
            "colorbar": {
             "outlinewidth": 0,
             "ticks": ""
            },
            "colorscale": [
             [
              0,
              "#0d0887"
             ],
             [
              0.1111111111111111,
              "#46039f"
             ],
             [
              0.2222222222222222,
              "#7201a8"
             ],
             [
              0.3333333333333333,
              "#9c179e"
             ],
             [
              0.4444444444444444,
              "#bd3786"
             ],
             [
              0.5555555555555556,
              "#d8576b"
             ],
             [
              0.6666666666666666,
              "#ed7953"
             ],
             [
              0.7777777777777778,
              "#fb9f3a"
             ],
             [
              0.8888888888888888,
              "#fdca26"
             ],
             [
              1,
              "#f0f921"
             ]
            ],
            "type": "surface"
           }
          ],
          "table": [
           {
            "cells": {
             "fill": {
              "color": "#EBF0F8"
             },
             "line": {
              "color": "white"
             }
            },
            "header": {
             "fill": {
              "color": "#C8D4E3"
             },
             "line": {
              "color": "white"
             }
            },
            "type": "table"
           }
          ]
         },
         "layout": {
          "annotationdefaults": {
           "arrowcolor": "#2a3f5f",
           "arrowhead": 0,
           "arrowwidth": 1
          },
          "autotypenumbers": "strict",
          "coloraxis": {
           "colorbar": {
            "outlinewidth": 0,
            "ticks": ""
           }
          },
          "colorscale": {
           "diverging": [
            [
             0,
             "#8e0152"
            ],
            [
             0.1,
             "#c51b7d"
            ],
            [
             0.2,
             "#de77ae"
            ],
            [
             0.3,
             "#f1b6da"
            ],
            [
             0.4,
             "#fde0ef"
            ],
            [
             0.5,
             "#f7f7f7"
            ],
            [
             0.6,
             "#e6f5d0"
            ],
            [
             0.7,
             "#b8e186"
            ],
            [
             0.8,
             "#7fbc41"
            ],
            [
             0.9,
             "#4d9221"
            ],
            [
             1,
             "#276419"
            ]
           ],
           "sequential": [
            [
             0,
             "#0d0887"
            ],
            [
             0.1111111111111111,
             "#46039f"
            ],
            [
             0.2222222222222222,
             "#7201a8"
            ],
            [
             0.3333333333333333,
             "#9c179e"
            ],
            [
             0.4444444444444444,
             "#bd3786"
            ],
            [
             0.5555555555555556,
             "#d8576b"
            ],
            [
             0.6666666666666666,
             "#ed7953"
            ],
            [
             0.7777777777777778,
             "#fb9f3a"
            ],
            [
             0.8888888888888888,
             "#fdca26"
            ],
            [
             1,
             "#f0f921"
            ]
           ],
           "sequentialminus": [
            [
             0,
             "#0d0887"
            ],
            [
             0.1111111111111111,
             "#46039f"
            ],
            [
             0.2222222222222222,
             "#7201a8"
            ],
            [
             0.3333333333333333,
             "#9c179e"
            ],
            [
             0.4444444444444444,
             "#bd3786"
            ],
            [
             0.5555555555555556,
             "#d8576b"
            ],
            [
             0.6666666666666666,
             "#ed7953"
            ],
            [
             0.7777777777777778,
             "#fb9f3a"
            ],
            [
             0.8888888888888888,
             "#fdca26"
            ],
            [
             1,
             "#f0f921"
            ]
           ]
          },
          "colorway": [
           "#636efa",
           "#EF553B",
           "#00cc96",
           "#ab63fa",
           "#FFA15A",
           "#19d3f3",
           "#FF6692",
           "#B6E880",
           "#FF97FF",
           "#FECB52"
          ],
          "font": {
           "color": "#2a3f5f"
          },
          "geo": {
           "bgcolor": "white",
           "lakecolor": "white",
           "landcolor": "#E5ECF6",
           "showlakes": true,
           "showland": true,
           "subunitcolor": "white"
          },
          "hoverlabel": {
           "align": "left"
          },
          "hovermode": "closest",
          "mapbox": {
           "style": "light"
          },
          "paper_bgcolor": "white",
          "plot_bgcolor": "#E5ECF6",
          "polar": {
           "angularaxis": {
            "gridcolor": "white",
            "linecolor": "white",
            "ticks": ""
           },
           "bgcolor": "#E5ECF6",
           "radialaxis": {
            "gridcolor": "white",
            "linecolor": "white",
            "ticks": ""
           }
          },
          "scene": {
           "xaxis": {
            "backgroundcolor": "#E5ECF6",
            "gridcolor": "white",
            "gridwidth": 2,
            "linecolor": "white",
            "showbackground": true,
            "ticks": "",
            "zerolinecolor": "white"
           },
           "yaxis": {
            "backgroundcolor": "#E5ECF6",
            "gridcolor": "white",
            "gridwidth": 2,
            "linecolor": "white",
            "showbackground": true,
            "ticks": "",
            "zerolinecolor": "white"
           },
           "zaxis": {
            "backgroundcolor": "#E5ECF6",
            "gridcolor": "white",
            "gridwidth": 2,
            "linecolor": "white",
            "showbackground": true,
            "ticks": "",
            "zerolinecolor": "white"
           }
          },
          "shapedefaults": {
           "line": {
            "color": "#2a3f5f"
           }
          },
          "ternary": {
           "aaxis": {
            "gridcolor": "white",
            "linecolor": "white",
            "ticks": ""
           },
           "baxis": {
            "gridcolor": "white",
            "linecolor": "white",
            "ticks": ""
           },
           "bgcolor": "#E5ECF6",
           "caxis": {
            "gridcolor": "white",
            "linecolor": "white",
            "ticks": ""
           }
          },
          "title": {
           "x": 0.05
          },
          "xaxis": {
           "automargin": true,
           "gridcolor": "white",
           "linecolor": "white",
           "ticks": "",
           "title": {
            "standoff": 15
           },
           "zerolinecolor": "white",
           "zerolinewidth": 2
          },
          "yaxis": {
           "automargin": true,
           "gridcolor": "white",
           "linecolor": "white",
           "ticks": "",
           "title": {
            "standoff": 15
           },
           "zerolinecolor": "white",
           "zerolinewidth": 2
          }
         }
        },
        "title": {
         "text": "Volatile Organic Compounds (VOC) emisions per 100k of population"
        },
        "xaxis": {
         "anchor": "y",
         "domain": [
          0,
          1
         ],
         "title": {
          "text": ""
         }
        },
        "yaxis": {
         "anchor": "x",
         "domain": [
          0,
          1
         ],
         "title": {
          "text": "Tons of annual emissions per 100k of population"
         }
        }
       }
      },
      "text/html": [
       "<div>                            <div id=\"13e388f0-9382-472a-bff1-66d02fe7c48e\" class=\"plotly-graph-div\" style=\"height:525px; width:100%;\"></div>            <script type=\"text/javascript\">                require([\"plotly\"], function(Plotly) {                    window.PLOTLYENV=window.PLOTLYENV || {};                                    if (document.getElementById(\"13e388f0-9382-472a-bff1-66d02fe7c48e\")) {                    Plotly.newPlot(                        \"13e388f0-9382-472a-bff1-66d02fe7c48e\",                        [{\"hovertemplate\":\"<b>%{hovertext}</b><br><br>State=VT<br>=%{x}<br>Tons of annual emissions per 100k of population=%{y}<extra></extra>\",\"hovertext\":[\"High CAV adoption\",\"High CAV adoption\",\"High CAV adoption\",\"High CAV adoption\",\"High CAV adoption\"],\"legendgroup\":\"VT\",\"line\":{\"color\":\"#636efa\",\"dash\":\"solid\"},\"marker\":{\"symbol\":\"circle\"},\"mode\":\"lines\",\"name\":\"VT\",\"orientation\":\"v\",\"showlegend\":true,\"x\":[2008,2011,2014,2017,2020],\"xaxis\":\"x\",\"y\":[1005.141613,845.7631794,722.9225852,495.4157215,269.2291376],\"yaxis\":\"y\",\"type\":\"scatter\"},{\"hovertemplate\":\"<b>%{hovertext}</b><br><br>State=MA<br>=%{x}<br>Tons of annual emissions per 100k of population=%{y}<extra></extra>\",\"hovertext\":[\"High CAV adoption\",\"High CAV adoption\",\"High CAV adoption\",\"High CAV adoption\",\"High CAV adoption\"],\"legendgroup\":\"MA\",\"line\":{\"color\":\"#EF553B\",\"dash\":\"solid\"},\"marker\":{\"symbol\":\"circle\"},\"mode\":\"lines\",\"name\":\"MA\",\"orientation\":\"v\",\"showlegend\":true,\"x\":[2008,2011,2014,2017,2020],\"xaxis\":\"x\",\"y\":[533.0281587,518.7521243,434.0875051,360.4872934,193.8142133],\"yaxis\":\"y\",\"type\":\"scatter\"},{\"hovertemplate\":\"<b>%{hovertext}</b><br><br>State=MD<br>=%{x}<br>Tons of annual emissions per 100k of population=%{y}<extra></extra>\",\"hovertext\":[\"High CAV adoption\",\"High CAV adoption\",\"High CAV adoption\",\"High CAV adoption\",\"High CAV adoption\"],\"legendgroup\":\"MD\",\"line\":{\"color\":\"#00cc96\",\"dash\":\"solid\"},\"marker\":{\"symbol\":\"circle\"},\"mode\":\"lines\",\"name\":\"MD\",\"orientation\":\"v\",\"showlegend\":true,\"x\":[2008,2011,2014,2017,2020],\"xaxis\":\"x\",\"y\":[718.0570717,628.7231094,567.2437443,399.5822072,250.4103411],\"yaxis\":\"y\",\"type\":\"scatter\"},{\"hovertemplate\":\"<b>%{hovertext}</b><br><br>State=VA<br>=%{x}<br>Tons of annual emissions per 100k of population=%{y}<extra></extra>\",\"hovertext\":[\"High CAV adoption\",\"High CAV adoption\",\"High CAV adoption\",\"High CAV adoption\",\"High CAV adoption\"],\"legendgroup\":\"VA\",\"line\":{\"color\":\"#ab63fa\",\"dash\":\"solid\"},\"marker\":{\"symbol\":\"circle\"},\"mode\":\"lines\",\"name\":\"VA\",\"orientation\":\"v\",\"showlegend\":true,\"x\":[2008,2011,2014,2017,2020],\"xaxis\":\"x\",\"y\":[1054.545809,788.0355304,783.3606632,648.5376196,320.7302834],\"yaxis\":\"y\",\"type\":\"scatter\"},{\"hovertemplate\":\"<b>%{hovertext}</b><br><br>State=WV<br>=%{x}<br>Tons of annual emissions per 100k of population=%{y}<extra></extra>\",\"hovertext\":[\"Low CAV adoption\",\"Low CAV adoption\",\"Low CAV adoption\",\"Low CAV adoption\",\"Low CAV adoption\"],\"legendgroup\":\"WV\",\"line\":{\"color\":\"#FFA15A\",\"dash\":\"solid\"},\"marker\":{\"symbol\":\"circle\"},\"mode\":\"lines\",\"name\":\"WV\",\"orientation\":\"v\",\"showlegend\":true,\"x\":[2008,2011,2014,2017,2020],\"xaxis\":\"x\",\"y\":[1205.925821,1118.117347,937.6939784,766.0588711,339.236062],\"yaxis\":\"y\",\"type\":\"scatter\"},{\"hovertemplate\":\"<b>%{hovertext}</b><br><br>State=AL<br>=%{x}<br>Tons of annual emissions per 100k of population=%{y}<extra></extra>\",\"hovertext\":[\"Low CAV adoption\",\"Low CAV adoption\",\"Low CAV adoption\",\"Low CAV adoption\",\"Low CAV adoption\"],\"legendgroup\":\"AL\",\"line\":{\"color\":\"#19d3f3\",\"dash\":\"solid\"},\"marker\":{\"symbol\":\"circle\"},\"mode\":\"lines\",\"name\":\"AL\",\"orientation\":\"v\",\"showlegend\":true,\"x\":[2008,2011,2014,2017,2020],\"xaxis\":\"x\",\"y\":[1253.254238,1591.542792,1388.975594,1044.555877,565.8597253],\"yaxis\":\"y\",\"type\":\"scatter\"},{\"hovertemplate\":\"<b>%{hovertext}</b><br><br>State=KY<br>=%{x}<br>Tons of annual emissions per 100k of population=%{y}<extra></extra>\",\"hovertext\":[\"Low CAV adoption\",\"Low CAV adoption\",\"Low CAV adoption\",\"Low CAV adoption\",\"Low CAV adoption\"],\"legendgroup\":\"KY\",\"line\":{\"color\":\"#FF6692\",\"dash\":\"solid\"},\"marker\":{\"symbol\":\"circle\"},\"mode\":\"lines\",\"name\":\"KY\",\"orientation\":\"v\",\"showlegend\":true,\"x\":[2008,2011,2014,2017,2020],\"xaxis\":\"x\",\"y\":[1090.899377,1165.322704,1073.591242,769.7197143,402.9923191],\"yaxis\":\"y\",\"type\":\"scatter\"},{\"hovertemplate\":\"<b>%{hovertext}</b><br><br>State=MI<br>=%{x}<br>Tons of annual emissions per 100k of population=%{y}<extra></extra>\",\"hovertext\":[\"Low CAV adoption\",\"Low CAV adoption\",\"Low CAV adoption\",\"Low CAV adoption\",\"Low CAV adoption\"],\"legendgroup\":\"MI\",\"line\":{\"color\":\"#B6E880\",\"dash\":\"solid\"},\"marker\":{\"symbol\":\"circle\"},\"mode\":\"lines\",\"name\":\"MI\",\"orientation\":\"v\",\"showlegend\":true,\"x\":[2008,2011,2014,2017,2020],\"xaxis\":\"x\",\"y\":[1219.411815,1082.423412,853.5743038,619.3370458,294.4303681],\"yaxis\":\"y\",\"type\":\"scatter\"},{\"hovertemplate\":\"<b>%{hovertext}</b><br><br>State=LA<br>=%{x}<br>Tons of annual emissions per 100k of population=%{y}<extra></extra>\",\"hovertext\":[\"Low CAV adoption\",\"Low CAV adoption\",\"Low CAV adoption\",\"Low CAV adoption\",\"Low CAV adoption\"],\"legendgroup\":\"LA\",\"line\":{\"color\":\"#FF97FF\",\"dash\":\"solid\"},\"marker\":{\"symbol\":\"circle\"},\"mode\":\"lines\",\"name\":\"LA\",\"orientation\":\"v\",\"showlegend\":true,\"x\":[2008,2011,2014,2017,2020],\"xaxis\":\"x\",\"y\":[1037.37876,1063.221833,863.1765794,644.9276112,348.3948693],\"yaxis\":\"y\",\"type\":\"scatter\"},{\"hovertemplate\":\"<b>%{hovertext}</b><br><br>State=AR<br>=%{x}<br>Tons of annual emissions per 100k of population=%{y}<extra></extra>\",\"hovertext\":[\"Low CAV adoption\",\"Low CAV adoption\",\"Low CAV adoption\",\"Low CAV adoption\",\"Low CAV adoption\"],\"legendgroup\":\"AR\",\"line\":{\"color\":\"#FECB52\",\"dash\":\"solid\"},\"marker\":{\"symbol\":\"circle\"},\"mode\":\"lines\",\"name\":\"AR\",\"orientation\":\"v\",\"showlegend\":true,\"x\":[2008,2011,2014,2017,2020],\"xaxis\":\"x\",\"y\":[1424.653955,1203.878229,1117.351699,751.9613527,386.8239528],\"yaxis\":\"y\",\"type\":\"scatter\"},{\"hovertemplate\":\"<b>%{hovertext}</b><br><br>State=OK<br>=%{x}<br>Tons of annual emissions per 100k of population=%{y}<extra></extra>\",\"hovertext\":[\"Low CAV adoption\",\"Low CAV adoption\",\"Low CAV adoption\",\"Low CAV adoption\",\"Low CAV adoption\"],\"legendgroup\":\"OK\",\"line\":{\"color\":\"#636efa\",\"dash\":\"solid\"},\"marker\":{\"symbol\":\"circle\"},\"mode\":\"lines\",\"name\":\"OK\",\"orientation\":\"v\",\"showlegend\":true,\"x\":[2008,2011,2014,2017,2020],\"xaxis\":\"x\",\"y\":[1552.46933,1450.984257,1101.654132,939.2749051,490.3188594],\"yaxis\":\"y\",\"type\":\"scatter\"},{\"hovertemplate\":\"<b>%{hovertext}</b><br><br>State=CA<br>=%{x}<br>Tons of annual emissions per 100k of population=%{y}<extra></extra>\",\"hovertext\":[\"High CAV adoption\",\"High CAV adoption\",\"High CAV adoption\",\"High CAV adoption\",\"High CAV adoption\"],\"legendgroup\":\"CA\",\"line\":{\"color\":\"#EF553B\",\"dash\":\"solid\"},\"marker\":{\"symbol\":\"circle\"},\"mode\":\"lines\",\"name\":\"CA\",\"orientation\":\"v\",\"showlegend\":true,\"x\":[2008,2011,2014,2017,2020],\"xaxis\":\"x\",\"y\":[675.7874292,457.0806804,323.4388646,226.5243785,175.8982759],\"yaxis\":\"y\",\"type\":\"scatter\"},{\"hovertemplate\":\"<b>%{hovertext}</b><br><br>State=WA<br>=%{x}<br>Tons of annual emissions per 100k of population=%{y}<extra></extra>\",\"hovertext\":[\"High CAV adoption\",\"High CAV adoption\",\"High CAV adoption\",\"High CAV adoption\",\"High CAV adoption\"],\"legendgroup\":\"WA\",\"line\":{\"color\":\"#00cc96\",\"dash\":\"solid\"},\"marker\":{\"symbol\":\"circle\"},\"mode\":\"lines\",\"name\":\"WA\",\"orientation\":\"v\",\"showlegend\":true,\"x\":[2008,2011,2014,2017,2020],\"xaxis\":\"x\",\"y\":[1163.644508,1140.387857,999.8825504,796.4304341,372.1879379],\"yaxis\":\"y\",\"type\":\"scatter\"},{\"hovertemplate\":\"<b>%{hovertext}</b><br><br>State=OR<br>=%{x}<br>Tons of annual emissions per 100k of population=%{y}<extra></extra>\",\"hovertext\":[\"High CAV adoption\",\"High CAV adoption\",\"High CAV adoption\",\"High CAV adoption\",\"High CAV adoption\"],\"legendgroup\":\"OR\",\"line\":{\"color\":\"#ab63fa\",\"dash\":\"solid\"},\"marker\":{\"symbol\":\"circle\"},\"mode\":\"lines\",\"name\":\"OR\",\"orientation\":\"v\",\"showlegend\":true,\"x\":[2008,2011,2014,2017,2020],\"xaxis\":\"x\",\"y\":[1136.158816,1167.322774,1016.041936,817.3021661,592.6671258],\"yaxis\":\"y\",\"type\":\"scatter\"},{\"hovertemplate\":\"<b>%{hovertext}</b><br><br>State=HI<br>=%{x}<br>Tons of annual emissions per 100k of population=%{y}<extra></extra>\",\"hovertext\":[\"High CAV adoption\",\"High CAV adoption\",\"High CAV adoption\",\"High CAV adoption\",\"High CAV adoption\"],\"legendgroup\":\"HI\",\"line\":{\"color\":\"#FFA15A\",\"dash\":\"solid\"},\"marker\":{\"symbol\":\"circle\"},\"mode\":\"lines\",\"name\":\"HI\",\"orientation\":\"v\",\"showlegend\":true,\"x\":[2008,2011,2014,2017,2020],\"xaxis\":\"x\",\"y\":[851.9395812,810.4193893,733.6128793,568.7538452,332.9389281],\"yaxis\":\"y\",\"type\":\"scatter\"},{\"hovertemplate\":\"<b>%{hovertext}</b><br><br>State=CO<br>=%{x}<br>Tons of annual emissions per 100k of population=%{y}<extra></extra>\",\"hovertext\":[\"High CAV adoption\",\"High CAV adoption\",\"High CAV adoption\",\"High CAV adoption\",\"High CAV adoption\"],\"legendgroup\":\"CO\",\"line\":{\"color\":\"#19d3f3\",\"dash\":\"solid\"},\"marker\":{\"symbol\":\"circle\"},\"mode\":\"lines\",\"name\":\"CO\",\"orientation\":\"v\",\"showlegend\":true,\"x\":[2008,2011,2014,2017,2020],\"xaxis\":\"x\",\"y\":[972.5871423,1116.752896,885.8665527,666.0295953,383.0651927],\"yaxis\":\"y\",\"type\":\"scatter\"},{\"hovertemplate\":\"<b>%{hovertext}</b><br><br>State=NV<br>=%{x}<br>Tons of annual emissions per 100k of population=%{y}<extra></extra>\",\"hovertext\":[\"High CAV adoption\",\"High CAV adoption\",\"High CAV adoption\",\"High CAV adoption\",\"High CAV adoption\"],\"legendgroup\":\"NV\",\"line\":{\"color\":\"#FF6692\",\"dash\":\"solid\"},\"marker\":{\"symbol\":\"circle\"},\"mode\":\"lines\",\"name\":\"NV\",\"orientation\":\"v\",\"showlegend\":true,\"x\":[2008,2011,2014,2017,2020],\"xaxis\":\"x\",\"y\":[1020.638194,892.3139638,709.6848692,541.7409151,339.8911649],\"yaxis\":\"y\",\"type\":\"scatter\"},{\"hovertemplate\":\"<b>%{hovertext}</b><br><br>State=ND<br>=%{x}<br>Tons of annual emissions per 100k of population=%{y}<extra></extra>\",\"hovertext\":[\"Low CAV adoption\",\"Low CAV adoption\",\"Low CAV adoption\",\"Low CAV adoption\",\"Low CAV adoption\"],\"legendgroup\":\"ND\",\"line\":{\"color\":\"#B6E880\",\"dash\":\"solid\"},\"marker\":{\"symbol\":\"circle\"},\"mode\":\"lines\",\"name\":\"ND\",\"orientation\":\"v\",\"showlegend\":true,\"x\":[2008,2011,2014,2017,2020],\"xaxis\":\"x\",\"y\":[1442.686276,1709.525187,1556.117274,1008.431174,529.8950442],\"yaxis\":\"y\",\"type\":\"scatter\"},{\"hovertemplate\":\"<b>%{hovertext}</b><br><br>State=WY<br>=%{x}<br>Tons of annual emissions per 100k of population=%{y}<extra></extra>\",\"hovertext\":[\"Low CAV adoption\",\"Low CAV adoption\",\"Low CAV adoption\",\"Low CAV adoption\",\"Low CAV adoption\"],\"legendgroup\":\"WY\",\"line\":{\"color\":\"#FF97FF\",\"dash\":\"solid\"},\"marker\":{\"symbol\":\"circle\"},\"mode\":\"lines\",\"name\":\"WY\",\"orientation\":\"v\",\"showlegend\":true,\"x\":[2008,2011,2014,2017,2020],\"xaxis\":\"x\",\"y\":[1920.354744,2069.180632,1781.954775,1272.491697,747.766999],\"yaxis\":\"y\",\"type\":\"scatter\"},{\"hovertemplate\":\"<b>%{hovertext}</b><br><br>State=SD<br>=%{x}<br>Tons of annual emissions per 100k of population=%{y}<extra></extra>\",\"hovertext\":[\"Low CAV adoption\",\"Low CAV adoption\",\"Low CAV adoption\",\"Low CAV adoption\",\"Low CAV adoption\"],\"legendgroup\":\"SD\",\"line\":{\"color\":\"#FECB52\",\"dash\":\"solid\"},\"marker\":{\"symbol\":\"circle\"},\"mode\":\"lines\",\"name\":\"SD\",\"orientation\":\"v\",\"showlegend\":true,\"x\":[2008,2011,2014,2017,2020],\"xaxis\":\"x\",\"y\":[1288.879327,1689.900447,1473.094781,1040.745273,557.5976442],\"yaxis\":\"y\",\"type\":\"scatter\"}],                        {\"template\":{\"data\":{\"histogram2dcontour\":[{\"type\":\"histogram2dcontour\",\"colorbar\":{\"outlinewidth\":0,\"ticks\":\"\"},\"colorscale\":[[0.0,\"#0d0887\"],[0.1111111111111111,\"#46039f\"],[0.2222222222222222,\"#7201a8\"],[0.3333333333333333,\"#9c179e\"],[0.4444444444444444,\"#bd3786\"],[0.5555555555555556,\"#d8576b\"],[0.6666666666666666,\"#ed7953\"],[0.7777777777777778,\"#fb9f3a\"],[0.8888888888888888,\"#fdca26\"],[1.0,\"#f0f921\"]]}],\"choropleth\":[{\"type\":\"choropleth\",\"colorbar\":{\"outlinewidth\":0,\"ticks\":\"\"}}],\"histogram2d\":[{\"type\":\"histogram2d\",\"colorbar\":{\"outlinewidth\":0,\"ticks\":\"\"},\"colorscale\":[[0.0,\"#0d0887\"],[0.1111111111111111,\"#46039f\"],[0.2222222222222222,\"#7201a8\"],[0.3333333333333333,\"#9c179e\"],[0.4444444444444444,\"#bd3786\"],[0.5555555555555556,\"#d8576b\"],[0.6666666666666666,\"#ed7953\"],[0.7777777777777778,\"#fb9f3a\"],[0.8888888888888888,\"#fdca26\"],[1.0,\"#f0f921\"]]}],\"heatmap\":[{\"type\":\"heatmap\",\"colorbar\":{\"outlinewidth\":0,\"ticks\":\"\"},\"colorscale\":[[0.0,\"#0d0887\"],[0.1111111111111111,\"#46039f\"],[0.2222222222222222,\"#7201a8\"],[0.3333333333333333,\"#9c179e\"],[0.4444444444444444,\"#bd3786\"],[0.5555555555555556,\"#d8576b\"],[0.6666666666666666,\"#ed7953\"],[0.7777777777777778,\"#fb9f3a\"],[0.8888888888888888,\"#fdca26\"],[1.0,\"#f0f921\"]]}],\"heatmapgl\":[{\"type\":\"heatmapgl\",\"colorbar\":{\"outlinewidth\":0,\"ticks\":\"\"},\"colorscale\":[[0.0,\"#0d0887\"],[0.1111111111111111,\"#46039f\"],[0.2222222222222222,\"#7201a8\"],[0.3333333333333333,\"#9c179e\"],[0.4444444444444444,\"#bd3786\"],[0.5555555555555556,\"#d8576b\"],[0.6666666666666666,\"#ed7953\"],[0.7777777777777778,\"#fb9f3a\"],[0.8888888888888888,\"#fdca26\"],[1.0,\"#f0f921\"]]}],\"contourcarpet\":[{\"type\":\"contourcarpet\",\"colorbar\":{\"outlinewidth\":0,\"ticks\":\"\"}}],\"contour\":[{\"type\":\"contour\",\"colorbar\":{\"outlinewidth\":0,\"ticks\":\"\"},\"colorscale\":[[0.0,\"#0d0887\"],[0.1111111111111111,\"#46039f\"],[0.2222222222222222,\"#7201a8\"],[0.3333333333333333,\"#9c179e\"],[0.4444444444444444,\"#bd3786\"],[0.5555555555555556,\"#d8576b\"],[0.6666666666666666,\"#ed7953\"],[0.7777777777777778,\"#fb9f3a\"],[0.8888888888888888,\"#fdca26\"],[1.0,\"#f0f921\"]]}],\"surface\":[{\"type\":\"surface\",\"colorbar\":{\"outlinewidth\":0,\"ticks\":\"\"},\"colorscale\":[[0.0,\"#0d0887\"],[0.1111111111111111,\"#46039f\"],[0.2222222222222222,\"#7201a8\"],[0.3333333333333333,\"#9c179e\"],[0.4444444444444444,\"#bd3786\"],[0.5555555555555556,\"#d8576b\"],[0.6666666666666666,\"#ed7953\"],[0.7777777777777778,\"#fb9f3a\"],[0.8888888888888888,\"#fdca26\"],[1.0,\"#f0f921\"]]}],\"mesh3d\":[{\"type\":\"mesh3d\",\"colorbar\":{\"outlinewidth\":0,\"ticks\":\"\"}}],\"scatter\":[{\"fillpattern\":{\"fillmode\":\"overlay\",\"size\":10,\"solidity\":0.2},\"type\":\"scatter\"}],\"parcoords\":[{\"type\":\"parcoords\",\"line\":{\"colorbar\":{\"outlinewidth\":0,\"ticks\":\"\"}}}],\"scatterpolargl\":[{\"type\":\"scatterpolargl\",\"marker\":{\"colorbar\":{\"outlinewidth\":0,\"ticks\":\"\"}}}],\"bar\":[{\"error_x\":{\"color\":\"#2a3f5f\"},\"error_y\":{\"color\":\"#2a3f5f\"},\"marker\":{\"line\":{\"color\":\"#E5ECF6\",\"width\":0.5},\"pattern\":{\"fillmode\":\"overlay\",\"size\":10,\"solidity\":0.2}},\"type\":\"bar\"}],\"scattergeo\":[{\"type\":\"scattergeo\",\"marker\":{\"colorbar\":{\"outlinewidth\":0,\"ticks\":\"\"}}}],\"scatterpolar\":[{\"type\":\"scatterpolar\",\"marker\":{\"colorbar\":{\"outlinewidth\":0,\"ticks\":\"\"}}}],\"histogram\":[{\"marker\":{\"pattern\":{\"fillmode\":\"overlay\",\"size\":10,\"solidity\":0.2}},\"type\":\"histogram\"}],\"scattergl\":[{\"type\":\"scattergl\",\"marker\":{\"colorbar\":{\"outlinewidth\":0,\"ticks\":\"\"}}}],\"scatter3d\":[{\"type\":\"scatter3d\",\"line\":{\"colorbar\":{\"outlinewidth\":0,\"ticks\":\"\"}},\"marker\":{\"colorbar\":{\"outlinewidth\":0,\"ticks\":\"\"}}}],\"scattermapbox\":[{\"type\":\"scattermapbox\",\"marker\":{\"colorbar\":{\"outlinewidth\":0,\"ticks\":\"\"}}}],\"scatterternary\":[{\"type\":\"scatterternary\",\"marker\":{\"colorbar\":{\"outlinewidth\":0,\"ticks\":\"\"}}}],\"scattercarpet\":[{\"type\":\"scattercarpet\",\"marker\":{\"colorbar\":{\"outlinewidth\":0,\"ticks\":\"\"}}}],\"carpet\":[{\"aaxis\":{\"endlinecolor\":\"#2a3f5f\",\"gridcolor\":\"white\",\"linecolor\":\"white\",\"minorgridcolor\":\"white\",\"startlinecolor\":\"#2a3f5f\"},\"baxis\":{\"endlinecolor\":\"#2a3f5f\",\"gridcolor\":\"white\",\"linecolor\":\"white\",\"minorgridcolor\":\"white\",\"startlinecolor\":\"#2a3f5f\"},\"type\":\"carpet\"}],\"table\":[{\"cells\":{\"fill\":{\"color\":\"#EBF0F8\"},\"line\":{\"color\":\"white\"}},\"header\":{\"fill\":{\"color\":\"#C8D4E3\"},\"line\":{\"color\":\"white\"}},\"type\":\"table\"}],\"barpolar\":[{\"marker\":{\"line\":{\"color\":\"#E5ECF6\",\"width\":0.5},\"pattern\":{\"fillmode\":\"overlay\",\"size\":10,\"solidity\":0.2}},\"type\":\"barpolar\"}],\"pie\":[{\"automargin\":true,\"type\":\"pie\"}]},\"layout\":{\"autotypenumbers\":\"strict\",\"colorway\":[\"#636efa\",\"#EF553B\",\"#00cc96\",\"#ab63fa\",\"#FFA15A\",\"#19d3f3\",\"#FF6692\",\"#B6E880\",\"#FF97FF\",\"#FECB52\"],\"font\":{\"color\":\"#2a3f5f\"},\"hovermode\":\"closest\",\"hoverlabel\":{\"align\":\"left\"},\"paper_bgcolor\":\"white\",\"plot_bgcolor\":\"#E5ECF6\",\"polar\":{\"bgcolor\":\"#E5ECF6\",\"angularaxis\":{\"gridcolor\":\"white\",\"linecolor\":\"white\",\"ticks\":\"\"},\"radialaxis\":{\"gridcolor\":\"white\",\"linecolor\":\"white\",\"ticks\":\"\"}},\"ternary\":{\"bgcolor\":\"#E5ECF6\",\"aaxis\":{\"gridcolor\":\"white\",\"linecolor\":\"white\",\"ticks\":\"\"},\"baxis\":{\"gridcolor\":\"white\",\"linecolor\":\"white\",\"ticks\":\"\"},\"caxis\":{\"gridcolor\":\"white\",\"linecolor\":\"white\",\"ticks\":\"\"}},\"coloraxis\":{\"colorbar\":{\"outlinewidth\":0,\"ticks\":\"\"}},\"colorscale\":{\"sequential\":[[0.0,\"#0d0887\"],[0.1111111111111111,\"#46039f\"],[0.2222222222222222,\"#7201a8\"],[0.3333333333333333,\"#9c179e\"],[0.4444444444444444,\"#bd3786\"],[0.5555555555555556,\"#d8576b\"],[0.6666666666666666,\"#ed7953\"],[0.7777777777777778,\"#fb9f3a\"],[0.8888888888888888,\"#fdca26\"],[1.0,\"#f0f921\"]],\"sequentialminus\":[[0.0,\"#0d0887\"],[0.1111111111111111,\"#46039f\"],[0.2222222222222222,\"#7201a8\"],[0.3333333333333333,\"#9c179e\"],[0.4444444444444444,\"#bd3786\"],[0.5555555555555556,\"#d8576b\"],[0.6666666666666666,\"#ed7953\"],[0.7777777777777778,\"#fb9f3a\"],[0.8888888888888888,\"#fdca26\"],[1.0,\"#f0f921\"]],\"diverging\":[[0,\"#8e0152\"],[0.1,\"#c51b7d\"],[0.2,\"#de77ae\"],[0.3,\"#f1b6da\"],[0.4,\"#fde0ef\"],[0.5,\"#f7f7f7\"],[0.6,\"#e6f5d0\"],[0.7,\"#b8e186\"],[0.8,\"#7fbc41\"],[0.9,\"#4d9221\"],[1,\"#276419\"]]},\"xaxis\":{\"gridcolor\":\"white\",\"linecolor\":\"white\",\"ticks\":\"\",\"title\":{\"standoff\":15},\"zerolinecolor\":\"white\",\"automargin\":true,\"zerolinewidth\":2},\"yaxis\":{\"gridcolor\":\"white\",\"linecolor\":\"white\",\"ticks\":\"\",\"title\":{\"standoff\":15},\"zerolinecolor\":\"white\",\"automargin\":true,\"zerolinewidth\":2},\"scene\":{\"xaxis\":{\"backgroundcolor\":\"#E5ECF6\",\"gridcolor\":\"white\",\"linecolor\":\"white\",\"showbackground\":true,\"ticks\":\"\",\"zerolinecolor\":\"white\",\"gridwidth\":2},\"yaxis\":{\"backgroundcolor\":\"#E5ECF6\",\"gridcolor\":\"white\",\"linecolor\":\"white\",\"showbackground\":true,\"ticks\":\"\",\"zerolinecolor\":\"white\",\"gridwidth\":2},\"zaxis\":{\"backgroundcolor\":\"#E5ECF6\",\"gridcolor\":\"white\",\"linecolor\":\"white\",\"showbackground\":true,\"ticks\":\"\",\"zerolinecolor\":\"white\",\"gridwidth\":2}},\"shapedefaults\":{\"line\":{\"color\":\"#2a3f5f\"}},\"annotationdefaults\":{\"arrowcolor\":\"#2a3f5f\",\"arrowhead\":0,\"arrowwidth\":1},\"geo\":{\"bgcolor\":\"white\",\"landcolor\":\"#E5ECF6\",\"subunitcolor\":\"white\",\"showland\":true,\"showlakes\":true,\"lakecolor\":\"white\"},\"title\":{\"x\":0.05},\"mapbox\":{\"style\":\"light\"}}},\"xaxis\":{\"anchor\":\"y\",\"domain\":[0.0,1.0],\"title\":{\"text\":\"\"}},\"yaxis\":{\"anchor\":\"x\",\"domain\":[0.0,1.0],\"title\":{\"text\":\"Tons of annual emissions per 100k of population\"}},\"legend\":{\"title\":{\"text\":\"State\"},\"tracegroupgap\":0},\"margin\":{\"t\":60},\"font\":{\"color\":\"white\"},\"plot_bgcolor\":\"black\",\"paper_bgcolor\":\"black\",\"title\":{\"text\":\"Volatile Organic Compounds (VOC) emisions per 100k of population\"}},                        {\"responsive\": true}                    ).then(function(){\n",
       "                            \n",
       "var gd = document.getElementById('13e388f0-9382-472a-bff1-66d02fe7c48e');\n",
       "var x = new MutationObserver(function (mutations, observer) {{\n",
       "        var display = window.getComputedStyle(gd).display;\n",
       "        if (!display || display === 'none') {{\n",
       "            console.log([gd, 'removed!']);\n",
       "            Plotly.purge(gd);\n",
       "            observer.disconnect();\n",
       "        }}\n",
       "}});\n",
       "\n",
       "// Listen for the removal of the full notebook cells\n",
       "var notebookContainer = gd.closest('#notebook-container');\n",
       "if (notebookContainer) {{\n",
       "    x.observe(notebookContainer, {childList: true});\n",
       "}}\n",
       "\n",
       "// Listen for the clearing of the current output cell\n",
       "var outputEl = gd.closest('.output');\n",
       "if (outputEl) {{\n",
       "    x.observe(outputEl, {childList: true});\n",
       "}}\n",
       "\n",
       "                        })                };                });            </script>        </div>"
      ]
     },
     "metadata": {},
     "output_type": "display_data"
    }
   ],
   "source": [
    "VOC = nei_by_pollutant.loc[(nei_by_pollutant[\"Pollutant\"] == 'Volatile Organic Compounds')]\n",
    "\n",
    "VOC_plot = px.line(\n",
    "    VOC,\n",
    "    x = \"Year\",\n",
    "    y = \"Emmisions_per_100k\",\n",
    "    hover_name = \"CAV_adoption\",\n",
    "    color = \"State\",\n",
    "    labels = {\n",
    "        \"Year\":'',\n",
    "        \"Emmisions_per_100k\": \"Tons of annual emissions per 100k of population\"\n",
    "    }\n",
    ")\n",
    "\n",
    "VOC_plot.update_layout(\n",
    "#     yaxis_range=[0,6],\n",
    "    font_color=\"white\",\n",
    "    legend=dict(\n",
    "    title=\"State\"\n",
    "))\n",
    "\n",
    "VOC_plot.update_layout({\n",
    "    'plot_bgcolor':'black',\n",
    "    'paper_bgcolor':'black',\n",
    "    'title':'Volatile Organic Compounds (VOC) emisions per 100k of population'\n",
    "})\n",
    "\n",
    "VOC_plot.show()"
   ]
  },
  {
   "cell_type": "markdown",
   "id": "0c6df7bb",
   "metadata": {},
   "source": [
    "## Greenhouse Gas Pollutant Plots"
   ]
  },
  {
   "cell_type": "code",
   "execution_count": 43,
   "id": "b9b0b9a0",
   "metadata": {},
   "outputs": [
    {
     "data": {
      "application/vnd.plotly.v1+json": {
       "config": {
        "plotlyServerURL": "https://plot.ly"
       },
       "data": [
        {
         "hovertemplate": "<b>%{hovertext}</b><br><br>State=VT<br>=%{x}<br>Tons of annual emissions per 100k of population=%{y}<extra></extra>",
         "hovertext": [
          "High CAV adoption",
          "High CAV adoption",
          "High CAV adoption",
          "High CAV adoption",
          "High CAV adoption"
         ],
         "legendgroup": "VT",
         "line": {
          "color": "#636efa",
          "dash": "solid"
         },
         "marker": {
          "symbol": "circle"
         },
         "mode": "lines",
         "name": "VT",
         "orientation": "v",
         "showlegend": true,
         "type": "scatter",
         "x": [
          2008,
          2011,
          2014,
          2017,
          2020
         ],
         "xaxis": "x",
         "y": [
          581825.7417,
          591100.4277,
          623449.3532,
          582165.6671,
          457888.6362
         ],
         "yaxis": "y"
        },
        {
         "hovertemplate": "<b>%{hovertext}</b><br><br>State=MA<br>=%{x}<br>Tons of annual emissions per 100k of population=%{y}<extra></extra>",
         "hovertext": [
          "High CAV adoption",
          "High CAV adoption",
          "High CAV adoption",
          "High CAV adoption",
          "High CAV adoption"
         ],
         "legendgroup": "MA",
         "line": {
          "color": "#EF553B",
          "dash": "solid"
         },
         "marker": {
          "symbol": "circle"
         },
         "mode": "lines",
         "name": "MA",
         "orientation": "v",
         "showlegend": true,
         "type": "scatter",
         "x": [
          2008,
          2011,
          2014,
          2017,
          2020
         ],
         "xaxis": "x",
         "y": [
          500923.7005,
          426935.5569,
          418296.5458,
          484920.0846,
          393530.4983
         ],
         "yaxis": "y"
        },
        {
         "hovertemplate": "<b>%{hovertext}</b><br><br>State=MD<br>=%{x}<br>Tons of annual emissions per 100k of population=%{y}<extra></extra>",
         "hovertext": [
          "High CAV adoption",
          "High CAV adoption",
          "High CAV adoption",
          "High CAV adoption",
          "High CAV adoption"
         ],
         "legendgroup": "MD",
         "line": {
          "color": "#00cc96",
          "dash": "solid"
         },
         "marker": {
          "symbol": "circle"
         },
         "mode": "lines",
         "name": "MD",
         "orientation": "v",
         "showlegend": true,
         "type": "scatter",
         "x": [
          2008,
          2011,
          2014,
          2017,
          2020
         ],
         "xaxis": "x",
         "y": [
          544105.3855,
          522598.5209,
          528659.3329,
          525862.554,
          446741.4785
         ],
         "yaxis": "y"
        },
        {
         "hovertemplate": "<b>%{hovertext}</b><br><br>State=VA<br>=%{x}<br>Tons of annual emissions per 100k of population=%{y}<extra></extra>",
         "hovertext": [
          "High CAV adoption",
          "High CAV adoption",
          "High CAV adoption",
          "High CAV adoption",
          "High CAV adoption"
         ],
         "legendgroup": "VA",
         "line": {
          "color": "#ab63fa",
          "dash": "solid"
         },
         "marker": {
          "symbol": "circle"
         },
         "mode": "lines",
         "name": "VA",
         "orientation": "v",
         "showlegend": true,
         "type": "scatter",
         "x": [
          2008,
          2011,
          2014,
          2017,
          2020
         ],
         "xaxis": "x",
         "y": [
          591572.0292,
          504812.1969,
          563551.7473,
          539741.6034,
          472340.7947
         ],
         "yaxis": "y"
        },
        {
         "hovertemplate": "<b>%{hovertext}</b><br><br>State=WV<br>=%{x}<br>Tons of annual emissions per 100k of population=%{y}<extra></extra>",
         "hovertext": [
          "Low CAV adoption",
          "Low CAV adoption",
          "Low CAV adoption",
          "Low CAV adoption",
          "Low CAV adoption"
         ],
         "legendgroup": "WV",
         "line": {
          "color": "#FFA15A",
          "dash": "solid"
         },
         "marker": {
          "symbol": "circle"
         },
         "mode": "lines",
         "name": "WV",
         "orientation": "v",
         "showlegend": true,
         "type": "scatter",
         "x": [
          2008,
          2011,
          2014,
          2017,
          2020
         ],
         "xaxis": "x",
         "y": [
          666256.8631,
          572620.3747,
          629766.3538,
          602130.6342,
          519433.7318
         ],
         "yaxis": "y"
        },
        {
         "hovertemplate": "<b>%{hovertext}</b><br><br>State=AL<br>=%{x}<br>Tons of annual emissions per 100k of population=%{y}<extra></extra>",
         "hovertext": [
          "Low CAV adoption",
          "Low CAV adoption",
          "Low CAV adoption",
          "Low CAV adoption",
          "Low CAV adoption"
         ],
         "legendgroup": "AL",
         "line": {
          "color": "#19d3f3",
          "dash": "solid"
         },
         "marker": {
          "symbol": "circle"
         },
         "mode": "lines",
         "name": "AL",
         "orientation": "v",
         "showlegend": true,
         "type": "scatter",
         "x": [
          2008,
          2011,
          2014,
          2017,
          2020
         ],
         "xaxis": "x",
         "y": [
          747944.2271,
          839698.2714,
          817401.7601,
          851326.2195,
          755621.6529
         ],
         "yaxis": "y"
        },
        {
         "hovertemplate": "<b>%{hovertext}</b><br><br>State=KY<br>=%{x}<br>Tons of annual emissions per 100k of population=%{y}<extra></extra>",
         "hovertext": [
          "Low CAV adoption",
          "Low CAV adoption",
          "Low CAV adoption",
          "Low CAV adoption",
          "Low CAV adoption"
         ],
         "legendgroup": "KY",
         "line": {
          "color": "#FF6692",
          "dash": "solid"
         },
         "marker": {
          "symbol": "circle"
         },
         "mode": "lines",
         "name": "KY",
         "orientation": "v",
         "showlegend": true,
         "type": "scatter",
         "x": [
          2008,
          2011,
          2014,
          2017,
          2020
         ],
         "xaxis": "x",
         "y": [
          678000.2581,
          680804.2627,
          664992.6733,
          678433.4619,
          608284.6761
         ],
         "yaxis": "y"
        },
        {
         "hovertemplate": "<b>%{hovertext}</b><br><br>State=MI<br>=%{x}<br>Tons of annual emissions per 100k of population=%{y}<extra></extra>",
         "hovertext": [
          "Low CAV adoption",
          "Low CAV adoption",
          "Low CAV adoption",
          "Low CAV adoption",
          "Low CAV adoption"
         ],
         "legendgroup": "MI",
         "line": {
          "color": "#B6E880",
          "dash": "solid"
         },
         "marker": {
          "symbol": "circle"
         },
         "mode": "lines",
         "name": "MI",
         "orientation": "v",
         "showlegend": true,
         "type": "scatter",
         "x": [
          2008,
          2011,
          2014,
          2017,
          2020
         ],
         "xaxis": "x",
         "y": [
          639729.124,
          541484.2273,
          504359.8345,
          548438.4111,
          450891.1465
         ],
         "yaxis": "y"
        },
        {
         "hovertemplate": "<b>%{hovertext}</b><br><br>State=LA<br>=%{x}<br>Tons of annual emissions per 100k of population=%{y}<extra></extra>",
         "hovertext": [
          "Low CAV adoption",
          "Low CAV adoption",
          "Low CAV adoption",
          "Low CAV adoption",
          "Low CAV adoption"
         ],
         "legendgroup": "LA",
         "line": {
          "color": "#FF97FF",
          "dash": "solid"
         },
         "marker": {
          "symbol": "circle"
         },
         "mode": "lines",
         "name": "LA",
         "orientation": "v",
         "showlegend": true,
         "type": "scatter",
         "x": [
          2008,
          2011,
          2014,
          2017,
          2020
         ],
         "xaxis": "x",
         "y": [
          626678.4422,
          638778.3548,
          690594.1573,
          697352.6527,
          606289.0916
         ],
         "yaxis": "y"
        },
        {
         "hovertemplate": "<b>%{hovertext}</b><br><br>State=AR<br>=%{x}<br>Tons of annual emissions per 100k of population=%{y}<extra></extra>",
         "hovertext": [
          "Low CAV adoption",
          "Low CAV adoption",
          "Low CAV adoption",
          "Low CAV adoption",
          "Low CAV adoption"
         ],
         "legendgroup": "AR",
         "line": {
          "color": "#FECB52",
          "dash": "solid"
         },
         "marker": {
          "symbol": "circle"
         },
         "mode": "lines",
         "name": "AR",
         "orientation": "v",
         "showlegend": true,
         "type": "scatter",
         "x": [
          2008,
          2011,
          2014,
          2017,
          2020
         ],
         "xaxis": "x",
         "y": [
          687663.6668,
          766921.4255,
          754451.8734,
          796282.895,
          676959.9715
         ],
         "yaxis": "y"
        },
        {
         "hovertemplate": "<b>%{hovertext}</b><br><br>State=OK<br>=%{x}<br>Tons of annual emissions per 100k of population=%{y}<extra></extra>",
         "hovertext": [
          "Low CAV adoption",
          "Low CAV adoption",
          "Low CAV adoption",
          "Low CAV adoption",
          "Low CAV adoption"
         ],
         "legendgroup": "OK",
         "line": {
          "color": "#636efa",
          "dash": "solid"
         },
         "marker": {
          "symbol": "circle"
         },
         "mode": "lines",
         "name": "OK",
         "orientation": "v",
         "showlegend": true,
         "type": "scatter",
         "x": [
          2008,
          2011,
          2014,
          2017,
          2020
         ],
         "xaxis": "x",
         "y": [
          814482.1852,
          807476.0378,
          763320.0378,
          776927.4695,
          715412.2745
         ],
         "yaxis": "y"
        },
        {
         "hovertemplate": "<b>%{hovertext}</b><br><br>State=WA<br>=%{x}<br>Tons of annual emissions per 100k of population=%{y}<extra></extra>",
         "hovertext": [
          "High CAV adoption",
          "High CAV adoption",
          "High CAV adoption",
          "High CAV adoption",
          "High CAV adoption"
         ],
         "legendgroup": "WA",
         "line": {
          "color": "#EF553B",
          "dash": "solid"
         },
         "marker": {
          "symbol": "circle"
         },
         "mode": "lines",
         "name": "WA",
         "orientation": "v",
         "showlegend": true,
         "type": "scatter",
         "x": [
          2008,
          2011,
          2014,
          2017,
          2020
         ],
         "xaxis": "x",
         "y": [
          534072.3261,
          529055.9281,
          488613.1516,
          472961.0572,
          403749.9275
         ],
         "yaxis": "y"
        },
        {
         "hovertemplate": "<b>%{hovertext}</b><br><br>State=OR<br>=%{x}<br>Tons of annual emissions per 100k of population=%{y}<extra></extra>",
         "hovertext": [
          "High CAV adoption",
          "High CAV adoption",
          "High CAV adoption",
          "High CAV adoption",
          "High CAV adoption"
         ],
         "legendgroup": "OR",
         "line": {
          "color": "#00cc96",
          "dash": "solid"
         },
         "marker": {
          "symbol": "circle"
         },
         "mode": "lines",
         "name": "OR",
         "orientation": "v",
         "showlegend": true,
         "type": "scatter",
         "x": [
          2008,
          2011,
          2014,
          2017,
          2020
         ],
         "xaxis": "x",
         "y": [
          530786.7875,
          491822.3632,
          483500.2786,
          573672.1097,
          492735.8227
         ],
         "yaxis": "y"
        },
        {
         "hovertemplate": "<b>%{hovertext}</b><br><br>State=HI<br>=%{x}<br>Tons of annual emissions per 100k of population=%{y}<extra></extra>",
         "hovertext": [
          "High CAV adoption",
          "High CAV adoption",
          "High CAV adoption",
          "High CAV adoption",
          "High CAV adoption"
         ],
         "legendgroup": "HI",
         "line": {
          "color": "#ab63fa",
          "dash": "solid"
         },
         "marker": {
          "symbol": "circle"
         },
         "mode": "lines",
         "name": "HI",
         "orientation": "v",
         "showlegend": true,
         "type": "scatter",
         "x": [
          2008,
          2011,
          2014,
          2017,
          2020
         ],
         "xaxis": "x",
         "y": [
          434307.0968,
          402234.5104,
          395624.9272,
          401340.7653,
          336341.1189
         ],
         "yaxis": "y"
        },
        {
         "hovertemplate": "<b>%{hovertext}</b><br><br>State=CO<br>=%{x}<br>Tons of annual emissions per 100k of population=%{y}<extra></extra>",
         "hovertext": [
          "High CAV adoption",
          "High CAV adoption",
          "High CAV adoption",
          "High CAV adoption",
          "High CAV adoption"
         ],
         "legendgroup": "CO",
         "line": {
          "color": "#FFA15A",
          "dash": "solid"
         },
         "marker": {
          "symbol": "circle"
         },
         "mode": "lines",
         "name": "CO",
         "orientation": "v",
         "showlegend": true,
         "type": "scatter",
         "x": [
          2008,
          2011,
          2014,
          2017,
          2020
         ],
         "xaxis": "x",
         "y": [
          561596.5395,
          544227.0071,
          526457.9621,
          532373.1044,
          467061.2982
         ],
         "yaxis": "y"
        },
        {
         "hovertemplate": "<b>%{hovertext}</b><br><br>State=NV<br>=%{x}<br>Tons of annual emissions per 100k of population=%{y}<extra></extra>",
         "hovertext": [
          "High CAV adoption",
          "High CAV adoption",
          "High CAV adoption",
          "High CAV adoption",
          "High CAV adoption"
         ],
         "legendgroup": "NV",
         "line": {
          "color": "#19d3f3",
          "dash": "solid"
         },
         "marker": {
          "symbol": "circle"
         },
         "mode": "lines",
         "name": "NV",
         "orientation": "v",
         "showlegend": true,
         "type": "scatter",
         "x": [
          2008,
          2011,
          2014,
          2017,
          2020
         ],
         "xaxis": "x",
         "y": [
          421910.9506,
          575461.2171,
          507021.1335,
          482105.6198,
          448830.8002
         ],
         "yaxis": "y"
        },
        {
         "hovertemplate": "<b>%{hovertext}</b><br><br>State=ND<br>=%{x}<br>Tons of annual emissions per 100k of population=%{y}<extra></extra>",
         "hovertext": [
          "Low CAV adoption",
          "Low CAV adoption",
          "Low CAV adoption",
          "Low CAV adoption",
          "Low CAV adoption"
         ],
         "legendgroup": "ND",
         "line": {
          "color": "#FF6692",
          "dash": "solid"
         },
         "marker": {
          "symbol": "circle"
         },
         "mode": "lines",
         "name": "ND",
         "orientation": "v",
         "showlegend": true,
         "type": "scatter",
         "x": [
          2008,
          2011,
          2014,
          2017,
          2020
         ],
         "xaxis": "x",
         "y": [
          730524.5046,
          863126.5054,
          1113974.391,
          823343.2901,
          772709.43
         ],
         "yaxis": "y"
        },
        {
         "hovertemplate": "<b>%{hovertext}</b><br><br>State=WY<br>=%{x}<br>Tons of annual emissions per 100k of population=%{y}<extra></extra>",
         "hovertext": [
          "Low CAV adoption",
          "Low CAV adoption",
          "Low CAV adoption",
          "Low CAV adoption",
          "Low CAV adoption"
         ],
         "legendgroup": "WY",
         "line": {
          "color": "#B6E880",
          "dash": "solid"
         },
         "marker": {
          "symbol": "circle"
         },
         "mode": "lines",
         "name": "WY",
         "orientation": "v",
         "showlegend": true,
         "type": "scatter",
         "x": [
          2008,
          2011,
          2014,
          2017,
          2020
         ],
         "xaxis": "x",
         "y": [
          1161486.2,
          1179800.905,
          1181451.135,
          1199822.882,
          1194084.595
         ],
         "yaxis": "y"
        },
        {
         "hovertemplate": "<b>%{hovertext}</b><br><br>State=SD<br>=%{x}<br>Tons of annual emissions per 100k of population=%{y}<extra></extra>",
         "hovertext": [
          "Low CAV adoption",
          "Low CAV adoption",
          "Low CAV adoption",
          "Low CAV adoption",
          "Low CAV adoption"
         ],
         "legendgroup": "SD",
         "line": {
          "color": "#FF97FF",
          "dash": "solid"
         },
         "marker": {
          "symbol": "circle"
         },
         "mode": "lines",
         "name": "SD",
         "orientation": "v",
         "showlegend": true,
         "type": "scatter",
         "x": [
          2008,
          2011,
          2014,
          2017,
          2020
         ],
         "xaxis": "x",
         "y": [
          698812.5444,
          686207.7178,
          749948.248,
          696406.7365,
          658668.2339
         ],
         "yaxis": "y"
        },
        {
         "hovertemplate": "<b>%{hovertext}</b><br><br>State=CA<br>=%{x}<br>Tons of annual emissions per 100k of population=%{y}<extra></extra>",
         "hovertext": [
          "High CAV adoption",
          "High CAV adoption",
          "High CAV adoption",
          "High CAV adoption"
         ],
         "legendgroup": "CA",
         "line": {
          "color": "#FECB52",
          "dash": "solid"
         },
         "marker": {
          "symbol": "circle"
         },
         "mode": "lines",
         "name": "CA",
         "orientation": "v",
         "showlegend": true,
         "type": "scatter",
         "x": [
          2011,
          2014,
          2017,
          2020
         ],
         "xaxis": "x",
         "y": [
          489404.1652,
          474057.6755,
          461682.2029,
          431396.7401
         ],
         "yaxis": "y"
        }
       ],
       "layout": {
        "font": {
         "color": "white"
        },
        "legend": {
         "title": {
          "text": "State"
         },
         "tracegroupgap": 0
        },
        "margin": {
         "t": 60
        },
        "paper_bgcolor": "black",
        "plot_bgcolor": "black",
        "template": {
         "data": {
          "bar": [
           {
            "error_x": {
             "color": "#2a3f5f"
            },
            "error_y": {
             "color": "#2a3f5f"
            },
            "marker": {
             "line": {
              "color": "#E5ECF6",
              "width": 0.5
             },
             "pattern": {
              "fillmode": "overlay",
              "size": 10,
              "solidity": 0.2
             }
            },
            "type": "bar"
           }
          ],
          "barpolar": [
           {
            "marker": {
             "line": {
              "color": "#E5ECF6",
              "width": 0.5
             },
             "pattern": {
              "fillmode": "overlay",
              "size": 10,
              "solidity": 0.2
             }
            },
            "type": "barpolar"
           }
          ],
          "carpet": [
           {
            "aaxis": {
             "endlinecolor": "#2a3f5f",
             "gridcolor": "white",
             "linecolor": "white",
             "minorgridcolor": "white",
             "startlinecolor": "#2a3f5f"
            },
            "baxis": {
             "endlinecolor": "#2a3f5f",
             "gridcolor": "white",
             "linecolor": "white",
             "minorgridcolor": "white",
             "startlinecolor": "#2a3f5f"
            },
            "type": "carpet"
           }
          ],
          "choropleth": [
           {
            "colorbar": {
             "outlinewidth": 0,
             "ticks": ""
            },
            "type": "choropleth"
           }
          ],
          "contour": [
           {
            "colorbar": {
             "outlinewidth": 0,
             "ticks": ""
            },
            "colorscale": [
             [
              0,
              "#0d0887"
             ],
             [
              0.1111111111111111,
              "#46039f"
             ],
             [
              0.2222222222222222,
              "#7201a8"
             ],
             [
              0.3333333333333333,
              "#9c179e"
             ],
             [
              0.4444444444444444,
              "#bd3786"
             ],
             [
              0.5555555555555556,
              "#d8576b"
             ],
             [
              0.6666666666666666,
              "#ed7953"
             ],
             [
              0.7777777777777778,
              "#fb9f3a"
             ],
             [
              0.8888888888888888,
              "#fdca26"
             ],
             [
              1,
              "#f0f921"
             ]
            ],
            "type": "contour"
           }
          ],
          "contourcarpet": [
           {
            "colorbar": {
             "outlinewidth": 0,
             "ticks": ""
            },
            "type": "contourcarpet"
           }
          ],
          "heatmap": [
           {
            "colorbar": {
             "outlinewidth": 0,
             "ticks": ""
            },
            "colorscale": [
             [
              0,
              "#0d0887"
             ],
             [
              0.1111111111111111,
              "#46039f"
             ],
             [
              0.2222222222222222,
              "#7201a8"
             ],
             [
              0.3333333333333333,
              "#9c179e"
             ],
             [
              0.4444444444444444,
              "#bd3786"
             ],
             [
              0.5555555555555556,
              "#d8576b"
             ],
             [
              0.6666666666666666,
              "#ed7953"
             ],
             [
              0.7777777777777778,
              "#fb9f3a"
             ],
             [
              0.8888888888888888,
              "#fdca26"
             ],
             [
              1,
              "#f0f921"
             ]
            ],
            "type": "heatmap"
           }
          ],
          "heatmapgl": [
           {
            "colorbar": {
             "outlinewidth": 0,
             "ticks": ""
            },
            "colorscale": [
             [
              0,
              "#0d0887"
             ],
             [
              0.1111111111111111,
              "#46039f"
             ],
             [
              0.2222222222222222,
              "#7201a8"
             ],
             [
              0.3333333333333333,
              "#9c179e"
             ],
             [
              0.4444444444444444,
              "#bd3786"
             ],
             [
              0.5555555555555556,
              "#d8576b"
             ],
             [
              0.6666666666666666,
              "#ed7953"
             ],
             [
              0.7777777777777778,
              "#fb9f3a"
             ],
             [
              0.8888888888888888,
              "#fdca26"
             ],
             [
              1,
              "#f0f921"
             ]
            ],
            "type": "heatmapgl"
           }
          ],
          "histogram": [
           {
            "marker": {
             "pattern": {
              "fillmode": "overlay",
              "size": 10,
              "solidity": 0.2
             }
            },
            "type": "histogram"
           }
          ],
          "histogram2d": [
           {
            "colorbar": {
             "outlinewidth": 0,
             "ticks": ""
            },
            "colorscale": [
             [
              0,
              "#0d0887"
             ],
             [
              0.1111111111111111,
              "#46039f"
             ],
             [
              0.2222222222222222,
              "#7201a8"
             ],
             [
              0.3333333333333333,
              "#9c179e"
             ],
             [
              0.4444444444444444,
              "#bd3786"
             ],
             [
              0.5555555555555556,
              "#d8576b"
             ],
             [
              0.6666666666666666,
              "#ed7953"
             ],
             [
              0.7777777777777778,
              "#fb9f3a"
             ],
             [
              0.8888888888888888,
              "#fdca26"
             ],
             [
              1,
              "#f0f921"
             ]
            ],
            "type": "histogram2d"
           }
          ],
          "histogram2dcontour": [
           {
            "colorbar": {
             "outlinewidth": 0,
             "ticks": ""
            },
            "colorscale": [
             [
              0,
              "#0d0887"
             ],
             [
              0.1111111111111111,
              "#46039f"
             ],
             [
              0.2222222222222222,
              "#7201a8"
             ],
             [
              0.3333333333333333,
              "#9c179e"
             ],
             [
              0.4444444444444444,
              "#bd3786"
             ],
             [
              0.5555555555555556,
              "#d8576b"
             ],
             [
              0.6666666666666666,
              "#ed7953"
             ],
             [
              0.7777777777777778,
              "#fb9f3a"
             ],
             [
              0.8888888888888888,
              "#fdca26"
             ],
             [
              1,
              "#f0f921"
             ]
            ],
            "type": "histogram2dcontour"
           }
          ],
          "mesh3d": [
           {
            "colorbar": {
             "outlinewidth": 0,
             "ticks": ""
            },
            "type": "mesh3d"
           }
          ],
          "parcoords": [
           {
            "line": {
             "colorbar": {
              "outlinewidth": 0,
              "ticks": ""
             }
            },
            "type": "parcoords"
           }
          ],
          "pie": [
           {
            "automargin": true,
            "type": "pie"
           }
          ],
          "scatter": [
           {
            "fillpattern": {
             "fillmode": "overlay",
             "size": 10,
             "solidity": 0.2
            },
            "type": "scatter"
           }
          ],
          "scatter3d": [
           {
            "line": {
             "colorbar": {
              "outlinewidth": 0,
              "ticks": ""
             }
            },
            "marker": {
             "colorbar": {
              "outlinewidth": 0,
              "ticks": ""
             }
            },
            "type": "scatter3d"
           }
          ],
          "scattercarpet": [
           {
            "marker": {
             "colorbar": {
              "outlinewidth": 0,
              "ticks": ""
             }
            },
            "type": "scattercarpet"
           }
          ],
          "scattergeo": [
           {
            "marker": {
             "colorbar": {
              "outlinewidth": 0,
              "ticks": ""
             }
            },
            "type": "scattergeo"
           }
          ],
          "scattergl": [
           {
            "marker": {
             "colorbar": {
              "outlinewidth": 0,
              "ticks": ""
             }
            },
            "type": "scattergl"
           }
          ],
          "scattermapbox": [
           {
            "marker": {
             "colorbar": {
              "outlinewidth": 0,
              "ticks": ""
             }
            },
            "type": "scattermapbox"
           }
          ],
          "scatterpolar": [
           {
            "marker": {
             "colorbar": {
              "outlinewidth": 0,
              "ticks": ""
             }
            },
            "type": "scatterpolar"
           }
          ],
          "scatterpolargl": [
           {
            "marker": {
             "colorbar": {
              "outlinewidth": 0,
              "ticks": ""
             }
            },
            "type": "scatterpolargl"
           }
          ],
          "scatterternary": [
           {
            "marker": {
             "colorbar": {
              "outlinewidth": 0,
              "ticks": ""
             }
            },
            "type": "scatterternary"
           }
          ],
          "surface": [
           {
            "colorbar": {
             "outlinewidth": 0,
             "ticks": ""
            },
            "colorscale": [
             [
              0,
              "#0d0887"
             ],
             [
              0.1111111111111111,
              "#46039f"
             ],
             [
              0.2222222222222222,
              "#7201a8"
             ],
             [
              0.3333333333333333,
              "#9c179e"
             ],
             [
              0.4444444444444444,
              "#bd3786"
             ],
             [
              0.5555555555555556,
              "#d8576b"
             ],
             [
              0.6666666666666666,
              "#ed7953"
             ],
             [
              0.7777777777777778,
              "#fb9f3a"
             ],
             [
              0.8888888888888888,
              "#fdca26"
             ],
             [
              1,
              "#f0f921"
             ]
            ],
            "type": "surface"
           }
          ],
          "table": [
           {
            "cells": {
             "fill": {
              "color": "#EBF0F8"
             },
             "line": {
              "color": "white"
             }
            },
            "header": {
             "fill": {
              "color": "#C8D4E3"
             },
             "line": {
              "color": "white"
             }
            },
            "type": "table"
           }
          ]
         },
         "layout": {
          "annotationdefaults": {
           "arrowcolor": "#2a3f5f",
           "arrowhead": 0,
           "arrowwidth": 1
          },
          "autotypenumbers": "strict",
          "coloraxis": {
           "colorbar": {
            "outlinewidth": 0,
            "ticks": ""
           }
          },
          "colorscale": {
           "diverging": [
            [
             0,
             "#8e0152"
            ],
            [
             0.1,
             "#c51b7d"
            ],
            [
             0.2,
             "#de77ae"
            ],
            [
             0.3,
             "#f1b6da"
            ],
            [
             0.4,
             "#fde0ef"
            ],
            [
             0.5,
             "#f7f7f7"
            ],
            [
             0.6,
             "#e6f5d0"
            ],
            [
             0.7,
             "#b8e186"
            ],
            [
             0.8,
             "#7fbc41"
            ],
            [
             0.9,
             "#4d9221"
            ],
            [
             1,
             "#276419"
            ]
           ],
           "sequential": [
            [
             0,
             "#0d0887"
            ],
            [
             0.1111111111111111,
             "#46039f"
            ],
            [
             0.2222222222222222,
             "#7201a8"
            ],
            [
             0.3333333333333333,
             "#9c179e"
            ],
            [
             0.4444444444444444,
             "#bd3786"
            ],
            [
             0.5555555555555556,
             "#d8576b"
            ],
            [
             0.6666666666666666,
             "#ed7953"
            ],
            [
             0.7777777777777778,
             "#fb9f3a"
            ],
            [
             0.8888888888888888,
             "#fdca26"
            ],
            [
             1,
             "#f0f921"
            ]
           ],
           "sequentialminus": [
            [
             0,
             "#0d0887"
            ],
            [
             0.1111111111111111,
             "#46039f"
            ],
            [
             0.2222222222222222,
             "#7201a8"
            ],
            [
             0.3333333333333333,
             "#9c179e"
            ],
            [
             0.4444444444444444,
             "#bd3786"
            ],
            [
             0.5555555555555556,
             "#d8576b"
            ],
            [
             0.6666666666666666,
             "#ed7953"
            ],
            [
             0.7777777777777778,
             "#fb9f3a"
            ],
            [
             0.8888888888888888,
             "#fdca26"
            ],
            [
             1,
             "#f0f921"
            ]
           ]
          },
          "colorway": [
           "#636efa",
           "#EF553B",
           "#00cc96",
           "#ab63fa",
           "#FFA15A",
           "#19d3f3",
           "#FF6692",
           "#B6E880",
           "#FF97FF",
           "#FECB52"
          ],
          "font": {
           "color": "#2a3f5f"
          },
          "geo": {
           "bgcolor": "white",
           "lakecolor": "white",
           "landcolor": "#E5ECF6",
           "showlakes": true,
           "showland": true,
           "subunitcolor": "white"
          },
          "hoverlabel": {
           "align": "left"
          },
          "hovermode": "closest",
          "mapbox": {
           "style": "light"
          },
          "paper_bgcolor": "white",
          "plot_bgcolor": "#E5ECF6",
          "polar": {
           "angularaxis": {
            "gridcolor": "white",
            "linecolor": "white",
            "ticks": ""
           },
           "bgcolor": "#E5ECF6",
           "radialaxis": {
            "gridcolor": "white",
            "linecolor": "white",
            "ticks": ""
           }
          },
          "scene": {
           "xaxis": {
            "backgroundcolor": "#E5ECF6",
            "gridcolor": "white",
            "gridwidth": 2,
            "linecolor": "white",
            "showbackground": true,
            "ticks": "",
            "zerolinecolor": "white"
           },
           "yaxis": {
            "backgroundcolor": "#E5ECF6",
            "gridcolor": "white",
            "gridwidth": 2,
            "linecolor": "white",
            "showbackground": true,
            "ticks": "",
            "zerolinecolor": "white"
           },
           "zaxis": {
            "backgroundcolor": "#E5ECF6",
            "gridcolor": "white",
            "gridwidth": 2,
            "linecolor": "white",
            "showbackground": true,
            "ticks": "",
            "zerolinecolor": "white"
           }
          },
          "shapedefaults": {
           "line": {
            "color": "#2a3f5f"
           }
          },
          "ternary": {
           "aaxis": {
            "gridcolor": "white",
            "linecolor": "white",
            "ticks": ""
           },
           "baxis": {
            "gridcolor": "white",
            "linecolor": "white",
            "ticks": ""
           },
           "bgcolor": "#E5ECF6",
           "caxis": {
            "gridcolor": "white",
            "linecolor": "white",
            "ticks": ""
           }
          },
          "title": {
           "x": 0.05
          },
          "xaxis": {
           "automargin": true,
           "gridcolor": "white",
           "linecolor": "white",
           "ticks": "",
           "title": {
            "standoff": 15
           },
           "zerolinecolor": "white",
           "zerolinewidth": 2
          },
          "yaxis": {
           "automargin": true,
           "gridcolor": "white",
           "linecolor": "white",
           "ticks": "",
           "title": {
            "standoff": 15
           },
           "zerolinecolor": "white",
           "zerolinewidth": 2
          }
         }
        },
        "title": {
         "text": "Carbon Dioxide emisions per 100k of population"
        },
        "xaxis": {
         "anchor": "y",
         "domain": [
          0,
          1
         ],
         "title": {
          "text": ""
         }
        },
        "yaxis": {
         "anchor": "x",
         "domain": [
          0,
          1
         ],
         "title": {
          "text": "Tons of annual emissions per 100k of population"
         }
        }
       }
      },
      "text/html": [
       "<div>                            <div id=\"a5ea1b2d-a34b-4399-b7b3-d37e739964cc\" class=\"plotly-graph-div\" style=\"height:525px; width:100%;\"></div>            <script type=\"text/javascript\">                require([\"plotly\"], function(Plotly) {                    window.PLOTLYENV=window.PLOTLYENV || {};                                    if (document.getElementById(\"a5ea1b2d-a34b-4399-b7b3-d37e739964cc\")) {                    Plotly.newPlot(                        \"a5ea1b2d-a34b-4399-b7b3-d37e739964cc\",                        [{\"hovertemplate\":\"<b>%{hovertext}</b><br><br>State=VT<br>=%{x}<br>Tons of annual emissions per 100k of population=%{y}<extra></extra>\",\"hovertext\":[\"High CAV adoption\",\"High CAV adoption\",\"High CAV adoption\",\"High CAV adoption\",\"High CAV adoption\"],\"legendgroup\":\"VT\",\"line\":{\"color\":\"#636efa\",\"dash\":\"solid\"},\"marker\":{\"symbol\":\"circle\"},\"mode\":\"lines\",\"name\":\"VT\",\"orientation\":\"v\",\"showlegend\":true,\"x\":[2008,2011,2014,2017,2020],\"xaxis\":\"x\",\"y\":[581825.7417,591100.4277,623449.3532,582165.6671,457888.6362],\"yaxis\":\"y\",\"type\":\"scatter\"},{\"hovertemplate\":\"<b>%{hovertext}</b><br><br>State=MA<br>=%{x}<br>Tons of annual emissions per 100k of population=%{y}<extra></extra>\",\"hovertext\":[\"High CAV adoption\",\"High CAV adoption\",\"High CAV adoption\",\"High CAV adoption\",\"High CAV adoption\"],\"legendgroup\":\"MA\",\"line\":{\"color\":\"#EF553B\",\"dash\":\"solid\"},\"marker\":{\"symbol\":\"circle\"},\"mode\":\"lines\",\"name\":\"MA\",\"orientation\":\"v\",\"showlegend\":true,\"x\":[2008,2011,2014,2017,2020],\"xaxis\":\"x\",\"y\":[500923.7005,426935.5569,418296.5458,484920.0846,393530.4983],\"yaxis\":\"y\",\"type\":\"scatter\"},{\"hovertemplate\":\"<b>%{hovertext}</b><br><br>State=MD<br>=%{x}<br>Tons of annual emissions per 100k of population=%{y}<extra></extra>\",\"hovertext\":[\"High CAV adoption\",\"High CAV adoption\",\"High CAV adoption\",\"High CAV adoption\",\"High CAV adoption\"],\"legendgroup\":\"MD\",\"line\":{\"color\":\"#00cc96\",\"dash\":\"solid\"},\"marker\":{\"symbol\":\"circle\"},\"mode\":\"lines\",\"name\":\"MD\",\"orientation\":\"v\",\"showlegend\":true,\"x\":[2008,2011,2014,2017,2020],\"xaxis\":\"x\",\"y\":[544105.3855,522598.5209,528659.3329,525862.554,446741.4785],\"yaxis\":\"y\",\"type\":\"scatter\"},{\"hovertemplate\":\"<b>%{hovertext}</b><br><br>State=VA<br>=%{x}<br>Tons of annual emissions per 100k of population=%{y}<extra></extra>\",\"hovertext\":[\"High CAV adoption\",\"High CAV adoption\",\"High CAV adoption\",\"High CAV adoption\",\"High CAV adoption\"],\"legendgroup\":\"VA\",\"line\":{\"color\":\"#ab63fa\",\"dash\":\"solid\"},\"marker\":{\"symbol\":\"circle\"},\"mode\":\"lines\",\"name\":\"VA\",\"orientation\":\"v\",\"showlegend\":true,\"x\":[2008,2011,2014,2017,2020],\"xaxis\":\"x\",\"y\":[591572.0292,504812.1969,563551.7473,539741.6034,472340.7947],\"yaxis\":\"y\",\"type\":\"scatter\"},{\"hovertemplate\":\"<b>%{hovertext}</b><br><br>State=WV<br>=%{x}<br>Tons of annual emissions per 100k of population=%{y}<extra></extra>\",\"hovertext\":[\"Low CAV adoption\",\"Low CAV adoption\",\"Low CAV adoption\",\"Low CAV adoption\",\"Low CAV adoption\"],\"legendgroup\":\"WV\",\"line\":{\"color\":\"#FFA15A\",\"dash\":\"solid\"},\"marker\":{\"symbol\":\"circle\"},\"mode\":\"lines\",\"name\":\"WV\",\"orientation\":\"v\",\"showlegend\":true,\"x\":[2008,2011,2014,2017,2020],\"xaxis\":\"x\",\"y\":[666256.8631,572620.3747,629766.3538,602130.6342,519433.7318],\"yaxis\":\"y\",\"type\":\"scatter\"},{\"hovertemplate\":\"<b>%{hovertext}</b><br><br>State=AL<br>=%{x}<br>Tons of annual emissions per 100k of population=%{y}<extra></extra>\",\"hovertext\":[\"Low CAV adoption\",\"Low CAV adoption\",\"Low CAV adoption\",\"Low CAV adoption\",\"Low CAV adoption\"],\"legendgroup\":\"AL\",\"line\":{\"color\":\"#19d3f3\",\"dash\":\"solid\"},\"marker\":{\"symbol\":\"circle\"},\"mode\":\"lines\",\"name\":\"AL\",\"orientation\":\"v\",\"showlegend\":true,\"x\":[2008,2011,2014,2017,2020],\"xaxis\":\"x\",\"y\":[747944.2271,839698.2714,817401.7601,851326.2195,755621.6529],\"yaxis\":\"y\",\"type\":\"scatter\"},{\"hovertemplate\":\"<b>%{hovertext}</b><br><br>State=KY<br>=%{x}<br>Tons of annual emissions per 100k of population=%{y}<extra></extra>\",\"hovertext\":[\"Low CAV adoption\",\"Low CAV adoption\",\"Low CAV adoption\",\"Low CAV adoption\",\"Low CAV adoption\"],\"legendgroup\":\"KY\",\"line\":{\"color\":\"#FF6692\",\"dash\":\"solid\"},\"marker\":{\"symbol\":\"circle\"},\"mode\":\"lines\",\"name\":\"KY\",\"orientation\":\"v\",\"showlegend\":true,\"x\":[2008,2011,2014,2017,2020],\"xaxis\":\"x\",\"y\":[678000.2581,680804.2627,664992.6733,678433.4619,608284.6761],\"yaxis\":\"y\",\"type\":\"scatter\"},{\"hovertemplate\":\"<b>%{hovertext}</b><br><br>State=MI<br>=%{x}<br>Tons of annual emissions per 100k of population=%{y}<extra></extra>\",\"hovertext\":[\"Low CAV adoption\",\"Low CAV adoption\",\"Low CAV adoption\",\"Low CAV adoption\",\"Low CAV adoption\"],\"legendgroup\":\"MI\",\"line\":{\"color\":\"#B6E880\",\"dash\":\"solid\"},\"marker\":{\"symbol\":\"circle\"},\"mode\":\"lines\",\"name\":\"MI\",\"orientation\":\"v\",\"showlegend\":true,\"x\":[2008,2011,2014,2017,2020],\"xaxis\":\"x\",\"y\":[639729.124,541484.2273,504359.8345,548438.4111,450891.1465],\"yaxis\":\"y\",\"type\":\"scatter\"},{\"hovertemplate\":\"<b>%{hovertext}</b><br><br>State=LA<br>=%{x}<br>Tons of annual emissions per 100k of population=%{y}<extra></extra>\",\"hovertext\":[\"Low CAV adoption\",\"Low CAV adoption\",\"Low CAV adoption\",\"Low CAV adoption\",\"Low CAV adoption\"],\"legendgroup\":\"LA\",\"line\":{\"color\":\"#FF97FF\",\"dash\":\"solid\"},\"marker\":{\"symbol\":\"circle\"},\"mode\":\"lines\",\"name\":\"LA\",\"orientation\":\"v\",\"showlegend\":true,\"x\":[2008,2011,2014,2017,2020],\"xaxis\":\"x\",\"y\":[626678.4422,638778.3548,690594.1573,697352.6527,606289.0916],\"yaxis\":\"y\",\"type\":\"scatter\"},{\"hovertemplate\":\"<b>%{hovertext}</b><br><br>State=AR<br>=%{x}<br>Tons of annual emissions per 100k of population=%{y}<extra></extra>\",\"hovertext\":[\"Low CAV adoption\",\"Low CAV adoption\",\"Low CAV adoption\",\"Low CAV adoption\",\"Low CAV adoption\"],\"legendgroup\":\"AR\",\"line\":{\"color\":\"#FECB52\",\"dash\":\"solid\"},\"marker\":{\"symbol\":\"circle\"},\"mode\":\"lines\",\"name\":\"AR\",\"orientation\":\"v\",\"showlegend\":true,\"x\":[2008,2011,2014,2017,2020],\"xaxis\":\"x\",\"y\":[687663.6668,766921.4255,754451.8734,796282.895,676959.9715],\"yaxis\":\"y\",\"type\":\"scatter\"},{\"hovertemplate\":\"<b>%{hovertext}</b><br><br>State=OK<br>=%{x}<br>Tons of annual emissions per 100k of population=%{y}<extra></extra>\",\"hovertext\":[\"Low CAV adoption\",\"Low CAV adoption\",\"Low CAV adoption\",\"Low CAV adoption\",\"Low CAV adoption\"],\"legendgroup\":\"OK\",\"line\":{\"color\":\"#636efa\",\"dash\":\"solid\"},\"marker\":{\"symbol\":\"circle\"},\"mode\":\"lines\",\"name\":\"OK\",\"orientation\":\"v\",\"showlegend\":true,\"x\":[2008,2011,2014,2017,2020],\"xaxis\":\"x\",\"y\":[814482.1852,807476.0378,763320.0378,776927.4695,715412.2745],\"yaxis\":\"y\",\"type\":\"scatter\"},{\"hovertemplate\":\"<b>%{hovertext}</b><br><br>State=WA<br>=%{x}<br>Tons of annual emissions per 100k of population=%{y}<extra></extra>\",\"hovertext\":[\"High CAV adoption\",\"High CAV adoption\",\"High CAV adoption\",\"High CAV adoption\",\"High CAV adoption\"],\"legendgroup\":\"WA\",\"line\":{\"color\":\"#EF553B\",\"dash\":\"solid\"},\"marker\":{\"symbol\":\"circle\"},\"mode\":\"lines\",\"name\":\"WA\",\"orientation\":\"v\",\"showlegend\":true,\"x\":[2008,2011,2014,2017,2020],\"xaxis\":\"x\",\"y\":[534072.3261,529055.9281,488613.1516,472961.0572,403749.9275],\"yaxis\":\"y\",\"type\":\"scatter\"},{\"hovertemplate\":\"<b>%{hovertext}</b><br><br>State=OR<br>=%{x}<br>Tons of annual emissions per 100k of population=%{y}<extra></extra>\",\"hovertext\":[\"High CAV adoption\",\"High CAV adoption\",\"High CAV adoption\",\"High CAV adoption\",\"High CAV adoption\"],\"legendgroup\":\"OR\",\"line\":{\"color\":\"#00cc96\",\"dash\":\"solid\"},\"marker\":{\"symbol\":\"circle\"},\"mode\":\"lines\",\"name\":\"OR\",\"orientation\":\"v\",\"showlegend\":true,\"x\":[2008,2011,2014,2017,2020],\"xaxis\":\"x\",\"y\":[530786.7875,491822.3632,483500.2786,573672.1097,492735.8227],\"yaxis\":\"y\",\"type\":\"scatter\"},{\"hovertemplate\":\"<b>%{hovertext}</b><br><br>State=HI<br>=%{x}<br>Tons of annual emissions per 100k of population=%{y}<extra></extra>\",\"hovertext\":[\"High CAV adoption\",\"High CAV adoption\",\"High CAV adoption\",\"High CAV adoption\",\"High CAV adoption\"],\"legendgroup\":\"HI\",\"line\":{\"color\":\"#ab63fa\",\"dash\":\"solid\"},\"marker\":{\"symbol\":\"circle\"},\"mode\":\"lines\",\"name\":\"HI\",\"orientation\":\"v\",\"showlegend\":true,\"x\":[2008,2011,2014,2017,2020],\"xaxis\":\"x\",\"y\":[434307.0968,402234.5104,395624.9272,401340.7653,336341.1189],\"yaxis\":\"y\",\"type\":\"scatter\"},{\"hovertemplate\":\"<b>%{hovertext}</b><br><br>State=CO<br>=%{x}<br>Tons of annual emissions per 100k of population=%{y}<extra></extra>\",\"hovertext\":[\"High CAV adoption\",\"High CAV adoption\",\"High CAV adoption\",\"High CAV adoption\",\"High CAV adoption\"],\"legendgroup\":\"CO\",\"line\":{\"color\":\"#FFA15A\",\"dash\":\"solid\"},\"marker\":{\"symbol\":\"circle\"},\"mode\":\"lines\",\"name\":\"CO\",\"orientation\":\"v\",\"showlegend\":true,\"x\":[2008,2011,2014,2017,2020],\"xaxis\":\"x\",\"y\":[561596.5395,544227.0071,526457.9621,532373.1044,467061.2982],\"yaxis\":\"y\",\"type\":\"scatter\"},{\"hovertemplate\":\"<b>%{hovertext}</b><br><br>State=NV<br>=%{x}<br>Tons of annual emissions per 100k of population=%{y}<extra></extra>\",\"hovertext\":[\"High CAV adoption\",\"High CAV adoption\",\"High CAV adoption\",\"High CAV adoption\",\"High CAV adoption\"],\"legendgroup\":\"NV\",\"line\":{\"color\":\"#19d3f3\",\"dash\":\"solid\"},\"marker\":{\"symbol\":\"circle\"},\"mode\":\"lines\",\"name\":\"NV\",\"orientation\":\"v\",\"showlegend\":true,\"x\":[2008,2011,2014,2017,2020],\"xaxis\":\"x\",\"y\":[421910.9506,575461.2171,507021.1335,482105.6198,448830.8002],\"yaxis\":\"y\",\"type\":\"scatter\"},{\"hovertemplate\":\"<b>%{hovertext}</b><br><br>State=ND<br>=%{x}<br>Tons of annual emissions per 100k of population=%{y}<extra></extra>\",\"hovertext\":[\"Low CAV adoption\",\"Low CAV adoption\",\"Low CAV adoption\",\"Low CAV adoption\",\"Low CAV adoption\"],\"legendgroup\":\"ND\",\"line\":{\"color\":\"#FF6692\",\"dash\":\"solid\"},\"marker\":{\"symbol\":\"circle\"},\"mode\":\"lines\",\"name\":\"ND\",\"orientation\":\"v\",\"showlegend\":true,\"x\":[2008,2011,2014,2017,2020],\"xaxis\":\"x\",\"y\":[730524.5046,863126.5054,1113974.391,823343.2901,772709.43],\"yaxis\":\"y\",\"type\":\"scatter\"},{\"hovertemplate\":\"<b>%{hovertext}</b><br><br>State=WY<br>=%{x}<br>Tons of annual emissions per 100k of population=%{y}<extra></extra>\",\"hovertext\":[\"Low CAV adoption\",\"Low CAV adoption\",\"Low CAV adoption\",\"Low CAV adoption\",\"Low CAV adoption\"],\"legendgroup\":\"WY\",\"line\":{\"color\":\"#B6E880\",\"dash\":\"solid\"},\"marker\":{\"symbol\":\"circle\"},\"mode\":\"lines\",\"name\":\"WY\",\"orientation\":\"v\",\"showlegend\":true,\"x\":[2008,2011,2014,2017,2020],\"xaxis\":\"x\",\"y\":[1161486.2,1179800.905,1181451.135,1199822.882,1194084.595],\"yaxis\":\"y\",\"type\":\"scatter\"},{\"hovertemplate\":\"<b>%{hovertext}</b><br><br>State=SD<br>=%{x}<br>Tons of annual emissions per 100k of population=%{y}<extra></extra>\",\"hovertext\":[\"Low CAV adoption\",\"Low CAV adoption\",\"Low CAV adoption\",\"Low CAV adoption\",\"Low CAV adoption\"],\"legendgroup\":\"SD\",\"line\":{\"color\":\"#FF97FF\",\"dash\":\"solid\"},\"marker\":{\"symbol\":\"circle\"},\"mode\":\"lines\",\"name\":\"SD\",\"orientation\":\"v\",\"showlegend\":true,\"x\":[2008,2011,2014,2017,2020],\"xaxis\":\"x\",\"y\":[698812.5444,686207.7178,749948.248,696406.7365,658668.2339],\"yaxis\":\"y\",\"type\":\"scatter\"},{\"hovertemplate\":\"<b>%{hovertext}</b><br><br>State=CA<br>=%{x}<br>Tons of annual emissions per 100k of population=%{y}<extra></extra>\",\"hovertext\":[\"High CAV adoption\",\"High CAV adoption\",\"High CAV adoption\",\"High CAV adoption\"],\"legendgroup\":\"CA\",\"line\":{\"color\":\"#FECB52\",\"dash\":\"solid\"},\"marker\":{\"symbol\":\"circle\"},\"mode\":\"lines\",\"name\":\"CA\",\"orientation\":\"v\",\"showlegend\":true,\"x\":[2011,2014,2017,2020],\"xaxis\":\"x\",\"y\":[489404.1652,474057.6755,461682.2029,431396.7401],\"yaxis\":\"y\",\"type\":\"scatter\"}],                        {\"template\":{\"data\":{\"histogram2dcontour\":[{\"type\":\"histogram2dcontour\",\"colorbar\":{\"outlinewidth\":0,\"ticks\":\"\"},\"colorscale\":[[0.0,\"#0d0887\"],[0.1111111111111111,\"#46039f\"],[0.2222222222222222,\"#7201a8\"],[0.3333333333333333,\"#9c179e\"],[0.4444444444444444,\"#bd3786\"],[0.5555555555555556,\"#d8576b\"],[0.6666666666666666,\"#ed7953\"],[0.7777777777777778,\"#fb9f3a\"],[0.8888888888888888,\"#fdca26\"],[1.0,\"#f0f921\"]]}],\"choropleth\":[{\"type\":\"choropleth\",\"colorbar\":{\"outlinewidth\":0,\"ticks\":\"\"}}],\"histogram2d\":[{\"type\":\"histogram2d\",\"colorbar\":{\"outlinewidth\":0,\"ticks\":\"\"},\"colorscale\":[[0.0,\"#0d0887\"],[0.1111111111111111,\"#46039f\"],[0.2222222222222222,\"#7201a8\"],[0.3333333333333333,\"#9c179e\"],[0.4444444444444444,\"#bd3786\"],[0.5555555555555556,\"#d8576b\"],[0.6666666666666666,\"#ed7953\"],[0.7777777777777778,\"#fb9f3a\"],[0.8888888888888888,\"#fdca26\"],[1.0,\"#f0f921\"]]}],\"heatmap\":[{\"type\":\"heatmap\",\"colorbar\":{\"outlinewidth\":0,\"ticks\":\"\"},\"colorscale\":[[0.0,\"#0d0887\"],[0.1111111111111111,\"#46039f\"],[0.2222222222222222,\"#7201a8\"],[0.3333333333333333,\"#9c179e\"],[0.4444444444444444,\"#bd3786\"],[0.5555555555555556,\"#d8576b\"],[0.6666666666666666,\"#ed7953\"],[0.7777777777777778,\"#fb9f3a\"],[0.8888888888888888,\"#fdca26\"],[1.0,\"#f0f921\"]]}],\"heatmapgl\":[{\"type\":\"heatmapgl\",\"colorbar\":{\"outlinewidth\":0,\"ticks\":\"\"},\"colorscale\":[[0.0,\"#0d0887\"],[0.1111111111111111,\"#46039f\"],[0.2222222222222222,\"#7201a8\"],[0.3333333333333333,\"#9c179e\"],[0.4444444444444444,\"#bd3786\"],[0.5555555555555556,\"#d8576b\"],[0.6666666666666666,\"#ed7953\"],[0.7777777777777778,\"#fb9f3a\"],[0.8888888888888888,\"#fdca26\"],[1.0,\"#f0f921\"]]}],\"contourcarpet\":[{\"type\":\"contourcarpet\",\"colorbar\":{\"outlinewidth\":0,\"ticks\":\"\"}}],\"contour\":[{\"type\":\"contour\",\"colorbar\":{\"outlinewidth\":0,\"ticks\":\"\"},\"colorscale\":[[0.0,\"#0d0887\"],[0.1111111111111111,\"#46039f\"],[0.2222222222222222,\"#7201a8\"],[0.3333333333333333,\"#9c179e\"],[0.4444444444444444,\"#bd3786\"],[0.5555555555555556,\"#d8576b\"],[0.6666666666666666,\"#ed7953\"],[0.7777777777777778,\"#fb9f3a\"],[0.8888888888888888,\"#fdca26\"],[1.0,\"#f0f921\"]]}],\"surface\":[{\"type\":\"surface\",\"colorbar\":{\"outlinewidth\":0,\"ticks\":\"\"},\"colorscale\":[[0.0,\"#0d0887\"],[0.1111111111111111,\"#46039f\"],[0.2222222222222222,\"#7201a8\"],[0.3333333333333333,\"#9c179e\"],[0.4444444444444444,\"#bd3786\"],[0.5555555555555556,\"#d8576b\"],[0.6666666666666666,\"#ed7953\"],[0.7777777777777778,\"#fb9f3a\"],[0.8888888888888888,\"#fdca26\"],[1.0,\"#f0f921\"]]}],\"mesh3d\":[{\"type\":\"mesh3d\",\"colorbar\":{\"outlinewidth\":0,\"ticks\":\"\"}}],\"scatter\":[{\"fillpattern\":{\"fillmode\":\"overlay\",\"size\":10,\"solidity\":0.2},\"type\":\"scatter\"}],\"parcoords\":[{\"type\":\"parcoords\",\"line\":{\"colorbar\":{\"outlinewidth\":0,\"ticks\":\"\"}}}],\"scatterpolargl\":[{\"type\":\"scatterpolargl\",\"marker\":{\"colorbar\":{\"outlinewidth\":0,\"ticks\":\"\"}}}],\"bar\":[{\"error_x\":{\"color\":\"#2a3f5f\"},\"error_y\":{\"color\":\"#2a3f5f\"},\"marker\":{\"line\":{\"color\":\"#E5ECF6\",\"width\":0.5},\"pattern\":{\"fillmode\":\"overlay\",\"size\":10,\"solidity\":0.2}},\"type\":\"bar\"}],\"scattergeo\":[{\"type\":\"scattergeo\",\"marker\":{\"colorbar\":{\"outlinewidth\":0,\"ticks\":\"\"}}}],\"scatterpolar\":[{\"type\":\"scatterpolar\",\"marker\":{\"colorbar\":{\"outlinewidth\":0,\"ticks\":\"\"}}}],\"histogram\":[{\"marker\":{\"pattern\":{\"fillmode\":\"overlay\",\"size\":10,\"solidity\":0.2}},\"type\":\"histogram\"}],\"scattergl\":[{\"type\":\"scattergl\",\"marker\":{\"colorbar\":{\"outlinewidth\":0,\"ticks\":\"\"}}}],\"scatter3d\":[{\"type\":\"scatter3d\",\"line\":{\"colorbar\":{\"outlinewidth\":0,\"ticks\":\"\"}},\"marker\":{\"colorbar\":{\"outlinewidth\":0,\"ticks\":\"\"}}}],\"scattermapbox\":[{\"type\":\"scattermapbox\",\"marker\":{\"colorbar\":{\"outlinewidth\":0,\"ticks\":\"\"}}}],\"scatterternary\":[{\"type\":\"scatterternary\",\"marker\":{\"colorbar\":{\"outlinewidth\":0,\"ticks\":\"\"}}}],\"scattercarpet\":[{\"type\":\"scattercarpet\",\"marker\":{\"colorbar\":{\"outlinewidth\":0,\"ticks\":\"\"}}}],\"carpet\":[{\"aaxis\":{\"endlinecolor\":\"#2a3f5f\",\"gridcolor\":\"white\",\"linecolor\":\"white\",\"minorgridcolor\":\"white\",\"startlinecolor\":\"#2a3f5f\"},\"baxis\":{\"endlinecolor\":\"#2a3f5f\",\"gridcolor\":\"white\",\"linecolor\":\"white\",\"minorgridcolor\":\"white\",\"startlinecolor\":\"#2a3f5f\"},\"type\":\"carpet\"}],\"table\":[{\"cells\":{\"fill\":{\"color\":\"#EBF0F8\"},\"line\":{\"color\":\"white\"}},\"header\":{\"fill\":{\"color\":\"#C8D4E3\"},\"line\":{\"color\":\"white\"}},\"type\":\"table\"}],\"barpolar\":[{\"marker\":{\"line\":{\"color\":\"#E5ECF6\",\"width\":0.5},\"pattern\":{\"fillmode\":\"overlay\",\"size\":10,\"solidity\":0.2}},\"type\":\"barpolar\"}],\"pie\":[{\"automargin\":true,\"type\":\"pie\"}]},\"layout\":{\"autotypenumbers\":\"strict\",\"colorway\":[\"#636efa\",\"#EF553B\",\"#00cc96\",\"#ab63fa\",\"#FFA15A\",\"#19d3f3\",\"#FF6692\",\"#B6E880\",\"#FF97FF\",\"#FECB52\"],\"font\":{\"color\":\"#2a3f5f\"},\"hovermode\":\"closest\",\"hoverlabel\":{\"align\":\"left\"},\"paper_bgcolor\":\"white\",\"plot_bgcolor\":\"#E5ECF6\",\"polar\":{\"bgcolor\":\"#E5ECF6\",\"angularaxis\":{\"gridcolor\":\"white\",\"linecolor\":\"white\",\"ticks\":\"\"},\"radialaxis\":{\"gridcolor\":\"white\",\"linecolor\":\"white\",\"ticks\":\"\"}},\"ternary\":{\"bgcolor\":\"#E5ECF6\",\"aaxis\":{\"gridcolor\":\"white\",\"linecolor\":\"white\",\"ticks\":\"\"},\"baxis\":{\"gridcolor\":\"white\",\"linecolor\":\"white\",\"ticks\":\"\"},\"caxis\":{\"gridcolor\":\"white\",\"linecolor\":\"white\",\"ticks\":\"\"}},\"coloraxis\":{\"colorbar\":{\"outlinewidth\":0,\"ticks\":\"\"}},\"colorscale\":{\"sequential\":[[0.0,\"#0d0887\"],[0.1111111111111111,\"#46039f\"],[0.2222222222222222,\"#7201a8\"],[0.3333333333333333,\"#9c179e\"],[0.4444444444444444,\"#bd3786\"],[0.5555555555555556,\"#d8576b\"],[0.6666666666666666,\"#ed7953\"],[0.7777777777777778,\"#fb9f3a\"],[0.8888888888888888,\"#fdca26\"],[1.0,\"#f0f921\"]],\"sequentialminus\":[[0.0,\"#0d0887\"],[0.1111111111111111,\"#46039f\"],[0.2222222222222222,\"#7201a8\"],[0.3333333333333333,\"#9c179e\"],[0.4444444444444444,\"#bd3786\"],[0.5555555555555556,\"#d8576b\"],[0.6666666666666666,\"#ed7953\"],[0.7777777777777778,\"#fb9f3a\"],[0.8888888888888888,\"#fdca26\"],[1.0,\"#f0f921\"]],\"diverging\":[[0,\"#8e0152\"],[0.1,\"#c51b7d\"],[0.2,\"#de77ae\"],[0.3,\"#f1b6da\"],[0.4,\"#fde0ef\"],[0.5,\"#f7f7f7\"],[0.6,\"#e6f5d0\"],[0.7,\"#b8e186\"],[0.8,\"#7fbc41\"],[0.9,\"#4d9221\"],[1,\"#276419\"]]},\"xaxis\":{\"gridcolor\":\"white\",\"linecolor\":\"white\",\"ticks\":\"\",\"title\":{\"standoff\":15},\"zerolinecolor\":\"white\",\"automargin\":true,\"zerolinewidth\":2},\"yaxis\":{\"gridcolor\":\"white\",\"linecolor\":\"white\",\"ticks\":\"\",\"title\":{\"standoff\":15},\"zerolinecolor\":\"white\",\"automargin\":true,\"zerolinewidth\":2},\"scene\":{\"xaxis\":{\"backgroundcolor\":\"#E5ECF6\",\"gridcolor\":\"white\",\"linecolor\":\"white\",\"showbackground\":true,\"ticks\":\"\",\"zerolinecolor\":\"white\",\"gridwidth\":2},\"yaxis\":{\"backgroundcolor\":\"#E5ECF6\",\"gridcolor\":\"white\",\"linecolor\":\"white\",\"showbackground\":true,\"ticks\":\"\",\"zerolinecolor\":\"white\",\"gridwidth\":2},\"zaxis\":{\"backgroundcolor\":\"#E5ECF6\",\"gridcolor\":\"white\",\"linecolor\":\"white\",\"showbackground\":true,\"ticks\":\"\",\"zerolinecolor\":\"white\",\"gridwidth\":2}},\"shapedefaults\":{\"line\":{\"color\":\"#2a3f5f\"}},\"annotationdefaults\":{\"arrowcolor\":\"#2a3f5f\",\"arrowhead\":0,\"arrowwidth\":1},\"geo\":{\"bgcolor\":\"white\",\"landcolor\":\"#E5ECF6\",\"subunitcolor\":\"white\",\"showland\":true,\"showlakes\":true,\"lakecolor\":\"white\"},\"title\":{\"x\":0.05},\"mapbox\":{\"style\":\"light\"}}},\"xaxis\":{\"anchor\":\"y\",\"domain\":[0.0,1.0],\"title\":{\"text\":\"\"}},\"yaxis\":{\"anchor\":\"x\",\"domain\":[0.0,1.0],\"title\":{\"text\":\"Tons of annual emissions per 100k of population\"}},\"legend\":{\"title\":{\"text\":\"State\"},\"tracegroupgap\":0},\"margin\":{\"t\":60},\"font\":{\"color\":\"white\"},\"plot_bgcolor\":\"black\",\"paper_bgcolor\":\"black\",\"title\":{\"text\":\"Carbon Dioxide emisions per 100k of population\"}},                        {\"responsive\": true}                    ).then(function(){\n",
       "                            \n",
       "var gd = document.getElementById('a5ea1b2d-a34b-4399-b7b3-d37e739964cc');\n",
       "var x = new MutationObserver(function (mutations, observer) {{\n",
       "        var display = window.getComputedStyle(gd).display;\n",
       "        if (!display || display === 'none') {{\n",
       "            console.log([gd, 'removed!']);\n",
       "            Plotly.purge(gd);\n",
       "            observer.disconnect();\n",
       "        }}\n",
       "}});\n",
       "\n",
       "// Listen for the removal of the full notebook cells\n",
       "var notebookContainer = gd.closest('#notebook-container');\n",
       "if (notebookContainer) {{\n",
       "    x.observe(notebookContainer, {childList: true});\n",
       "}}\n",
       "\n",
       "// Listen for the clearing of the current output cell\n",
       "var outputEl = gd.closest('.output');\n",
       "if (outputEl) {{\n",
       "    x.observe(outputEl, {childList: true});\n",
       "}}\n",
       "\n",
       "                        })                };                });            </script>        </div>"
      ]
     },
     "metadata": {},
     "output_type": "display_data"
    }
   ],
   "source": [
    "Carbon_Dioxide = nei_by_pollutant.loc[(nei_by_pollutant[\"Pollutant\"] == 'Carbon Dioxide')]\n",
    "\n",
    "Carbon_Dioxide_plot = px.line(\n",
    "    Carbon_Dioxide,\n",
    "    x = \"Year\",\n",
    "    y = \"Emmisions_per_100k\",\n",
    "    hover_name = \"CAV_adoption\",\n",
    "    color = \"State\",\n",
    "    labels = {\n",
    "        \"Year\":'',\n",
    "        \"Emmisions_per_100k\": \"Tons of annual emissions per 100k of population\"\n",
    "    }\n",
    ")\n",
    "\n",
    "Carbon_Dioxide_plot.update_layout(\n",
    "#     yaxis_range=[0,6],\n",
    "    font_color=\"white\",\n",
    "    legend=dict(\n",
    "    title=\"State\"\n",
    "))\n",
    "\n",
    "Carbon_Dioxide_plot.update_layout({\n",
    "    'plot_bgcolor':'black',\n",
    "    'paper_bgcolor':'black',\n",
    "    'title':'Carbon Dioxide emisions per 100k of population'\n",
    "})\n",
    "\n",
    "Carbon_Dioxide_plot.show()"
   ]
  },
  {
   "cell_type": "code",
   "execution_count": 44,
   "id": "6d7166fe",
   "metadata": {},
   "outputs": [
    {
     "data": {
      "application/vnd.plotly.v1+json": {
       "config": {
        "plotlyServerURL": "https://plot.ly"
       },
       "data": [
        {
         "hovertemplate": "<b>%{hovertext}</b><br><br>State=VT<br>=%{x}<br>Tons of annual emissions per 100k of population=%{y}<extra></extra>",
         "hovertext": [
          "High CAV adoption",
          "High CAV adoption",
          "High CAV adoption",
          "High CAV adoption",
          "High CAV adoption"
         ],
         "legendgroup": "VT",
         "line": {
          "color": "#636efa",
          "dash": "solid"
         },
         "marker": {
          "symbol": "circle"
         },
         "mode": "lines",
         "name": "VT",
         "orientation": "v",
         "showlegend": true,
         "type": "scatter",
         "x": [
          2008,
          2011,
          2014,
          2017,
          2020
         ],
         "xaxis": "x",
         "y": [
          10688.13953,
          7818.291153,
          7534.934935,
          5880.737583,
          3406.289011
         ],
         "yaxis": "y"
        },
        {
         "hovertemplate": "<b>%{hovertext}</b><br><br>State=MA<br>=%{x}<br>Tons of annual emissions per 100k of population=%{y}<extra></extra>",
         "hovertext": [
          "High CAV adoption",
          "High CAV adoption",
          "High CAV adoption",
          "High CAV adoption",
          "High CAV adoption"
         ],
         "legendgroup": "MA",
         "line": {
          "color": "#EF553B",
          "dash": "solid"
         },
         "marker": {
          "symbol": "circle"
         },
         "mode": "lines",
         "name": "MA",
         "orientation": "v",
         "showlegend": true,
         "type": "scatter",
         "x": [
          2008,
          2011,
          2014,
          2017,
          2020
         ],
         "xaxis": "x",
         "y": [
          5933.249119,
          4953.197302,
          4623.935116,
          4267.78391,
          2650.813775
         ],
         "yaxis": "y"
        },
        {
         "hovertemplate": "<b>%{hovertext}</b><br><br>State=MD<br>=%{x}<br>Tons of annual emissions per 100k of population=%{y}<extra></extra>",
         "hovertext": [
          "High CAV adoption",
          "High CAV adoption",
          "High CAV adoption",
          "High CAV adoption",
          "High CAV adoption"
         ],
         "legendgroup": "MD",
         "line": {
          "color": "#00cc96",
          "dash": "solid"
         },
         "marker": {
          "symbol": "circle"
         },
         "mode": "lines",
         "name": "MD",
         "orientation": "v",
         "showlegend": true,
         "type": "scatter",
         "x": [
          2008,
          2011,
          2014,
          2017,
          2020
         ],
         "xaxis": "x",
         "y": [
          8016.073772,
          6319.420687,
          6206.940525,
          4687.926135,
          3409.610396
         ],
         "yaxis": "y"
        },
        {
         "hovertemplate": "<b>%{hovertext}</b><br><br>State=VA<br>=%{x}<br>Tons of annual emissions per 100k of population=%{y}<extra></extra>",
         "hovertext": [
          "High CAV adoption",
          "High CAV adoption",
          "High CAV adoption",
          "High CAV adoption",
          "High CAV adoption"
         ],
         "legendgroup": "VA",
         "line": {
          "color": "#ab63fa",
          "dash": "solid"
         },
         "marker": {
          "symbol": "circle"
         },
         "mode": "lines",
         "name": "VA",
         "orientation": "v",
         "showlegend": true,
         "type": "scatter",
         "x": [
          2008,
          2011,
          2014,
          2017,
          2020
         ],
         "xaxis": "x",
         "y": [
          11787.58843,
          6997.032465,
          8475.205899,
          7137.169689,
          4623.302891
         ],
         "yaxis": "y"
        },
        {
         "hovertemplate": "<b>%{hovertext}</b><br><br>State=WV<br>=%{x}<br>Tons of annual emissions per 100k of population=%{y}<extra></extra>",
         "hovertext": [
          "Low CAV adoption",
          "Low CAV adoption",
          "Low CAV adoption",
          "Low CAV adoption",
          "Low CAV adoption"
         ],
         "legendgroup": "WV",
         "line": {
          "color": "#FFA15A",
          "dash": "solid"
         },
         "marker": {
          "symbol": "circle"
         },
         "mode": "lines",
         "name": "WV",
         "orientation": "v",
         "showlegend": true,
         "type": "scatter",
         "x": [
          2008,
          2011,
          2014,
          2017,
          2020
         ],
         "xaxis": "x",
         "y": [
          13825.34762,
          9995.581132,
          9380.937439,
          8253.405182,
          4740.623684
         ],
         "yaxis": "y"
        },
        {
         "hovertemplate": "<b>%{hovertext}</b><br><br>State=AL<br>=%{x}<br>Tons of annual emissions per 100k of population=%{y}<extra></extra>",
         "hovertext": [
          "Low CAV adoption",
          "Low CAV adoption",
          "Low CAV adoption",
          "Low CAV adoption",
          "Low CAV adoption"
         ],
         "legendgroup": "AL",
         "line": {
          "color": "#19d3f3",
          "dash": "solid"
         },
         "marker": {
          "symbol": "circle"
         },
         "mode": "lines",
         "name": "AL",
         "orientation": "v",
         "showlegend": true,
         "type": "scatter",
         "x": [
          2008,
          2011,
          2014,
          2017,
          2020
         ],
         "xaxis": "x",
         "y": [
          13435.19925,
          14621.45909,
          14793.40661,
          11414.23039,
          8400.537147
         ],
         "yaxis": "y"
        },
        {
         "hovertemplate": "<b>%{hovertext}</b><br><br>State=KY<br>=%{x}<br>Tons of annual emissions per 100k of population=%{y}<extra></extra>",
         "hovertext": [
          "Low CAV adoption",
          "Low CAV adoption",
          "Low CAV adoption",
          "Low CAV adoption",
          "Low CAV adoption"
         ],
         "legendgroup": "KY",
         "line": {
          "color": "#FF6692",
          "dash": "solid"
         },
         "marker": {
          "symbol": "circle"
         },
         "mode": "lines",
         "name": "KY",
         "orientation": "v",
         "showlegend": true,
         "type": "scatter",
         "x": [
          2008,
          2011,
          2014,
          2017,
          2020
         ],
         "xaxis": "x",
         "y": [
          12014.59731,
          11416.18252,
          11013.95963,
          8495.520832,
          6051.339014
         ],
         "yaxis": "y"
        },
        {
         "hovertemplate": "<b>%{hovertext}</b><br><br>State=MI<br>=%{x}<br>Tons of annual emissions per 100k of population=%{y}<extra></extra>",
         "hovertext": [
          "Low CAV adoption",
          "Low CAV adoption",
          "Low CAV adoption",
          "Low CAV adoption",
          "Low CAV adoption"
         ],
         "legendgroup": "MI",
         "line": {
          "color": "#B6E880",
          "dash": "solid"
         },
         "marker": {
          "symbol": "circle"
         },
         "mode": "lines",
         "name": "MI",
         "orientation": "v",
         "showlegend": true,
         "type": "scatter",
         "x": [
          2008,
          2011,
          2014,
          2017,
          2020
         ],
         "xaxis": "x",
         "y": [
          14060.34234,
          10601.24126,
          8479.65405,
          6812.618173,
          4423.541062
         ],
         "yaxis": "y"
        },
        {
         "hovertemplate": "<b>%{hovertext}</b><br><br>State=LA<br>=%{x}<br>Tons of annual emissions per 100k of population=%{y}<extra></extra>",
         "hovertext": [
          "Low CAV adoption",
          "Low CAV adoption",
          "Low CAV adoption",
          "Low CAV adoption",
          "Low CAV adoption"
         ],
         "legendgroup": "LA",
         "line": {
          "color": "#FF97FF",
          "dash": "solid"
         },
         "marker": {
          "symbol": "circle"
         },
         "mode": "lines",
         "name": "LA",
         "orientation": "v",
         "showlegend": true,
         "type": "scatter",
         "x": [
          2008,
          2011,
          2014,
          2017,
          2020
         ],
         "xaxis": "x",
         "y": [
          11049.42714,
          10149.00602,
          9017.7374,
          7179.042988,
          5502.1191
         ],
         "yaxis": "y"
        },
        {
         "hovertemplate": "<b>%{hovertext}</b><br><br>State=AR<br>=%{x}<br>Tons of annual emissions per 100k of population=%{y}<extra></extra>",
         "hovertext": [
          "Low CAV adoption",
          "Low CAV adoption",
          "Low CAV adoption",
          "Low CAV adoption",
          "Low CAV adoption"
         ],
         "legendgroup": "AR",
         "line": {
          "color": "#FECB52",
          "dash": "solid"
         },
         "marker": {
          "symbol": "circle"
         },
         "mode": "lines",
         "name": "AR",
         "orientation": "v",
         "showlegend": true,
         "type": "scatter",
         "x": [
          2008,
          2011,
          2014,
          2017,
          2020
         ],
         "xaxis": "x",
         "y": [
          16374.56486,
          11236.53048,
          11233.66402,
          8249.537542,
          6089.80009
         ],
         "yaxis": "y"
        },
        {
         "hovertemplate": "<b>%{hovertext}</b><br><br>State=OK<br>=%{x}<br>Tons of annual emissions per 100k of population=%{y}<extra></extra>",
         "hovertext": [
          "Low CAV adoption",
          "Low CAV adoption",
          "Low CAV adoption",
          "Low CAV adoption",
          "Low CAV adoption"
         ],
         "legendgroup": "OK",
         "line": {
          "color": "#636efa",
          "dash": "solid"
         },
         "marker": {
          "symbol": "circle"
         },
         "mode": "lines",
         "name": "OK",
         "orientation": "v",
         "showlegend": true,
         "type": "scatter",
         "x": [
          2008,
          2011,
          2014,
          2017,
          2020
         ],
         "xaxis": "x",
         "y": [
          17326.71999,
          13622.71862,
          11050.40209,
          9556.888512,
          6354.21639
         ],
         "yaxis": "y"
        },
        {
         "hovertemplate": "<b>%{hovertext}</b><br><br>State=CA<br>=%{x}<br>Tons of annual emissions per 100k of population=%{y}<extra></extra>",
         "hovertext": [
          "High CAV adoption",
          "High CAV adoption",
          "High CAV adoption",
          "High CAV adoption",
          "High CAV adoption"
         ],
         "legendgroup": "CA",
         "line": {
          "color": "#EF553B",
          "dash": "solid"
         },
         "marker": {
          "symbol": "circle"
         },
         "mode": "lines",
         "name": "CA",
         "orientation": "v",
         "showlegend": true,
         "type": "scatter",
         "x": [
          2008,
          2011,
          2014,
          2017,
          2020
         ],
         "xaxis": "x",
         "y": [
          6081.294856,
          4214.928798,
          2517.747077,
          1833.066976,
          1371.956922
         ],
         "yaxis": "y"
        },
        {
         "hovertemplate": "<b>%{hovertext}</b><br><br>State=WA<br>=%{x}<br>Tons of annual emissions per 100k of population=%{y}<extra></extra>",
         "hovertext": [
          "High CAV adoption",
          "High CAV adoption",
          "High CAV adoption",
          "High CAV adoption",
          "High CAV adoption"
         ],
         "legendgroup": "WA",
         "line": {
          "color": "#00cc96",
          "dash": "solid"
         },
         "marker": {
          "symbol": "circle"
         },
         "mode": "lines",
         "name": "WA",
         "orientation": "v",
         "showlegend": true,
         "type": "scatter",
         "x": [
          2008,
          2011,
          2014,
          2017,
          2020
         ],
         "xaxis": "x",
         "y": [
          15264.45848,
          11852.7576,
          10092.76436,
          7239.524666,
          4242.153718
         ],
         "yaxis": "y"
        },
        {
         "hovertemplate": "<b>%{hovertext}</b><br><br>State=OR<br>=%{x}<br>Tons of annual emissions per 100k of population=%{y}<extra></extra>",
         "hovertext": [
          "High CAV adoption",
          "High CAV adoption",
          "High CAV adoption",
          "High CAV adoption",
          "High CAV adoption"
         ],
         "legendgroup": "OR",
         "line": {
          "color": "#ab63fa",
          "dash": "solid"
         },
         "marker": {
          "symbol": "circle"
         },
         "mode": "lines",
         "name": "OR",
         "orientation": "v",
         "showlegend": true,
         "type": "scatter",
         "x": [
          2008,
          2011,
          2014,
          2017,
          2020
         ],
         "xaxis": "x",
         "y": [
          13901.70022,
          11051.20845,
          9808.244671,
          7263.854012,
          5609.646123
         ],
         "yaxis": "y"
        },
        {
         "hovertemplate": "<b>%{hovertext}</b><br><br>State=HI<br>=%{x}<br>Tons of annual emissions per 100k of population=%{y}<extra></extra>",
         "hovertext": [
          "High CAV adoption",
          "High CAV adoption",
          "High CAV adoption",
          "High CAV adoption",
          "High CAV adoption"
         ],
         "legendgroup": "HI",
         "line": {
          "color": "#FFA15A",
          "dash": "solid"
         },
         "marker": {
          "symbol": "circle"
         },
         "mode": "lines",
         "name": "HI",
         "orientation": "v",
         "showlegend": true,
         "type": "scatter",
         "x": [
          2008,
          2011,
          2014,
          2017,
          2020
         ],
         "xaxis": "x",
         "y": [
          10083.98656,
          7932.074275,
          6905.235692,
          5516.753782,
          3945.183588
         ],
         "yaxis": "y"
        },
        {
         "hovertemplate": "<b>%{hovertext}</b><br><br>State=CO<br>=%{x}<br>Tons of annual emissions per 100k of population=%{y}<extra></extra>",
         "hovertext": [
          "High CAV adoption",
          "High CAV adoption",
          "High CAV adoption",
          "High CAV adoption",
          "High CAV adoption"
         ],
         "legendgroup": "CO",
         "line": {
          "color": "#19d3f3",
          "dash": "solid"
         },
         "marker": {
          "symbol": "circle"
         },
         "mode": "lines",
         "name": "CO",
         "orientation": "v",
         "showlegend": true,
         "type": "scatter",
         "x": [
          2008,
          2011,
          2014,
          2017,
          2020
         ],
         "xaxis": "x",
         "y": [
          10670.0502,
          11364.14988,
          9294.510681,
          6650.283412,
          4634.024926
         ],
         "yaxis": "y"
        },
        {
         "hovertemplate": "<b>%{hovertext}</b><br><br>State=NV<br>=%{x}<br>Tons of annual emissions per 100k of population=%{y}<extra></extra>",
         "hovertext": [
          "High CAV adoption",
          "High CAV adoption",
          "High CAV adoption",
          "High CAV adoption",
          "High CAV adoption"
         ],
         "legendgroup": "NV",
         "line": {
          "color": "#FF6692",
          "dash": "solid"
         },
         "marker": {
          "symbol": "circle"
         },
         "mode": "lines",
         "name": "NV",
         "orientation": "v",
         "showlegend": true,
         "type": "scatter",
         "x": [
          2008,
          2011,
          2014,
          2017,
          2020
         ],
         "xaxis": "x",
         "y": [
          8379.555273,
          9513.503588,
          7170.200875,
          5650.736707,
          4173.093813
         ],
         "yaxis": "y"
        },
        {
         "hovertemplate": "<b>%{hovertext}</b><br><br>State=ND<br>=%{x}<br>Tons of annual emissions per 100k of population=%{y}<extra></extra>",
         "hovertext": [
          "Low CAV adoption",
          "Low CAV adoption",
          "Low CAV adoption",
          "Low CAV adoption",
          "Low CAV adoption"
         ],
         "legendgroup": "ND",
         "line": {
          "color": "#B6E880",
          "dash": "solid"
         },
         "marker": {
          "symbol": "circle"
         },
         "mode": "lines",
         "name": "ND",
         "orientation": "v",
         "showlegend": true,
         "type": "scatter",
         "x": [
          2008,
          2011,
          2014,
          2017,
          2020
         ],
         "xaxis": "x",
         "y": [
          16069.48938,
          16223.2145,
          14994.58193,
          10281.15822,
          7097.628669
         ],
         "yaxis": "y"
        },
        {
         "hovertemplate": "<b>%{hovertext}</b><br><br>State=WY<br>=%{x}<br>Tons of annual emissions per 100k of population=%{y}<extra></extra>",
         "hovertext": [
          "Low CAV adoption",
          "Low CAV adoption",
          "Low CAV adoption",
          "Low CAV adoption",
          "Low CAV adoption"
         ],
         "legendgroup": "WY",
         "line": {
          "color": "#FF97FF",
          "dash": "solid"
         },
         "marker": {
          "symbol": "circle"
         },
         "mode": "lines",
         "name": "WY",
         "orientation": "v",
         "showlegend": true,
         "type": "scatter",
         "x": [
          2008,
          2011,
          2014,
          2017,
          2020
         ],
         "xaxis": "x",
         "y": [
          24798.91132,
          19721.7149,
          17549.89182,
          13101.26705,
          10141.03549
         ],
         "yaxis": "y"
        },
        {
         "hovertemplate": "<b>%{hovertext}</b><br><br>State=SD<br>=%{x}<br>Tons of annual emissions per 100k of population=%{y}<extra></extra>",
         "hovertext": [
          "Low CAV adoption",
          "Low CAV adoption",
          "Low CAV adoption",
          "Low CAV adoption",
          "Low CAV adoption"
         ],
         "legendgroup": "SD",
         "line": {
          "color": "#FECB52",
          "dash": "solid"
         },
         "marker": {
          "symbol": "circle"
         },
         "mode": "lines",
         "name": "SD",
         "orientation": "v",
         "showlegend": true,
         "type": "scatter",
         "x": [
          2008,
          2011,
          2014,
          2017,
          2020
         ],
         "xaxis": "x",
         "y": [
          14641.25713,
          15658.30255,
          14248.13709,
          10468.3656,
          7576.885395
         ],
         "yaxis": "y"
        }
       ],
       "layout": {
        "font": {
         "color": "white"
        },
        "legend": {
         "title": {
          "text": "State"
         },
         "tracegroupgap": 0
        },
        "margin": {
         "t": 60
        },
        "paper_bgcolor": "black",
        "plot_bgcolor": "black",
        "template": {
         "data": {
          "bar": [
           {
            "error_x": {
             "color": "#2a3f5f"
            },
            "error_y": {
             "color": "#2a3f5f"
            },
            "marker": {
             "line": {
              "color": "#E5ECF6",
              "width": 0.5
             },
             "pattern": {
              "fillmode": "overlay",
              "size": 10,
              "solidity": 0.2
             }
            },
            "type": "bar"
           }
          ],
          "barpolar": [
           {
            "marker": {
             "line": {
              "color": "#E5ECF6",
              "width": 0.5
             },
             "pattern": {
              "fillmode": "overlay",
              "size": 10,
              "solidity": 0.2
             }
            },
            "type": "barpolar"
           }
          ],
          "carpet": [
           {
            "aaxis": {
             "endlinecolor": "#2a3f5f",
             "gridcolor": "white",
             "linecolor": "white",
             "minorgridcolor": "white",
             "startlinecolor": "#2a3f5f"
            },
            "baxis": {
             "endlinecolor": "#2a3f5f",
             "gridcolor": "white",
             "linecolor": "white",
             "minorgridcolor": "white",
             "startlinecolor": "#2a3f5f"
            },
            "type": "carpet"
           }
          ],
          "choropleth": [
           {
            "colorbar": {
             "outlinewidth": 0,
             "ticks": ""
            },
            "type": "choropleth"
           }
          ],
          "contour": [
           {
            "colorbar": {
             "outlinewidth": 0,
             "ticks": ""
            },
            "colorscale": [
             [
              0,
              "#0d0887"
             ],
             [
              0.1111111111111111,
              "#46039f"
             ],
             [
              0.2222222222222222,
              "#7201a8"
             ],
             [
              0.3333333333333333,
              "#9c179e"
             ],
             [
              0.4444444444444444,
              "#bd3786"
             ],
             [
              0.5555555555555556,
              "#d8576b"
             ],
             [
              0.6666666666666666,
              "#ed7953"
             ],
             [
              0.7777777777777778,
              "#fb9f3a"
             ],
             [
              0.8888888888888888,
              "#fdca26"
             ],
             [
              1,
              "#f0f921"
             ]
            ],
            "type": "contour"
           }
          ],
          "contourcarpet": [
           {
            "colorbar": {
             "outlinewidth": 0,
             "ticks": ""
            },
            "type": "contourcarpet"
           }
          ],
          "heatmap": [
           {
            "colorbar": {
             "outlinewidth": 0,
             "ticks": ""
            },
            "colorscale": [
             [
              0,
              "#0d0887"
             ],
             [
              0.1111111111111111,
              "#46039f"
             ],
             [
              0.2222222222222222,
              "#7201a8"
             ],
             [
              0.3333333333333333,
              "#9c179e"
             ],
             [
              0.4444444444444444,
              "#bd3786"
             ],
             [
              0.5555555555555556,
              "#d8576b"
             ],
             [
              0.6666666666666666,
              "#ed7953"
             ],
             [
              0.7777777777777778,
              "#fb9f3a"
             ],
             [
              0.8888888888888888,
              "#fdca26"
             ],
             [
              1,
              "#f0f921"
             ]
            ],
            "type": "heatmap"
           }
          ],
          "heatmapgl": [
           {
            "colorbar": {
             "outlinewidth": 0,
             "ticks": ""
            },
            "colorscale": [
             [
              0,
              "#0d0887"
             ],
             [
              0.1111111111111111,
              "#46039f"
             ],
             [
              0.2222222222222222,
              "#7201a8"
             ],
             [
              0.3333333333333333,
              "#9c179e"
             ],
             [
              0.4444444444444444,
              "#bd3786"
             ],
             [
              0.5555555555555556,
              "#d8576b"
             ],
             [
              0.6666666666666666,
              "#ed7953"
             ],
             [
              0.7777777777777778,
              "#fb9f3a"
             ],
             [
              0.8888888888888888,
              "#fdca26"
             ],
             [
              1,
              "#f0f921"
             ]
            ],
            "type": "heatmapgl"
           }
          ],
          "histogram": [
           {
            "marker": {
             "pattern": {
              "fillmode": "overlay",
              "size": 10,
              "solidity": 0.2
             }
            },
            "type": "histogram"
           }
          ],
          "histogram2d": [
           {
            "colorbar": {
             "outlinewidth": 0,
             "ticks": ""
            },
            "colorscale": [
             [
              0,
              "#0d0887"
             ],
             [
              0.1111111111111111,
              "#46039f"
             ],
             [
              0.2222222222222222,
              "#7201a8"
             ],
             [
              0.3333333333333333,
              "#9c179e"
             ],
             [
              0.4444444444444444,
              "#bd3786"
             ],
             [
              0.5555555555555556,
              "#d8576b"
             ],
             [
              0.6666666666666666,
              "#ed7953"
             ],
             [
              0.7777777777777778,
              "#fb9f3a"
             ],
             [
              0.8888888888888888,
              "#fdca26"
             ],
             [
              1,
              "#f0f921"
             ]
            ],
            "type": "histogram2d"
           }
          ],
          "histogram2dcontour": [
           {
            "colorbar": {
             "outlinewidth": 0,
             "ticks": ""
            },
            "colorscale": [
             [
              0,
              "#0d0887"
             ],
             [
              0.1111111111111111,
              "#46039f"
             ],
             [
              0.2222222222222222,
              "#7201a8"
             ],
             [
              0.3333333333333333,
              "#9c179e"
             ],
             [
              0.4444444444444444,
              "#bd3786"
             ],
             [
              0.5555555555555556,
              "#d8576b"
             ],
             [
              0.6666666666666666,
              "#ed7953"
             ],
             [
              0.7777777777777778,
              "#fb9f3a"
             ],
             [
              0.8888888888888888,
              "#fdca26"
             ],
             [
              1,
              "#f0f921"
             ]
            ],
            "type": "histogram2dcontour"
           }
          ],
          "mesh3d": [
           {
            "colorbar": {
             "outlinewidth": 0,
             "ticks": ""
            },
            "type": "mesh3d"
           }
          ],
          "parcoords": [
           {
            "line": {
             "colorbar": {
              "outlinewidth": 0,
              "ticks": ""
             }
            },
            "type": "parcoords"
           }
          ],
          "pie": [
           {
            "automargin": true,
            "type": "pie"
           }
          ],
          "scatter": [
           {
            "fillpattern": {
             "fillmode": "overlay",
             "size": 10,
             "solidity": 0.2
            },
            "type": "scatter"
           }
          ],
          "scatter3d": [
           {
            "line": {
             "colorbar": {
              "outlinewidth": 0,
              "ticks": ""
             }
            },
            "marker": {
             "colorbar": {
              "outlinewidth": 0,
              "ticks": ""
             }
            },
            "type": "scatter3d"
           }
          ],
          "scattercarpet": [
           {
            "marker": {
             "colorbar": {
              "outlinewidth": 0,
              "ticks": ""
             }
            },
            "type": "scattercarpet"
           }
          ],
          "scattergeo": [
           {
            "marker": {
             "colorbar": {
              "outlinewidth": 0,
              "ticks": ""
             }
            },
            "type": "scattergeo"
           }
          ],
          "scattergl": [
           {
            "marker": {
             "colorbar": {
              "outlinewidth": 0,
              "ticks": ""
             }
            },
            "type": "scattergl"
           }
          ],
          "scattermapbox": [
           {
            "marker": {
             "colorbar": {
              "outlinewidth": 0,
              "ticks": ""
             }
            },
            "type": "scattermapbox"
           }
          ],
          "scatterpolar": [
           {
            "marker": {
             "colorbar": {
              "outlinewidth": 0,
              "ticks": ""
             }
            },
            "type": "scatterpolar"
           }
          ],
          "scatterpolargl": [
           {
            "marker": {
             "colorbar": {
              "outlinewidth": 0,
              "ticks": ""
             }
            },
            "type": "scatterpolargl"
           }
          ],
          "scatterternary": [
           {
            "marker": {
             "colorbar": {
              "outlinewidth": 0,
              "ticks": ""
             }
            },
            "type": "scatterternary"
           }
          ],
          "surface": [
           {
            "colorbar": {
             "outlinewidth": 0,
             "ticks": ""
            },
            "colorscale": [
             [
              0,
              "#0d0887"
             ],
             [
              0.1111111111111111,
              "#46039f"
             ],
             [
              0.2222222222222222,
              "#7201a8"
             ],
             [
              0.3333333333333333,
              "#9c179e"
             ],
             [
              0.4444444444444444,
              "#bd3786"
             ],
             [
              0.5555555555555556,
              "#d8576b"
             ],
             [
              0.6666666666666666,
              "#ed7953"
             ],
             [
              0.7777777777777778,
              "#fb9f3a"
             ],
             [
              0.8888888888888888,
              "#fdca26"
             ],
             [
              1,
              "#f0f921"
             ]
            ],
            "type": "surface"
           }
          ],
          "table": [
           {
            "cells": {
             "fill": {
              "color": "#EBF0F8"
             },
             "line": {
              "color": "white"
             }
            },
            "header": {
             "fill": {
              "color": "#C8D4E3"
             },
             "line": {
              "color": "white"
             }
            },
            "type": "table"
           }
          ]
         },
         "layout": {
          "annotationdefaults": {
           "arrowcolor": "#2a3f5f",
           "arrowhead": 0,
           "arrowwidth": 1
          },
          "autotypenumbers": "strict",
          "coloraxis": {
           "colorbar": {
            "outlinewidth": 0,
            "ticks": ""
           }
          },
          "colorscale": {
           "diverging": [
            [
             0,
             "#8e0152"
            ],
            [
             0.1,
             "#c51b7d"
            ],
            [
             0.2,
             "#de77ae"
            ],
            [
             0.3,
             "#f1b6da"
            ],
            [
             0.4,
             "#fde0ef"
            ],
            [
             0.5,
             "#f7f7f7"
            ],
            [
             0.6,
             "#e6f5d0"
            ],
            [
             0.7,
             "#b8e186"
            ],
            [
             0.8,
             "#7fbc41"
            ],
            [
             0.9,
             "#4d9221"
            ],
            [
             1,
             "#276419"
            ]
           ],
           "sequential": [
            [
             0,
             "#0d0887"
            ],
            [
             0.1111111111111111,
             "#46039f"
            ],
            [
             0.2222222222222222,
             "#7201a8"
            ],
            [
             0.3333333333333333,
             "#9c179e"
            ],
            [
             0.4444444444444444,
             "#bd3786"
            ],
            [
             0.5555555555555556,
             "#d8576b"
            ],
            [
             0.6666666666666666,
             "#ed7953"
            ],
            [
             0.7777777777777778,
             "#fb9f3a"
            ],
            [
             0.8888888888888888,
             "#fdca26"
            ],
            [
             1,
             "#f0f921"
            ]
           ],
           "sequentialminus": [
            [
             0,
             "#0d0887"
            ],
            [
             0.1111111111111111,
             "#46039f"
            ],
            [
             0.2222222222222222,
             "#7201a8"
            ],
            [
             0.3333333333333333,
             "#9c179e"
            ],
            [
             0.4444444444444444,
             "#bd3786"
            ],
            [
             0.5555555555555556,
             "#d8576b"
            ],
            [
             0.6666666666666666,
             "#ed7953"
            ],
            [
             0.7777777777777778,
             "#fb9f3a"
            ],
            [
             0.8888888888888888,
             "#fdca26"
            ],
            [
             1,
             "#f0f921"
            ]
           ]
          },
          "colorway": [
           "#636efa",
           "#EF553B",
           "#00cc96",
           "#ab63fa",
           "#FFA15A",
           "#19d3f3",
           "#FF6692",
           "#B6E880",
           "#FF97FF",
           "#FECB52"
          ],
          "font": {
           "color": "#2a3f5f"
          },
          "geo": {
           "bgcolor": "white",
           "lakecolor": "white",
           "landcolor": "#E5ECF6",
           "showlakes": true,
           "showland": true,
           "subunitcolor": "white"
          },
          "hoverlabel": {
           "align": "left"
          },
          "hovermode": "closest",
          "mapbox": {
           "style": "light"
          },
          "paper_bgcolor": "white",
          "plot_bgcolor": "#E5ECF6",
          "polar": {
           "angularaxis": {
            "gridcolor": "white",
            "linecolor": "white",
            "ticks": ""
           },
           "bgcolor": "#E5ECF6",
           "radialaxis": {
            "gridcolor": "white",
            "linecolor": "white",
            "ticks": ""
           }
          },
          "scene": {
           "xaxis": {
            "backgroundcolor": "#E5ECF6",
            "gridcolor": "white",
            "gridwidth": 2,
            "linecolor": "white",
            "showbackground": true,
            "ticks": "",
            "zerolinecolor": "white"
           },
           "yaxis": {
            "backgroundcolor": "#E5ECF6",
            "gridcolor": "white",
            "gridwidth": 2,
            "linecolor": "white",
            "showbackground": true,
            "ticks": "",
            "zerolinecolor": "white"
           },
           "zaxis": {
            "backgroundcolor": "#E5ECF6",
            "gridcolor": "white",
            "gridwidth": 2,
            "linecolor": "white",
            "showbackground": true,
            "ticks": "",
            "zerolinecolor": "white"
           }
          },
          "shapedefaults": {
           "line": {
            "color": "#2a3f5f"
           }
          },
          "ternary": {
           "aaxis": {
            "gridcolor": "white",
            "linecolor": "white",
            "ticks": ""
           },
           "baxis": {
            "gridcolor": "white",
            "linecolor": "white",
            "ticks": ""
           },
           "bgcolor": "#E5ECF6",
           "caxis": {
            "gridcolor": "white",
            "linecolor": "white",
            "ticks": ""
           }
          },
          "title": {
           "x": 0.05
          },
          "xaxis": {
           "automargin": true,
           "gridcolor": "white",
           "linecolor": "white",
           "ticks": "",
           "title": {
            "standoff": 15
           },
           "zerolinecolor": "white",
           "zerolinewidth": 2
          },
          "yaxis": {
           "automargin": true,
           "gridcolor": "white",
           "linecolor": "white",
           "ticks": "",
           "title": {
            "standoff": 15
           },
           "zerolinecolor": "white",
           "zerolinewidth": 2
          }
         }
        },
        "title": {
         "text": "Carbon Monoxide emisions per 100k of population"
        },
        "xaxis": {
         "anchor": "y",
         "domain": [
          0,
          1
         ],
         "title": {
          "text": ""
         }
        },
        "yaxis": {
         "anchor": "x",
         "domain": [
          0,
          1
         ],
         "title": {
          "text": "Tons of annual emissions per 100k of population"
         }
        }
       }
      },
      "text/html": [
       "<div>                            <div id=\"d2d09ba8-cdfd-451d-ad1a-e98040087d7b\" class=\"plotly-graph-div\" style=\"height:525px; width:100%;\"></div>            <script type=\"text/javascript\">                require([\"plotly\"], function(Plotly) {                    window.PLOTLYENV=window.PLOTLYENV || {};                                    if (document.getElementById(\"d2d09ba8-cdfd-451d-ad1a-e98040087d7b\")) {                    Plotly.newPlot(                        \"d2d09ba8-cdfd-451d-ad1a-e98040087d7b\",                        [{\"hovertemplate\":\"<b>%{hovertext}</b><br><br>State=VT<br>=%{x}<br>Tons of annual emissions per 100k of population=%{y}<extra></extra>\",\"hovertext\":[\"High CAV adoption\",\"High CAV adoption\",\"High CAV adoption\",\"High CAV adoption\",\"High CAV adoption\"],\"legendgroup\":\"VT\",\"line\":{\"color\":\"#636efa\",\"dash\":\"solid\"},\"marker\":{\"symbol\":\"circle\"},\"mode\":\"lines\",\"name\":\"VT\",\"orientation\":\"v\",\"showlegend\":true,\"x\":[2008,2011,2014,2017,2020],\"xaxis\":\"x\",\"y\":[10688.13953,7818.291153,7534.934935,5880.737583,3406.289011],\"yaxis\":\"y\",\"type\":\"scatter\"},{\"hovertemplate\":\"<b>%{hovertext}</b><br><br>State=MA<br>=%{x}<br>Tons of annual emissions per 100k of population=%{y}<extra></extra>\",\"hovertext\":[\"High CAV adoption\",\"High CAV adoption\",\"High CAV adoption\",\"High CAV adoption\",\"High CAV adoption\"],\"legendgroup\":\"MA\",\"line\":{\"color\":\"#EF553B\",\"dash\":\"solid\"},\"marker\":{\"symbol\":\"circle\"},\"mode\":\"lines\",\"name\":\"MA\",\"orientation\":\"v\",\"showlegend\":true,\"x\":[2008,2011,2014,2017,2020],\"xaxis\":\"x\",\"y\":[5933.249119,4953.197302,4623.935116,4267.78391,2650.813775],\"yaxis\":\"y\",\"type\":\"scatter\"},{\"hovertemplate\":\"<b>%{hovertext}</b><br><br>State=MD<br>=%{x}<br>Tons of annual emissions per 100k of population=%{y}<extra></extra>\",\"hovertext\":[\"High CAV adoption\",\"High CAV adoption\",\"High CAV adoption\",\"High CAV adoption\",\"High CAV adoption\"],\"legendgroup\":\"MD\",\"line\":{\"color\":\"#00cc96\",\"dash\":\"solid\"},\"marker\":{\"symbol\":\"circle\"},\"mode\":\"lines\",\"name\":\"MD\",\"orientation\":\"v\",\"showlegend\":true,\"x\":[2008,2011,2014,2017,2020],\"xaxis\":\"x\",\"y\":[8016.073772,6319.420687,6206.940525,4687.926135,3409.610396],\"yaxis\":\"y\",\"type\":\"scatter\"},{\"hovertemplate\":\"<b>%{hovertext}</b><br><br>State=VA<br>=%{x}<br>Tons of annual emissions per 100k of population=%{y}<extra></extra>\",\"hovertext\":[\"High CAV adoption\",\"High CAV adoption\",\"High CAV adoption\",\"High CAV adoption\",\"High CAV adoption\"],\"legendgroup\":\"VA\",\"line\":{\"color\":\"#ab63fa\",\"dash\":\"solid\"},\"marker\":{\"symbol\":\"circle\"},\"mode\":\"lines\",\"name\":\"VA\",\"orientation\":\"v\",\"showlegend\":true,\"x\":[2008,2011,2014,2017,2020],\"xaxis\":\"x\",\"y\":[11787.58843,6997.032465,8475.205899,7137.169689,4623.302891],\"yaxis\":\"y\",\"type\":\"scatter\"},{\"hovertemplate\":\"<b>%{hovertext}</b><br><br>State=WV<br>=%{x}<br>Tons of annual emissions per 100k of population=%{y}<extra></extra>\",\"hovertext\":[\"Low CAV adoption\",\"Low CAV adoption\",\"Low CAV adoption\",\"Low CAV adoption\",\"Low CAV adoption\"],\"legendgroup\":\"WV\",\"line\":{\"color\":\"#FFA15A\",\"dash\":\"solid\"},\"marker\":{\"symbol\":\"circle\"},\"mode\":\"lines\",\"name\":\"WV\",\"orientation\":\"v\",\"showlegend\":true,\"x\":[2008,2011,2014,2017,2020],\"xaxis\":\"x\",\"y\":[13825.34762,9995.581132,9380.937439,8253.405182,4740.623684],\"yaxis\":\"y\",\"type\":\"scatter\"},{\"hovertemplate\":\"<b>%{hovertext}</b><br><br>State=AL<br>=%{x}<br>Tons of annual emissions per 100k of population=%{y}<extra></extra>\",\"hovertext\":[\"Low CAV adoption\",\"Low CAV adoption\",\"Low CAV adoption\",\"Low CAV adoption\",\"Low CAV adoption\"],\"legendgroup\":\"AL\",\"line\":{\"color\":\"#19d3f3\",\"dash\":\"solid\"},\"marker\":{\"symbol\":\"circle\"},\"mode\":\"lines\",\"name\":\"AL\",\"orientation\":\"v\",\"showlegend\":true,\"x\":[2008,2011,2014,2017,2020],\"xaxis\":\"x\",\"y\":[13435.19925,14621.45909,14793.40661,11414.23039,8400.537147],\"yaxis\":\"y\",\"type\":\"scatter\"},{\"hovertemplate\":\"<b>%{hovertext}</b><br><br>State=KY<br>=%{x}<br>Tons of annual emissions per 100k of population=%{y}<extra></extra>\",\"hovertext\":[\"Low CAV adoption\",\"Low CAV adoption\",\"Low CAV adoption\",\"Low CAV adoption\",\"Low CAV adoption\"],\"legendgroup\":\"KY\",\"line\":{\"color\":\"#FF6692\",\"dash\":\"solid\"},\"marker\":{\"symbol\":\"circle\"},\"mode\":\"lines\",\"name\":\"KY\",\"orientation\":\"v\",\"showlegend\":true,\"x\":[2008,2011,2014,2017,2020],\"xaxis\":\"x\",\"y\":[12014.59731,11416.18252,11013.95963,8495.520832,6051.339014],\"yaxis\":\"y\",\"type\":\"scatter\"},{\"hovertemplate\":\"<b>%{hovertext}</b><br><br>State=MI<br>=%{x}<br>Tons of annual emissions per 100k of population=%{y}<extra></extra>\",\"hovertext\":[\"Low CAV adoption\",\"Low CAV adoption\",\"Low CAV adoption\",\"Low CAV adoption\",\"Low CAV adoption\"],\"legendgroup\":\"MI\",\"line\":{\"color\":\"#B6E880\",\"dash\":\"solid\"},\"marker\":{\"symbol\":\"circle\"},\"mode\":\"lines\",\"name\":\"MI\",\"orientation\":\"v\",\"showlegend\":true,\"x\":[2008,2011,2014,2017,2020],\"xaxis\":\"x\",\"y\":[14060.34234,10601.24126,8479.65405,6812.618173,4423.541062],\"yaxis\":\"y\",\"type\":\"scatter\"},{\"hovertemplate\":\"<b>%{hovertext}</b><br><br>State=LA<br>=%{x}<br>Tons of annual emissions per 100k of population=%{y}<extra></extra>\",\"hovertext\":[\"Low CAV adoption\",\"Low CAV adoption\",\"Low CAV adoption\",\"Low CAV adoption\",\"Low CAV adoption\"],\"legendgroup\":\"LA\",\"line\":{\"color\":\"#FF97FF\",\"dash\":\"solid\"},\"marker\":{\"symbol\":\"circle\"},\"mode\":\"lines\",\"name\":\"LA\",\"orientation\":\"v\",\"showlegend\":true,\"x\":[2008,2011,2014,2017,2020],\"xaxis\":\"x\",\"y\":[11049.42714,10149.00602,9017.7374,7179.042988,5502.1191],\"yaxis\":\"y\",\"type\":\"scatter\"},{\"hovertemplate\":\"<b>%{hovertext}</b><br><br>State=AR<br>=%{x}<br>Tons of annual emissions per 100k of population=%{y}<extra></extra>\",\"hovertext\":[\"Low CAV adoption\",\"Low CAV adoption\",\"Low CAV adoption\",\"Low CAV adoption\",\"Low CAV adoption\"],\"legendgroup\":\"AR\",\"line\":{\"color\":\"#FECB52\",\"dash\":\"solid\"},\"marker\":{\"symbol\":\"circle\"},\"mode\":\"lines\",\"name\":\"AR\",\"orientation\":\"v\",\"showlegend\":true,\"x\":[2008,2011,2014,2017,2020],\"xaxis\":\"x\",\"y\":[16374.56486,11236.53048,11233.66402,8249.537542,6089.80009],\"yaxis\":\"y\",\"type\":\"scatter\"},{\"hovertemplate\":\"<b>%{hovertext}</b><br><br>State=OK<br>=%{x}<br>Tons of annual emissions per 100k of population=%{y}<extra></extra>\",\"hovertext\":[\"Low CAV adoption\",\"Low CAV adoption\",\"Low CAV adoption\",\"Low CAV adoption\",\"Low CAV adoption\"],\"legendgroup\":\"OK\",\"line\":{\"color\":\"#636efa\",\"dash\":\"solid\"},\"marker\":{\"symbol\":\"circle\"},\"mode\":\"lines\",\"name\":\"OK\",\"orientation\":\"v\",\"showlegend\":true,\"x\":[2008,2011,2014,2017,2020],\"xaxis\":\"x\",\"y\":[17326.71999,13622.71862,11050.40209,9556.888512,6354.21639],\"yaxis\":\"y\",\"type\":\"scatter\"},{\"hovertemplate\":\"<b>%{hovertext}</b><br><br>State=CA<br>=%{x}<br>Tons of annual emissions per 100k of population=%{y}<extra></extra>\",\"hovertext\":[\"High CAV adoption\",\"High CAV adoption\",\"High CAV adoption\",\"High CAV adoption\",\"High CAV adoption\"],\"legendgroup\":\"CA\",\"line\":{\"color\":\"#EF553B\",\"dash\":\"solid\"},\"marker\":{\"symbol\":\"circle\"},\"mode\":\"lines\",\"name\":\"CA\",\"orientation\":\"v\",\"showlegend\":true,\"x\":[2008,2011,2014,2017,2020],\"xaxis\":\"x\",\"y\":[6081.294856,4214.928798,2517.747077,1833.066976,1371.956922],\"yaxis\":\"y\",\"type\":\"scatter\"},{\"hovertemplate\":\"<b>%{hovertext}</b><br><br>State=WA<br>=%{x}<br>Tons of annual emissions per 100k of population=%{y}<extra></extra>\",\"hovertext\":[\"High CAV adoption\",\"High CAV adoption\",\"High CAV adoption\",\"High CAV adoption\",\"High CAV adoption\"],\"legendgroup\":\"WA\",\"line\":{\"color\":\"#00cc96\",\"dash\":\"solid\"},\"marker\":{\"symbol\":\"circle\"},\"mode\":\"lines\",\"name\":\"WA\",\"orientation\":\"v\",\"showlegend\":true,\"x\":[2008,2011,2014,2017,2020],\"xaxis\":\"x\",\"y\":[15264.45848,11852.7576,10092.76436,7239.524666,4242.153718],\"yaxis\":\"y\",\"type\":\"scatter\"},{\"hovertemplate\":\"<b>%{hovertext}</b><br><br>State=OR<br>=%{x}<br>Tons of annual emissions per 100k of population=%{y}<extra></extra>\",\"hovertext\":[\"High CAV adoption\",\"High CAV adoption\",\"High CAV adoption\",\"High CAV adoption\",\"High CAV adoption\"],\"legendgroup\":\"OR\",\"line\":{\"color\":\"#ab63fa\",\"dash\":\"solid\"},\"marker\":{\"symbol\":\"circle\"},\"mode\":\"lines\",\"name\":\"OR\",\"orientation\":\"v\",\"showlegend\":true,\"x\":[2008,2011,2014,2017,2020],\"xaxis\":\"x\",\"y\":[13901.70022,11051.20845,9808.244671,7263.854012,5609.646123],\"yaxis\":\"y\",\"type\":\"scatter\"},{\"hovertemplate\":\"<b>%{hovertext}</b><br><br>State=HI<br>=%{x}<br>Tons of annual emissions per 100k of population=%{y}<extra></extra>\",\"hovertext\":[\"High CAV adoption\",\"High CAV adoption\",\"High CAV adoption\",\"High CAV adoption\",\"High CAV adoption\"],\"legendgroup\":\"HI\",\"line\":{\"color\":\"#FFA15A\",\"dash\":\"solid\"},\"marker\":{\"symbol\":\"circle\"},\"mode\":\"lines\",\"name\":\"HI\",\"orientation\":\"v\",\"showlegend\":true,\"x\":[2008,2011,2014,2017,2020],\"xaxis\":\"x\",\"y\":[10083.98656,7932.074275,6905.235692,5516.753782,3945.183588],\"yaxis\":\"y\",\"type\":\"scatter\"},{\"hovertemplate\":\"<b>%{hovertext}</b><br><br>State=CO<br>=%{x}<br>Tons of annual emissions per 100k of population=%{y}<extra></extra>\",\"hovertext\":[\"High CAV adoption\",\"High CAV adoption\",\"High CAV adoption\",\"High CAV adoption\",\"High CAV adoption\"],\"legendgroup\":\"CO\",\"line\":{\"color\":\"#19d3f3\",\"dash\":\"solid\"},\"marker\":{\"symbol\":\"circle\"},\"mode\":\"lines\",\"name\":\"CO\",\"orientation\":\"v\",\"showlegend\":true,\"x\":[2008,2011,2014,2017,2020],\"xaxis\":\"x\",\"y\":[10670.0502,11364.14988,9294.510681,6650.283412,4634.024926],\"yaxis\":\"y\",\"type\":\"scatter\"},{\"hovertemplate\":\"<b>%{hovertext}</b><br><br>State=NV<br>=%{x}<br>Tons of annual emissions per 100k of population=%{y}<extra></extra>\",\"hovertext\":[\"High CAV adoption\",\"High CAV adoption\",\"High CAV adoption\",\"High CAV adoption\",\"High CAV adoption\"],\"legendgroup\":\"NV\",\"line\":{\"color\":\"#FF6692\",\"dash\":\"solid\"},\"marker\":{\"symbol\":\"circle\"},\"mode\":\"lines\",\"name\":\"NV\",\"orientation\":\"v\",\"showlegend\":true,\"x\":[2008,2011,2014,2017,2020],\"xaxis\":\"x\",\"y\":[8379.555273,9513.503588,7170.200875,5650.736707,4173.093813],\"yaxis\":\"y\",\"type\":\"scatter\"},{\"hovertemplate\":\"<b>%{hovertext}</b><br><br>State=ND<br>=%{x}<br>Tons of annual emissions per 100k of population=%{y}<extra></extra>\",\"hovertext\":[\"Low CAV adoption\",\"Low CAV adoption\",\"Low CAV adoption\",\"Low CAV adoption\",\"Low CAV adoption\"],\"legendgroup\":\"ND\",\"line\":{\"color\":\"#B6E880\",\"dash\":\"solid\"},\"marker\":{\"symbol\":\"circle\"},\"mode\":\"lines\",\"name\":\"ND\",\"orientation\":\"v\",\"showlegend\":true,\"x\":[2008,2011,2014,2017,2020],\"xaxis\":\"x\",\"y\":[16069.48938,16223.2145,14994.58193,10281.15822,7097.628669],\"yaxis\":\"y\",\"type\":\"scatter\"},{\"hovertemplate\":\"<b>%{hovertext}</b><br><br>State=WY<br>=%{x}<br>Tons of annual emissions per 100k of population=%{y}<extra></extra>\",\"hovertext\":[\"Low CAV adoption\",\"Low CAV adoption\",\"Low CAV adoption\",\"Low CAV adoption\",\"Low CAV adoption\"],\"legendgroup\":\"WY\",\"line\":{\"color\":\"#FF97FF\",\"dash\":\"solid\"},\"marker\":{\"symbol\":\"circle\"},\"mode\":\"lines\",\"name\":\"WY\",\"orientation\":\"v\",\"showlegend\":true,\"x\":[2008,2011,2014,2017,2020],\"xaxis\":\"x\",\"y\":[24798.91132,19721.7149,17549.89182,13101.26705,10141.03549],\"yaxis\":\"y\",\"type\":\"scatter\"},{\"hovertemplate\":\"<b>%{hovertext}</b><br><br>State=SD<br>=%{x}<br>Tons of annual emissions per 100k of population=%{y}<extra></extra>\",\"hovertext\":[\"Low CAV adoption\",\"Low CAV adoption\",\"Low CAV adoption\",\"Low CAV adoption\",\"Low CAV adoption\"],\"legendgroup\":\"SD\",\"line\":{\"color\":\"#FECB52\",\"dash\":\"solid\"},\"marker\":{\"symbol\":\"circle\"},\"mode\":\"lines\",\"name\":\"SD\",\"orientation\":\"v\",\"showlegend\":true,\"x\":[2008,2011,2014,2017,2020],\"xaxis\":\"x\",\"y\":[14641.25713,15658.30255,14248.13709,10468.3656,7576.885395],\"yaxis\":\"y\",\"type\":\"scatter\"}],                        {\"template\":{\"data\":{\"histogram2dcontour\":[{\"type\":\"histogram2dcontour\",\"colorbar\":{\"outlinewidth\":0,\"ticks\":\"\"},\"colorscale\":[[0.0,\"#0d0887\"],[0.1111111111111111,\"#46039f\"],[0.2222222222222222,\"#7201a8\"],[0.3333333333333333,\"#9c179e\"],[0.4444444444444444,\"#bd3786\"],[0.5555555555555556,\"#d8576b\"],[0.6666666666666666,\"#ed7953\"],[0.7777777777777778,\"#fb9f3a\"],[0.8888888888888888,\"#fdca26\"],[1.0,\"#f0f921\"]]}],\"choropleth\":[{\"type\":\"choropleth\",\"colorbar\":{\"outlinewidth\":0,\"ticks\":\"\"}}],\"histogram2d\":[{\"type\":\"histogram2d\",\"colorbar\":{\"outlinewidth\":0,\"ticks\":\"\"},\"colorscale\":[[0.0,\"#0d0887\"],[0.1111111111111111,\"#46039f\"],[0.2222222222222222,\"#7201a8\"],[0.3333333333333333,\"#9c179e\"],[0.4444444444444444,\"#bd3786\"],[0.5555555555555556,\"#d8576b\"],[0.6666666666666666,\"#ed7953\"],[0.7777777777777778,\"#fb9f3a\"],[0.8888888888888888,\"#fdca26\"],[1.0,\"#f0f921\"]]}],\"heatmap\":[{\"type\":\"heatmap\",\"colorbar\":{\"outlinewidth\":0,\"ticks\":\"\"},\"colorscale\":[[0.0,\"#0d0887\"],[0.1111111111111111,\"#46039f\"],[0.2222222222222222,\"#7201a8\"],[0.3333333333333333,\"#9c179e\"],[0.4444444444444444,\"#bd3786\"],[0.5555555555555556,\"#d8576b\"],[0.6666666666666666,\"#ed7953\"],[0.7777777777777778,\"#fb9f3a\"],[0.8888888888888888,\"#fdca26\"],[1.0,\"#f0f921\"]]}],\"heatmapgl\":[{\"type\":\"heatmapgl\",\"colorbar\":{\"outlinewidth\":0,\"ticks\":\"\"},\"colorscale\":[[0.0,\"#0d0887\"],[0.1111111111111111,\"#46039f\"],[0.2222222222222222,\"#7201a8\"],[0.3333333333333333,\"#9c179e\"],[0.4444444444444444,\"#bd3786\"],[0.5555555555555556,\"#d8576b\"],[0.6666666666666666,\"#ed7953\"],[0.7777777777777778,\"#fb9f3a\"],[0.8888888888888888,\"#fdca26\"],[1.0,\"#f0f921\"]]}],\"contourcarpet\":[{\"type\":\"contourcarpet\",\"colorbar\":{\"outlinewidth\":0,\"ticks\":\"\"}}],\"contour\":[{\"type\":\"contour\",\"colorbar\":{\"outlinewidth\":0,\"ticks\":\"\"},\"colorscale\":[[0.0,\"#0d0887\"],[0.1111111111111111,\"#46039f\"],[0.2222222222222222,\"#7201a8\"],[0.3333333333333333,\"#9c179e\"],[0.4444444444444444,\"#bd3786\"],[0.5555555555555556,\"#d8576b\"],[0.6666666666666666,\"#ed7953\"],[0.7777777777777778,\"#fb9f3a\"],[0.8888888888888888,\"#fdca26\"],[1.0,\"#f0f921\"]]}],\"surface\":[{\"type\":\"surface\",\"colorbar\":{\"outlinewidth\":0,\"ticks\":\"\"},\"colorscale\":[[0.0,\"#0d0887\"],[0.1111111111111111,\"#46039f\"],[0.2222222222222222,\"#7201a8\"],[0.3333333333333333,\"#9c179e\"],[0.4444444444444444,\"#bd3786\"],[0.5555555555555556,\"#d8576b\"],[0.6666666666666666,\"#ed7953\"],[0.7777777777777778,\"#fb9f3a\"],[0.8888888888888888,\"#fdca26\"],[1.0,\"#f0f921\"]]}],\"mesh3d\":[{\"type\":\"mesh3d\",\"colorbar\":{\"outlinewidth\":0,\"ticks\":\"\"}}],\"scatter\":[{\"fillpattern\":{\"fillmode\":\"overlay\",\"size\":10,\"solidity\":0.2},\"type\":\"scatter\"}],\"parcoords\":[{\"type\":\"parcoords\",\"line\":{\"colorbar\":{\"outlinewidth\":0,\"ticks\":\"\"}}}],\"scatterpolargl\":[{\"type\":\"scatterpolargl\",\"marker\":{\"colorbar\":{\"outlinewidth\":0,\"ticks\":\"\"}}}],\"bar\":[{\"error_x\":{\"color\":\"#2a3f5f\"},\"error_y\":{\"color\":\"#2a3f5f\"},\"marker\":{\"line\":{\"color\":\"#E5ECF6\",\"width\":0.5},\"pattern\":{\"fillmode\":\"overlay\",\"size\":10,\"solidity\":0.2}},\"type\":\"bar\"}],\"scattergeo\":[{\"type\":\"scattergeo\",\"marker\":{\"colorbar\":{\"outlinewidth\":0,\"ticks\":\"\"}}}],\"scatterpolar\":[{\"type\":\"scatterpolar\",\"marker\":{\"colorbar\":{\"outlinewidth\":0,\"ticks\":\"\"}}}],\"histogram\":[{\"marker\":{\"pattern\":{\"fillmode\":\"overlay\",\"size\":10,\"solidity\":0.2}},\"type\":\"histogram\"}],\"scattergl\":[{\"type\":\"scattergl\",\"marker\":{\"colorbar\":{\"outlinewidth\":0,\"ticks\":\"\"}}}],\"scatter3d\":[{\"type\":\"scatter3d\",\"line\":{\"colorbar\":{\"outlinewidth\":0,\"ticks\":\"\"}},\"marker\":{\"colorbar\":{\"outlinewidth\":0,\"ticks\":\"\"}}}],\"scattermapbox\":[{\"type\":\"scattermapbox\",\"marker\":{\"colorbar\":{\"outlinewidth\":0,\"ticks\":\"\"}}}],\"scatterternary\":[{\"type\":\"scatterternary\",\"marker\":{\"colorbar\":{\"outlinewidth\":0,\"ticks\":\"\"}}}],\"scattercarpet\":[{\"type\":\"scattercarpet\",\"marker\":{\"colorbar\":{\"outlinewidth\":0,\"ticks\":\"\"}}}],\"carpet\":[{\"aaxis\":{\"endlinecolor\":\"#2a3f5f\",\"gridcolor\":\"white\",\"linecolor\":\"white\",\"minorgridcolor\":\"white\",\"startlinecolor\":\"#2a3f5f\"},\"baxis\":{\"endlinecolor\":\"#2a3f5f\",\"gridcolor\":\"white\",\"linecolor\":\"white\",\"minorgridcolor\":\"white\",\"startlinecolor\":\"#2a3f5f\"},\"type\":\"carpet\"}],\"table\":[{\"cells\":{\"fill\":{\"color\":\"#EBF0F8\"},\"line\":{\"color\":\"white\"}},\"header\":{\"fill\":{\"color\":\"#C8D4E3\"},\"line\":{\"color\":\"white\"}},\"type\":\"table\"}],\"barpolar\":[{\"marker\":{\"line\":{\"color\":\"#E5ECF6\",\"width\":0.5},\"pattern\":{\"fillmode\":\"overlay\",\"size\":10,\"solidity\":0.2}},\"type\":\"barpolar\"}],\"pie\":[{\"automargin\":true,\"type\":\"pie\"}]},\"layout\":{\"autotypenumbers\":\"strict\",\"colorway\":[\"#636efa\",\"#EF553B\",\"#00cc96\",\"#ab63fa\",\"#FFA15A\",\"#19d3f3\",\"#FF6692\",\"#B6E880\",\"#FF97FF\",\"#FECB52\"],\"font\":{\"color\":\"#2a3f5f\"},\"hovermode\":\"closest\",\"hoverlabel\":{\"align\":\"left\"},\"paper_bgcolor\":\"white\",\"plot_bgcolor\":\"#E5ECF6\",\"polar\":{\"bgcolor\":\"#E5ECF6\",\"angularaxis\":{\"gridcolor\":\"white\",\"linecolor\":\"white\",\"ticks\":\"\"},\"radialaxis\":{\"gridcolor\":\"white\",\"linecolor\":\"white\",\"ticks\":\"\"}},\"ternary\":{\"bgcolor\":\"#E5ECF6\",\"aaxis\":{\"gridcolor\":\"white\",\"linecolor\":\"white\",\"ticks\":\"\"},\"baxis\":{\"gridcolor\":\"white\",\"linecolor\":\"white\",\"ticks\":\"\"},\"caxis\":{\"gridcolor\":\"white\",\"linecolor\":\"white\",\"ticks\":\"\"}},\"coloraxis\":{\"colorbar\":{\"outlinewidth\":0,\"ticks\":\"\"}},\"colorscale\":{\"sequential\":[[0.0,\"#0d0887\"],[0.1111111111111111,\"#46039f\"],[0.2222222222222222,\"#7201a8\"],[0.3333333333333333,\"#9c179e\"],[0.4444444444444444,\"#bd3786\"],[0.5555555555555556,\"#d8576b\"],[0.6666666666666666,\"#ed7953\"],[0.7777777777777778,\"#fb9f3a\"],[0.8888888888888888,\"#fdca26\"],[1.0,\"#f0f921\"]],\"sequentialminus\":[[0.0,\"#0d0887\"],[0.1111111111111111,\"#46039f\"],[0.2222222222222222,\"#7201a8\"],[0.3333333333333333,\"#9c179e\"],[0.4444444444444444,\"#bd3786\"],[0.5555555555555556,\"#d8576b\"],[0.6666666666666666,\"#ed7953\"],[0.7777777777777778,\"#fb9f3a\"],[0.8888888888888888,\"#fdca26\"],[1.0,\"#f0f921\"]],\"diverging\":[[0,\"#8e0152\"],[0.1,\"#c51b7d\"],[0.2,\"#de77ae\"],[0.3,\"#f1b6da\"],[0.4,\"#fde0ef\"],[0.5,\"#f7f7f7\"],[0.6,\"#e6f5d0\"],[0.7,\"#b8e186\"],[0.8,\"#7fbc41\"],[0.9,\"#4d9221\"],[1,\"#276419\"]]},\"xaxis\":{\"gridcolor\":\"white\",\"linecolor\":\"white\",\"ticks\":\"\",\"title\":{\"standoff\":15},\"zerolinecolor\":\"white\",\"automargin\":true,\"zerolinewidth\":2},\"yaxis\":{\"gridcolor\":\"white\",\"linecolor\":\"white\",\"ticks\":\"\",\"title\":{\"standoff\":15},\"zerolinecolor\":\"white\",\"automargin\":true,\"zerolinewidth\":2},\"scene\":{\"xaxis\":{\"backgroundcolor\":\"#E5ECF6\",\"gridcolor\":\"white\",\"linecolor\":\"white\",\"showbackground\":true,\"ticks\":\"\",\"zerolinecolor\":\"white\",\"gridwidth\":2},\"yaxis\":{\"backgroundcolor\":\"#E5ECF6\",\"gridcolor\":\"white\",\"linecolor\":\"white\",\"showbackground\":true,\"ticks\":\"\",\"zerolinecolor\":\"white\",\"gridwidth\":2},\"zaxis\":{\"backgroundcolor\":\"#E5ECF6\",\"gridcolor\":\"white\",\"linecolor\":\"white\",\"showbackground\":true,\"ticks\":\"\",\"zerolinecolor\":\"white\",\"gridwidth\":2}},\"shapedefaults\":{\"line\":{\"color\":\"#2a3f5f\"}},\"annotationdefaults\":{\"arrowcolor\":\"#2a3f5f\",\"arrowhead\":0,\"arrowwidth\":1},\"geo\":{\"bgcolor\":\"white\",\"landcolor\":\"#E5ECF6\",\"subunitcolor\":\"white\",\"showland\":true,\"showlakes\":true,\"lakecolor\":\"white\"},\"title\":{\"x\":0.05},\"mapbox\":{\"style\":\"light\"}}},\"xaxis\":{\"anchor\":\"y\",\"domain\":[0.0,1.0],\"title\":{\"text\":\"\"}},\"yaxis\":{\"anchor\":\"x\",\"domain\":[0.0,1.0],\"title\":{\"text\":\"Tons of annual emissions per 100k of population\"}},\"legend\":{\"title\":{\"text\":\"State\"},\"tracegroupgap\":0},\"margin\":{\"t\":60},\"font\":{\"color\":\"white\"},\"plot_bgcolor\":\"black\",\"paper_bgcolor\":\"black\",\"title\":{\"text\":\"Carbon Monoxide emisions per 100k of population\"}},                        {\"responsive\": true}                    ).then(function(){\n",
       "                            \n",
       "var gd = document.getElementById('d2d09ba8-cdfd-451d-ad1a-e98040087d7b');\n",
       "var x = new MutationObserver(function (mutations, observer) {{\n",
       "        var display = window.getComputedStyle(gd).display;\n",
       "        if (!display || display === 'none') {{\n",
       "            console.log([gd, 'removed!']);\n",
       "            Plotly.purge(gd);\n",
       "            observer.disconnect();\n",
       "        }}\n",
       "}});\n",
       "\n",
       "// Listen for the removal of the full notebook cells\n",
       "var notebookContainer = gd.closest('#notebook-container');\n",
       "if (notebookContainer) {{\n",
       "    x.observe(notebookContainer, {childList: true});\n",
       "}}\n",
       "\n",
       "// Listen for the clearing of the current output cell\n",
       "var outputEl = gd.closest('.output');\n",
       "if (outputEl) {{\n",
       "    x.observe(outputEl, {childList: true});\n",
       "}}\n",
       "\n",
       "                        })                };                });            </script>        </div>"
      ]
     },
     "metadata": {},
     "output_type": "display_data"
    }
   ],
   "source": [
    "Carbon_Monoxide = nei_by_pollutant.loc[(nei_by_pollutant[\"Pollutant\"] == 'Carbon Monoxide')]\n",
    "\n",
    "Carbon_Monoxide_plot = px.line(\n",
    "    Carbon_Monoxide,\n",
    "    x = \"Year\",\n",
    "    y = \"Emmisions_per_100k\",\n",
    "    hover_name = \"CAV_adoption\",\n",
    "    color = \"State\",\n",
    "    labels = {\n",
    "        \"Year\":'',\n",
    "        \"Emmisions_per_100k\": \"Tons of annual emissions per 100k of population\"\n",
    "    }\n",
    ")\n",
    "\n",
    "Carbon_Monoxide_plot.update_layout(\n",
    "#     yaxis_range=[0,6],\n",
    "    font_color=\"white\",\n",
    "    legend=dict(\n",
    "    title=\"State\"\n",
    "))\n",
    "\n",
    "Carbon_Monoxide_plot.update_layout({\n",
    "    'plot_bgcolor':'black',\n",
    "    'paper_bgcolor':'black',\n",
    "    'title':'Carbon Monoxide emisions per 100k of population'\n",
    "})\n",
    "\n",
    "Carbon_Monoxide_plot.show()"
   ]
  },
  {
   "cell_type": "code",
   "execution_count": 45,
   "id": "7f0aae3c",
   "metadata": {},
   "outputs": [
    {
     "data": {
      "application/vnd.plotly.v1+json": {
       "config": {
        "plotlyServerURL": "https://plot.ly"
       },
       "data": [
        {
         "hovertemplate": "<b>%{hovertext}</b><br><br>State=VT<br>=%{x}<br>Tons of annual emissions per 100k of population=%{y}<extra></extra>",
         "hovertext": [
          "High CAV adoption",
          "High CAV adoption",
          "High CAV adoption",
          "High CAV adoption",
          "High CAV adoption"
         ],
         "legendgroup": "VT",
         "line": {
          "color": "#636efa",
          "dash": "solid"
         },
         "marker": {
          "symbol": "circle"
         },
         "mode": "lines",
         "name": "VT",
         "orientation": "v",
         "showlegend": true,
         "type": "scatter",
         "x": [
          2008,
          2011,
          2014,
          2017,
          2020
         ],
         "xaxis": "x",
         "y": [
          51.79477491,
          36.38902688,
          29.80849429,
          26.34046104,
          27.94742035
         ],
         "yaxis": "y"
        },
        {
         "hovertemplate": "<b>%{hovertext}</b><br><br>State=MA<br>=%{x}<br>Tons of annual emissions per 100k of population=%{y}<extra></extra>",
         "hovertext": [
          "High CAV adoption",
          "High CAV adoption",
          "High CAV adoption",
          "High CAV adoption",
          "High CAV adoption"
         ],
         "legendgroup": "MA",
         "line": {
          "color": "#EF553B",
          "dash": "solid"
         },
         "marker": {
          "symbol": "circle"
         },
         "mode": "lines",
         "name": "MA",
         "orientation": "v",
         "showlegend": true,
         "type": "scatter",
         "x": [
          2008,
          2011,
          2014,
          2017,
          2020
         ],
         "xaxis": "x",
         "y": [
          30.86388209,
          17.61339582,
          16.16827162,
          16.09180931,
          18.54460503
         ],
         "yaxis": "y"
        },
        {
         "hovertemplate": "<b>%{hovertext}</b><br><br>State=MD<br>=%{x}<br>Tons of annual emissions per 100k of population=%{y}<extra></extra>",
         "hovertext": [
          "High CAV adoption",
          "High CAV adoption",
          "High CAV adoption",
          "High CAV adoption",
          "High CAV adoption"
         ],
         "legendgroup": "MD",
         "line": {
          "color": "#00cc96",
          "dash": "solid"
         },
         "marker": {
          "symbol": "circle"
         },
         "mode": "lines",
         "name": "MD",
         "orientation": "v",
         "showlegend": true,
         "type": "scatter",
         "x": [
          2008,
          2011,
          2014,
          2017,
          2020
         ],
         "xaxis": "x",
         "y": [
          33.30392139,
          22.74475584,
          21.20870699,
          18.16132939,
          22.28095719
         ],
         "yaxis": "y"
        },
        {
         "hovertemplate": "<b>%{hovertext}</b><br><br>State=VA<br>=%{x}<br>Tons of annual emissions per 100k of population=%{y}<extra></extra>",
         "hovertext": [
          "High CAV adoption",
          "High CAV adoption",
          "High CAV adoption",
          "High CAV adoption",
          "High CAV adoption"
         ],
         "legendgroup": "VA",
         "line": {
          "color": "#ab63fa",
          "dash": "solid"
         },
         "marker": {
          "symbol": "circle"
         },
         "mode": "lines",
         "name": "VA",
         "orientation": "v",
         "showlegend": true,
         "type": "scatter",
         "x": [
          2008,
          2011,
          2014,
          2017,
          2020
         ],
         "xaxis": "x",
         "y": [
          49.91691991,
          27.00823957,
          24.24070055,
          24.94942625,
          26.82839454
         ],
         "yaxis": "y"
        },
        {
         "hovertemplate": "<b>%{hovertext}</b><br><br>State=WV<br>=%{x}<br>Tons of annual emissions per 100k of population=%{y}<extra></extra>",
         "hovertext": [
          "Low CAV adoption",
          "Low CAV adoption",
          "Low CAV adoption",
          "Low CAV adoption",
          "Low CAV adoption"
         ],
         "legendgroup": "WV",
         "line": {
          "color": "#FFA15A",
          "dash": "solid"
         },
         "marker": {
          "symbol": "circle"
         },
         "mode": "lines",
         "name": "WV",
         "orientation": "v",
         "showlegend": true,
         "type": "scatter",
         "x": [
          2008,
          2011,
          2014,
          2017,
          2020
         ],
         "xaxis": "x",
         "y": [
          61.25742329,
          37.12135245,
          34.69106806,
          29.48142634,
          28.5313287
         ],
         "yaxis": "y"
        },
        {
         "hovertemplate": "<b>%{hovertext}</b><br><br>State=AL<br>=%{x}<br>Tons of annual emissions per 100k of population=%{y}<extra></extra>",
         "hovertext": [
          "Low CAV adoption",
          "Low CAV adoption",
          "Low CAV adoption",
          "Low CAV adoption",
          "Low CAV adoption"
         ],
         "legendgroup": "AL",
         "line": {
          "color": "#19d3f3",
          "dash": "solid"
         },
         "marker": {
          "symbol": "circle"
         },
         "mode": "lines",
         "name": "AL",
         "orientation": "v",
         "showlegend": true,
         "type": "scatter",
         "x": [
          2008,
          2011,
          2014,
          2017,
          2020
         ],
         "xaxis": "x",
         "y": [
          56.50774816,
          44.1815814,
          41.59448185,
          35.33716253,
          45.27525599
         ],
         "yaxis": "y"
        },
        {
         "hovertemplate": "<b>%{hovertext}</b><br><br>State=KY<br>=%{x}<br>Tons of annual emissions per 100k of population=%{y}<extra></extra>",
         "hovertext": [
          "Low CAV adoption",
          "Low CAV adoption",
          "Low CAV adoption",
          "Low CAV adoption",
          "Low CAV adoption"
         ],
         "legendgroup": "KY",
         "line": {
          "color": "#FF6692",
          "dash": "solid"
         },
         "marker": {
          "symbol": "circle"
         },
         "mode": "lines",
         "name": "KY",
         "orientation": "v",
         "showlegend": true,
         "type": "scatter",
         "x": [
          2008,
          2011,
          2014,
          2017,
          2020
         ],
         "xaxis": "x",
         "y": [
          52.46552956,
          39.12794196,
          38.17656922,
          30.08846381,
          36.76831788
         ],
         "yaxis": "y"
        },
        {
         "hovertemplate": "<b>%{hovertext}</b><br><br>State=MI<br>=%{x}<br>Tons of annual emissions per 100k of population=%{y}<extra></extra>",
         "hovertext": [
          "Low CAV adoption",
          "Low CAV adoption",
          "Low CAV adoption",
          "Low CAV adoption",
          "Low CAV adoption"
         ],
         "legendgroup": "MI",
         "line": {
          "color": "#B6E880",
          "dash": "solid"
         },
         "marker": {
          "symbol": "circle"
         },
         "mode": "lines",
         "name": "MI",
         "orientation": "v",
         "showlegend": true,
         "type": "scatter",
         "x": [
          2008,
          2011,
          2014,
          2017,
          2020
         ],
         "xaxis": "x",
         "y": [
          66.55151325,
          35.07278796,
          29.90853528,
          27.2596147,
          27.33835295
         ],
         "yaxis": "y"
        },
        {
         "hovertemplate": "<b>%{hovertext}</b><br><br>State=LA<br>=%{x}<br>Tons of annual emissions per 100k of population=%{y}<extra></extra>",
         "hovertext": [
          "Low CAV adoption",
          "Low CAV adoption",
          "Low CAV adoption",
          "Low CAV adoption",
          "Low CAV adoption"
         ],
         "legendgroup": "LA",
         "line": {
          "color": "#FF97FF",
          "dash": "solid"
         },
         "marker": {
          "symbol": "circle"
         },
         "mode": "lines",
         "name": "LA",
         "orientation": "v",
         "showlegend": true,
         "type": "scatter",
         "x": [
          2008,
          2011,
          2014,
          2017,
          2020
         ],
         "xaxis": "x",
         "y": [
          42.7079465,
          31.63315749,
          34.13988227,
          29.24589887,
          28.77444433
         ],
         "yaxis": "y"
        },
        {
         "hovertemplate": "<b>%{hovertext}</b><br><br>State=AR<br>=%{x}<br>Tons of annual emissions per 100k of population=%{y}<extra></extra>",
         "hovertext": [
          "Low CAV adoption",
          "Low CAV adoption",
          "Low CAV adoption",
          "Low CAV adoption",
          "Low CAV adoption"
         ],
         "legendgroup": "AR",
         "line": {
          "color": "#FECB52",
          "dash": "solid"
         },
         "marker": {
          "symbol": "circle"
         },
         "mode": "lines",
         "name": "AR",
         "orientation": "v",
         "showlegend": true,
         "type": "scatter",
         "x": [
          2008,
          2011,
          2014,
          2017,
          2020
         ],
         "xaxis": "x",
         "y": [
          62.73300787,
          43.58800741,
          40.97385449,
          34.89043465,
          33.23977291
         ],
         "yaxis": "y"
        },
        {
         "hovertemplate": "<b>%{hovertext}</b><br><br>State=OK<br>=%{x}<br>Tons of annual emissions per 100k of population=%{y}<extra></extra>",
         "hovertext": [
          "Low CAV adoption",
          "Low CAV adoption",
          "Low CAV adoption",
          "Low CAV adoption",
          "Low CAV adoption"
         ],
         "legendgroup": "OK",
         "line": {
          "color": "#636efa",
          "dash": "solid"
         },
         "marker": {
          "symbol": "circle"
         },
         "mode": "lines",
         "name": "OK",
         "orientation": "v",
         "showlegend": true,
         "type": "scatter",
         "x": [
          2008,
          2011,
          2014,
          2017,
          2020
         ],
         "xaxis": "x",
         "y": [
          68.65684755,
          44.44586436,
          41.1922851,
          36.47787214,
          48.98859843
         ],
         "yaxis": "y"
        },
        {
         "hovertemplate": "<b>%{hovertext}</b><br><br>State=WA<br>=%{x}<br>Tons of annual emissions per 100k of population=%{y}<extra></extra>",
         "hovertext": [
          "High CAV adoption",
          "High CAV adoption",
          "High CAV adoption",
          "High CAV adoption",
          "High CAV adoption"
         ],
         "legendgroup": "WA",
         "line": {
          "color": "#EF553B",
          "dash": "solid"
         },
         "marker": {
          "symbol": "circle"
         },
         "mode": "lines",
         "name": "WA",
         "orientation": "v",
         "showlegend": true,
         "type": "scatter",
         "x": [
          2008,
          2011,
          2014,
          2017,
          2020
         ],
         "xaxis": "x",
         "y": [
          55.72948141,
          35.85539121,
          31.19085768,
          28.77897004,
          35.08149541
         ],
         "yaxis": "y"
        },
        {
         "hovertemplate": "<b>%{hovertext}</b><br><br>State=OR<br>=%{x}<br>Tons of annual emissions per 100k of population=%{y}<extra></extra>",
         "hovertext": [
          "High CAV adoption",
          "High CAV adoption",
          "High CAV adoption",
          "High CAV adoption",
          "High CAV adoption"
         ],
         "legendgroup": "OR",
         "line": {
          "color": "#00cc96",
          "dash": "solid"
         },
         "marker": {
          "symbol": "circle"
         },
         "mode": "lines",
         "name": "OR",
         "orientation": "v",
         "showlegend": true,
         "type": "scatter",
         "x": [
          2008,
          2011,
          2014,
          2017,
          2020
         ],
         "xaxis": "x",
         "y": [
          54.49246301,
          32.99274228,
          28.93185127,
          31.36855807,
          48.95363469
         ],
         "yaxis": "y"
        },
        {
         "hovertemplate": "<b>%{hovertext}</b><br><br>State=HI<br>=%{x}<br>Tons of annual emissions per 100k of population=%{y}<extra></extra>",
         "hovertext": [
          "High CAV adoption",
          "High CAV adoption",
          "High CAV adoption",
          "High CAV adoption",
          "High CAV adoption"
         ],
         "legendgroup": "HI",
         "line": {
          "color": "#ab63fa",
          "dash": "solid"
         },
         "marker": {
          "symbol": "circle"
         },
         "mode": "lines",
         "name": "HI",
         "orientation": "v",
         "showlegend": true,
         "type": "scatter",
         "x": [
          2008,
          2011,
          2014,
          2017,
          2020
         ],
         "xaxis": "x",
         "y": [
          30.02537651,
          20.35989972,
          20.33270441,
          16.01533905,
          24.31241416
         ],
         "yaxis": "y"
        },
        {
         "hovertemplate": "<b>%{hovertext}</b><br><br>State=CO<br>=%{x}<br>Tons of annual emissions per 100k of population=%{y}<extra></extra>",
         "hovertext": [
          "High CAV adoption",
          "High CAV adoption",
          "High CAV adoption",
          "High CAV adoption",
          "High CAV adoption"
         ],
         "legendgroup": "CO",
         "line": {
          "color": "#FFA15A",
          "dash": "solid"
         },
         "marker": {
          "symbol": "circle"
         },
         "mode": "lines",
         "name": "CO",
         "orientation": "v",
         "showlegend": true,
         "type": "scatter",
         "x": [
          2008,
          2011,
          2014,
          2017,
          2020
         ],
         "xaxis": "x",
         "y": [
          46.41809849,
          37.14548364,
          30.30223803,
          25.4461558,
          33.87898258
         ],
         "yaxis": "y"
        },
        {
         "hovertemplate": "<b>%{hovertext}</b><br><br>State=NV<br>=%{x}<br>Tons of annual emissions per 100k of population=%{y}<extra></extra>",
         "hovertext": [
          "High CAV adoption",
          "High CAV adoption",
          "High CAV adoption",
          "High CAV adoption",
          "High CAV adoption"
         ],
         "legendgroup": "NV",
         "line": {
          "color": "#19d3f3",
          "dash": "solid"
         },
         "marker": {
          "symbol": "circle"
         },
         "mode": "lines",
         "name": "NV",
         "orientation": "v",
         "showlegend": true,
         "type": "scatter",
         "x": [
          2008,
          2011,
          2014,
          2017,
          2020
         ],
         "xaxis": "x",
         "y": [
          31.10853541,
          28.4233857,
          27.15626658,
          20.79741237,
          30.59239808
         ],
         "yaxis": "y"
        },
        {
         "hovertemplate": "<b>%{hovertext}</b><br><br>State=ND<br>=%{x}<br>Tons of annual emissions per 100k of population=%{y}<extra></extra>",
         "hovertext": [
          "Low CAV adoption",
          "Low CAV adoption",
          "Low CAV adoption",
          "Low CAV adoption",
          "Low CAV adoption"
         ],
         "legendgroup": "ND",
         "line": {
          "color": "#FF6692",
          "dash": "solid"
         },
         "marker": {
          "symbol": "circle"
         },
         "mode": "lines",
         "name": "ND",
         "orientation": "v",
         "showlegend": true,
         "type": "scatter",
         "x": [
          2008,
          2011,
          2014,
          2017,
          2020
         ],
         "xaxis": "x",
         "y": [
          84.19489711,
          60.51308986,
          70.32712939,
          46.3982699,
          49.94246913
         ],
         "yaxis": "y"
        },
        {
         "hovertemplate": "<b>%{hovertext}</b><br><br>State=WY<br>=%{x}<br>Tons of annual emissions per 100k of population=%{y}<extra></extra>",
         "hovertext": [
          "Low CAV adoption",
          "Low CAV adoption",
          "Low CAV adoption",
          "Low CAV adoption",
          "Low CAV adoption"
         ],
         "legendgroup": "WY",
         "line": {
          "color": "#B6E880",
          "dash": "solid"
         },
         "marker": {
          "symbol": "circle"
         },
         "mode": "lines",
         "name": "WY",
         "orientation": "v",
         "showlegend": true,
         "type": "scatter",
         "x": [
          2008,
          2011,
          2014,
          2017,
          2020
         ],
         "xaxis": "x",
         "y": [
          110.1807129,
          87.40467923,
          97.89696401,
          67.19169294,
          69.65859772
         ],
         "yaxis": "y"
        },
        {
         "hovertemplate": "<b>%{hovertext}</b><br><br>State=SD<br>=%{x}<br>Tons of annual emissions per 100k of population=%{y}<extra></extra>",
         "hovertext": [
          "Low CAV adoption",
          "Low CAV adoption",
          "Low CAV adoption",
          "Low CAV adoption",
          "Low CAV adoption"
         ],
         "legendgroup": "SD",
         "line": {
          "color": "#FF97FF",
          "dash": "solid"
         },
         "marker": {
          "symbol": "circle"
         },
         "mode": "lines",
         "name": "SD",
         "orientation": "v",
         "showlegend": true,
         "type": "scatter",
         "x": [
          2008,
          2011,
          2014,
          2017,
          2020
         ],
         "xaxis": "x",
         "y": [
          70.26532116,
          56.898539,
          57.06901979,
          41.49198696,
          46.22590444
         ],
         "yaxis": "y"
        },
        {
         "hovertemplate": "<b>%{hovertext}</b><br><br>State=CA<br>=%{x}<br>Tons of annual emissions per 100k of population=%{y}<extra></extra>",
         "hovertext": [
          "High CAV adoption",
          "High CAV adoption",
          "High CAV adoption",
          "High CAV adoption"
         ],
         "legendgroup": "CA",
         "line": {
          "color": "#FECB52",
          "dash": "solid"
         },
         "marker": {
          "symbol": "circle"
         },
         "mode": "lines",
         "name": "CA",
         "orientation": "v",
         "showlegend": true,
         "type": "scatter",
         "x": [
          2011,
          2014,
          2017,
          2020
         ],
         "xaxis": "x",
         "y": [
          12.63510701,
          28.05161993,
          15.37610752,
          15.40066348
         ],
         "yaxis": "y"
        }
       ],
       "layout": {
        "font": {
         "color": "white"
        },
        "legend": {
         "title": {
          "text": "State"
         },
         "tracegroupgap": 0
        },
        "margin": {
         "t": 60
        },
        "paper_bgcolor": "black",
        "plot_bgcolor": "black",
        "template": {
         "data": {
          "bar": [
           {
            "error_x": {
             "color": "#2a3f5f"
            },
            "error_y": {
             "color": "#2a3f5f"
            },
            "marker": {
             "line": {
              "color": "#E5ECF6",
              "width": 0.5
             },
             "pattern": {
              "fillmode": "overlay",
              "size": 10,
              "solidity": 0.2
             }
            },
            "type": "bar"
           }
          ],
          "barpolar": [
           {
            "marker": {
             "line": {
              "color": "#E5ECF6",
              "width": 0.5
             },
             "pattern": {
              "fillmode": "overlay",
              "size": 10,
              "solidity": 0.2
             }
            },
            "type": "barpolar"
           }
          ],
          "carpet": [
           {
            "aaxis": {
             "endlinecolor": "#2a3f5f",
             "gridcolor": "white",
             "linecolor": "white",
             "minorgridcolor": "white",
             "startlinecolor": "#2a3f5f"
            },
            "baxis": {
             "endlinecolor": "#2a3f5f",
             "gridcolor": "white",
             "linecolor": "white",
             "minorgridcolor": "white",
             "startlinecolor": "#2a3f5f"
            },
            "type": "carpet"
           }
          ],
          "choropleth": [
           {
            "colorbar": {
             "outlinewidth": 0,
             "ticks": ""
            },
            "type": "choropleth"
           }
          ],
          "contour": [
           {
            "colorbar": {
             "outlinewidth": 0,
             "ticks": ""
            },
            "colorscale": [
             [
              0,
              "#0d0887"
             ],
             [
              0.1111111111111111,
              "#46039f"
             ],
             [
              0.2222222222222222,
              "#7201a8"
             ],
             [
              0.3333333333333333,
              "#9c179e"
             ],
             [
              0.4444444444444444,
              "#bd3786"
             ],
             [
              0.5555555555555556,
              "#d8576b"
             ],
             [
              0.6666666666666666,
              "#ed7953"
             ],
             [
              0.7777777777777778,
              "#fb9f3a"
             ],
             [
              0.8888888888888888,
              "#fdca26"
             ],
             [
              1,
              "#f0f921"
             ]
            ],
            "type": "contour"
           }
          ],
          "contourcarpet": [
           {
            "colorbar": {
             "outlinewidth": 0,
             "ticks": ""
            },
            "type": "contourcarpet"
           }
          ],
          "heatmap": [
           {
            "colorbar": {
             "outlinewidth": 0,
             "ticks": ""
            },
            "colorscale": [
             [
              0,
              "#0d0887"
             ],
             [
              0.1111111111111111,
              "#46039f"
             ],
             [
              0.2222222222222222,
              "#7201a8"
             ],
             [
              0.3333333333333333,
              "#9c179e"
             ],
             [
              0.4444444444444444,
              "#bd3786"
             ],
             [
              0.5555555555555556,
              "#d8576b"
             ],
             [
              0.6666666666666666,
              "#ed7953"
             ],
             [
              0.7777777777777778,
              "#fb9f3a"
             ],
             [
              0.8888888888888888,
              "#fdca26"
             ],
             [
              1,
              "#f0f921"
             ]
            ],
            "type": "heatmap"
           }
          ],
          "heatmapgl": [
           {
            "colorbar": {
             "outlinewidth": 0,
             "ticks": ""
            },
            "colorscale": [
             [
              0,
              "#0d0887"
             ],
             [
              0.1111111111111111,
              "#46039f"
             ],
             [
              0.2222222222222222,
              "#7201a8"
             ],
             [
              0.3333333333333333,
              "#9c179e"
             ],
             [
              0.4444444444444444,
              "#bd3786"
             ],
             [
              0.5555555555555556,
              "#d8576b"
             ],
             [
              0.6666666666666666,
              "#ed7953"
             ],
             [
              0.7777777777777778,
              "#fb9f3a"
             ],
             [
              0.8888888888888888,
              "#fdca26"
             ],
             [
              1,
              "#f0f921"
             ]
            ],
            "type": "heatmapgl"
           }
          ],
          "histogram": [
           {
            "marker": {
             "pattern": {
              "fillmode": "overlay",
              "size": 10,
              "solidity": 0.2
             }
            },
            "type": "histogram"
           }
          ],
          "histogram2d": [
           {
            "colorbar": {
             "outlinewidth": 0,
             "ticks": ""
            },
            "colorscale": [
             [
              0,
              "#0d0887"
             ],
             [
              0.1111111111111111,
              "#46039f"
             ],
             [
              0.2222222222222222,
              "#7201a8"
             ],
             [
              0.3333333333333333,
              "#9c179e"
             ],
             [
              0.4444444444444444,
              "#bd3786"
             ],
             [
              0.5555555555555556,
              "#d8576b"
             ],
             [
              0.6666666666666666,
              "#ed7953"
             ],
             [
              0.7777777777777778,
              "#fb9f3a"
             ],
             [
              0.8888888888888888,
              "#fdca26"
             ],
             [
              1,
              "#f0f921"
             ]
            ],
            "type": "histogram2d"
           }
          ],
          "histogram2dcontour": [
           {
            "colorbar": {
             "outlinewidth": 0,
             "ticks": ""
            },
            "colorscale": [
             [
              0,
              "#0d0887"
             ],
             [
              0.1111111111111111,
              "#46039f"
             ],
             [
              0.2222222222222222,
              "#7201a8"
             ],
             [
              0.3333333333333333,
              "#9c179e"
             ],
             [
              0.4444444444444444,
              "#bd3786"
             ],
             [
              0.5555555555555556,
              "#d8576b"
             ],
             [
              0.6666666666666666,
              "#ed7953"
             ],
             [
              0.7777777777777778,
              "#fb9f3a"
             ],
             [
              0.8888888888888888,
              "#fdca26"
             ],
             [
              1,
              "#f0f921"
             ]
            ],
            "type": "histogram2dcontour"
           }
          ],
          "mesh3d": [
           {
            "colorbar": {
             "outlinewidth": 0,
             "ticks": ""
            },
            "type": "mesh3d"
           }
          ],
          "parcoords": [
           {
            "line": {
             "colorbar": {
              "outlinewidth": 0,
              "ticks": ""
             }
            },
            "type": "parcoords"
           }
          ],
          "pie": [
           {
            "automargin": true,
            "type": "pie"
           }
          ],
          "scatter": [
           {
            "fillpattern": {
             "fillmode": "overlay",
             "size": 10,
             "solidity": 0.2
            },
            "type": "scatter"
           }
          ],
          "scatter3d": [
           {
            "line": {
             "colorbar": {
              "outlinewidth": 0,
              "ticks": ""
             }
            },
            "marker": {
             "colorbar": {
              "outlinewidth": 0,
              "ticks": ""
             }
            },
            "type": "scatter3d"
           }
          ],
          "scattercarpet": [
           {
            "marker": {
             "colorbar": {
              "outlinewidth": 0,
              "ticks": ""
             }
            },
            "type": "scattercarpet"
           }
          ],
          "scattergeo": [
           {
            "marker": {
             "colorbar": {
              "outlinewidth": 0,
              "ticks": ""
             }
            },
            "type": "scattergeo"
           }
          ],
          "scattergl": [
           {
            "marker": {
             "colorbar": {
              "outlinewidth": 0,
              "ticks": ""
             }
            },
            "type": "scattergl"
           }
          ],
          "scattermapbox": [
           {
            "marker": {
             "colorbar": {
              "outlinewidth": 0,
              "ticks": ""
             }
            },
            "type": "scattermapbox"
           }
          ],
          "scatterpolar": [
           {
            "marker": {
             "colorbar": {
              "outlinewidth": 0,
              "ticks": ""
             }
            },
            "type": "scatterpolar"
           }
          ],
          "scatterpolargl": [
           {
            "marker": {
             "colorbar": {
              "outlinewidth": 0,
              "ticks": ""
             }
            },
            "type": "scatterpolargl"
           }
          ],
          "scatterternary": [
           {
            "marker": {
             "colorbar": {
              "outlinewidth": 0,
              "ticks": ""
             }
            },
            "type": "scatterternary"
           }
          ],
          "surface": [
           {
            "colorbar": {
             "outlinewidth": 0,
             "ticks": ""
            },
            "colorscale": [
             [
              0,
              "#0d0887"
             ],
             [
              0.1111111111111111,
              "#46039f"
             ],
             [
              0.2222222222222222,
              "#7201a8"
             ],
             [
              0.3333333333333333,
              "#9c179e"
             ],
             [
              0.4444444444444444,
              "#bd3786"
             ],
             [
              0.5555555555555556,
              "#d8576b"
             ],
             [
              0.6666666666666666,
              "#ed7953"
             ],
             [
              0.7777777777777778,
              "#fb9f3a"
             ],
             [
              0.8888888888888888,
              "#fdca26"
             ],
             [
              1,
              "#f0f921"
             ]
            ],
            "type": "surface"
           }
          ],
          "table": [
           {
            "cells": {
             "fill": {
              "color": "#EBF0F8"
             },
             "line": {
              "color": "white"
             }
            },
            "header": {
             "fill": {
              "color": "#C8D4E3"
             },
             "line": {
              "color": "white"
             }
            },
            "type": "table"
           }
          ]
         },
         "layout": {
          "annotationdefaults": {
           "arrowcolor": "#2a3f5f",
           "arrowhead": 0,
           "arrowwidth": 1
          },
          "autotypenumbers": "strict",
          "coloraxis": {
           "colorbar": {
            "outlinewidth": 0,
            "ticks": ""
           }
          },
          "colorscale": {
           "diverging": [
            [
             0,
             "#8e0152"
            ],
            [
             0.1,
             "#c51b7d"
            ],
            [
             0.2,
             "#de77ae"
            ],
            [
             0.3,
             "#f1b6da"
            ],
            [
             0.4,
             "#fde0ef"
            ],
            [
             0.5,
             "#f7f7f7"
            ],
            [
             0.6,
             "#e6f5d0"
            ],
            [
             0.7,
             "#b8e186"
            ],
            [
             0.8,
             "#7fbc41"
            ],
            [
             0.9,
             "#4d9221"
            ],
            [
             1,
             "#276419"
            ]
           ],
           "sequential": [
            [
             0,
             "#0d0887"
            ],
            [
             0.1111111111111111,
             "#46039f"
            ],
            [
             0.2222222222222222,
             "#7201a8"
            ],
            [
             0.3333333333333333,
             "#9c179e"
            ],
            [
             0.4444444444444444,
             "#bd3786"
            ],
            [
             0.5555555555555556,
             "#d8576b"
            ],
            [
             0.6666666666666666,
             "#ed7953"
            ],
            [
             0.7777777777777778,
             "#fb9f3a"
            ],
            [
             0.8888888888888888,
             "#fdca26"
            ],
            [
             1,
             "#f0f921"
            ]
           ],
           "sequentialminus": [
            [
             0,
             "#0d0887"
            ],
            [
             0.1111111111111111,
             "#46039f"
            ],
            [
             0.2222222222222222,
             "#7201a8"
            ],
            [
             0.3333333333333333,
             "#9c179e"
            ],
            [
             0.4444444444444444,
             "#bd3786"
            ],
            [
             0.5555555555555556,
             "#d8576b"
            ],
            [
             0.6666666666666666,
             "#ed7953"
            ],
            [
             0.7777777777777778,
             "#fb9f3a"
            ],
            [
             0.8888888888888888,
             "#fdca26"
            ],
            [
             1,
             "#f0f921"
            ]
           ]
          },
          "colorway": [
           "#636efa",
           "#EF553B",
           "#00cc96",
           "#ab63fa",
           "#FFA15A",
           "#19d3f3",
           "#FF6692",
           "#B6E880",
           "#FF97FF",
           "#FECB52"
          ],
          "font": {
           "color": "#2a3f5f"
          },
          "geo": {
           "bgcolor": "white",
           "lakecolor": "white",
           "landcolor": "#E5ECF6",
           "showlakes": true,
           "showland": true,
           "subunitcolor": "white"
          },
          "hoverlabel": {
           "align": "left"
          },
          "hovermode": "closest",
          "mapbox": {
           "style": "light"
          },
          "paper_bgcolor": "white",
          "plot_bgcolor": "#E5ECF6",
          "polar": {
           "angularaxis": {
            "gridcolor": "white",
            "linecolor": "white",
            "ticks": ""
           },
           "bgcolor": "#E5ECF6",
           "radialaxis": {
            "gridcolor": "white",
            "linecolor": "white",
            "ticks": ""
           }
          },
          "scene": {
           "xaxis": {
            "backgroundcolor": "#E5ECF6",
            "gridcolor": "white",
            "gridwidth": 2,
            "linecolor": "white",
            "showbackground": true,
            "ticks": "",
            "zerolinecolor": "white"
           },
           "yaxis": {
            "backgroundcolor": "#E5ECF6",
            "gridcolor": "white",
            "gridwidth": 2,
            "linecolor": "white",
            "showbackground": true,
            "ticks": "",
            "zerolinecolor": "white"
           },
           "zaxis": {
            "backgroundcolor": "#E5ECF6",
            "gridcolor": "white",
            "gridwidth": 2,
            "linecolor": "white",
            "showbackground": true,
            "ticks": "",
            "zerolinecolor": "white"
           }
          },
          "shapedefaults": {
           "line": {
            "color": "#2a3f5f"
           }
          },
          "ternary": {
           "aaxis": {
            "gridcolor": "white",
            "linecolor": "white",
            "ticks": ""
           },
           "baxis": {
            "gridcolor": "white",
            "linecolor": "white",
            "ticks": ""
           },
           "bgcolor": "#E5ECF6",
           "caxis": {
            "gridcolor": "white",
            "linecolor": "white",
            "ticks": ""
           }
          },
          "title": {
           "x": 0.05
          },
          "xaxis": {
           "automargin": true,
           "gridcolor": "white",
           "linecolor": "white",
           "ticks": "",
           "title": {
            "standoff": 15
           },
           "zerolinecolor": "white",
           "zerolinewidth": 2
          },
          "yaxis": {
           "automargin": true,
           "gridcolor": "white",
           "linecolor": "white",
           "ticks": "",
           "title": {
            "standoff": 15
           },
           "zerolinecolor": "white",
           "zerolinewidth": 2
          }
         }
        },
        "title": {
         "text": "Methane emisions per 100k of population"
        },
        "xaxis": {
         "anchor": "y",
         "domain": [
          0,
          1
         ],
         "title": {
          "text": ""
         }
        },
        "yaxis": {
         "anchor": "x",
         "domain": [
          0,
          1
         ],
         "title": {
          "text": "Tons of annual emissions per 100k of population"
         }
        }
       }
      },
      "text/html": [
       "<div>                            <div id=\"3e428d31-39db-4ae5-b885-65856cac8468\" class=\"plotly-graph-div\" style=\"height:525px; width:100%;\"></div>            <script type=\"text/javascript\">                require([\"plotly\"], function(Plotly) {                    window.PLOTLYENV=window.PLOTLYENV || {};                                    if (document.getElementById(\"3e428d31-39db-4ae5-b885-65856cac8468\")) {                    Plotly.newPlot(                        \"3e428d31-39db-4ae5-b885-65856cac8468\",                        [{\"hovertemplate\":\"<b>%{hovertext}</b><br><br>State=VT<br>=%{x}<br>Tons of annual emissions per 100k of population=%{y}<extra></extra>\",\"hovertext\":[\"High CAV adoption\",\"High CAV adoption\",\"High CAV adoption\",\"High CAV adoption\",\"High CAV adoption\"],\"legendgroup\":\"VT\",\"line\":{\"color\":\"#636efa\",\"dash\":\"solid\"},\"marker\":{\"symbol\":\"circle\"},\"mode\":\"lines\",\"name\":\"VT\",\"orientation\":\"v\",\"showlegend\":true,\"x\":[2008,2011,2014,2017,2020],\"xaxis\":\"x\",\"y\":[51.79477491,36.38902688,29.80849429,26.34046104,27.94742035],\"yaxis\":\"y\",\"type\":\"scatter\"},{\"hovertemplate\":\"<b>%{hovertext}</b><br><br>State=MA<br>=%{x}<br>Tons of annual emissions per 100k of population=%{y}<extra></extra>\",\"hovertext\":[\"High CAV adoption\",\"High CAV adoption\",\"High CAV adoption\",\"High CAV adoption\",\"High CAV adoption\"],\"legendgroup\":\"MA\",\"line\":{\"color\":\"#EF553B\",\"dash\":\"solid\"},\"marker\":{\"symbol\":\"circle\"},\"mode\":\"lines\",\"name\":\"MA\",\"orientation\":\"v\",\"showlegend\":true,\"x\":[2008,2011,2014,2017,2020],\"xaxis\":\"x\",\"y\":[30.86388209,17.61339582,16.16827162,16.09180931,18.54460503],\"yaxis\":\"y\",\"type\":\"scatter\"},{\"hovertemplate\":\"<b>%{hovertext}</b><br><br>State=MD<br>=%{x}<br>Tons of annual emissions per 100k of population=%{y}<extra></extra>\",\"hovertext\":[\"High CAV adoption\",\"High CAV adoption\",\"High CAV adoption\",\"High CAV adoption\",\"High CAV adoption\"],\"legendgroup\":\"MD\",\"line\":{\"color\":\"#00cc96\",\"dash\":\"solid\"},\"marker\":{\"symbol\":\"circle\"},\"mode\":\"lines\",\"name\":\"MD\",\"orientation\":\"v\",\"showlegend\":true,\"x\":[2008,2011,2014,2017,2020],\"xaxis\":\"x\",\"y\":[33.30392139,22.74475584,21.20870699,18.16132939,22.28095719],\"yaxis\":\"y\",\"type\":\"scatter\"},{\"hovertemplate\":\"<b>%{hovertext}</b><br><br>State=VA<br>=%{x}<br>Tons of annual emissions per 100k of population=%{y}<extra></extra>\",\"hovertext\":[\"High CAV adoption\",\"High CAV adoption\",\"High CAV adoption\",\"High CAV adoption\",\"High CAV adoption\"],\"legendgroup\":\"VA\",\"line\":{\"color\":\"#ab63fa\",\"dash\":\"solid\"},\"marker\":{\"symbol\":\"circle\"},\"mode\":\"lines\",\"name\":\"VA\",\"orientation\":\"v\",\"showlegend\":true,\"x\":[2008,2011,2014,2017,2020],\"xaxis\":\"x\",\"y\":[49.91691991,27.00823957,24.24070055,24.94942625,26.82839454],\"yaxis\":\"y\",\"type\":\"scatter\"},{\"hovertemplate\":\"<b>%{hovertext}</b><br><br>State=WV<br>=%{x}<br>Tons of annual emissions per 100k of population=%{y}<extra></extra>\",\"hovertext\":[\"Low CAV adoption\",\"Low CAV adoption\",\"Low CAV adoption\",\"Low CAV adoption\",\"Low CAV adoption\"],\"legendgroup\":\"WV\",\"line\":{\"color\":\"#FFA15A\",\"dash\":\"solid\"},\"marker\":{\"symbol\":\"circle\"},\"mode\":\"lines\",\"name\":\"WV\",\"orientation\":\"v\",\"showlegend\":true,\"x\":[2008,2011,2014,2017,2020],\"xaxis\":\"x\",\"y\":[61.25742329,37.12135245,34.69106806,29.48142634,28.5313287],\"yaxis\":\"y\",\"type\":\"scatter\"},{\"hovertemplate\":\"<b>%{hovertext}</b><br><br>State=AL<br>=%{x}<br>Tons of annual emissions per 100k of population=%{y}<extra></extra>\",\"hovertext\":[\"Low CAV adoption\",\"Low CAV adoption\",\"Low CAV adoption\",\"Low CAV adoption\",\"Low CAV adoption\"],\"legendgroup\":\"AL\",\"line\":{\"color\":\"#19d3f3\",\"dash\":\"solid\"},\"marker\":{\"symbol\":\"circle\"},\"mode\":\"lines\",\"name\":\"AL\",\"orientation\":\"v\",\"showlegend\":true,\"x\":[2008,2011,2014,2017,2020],\"xaxis\":\"x\",\"y\":[56.50774816,44.1815814,41.59448185,35.33716253,45.27525599],\"yaxis\":\"y\",\"type\":\"scatter\"},{\"hovertemplate\":\"<b>%{hovertext}</b><br><br>State=KY<br>=%{x}<br>Tons of annual emissions per 100k of population=%{y}<extra></extra>\",\"hovertext\":[\"Low CAV adoption\",\"Low CAV adoption\",\"Low CAV adoption\",\"Low CAV adoption\",\"Low CAV adoption\"],\"legendgroup\":\"KY\",\"line\":{\"color\":\"#FF6692\",\"dash\":\"solid\"},\"marker\":{\"symbol\":\"circle\"},\"mode\":\"lines\",\"name\":\"KY\",\"orientation\":\"v\",\"showlegend\":true,\"x\":[2008,2011,2014,2017,2020],\"xaxis\":\"x\",\"y\":[52.46552956,39.12794196,38.17656922,30.08846381,36.76831788],\"yaxis\":\"y\",\"type\":\"scatter\"},{\"hovertemplate\":\"<b>%{hovertext}</b><br><br>State=MI<br>=%{x}<br>Tons of annual emissions per 100k of population=%{y}<extra></extra>\",\"hovertext\":[\"Low CAV adoption\",\"Low CAV adoption\",\"Low CAV adoption\",\"Low CAV adoption\",\"Low CAV adoption\"],\"legendgroup\":\"MI\",\"line\":{\"color\":\"#B6E880\",\"dash\":\"solid\"},\"marker\":{\"symbol\":\"circle\"},\"mode\":\"lines\",\"name\":\"MI\",\"orientation\":\"v\",\"showlegend\":true,\"x\":[2008,2011,2014,2017,2020],\"xaxis\":\"x\",\"y\":[66.55151325,35.07278796,29.90853528,27.2596147,27.33835295],\"yaxis\":\"y\",\"type\":\"scatter\"},{\"hovertemplate\":\"<b>%{hovertext}</b><br><br>State=LA<br>=%{x}<br>Tons of annual emissions per 100k of population=%{y}<extra></extra>\",\"hovertext\":[\"Low CAV adoption\",\"Low CAV adoption\",\"Low CAV adoption\",\"Low CAV adoption\",\"Low CAV adoption\"],\"legendgroup\":\"LA\",\"line\":{\"color\":\"#FF97FF\",\"dash\":\"solid\"},\"marker\":{\"symbol\":\"circle\"},\"mode\":\"lines\",\"name\":\"LA\",\"orientation\":\"v\",\"showlegend\":true,\"x\":[2008,2011,2014,2017,2020],\"xaxis\":\"x\",\"y\":[42.7079465,31.63315749,34.13988227,29.24589887,28.77444433],\"yaxis\":\"y\",\"type\":\"scatter\"},{\"hovertemplate\":\"<b>%{hovertext}</b><br><br>State=AR<br>=%{x}<br>Tons of annual emissions per 100k of population=%{y}<extra></extra>\",\"hovertext\":[\"Low CAV adoption\",\"Low CAV adoption\",\"Low CAV adoption\",\"Low CAV adoption\",\"Low CAV adoption\"],\"legendgroup\":\"AR\",\"line\":{\"color\":\"#FECB52\",\"dash\":\"solid\"},\"marker\":{\"symbol\":\"circle\"},\"mode\":\"lines\",\"name\":\"AR\",\"orientation\":\"v\",\"showlegend\":true,\"x\":[2008,2011,2014,2017,2020],\"xaxis\":\"x\",\"y\":[62.73300787,43.58800741,40.97385449,34.89043465,33.23977291],\"yaxis\":\"y\",\"type\":\"scatter\"},{\"hovertemplate\":\"<b>%{hovertext}</b><br><br>State=OK<br>=%{x}<br>Tons of annual emissions per 100k of population=%{y}<extra></extra>\",\"hovertext\":[\"Low CAV adoption\",\"Low CAV adoption\",\"Low CAV adoption\",\"Low CAV adoption\",\"Low CAV adoption\"],\"legendgroup\":\"OK\",\"line\":{\"color\":\"#636efa\",\"dash\":\"solid\"},\"marker\":{\"symbol\":\"circle\"},\"mode\":\"lines\",\"name\":\"OK\",\"orientation\":\"v\",\"showlegend\":true,\"x\":[2008,2011,2014,2017,2020],\"xaxis\":\"x\",\"y\":[68.65684755,44.44586436,41.1922851,36.47787214,48.98859843],\"yaxis\":\"y\",\"type\":\"scatter\"},{\"hovertemplate\":\"<b>%{hovertext}</b><br><br>State=WA<br>=%{x}<br>Tons of annual emissions per 100k of population=%{y}<extra></extra>\",\"hovertext\":[\"High CAV adoption\",\"High CAV adoption\",\"High CAV adoption\",\"High CAV adoption\",\"High CAV adoption\"],\"legendgroup\":\"WA\",\"line\":{\"color\":\"#EF553B\",\"dash\":\"solid\"},\"marker\":{\"symbol\":\"circle\"},\"mode\":\"lines\",\"name\":\"WA\",\"orientation\":\"v\",\"showlegend\":true,\"x\":[2008,2011,2014,2017,2020],\"xaxis\":\"x\",\"y\":[55.72948141,35.85539121,31.19085768,28.77897004,35.08149541],\"yaxis\":\"y\",\"type\":\"scatter\"},{\"hovertemplate\":\"<b>%{hovertext}</b><br><br>State=OR<br>=%{x}<br>Tons of annual emissions per 100k of population=%{y}<extra></extra>\",\"hovertext\":[\"High CAV adoption\",\"High CAV adoption\",\"High CAV adoption\",\"High CAV adoption\",\"High CAV adoption\"],\"legendgroup\":\"OR\",\"line\":{\"color\":\"#00cc96\",\"dash\":\"solid\"},\"marker\":{\"symbol\":\"circle\"},\"mode\":\"lines\",\"name\":\"OR\",\"orientation\":\"v\",\"showlegend\":true,\"x\":[2008,2011,2014,2017,2020],\"xaxis\":\"x\",\"y\":[54.49246301,32.99274228,28.93185127,31.36855807,48.95363469],\"yaxis\":\"y\",\"type\":\"scatter\"},{\"hovertemplate\":\"<b>%{hovertext}</b><br><br>State=HI<br>=%{x}<br>Tons of annual emissions per 100k of population=%{y}<extra></extra>\",\"hovertext\":[\"High CAV adoption\",\"High CAV adoption\",\"High CAV adoption\",\"High CAV adoption\",\"High CAV adoption\"],\"legendgroup\":\"HI\",\"line\":{\"color\":\"#ab63fa\",\"dash\":\"solid\"},\"marker\":{\"symbol\":\"circle\"},\"mode\":\"lines\",\"name\":\"HI\",\"orientation\":\"v\",\"showlegend\":true,\"x\":[2008,2011,2014,2017,2020],\"xaxis\":\"x\",\"y\":[30.02537651,20.35989972,20.33270441,16.01533905,24.31241416],\"yaxis\":\"y\",\"type\":\"scatter\"},{\"hovertemplate\":\"<b>%{hovertext}</b><br><br>State=CO<br>=%{x}<br>Tons of annual emissions per 100k of population=%{y}<extra></extra>\",\"hovertext\":[\"High CAV adoption\",\"High CAV adoption\",\"High CAV adoption\",\"High CAV adoption\",\"High CAV adoption\"],\"legendgroup\":\"CO\",\"line\":{\"color\":\"#FFA15A\",\"dash\":\"solid\"},\"marker\":{\"symbol\":\"circle\"},\"mode\":\"lines\",\"name\":\"CO\",\"orientation\":\"v\",\"showlegend\":true,\"x\":[2008,2011,2014,2017,2020],\"xaxis\":\"x\",\"y\":[46.41809849,37.14548364,30.30223803,25.4461558,33.87898258],\"yaxis\":\"y\",\"type\":\"scatter\"},{\"hovertemplate\":\"<b>%{hovertext}</b><br><br>State=NV<br>=%{x}<br>Tons of annual emissions per 100k of population=%{y}<extra></extra>\",\"hovertext\":[\"High CAV adoption\",\"High CAV adoption\",\"High CAV adoption\",\"High CAV adoption\",\"High CAV adoption\"],\"legendgroup\":\"NV\",\"line\":{\"color\":\"#19d3f3\",\"dash\":\"solid\"},\"marker\":{\"symbol\":\"circle\"},\"mode\":\"lines\",\"name\":\"NV\",\"orientation\":\"v\",\"showlegend\":true,\"x\":[2008,2011,2014,2017,2020],\"xaxis\":\"x\",\"y\":[31.10853541,28.4233857,27.15626658,20.79741237,30.59239808],\"yaxis\":\"y\",\"type\":\"scatter\"},{\"hovertemplate\":\"<b>%{hovertext}</b><br><br>State=ND<br>=%{x}<br>Tons of annual emissions per 100k of population=%{y}<extra></extra>\",\"hovertext\":[\"Low CAV adoption\",\"Low CAV adoption\",\"Low CAV adoption\",\"Low CAV adoption\",\"Low CAV adoption\"],\"legendgroup\":\"ND\",\"line\":{\"color\":\"#FF6692\",\"dash\":\"solid\"},\"marker\":{\"symbol\":\"circle\"},\"mode\":\"lines\",\"name\":\"ND\",\"orientation\":\"v\",\"showlegend\":true,\"x\":[2008,2011,2014,2017,2020],\"xaxis\":\"x\",\"y\":[84.19489711,60.51308986,70.32712939,46.3982699,49.94246913],\"yaxis\":\"y\",\"type\":\"scatter\"},{\"hovertemplate\":\"<b>%{hovertext}</b><br><br>State=WY<br>=%{x}<br>Tons of annual emissions per 100k of population=%{y}<extra></extra>\",\"hovertext\":[\"Low CAV adoption\",\"Low CAV adoption\",\"Low CAV adoption\",\"Low CAV adoption\",\"Low CAV adoption\"],\"legendgroup\":\"WY\",\"line\":{\"color\":\"#B6E880\",\"dash\":\"solid\"},\"marker\":{\"symbol\":\"circle\"},\"mode\":\"lines\",\"name\":\"WY\",\"orientation\":\"v\",\"showlegend\":true,\"x\":[2008,2011,2014,2017,2020],\"xaxis\":\"x\",\"y\":[110.1807129,87.40467923,97.89696401,67.19169294,69.65859772],\"yaxis\":\"y\",\"type\":\"scatter\"},{\"hovertemplate\":\"<b>%{hovertext}</b><br><br>State=SD<br>=%{x}<br>Tons of annual emissions per 100k of population=%{y}<extra></extra>\",\"hovertext\":[\"Low CAV adoption\",\"Low CAV adoption\",\"Low CAV adoption\",\"Low CAV adoption\",\"Low CAV adoption\"],\"legendgroup\":\"SD\",\"line\":{\"color\":\"#FF97FF\",\"dash\":\"solid\"},\"marker\":{\"symbol\":\"circle\"},\"mode\":\"lines\",\"name\":\"SD\",\"orientation\":\"v\",\"showlegend\":true,\"x\":[2008,2011,2014,2017,2020],\"xaxis\":\"x\",\"y\":[70.26532116,56.898539,57.06901979,41.49198696,46.22590444],\"yaxis\":\"y\",\"type\":\"scatter\"},{\"hovertemplate\":\"<b>%{hovertext}</b><br><br>State=CA<br>=%{x}<br>Tons of annual emissions per 100k of population=%{y}<extra></extra>\",\"hovertext\":[\"High CAV adoption\",\"High CAV adoption\",\"High CAV adoption\",\"High CAV adoption\"],\"legendgroup\":\"CA\",\"line\":{\"color\":\"#FECB52\",\"dash\":\"solid\"},\"marker\":{\"symbol\":\"circle\"},\"mode\":\"lines\",\"name\":\"CA\",\"orientation\":\"v\",\"showlegend\":true,\"x\":[2011,2014,2017,2020],\"xaxis\":\"x\",\"y\":[12.63510701,28.05161993,15.37610752,15.40066348],\"yaxis\":\"y\",\"type\":\"scatter\"}],                        {\"template\":{\"data\":{\"histogram2dcontour\":[{\"type\":\"histogram2dcontour\",\"colorbar\":{\"outlinewidth\":0,\"ticks\":\"\"},\"colorscale\":[[0.0,\"#0d0887\"],[0.1111111111111111,\"#46039f\"],[0.2222222222222222,\"#7201a8\"],[0.3333333333333333,\"#9c179e\"],[0.4444444444444444,\"#bd3786\"],[0.5555555555555556,\"#d8576b\"],[0.6666666666666666,\"#ed7953\"],[0.7777777777777778,\"#fb9f3a\"],[0.8888888888888888,\"#fdca26\"],[1.0,\"#f0f921\"]]}],\"choropleth\":[{\"type\":\"choropleth\",\"colorbar\":{\"outlinewidth\":0,\"ticks\":\"\"}}],\"histogram2d\":[{\"type\":\"histogram2d\",\"colorbar\":{\"outlinewidth\":0,\"ticks\":\"\"},\"colorscale\":[[0.0,\"#0d0887\"],[0.1111111111111111,\"#46039f\"],[0.2222222222222222,\"#7201a8\"],[0.3333333333333333,\"#9c179e\"],[0.4444444444444444,\"#bd3786\"],[0.5555555555555556,\"#d8576b\"],[0.6666666666666666,\"#ed7953\"],[0.7777777777777778,\"#fb9f3a\"],[0.8888888888888888,\"#fdca26\"],[1.0,\"#f0f921\"]]}],\"heatmap\":[{\"type\":\"heatmap\",\"colorbar\":{\"outlinewidth\":0,\"ticks\":\"\"},\"colorscale\":[[0.0,\"#0d0887\"],[0.1111111111111111,\"#46039f\"],[0.2222222222222222,\"#7201a8\"],[0.3333333333333333,\"#9c179e\"],[0.4444444444444444,\"#bd3786\"],[0.5555555555555556,\"#d8576b\"],[0.6666666666666666,\"#ed7953\"],[0.7777777777777778,\"#fb9f3a\"],[0.8888888888888888,\"#fdca26\"],[1.0,\"#f0f921\"]]}],\"heatmapgl\":[{\"type\":\"heatmapgl\",\"colorbar\":{\"outlinewidth\":0,\"ticks\":\"\"},\"colorscale\":[[0.0,\"#0d0887\"],[0.1111111111111111,\"#46039f\"],[0.2222222222222222,\"#7201a8\"],[0.3333333333333333,\"#9c179e\"],[0.4444444444444444,\"#bd3786\"],[0.5555555555555556,\"#d8576b\"],[0.6666666666666666,\"#ed7953\"],[0.7777777777777778,\"#fb9f3a\"],[0.8888888888888888,\"#fdca26\"],[1.0,\"#f0f921\"]]}],\"contourcarpet\":[{\"type\":\"contourcarpet\",\"colorbar\":{\"outlinewidth\":0,\"ticks\":\"\"}}],\"contour\":[{\"type\":\"contour\",\"colorbar\":{\"outlinewidth\":0,\"ticks\":\"\"},\"colorscale\":[[0.0,\"#0d0887\"],[0.1111111111111111,\"#46039f\"],[0.2222222222222222,\"#7201a8\"],[0.3333333333333333,\"#9c179e\"],[0.4444444444444444,\"#bd3786\"],[0.5555555555555556,\"#d8576b\"],[0.6666666666666666,\"#ed7953\"],[0.7777777777777778,\"#fb9f3a\"],[0.8888888888888888,\"#fdca26\"],[1.0,\"#f0f921\"]]}],\"surface\":[{\"type\":\"surface\",\"colorbar\":{\"outlinewidth\":0,\"ticks\":\"\"},\"colorscale\":[[0.0,\"#0d0887\"],[0.1111111111111111,\"#46039f\"],[0.2222222222222222,\"#7201a8\"],[0.3333333333333333,\"#9c179e\"],[0.4444444444444444,\"#bd3786\"],[0.5555555555555556,\"#d8576b\"],[0.6666666666666666,\"#ed7953\"],[0.7777777777777778,\"#fb9f3a\"],[0.8888888888888888,\"#fdca26\"],[1.0,\"#f0f921\"]]}],\"mesh3d\":[{\"type\":\"mesh3d\",\"colorbar\":{\"outlinewidth\":0,\"ticks\":\"\"}}],\"scatter\":[{\"fillpattern\":{\"fillmode\":\"overlay\",\"size\":10,\"solidity\":0.2},\"type\":\"scatter\"}],\"parcoords\":[{\"type\":\"parcoords\",\"line\":{\"colorbar\":{\"outlinewidth\":0,\"ticks\":\"\"}}}],\"scatterpolargl\":[{\"type\":\"scatterpolargl\",\"marker\":{\"colorbar\":{\"outlinewidth\":0,\"ticks\":\"\"}}}],\"bar\":[{\"error_x\":{\"color\":\"#2a3f5f\"},\"error_y\":{\"color\":\"#2a3f5f\"},\"marker\":{\"line\":{\"color\":\"#E5ECF6\",\"width\":0.5},\"pattern\":{\"fillmode\":\"overlay\",\"size\":10,\"solidity\":0.2}},\"type\":\"bar\"}],\"scattergeo\":[{\"type\":\"scattergeo\",\"marker\":{\"colorbar\":{\"outlinewidth\":0,\"ticks\":\"\"}}}],\"scatterpolar\":[{\"type\":\"scatterpolar\",\"marker\":{\"colorbar\":{\"outlinewidth\":0,\"ticks\":\"\"}}}],\"histogram\":[{\"marker\":{\"pattern\":{\"fillmode\":\"overlay\",\"size\":10,\"solidity\":0.2}},\"type\":\"histogram\"}],\"scattergl\":[{\"type\":\"scattergl\",\"marker\":{\"colorbar\":{\"outlinewidth\":0,\"ticks\":\"\"}}}],\"scatter3d\":[{\"type\":\"scatter3d\",\"line\":{\"colorbar\":{\"outlinewidth\":0,\"ticks\":\"\"}},\"marker\":{\"colorbar\":{\"outlinewidth\":0,\"ticks\":\"\"}}}],\"scattermapbox\":[{\"type\":\"scattermapbox\",\"marker\":{\"colorbar\":{\"outlinewidth\":0,\"ticks\":\"\"}}}],\"scatterternary\":[{\"type\":\"scatterternary\",\"marker\":{\"colorbar\":{\"outlinewidth\":0,\"ticks\":\"\"}}}],\"scattercarpet\":[{\"type\":\"scattercarpet\",\"marker\":{\"colorbar\":{\"outlinewidth\":0,\"ticks\":\"\"}}}],\"carpet\":[{\"aaxis\":{\"endlinecolor\":\"#2a3f5f\",\"gridcolor\":\"white\",\"linecolor\":\"white\",\"minorgridcolor\":\"white\",\"startlinecolor\":\"#2a3f5f\"},\"baxis\":{\"endlinecolor\":\"#2a3f5f\",\"gridcolor\":\"white\",\"linecolor\":\"white\",\"minorgridcolor\":\"white\",\"startlinecolor\":\"#2a3f5f\"},\"type\":\"carpet\"}],\"table\":[{\"cells\":{\"fill\":{\"color\":\"#EBF0F8\"},\"line\":{\"color\":\"white\"}},\"header\":{\"fill\":{\"color\":\"#C8D4E3\"},\"line\":{\"color\":\"white\"}},\"type\":\"table\"}],\"barpolar\":[{\"marker\":{\"line\":{\"color\":\"#E5ECF6\",\"width\":0.5},\"pattern\":{\"fillmode\":\"overlay\",\"size\":10,\"solidity\":0.2}},\"type\":\"barpolar\"}],\"pie\":[{\"automargin\":true,\"type\":\"pie\"}]},\"layout\":{\"autotypenumbers\":\"strict\",\"colorway\":[\"#636efa\",\"#EF553B\",\"#00cc96\",\"#ab63fa\",\"#FFA15A\",\"#19d3f3\",\"#FF6692\",\"#B6E880\",\"#FF97FF\",\"#FECB52\"],\"font\":{\"color\":\"#2a3f5f\"},\"hovermode\":\"closest\",\"hoverlabel\":{\"align\":\"left\"},\"paper_bgcolor\":\"white\",\"plot_bgcolor\":\"#E5ECF6\",\"polar\":{\"bgcolor\":\"#E5ECF6\",\"angularaxis\":{\"gridcolor\":\"white\",\"linecolor\":\"white\",\"ticks\":\"\"},\"radialaxis\":{\"gridcolor\":\"white\",\"linecolor\":\"white\",\"ticks\":\"\"}},\"ternary\":{\"bgcolor\":\"#E5ECF6\",\"aaxis\":{\"gridcolor\":\"white\",\"linecolor\":\"white\",\"ticks\":\"\"},\"baxis\":{\"gridcolor\":\"white\",\"linecolor\":\"white\",\"ticks\":\"\"},\"caxis\":{\"gridcolor\":\"white\",\"linecolor\":\"white\",\"ticks\":\"\"}},\"coloraxis\":{\"colorbar\":{\"outlinewidth\":0,\"ticks\":\"\"}},\"colorscale\":{\"sequential\":[[0.0,\"#0d0887\"],[0.1111111111111111,\"#46039f\"],[0.2222222222222222,\"#7201a8\"],[0.3333333333333333,\"#9c179e\"],[0.4444444444444444,\"#bd3786\"],[0.5555555555555556,\"#d8576b\"],[0.6666666666666666,\"#ed7953\"],[0.7777777777777778,\"#fb9f3a\"],[0.8888888888888888,\"#fdca26\"],[1.0,\"#f0f921\"]],\"sequentialminus\":[[0.0,\"#0d0887\"],[0.1111111111111111,\"#46039f\"],[0.2222222222222222,\"#7201a8\"],[0.3333333333333333,\"#9c179e\"],[0.4444444444444444,\"#bd3786\"],[0.5555555555555556,\"#d8576b\"],[0.6666666666666666,\"#ed7953\"],[0.7777777777777778,\"#fb9f3a\"],[0.8888888888888888,\"#fdca26\"],[1.0,\"#f0f921\"]],\"diverging\":[[0,\"#8e0152\"],[0.1,\"#c51b7d\"],[0.2,\"#de77ae\"],[0.3,\"#f1b6da\"],[0.4,\"#fde0ef\"],[0.5,\"#f7f7f7\"],[0.6,\"#e6f5d0\"],[0.7,\"#b8e186\"],[0.8,\"#7fbc41\"],[0.9,\"#4d9221\"],[1,\"#276419\"]]},\"xaxis\":{\"gridcolor\":\"white\",\"linecolor\":\"white\",\"ticks\":\"\",\"title\":{\"standoff\":15},\"zerolinecolor\":\"white\",\"automargin\":true,\"zerolinewidth\":2},\"yaxis\":{\"gridcolor\":\"white\",\"linecolor\":\"white\",\"ticks\":\"\",\"title\":{\"standoff\":15},\"zerolinecolor\":\"white\",\"automargin\":true,\"zerolinewidth\":2},\"scene\":{\"xaxis\":{\"backgroundcolor\":\"#E5ECF6\",\"gridcolor\":\"white\",\"linecolor\":\"white\",\"showbackground\":true,\"ticks\":\"\",\"zerolinecolor\":\"white\",\"gridwidth\":2},\"yaxis\":{\"backgroundcolor\":\"#E5ECF6\",\"gridcolor\":\"white\",\"linecolor\":\"white\",\"showbackground\":true,\"ticks\":\"\",\"zerolinecolor\":\"white\",\"gridwidth\":2},\"zaxis\":{\"backgroundcolor\":\"#E5ECF6\",\"gridcolor\":\"white\",\"linecolor\":\"white\",\"showbackground\":true,\"ticks\":\"\",\"zerolinecolor\":\"white\",\"gridwidth\":2}},\"shapedefaults\":{\"line\":{\"color\":\"#2a3f5f\"}},\"annotationdefaults\":{\"arrowcolor\":\"#2a3f5f\",\"arrowhead\":0,\"arrowwidth\":1},\"geo\":{\"bgcolor\":\"white\",\"landcolor\":\"#E5ECF6\",\"subunitcolor\":\"white\",\"showland\":true,\"showlakes\":true,\"lakecolor\":\"white\"},\"title\":{\"x\":0.05},\"mapbox\":{\"style\":\"light\"}}},\"xaxis\":{\"anchor\":\"y\",\"domain\":[0.0,1.0],\"title\":{\"text\":\"\"}},\"yaxis\":{\"anchor\":\"x\",\"domain\":[0.0,1.0],\"title\":{\"text\":\"Tons of annual emissions per 100k of population\"}},\"legend\":{\"title\":{\"text\":\"State\"},\"tracegroupgap\":0},\"margin\":{\"t\":60},\"font\":{\"color\":\"white\"},\"plot_bgcolor\":\"black\",\"paper_bgcolor\":\"black\",\"title\":{\"text\":\"Methane emisions per 100k of population\"}},                        {\"responsive\": true}                    ).then(function(){\n",
       "                            \n",
       "var gd = document.getElementById('3e428d31-39db-4ae5-b885-65856cac8468');\n",
       "var x = new MutationObserver(function (mutations, observer) {{\n",
       "        var display = window.getComputedStyle(gd).display;\n",
       "        if (!display || display === 'none') {{\n",
       "            console.log([gd, 'removed!']);\n",
       "            Plotly.purge(gd);\n",
       "            observer.disconnect();\n",
       "        }}\n",
       "}});\n",
       "\n",
       "// Listen for the removal of the full notebook cells\n",
       "var notebookContainer = gd.closest('#notebook-container');\n",
       "if (notebookContainer) {{\n",
       "    x.observe(notebookContainer, {childList: true});\n",
       "}}\n",
       "\n",
       "// Listen for the clearing of the current output cell\n",
       "var outputEl = gd.closest('.output');\n",
       "if (outputEl) {{\n",
       "    x.observe(outputEl, {childList: true});\n",
       "}}\n",
       "\n",
       "                        })                };                });            </script>        </div>"
      ]
     },
     "metadata": {},
     "output_type": "display_data"
    }
   ],
   "source": [
    "Methane = nei_by_pollutant.loc[(nei_by_pollutant[\"Pollutant\"] == 'Methane')]\n",
    "\n",
    "Methane_plot = px.line(\n",
    "    Methane,\n",
    "    x = \"Year\",\n",
    "    y = \"Emmisions_per_100k\",\n",
    "    hover_name = \"CAV_adoption\",\n",
    "    color = \"State\",\n",
    "    labels = {\n",
    "        \"Year\":'',\n",
    "        \"Emmisions_per_100k\": \"Tons of annual emissions per 100k of population\"\n",
    "    }\n",
    ")\n",
    "\n",
    "Methane_plot.update_layout(\n",
    "#     yaxis_range=[0,6],\n",
    "    font_color=\"white\",\n",
    "    legend=dict(\n",
    "    title=\"State\"\n",
    "))\n",
    "\n",
    "Methane_plot.update_layout({\n",
    "    'plot_bgcolor':'black',\n",
    "    'paper_bgcolor':'black',\n",
    "    'title':'Methane emisions per 100k of population'\n",
    "})\n",
    "\n",
    "Methane_plot.show()"
   ]
  },
  {
   "cell_type": "code",
   "execution_count": 46,
   "id": "47d50b07",
   "metadata": {},
   "outputs": [
    {
     "data": {
      "application/vnd.plotly.v1+json": {
       "config": {
        "plotlyServerURL": "https://plot.ly"
       },
       "data": [
        {
         "hovertemplate": "<b>%{hovertext}</b><br><br>State=VT<br>=%{x}<br>Tons of annual emissions per 100k of population=%{y}<extra></extra>",
         "hovertext": [
          "High CAV adoption",
          "High CAV adoption",
          "High CAV adoption",
          "High CAV adoption",
          "High CAV adoption"
         ],
         "legendgroup": "VT",
         "line": {
          "color": "#636efa",
          "dash": "solid"
         },
         "marker": {
          "symbol": "circle"
         },
         "mode": "lines",
         "name": "VT",
         "orientation": "v",
         "showlegend": true,
         "type": "scatter",
         "x": [
          2008,
          2011,
          2014,
          2017,
          2020
         ],
         "xaxis": "x",
         "y": [
          26.20334599,
          20.83061072,
          17.42565304,
          12.08971776,
          8.10466518
         ],
         "yaxis": "y"
        },
        {
         "hovertemplate": "<b>%{hovertext}</b><br><br>State=MA<br>=%{x}<br>Tons of annual emissions per 100k of population=%{y}<extra></extra>",
         "hovertext": [
          "High CAV adoption",
          "High CAV adoption",
          "High CAV adoption",
          "High CAV adoption",
          "High CAV adoption"
         ],
         "legendgroup": "MA",
         "line": {
          "color": "#EF553B",
          "dash": "solid"
         },
         "marker": {
          "symbol": "circle"
         },
         "mode": "lines",
         "name": "MA",
         "orientation": "v",
         "showlegend": true,
         "type": "scatter",
         "x": [
          2008,
          2011,
          2014,
          2017,
          2020
         ],
         "xaxis": "x",
         "y": [
          19.34852409,
          16.18112187,
          12.49334396,
          10.29169351,
          6.211924492
         ],
         "yaxis": "y"
        },
        {
         "hovertemplate": "<b>%{hovertext}</b><br><br>State=MD<br>=%{x}<br>Tons of annual emissions per 100k of population=%{y}<extra></extra>",
         "hovertext": [
          "High CAV adoption",
          "High CAV adoption",
          "High CAV adoption",
          "High CAV adoption",
          "High CAV adoption"
         ],
         "legendgroup": "MD",
         "line": {
          "color": "#00cc96",
          "dash": "solid"
         },
         "marker": {
          "symbol": "circle"
         },
         "mode": "lines",
         "name": "MD",
         "orientation": "v",
         "showlegend": true,
         "type": "scatter",
         "x": [
          2008,
          2011,
          2014,
          2017,
          2020
         ],
         "xaxis": "x",
         "y": [
          24.37234015,
          17.21935994,
          14.70202815,
          10.77145765,
          6.970713243
         ],
         "yaxis": "y"
        },
        {
         "hovertemplate": "<b>%{hovertext}</b><br><br>State=VA<br>=%{x}<br>Tons of annual emissions per 100k of population=%{y}<extra></extra>",
         "hovertext": [
          "High CAV adoption",
          "High CAV adoption",
          "High CAV adoption",
          "High CAV adoption",
          "High CAV adoption"
         ],
         "legendgroup": "VA",
         "line": {
          "color": "#ab63fa",
          "dash": "solid"
         },
         "marker": {
          "symbol": "circle"
         },
         "mode": "lines",
         "name": "VA",
         "orientation": "v",
         "showlegend": true,
         "type": "scatter",
         "x": [
          2008,
          2011,
          2014,
          2017,
          2020
         ],
         "xaxis": "x",
         "y": [
          32.25872684,
          20.41211115,
          18.28199176,
          15.54122545,
          8.441257319
         ],
         "yaxis": "y"
        },
        {
         "hovertemplate": "<b>%{hovertext}</b><br><br>State=WV<br>=%{x}<br>Tons of annual emissions per 100k of population=%{y}<extra></extra>",
         "hovertext": [
          "Low CAV adoption",
          "Low CAV adoption",
          "Low CAV adoption",
          "Low CAV adoption",
          "Low CAV adoption"
         ],
         "legendgroup": "WV",
         "line": {
          "color": "#FFA15A",
          "dash": "solid"
         },
         "marker": {
          "symbol": "circle"
         },
         "mode": "lines",
         "name": "WV",
         "orientation": "v",
         "showlegend": true,
         "type": "scatter",
         "x": [
          2008,
          2011,
          2014,
          2017,
          2020
         ],
         "xaxis": "x",
         "y": [
          32.58715255,
          24.9194179,
          19.33479619,
          17.07558035,
          8.165312836
         ],
         "yaxis": "y"
        },
        {
         "hovertemplate": "<b>%{hovertext}</b><br><br>State=AL<br>=%{x}<br>Tons of annual emissions per 100k of population=%{y}<extra></extra>",
         "hovertext": [
          "Low CAV adoption",
          "Low CAV adoption",
          "Low CAV adoption",
          "Low CAV adoption",
          "Low CAV adoption"
         ],
         "legendgroup": "AL",
         "line": {
          "color": "#19d3f3",
          "dash": "solid"
         },
         "marker": {
          "symbol": "circle"
         },
         "mode": "lines",
         "name": "AL",
         "orientation": "v",
         "showlegend": true,
         "type": "scatter",
         "x": [
          2008,
          2011,
          2014,
          2017,
          2020
         ],
         "xaxis": "x",
         "y": [
          34.70891157,
          32.3822031,
          28.11741222,
          21.30292257,
          12.21760809
         ],
         "yaxis": "y"
        },
        {
         "hovertemplate": "<b>%{hovertext}</b><br><br>State=KY<br>=%{x}<br>Tons of annual emissions per 100k of population=%{y}<extra></extra>",
         "hovertext": [
          "Low CAV adoption",
          "Low CAV adoption",
          "Low CAV adoption",
          "Low CAV adoption",
          "Low CAV adoption"
         ],
         "legendgroup": "KY",
         "line": {
          "color": "#FF6692",
          "dash": "solid"
         },
         "marker": {
          "symbol": "circle"
         },
         "mode": "lines",
         "name": "KY",
         "orientation": "v",
         "showlegend": true,
         "type": "scatter",
         "x": [
          2008,
          2011,
          2014,
          2017,
          2020
         ],
         "xaxis": "x",
         "y": [
          29.49612977,
          26.0582041,
          22.67220457,
          16.67163797,
          9.61916224
         ],
         "yaxis": "y"
        },
        {
         "hovertemplate": "<b>%{hovertext}</b><br><br>State=MI<br>=%{x}<br>Tons of annual emissions per 100k of population=%{y}<extra></extra>",
         "hovertext": [
          "Low CAV adoption",
          "Low CAV adoption",
          "Low CAV adoption",
          "Low CAV adoption",
          "Low CAV adoption"
         ],
         "legendgroup": "MI",
         "line": {
          "color": "#B6E880",
          "dash": "solid"
         },
         "marker": {
          "symbol": "circle"
         },
         "mode": "lines",
         "name": "MI",
         "orientation": "v",
         "showlegend": true,
         "type": "scatter",
         "x": [
          2008,
          2011,
          2014,
          2017,
          2020
         ],
         "xaxis": "x",
         "y": [
          30.50035771,
          22.19051746,
          17.57474053,
          13.29151819,
          7.475735797
         ],
         "yaxis": "y"
        },
        {
         "hovertemplate": "<b>%{hovertext}</b><br><br>State=LA<br>=%{x}<br>Tons of annual emissions per 100k of population=%{y}<extra></extra>",
         "hovertext": [
          "Low CAV adoption",
          "Low CAV adoption",
          "Low CAV adoption",
          "Low CAV adoption",
          "Low CAV adoption"
         ],
         "legendgroup": "LA",
         "line": {
          "color": "#FF97FF",
          "dash": "solid"
         },
         "marker": {
          "symbol": "circle"
         },
         "mode": "lines",
         "name": "LA",
         "orientation": "v",
         "showlegend": true,
         "type": "scatter",
         "x": [
          2008,
          2011,
          2014,
          2017,
          2020
         ],
         "xaxis": "x",
         "y": [
          28.92129845,
          23.94074714,
          18.67034578,
          13.96687934,
          8.308996888
         ],
         "yaxis": "y"
        },
        {
         "hovertemplate": "<b>%{hovertext}</b><br><br>State=AR<br>=%{x}<br>Tons of annual emissions per 100k of population=%{y}<extra></extra>",
         "hovertext": [
          "Low CAV adoption",
          "Low CAV adoption",
          "Low CAV adoption",
          "Low CAV adoption",
          "Low CAV adoption"
         ],
         "legendgroup": "AR",
         "line": {
          "color": "#FECB52",
          "dash": "solid"
         },
         "marker": {
          "symbol": "circle"
         },
         "mode": "lines",
         "name": "AR",
         "orientation": "v",
         "showlegend": true,
         "type": "scatter",
         "x": [
          2008,
          2011,
          2014,
          2017,
          2020
         ],
         "xaxis": "x",
         "y": [
          36.63432565,
          25.37949487,
          23.0653895,
          15.62944724,
          9.089891727
         ],
         "yaxis": "y"
        },
        {
         "hovertemplate": "<b>%{hovertext}</b><br><br>State=OK<br>=%{x}<br>Tons of annual emissions per 100k of population=%{y}<extra></extra>",
         "hovertext": [
          "Low CAV adoption",
          "Low CAV adoption",
          "Low CAV adoption",
          "Low CAV adoption",
          "Low CAV adoption"
         ],
         "legendgroup": "OK",
         "line": {
          "color": "#636efa",
          "dash": "solid"
         },
         "marker": {
          "symbol": "circle"
         },
         "mode": "lines",
         "name": "OK",
         "orientation": "v",
         "showlegend": true,
         "type": "scatter",
         "x": [
          2008,
          2011,
          2014,
          2017,
          2020
         ],
         "xaxis": "x",
         "y": [
          38.91966019,
          31.64738495,
          23.55720037,
          20.76568741,
          11.76963256
         ],
         "yaxis": "y"
        },
        {
         "hovertemplate": "<b>%{hovertext}</b><br><br>State=WA<br>=%{x}<br>Tons of annual emissions per 100k of population=%{y}<extra></extra>",
         "hovertext": [
          "High CAV adoption",
          "High CAV adoption",
          "High CAV adoption",
          "High CAV adoption",
          "High CAV adoption"
         ],
         "legendgroup": "WA",
         "line": {
          "color": "#EF553B",
          "dash": "solid"
         },
         "marker": {
          "symbol": "circle"
         },
         "mode": "lines",
         "name": "WA",
         "orientation": "v",
         "showlegend": true,
         "type": "scatter",
         "x": [
          2008,
          2011,
          2014,
          2017,
          2020
         ],
         "xaxis": "x",
         "y": [
          32.54935512,
          27.82988012,
          23.21550273,
          19.4520057,
          9.821613894
         ],
         "yaxis": "y"
        },
        {
         "hovertemplate": "<b>%{hovertext}</b><br><br>State=OR<br>=%{x}<br>Tons of annual emissions per 100k of population=%{y}<extra></extra>",
         "hovertext": [
          "High CAV adoption",
          "High CAV adoption",
          "High CAV adoption",
          "High CAV adoption",
          "High CAV adoption"
         ],
         "legendgroup": "OR",
         "line": {
          "color": "#00cc96",
          "dash": "solid"
         },
         "marker": {
          "symbol": "circle"
         },
         "mode": "lines",
         "name": "OR",
         "orientation": "v",
         "showlegend": true,
         "type": "scatter",
         "x": [
          2008,
          2011,
          2014,
          2017,
          2020
         ],
         "xaxis": "x",
         "y": [
          32.21592369,
          30.08054987,
          24.07762134,
          18.97034636,
          14.60834306
         ],
         "yaxis": "y"
        },
        {
         "hovertemplate": "<b>%{hovertext}</b><br><br>State=HI<br>=%{x}<br>Tons of annual emissions per 100k of population=%{y}<extra></extra>",
         "hovertext": [
          "High CAV adoption",
          "High CAV adoption",
          "High CAV adoption",
          "High CAV adoption",
          "High CAV adoption"
         ],
         "legendgroup": "HI",
         "line": {
          "color": "#ab63fa",
          "dash": "solid"
         },
         "marker": {
          "symbol": "circle"
         },
         "mode": "lines",
         "name": "HI",
         "orientation": "v",
         "showlegend": true,
         "type": "scatter",
         "x": [
          2008,
          2011,
          2014,
          2017,
          2020
         ],
         "xaxis": "x",
         "y": [
          23.92392637,
          21.93132446,
          18.68714965,
          13.70346453,
          7.732629621
         ],
         "yaxis": "y"
        },
        {
         "hovertemplate": "<b>%{hovertext}</b><br><br>State=CO<br>=%{x}<br>Tons of annual emissions per 100k of population=%{y}<extra></extra>",
         "hovertext": [
          "High CAV adoption",
          "High CAV adoption",
          "High CAV adoption",
          "High CAV adoption",
          "High CAV adoption"
         ],
         "legendgroup": "CO",
         "line": {
          "color": "#FFA15A",
          "dash": "solid"
         },
         "marker": {
          "symbol": "circle"
         },
         "mode": "lines",
         "name": "CO",
         "orientation": "v",
         "showlegend": true,
         "type": "scatter",
         "x": [
          2008,
          2011,
          2014,
          2017,
          2020
         ],
         "xaxis": "x",
         "y": [
          26.6457759,
          26.89704049,
          22.42946298,
          16.20382125,
          9.096355615
         ],
         "yaxis": "y"
        },
        {
         "hovertemplate": "<b>%{hovertext}</b><br><br>State=NV<br>=%{x}<br>Tons of annual emissions per 100k of population=%{y}<extra></extra>",
         "hovertext": [
          "High CAV adoption",
          "High CAV adoption",
          "High CAV adoption",
          "High CAV adoption",
          "High CAV adoption"
         ],
         "legendgroup": "NV",
         "line": {
          "color": "#19d3f3",
          "dash": "solid"
         },
         "marker": {
          "symbol": "circle"
         },
         "mode": "lines",
         "name": "NV",
         "orientation": "v",
         "showlegend": true,
         "type": "scatter",
         "x": [
          2008,
          2011,
          2014,
          2017,
          2020
         ],
         "xaxis": "x",
         "y": [
          21.63957906,
          21.75763057,
          16.63380768,
          13.02156961,
          7.483773535
         ],
         "yaxis": "y"
        },
        {
         "hovertemplate": "<b>%{hovertext}</b><br><br>State=ND<br>=%{x}<br>Tons of annual emissions per 100k of population=%{y}<extra></extra>",
         "hovertext": [
          "Low CAV adoption",
          "Low CAV adoption",
          "Low CAV adoption",
          "Low CAV adoption",
          "Low CAV adoption"
         ],
         "legendgroup": "ND",
         "line": {
          "color": "#FF6692",
          "dash": "solid"
         },
         "marker": {
          "symbol": "circle"
         },
         "mode": "lines",
         "name": "ND",
         "orientation": "v",
         "showlegend": true,
         "type": "scatter",
         "x": [
          2008,
          2011,
          2014,
          2017,
          2020
         ],
         "xaxis": "x",
         "y": [
          31.46307802,
          32.98483823,
          27.08060935,
          19.59414306,
          11.28536256
         ],
         "yaxis": "y"
        },
        {
         "hovertemplate": "<b>%{hovertext}</b><br><br>State=WY<br>=%{x}<br>Tons of annual emissions per 100k of population=%{y}<extra></extra>",
         "hovertext": [
          "Low CAV adoption",
          "Low CAV adoption",
          "Low CAV adoption",
          "Low CAV adoption",
          "Low CAV adoption"
         ],
         "legendgroup": "WY",
         "line": {
          "color": "#B6E880",
          "dash": "solid"
         },
         "marker": {
          "symbol": "circle"
         },
         "mode": "lines",
         "name": "WY",
         "orientation": "v",
         "showlegend": true,
         "type": "scatter",
         "x": [
          2008,
          2011,
          2014,
          2017,
          2020
         ],
         "xaxis": "x",
         "y": [
          45.25772019,
          38.74012175,
          31.65631172,
          24.5493153,
          14.99710867
         ],
         "yaxis": "y"
        },
        {
         "hovertemplate": "<b>%{hovertext}</b><br><br>State=SD<br>=%{x}<br>Tons of annual emissions per 100k of population=%{y}<extra></extra>",
         "hovertext": [
          "Low CAV adoption",
          "Low CAV adoption",
          "Low CAV adoption",
          "Low CAV adoption",
          "Low CAV adoption"
         ],
         "legendgroup": "SD",
         "line": {
          "color": "#FF97FF",
          "dash": "solid"
         },
         "marker": {
          "symbol": "circle"
         },
         "mode": "lines",
         "name": "SD",
         "orientation": "v",
         "showlegend": true,
         "type": "scatter",
         "x": [
          2008,
          2011,
          2014,
          2017,
          2020
         ],
         "xaxis": "x",
         "y": [
          29.423289,
          34.96335284,
          28.30387072,
          20.99965563,
          11.87815748
         ],
         "yaxis": "y"
        },
        {
         "hovertemplate": "<b>%{hovertext}</b><br><br>State=CA<br>=%{x}<br>Tons of annual emissions per 100k of population=%{y}<extra></extra>",
         "hovertext": [
          "High CAV adoption",
          "High CAV adoption",
          "High CAV adoption"
         ],
         "legendgroup": "CA",
         "line": {
          "color": "#FECB52",
          "dash": "solid"
         },
         "marker": {
          "symbol": "circle"
         },
         "mode": "lines",
         "name": "CA",
         "orientation": "v",
         "showlegend": true,
         "type": "scatter",
         "x": [
          2011,
          2017,
          2020
         ],
         "xaxis": "x",
         "y": [
          21.14528365,
          12.24244149,
          6.593134615
         ],
         "yaxis": "y"
        }
       ],
       "layout": {
        "font": {
         "color": "white"
        },
        "legend": {
         "title": {
          "text": "State"
         },
         "tracegroupgap": 0
        },
        "margin": {
         "t": 60
        },
        "paper_bgcolor": "black",
        "plot_bgcolor": "black",
        "template": {
         "data": {
          "bar": [
           {
            "error_x": {
             "color": "#2a3f5f"
            },
            "error_y": {
             "color": "#2a3f5f"
            },
            "marker": {
             "line": {
              "color": "#E5ECF6",
              "width": 0.5
             },
             "pattern": {
              "fillmode": "overlay",
              "size": 10,
              "solidity": 0.2
             }
            },
            "type": "bar"
           }
          ],
          "barpolar": [
           {
            "marker": {
             "line": {
              "color": "#E5ECF6",
              "width": 0.5
             },
             "pattern": {
              "fillmode": "overlay",
              "size": 10,
              "solidity": 0.2
             }
            },
            "type": "barpolar"
           }
          ],
          "carpet": [
           {
            "aaxis": {
             "endlinecolor": "#2a3f5f",
             "gridcolor": "white",
             "linecolor": "white",
             "minorgridcolor": "white",
             "startlinecolor": "#2a3f5f"
            },
            "baxis": {
             "endlinecolor": "#2a3f5f",
             "gridcolor": "white",
             "linecolor": "white",
             "minorgridcolor": "white",
             "startlinecolor": "#2a3f5f"
            },
            "type": "carpet"
           }
          ],
          "choropleth": [
           {
            "colorbar": {
             "outlinewidth": 0,
             "ticks": ""
            },
            "type": "choropleth"
           }
          ],
          "contour": [
           {
            "colorbar": {
             "outlinewidth": 0,
             "ticks": ""
            },
            "colorscale": [
             [
              0,
              "#0d0887"
             ],
             [
              0.1111111111111111,
              "#46039f"
             ],
             [
              0.2222222222222222,
              "#7201a8"
             ],
             [
              0.3333333333333333,
              "#9c179e"
             ],
             [
              0.4444444444444444,
              "#bd3786"
             ],
             [
              0.5555555555555556,
              "#d8576b"
             ],
             [
              0.6666666666666666,
              "#ed7953"
             ],
             [
              0.7777777777777778,
              "#fb9f3a"
             ],
             [
              0.8888888888888888,
              "#fdca26"
             ],
             [
              1,
              "#f0f921"
             ]
            ],
            "type": "contour"
           }
          ],
          "contourcarpet": [
           {
            "colorbar": {
             "outlinewidth": 0,
             "ticks": ""
            },
            "type": "contourcarpet"
           }
          ],
          "heatmap": [
           {
            "colorbar": {
             "outlinewidth": 0,
             "ticks": ""
            },
            "colorscale": [
             [
              0,
              "#0d0887"
             ],
             [
              0.1111111111111111,
              "#46039f"
             ],
             [
              0.2222222222222222,
              "#7201a8"
             ],
             [
              0.3333333333333333,
              "#9c179e"
             ],
             [
              0.4444444444444444,
              "#bd3786"
             ],
             [
              0.5555555555555556,
              "#d8576b"
             ],
             [
              0.6666666666666666,
              "#ed7953"
             ],
             [
              0.7777777777777778,
              "#fb9f3a"
             ],
             [
              0.8888888888888888,
              "#fdca26"
             ],
             [
              1,
              "#f0f921"
             ]
            ],
            "type": "heatmap"
           }
          ],
          "heatmapgl": [
           {
            "colorbar": {
             "outlinewidth": 0,
             "ticks": ""
            },
            "colorscale": [
             [
              0,
              "#0d0887"
             ],
             [
              0.1111111111111111,
              "#46039f"
             ],
             [
              0.2222222222222222,
              "#7201a8"
             ],
             [
              0.3333333333333333,
              "#9c179e"
             ],
             [
              0.4444444444444444,
              "#bd3786"
             ],
             [
              0.5555555555555556,
              "#d8576b"
             ],
             [
              0.6666666666666666,
              "#ed7953"
             ],
             [
              0.7777777777777778,
              "#fb9f3a"
             ],
             [
              0.8888888888888888,
              "#fdca26"
             ],
             [
              1,
              "#f0f921"
             ]
            ],
            "type": "heatmapgl"
           }
          ],
          "histogram": [
           {
            "marker": {
             "pattern": {
              "fillmode": "overlay",
              "size": 10,
              "solidity": 0.2
             }
            },
            "type": "histogram"
           }
          ],
          "histogram2d": [
           {
            "colorbar": {
             "outlinewidth": 0,
             "ticks": ""
            },
            "colorscale": [
             [
              0,
              "#0d0887"
             ],
             [
              0.1111111111111111,
              "#46039f"
             ],
             [
              0.2222222222222222,
              "#7201a8"
             ],
             [
              0.3333333333333333,
              "#9c179e"
             ],
             [
              0.4444444444444444,
              "#bd3786"
             ],
             [
              0.5555555555555556,
              "#d8576b"
             ],
             [
              0.6666666666666666,
              "#ed7953"
             ],
             [
              0.7777777777777778,
              "#fb9f3a"
             ],
             [
              0.8888888888888888,
              "#fdca26"
             ],
             [
              1,
              "#f0f921"
             ]
            ],
            "type": "histogram2d"
           }
          ],
          "histogram2dcontour": [
           {
            "colorbar": {
             "outlinewidth": 0,
             "ticks": ""
            },
            "colorscale": [
             [
              0,
              "#0d0887"
             ],
             [
              0.1111111111111111,
              "#46039f"
             ],
             [
              0.2222222222222222,
              "#7201a8"
             ],
             [
              0.3333333333333333,
              "#9c179e"
             ],
             [
              0.4444444444444444,
              "#bd3786"
             ],
             [
              0.5555555555555556,
              "#d8576b"
             ],
             [
              0.6666666666666666,
              "#ed7953"
             ],
             [
              0.7777777777777778,
              "#fb9f3a"
             ],
             [
              0.8888888888888888,
              "#fdca26"
             ],
             [
              1,
              "#f0f921"
             ]
            ],
            "type": "histogram2dcontour"
           }
          ],
          "mesh3d": [
           {
            "colorbar": {
             "outlinewidth": 0,
             "ticks": ""
            },
            "type": "mesh3d"
           }
          ],
          "parcoords": [
           {
            "line": {
             "colorbar": {
              "outlinewidth": 0,
              "ticks": ""
             }
            },
            "type": "parcoords"
           }
          ],
          "pie": [
           {
            "automargin": true,
            "type": "pie"
           }
          ],
          "scatter": [
           {
            "fillpattern": {
             "fillmode": "overlay",
             "size": 10,
             "solidity": 0.2
            },
            "type": "scatter"
           }
          ],
          "scatter3d": [
           {
            "line": {
             "colorbar": {
              "outlinewidth": 0,
              "ticks": ""
             }
            },
            "marker": {
             "colorbar": {
              "outlinewidth": 0,
              "ticks": ""
             }
            },
            "type": "scatter3d"
           }
          ],
          "scattercarpet": [
           {
            "marker": {
             "colorbar": {
              "outlinewidth": 0,
              "ticks": ""
             }
            },
            "type": "scattercarpet"
           }
          ],
          "scattergeo": [
           {
            "marker": {
             "colorbar": {
              "outlinewidth": 0,
              "ticks": ""
             }
            },
            "type": "scattergeo"
           }
          ],
          "scattergl": [
           {
            "marker": {
             "colorbar": {
              "outlinewidth": 0,
              "ticks": ""
             }
            },
            "type": "scattergl"
           }
          ],
          "scattermapbox": [
           {
            "marker": {
             "colorbar": {
              "outlinewidth": 0,
              "ticks": ""
             }
            },
            "type": "scattermapbox"
           }
          ],
          "scatterpolar": [
           {
            "marker": {
             "colorbar": {
              "outlinewidth": 0,
              "ticks": ""
             }
            },
            "type": "scatterpolar"
           }
          ],
          "scatterpolargl": [
           {
            "marker": {
             "colorbar": {
              "outlinewidth": 0,
              "ticks": ""
             }
            },
            "type": "scatterpolargl"
           }
          ],
          "scatterternary": [
           {
            "marker": {
             "colorbar": {
              "outlinewidth": 0,
              "ticks": ""
             }
            },
            "type": "scatterternary"
           }
          ],
          "surface": [
           {
            "colorbar": {
             "outlinewidth": 0,
             "ticks": ""
            },
            "colorscale": [
             [
              0,
              "#0d0887"
             ],
             [
              0.1111111111111111,
              "#46039f"
             ],
             [
              0.2222222222222222,
              "#7201a8"
             ],
             [
              0.3333333333333333,
              "#9c179e"
             ],
             [
              0.4444444444444444,
              "#bd3786"
             ],
             [
              0.5555555555555556,
              "#d8576b"
             ],
             [
              0.6666666666666666,
              "#ed7953"
             ],
             [
              0.7777777777777778,
              "#fb9f3a"
             ],
             [
              0.8888888888888888,
              "#fdca26"
             ],
             [
              1,
              "#f0f921"
             ]
            ],
            "type": "surface"
           }
          ],
          "table": [
           {
            "cells": {
             "fill": {
              "color": "#EBF0F8"
             },
             "line": {
              "color": "white"
             }
            },
            "header": {
             "fill": {
              "color": "#C8D4E3"
             },
             "line": {
              "color": "white"
             }
            },
            "type": "table"
           }
          ]
         },
         "layout": {
          "annotationdefaults": {
           "arrowcolor": "#2a3f5f",
           "arrowhead": 0,
           "arrowwidth": 1
          },
          "autotypenumbers": "strict",
          "coloraxis": {
           "colorbar": {
            "outlinewidth": 0,
            "ticks": ""
           }
          },
          "colorscale": {
           "diverging": [
            [
             0,
             "#8e0152"
            ],
            [
             0.1,
             "#c51b7d"
            ],
            [
             0.2,
             "#de77ae"
            ],
            [
             0.3,
             "#f1b6da"
            ],
            [
             0.4,
             "#fde0ef"
            ],
            [
             0.5,
             "#f7f7f7"
            ],
            [
             0.6,
             "#e6f5d0"
            ],
            [
             0.7,
             "#b8e186"
            ],
            [
             0.8,
             "#7fbc41"
            ],
            [
             0.9,
             "#4d9221"
            ],
            [
             1,
             "#276419"
            ]
           ],
           "sequential": [
            [
             0,
             "#0d0887"
            ],
            [
             0.1111111111111111,
             "#46039f"
            ],
            [
             0.2222222222222222,
             "#7201a8"
            ],
            [
             0.3333333333333333,
             "#9c179e"
            ],
            [
             0.4444444444444444,
             "#bd3786"
            ],
            [
             0.5555555555555556,
             "#d8576b"
            ],
            [
             0.6666666666666666,
             "#ed7953"
            ],
            [
             0.7777777777777778,
             "#fb9f3a"
            ],
            [
             0.8888888888888888,
             "#fdca26"
            ],
            [
             1,
             "#f0f921"
            ]
           ],
           "sequentialminus": [
            [
             0,
             "#0d0887"
            ],
            [
             0.1111111111111111,
             "#46039f"
            ],
            [
             0.2222222222222222,
             "#7201a8"
            ],
            [
             0.3333333333333333,
             "#9c179e"
            ],
            [
             0.4444444444444444,
             "#bd3786"
            ],
            [
             0.5555555555555556,
             "#d8576b"
            ],
            [
             0.6666666666666666,
             "#ed7953"
            ],
            [
             0.7777777777777778,
             "#fb9f3a"
            ],
            [
             0.8888888888888888,
             "#fdca26"
            ],
            [
             1,
             "#f0f921"
            ]
           ]
          },
          "colorway": [
           "#636efa",
           "#EF553B",
           "#00cc96",
           "#ab63fa",
           "#FFA15A",
           "#19d3f3",
           "#FF6692",
           "#B6E880",
           "#FF97FF",
           "#FECB52"
          ],
          "font": {
           "color": "#2a3f5f"
          },
          "geo": {
           "bgcolor": "white",
           "lakecolor": "white",
           "landcolor": "#E5ECF6",
           "showlakes": true,
           "showland": true,
           "subunitcolor": "white"
          },
          "hoverlabel": {
           "align": "left"
          },
          "hovermode": "closest",
          "mapbox": {
           "style": "light"
          },
          "paper_bgcolor": "white",
          "plot_bgcolor": "#E5ECF6",
          "polar": {
           "angularaxis": {
            "gridcolor": "white",
            "linecolor": "white",
            "ticks": ""
           },
           "bgcolor": "#E5ECF6",
           "radialaxis": {
            "gridcolor": "white",
            "linecolor": "white",
            "ticks": ""
           }
          },
          "scene": {
           "xaxis": {
            "backgroundcolor": "#E5ECF6",
            "gridcolor": "white",
            "gridwidth": 2,
            "linecolor": "white",
            "showbackground": true,
            "ticks": "",
            "zerolinecolor": "white"
           },
           "yaxis": {
            "backgroundcolor": "#E5ECF6",
            "gridcolor": "white",
            "gridwidth": 2,
            "linecolor": "white",
            "showbackground": true,
            "ticks": "",
            "zerolinecolor": "white"
           },
           "zaxis": {
            "backgroundcolor": "#E5ECF6",
            "gridcolor": "white",
            "gridwidth": 2,
            "linecolor": "white",
            "showbackground": true,
            "ticks": "",
            "zerolinecolor": "white"
           }
          },
          "shapedefaults": {
           "line": {
            "color": "#2a3f5f"
           }
          },
          "ternary": {
           "aaxis": {
            "gridcolor": "white",
            "linecolor": "white",
            "ticks": ""
           },
           "baxis": {
            "gridcolor": "white",
            "linecolor": "white",
            "ticks": ""
           },
           "bgcolor": "#E5ECF6",
           "caxis": {
            "gridcolor": "white",
            "linecolor": "white",
            "ticks": ""
           }
          },
          "title": {
           "x": 0.05
          },
          "xaxis": {
           "automargin": true,
           "gridcolor": "white",
           "linecolor": "white",
           "ticks": "",
           "title": {
            "standoff": 15
           },
           "zerolinecolor": "white",
           "zerolinewidth": 2
          },
          "yaxis": {
           "automargin": true,
           "gridcolor": "white",
           "linecolor": "white",
           "ticks": "",
           "title": {
            "standoff": 15
           },
           "zerolinecolor": "white",
           "zerolinewidth": 2
          }
         }
        },
        "title": {
         "text": "Nitrous Oxide emisions per 100k of population"
        },
        "xaxis": {
         "anchor": "y",
         "domain": [
          0,
          1
         ],
         "title": {
          "text": ""
         }
        },
        "yaxis": {
         "anchor": "x",
         "domain": [
          0,
          1
         ],
         "title": {
          "text": "Tons of annual emissions per 100k of population"
         }
        }
       }
      },
      "text/html": [
       "<div>                            <div id=\"2c63d765-d5dc-441d-bbb0-9c8c1fb5587f\" class=\"plotly-graph-div\" style=\"height:525px; width:100%;\"></div>            <script type=\"text/javascript\">                require([\"plotly\"], function(Plotly) {                    window.PLOTLYENV=window.PLOTLYENV || {};                                    if (document.getElementById(\"2c63d765-d5dc-441d-bbb0-9c8c1fb5587f\")) {                    Plotly.newPlot(                        \"2c63d765-d5dc-441d-bbb0-9c8c1fb5587f\",                        [{\"hovertemplate\":\"<b>%{hovertext}</b><br><br>State=VT<br>=%{x}<br>Tons of annual emissions per 100k of population=%{y}<extra></extra>\",\"hovertext\":[\"High CAV adoption\",\"High CAV adoption\",\"High CAV adoption\",\"High CAV adoption\",\"High CAV adoption\"],\"legendgroup\":\"VT\",\"line\":{\"color\":\"#636efa\",\"dash\":\"solid\"},\"marker\":{\"symbol\":\"circle\"},\"mode\":\"lines\",\"name\":\"VT\",\"orientation\":\"v\",\"showlegend\":true,\"x\":[2008,2011,2014,2017,2020],\"xaxis\":\"x\",\"y\":[26.20334599,20.83061072,17.42565304,12.08971776,8.10466518],\"yaxis\":\"y\",\"type\":\"scatter\"},{\"hovertemplate\":\"<b>%{hovertext}</b><br><br>State=MA<br>=%{x}<br>Tons of annual emissions per 100k of population=%{y}<extra></extra>\",\"hovertext\":[\"High CAV adoption\",\"High CAV adoption\",\"High CAV adoption\",\"High CAV adoption\",\"High CAV adoption\"],\"legendgroup\":\"MA\",\"line\":{\"color\":\"#EF553B\",\"dash\":\"solid\"},\"marker\":{\"symbol\":\"circle\"},\"mode\":\"lines\",\"name\":\"MA\",\"orientation\":\"v\",\"showlegend\":true,\"x\":[2008,2011,2014,2017,2020],\"xaxis\":\"x\",\"y\":[19.34852409,16.18112187,12.49334396,10.29169351,6.211924492],\"yaxis\":\"y\",\"type\":\"scatter\"},{\"hovertemplate\":\"<b>%{hovertext}</b><br><br>State=MD<br>=%{x}<br>Tons of annual emissions per 100k of population=%{y}<extra></extra>\",\"hovertext\":[\"High CAV adoption\",\"High CAV adoption\",\"High CAV adoption\",\"High CAV adoption\",\"High CAV adoption\"],\"legendgroup\":\"MD\",\"line\":{\"color\":\"#00cc96\",\"dash\":\"solid\"},\"marker\":{\"symbol\":\"circle\"},\"mode\":\"lines\",\"name\":\"MD\",\"orientation\":\"v\",\"showlegend\":true,\"x\":[2008,2011,2014,2017,2020],\"xaxis\":\"x\",\"y\":[24.37234015,17.21935994,14.70202815,10.77145765,6.970713243],\"yaxis\":\"y\",\"type\":\"scatter\"},{\"hovertemplate\":\"<b>%{hovertext}</b><br><br>State=VA<br>=%{x}<br>Tons of annual emissions per 100k of population=%{y}<extra></extra>\",\"hovertext\":[\"High CAV adoption\",\"High CAV adoption\",\"High CAV adoption\",\"High CAV adoption\",\"High CAV adoption\"],\"legendgroup\":\"VA\",\"line\":{\"color\":\"#ab63fa\",\"dash\":\"solid\"},\"marker\":{\"symbol\":\"circle\"},\"mode\":\"lines\",\"name\":\"VA\",\"orientation\":\"v\",\"showlegend\":true,\"x\":[2008,2011,2014,2017,2020],\"xaxis\":\"x\",\"y\":[32.25872684,20.41211115,18.28199176,15.54122545,8.441257319],\"yaxis\":\"y\",\"type\":\"scatter\"},{\"hovertemplate\":\"<b>%{hovertext}</b><br><br>State=WV<br>=%{x}<br>Tons of annual emissions per 100k of population=%{y}<extra></extra>\",\"hovertext\":[\"Low CAV adoption\",\"Low CAV adoption\",\"Low CAV adoption\",\"Low CAV adoption\",\"Low CAV adoption\"],\"legendgroup\":\"WV\",\"line\":{\"color\":\"#FFA15A\",\"dash\":\"solid\"},\"marker\":{\"symbol\":\"circle\"},\"mode\":\"lines\",\"name\":\"WV\",\"orientation\":\"v\",\"showlegend\":true,\"x\":[2008,2011,2014,2017,2020],\"xaxis\":\"x\",\"y\":[32.58715255,24.9194179,19.33479619,17.07558035,8.165312836],\"yaxis\":\"y\",\"type\":\"scatter\"},{\"hovertemplate\":\"<b>%{hovertext}</b><br><br>State=AL<br>=%{x}<br>Tons of annual emissions per 100k of population=%{y}<extra></extra>\",\"hovertext\":[\"Low CAV adoption\",\"Low CAV adoption\",\"Low CAV adoption\",\"Low CAV adoption\",\"Low CAV adoption\"],\"legendgroup\":\"AL\",\"line\":{\"color\":\"#19d3f3\",\"dash\":\"solid\"},\"marker\":{\"symbol\":\"circle\"},\"mode\":\"lines\",\"name\":\"AL\",\"orientation\":\"v\",\"showlegend\":true,\"x\":[2008,2011,2014,2017,2020],\"xaxis\":\"x\",\"y\":[34.70891157,32.3822031,28.11741222,21.30292257,12.21760809],\"yaxis\":\"y\",\"type\":\"scatter\"},{\"hovertemplate\":\"<b>%{hovertext}</b><br><br>State=KY<br>=%{x}<br>Tons of annual emissions per 100k of population=%{y}<extra></extra>\",\"hovertext\":[\"Low CAV adoption\",\"Low CAV adoption\",\"Low CAV adoption\",\"Low CAV adoption\",\"Low CAV adoption\"],\"legendgroup\":\"KY\",\"line\":{\"color\":\"#FF6692\",\"dash\":\"solid\"},\"marker\":{\"symbol\":\"circle\"},\"mode\":\"lines\",\"name\":\"KY\",\"orientation\":\"v\",\"showlegend\":true,\"x\":[2008,2011,2014,2017,2020],\"xaxis\":\"x\",\"y\":[29.49612977,26.0582041,22.67220457,16.67163797,9.61916224],\"yaxis\":\"y\",\"type\":\"scatter\"},{\"hovertemplate\":\"<b>%{hovertext}</b><br><br>State=MI<br>=%{x}<br>Tons of annual emissions per 100k of population=%{y}<extra></extra>\",\"hovertext\":[\"Low CAV adoption\",\"Low CAV adoption\",\"Low CAV adoption\",\"Low CAV adoption\",\"Low CAV adoption\"],\"legendgroup\":\"MI\",\"line\":{\"color\":\"#B6E880\",\"dash\":\"solid\"},\"marker\":{\"symbol\":\"circle\"},\"mode\":\"lines\",\"name\":\"MI\",\"orientation\":\"v\",\"showlegend\":true,\"x\":[2008,2011,2014,2017,2020],\"xaxis\":\"x\",\"y\":[30.50035771,22.19051746,17.57474053,13.29151819,7.475735797],\"yaxis\":\"y\",\"type\":\"scatter\"},{\"hovertemplate\":\"<b>%{hovertext}</b><br><br>State=LA<br>=%{x}<br>Tons of annual emissions per 100k of population=%{y}<extra></extra>\",\"hovertext\":[\"Low CAV adoption\",\"Low CAV adoption\",\"Low CAV adoption\",\"Low CAV adoption\",\"Low CAV adoption\"],\"legendgroup\":\"LA\",\"line\":{\"color\":\"#FF97FF\",\"dash\":\"solid\"},\"marker\":{\"symbol\":\"circle\"},\"mode\":\"lines\",\"name\":\"LA\",\"orientation\":\"v\",\"showlegend\":true,\"x\":[2008,2011,2014,2017,2020],\"xaxis\":\"x\",\"y\":[28.92129845,23.94074714,18.67034578,13.96687934,8.308996888],\"yaxis\":\"y\",\"type\":\"scatter\"},{\"hovertemplate\":\"<b>%{hovertext}</b><br><br>State=AR<br>=%{x}<br>Tons of annual emissions per 100k of population=%{y}<extra></extra>\",\"hovertext\":[\"Low CAV adoption\",\"Low CAV adoption\",\"Low CAV adoption\",\"Low CAV adoption\",\"Low CAV adoption\"],\"legendgroup\":\"AR\",\"line\":{\"color\":\"#FECB52\",\"dash\":\"solid\"},\"marker\":{\"symbol\":\"circle\"},\"mode\":\"lines\",\"name\":\"AR\",\"orientation\":\"v\",\"showlegend\":true,\"x\":[2008,2011,2014,2017,2020],\"xaxis\":\"x\",\"y\":[36.63432565,25.37949487,23.0653895,15.62944724,9.089891727],\"yaxis\":\"y\",\"type\":\"scatter\"},{\"hovertemplate\":\"<b>%{hovertext}</b><br><br>State=OK<br>=%{x}<br>Tons of annual emissions per 100k of population=%{y}<extra></extra>\",\"hovertext\":[\"Low CAV adoption\",\"Low CAV adoption\",\"Low CAV adoption\",\"Low CAV adoption\",\"Low CAV adoption\"],\"legendgroup\":\"OK\",\"line\":{\"color\":\"#636efa\",\"dash\":\"solid\"},\"marker\":{\"symbol\":\"circle\"},\"mode\":\"lines\",\"name\":\"OK\",\"orientation\":\"v\",\"showlegend\":true,\"x\":[2008,2011,2014,2017,2020],\"xaxis\":\"x\",\"y\":[38.91966019,31.64738495,23.55720037,20.76568741,11.76963256],\"yaxis\":\"y\",\"type\":\"scatter\"},{\"hovertemplate\":\"<b>%{hovertext}</b><br><br>State=WA<br>=%{x}<br>Tons of annual emissions per 100k of population=%{y}<extra></extra>\",\"hovertext\":[\"High CAV adoption\",\"High CAV adoption\",\"High CAV adoption\",\"High CAV adoption\",\"High CAV adoption\"],\"legendgroup\":\"WA\",\"line\":{\"color\":\"#EF553B\",\"dash\":\"solid\"},\"marker\":{\"symbol\":\"circle\"},\"mode\":\"lines\",\"name\":\"WA\",\"orientation\":\"v\",\"showlegend\":true,\"x\":[2008,2011,2014,2017,2020],\"xaxis\":\"x\",\"y\":[32.54935512,27.82988012,23.21550273,19.4520057,9.821613894],\"yaxis\":\"y\",\"type\":\"scatter\"},{\"hovertemplate\":\"<b>%{hovertext}</b><br><br>State=OR<br>=%{x}<br>Tons of annual emissions per 100k of population=%{y}<extra></extra>\",\"hovertext\":[\"High CAV adoption\",\"High CAV adoption\",\"High CAV adoption\",\"High CAV adoption\",\"High CAV adoption\"],\"legendgroup\":\"OR\",\"line\":{\"color\":\"#00cc96\",\"dash\":\"solid\"},\"marker\":{\"symbol\":\"circle\"},\"mode\":\"lines\",\"name\":\"OR\",\"orientation\":\"v\",\"showlegend\":true,\"x\":[2008,2011,2014,2017,2020],\"xaxis\":\"x\",\"y\":[32.21592369,30.08054987,24.07762134,18.97034636,14.60834306],\"yaxis\":\"y\",\"type\":\"scatter\"},{\"hovertemplate\":\"<b>%{hovertext}</b><br><br>State=HI<br>=%{x}<br>Tons of annual emissions per 100k of population=%{y}<extra></extra>\",\"hovertext\":[\"High CAV adoption\",\"High CAV adoption\",\"High CAV adoption\",\"High CAV adoption\",\"High CAV adoption\"],\"legendgroup\":\"HI\",\"line\":{\"color\":\"#ab63fa\",\"dash\":\"solid\"},\"marker\":{\"symbol\":\"circle\"},\"mode\":\"lines\",\"name\":\"HI\",\"orientation\":\"v\",\"showlegend\":true,\"x\":[2008,2011,2014,2017,2020],\"xaxis\":\"x\",\"y\":[23.92392637,21.93132446,18.68714965,13.70346453,7.732629621],\"yaxis\":\"y\",\"type\":\"scatter\"},{\"hovertemplate\":\"<b>%{hovertext}</b><br><br>State=CO<br>=%{x}<br>Tons of annual emissions per 100k of population=%{y}<extra></extra>\",\"hovertext\":[\"High CAV adoption\",\"High CAV adoption\",\"High CAV adoption\",\"High CAV adoption\",\"High CAV adoption\"],\"legendgroup\":\"CO\",\"line\":{\"color\":\"#FFA15A\",\"dash\":\"solid\"},\"marker\":{\"symbol\":\"circle\"},\"mode\":\"lines\",\"name\":\"CO\",\"orientation\":\"v\",\"showlegend\":true,\"x\":[2008,2011,2014,2017,2020],\"xaxis\":\"x\",\"y\":[26.6457759,26.89704049,22.42946298,16.20382125,9.096355615],\"yaxis\":\"y\",\"type\":\"scatter\"},{\"hovertemplate\":\"<b>%{hovertext}</b><br><br>State=NV<br>=%{x}<br>Tons of annual emissions per 100k of population=%{y}<extra></extra>\",\"hovertext\":[\"High CAV adoption\",\"High CAV adoption\",\"High CAV adoption\",\"High CAV adoption\",\"High CAV adoption\"],\"legendgroup\":\"NV\",\"line\":{\"color\":\"#19d3f3\",\"dash\":\"solid\"},\"marker\":{\"symbol\":\"circle\"},\"mode\":\"lines\",\"name\":\"NV\",\"orientation\":\"v\",\"showlegend\":true,\"x\":[2008,2011,2014,2017,2020],\"xaxis\":\"x\",\"y\":[21.63957906,21.75763057,16.63380768,13.02156961,7.483773535],\"yaxis\":\"y\",\"type\":\"scatter\"},{\"hovertemplate\":\"<b>%{hovertext}</b><br><br>State=ND<br>=%{x}<br>Tons of annual emissions per 100k of population=%{y}<extra></extra>\",\"hovertext\":[\"Low CAV adoption\",\"Low CAV adoption\",\"Low CAV adoption\",\"Low CAV adoption\",\"Low CAV adoption\"],\"legendgroup\":\"ND\",\"line\":{\"color\":\"#FF6692\",\"dash\":\"solid\"},\"marker\":{\"symbol\":\"circle\"},\"mode\":\"lines\",\"name\":\"ND\",\"orientation\":\"v\",\"showlegend\":true,\"x\":[2008,2011,2014,2017,2020],\"xaxis\":\"x\",\"y\":[31.46307802,32.98483823,27.08060935,19.59414306,11.28536256],\"yaxis\":\"y\",\"type\":\"scatter\"},{\"hovertemplate\":\"<b>%{hovertext}</b><br><br>State=WY<br>=%{x}<br>Tons of annual emissions per 100k of population=%{y}<extra></extra>\",\"hovertext\":[\"Low CAV adoption\",\"Low CAV adoption\",\"Low CAV adoption\",\"Low CAV adoption\",\"Low CAV adoption\"],\"legendgroup\":\"WY\",\"line\":{\"color\":\"#B6E880\",\"dash\":\"solid\"},\"marker\":{\"symbol\":\"circle\"},\"mode\":\"lines\",\"name\":\"WY\",\"orientation\":\"v\",\"showlegend\":true,\"x\":[2008,2011,2014,2017,2020],\"xaxis\":\"x\",\"y\":[45.25772019,38.74012175,31.65631172,24.5493153,14.99710867],\"yaxis\":\"y\",\"type\":\"scatter\"},{\"hovertemplate\":\"<b>%{hovertext}</b><br><br>State=SD<br>=%{x}<br>Tons of annual emissions per 100k of population=%{y}<extra></extra>\",\"hovertext\":[\"Low CAV adoption\",\"Low CAV adoption\",\"Low CAV adoption\",\"Low CAV adoption\",\"Low CAV adoption\"],\"legendgroup\":\"SD\",\"line\":{\"color\":\"#FF97FF\",\"dash\":\"solid\"},\"marker\":{\"symbol\":\"circle\"},\"mode\":\"lines\",\"name\":\"SD\",\"orientation\":\"v\",\"showlegend\":true,\"x\":[2008,2011,2014,2017,2020],\"xaxis\":\"x\",\"y\":[29.423289,34.96335284,28.30387072,20.99965563,11.87815748],\"yaxis\":\"y\",\"type\":\"scatter\"},{\"hovertemplate\":\"<b>%{hovertext}</b><br><br>State=CA<br>=%{x}<br>Tons of annual emissions per 100k of population=%{y}<extra></extra>\",\"hovertext\":[\"High CAV adoption\",\"High CAV adoption\",\"High CAV adoption\"],\"legendgroup\":\"CA\",\"line\":{\"color\":\"#FECB52\",\"dash\":\"solid\"},\"marker\":{\"symbol\":\"circle\"},\"mode\":\"lines\",\"name\":\"CA\",\"orientation\":\"v\",\"showlegend\":true,\"x\":[2011,2017,2020],\"xaxis\":\"x\",\"y\":[21.14528365,12.24244149,6.593134615],\"yaxis\":\"y\",\"type\":\"scatter\"}],                        {\"template\":{\"data\":{\"histogram2dcontour\":[{\"type\":\"histogram2dcontour\",\"colorbar\":{\"outlinewidth\":0,\"ticks\":\"\"},\"colorscale\":[[0.0,\"#0d0887\"],[0.1111111111111111,\"#46039f\"],[0.2222222222222222,\"#7201a8\"],[0.3333333333333333,\"#9c179e\"],[0.4444444444444444,\"#bd3786\"],[0.5555555555555556,\"#d8576b\"],[0.6666666666666666,\"#ed7953\"],[0.7777777777777778,\"#fb9f3a\"],[0.8888888888888888,\"#fdca26\"],[1.0,\"#f0f921\"]]}],\"choropleth\":[{\"type\":\"choropleth\",\"colorbar\":{\"outlinewidth\":0,\"ticks\":\"\"}}],\"histogram2d\":[{\"type\":\"histogram2d\",\"colorbar\":{\"outlinewidth\":0,\"ticks\":\"\"},\"colorscale\":[[0.0,\"#0d0887\"],[0.1111111111111111,\"#46039f\"],[0.2222222222222222,\"#7201a8\"],[0.3333333333333333,\"#9c179e\"],[0.4444444444444444,\"#bd3786\"],[0.5555555555555556,\"#d8576b\"],[0.6666666666666666,\"#ed7953\"],[0.7777777777777778,\"#fb9f3a\"],[0.8888888888888888,\"#fdca26\"],[1.0,\"#f0f921\"]]}],\"heatmap\":[{\"type\":\"heatmap\",\"colorbar\":{\"outlinewidth\":0,\"ticks\":\"\"},\"colorscale\":[[0.0,\"#0d0887\"],[0.1111111111111111,\"#46039f\"],[0.2222222222222222,\"#7201a8\"],[0.3333333333333333,\"#9c179e\"],[0.4444444444444444,\"#bd3786\"],[0.5555555555555556,\"#d8576b\"],[0.6666666666666666,\"#ed7953\"],[0.7777777777777778,\"#fb9f3a\"],[0.8888888888888888,\"#fdca26\"],[1.0,\"#f0f921\"]]}],\"heatmapgl\":[{\"type\":\"heatmapgl\",\"colorbar\":{\"outlinewidth\":0,\"ticks\":\"\"},\"colorscale\":[[0.0,\"#0d0887\"],[0.1111111111111111,\"#46039f\"],[0.2222222222222222,\"#7201a8\"],[0.3333333333333333,\"#9c179e\"],[0.4444444444444444,\"#bd3786\"],[0.5555555555555556,\"#d8576b\"],[0.6666666666666666,\"#ed7953\"],[0.7777777777777778,\"#fb9f3a\"],[0.8888888888888888,\"#fdca26\"],[1.0,\"#f0f921\"]]}],\"contourcarpet\":[{\"type\":\"contourcarpet\",\"colorbar\":{\"outlinewidth\":0,\"ticks\":\"\"}}],\"contour\":[{\"type\":\"contour\",\"colorbar\":{\"outlinewidth\":0,\"ticks\":\"\"},\"colorscale\":[[0.0,\"#0d0887\"],[0.1111111111111111,\"#46039f\"],[0.2222222222222222,\"#7201a8\"],[0.3333333333333333,\"#9c179e\"],[0.4444444444444444,\"#bd3786\"],[0.5555555555555556,\"#d8576b\"],[0.6666666666666666,\"#ed7953\"],[0.7777777777777778,\"#fb9f3a\"],[0.8888888888888888,\"#fdca26\"],[1.0,\"#f0f921\"]]}],\"surface\":[{\"type\":\"surface\",\"colorbar\":{\"outlinewidth\":0,\"ticks\":\"\"},\"colorscale\":[[0.0,\"#0d0887\"],[0.1111111111111111,\"#46039f\"],[0.2222222222222222,\"#7201a8\"],[0.3333333333333333,\"#9c179e\"],[0.4444444444444444,\"#bd3786\"],[0.5555555555555556,\"#d8576b\"],[0.6666666666666666,\"#ed7953\"],[0.7777777777777778,\"#fb9f3a\"],[0.8888888888888888,\"#fdca26\"],[1.0,\"#f0f921\"]]}],\"mesh3d\":[{\"type\":\"mesh3d\",\"colorbar\":{\"outlinewidth\":0,\"ticks\":\"\"}}],\"scatter\":[{\"fillpattern\":{\"fillmode\":\"overlay\",\"size\":10,\"solidity\":0.2},\"type\":\"scatter\"}],\"parcoords\":[{\"type\":\"parcoords\",\"line\":{\"colorbar\":{\"outlinewidth\":0,\"ticks\":\"\"}}}],\"scatterpolargl\":[{\"type\":\"scatterpolargl\",\"marker\":{\"colorbar\":{\"outlinewidth\":0,\"ticks\":\"\"}}}],\"bar\":[{\"error_x\":{\"color\":\"#2a3f5f\"},\"error_y\":{\"color\":\"#2a3f5f\"},\"marker\":{\"line\":{\"color\":\"#E5ECF6\",\"width\":0.5},\"pattern\":{\"fillmode\":\"overlay\",\"size\":10,\"solidity\":0.2}},\"type\":\"bar\"}],\"scattergeo\":[{\"type\":\"scattergeo\",\"marker\":{\"colorbar\":{\"outlinewidth\":0,\"ticks\":\"\"}}}],\"scatterpolar\":[{\"type\":\"scatterpolar\",\"marker\":{\"colorbar\":{\"outlinewidth\":0,\"ticks\":\"\"}}}],\"histogram\":[{\"marker\":{\"pattern\":{\"fillmode\":\"overlay\",\"size\":10,\"solidity\":0.2}},\"type\":\"histogram\"}],\"scattergl\":[{\"type\":\"scattergl\",\"marker\":{\"colorbar\":{\"outlinewidth\":0,\"ticks\":\"\"}}}],\"scatter3d\":[{\"type\":\"scatter3d\",\"line\":{\"colorbar\":{\"outlinewidth\":0,\"ticks\":\"\"}},\"marker\":{\"colorbar\":{\"outlinewidth\":0,\"ticks\":\"\"}}}],\"scattermapbox\":[{\"type\":\"scattermapbox\",\"marker\":{\"colorbar\":{\"outlinewidth\":0,\"ticks\":\"\"}}}],\"scatterternary\":[{\"type\":\"scatterternary\",\"marker\":{\"colorbar\":{\"outlinewidth\":0,\"ticks\":\"\"}}}],\"scattercarpet\":[{\"type\":\"scattercarpet\",\"marker\":{\"colorbar\":{\"outlinewidth\":0,\"ticks\":\"\"}}}],\"carpet\":[{\"aaxis\":{\"endlinecolor\":\"#2a3f5f\",\"gridcolor\":\"white\",\"linecolor\":\"white\",\"minorgridcolor\":\"white\",\"startlinecolor\":\"#2a3f5f\"},\"baxis\":{\"endlinecolor\":\"#2a3f5f\",\"gridcolor\":\"white\",\"linecolor\":\"white\",\"minorgridcolor\":\"white\",\"startlinecolor\":\"#2a3f5f\"},\"type\":\"carpet\"}],\"table\":[{\"cells\":{\"fill\":{\"color\":\"#EBF0F8\"},\"line\":{\"color\":\"white\"}},\"header\":{\"fill\":{\"color\":\"#C8D4E3\"},\"line\":{\"color\":\"white\"}},\"type\":\"table\"}],\"barpolar\":[{\"marker\":{\"line\":{\"color\":\"#E5ECF6\",\"width\":0.5},\"pattern\":{\"fillmode\":\"overlay\",\"size\":10,\"solidity\":0.2}},\"type\":\"barpolar\"}],\"pie\":[{\"automargin\":true,\"type\":\"pie\"}]},\"layout\":{\"autotypenumbers\":\"strict\",\"colorway\":[\"#636efa\",\"#EF553B\",\"#00cc96\",\"#ab63fa\",\"#FFA15A\",\"#19d3f3\",\"#FF6692\",\"#B6E880\",\"#FF97FF\",\"#FECB52\"],\"font\":{\"color\":\"#2a3f5f\"},\"hovermode\":\"closest\",\"hoverlabel\":{\"align\":\"left\"},\"paper_bgcolor\":\"white\",\"plot_bgcolor\":\"#E5ECF6\",\"polar\":{\"bgcolor\":\"#E5ECF6\",\"angularaxis\":{\"gridcolor\":\"white\",\"linecolor\":\"white\",\"ticks\":\"\"},\"radialaxis\":{\"gridcolor\":\"white\",\"linecolor\":\"white\",\"ticks\":\"\"}},\"ternary\":{\"bgcolor\":\"#E5ECF6\",\"aaxis\":{\"gridcolor\":\"white\",\"linecolor\":\"white\",\"ticks\":\"\"},\"baxis\":{\"gridcolor\":\"white\",\"linecolor\":\"white\",\"ticks\":\"\"},\"caxis\":{\"gridcolor\":\"white\",\"linecolor\":\"white\",\"ticks\":\"\"}},\"coloraxis\":{\"colorbar\":{\"outlinewidth\":0,\"ticks\":\"\"}},\"colorscale\":{\"sequential\":[[0.0,\"#0d0887\"],[0.1111111111111111,\"#46039f\"],[0.2222222222222222,\"#7201a8\"],[0.3333333333333333,\"#9c179e\"],[0.4444444444444444,\"#bd3786\"],[0.5555555555555556,\"#d8576b\"],[0.6666666666666666,\"#ed7953\"],[0.7777777777777778,\"#fb9f3a\"],[0.8888888888888888,\"#fdca26\"],[1.0,\"#f0f921\"]],\"sequentialminus\":[[0.0,\"#0d0887\"],[0.1111111111111111,\"#46039f\"],[0.2222222222222222,\"#7201a8\"],[0.3333333333333333,\"#9c179e\"],[0.4444444444444444,\"#bd3786\"],[0.5555555555555556,\"#d8576b\"],[0.6666666666666666,\"#ed7953\"],[0.7777777777777778,\"#fb9f3a\"],[0.8888888888888888,\"#fdca26\"],[1.0,\"#f0f921\"]],\"diverging\":[[0,\"#8e0152\"],[0.1,\"#c51b7d\"],[0.2,\"#de77ae\"],[0.3,\"#f1b6da\"],[0.4,\"#fde0ef\"],[0.5,\"#f7f7f7\"],[0.6,\"#e6f5d0\"],[0.7,\"#b8e186\"],[0.8,\"#7fbc41\"],[0.9,\"#4d9221\"],[1,\"#276419\"]]},\"xaxis\":{\"gridcolor\":\"white\",\"linecolor\":\"white\",\"ticks\":\"\",\"title\":{\"standoff\":15},\"zerolinecolor\":\"white\",\"automargin\":true,\"zerolinewidth\":2},\"yaxis\":{\"gridcolor\":\"white\",\"linecolor\":\"white\",\"ticks\":\"\",\"title\":{\"standoff\":15},\"zerolinecolor\":\"white\",\"automargin\":true,\"zerolinewidth\":2},\"scene\":{\"xaxis\":{\"backgroundcolor\":\"#E5ECF6\",\"gridcolor\":\"white\",\"linecolor\":\"white\",\"showbackground\":true,\"ticks\":\"\",\"zerolinecolor\":\"white\",\"gridwidth\":2},\"yaxis\":{\"backgroundcolor\":\"#E5ECF6\",\"gridcolor\":\"white\",\"linecolor\":\"white\",\"showbackground\":true,\"ticks\":\"\",\"zerolinecolor\":\"white\",\"gridwidth\":2},\"zaxis\":{\"backgroundcolor\":\"#E5ECF6\",\"gridcolor\":\"white\",\"linecolor\":\"white\",\"showbackground\":true,\"ticks\":\"\",\"zerolinecolor\":\"white\",\"gridwidth\":2}},\"shapedefaults\":{\"line\":{\"color\":\"#2a3f5f\"}},\"annotationdefaults\":{\"arrowcolor\":\"#2a3f5f\",\"arrowhead\":0,\"arrowwidth\":1},\"geo\":{\"bgcolor\":\"white\",\"landcolor\":\"#E5ECF6\",\"subunitcolor\":\"white\",\"showland\":true,\"showlakes\":true,\"lakecolor\":\"white\"},\"title\":{\"x\":0.05},\"mapbox\":{\"style\":\"light\"}}},\"xaxis\":{\"anchor\":\"y\",\"domain\":[0.0,1.0],\"title\":{\"text\":\"\"}},\"yaxis\":{\"anchor\":\"x\",\"domain\":[0.0,1.0],\"title\":{\"text\":\"Tons of annual emissions per 100k of population\"}},\"legend\":{\"title\":{\"text\":\"State\"},\"tracegroupgap\":0},\"margin\":{\"t\":60},\"font\":{\"color\":\"white\"},\"plot_bgcolor\":\"black\",\"paper_bgcolor\":\"black\",\"title\":{\"text\":\"Nitrous Oxide emisions per 100k of population\"}},                        {\"responsive\": true}                    ).then(function(){\n",
       "                            \n",
       "var gd = document.getElementById('2c63d765-d5dc-441d-bbb0-9c8c1fb5587f');\n",
       "var x = new MutationObserver(function (mutations, observer) {{\n",
       "        var display = window.getComputedStyle(gd).display;\n",
       "        if (!display || display === 'none') {{\n",
       "            console.log([gd, 'removed!']);\n",
       "            Plotly.purge(gd);\n",
       "            observer.disconnect();\n",
       "        }}\n",
       "}});\n",
       "\n",
       "// Listen for the removal of the full notebook cells\n",
       "var notebookContainer = gd.closest('#notebook-container');\n",
       "if (notebookContainer) {{\n",
       "    x.observe(notebookContainer, {childList: true});\n",
       "}}\n",
       "\n",
       "// Listen for the clearing of the current output cell\n",
       "var outputEl = gd.closest('.output');\n",
       "if (outputEl) {{\n",
       "    x.observe(outputEl, {childList: true});\n",
       "}}\n",
       "\n",
       "                        })                };                });            </script>        </div>"
      ]
     },
     "metadata": {},
     "output_type": "display_data"
    }
   ],
   "source": [
    "Nitrous_Oxide = nei_by_pollutant.loc[(nei_by_pollutant[\"Pollutant\"] == 'Nitrous Oxide')]\n",
    "\n",
    "Nitrous_Oxide_plot = px.line(\n",
    "    Nitrous_Oxide,\n",
    "    x = \"Year\",\n",
    "    y = \"Emmisions_per_100k\",\n",
    "    hover_name = \"CAV_adoption\",\n",
    "    color = \"State\",\n",
    "    labels = {\n",
    "        \"Year\":'',\n",
    "        \"Emmisions_per_100k\": \"Tons of annual emissions per 100k of population\"\n",
    "    }\n",
    ")\n",
    "\n",
    "Nitrous_Oxide_plot.update_layout(\n",
    "#     yaxis_range=[0,6],\n",
    "    font_color=\"white\",\n",
    "    legend=dict(\n",
    "    title=\"State\"\n",
    "))\n",
    "\n",
    "Nitrous_Oxide_plot.update_layout({\n",
    "    'plot_bgcolor':'black',\n",
    "    'paper_bgcolor':'black',\n",
    "    'title':'Nitrous Oxide emisions per 100k of population'\n",
    "})\n",
    "\n",
    "Nitrous_Oxide_plot.show()"
   ]
  },
  {
   "cell_type": "markdown",
   "id": "33cdc7d8",
   "metadata": {},
   "source": [
    "# Code from initial direction that was not used in final solution"
   ]
  },
  {
   "cell_type": "code",
   "execution_count": null,
   "id": "bfa9ca59",
   "metadata": {},
   "outputs": [],
   "source": [
    "# chunk = 10000\n",
    "# onroad_2020 = pd.read_csv(\"/Users/ScottMcL/Documents/Coding_Temple/Capstone_2/nie_data/2020_nei_onroad_123.csv\")\n",
    "# type(onroad_2020)\n",
    "# onroad_2020.head(n=10000).to_csv(\"onroad_2020_head.csv\")"
   ]
  },
  {
   "cell_type": "markdown",
   "id": "1aef2501",
   "metadata": {},
   "source": [
    "## Define function to separate pollution data by state"
   ]
  },
  {
   "cell_type": "code",
   "execution_count": null,
   "id": "5ed96a8c",
   "metadata": {},
   "outputs": [],
   "source": [
    "# def pollution(df, df_name):\n",
    "#     df['state'] = df['state'].astype(\"string\")\n",
    "#     for state in states:\n",
    "#         if state in df['state'].unique():\n",
    "#             print(f'Working on {state} in {df_name}')\n",
    "#             state_df = df_name + \"_\" + str(state)\n",
    "#             state_dfs[state] = df.loc[df['state'] == state]\n",
    "#             filename = df_name + \"_\" + state + \".csv\"\n",
    "#             path = \"/Users/ScottMcL/Documents/Coding_Temple/Capstone_2/nie_data/\" + df_name[-4:] + \"_by_state\" + \"/\" + filename\n",
    "#             if os.path.isfile(path):\n",
    "#                 state_dfs[state].to_csv(path, mode=\"a\", index=False, header=False)\n",
    "#             else:\n",
    "#                 state_dfs[state].to_csv(path, index=False)\n",
    "#     print(\"All Done\")"
   ]
  },
  {
   "cell_type": "code",
   "execution_count": null,
   "id": "7f6b5773",
   "metadata": {},
   "outputs": [],
   "source": [
    "# onroad_2020 = pd.read_csv(\"/Users/ScottMcL/Documents/Coding_Temple/Capstone_2/nie_data/2020_nei_onroad_123.csv\")\n",
    "# pollution(onroad_2020, \"onroad_2020\")\n",
    "\n",
    "# onroad_2020 = pd.read_csv(\"/Users/ScottMcL/Documents/Coding_Temple/Capstone_2/nie_data/2020_nei_onroad_4.csv\")\n",
    "# pollution(onroad_2020, \"onroad_2020\")\n",
    "\n",
    "# onroad_2020 = pd.read_csv(\"/Users/ScottMcL/Documents/Coding_Temple/Capstone_2/nie_data/2020_nei_onroad_5.csv\")\n",
    "# pollution(onroad_2020, \"onroad_2020\")\n",
    "\n",
    "# onroad_2020 = pd.read_csv(\"/Users/ScottMcL/Documents/Coding_Temple/Capstone_2/nie_data/2020_nei_onroad_67.csv\")\n",
    "# pollution(onroad_2020, \"onroad_2020\")\n",
    "\n",
    "# onroad_2020 = pd.read_csv(\"/Users/ScottMcL/Documents/Coding_Temple/Capstone_2/nie_data/2020_nei_onroad_8910.csv\")\n",
    "# pollution(onroad_2020, \"onroad_2020\")\n",
    "\n"
   ]
  },
  {
   "cell_type": "code",
   "execution_count": null,
   "id": "796e4a80",
   "metadata": {},
   "outputs": [],
   "source": [
    "# onroad_2020_CA = pd.read_csv(\"/Users/ScottMcL/Documents/Coding_Temple/Capstone_2/nie_data/2020_by_state/onroad_2020_CA.csv\")\n"
   ]
  },
  {
   "cell_type": "code",
   "execution_count": null,
   "id": "40f375aa",
   "metadata": {},
   "outputs": [],
   "source": [
    "# pollutants = []\n",
    "\n",
    "# with open(\"/Users/ScottMcL/Documents/Coding_Temple/Capstone_2/Pollutants.csv\") as f:\n",
    "#     for line in f:\n",
    "#         pollutants.append(str(line))\n",
    "\n",
    "# print(pollutants)"
   ]
  },
  {
   "cell_type": "markdown",
   "id": "72aab8bc",
   "metadata": {},
   "source": [
    "## Create first iteration of pollutants list"
   ]
  },
  {
   "cell_type": "code",
   "execution_count": null,
   "id": "7816eedd",
   "metadata": {},
   "outputs": [],
   "source": [
    "# pollutants = []\n",
    "# print(len(pollutants))\n",
    "# with open(\"/Users/ScottMcL/Documents/Coding_Temple/Capstone_2/onroad_2020_CA - Pollutants.csv\") as f:\n",
    "#     for line in f:\n",
    "#         if str(line) not in pollutants:\n",
    "#             print(f\"Adding {str(line)}\")\n",
    "#             pollutants.append(str(line))\n",
    "\n",
    "# print(len(pollutants))\n",
    "\n",
    "# pollutants"
   ]
  },
  {
   "cell_type": "code",
   "execution_count": null,
   "id": "dca5ee74",
   "metadata": {},
   "outputs": [],
   "source": [
    "# print(pollutants)\n",
    "\n",
    "# for pollutant in pollutants:\n",
    "#     pollutants[pollutants.index(pollutant)] = pollutant[:-1]\n",
    "\n",
    "# print('*********************************')\n",
    "# for item in pollutants:\n",
    "#     print(item)"
   ]
  },
  {
   "cell_type": "code",
   "execution_count": null,
   "id": "508d5eaa",
   "metadata": {},
   "outputs": [],
   "source": [
    "# print(len(pollutants))\n",
    "\n",
    "# for year in years:\n",
    "#     for path in onroad_paths[year]:\n",
    "#         print(f'Opening {path}')\n",
    "#         f = pd.read_csv(path, low_memory=False)\n",
    "#         for pollutant in f[pol_descr[year]]:\n",
    "#             if str(pollutant) not in pollutants:\n",
    "#                 print(f\"Adding {pollutant}\")\n",
    "#                 pollutants.append(str(pollutant))\n",
    "\n",
    "#     print(len(pollutants))\n",
    "#     print('\\n*********************************\\n')\n",
    "\n",
    "# for item in pollutants:\n",
    "#     print(item)\n",
    "    \n",
    "# print(\"\\n\",len(pollutants))\n"
   ]
  },
  {
   "cell_type": "markdown",
   "id": "472274e3",
   "metadata": {},
   "source": [
    "## Writing pollution list to CSV file to check for duplicates, etc."
   ]
  },
  {
   "cell_type": "code",
   "execution_count": null,
   "id": "d403d5d7",
   "metadata": {},
   "outputs": [],
   "source": [
    "# opening the csv file in 'w+' mode\n",
    "# file = open('pollutants_new.csv', 'w+')\n",
    " \n",
    "# writing the data into the file\n",
    "# with open(\"pollutants_new.csv\", 'w', newline='') as file:   \n",
    "#     write = csv.writer(file, delimiter=',', quotechar='\"')\n",
    "#     write.writerows([pollutants])"
   ]
  },
  {
   "cell_type": "code",
   "execution_count": null,
   "id": "a81efeea",
   "metadata": {},
   "outputs": [],
   "source": [
    "# data = {\n",
    "#     \"Polutant\": pollutants,\n",
    "#     2008: \"\", \n",
    "#     2011: \"\", \n",
    "#     2017: \"\", \n",
    "#     2020: \"\"\n",
    "# }"
   ]
  },
  {
   "cell_type": "code",
   "execution_count": null,
   "id": "d23d3ece",
   "metadata": {},
   "outputs": [],
   "source": [
    "# ca_over_time = pd.DataFrame(data)\n",
    "# ca_over_time\n",
    "\n",
    "# top_11_low_em_veh_states = [\n",
    "#     'CA',\n",
    "#     'WA',\n",
    "#     'OR',\n",
    "#     'HI',\n",
    "#     'VT',\n",
    "#     'MA',\n",
    "#     'MD',\n",
    "#     'CO',\n",
    "#     'NV',\n",
    "#     'AZ',\n",
    "#     'VA'\n",
    "#     ]"
   ]
  },
  {
   "cell_type": "code",
   "execution_count": null,
   "id": "22d922bf",
   "metadata": {},
   "outputs": [],
   "source": [
    "# onroad_2020_CA.columns\n",
    "# for pollutant in pollutants:\n",
    "#     ca_over_time.loc[pollutant, 2020] = sum(onroad_2020_CA[onroad_2020_CA['pollutant desc'] == pollutant]['total emissions'])\n",
    "\n",
    "# ca_over_time"
   ]
  },
  {
   "cell_type": "code",
   "execution_count": null,
   "id": "22e92690",
   "metadata": {},
   "outputs": [],
   "source": [
    "# ca_over_time = pd.read_csv(\"ca_over_time.csv\")\n",
    "# ca_over_time"
   ]
  },
  {
   "cell_type": "code",
   "execution_count": null,
   "id": "e5438392",
   "metadata": {},
   "outputs": [],
   "source": [
    "# onroad_2017 = pd.read_csv(\"/Users/ScottMcL/Documents/Coding_Temple/Capstone_2/nie_data/2017_nei_onroad_123.csv\")\n",
    "# pollution(onroad_2017, \"onroad_2017\")\n",
    "\n",
    "# onroad_2017 = pd.read_csv(\"/Users/ScottMcL/Documents/Coding_Temple/Capstone_2/nie_data/2017_nei_onroad_4.csv\")\n",
    "# pollution(onroad_2017, \"onroad_2017\")\n",
    "\n",
    "# onroad_2017 = pd.read_csv(\"/Users/ScottMcL/Documents/Coding_Temple/Capstone_2/nie_data/2017_nei_onroad_5.csv\")\n",
    "# pollution(onroad_2017, \"onroad_2017\")\n",
    "\n",
    "# onroad_2017 = pd.read_csv(\"/Users/ScottMcL/Documents/Coding_Temple/Capstone_2/nie_data/2017_nei_onroad_67.csv\")\n",
    "# pollution(onroad_2017, \"onroad_2017\")\n",
    "\n",
    "# onroad_2017 = pd.read_csv(\"/Users/ScottMcL/Documents/Coding_Temple/Capstone_2/nie_data/2017_nei_onroad_8910.csv\")\n",
    "# pollution(onroad_2017, \"onroad_2017\")"
   ]
  },
  {
   "cell_type": "code",
   "execution_count": null,
   "id": "762e3908",
   "metadata": {},
   "outputs": [],
   "source": [
    "# onroad_2017_CA = pd.read_csv(\"/Users/ScottMcL/Documents/Coding_Temple/Capstone_2/nie_data/2017_by_state/onroad_2017_CA.csv\")\n",
    "# onroad_2017_CA\n",
    "# for pollutant in pollutants:\n",
    "#     ca_over_time.loc[pollutant, 2017] = sum(onroad_2017_CA[onroad_2017_CA['pollutant desc'] == pollutant]['total emissions'])\n",
    "\n",
    "# ca_over_time"
   ]
  },
  {
   "cell_type": "code",
   "execution_count": null,
   "id": "9ed69001",
   "metadata": {},
   "outputs": [],
   "source": [
    "# def pollution_old(df, df_name):\n",
    "#     df['st_usps_cd'] = df['st_usps_cd'].astype(\"string\")\n",
    "#     for state in states:\n",
    "#         if state in df['st_usps_cd'].unique():\n",
    "#             print(f'Working on {state} in {df_name}')\n",
    "#             state_df = df_name + \"_\" + str(state)\n",
    "#             state_dfs[state] = df.loc[df['st_usps_cd'] == state]\n",
    "#             filename = df_name + \"_\" + state + \".csv\"\n",
    "#             path = \"/Users/ScottMcL/Documents/Coding_Temple/Capstone_2/nie_data/\" + df_name[-4:] + \"_by_state\" + \"/\" + filename\n",
    "#             if os.path.isfile(path):\n",
    "#                 state_dfs[state].to_csv(path, mode=\"a\", index=False, header=False)\n",
    "#             else:\n",
    "#                 state_dfs[state].to_csv(path, index=False)\n",
    "#     print(\"All Done\")"
   ]
  },
  {
   "cell_type": "code",
   "execution_count": null,
   "id": "2c3a7c5a",
   "metadata": {},
   "outputs": [],
   "source": [
    "# onroad_2014 = pd.read_csv(\"/Users/ScottMcL/Documents/Coding_Temple/Capstone_2/nie_data/2014_nei_onroad_123.csv\")\n",
    "# pollution_old(onroad_2014, \"onroad_2014\")\n",
    "\n",
    "# onroad_2014 = pd.read_csv(\"/Users/ScottMcL/Documents/Coding_Temple/Capstone_2/nie_data/2014_nei_onroad_4.csv\")\n",
    "# pollution_old(onroad_2014, \"onroad_2014\")\n",
    "\n",
    "# onroad_2014 = pd.read_csv(\"/Users/ScottMcL/Documents/Coding_Temple/Capstone_2/nie_data/2014_nei_onroad_5.csv\")\n",
    "# pollution_old(onroad_2014, \"onroad_2014\")\n",
    "\n",
    "# onroad_2014 = pd.read_csv(\"/Users/ScottMcL/Documents/Coding_Temple/Capstone_2/nie_data/2014_nei_onroad_67.csv\")\n",
    "# pollution_old(onroad_2014, \"onroad_2014\")\n",
    "\n",
    "# onroad_2014 = pd.read_csv(\"/Users/ScottMcL/Documents/Coding_Temple/Capstone_2/nie_data/2014_nei_onroad_8910.csv\")\n",
    "# pollution_old(onroad_2014, \"onroad_2014\")\n",
    "\n",
    "# onroad_2014 = pd.read_csv(\"/Users/ScottMcL/Documents/Coding_Temple/Capstone_2/nie_data/2014_nei_onroad_tribes.csv\")\n",
    "# pollution_old(onroad_2014, \"onroad_2014\")  # Tribal data listed by tribe name, not by state"
   ]
  },
  {
   "cell_type": "code",
   "execution_count": null,
   "id": "ba5d3ffe",
   "metadata": {},
   "outputs": [],
   "source": [
    "# onroad_2014_CA = pd.read_csv(\"/Users/ScottMcL/Documents/Coding_Temple/Capstone_2/nie_data/2014_by_state/onroad_2014_CA.csv\")\n",
    "\n",
    "# for pollutant in pollutants:\n",
    "#     ca_over_time.loc[pollutant, 2014] = sum(onroad_2014_CA[onroad_2014_CA['pollutant_desc'] == pollutant]['total_emissions'])\n",
    "\n",
    "# ca_over_time"
   ]
  },
  {
   "cell_type": "code",
   "execution_count": null,
   "id": "af16adf8",
   "metadata": {},
   "outputs": [],
   "source": [
    "# onroad_2011 = pd.read_csv(\"/Users/ScottMcL/Documents/Coding_Temple/Capstone_2/nie_data/2011_nei_onroad_123.csv\")\n",
    "# pollution_old(onroad_2011, \"onroad_2011\")\n",
    "\n",
    "# onroad_2011 = pd.read_csv(\"/Users/ScottMcL/Documents/Coding_Temple/Capstone_2/nie_data/2011_nei_onroad_4.csv\")\n",
    "# pollution_old(onroad_2011, \"onroad_2011\")\n",
    "\n",
    "# onroad_2011 = pd.read_csv(\"/Users/ScottMcL/Documents/Coding_Temple/Capstone_2/nie_data/2011_nei_onroad_5.csv\")\n",
    "# pollution_old(onroad_2011, \"onroad_2011\")\n",
    "\n",
    "# onroad_2011 = pd.read_csv(\"/Users/ScottMcL/Documents/Coding_Temple/Capstone_2/nie_data/2011_nei_onroad_67.csv\")\n",
    "# pollution_old(onroad_2011, \"onroad_2011\")\n",
    "\n",
    "# onroad_2011 = pd.read_csv(\"/Users/ScottMcL/Documents/Coding_Temple/Capstone_2/nie_data/2011_nei_onroad_8910.csv\")\n",
    "# pollution_old(onroad_2011, \"onroad_2011\")"
   ]
  },
  {
   "cell_type": "code",
   "execution_count": null,
   "id": "e341c445",
   "metadata": {},
   "outputs": [],
   "source": [
    "# onroad_2011_CA = pd.read_csv(\"/Users/ScottMcL/Documents/Coding_Temple/Capstone_2/nie_data/2011_by_state/onroad_2011_CA.csv\")\n",
    "\n",
    "# for pollutant in pollutants:\n",
    "#     ca_over_time.loc[pollutant, 2011] = sum(onroad_2011_CA[onroad_2011_CA['description'] == pollutant]['total_emissions'])\n",
    "\n",
    "# ca_over_time"
   ]
  },
  {
   "cell_type": "code",
   "execution_count": null,
   "id": "9e9d33c6",
   "metadata": {},
   "outputs": [],
   "source": [
    "# onroad_2008 = pd.read_csv(\"/Users/ScottMcL/Documents/Coding_Temple/Capstone_2/nie_data/2008NEIv3_onroad123.csv\")\n",
    "# pollution_old(onroad_2008, \"onroad_2008\")\n",
    "\n",
    "# onroad_2008 = pd.read_csv(\"/Users/ScottMcL/Documents/Coding_Temple/Capstone_2/nie_data/2008NEIv3_onroad4.csv\")\n",
    "# pollution_old(onroad_2008, \"onroad_2008\")\n",
    "\n",
    "\n",
    "# onroad_2008 = pd.read_csv(\"/Users/ScottMcL/Documents/Coding_Temple/Capstone_2/nie_data/2008NEIv3_onroad5.csv\")\n",
    "# pollution_old(onroad_2008, \"onroad_2008\")\n",
    "\n",
    "# onroad_2008 = pd.read_csv(\"/Users/ScottMcL/Documents/Coding_Temple/Capstone_2/nie_data/2008NEIv3_onroad67.csv\")\n",
    "# pollution_old(onroad_2008, \"onroad_2008\")\n",
    "\n",
    "# onroad_2008 = pd.read_csv(\"/Users/ScottMcL/Documents/Coding_Temple/Capstone_2/nie_data/2008NEIv3_onroad8910.csv\")\n",
    "# pollution_old(onroad_2008, \"onroad_2008\")"
   ]
  },
  {
   "cell_type": "code",
   "execution_count": null,
   "id": "f4adc23b",
   "metadata": {},
   "outputs": [],
   "source": [
    "# onroad_2008_CA = pd.read_csv(\"/Users/ScottMcL/Documents/Coding_Temple/Capstone_2/nie_data/2008_by_state/onroad_2008_CA.csv\")\n",
    "\n",
    "# for pollutant in pollutants:\n",
    "#     ca_over_time.loc[pollutant, 2008] = sum(onroad_2008_CA[onroad_2008_CA['description'] == pollutant]['total_emissions'])\n",
    "\n",
    "# ca_over_time"
   ]
  },
  {
   "cell_type": "code",
   "execution_count": null,
   "id": "181e8345",
   "metadata": {},
   "outputs": [],
   "source": [
    "# ca_over_time.to_csv(\"ca_over_time.csv\")"
   ]
  },
  {
   "cell_type": "code",
   "execution_count": null,
   "id": "05e749e1",
   "metadata": {},
   "outputs": [],
   "source": [
    "# ca_over_time = pd.read_csv(\"ca_over_time.csv\", index_col = \"Pollutant\")\n",
    "# ca_over_time"
   ]
  },
  {
   "cell_type": "markdown",
   "id": "f5d680b7",
   "metadata": {},
   "source": [
    "# DataFrames for Plots"
   ]
  },
  {
   "cell_type": "code",
   "execution_count": null,
   "id": "38826233",
   "metadata": {},
   "outputs": [],
   "source": [
    "# for state in bottom_10_low_em_veh_states:\n",
    "#     df = pd.DataFrame()\n",
    "#     for year in years:\n",
    "#         filename = f\"onroad_{year}_{state}.csv\"\n",
    "#         path = f\"/Users/ScottMcL/Documents/Coding_Temple/Capstone_2/{year}_by_state/{filename}\"\n",
    "#         state_pollution = pd.read_csv(path, low_memory=False)\n",
    "#         print(f\"Working on {state} for {year}\")\n",
    "#         for pollutant in poc:\n",
    "#             if year == 2008:\n",
    "#                 df.loc[pollutant, 2008] = sum(state_pollution[state_pollution['description'] == pollutant]['total_emissions'])\n",
    "#             elif year == 2011:\n",
    "#                 df.loc[pollutant, 2011] = sum(state_pollution[state_pollution['description'] == pollutant]['total_emissions'])\n",
    "#             elif year == 2014:\n",
    "#                 df.loc[pollutant, 2014] = sum(state_pollution[state_pollution['pollutant_desc'] == pollutant]['total_emissions'])\n",
    "#             elif year == 2017:\n",
    "#                 df.loc[pollutant, 2017] = sum(state_pollution[state_pollution['pollutant desc'] == pollutant]['total emissions'])\n",
    "#             elif year == 2020:\n",
    "#                 df.loc[pollutant, 2020] = sum(state_pollution[state_pollution['pollutant desc'] == pollutant]['total emissions'])\n",
    "            \n",
    "#     csv_filename = f\"onroad_{state}_over_time.csv\"\n",
    "#     df.to_csv(csv_filename)"
   ]
  },
  {
   "cell_type": "code",
   "execution_count": null,
   "id": "7fb2133d",
   "metadata": {},
   "outputs": [],
   "source": [
    "# onroad_CA_over_time = pd.read_csv(\"onroad_CA_over_time.csv\", index_col = 0)\n",
    "# onroad_WA_over_time = pd.read_csv(\"onroad_WA_over_time.csv\", index_col = 0)\n",
    "# onroad_OR_over_time = pd.read_csv(\"onroad_OR_over_time.csv\", index_col = 0)\n",
    "# onroad_HI_over_time = pd.read_csv(\"onroad_HI_over_time.csv\", index_col = 0)\n",
    "# onroad_VT_over_time = pd.read_csv(\"onroad_VT_over_time.csv\", index_col = 0)\n",
    "# onroad_MA_over_time = pd.read_csv(\"onroad_MA_over_time.csv\", index_col = 0)\n",
    "# onroad_MD_over_time = pd.read_csv(\"onroad_MD_over_time.csv\", index_col = 0)\n",
    "# onroad_CO_over_time = pd.read_csv(\"onroad_CO_over_time.csv\", index_col = 0)\n",
    "# onroad_NV_over_time = pd.read_csv(\"onroad_NV_over_time.csv\", index_col = 0)\n",
    "# onroad_AZ_over_time = pd.read_csv(\"onroad_AZ_over_time.csv\", index_col = 0)\n",
    "# onroad_VA_over_time = pd.read_csv(\"onroad_VA_over_time.csv\", index_col = 0)\n",
    "\n",
    "# bottom_10_low_em_veh_states = ['MI', 'ND','LA','WY','AL','SD','WV','AR','OK','KY']\n",
    "# onroad_MI_over_time = pd.read_csv(\"onroad_MI_over_time.csv\", index_col = 0)\n",
    "# onroad_ND_over_time = pd.read_csv(\"onroad_ND_over_time.csv\", index_col = 0)\n",
    "# onroad_LA_over_time = pd.read_csv(\"onroad_LA_over_time.csv\", index_col = 0)\n",
    "# onroad_WY_over_time = pd.read_csv(\"onroad_WY_over_time.csv\", index_col = 0)\n",
    "# onroad_AL_over_time = pd.read_csv(\"onroad_AL_over_time.csv\", index_col = 0)\n",
    "# onroad_SD_over_time = pd.read_csv(\"onroad_SD_over_time.csv\", index_col = 0)\n",
    "# onroad_WV_over_time = pd.read_csv(\"onroad_WV_over_time.csv\", index_col = 0)\n",
    "# onroad_AR_over_time = pd.read_csv(\"onroad_AR_over_time.csv\", index_col = 0)\n",
    "# onroad_OK_over_time = pd.read_csv(\"onroad_OK_over_time.csv\", index_col = 0)\n",
    "# onroad_KY_over_time = pd.read_csv(\"onroad_KY_over_time.csv\", index_col = 0)"
   ]
  },
  {
   "cell_type": "code",
   "execution_count": null,
   "id": "2a38b979",
   "metadata": {},
   "outputs": [],
   "source": [
    "# onroad_MI_over_time"
   ]
  },
  {
   "cell_type": "code",
   "execution_count": null,
   "id": "d1138a0b",
   "metadata": {},
   "outputs": [],
   "source": [
    "\n",
    "# health_CA = onroad_CA_over_time[onroad_CA_over_time.index.isin(poc_health)]\n",
    "# health_WA = onroad_WA_over_time[onroad_WA_over_time.index.isin(poc_health)]\n",
    "# health_OR = onroad_OR_over_time[onroad_OR_over_time.index.isin(poc_health)]\n",
    "# health_HI = onroad_HI_over_time[onroad_HI_over_time.index.isin(poc_health)]\n",
    "# health_VT = onroad_VT_over_time[onroad_VT_over_time.index.isin(poc_health)]\n",
    "# health_MA = onroad_MA_over_time[onroad_MA_over_time.index.isin(poc_health)]\n",
    "# health_MD = onroad_MD_over_time[onroad_MD_over_time.index.isin(poc_health)]\n",
    "# health_CO = onroad_CO_over_time[onroad_CO_over_time.index.isin(poc_health)]\n",
    "# health_NV = onroad_NV_over_time[onroad_NV_over_time.index.isin(poc_health)]\n",
    "# health_AZ = onroad_AZ_over_time[onroad_AZ_over_time.index.isin(poc_health)]\n",
    "# health_VA = onroad_VA_over_time[onroad_VA_over_time.index.isin(poc_health)]\n",
    "\n",
    "# bottom_10_low_em_veh_states = ['MI', 'ND','LA','WY','AL','SD','WV','AR','OK','KY']\n",
    "# health_MI = onroad_MI_over_time[onroad_MI_over_time.index.isin(poc_health)]\n",
    "# health_ND = onroad_ND_over_time[onroad_ND_over_time.index.isin(poc_health)]\n",
    "# health_LA = onroad_LA_over_time[onroad_LA_over_time.index.isin(poc_health)]\n",
    "# health_WY = onroad_WY_over_time[onroad_WY_over_time.index.isin(poc_health)]\n",
    "# health_AL = onroad_AL_over_time[onroad_AL_over_time.index.isin(poc_health)]\n",
    "# health_SD = onroad_SD_over_time[onroad_SD_over_time.index.isin(poc_health)]\n",
    "# health_WV = onroad_WV_over_time[onroad_WV_over_time.index.isin(poc_health)]\n",
    "# health_AR = onroad_AR_over_time[onroad_AR_over_time.index.isin(poc_health)]\n",
    "# health_OK = onroad_OK_over_time[onroad_OK_over_time.index.isin(poc_health)]\n",
    "# health_KY = onroad_KY_over_time[onroad_KY_over_time.index.isin(poc_health)]"
   ]
  },
  {
   "cell_type": "code",
   "execution_count": null,
   "id": "ed1dcd44",
   "metadata": {},
   "outputs": [],
   "source": [
    "# health_CA = health_CA.reset_index()\n",
    "# health_WA = health_WA.reset_index()\n",
    "# health_OR = health_OR.reset_index()\n",
    "# health_HI = health_HI.reset_index()\n",
    "# health_VT = health_VT.reset_index()\n",
    "# health_MA = health_MA.reset_index()\n",
    "# health_MD = health_MD.reset_index()\n",
    "# health_CO = health_CO.reset_index()\n",
    "# health_NV = health_NV.reset_index()\n",
    "# health_AZ = health_AZ.reset_index()\n",
    "# health_VA = health_VA.reset_index()\n",
    "\n",
    "# health_CA.rename(columns = {'index':'Pollutant'}, inplace = True)\n",
    "# health_WA.rename(columns = {'index':'Pollutant'}, inplace = True)\n",
    "# health_OR.rename(columns = {'index':'Pollutant'}, inplace = True)\n",
    "# health_HI.rename(columns = {'index':'Pollutant'}, inplace = True)\n",
    "# health_VT.rename(columns = {'index':'Pollutant'}, inplace = True)\n",
    "# health_MA.rename(columns = {'index':'Pollutant'}, inplace = True)\n",
    "# health_MD.rename(columns = {'index':'Pollutant'}, inplace = True)\n",
    "# health_CO.rename(columns = {'index':'Pollutant'}, inplace = True)\n",
    "# health_NV.rename(columns = {'index':'Pollutant'}, inplace = True)\n",
    "# health_AZ.rename(columns = {'index':'Pollutant'}, inplace = True)\n",
    "# health_VA.rename(columns = {'index':'Pollutant'}, inplace = True)\n",
    "\n",
    "# health_MI = health_MI.reset_index()\n",
    "# health_ND = health_ND.reset_index()\n",
    "# health_LA = health_LA.reset_index()\n",
    "# health_WY = health_WY.reset_index()\n",
    "# health_AL = health_AL.reset_index()\n",
    "# health_SD = health_SD.reset_index()\n",
    "# health_WV = health_WV.reset_index()\n",
    "# health_AR = health_AR.reset_index()\n",
    "# health_OK = health_OK.reset_index()\n",
    "# health_KY = health_KY.reset_index()\n",
    "\n",
    "# health_MI.rename(columns = {'index':'Pollutant'}, inplace = True)\n",
    "# health_ND.rename(columns = {'index':'Pollutant'}, inplace = True)\n",
    "# health_LA.rename(columns = {'index':'Pollutant'}, inplace = True)\n",
    "# health_WY.rename(columns = {'index':'Pollutant'}, inplace = True)\n",
    "# health_AL.rename(columns = {'index':'Pollutant'}, inplace = True)\n",
    "# health_SD.rename(columns = {'index':'Pollutant'}, inplace = True)\n",
    "# health_WV.rename(columns = {'index':'Pollutant'}, inplace = True)\n",
    "# health_AR.rename(columns = {'index':'Pollutant'}, inplace = True)\n",
    "# health_OK.rename(columns = {'index':'Pollutant'}, inplace = True)\n",
    "# health_KY.rename(columns = {'index':'Pollutant'}, inplace = True)"
   ]
  },
  {
   "cell_type": "code",
   "execution_count": null,
   "id": "c051d5e7",
   "metadata": {},
   "outputs": [],
   "source": [
    "# health_MI"
   ]
  },
  {
   "cell_type": "code",
   "execution_count": null,
   "id": "664ef3d3",
   "metadata": {},
   "outputs": [],
   "source": [
    "# GHG_CA = onroad_CA_over_time[onroad_CA_over_time.index.isin(poc_GHG)]\n",
    "# GHG_WA = onroad_WA_over_time[onroad_WA_over_time.index.isin(poc_GHG)]\n",
    "# GHG_OR = onroad_OR_over_time[onroad_OR_over_time.index.isin(poc_GHG)]\n",
    "# GHG_HI = onroad_HI_over_time[onroad_HI_over_time.index.isin(poc_GHG)]\n",
    "# GHG_VT = onroad_VT_over_time[onroad_VT_over_time.index.isin(poc_GHG)]\n",
    "# GHG_MA = onroad_MA_over_time[onroad_MA_over_time.index.isin(poc_GHG)]\n",
    "# GHG_MD = onroad_MD_over_time[onroad_MD_over_time.index.isin(poc_GHG)]\n",
    "# GHG_CO = onroad_CO_over_time[onroad_CO_over_time.index.isin(poc_GHG)]\n",
    "# GHG_NV = onroad_NV_over_time[onroad_NV_over_time.index.isin(poc_GHG)]\n",
    "# GHG_AZ = onroad_AZ_over_time[onroad_AZ_over_time.index.isin(poc_GHG)]\n",
    "# GHG_VA = onroad_VA_over_time[onroad_VA_over_time.index.isin(poc_GHG)]\n",
    "\n",
    "# GHG_CA = GHG_CA.reset_index()\n",
    "# GHG_WA = GHG_WA.reset_index()\n",
    "# GHG_OR = GHG_OR.reset_index()\n",
    "# GHG_HI = GHG_HI.reset_index()\n",
    "# GHG_VT = GHG_VT.reset_index()\n",
    "# GHG_MA = GHG_MA.reset_index()\n",
    "# GHG_MD = GHG_MD.reset_index()\n",
    "# GHG_CO = GHG_CO.reset_index()\n",
    "# GHG_NV = GHG_NV.reset_index()\n",
    "# GHG_AZ = GHG_AZ.reset_index()\n",
    "# GHG_VA = GHG_VA.reset_index()\n",
    "\n",
    "# GHG_CA.rename(columns = {'index':'Pollutant'}, inplace = True)\n",
    "# GHG_WA.rename(columns = {'index':'Pollutant'}, inplace = True)\n",
    "# GHG_OR.rename(columns = {'index':'Pollutant'}, inplace = True)\n",
    "# GHG_HI.rename(columns = {'index':'Pollutant'}, inplace = True)\n",
    "# GHG_VT.rename(columns = {'index':'Pollutant'}, inplace = True)\n",
    "# GHG_MA.rename(columns = {'index':'Pollutant'}, inplace = True)\n",
    "# GHG_MD.rename(columns = {'index':'Pollutant'}, inplace = True)\n",
    "# GHG_CO.rename(columns = {'index':'Pollutant'}, inplace = True)\n",
    "# GHG_NV.rename(columns = {'index':'Pollutant'}, inplace = True)\n",
    "# GHG_AZ.rename(columns = {'index':'Pollutant'}, inplace = True)\n",
    "# GHG_VA.rename(columns = {'index':'Pollutant'}, inplace = True)\n",
    "\n",
    "# bottom_10_low_em_veh_states = ['MI', 'ND','LA','WY','AL','SD','WV','AR','OK','KY']\n",
    "# GHG_MI = onroad_MI_over_time[onroad_MI_over_time.index.isin(poc_GHG)]\n",
    "# GHG_ND = onroad_ND_over_time[onroad_ND_over_time.index.isin(poc_GHG)]\n",
    "# GHG_LA = onroad_LA_over_time[onroad_LA_over_time.index.isin(poc_GHG)]\n",
    "# GHG_WY = onroad_WY_over_time[onroad_WY_over_time.index.isin(poc_GHG)]\n",
    "# GHG_AL = onroad_AL_over_time[onroad_AL_over_time.index.isin(poc_GHG)]\n",
    "# GHG_SD = onroad_SD_over_time[onroad_SD_over_time.index.isin(poc_GHG)]\n",
    "# GHG_WV = onroad_WV_over_time[onroad_WV_over_time.index.isin(poc_GHG)]\n",
    "# GHG_AR = onroad_AR_over_time[onroad_AR_over_time.index.isin(poc_GHG)]\n",
    "# GHG_OK = onroad_OK_over_time[onroad_OK_over_time.index.isin(poc_GHG)]\n",
    "# GHG_KY = onroad_KY_over_time[onroad_KY_over_time.index.isin(poc_GHG)]\n",
    "\n",
    "# GHG_MI = GHG_MI.reset_index()\n",
    "# GHG_ND = GHG_ND.reset_index()\n",
    "# GHG_LA = GHG_LA.reset_index()\n",
    "# GHG_WY = GHG_WY.reset_index()\n",
    "# GHG_AL = GHG_AL.reset_index()\n",
    "# GHG_SD = GHG_SD.reset_index()\n",
    "# GHG_WV = GHG_WV.reset_index()\n",
    "# GHG_AR = GHG_AR.reset_index()\n",
    "# GHG_OK = GHG_OK.reset_index()\n",
    "# GHG_KY = GHG_KY.reset_index()\n",
    "\n",
    "# GHG_MI.rename(columns = {'index':'Pollutant'}, inplace = True)\n",
    "# GHG_ND.rename(columns = {'index':'Pollutant'}, inplace = True)\n",
    "# GHG_LA.rename(columns = {'index':'Pollutant'}, inplace = True)\n",
    "# GHG_WY.rename(columns = {'index':'Pollutant'}, inplace = True)\n",
    "# GHG_AL.rename(columns = {'index':'Pollutant'}, inplace = True)\n",
    "# GHG_SD.rename(columns = {'index':'Pollutant'}, inplace = True)\n",
    "# GHG_WV.rename(columns = {'index':'Pollutant'}, inplace = True)\n",
    "# GHG_AR.rename(columns = {'index':'Pollutant'}, inplace = True)\n",
    "# GHG_OK.rename(columns = {'index':'Pollutant'}, inplace = True)\n",
    "# GHG_KY.rename(columns = {'index':'Pollutant'}, inplace = True)"
   ]
  },
  {
   "cell_type": "code",
   "execution_count": null,
   "id": "5391e9cd",
   "metadata": {},
   "outputs": [],
   "source": [
    "# health_CA = health_CA.reset_index()\n",
    "# health_CA.rename(columns = {'index':'Pollutant'}, inplace = True)\n",
    "# health_KY\n",
    "# GHG_OK"
   ]
  },
  {
   "cell_type": "markdown",
   "id": "ad98c8a6",
   "metadata": {},
   "source": [
    "# Export to CSV to plot in excel\n",
    "##### DataFrames are not set up for plotly"
   ]
  },
  {
   "cell_type": "code",
   "execution_count": null,
   "id": "40043e1a",
   "metadata": {},
   "outputs": [],
   "source": [
    "# years = [2008, 2011, 2014, 2017, 2020]\n",
    "# CA_GHG_plot = px.line(\n",
    "#     health_CA,\n",
    "#     x = years,\n",
    "#     y = poc_GHG,\n",
    "# #     color = \"Pollutant\"\n",
    "# )\n",
    "\n",
    "# # CA_GHG_plot.update_layout(linemode = 'group')\n",
    "\n",
    "# CA_health_plot.show()"
   ]
  },
  {
   "cell_type": "code",
   "execution_count": null,
   "id": "6b5fec1b",
   "metadata": {},
   "outputs": [],
   "source": [
    "# health_CA.to_csv(\"health_CA.csv\", index = False)\n",
    "# health_WA.to_csv(\"health_WA.csv\", index = False)\n",
    "# health_OR.to_csv(\"health_OR.csv\", index = False)\n",
    "# health_HI.to_csv(\"health_HI.csv\", index = False)\n",
    "# health_VT.to_csv(\"health_VT.csv\", index = False)\n",
    "# health_MA.to_csv(\"health_MA.csv\", index = False)\n",
    "# health_MD.to_csv(\"health_MD.csv\", index = False)\n",
    "# health_CO.to_csv(\"health_CO.csv\", index = False)\n",
    "# health_NV.to_csv(\"health_NV.csv\", index = False)\n",
    "# health_AZ.to_csv(\"health_AZ.csv\", index = False)\n",
    "# health_VA.to_csv(\"health_VA.csv\", index = False)\n",
    "# GHG_CA.to_csv(\"GHG_CA.csv\", index = False)\n",
    "# GHG_WA.to_csv(\"GHG_WA.csv\", index = False)\n",
    "# GHG_OR.to_csv(\"GHG_OR.csv\", index = False)\n",
    "# GHG_HI.to_csv(\"GHG_HI.csv\", index = False)\n",
    "# GHG_VT.to_csv(\"GHG_VT.csv\", index = False)\n",
    "# GHG_MA.to_csv(\"GHG_MA.csv\", index = False)\n",
    "# GHG_MD.to_csv(\"GHG_MD.csv\", index = False)\n",
    "# GHG_CO.to_csv(\"GHG_CO.csv\", index = False)\n",
    "# GHG_NV.to_csv(\"GHG_NV.csv\", index = False)\n",
    "# GHG_AZ.to_csv(\"GHG_AZ.csv\", index = False)\n",
    "# GHG_VA.to_csv(\"GHG_VA.csv\", index = False)\n",
    "\n",
    "# health_MI.to_csv(\"health_MI.csv\", index = False)\n",
    "# health_ND.to_csv(\"health_ND.csv\", index = False)\n",
    "# health_LA.to_csv(\"health_LA.csv\", index = False)\n",
    "# health_WY.to_csv(\"health_WY.csv\", index = False)\n",
    "# health_AL.to_csv(\"health_AL.csv\", index = False)\n",
    "# health_SD.to_csv(\"health_SD.csv\", index = False)\n",
    "# health_WV.to_csv(\"health_WV.csv\", index = False)\n",
    "# health_AR.to_csv(\"health_AR.csv\", index = False)\n",
    "# health_OK.to_csv(\"health_OK.csv\", index = False)\n",
    "# health_KY.to_csv(\"health_KY.csv\", index = False)\n",
    "# GHG_MI.to_csv(\"GHG_MI.csv\", index = False)\n",
    "# GHG_ND.to_csv(\"GHG_ND.csv\", index = False)\n",
    "# GHG_LA.to_csv(\"GHG_LA.csv\", index = False)\n",
    "# GHG_WY.to_csv(\"GHG_WY.csv\", index = False)\n",
    "# GHG_AL.to_csv(\"GHG_AL.csv\", index = False)\n",
    "# GHG_SD.to_csv(\"GHG_SD.csv\", index = False)\n",
    "# GHG_WV.to_csv(\"GHG_WV.csv\", index = False)\n",
    "# GHG_AR.to_csv(\"GHG_AR.csv\", index = False)\n",
    "# GHG_OK.to_csv(\"GHG_OK.csv\", index = False)\n",
    "# GHG_KY.to_csv(\"GHG_KY.csv\", index = False)"
   ]
  },
  {
   "cell_type": "code",
   "execution_count": null,
   "id": "6fd02c96",
   "metadata": {},
   "outputs": [],
   "source": [
    "# nei_by_pollutant = pd.DataFrame({\n",
    "#     \"Pollutant\":pd.Series(dtype='str'),\n",
    "#     \"Symbol\": pd.Series(dtype='str'),\n",
    "#     \"State\":pd.Series(dtype='str'),\n",
    "#     \"CAV_adoption\":pd.Series(dtype='str'),\n",
    "#     \"Year\":pd.Series(dtype='int'),\n",
    "#     \"Concern\":pd.Series(dtype='str'),\n",
    "#     \"Total Emissions\":pd.Series(dtype='float'),\n",
    "#     \"UOM\":pd.Series(dtype='str')\n",
    "# }, index = [\"Pollutant\"])\n",
    "\n",
    "# nei_by_pollutant.reset_index()\n",
    "# print(type(nei_by_pollutant))"
   ]
  },
  {
   "cell_type": "code",
   "execution_count": null,
   "id": "620ae6b3",
   "metadata": {},
   "outputs": [],
   "source": []
  },
  {
   "cell_type": "code",
   "execution_count": null,
   "id": "9c44f2d7",
   "metadata": {},
   "outputs": [],
   "source": []
  },
  {
   "cell_type": "code",
   "execution_count": null,
   "id": "de8c79d9",
   "metadata": {},
   "outputs": [],
   "source": []
  }
 ],
 "metadata": {
  "kernelspec": {
   "display_name": "Python 3 (ipykernel)",
   "language": "python",
   "name": "python3"
  },
  "language_info": {
   "codemirror_mode": {
    "name": "ipython",
    "version": 3
   },
   "file_extension": ".py",
   "mimetype": "text/x-python",
   "name": "python",
   "nbconvert_exporter": "python",
   "pygments_lexer": "ipython3",
   "version": "3.9.13"
  }
 },
 "nbformat": 4,
 "nbformat_minor": 5
}
